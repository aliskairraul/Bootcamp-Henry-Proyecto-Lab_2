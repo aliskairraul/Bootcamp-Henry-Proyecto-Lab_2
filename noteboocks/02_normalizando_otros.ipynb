{
 "cells": [
  {
   "cell_type": "markdown",
   "metadata": {},
   "source": [
    "# **Objetivo del Cuaderno Jupyter**\n",
    "- Normalizar las tablas relacionadas con los archivos `Telefonia_movil.xlsx`, `telefonia_fija.xlsx` y `Television.xlsx` del siguiente EDR<br>\n",
    "<br>\n",
    "<img src='assets/EDR.png'><br>\n",
    "<br>\n"
   ]
  },
  {
   "cell_type": "markdown",
   "metadata": {},
   "source": [
    "Importando Librerias"
   ]
  },
  {
   "cell_type": "code",
   "execution_count": 35,
   "metadata": {},
   "outputs": [],
   "source": [
    "import polars as pl"
   ]
  },
  {
   "cell_type": "markdown",
   "metadata": {},
   "source": [
    "Importando Conexion a Base de Datos"
   ]
  },
  {
   "cell_type": "code",
   "execution_count": 36,
   "metadata": {},
   "outputs": [],
   "source": [
    "from db.connection import engine_sqlalchemy"
   ]
  },
  {
   "cell_type": "markdown",
   "metadata": {},
   "source": [
    "***\n",
    "## **Creando tabla `telefonia_movil`**"
   ]
  },
  {
   "cell_type": "markdown",
   "metadata": {},
   "source": [
    "Lectura de Datasets necesarios para crear la Tabla"
   ]
  },
  {
   "cell_type": "code",
   "execution_count": 37,
   "metadata": {},
   "outputs": [],
   "source": [
    "sms = pl.read_excel('datasets_iniciales/telefonia_movil.xlsx', sheet_name='SMS')\n",
    "\n",
    "llamadas_salientes = pl.read_excel('datasets_iniciales/telefonia_movil.xlsx', sheet_name='Llamadas salientes')\n",
    "\n",
    "minutos_salientes = pl.read_excel('datasets_iniciales/telefonia_movil.xlsx', sheet_name='Minutos salientes')\n",
    "\n",
    "ingresos = pl.read_excel('datasets_iniciales/telefonia_movil.xlsx', sheet_name='Ingresos')\n",
    "\n",
    "penetracion = pl.read_excel('datasets_iniciales/telefonia_movil.xlsx', sheet_name='Penetracion')\n",
    "\n",
    "accesos = pl.read_excel('datasets_iniciales/telefonia_movil.xlsx', sheet_name='Accesos')"
   ]
  },
  {
   "cell_type": "markdown",
   "metadata": {},
   "source": [
    "Creemos un `id` y podemos utilizarlo para hacer `join`. "
   ]
  },
  {
   "cell_type": "code",
   "execution_count": 38,
   "metadata": {},
   "outputs": [],
   "source": [
    "sms = sms.with_columns((pl.col('Año') * 100 + pl.col('Trimestre')).alias('id'))\n",
    "\n",
    "llamadas_salientes = llamadas_salientes.with_columns((pl.col('Año') * 100 + pl.col('Trimestre')).alias('id'))\n",
    "\n",
    "minutos_salientes = minutos_salientes.with_columns((pl.col('Año') * 100 + pl.col('Trimestre')).alias('id'))\n",
    "\n",
    "ingresos = ingresos.with_columns((pl.col('Año') * 100 + pl.col('Trimestre')).alias('id'))\n",
    "\n",
    "penetracion = penetracion.with_columns((pl.col('Año') * 100 + pl.col('Trimestre')).alias('id'))\n",
    "\n",
    "accesos = accesos.with_columns((pl.col('Año') * 100 + pl.col('Trimestre')).alias('id'))"
   ]
  },
  {
   "cell_type": "code",
   "execution_count": 39,
   "metadata": {},
   "outputs": [
    {
     "data": {
      "text/html": [
       "<div><style>\n",
       ".dataframe > thead > tr,\n",
       ".dataframe > tbody > tr {\n",
       "  text-align: right;\n",
       "  white-space: pre-wrap;\n",
       "}\n",
       "</style>\n",
       "<small>shape: (1, 5)</small><table border=\"1\" class=\"dataframe\"><thead><tr><th>Año</th><th>Trimestre</th><th>Número de SMS salientes</th><th>Periodo</th><th>id</th></tr><tr><td>i64</td><td>i64</td><td>i64</td><td>str</td><td>i64</td></tr></thead><tbody><tr><td>2013</td><td>1</td><td>36430004057</td><td>&quot;Ene-Mar 2013&quot;</td><td>201301</td></tr></tbody></table></div>"
      ],
      "text/plain": [
       "shape: (1, 5)\n",
       "┌──────┬───────────┬─────────────────────────┬──────────────┬────────┐\n",
       "│ Año  ┆ Trimestre ┆ Número de SMS salientes ┆ Periodo      ┆ id     │\n",
       "│ ---  ┆ ---       ┆ ---                     ┆ ---          ┆ ---    │\n",
       "│ i64  ┆ i64       ┆ i64                     ┆ str          ┆ i64    │\n",
       "╞══════╪═══════════╪═════════════════════════╪══════════════╪════════╡\n",
       "│ 2013 ┆ 1         ┆ 36430004057             ┆ Ene-Mar 2013 ┆ 201301 │\n",
       "└──────┴───────────┴─────────────────────────┴──────────────┴────────┘"
      ]
     },
     "execution_count": 39,
     "metadata": {},
     "output_type": "execute_result"
    }
   ],
   "source": [
    "sms.head(1)"
   ]
  },
  {
   "cell_type": "code",
   "execution_count": 6,
   "metadata": {},
   "outputs": [
    {
     "data": {
      "text/html": [
       "<div><style>\n",
       ".dataframe > thead > tr,\n",
       ".dataframe > tbody > tr {\n",
       "  text-align: right;\n",
       "  white-space: pre-wrap;\n",
       "}\n",
       "</style>\n",
       "<small>shape: (1, 7)</small><table border=\"1\" class=\"dataframe\"><thead><tr><th>Año</th><th>Trimestre</th><th>Llamadas pospago salientes (miles)</th><th>Llamadas prepago salientes (miles)</th><th>Total de llamadas salientes (miles)</th><th>Periodo</th><th>id</th></tr><tr><td>i64</td><td>i64</td><td>f64</td><td>f64</td><td>f64</td><td>str</td><td>i64</td></tr></thead><tbody><tr><td>2013</td><td>1</td><td>3.796547e6</td><td>3.412766e6</td><td>7.209313e6</td><td>&quot;Ene-Mar 2013&quot;</td><td>201301</td></tr></tbody></table></div>"
      ],
      "text/plain": [
       "shape: (1, 7)\n",
       "┌──────┬───────────┬──────────────────┬──────────────────┬─────────────────┬──────────────┬────────┐\n",
       "│ Año  ┆ Trimestre ┆ Llamadas pospago ┆ Llamadas prepago ┆ Total de        ┆ Periodo      ┆ id     │\n",
       "│ ---  ┆ ---       ┆ salientes (mi…   ┆ salientes (mi…   ┆ llamadas        ┆ ---          ┆ ---    │\n",
       "│ i64  ┆ i64       ┆ ---              ┆ ---              ┆ salientes (m…   ┆ str          ┆ i64    │\n",
       "│      ┆           ┆ f64              ┆ f64              ┆ ---             ┆              ┆        │\n",
       "│      ┆           ┆                  ┆                  ┆ f64             ┆              ┆        │\n",
       "╞══════╪═══════════╪══════════════════╪══════════════════╪═════════════════╪══════════════╪════════╡\n",
       "│ 2013 ┆ 1         ┆ 3.796547e6       ┆ 3.412766e6       ┆ 7.209313e6      ┆ Ene-Mar 2013 ┆ 201301 │\n",
       "└──────┴───────────┴──────────────────┴──────────────────┴─────────────────┴──────────────┴────────┘"
      ]
     },
     "execution_count": 6,
     "metadata": {},
     "output_type": "execute_result"
    }
   ],
   "source": [
    "llamadas_salientes.head(1)"
   ]
  },
  {
   "cell_type": "code",
   "execution_count": 7,
   "metadata": {},
   "outputs": [
    {
     "data": {
      "text/html": [
       "<div><style>\n",
       ".dataframe > thead > tr,\n",
       ".dataframe > tbody > tr {\n",
       "  text-align: right;\n",
       "  white-space: pre-wrap;\n",
       "}\n",
       "</style>\n",
       "<small>shape: (1, 7)</small><table border=\"1\" class=\"dataframe\"><thead><tr><th>Año</th><th>Trimestre</th><th>Minutos pospago salientes (miles)</th><th>Minutos prepago salientes (miles)</th><th>Total de minutos salientes (miles)</th><th>Periodo</th><th>id</th></tr><tr><td>i64</td><td>i64</td><td>f64</td><td>f64</td><td>f64</td><td>str</td><td>i64</td></tr></thead><tbody><tr><td>2013</td><td>1</td><td>8.785943e6</td><td>6.582117e6</td><td>1.536806e7</td><td>&quot;Ene-Mar 2013&quot;</td><td>201301</td></tr></tbody></table></div>"
      ],
      "text/plain": [
       "shape: (1, 7)\n",
       "┌──────┬───────────┬──────────────────┬──────────────────┬─────────────────┬──────────────┬────────┐\n",
       "│ Año  ┆ Trimestre ┆ Minutos pospago  ┆ Minutos prepago  ┆ Total de        ┆ Periodo      ┆ id     │\n",
       "│ ---  ┆ ---       ┆ salientes (mil…  ┆ salientes (mil…  ┆ minutos         ┆ ---          ┆ ---    │\n",
       "│ i64  ┆ i64       ┆ ---              ┆ ---              ┆ salientes (mi…  ┆ str          ┆ i64    │\n",
       "│      ┆           ┆ f64              ┆ f64              ┆ ---             ┆              ┆        │\n",
       "│      ┆           ┆                  ┆                  ┆ f64             ┆              ┆        │\n",
       "╞══════╪═══════════╪══════════════════╪══════════════════╪═════════════════╪══════════════╪════════╡\n",
       "│ 2013 ┆ 1         ┆ 8.785943e6       ┆ 6.582117e6       ┆ 1.536806e7      ┆ Ene-Mar 2013 ┆ 201301 │\n",
       "└──────┴───────────┴──────────────────┴──────────────────┴─────────────────┴──────────────┴────────┘"
      ]
     },
     "execution_count": 7,
     "metadata": {},
     "output_type": "execute_result"
    }
   ],
   "source": [
    "minutos_salientes.head(1)"
   ]
  },
  {
   "cell_type": "code",
   "execution_count": 8,
   "metadata": {},
   "outputs": [
    {
     "data": {
      "text/html": [
       "<div><style>\n",
       ".dataframe > thead > tr,\n",
       ".dataframe > tbody > tr {\n",
       "  text-align: right;\n",
       "  white-space: pre-wrap;\n",
       "}\n",
       "</style>\n",
       "<small>shape: (1, 5)</small><table border=\"1\" class=\"dataframe\"><thead><tr><th>Año</th><th>Trimestre</th><th>Ingresos (miles de $)</th><th>Periodo</th><th>id</th></tr><tr><td>i64</td><td>i64</td><td>i64</td><td>str</td><td>i64</td></tr></thead><tbody><tr><td>2013</td><td>1</td><td>13135235</td><td>&quot;Ene-Mar 2013&quot;</td><td>201301</td></tr></tbody></table></div>"
      ],
      "text/plain": [
       "shape: (1, 5)\n",
       "┌──────┬───────────┬───────────────────────┬──────────────┬────────┐\n",
       "│ Año  ┆ Trimestre ┆ Ingresos (miles de $) ┆ Periodo      ┆ id     │\n",
       "│ ---  ┆ ---       ┆ ---                   ┆ ---          ┆ ---    │\n",
       "│ i64  ┆ i64       ┆ i64                   ┆ str          ┆ i64    │\n",
       "╞══════╪═══════════╪═══════════════════════╪══════════════╪════════╡\n",
       "│ 2013 ┆ 1         ┆ 13135235              ┆ Ene-Mar 2013 ┆ 201301 │\n",
       "└──────┴───────────┴───────────────────────┴──────────────┴────────┘"
      ]
     },
     "execution_count": 8,
     "metadata": {},
     "output_type": "execute_result"
    }
   ],
   "source": [
    "ingresos.head(1)"
   ]
  },
  {
   "cell_type": "code",
   "execution_count": 9,
   "metadata": {},
   "outputs": [
    {
     "data": {
      "text/html": [
       "<div><style>\n",
       ".dataframe > thead > tr,\n",
       ".dataframe > tbody > tr {\n",
       "  text-align: right;\n",
       "  white-space: pre-wrap;\n",
       "}\n",
       "</style>\n",
       "<small>shape: (1, 5)</small><table border=\"1\" class=\"dataframe\"><thead><tr><th>Año</th><th>Trimestre</th><th>Accesos por cada 100 hab</th><th>Periodo</th><th>id</th></tr><tr><td>i64</td><td>i64</td><td>f64</td><td>str</td><td>i64</td></tr></thead><tbody><tr><td>2013</td><td>1</td><td>154.37</td><td>&quot;Ene-Mar 2013&quot;</td><td>201301</td></tr></tbody></table></div>"
      ],
      "text/plain": [
       "shape: (1, 5)\n",
       "┌──────┬───────────┬──────────────────────────┬──────────────┬────────┐\n",
       "│ Año  ┆ Trimestre ┆ Accesos por cada 100 hab ┆ Periodo      ┆ id     │\n",
       "│ ---  ┆ ---       ┆ ---                      ┆ ---          ┆ ---    │\n",
       "│ i64  ┆ i64       ┆ f64                      ┆ str          ┆ i64    │\n",
       "╞══════╪═══════════╪══════════════════════════╪══════════════╪════════╡\n",
       "│ 2013 ┆ 1         ┆ 154.37                   ┆ Ene-Mar 2013 ┆ 201301 │\n",
       "└──────┴───────────┴──────────────────────────┴──────────────┴────────┘"
      ]
     },
     "execution_count": 9,
     "metadata": {},
     "output_type": "execute_result"
    }
   ],
   "source": [
    "penetracion.head(1)"
   ]
  },
  {
   "cell_type": "code",
   "execution_count": 10,
   "metadata": {},
   "outputs": [
    {
     "data": {
      "text/html": [
       "<div><style>\n",
       ".dataframe > thead > tr,\n",
       ".dataframe > tbody > tr {\n",
       "  text-align: right;\n",
       "  white-space: pre-wrap;\n",
       "}\n",
       "</style>\n",
       "<small>shape: (1, 7)</small><table border=\"1\" class=\"dataframe\"><thead><tr><th>Año</th><th>Trimestre</th><th>Total de accesos pospago</th><th>Total de accesos prepago</th><th>Total de accesos operativos</th><th>Periodo</th><th>id</th></tr><tr><td>i64</td><td>i64</td><td>f64</td><td>f64</td><td>i64</td><td>str</td><td>i64</td></tr></thead><tbody><tr><td>2013</td><td>1</td><td>7.761349e6</td><td>5.7147608e7</td><td>64908957</td><td>&quot;Ene-Mar 2013&quot;</td><td>201301</td></tr></tbody></table></div>"
      ],
      "text/plain": [
       "shape: (1, 7)\n",
       "┌──────┬───────────┬─────────────────────┬────────────────────┬────────────┬──────────────┬────────┐\n",
       "│ Año  ┆ Trimestre ┆ Total de accesos    ┆ Total de accesos   ┆ Total de   ┆ Periodo      ┆ id     │\n",
       "│ ---  ┆ ---       ┆ pospago             ┆ prepago            ┆ accesos    ┆ ---          ┆ ---    │\n",
       "│ i64  ┆ i64       ┆ ---                 ┆ ---                ┆ operativos ┆ str          ┆ i64    │\n",
       "│      ┆           ┆ f64                 ┆ f64                ┆ ---        ┆              ┆        │\n",
       "│      ┆           ┆                     ┆                    ┆ i64        ┆              ┆        │\n",
       "╞══════╪═══════════╪═════════════════════╪════════════════════╪════════════╪══════════════╪════════╡\n",
       "│ 2013 ┆ 1         ┆ 7.761349e6          ┆ 5.7147608e7        ┆ 64908957   ┆ Ene-Mar 2013 ┆ 201301 │\n",
       "└──────┴───────────┴─────────────────────┴────────────────────┴────────────┴──────────────┴────────┘"
      ]
     },
     "execution_count": 10,
     "metadata": {},
     "output_type": "execute_result"
    }
   ],
   "source": [
    "accesos.head(1)"
   ]
  },
  {
   "cell_type": "markdown",
   "metadata": {},
   "source": [
    "Creo a `telefonia_movil` a partir de una de estas tablas, y a partir de allí hago `join` contra las otras"
   ]
  },
  {
   "cell_type": "code",
   "execution_count": 40,
   "metadata": {},
   "outputs": [
    {
     "data": {
      "text/html": [
       "<div><style>\n",
       ".dataframe > thead > tr,\n",
       ".dataframe > tbody > tr {\n",
       "  text-align: right;\n",
       "  white-space: pre-wrap;\n",
       "}\n",
       "</style>\n",
       "<small>shape: (5, 12)</small><table border=\"1\" class=\"dataframe\"><thead><tr><th>id</th><th>Año</th><th>Trimestre</th><th>Llamadas pospago salientes (miles)</th><th>Llamadas prepago salientes (miles)</th><th>Número de SMS salientes</th><th>Minutos pospago salientes (miles)</th><th>Minutos prepago salientes (miles)</th><th>Ingresos (miles de $)</th><th>Accesos por cada 100 hab</th><th>Total de accesos pospago</th><th>Total de accesos prepago</th></tr><tr><td>i64</td><td>i64</td><td>i64</td><td>f64</td><td>f64</td><td>i64</td><td>f64</td><td>f64</td><td>i64</td><td>f64</td><td>f64</td><td>f64</td></tr></thead><tbody><tr><td>201301</td><td>2013</td><td>1</td><td>3.796547e6</td><td>3.412766e6</td><td>36430004057</td><td>8.785943e6</td><td>6.582117e6</td><td>13135235</td><td>154.37</td><td>7.761349e6</td><td>5.7147608e7</td></tr><tr><td>201302</td><td>2013</td><td>2</td><td>4.156872e6</td><td>3.699387e6</td><td>34255065773</td><td>9.512689e6</td><td>7.10864e6</td><td>13970806</td><td>156.0</td><td>7.76911e6</td><td>5.8004822e7</td></tr><tr><td>201303</td><td>2013</td><td>3</td><td>4.466727e6</td><td>3.814925e6</td><td>33217669903</td><td>1.0315484e7</td><td>7.335154e6</td><td>15235659</td><td>158.59</td><td>8.002183e6</td><td>5.9048909e7</td></tr><tr><td>201304</td><td>2013</td><td>4</td><td>4.743791e6</td><td>3.906876e6</td><td>22547130953</td><td>9.809515e6</td><td>6.250549e6</td><td>16218846</td><td>159.37</td><td>8.674516e6</td><td>5.8894516e7</td></tr><tr><td>201401</td><td>2014</td><td>1</td><td>4.001399e6</td><td>3.589181e6</td><td>18393198881</td><td>1.0128751e7</td><td>5.799223e6</td><td>15938353</td><td>148.07</td><td>8.224482e6</td><td>5.4725089e7</td></tr></tbody></table></div>"
      ],
      "text/plain": [
       "shape: (5, 12)\n",
       "┌────────┬──────┬───────────┬─────────────┬───┬─────────────┬────────────┬────────────┬────────────┐\n",
       "│ id     ┆ Año  ┆ Trimestre ┆ Llamadas    ┆ … ┆ Ingresos    ┆ Accesos    ┆ Total de   ┆ Total de   │\n",
       "│ ---    ┆ ---  ┆ ---       ┆ pospago     ┆   ┆ (miles de   ┆ por cada   ┆ accesos    ┆ accesos    │\n",
       "│ i64    ┆ i64  ┆ i64       ┆ salientes   ┆   ┆ $)          ┆ 100 hab    ┆ pospago    ┆ prepago    │\n",
       "│        ┆      ┆           ┆ (mi…        ┆   ┆ ---         ┆ ---        ┆ ---        ┆ ---        │\n",
       "│        ┆      ┆           ┆ ---         ┆   ┆ i64         ┆ f64        ┆ f64        ┆ f64        │\n",
       "│        ┆      ┆           ┆ f64         ┆   ┆             ┆            ┆            ┆            │\n",
       "╞════════╪══════╪═══════════╪═════════════╪═══╪═════════════╪════════════╪════════════╪════════════╡\n",
       "│ 201301 ┆ 2013 ┆ 1         ┆ 3.796547e6  ┆ … ┆ 13135235    ┆ 154.37     ┆ 7.761349e6 ┆ 5.7147608e │\n",
       "│        ┆      ┆           ┆             ┆   ┆             ┆            ┆            ┆ 7          │\n",
       "│ 201302 ┆ 2013 ┆ 2         ┆ 4.156872e6  ┆ … ┆ 13970806    ┆ 156.0      ┆ 7.76911e6  ┆ 5.8004822e │\n",
       "│        ┆      ┆           ┆             ┆   ┆             ┆            ┆            ┆ 7          │\n",
       "│ 201303 ┆ 2013 ┆ 3         ┆ 4.466727e6  ┆ … ┆ 15235659    ┆ 158.59     ┆ 8.002183e6 ┆ 5.9048909e │\n",
       "│        ┆      ┆           ┆             ┆   ┆             ┆            ┆            ┆ 7          │\n",
       "│ 201304 ┆ 2013 ┆ 4         ┆ 4.743791e6  ┆ … ┆ 16218846    ┆ 159.37     ┆ 8.674516e6 ┆ 5.8894516e │\n",
       "│        ┆      ┆           ┆             ┆   ┆             ┆            ┆            ┆ 7          │\n",
       "│ 201401 ┆ 2014 ┆ 1         ┆ 4.001399e6  ┆ … ┆ 15938353    ┆ 148.07     ┆ 8.224482e6 ┆ 5.4725089e │\n",
       "│        ┆      ┆           ┆             ┆   ┆             ┆            ┆            ┆ 7          │\n",
       "└────────┴──────┴───────────┴─────────────┴───┴─────────────┴────────────┴────────────┴────────────┘"
      ]
     },
     "execution_count": 40,
     "metadata": {},
     "output_type": "execute_result"
    }
   ],
   "source": [
    "telefonia_movil = llamadas_salientes['id', 'Año','Trimestre', 'Llamadas pospago salientes (miles)',\n",
    "                                     'Llamadas prepago salientes (miles)' ]\n",
    "\n",
    "\n",
    "columns = ['id', 'Número de SMS salientes']\n",
    "telefonia_movil = telefonia_movil.join( sms[columns], on='id', how='left', coalesce=True)\n",
    "\n",
    "columns = ['id', 'Minutos pospago salientes (miles)', 'Minutos prepago salientes (miles)']\n",
    "telefonia_movil = telefonia_movil.join( minutos_salientes[columns], on='id', how='left', coalesce=True)\n",
    "\n",
    "columns = ['id', 'Ingresos (miles de $)' ]\n",
    "telefonia_movil = telefonia_movil.join( ingresos[columns], on='id', how='left', coalesce=True)\n",
    "\n",
    "columns = ['id', 'Accesos por cada 100 hab']\n",
    "telefonia_movil = telefonia_movil.join( penetracion[columns], on='id', how='left', coalesce=True)\n",
    "\n",
    "columns = ['id', 'Total de accesos pospago', 'Total de accesos prepago']\n",
    "telefonia_movil = telefonia_movil.join( accesos[columns], on='id', how='left', coalesce=True)\n",
    "\n",
    "telefonia_movil.head()"
   ]
  },
  {
   "cell_type": "markdown",
   "metadata": {},
   "source": [
    "Cambio el nombre de las Columnas y ya estaría lista esta tabla"
   ]
  },
  {
   "cell_type": "code",
   "execution_count": 41,
   "metadata": {},
   "outputs": [
    {
     "data": {
      "text/html": [
       "<div><style>\n",
       ".dataframe > thead > tr,\n",
       ".dataframe > tbody > tr {\n",
       "  text-align: right;\n",
       "  white-space: pre-wrap;\n",
       "}\n",
       "</style>\n",
       "<small>shape: (5, 12)</small><table border=\"1\" class=\"dataframe\"><thead><tr><th>id</th><th>anio</th><th>trimestre</th><th>llamadas_post_miles</th><th>llamadas_pre_miles</th><th>sms_salientes</th><th>minutos_post_miles</th><th>minutos_pre_miles</th><th>ingresos_miles</th><th>accesos_100_hab</th><th>total_accesos_post</th><th>total_accesos_pre</th></tr><tr><td>i64</td><td>i64</td><td>i64</td><td>f64</td><td>f64</td><td>i64</td><td>f64</td><td>f64</td><td>i64</td><td>f64</td><td>f64</td><td>f64</td></tr></thead><tbody><tr><td>201301</td><td>2013</td><td>1</td><td>3.796547e6</td><td>3.412766e6</td><td>36430004057</td><td>8.785943e6</td><td>6.582117e6</td><td>13135235</td><td>154.37</td><td>7.761349e6</td><td>5.7147608e7</td></tr><tr><td>201302</td><td>2013</td><td>2</td><td>4.156872e6</td><td>3.699387e6</td><td>34255065773</td><td>9.512689e6</td><td>7.10864e6</td><td>13970806</td><td>156.0</td><td>7.76911e6</td><td>5.8004822e7</td></tr><tr><td>201303</td><td>2013</td><td>3</td><td>4.466727e6</td><td>3.814925e6</td><td>33217669903</td><td>1.0315484e7</td><td>7.335154e6</td><td>15235659</td><td>158.59</td><td>8.002183e6</td><td>5.9048909e7</td></tr><tr><td>201304</td><td>2013</td><td>4</td><td>4.743791e6</td><td>3.906876e6</td><td>22547130953</td><td>9.809515e6</td><td>6.250549e6</td><td>16218846</td><td>159.37</td><td>8.674516e6</td><td>5.8894516e7</td></tr><tr><td>201401</td><td>2014</td><td>1</td><td>4.001399e6</td><td>3.589181e6</td><td>18393198881</td><td>1.0128751e7</td><td>5.799223e6</td><td>15938353</td><td>148.07</td><td>8.224482e6</td><td>5.4725089e7</td></tr></tbody></table></div>"
      ],
      "text/plain": [
       "shape: (5, 12)\n",
       "┌────────┬──────┬───────────┬─────────────┬───┬─────────────┬────────────┬────────────┬────────────┐\n",
       "│ id     ┆ anio ┆ trimestre ┆ llamadas_po ┆ … ┆ ingresos_mi ┆ accesos_10 ┆ total_acce ┆ total_acce │\n",
       "│ ---    ┆ ---  ┆ ---       ┆ st_miles    ┆   ┆ les         ┆ 0_hab      ┆ sos_post   ┆ sos_pre    │\n",
       "│ i64    ┆ i64  ┆ i64       ┆ ---         ┆   ┆ ---         ┆ ---        ┆ ---        ┆ ---        │\n",
       "│        ┆      ┆           ┆ f64         ┆   ┆ i64         ┆ f64        ┆ f64        ┆ f64        │\n",
       "╞════════╪══════╪═══════════╪═════════════╪═══╪═════════════╪════════════╪════════════╪════════════╡\n",
       "│ 201301 ┆ 2013 ┆ 1         ┆ 3.796547e6  ┆ … ┆ 13135235    ┆ 154.37     ┆ 7.761349e6 ┆ 5.7147608e │\n",
       "│        ┆      ┆           ┆             ┆   ┆             ┆            ┆            ┆ 7          │\n",
       "│ 201302 ┆ 2013 ┆ 2         ┆ 4.156872e6  ┆ … ┆ 13970806    ┆ 156.0      ┆ 7.76911e6  ┆ 5.8004822e │\n",
       "│        ┆      ┆           ┆             ┆   ┆             ┆            ┆            ┆ 7          │\n",
       "│ 201303 ┆ 2013 ┆ 3         ┆ 4.466727e6  ┆ … ┆ 15235659    ┆ 158.59     ┆ 8.002183e6 ┆ 5.9048909e │\n",
       "│        ┆      ┆           ┆             ┆   ┆             ┆            ┆            ┆ 7          │\n",
       "│ 201304 ┆ 2013 ┆ 4         ┆ 4.743791e6  ┆ … ┆ 16218846    ┆ 159.37     ┆ 8.674516e6 ┆ 5.8894516e │\n",
       "│        ┆      ┆           ┆             ┆   ┆             ┆            ┆            ┆ 7          │\n",
       "│ 201401 ┆ 2014 ┆ 1         ┆ 4.001399e6  ┆ … ┆ 15938353    ┆ 148.07     ┆ 8.224482e6 ┆ 5.4725089e │\n",
       "│        ┆      ┆           ┆             ┆   ┆             ┆            ┆            ┆ 7          │\n",
       "└────────┴──────┴───────────┴─────────────┴───┴─────────────┴────────────┴────────────┴────────────┘"
      ]
     },
     "execution_count": 41,
     "metadata": {},
     "output_type": "execute_result"
    }
   ],
   "source": [
    "columns = ['id', 'anio', 'trimestre', 'llamadas_post_miles', 'llamadas_pre_miles', 'sms_salientes',\n",
    "           'minutos_post_miles', 'minutos_pre_miles', 'ingresos_miles', 'accesos_100_hab',\n",
    "           'total_accesos_post', 'total_accesos_pre']\n",
    "\n",
    "telefonia_movil.columns = columns\n",
    "\n",
    "telefonia_movil.head()"
   ]
  },
  {
   "cell_type": "markdown",
   "metadata": {},
   "source": [
    "Verifico Nulos antes de Continuar"
   ]
  },
  {
   "cell_type": "code",
   "execution_count": 42,
   "metadata": {},
   "outputs": [
    {
     "name": "stdout",
     "output_type": "stream",
     "text": [
      "Columna --> id\n",
      "Cantidad de Nulos --> 0\n",
      "**************************************************\n",
      "Columna --> anio\n",
      "Cantidad de Nulos --> 0\n",
      "**************************************************\n",
      "Columna --> trimestre\n",
      "Cantidad de Nulos --> 0\n",
      "**************************************************\n",
      "Columna --> llamadas_post_miles\n",
      "Cantidad de Nulos --> 0\n",
      "**************************************************\n",
      "Columna --> llamadas_pre_miles\n",
      "Cantidad de Nulos --> 0\n",
      "**************************************************\n",
      "Columna --> sms_salientes\n",
      "Cantidad de Nulos --> 0\n",
      "**************************************************\n",
      "Columna --> minutos_post_miles\n",
      "Cantidad de Nulos --> 0\n",
      "**************************************************\n",
      "Columna --> minutos_pre_miles\n",
      "Cantidad de Nulos --> 0\n",
      "**************************************************\n",
      "Columna --> ingresos_miles\n",
      "Cantidad de Nulos --> 0\n",
      "**************************************************\n",
      "Columna --> accesos_100_hab\n",
      "Cantidad de Nulos --> 0\n",
      "**************************************************\n",
      "Columna --> total_accesos_post\n",
      "Cantidad de Nulos --> 0\n",
      "**************************************************\n",
      "Columna --> total_accesos_pre\n",
      "Cantidad de Nulos --> 0\n",
      "**************************************************\n"
     ]
    }
   ],
   "source": [
    "for column in telefonia_movil.columns:\n",
    "    print(f'Columna --> {column}')\n",
    "    print(f'Cantidad de Nulos --> {telefonia_movil[column].is_null().sum()}')\n",
    "    print('*'*50)"
   ]
  },
  {
   "cell_type": "code",
   "execution_count": 43,
   "metadata": {},
   "outputs": [],
   "source": [
    "del sms\n",
    "del llamadas_salientes\n",
    "del minutos_salientes\n",
    "del ingresos\n",
    "del penetracion\n",
    "del accesos"
   ]
  },
  {
   "cell_type": "markdown",
   "metadata": {},
   "source": [
    "***\n",
    "## **Creando tabla `telefonia_fija`**"
   ]
  },
  {
   "cell_type": "markdown",
   "metadata": {},
   "source": [
    "Lectura de Datasets necesarios para crear la Tabla"
   ]
  },
  {
   "cell_type": "code",
   "execution_count": 44,
   "metadata": {},
   "outputs": [],
   "source": [
    "accesos_totales = pl.read_excel('datasets_iniciales/telefonia_fija.xlsx', sheet_name='Fija_accesos_tot')\n",
    "\n",
    "penetracion = pl.read_excel('datasets_iniciales/telefonia_fija.xlsx', sheet_name='Fija_penetracion_tot')\n",
    "\n",
    "ingresos = pl.read_excel('datasets_iniciales/telefonia_fija.xlsx', sheet_name='Fija_ingresos')"
   ]
  },
  {
   "cell_type": "markdown",
   "metadata": {},
   "source": [
    "Creemos un `id` y podemos utilizarlo para hacer `join`. "
   ]
  },
  {
   "cell_type": "code",
   "execution_count": 45,
   "metadata": {},
   "outputs": [],
   "source": [
    "accesos_totales = accesos_totales.with_columns((pl.col('Año') * 100 + pl.col('Trimestre')).alias('id'))\n",
    "\n",
    "penetracion = penetracion.with_columns((pl.col('Año') * 100 + pl.col('Trimestre')).alias('id'))\n",
    "\n",
    "ingresos = ingresos.with_columns((pl.col('Año') * 100 + pl.col('Trimestre')).alias('id'))"
   ]
  },
  {
   "cell_type": "code",
   "execution_count": 46,
   "metadata": {},
   "outputs": [
    {
     "data": {
      "text/html": [
       "<div><style>\n",
       ".dataframe > thead > tr,\n",
       ".dataframe > tbody > tr {\n",
       "  text-align: right;\n",
       "  white-space: pre-wrap;\n",
       "}\n",
       "</style>\n",
       "<small>shape: (1, 9)</small><table border=\"1\" class=\"dataframe\"><thead><tr><th>Año</th><th>Trimestre</th><th>Accesos telefonía fija (total)</th><th>Accesos telefonía fija (hogares)</th><th>Accesos telefonía fija (comercial)</th><th>Accesos telefonía fija (gobierno)</th><th>Accesos telefonía fija (otros)</th><th> Periodo </th><th>id</th></tr><tr><td>i64</td><td>i64</td><td>i64</td><td>i64</td><td>i64</td><td>i64</td><td>i64</td><td>str</td><td>i64</td></tr></thead><tbody><tr><td>2014</td><td>1</td><td>9562231</td><td>7897980</td><td>1065834</td><td>30917</td><td>567500</td><td>&quot;Ene-Mar 2014&quot;</td><td>201401</td></tr></tbody></table></div>"
      ],
      "text/plain": [
       "shape: (1, 9)\n",
       "┌──────┬───────────┬─────────────┬─────────────┬───┬────────────┬────────────┬────────────┬────────┐\n",
       "│ Año  ┆ Trimestre ┆ Accesos     ┆ Accesos     ┆ … ┆ Accesos    ┆ Accesos    ┆  Periodo   ┆ id     │\n",
       "│ ---  ┆ ---       ┆ telefonía   ┆ telefonía   ┆   ┆ telefonía  ┆ telefonía  ┆ ---        ┆ ---    │\n",
       "│ i64  ┆ i64       ┆ fija        ┆ fija        ┆   ┆ fija       ┆ fija       ┆ str        ┆ i64    │\n",
       "│      ┆           ┆ (total)     ┆ (hogare…    ┆   ┆ (gobier…   ┆ (otros)    ┆            ┆        │\n",
       "│      ┆           ┆ ---         ┆ ---         ┆   ┆ ---        ┆ ---        ┆            ┆        │\n",
       "│      ┆           ┆ i64         ┆ i64         ┆   ┆ i64        ┆ i64        ┆            ┆        │\n",
       "╞══════╪═══════════╪═════════════╪═════════════╪═══╪════════════╪════════════╪════════════╪════════╡\n",
       "│ 2014 ┆ 1         ┆ 9562231     ┆ 7897980     ┆ … ┆ 30917      ┆ 567500     ┆ Ene-Mar    ┆ 201401 │\n",
       "│      ┆           ┆             ┆             ┆   ┆            ┆            ┆ 2014       ┆        │\n",
       "└──────┴───────────┴─────────────┴─────────────┴───┴────────────┴────────────┴────────────┴────────┘"
      ]
     },
     "execution_count": 46,
     "metadata": {},
     "output_type": "execute_result"
    }
   ],
   "source": [
    "accesos_totales.head(1)"
   ]
  },
  {
   "cell_type": "code",
   "execution_count": 18,
   "metadata": {},
   "outputs": [
    {
     "data": {
      "text/html": [
       "<div><style>\n",
       ".dataframe > thead > tr,\n",
       ".dataframe > tbody > tr {\n",
       "  text-align: right;\n",
       "  white-space: pre-wrap;\n",
       "}\n",
       "</style>\n",
       "<small>shape: (1, 5)</small><table border=\"1\" class=\"dataframe\"><thead><tr><th>Año</th><th>Trimestre</th><th>Accesos telefonía fija por cada 100 hab</th><th>Accesos telefonía fija por cada 100 hogares</th><th>id</th></tr><tr><td>i64</td><td>i64</td><td>f64</td><td>f64</td><td>i64</td></tr></thead><tbody><tr><td>2024</td><td>1</td><td>14.719928</td><td>46.848116</td><td>202401</td></tr></tbody></table></div>"
      ],
      "text/plain": [
       "shape: (1, 5)\n",
       "┌──────┬───────────┬─────────────────────────────────┬─────────────────────────────────┬────────┐\n",
       "│ Año  ┆ Trimestre ┆ Accesos telefonía fija por cad… ┆ Accesos telefonía fija por cad… ┆ id     │\n",
       "│ ---  ┆ ---       ┆ ---                             ┆ ---                             ┆ ---    │\n",
       "│ i64  ┆ i64       ┆ f64                             ┆ f64                             ┆ i64    │\n",
       "╞══════╪═══════════╪═════════════════════════════════╪═════════════════════════════════╪════════╡\n",
       "│ 2024 ┆ 1         ┆ 14.719928                       ┆ 46.848116                       ┆ 202401 │\n",
       "└──────┴───────────┴─────────────────────────────────┴─────────────────────────────────┴────────┘"
      ]
     },
     "execution_count": 18,
     "metadata": {},
     "output_type": "execute_result"
    }
   ],
   "source": [
    "penetracion.head(1)"
   ]
  },
  {
   "cell_type": "code",
   "execution_count": 19,
   "metadata": {},
   "outputs": [
    {
     "data": {
      "text/html": [
       "<div><style>\n",
       ".dataframe > thead > tr,\n",
       ".dataframe > tbody > tr {\n",
       "  text-align: right;\n",
       "  white-space: pre-wrap;\n",
       "}\n",
       "</style>\n",
       "<small>shape: (1, 4)</small><table border=\"1\" class=\"dataframe\"><thead><tr><th>Año</th><th>Trimestre</th><th>Ingresos (miles de $)</th><th>id</th></tr><tr><td>i64</td><td>i64</td><td>f64</td><td>i64</td></tr></thead><tbody><tr><td>2014</td><td>1</td><td>2.9161e6</td><td>201401</td></tr></tbody></table></div>"
      ],
      "text/plain": [
       "shape: (1, 4)\n",
       "┌──────┬───────────┬───────────────────────┬────────┐\n",
       "│ Año  ┆ Trimestre ┆ Ingresos (miles de $) ┆ id     │\n",
       "│ ---  ┆ ---       ┆ ---                   ┆ ---    │\n",
       "│ i64  ┆ i64       ┆ f64                   ┆ i64    │\n",
       "╞══════╪═══════════╪═══════════════════════╪════════╡\n",
       "│ 2014 ┆ 1         ┆ 2.9161e6              ┆ 201401 │\n",
       "└──────┴───────────┴───────────────────────┴────────┘"
      ]
     },
     "execution_count": 19,
     "metadata": {},
     "output_type": "execute_result"
    }
   ],
   "source": [
    "ingresos.head(1)"
   ]
  },
  {
   "cell_type": "markdown",
   "metadata": {},
   "source": [
    "Creo a `telefonia_fija` a partir de una de estas tablas, y a partir de allí hago `join` contra las otras"
   ]
  },
  {
   "cell_type": "code",
   "execution_count": 47,
   "metadata": {},
   "outputs": [
    {
     "data": {
      "text/html": [
       "<div><style>\n",
       ".dataframe > thead > tr,\n",
       ".dataframe > tbody > tr {\n",
       "  text-align: right;\n",
       "  white-space: pre-wrap;\n",
       "}\n",
       "</style>\n",
       "<small>shape: (5, 10)</small><table border=\"1\" class=\"dataframe\"><thead><tr><th>id</th><th>Año</th><th>Trimestre</th><th>Accesos telefonía fija (hogares)</th><th>Accesos telefonía fija (comercial)</th><th>Accesos telefonía fija (gobierno)</th><th>Accesos telefonía fija (otros)</th><th>Accesos telefonía fija por cada 100 hab</th><th>Accesos telefonía fija por cada 100 hogares</th><th>Ingresos (miles de $)</th></tr><tr><td>i64</td><td>i64</td><td>i64</td><td>i64</td><td>i64</td><td>i64</td><td>i64</td><td>f64</td><td>f64</td><td>f64</td></tr></thead><tbody><tr><td>201401</td><td>2014</td><td>1</td><td>7897980</td><td>1065834</td><td>30917</td><td>567500</td><td>22.49197</td><td>74.044895</td><td>2.9161e6</td></tr><tr><td>201402</td><td>2014</td><td>2</td><td>7872511</td><td>1073038</td><td>31339</td><td>572106</td><td>22.399379</td><td>73.652844</td><td>2.9749e6</td></tr><tr><td>201403</td><td>2014</td><td>3</td><td>7924613</td><td>1091747</td><td>32516</td><td>564485</td><td>22.489194</td><td>73.860769</td><td>3.1055e6</td></tr><tr><td>201404</td><td>2014</td><td>4</td><td>7989623</td><td>1106502</td><td>33139</td><td>560488</td><td>22.606757</td><td>74.157887</td><td>3.3397e6</td></tr><tr><td>201501</td><td>2015</td><td>1</td><td>8358053</td><td>1134427</td><td>36888</td><td>556853</td><td>23.468438</td><td>76.891529</td><td>3.2601e6</td></tr></tbody></table></div>"
      ],
      "text/plain": [
       "shape: (5, 10)\n",
       "┌────────┬──────┬───────────┬─────────────┬───┬─────────────┬────────────┬────────────┬────────────┐\n",
       "│ id     ┆ Año  ┆ Trimestre ┆ Accesos     ┆ … ┆ Accesos     ┆ Accesos    ┆ Accesos    ┆ Ingresos   │\n",
       "│ ---    ┆ ---  ┆ ---       ┆ telefonía   ┆   ┆ telefonía   ┆ telefonía  ┆ telefonía  ┆ (miles de  │\n",
       "│ i64    ┆ i64  ┆ i64       ┆ fija        ┆   ┆ fija        ┆ fija por   ┆ fija por   ┆ $)         │\n",
       "│        ┆      ┆           ┆ (hogare…    ┆   ┆ (otros)     ┆ cad…       ┆ cad…       ┆ ---        │\n",
       "│        ┆      ┆           ┆ ---         ┆   ┆ ---         ┆ ---        ┆ ---        ┆ f64        │\n",
       "│        ┆      ┆           ┆ i64         ┆   ┆ i64         ┆ f64        ┆ f64        ┆            │\n",
       "╞════════╪══════╪═══════════╪═════════════╪═══╪═════════════╪════════════╪════════════╪════════════╡\n",
       "│ 201401 ┆ 2014 ┆ 1         ┆ 7897980     ┆ … ┆ 567500      ┆ 22.49197   ┆ 74.044895  ┆ 2.9161e6   │\n",
       "│ 201402 ┆ 2014 ┆ 2         ┆ 7872511     ┆ … ┆ 572106      ┆ 22.399379  ┆ 73.652844  ┆ 2.9749e6   │\n",
       "│ 201403 ┆ 2014 ┆ 3         ┆ 7924613     ┆ … ┆ 564485      ┆ 22.489194  ┆ 73.860769  ┆ 3.1055e6   │\n",
       "│ 201404 ┆ 2014 ┆ 4         ┆ 7989623     ┆ … ┆ 560488      ┆ 22.606757  ┆ 74.157887  ┆ 3.3397e6   │\n",
       "│ 201501 ┆ 2015 ┆ 1         ┆ 8358053     ┆ … ┆ 556853      ┆ 23.468438  ┆ 76.891529  ┆ 3.2601e6   │\n",
       "└────────┴──────┴───────────┴─────────────┴───┴─────────────┴────────────┴────────────┴────────────┘"
      ]
     },
     "execution_count": 47,
     "metadata": {},
     "output_type": "execute_result"
    }
   ],
   "source": [
    "columns = ['id', 'Año', 'Trimestre', 'Accesos telefonía fija (hogares)', 'Accesos telefonía fija (comercial)',\n",
    "           'Accesos telefonía fija (gobierno)', 'Accesos telefonía fija (otros)']\n",
    "telefonia_fija = accesos_totales[columns]\n",
    "\n",
    "columns = ['id', 'Accesos telefonía fija por cada 100 hab', 'Accesos telefonía fija por cada 100 hogares']\n",
    "telefonia_fija = telefonia_fija.join(\n",
    "    penetracion[columns], on='id', how='left', coalesce=True\n",
    ")\n",
    "\n",
    "columns = ['id', 'Ingresos (miles de $)']\n",
    "telefonia_fija = telefonia_fija.join(\n",
    "    ingresos[columns], on='id', how='left', coalesce=True\n",
    ")\n",
    "\n",
    "telefonia_fija.head()"
   ]
  },
  {
   "cell_type": "markdown",
   "metadata": {},
   "source": [
    "Cambio el nombre de las Columnas y ya estaría lista esta tabla"
   ]
  },
  {
   "cell_type": "code",
   "execution_count": 48,
   "metadata": {},
   "outputs": [
    {
     "data": {
      "text/html": [
       "<div><style>\n",
       ".dataframe > thead > tr,\n",
       ".dataframe > tbody > tr {\n",
       "  text-align: right;\n",
       "  white-space: pre-wrap;\n",
       "}\n",
       "</style>\n",
       "<small>shape: (5, 10)</small><table border=\"1\" class=\"dataframe\"><thead><tr><th>id</th><th>anio</th><th>trimestre</th><th>accesos_hogares</th><th>accesos_comercial</th><th>accesos_gobierno</th><th>accesos_otros</th><th>accesos_100_hab</th><th>accesos_100_hog</th><th>ingresos_miles</th></tr><tr><td>i64</td><td>i64</td><td>i64</td><td>i64</td><td>i64</td><td>i64</td><td>i64</td><td>f64</td><td>f64</td><td>f64</td></tr></thead><tbody><tr><td>201401</td><td>2014</td><td>1</td><td>7897980</td><td>1065834</td><td>30917</td><td>567500</td><td>22.49197</td><td>74.044895</td><td>2.9161e6</td></tr><tr><td>201402</td><td>2014</td><td>2</td><td>7872511</td><td>1073038</td><td>31339</td><td>572106</td><td>22.399379</td><td>73.652844</td><td>2.9749e6</td></tr><tr><td>201403</td><td>2014</td><td>3</td><td>7924613</td><td>1091747</td><td>32516</td><td>564485</td><td>22.489194</td><td>73.860769</td><td>3.1055e6</td></tr><tr><td>201404</td><td>2014</td><td>4</td><td>7989623</td><td>1106502</td><td>33139</td><td>560488</td><td>22.606757</td><td>74.157887</td><td>3.3397e6</td></tr><tr><td>201501</td><td>2015</td><td>1</td><td>8358053</td><td>1134427</td><td>36888</td><td>556853</td><td>23.468438</td><td>76.891529</td><td>3.2601e6</td></tr></tbody></table></div>"
      ],
      "text/plain": [
       "shape: (5, 10)\n",
       "┌────────┬──────┬───────────┬─────────────┬───┬─────────────┬────────────┬────────────┬────────────┐\n",
       "│ id     ┆ anio ┆ trimestre ┆ accesos_hog ┆ … ┆ accesos_otr ┆ accesos_10 ┆ accesos_10 ┆ ingresos_m │\n",
       "│ ---    ┆ ---  ┆ ---       ┆ ares        ┆   ┆ os          ┆ 0_hab      ┆ 0_hog      ┆ iles       │\n",
       "│ i64    ┆ i64  ┆ i64       ┆ ---         ┆   ┆ ---         ┆ ---        ┆ ---        ┆ ---        │\n",
       "│        ┆      ┆           ┆ i64         ┆   ┆ i64         ┆ f64        ┆ f64        ┆ f64        │\n",
       "╞════════╪══════╪═══════════╪═════════════╪═══╪═════════════╪════════════╪════════════╪════════════╡\n",
       "│ 201401 ┆ 2014 ┆ 1         ┆ 7897980     ┆ … ┆ 567500      ┆ 22.49197   ┆ 74.044895  ┆ 2.9161e6   │\n",
       "│ 201402 ┆ 2014 ┆ 2         ┆ 7872511     ┆ … ┆ 572106      ┆ 22.399379  ┆ 73.652844  ┆ 2.9749e6   │\n",
       "│ 201403 ┆ 2014 ┆ 3         ┆ 7924613     ┆ … ┆ 564485      ┆ 22.489194  ┆ 73.860769  ┆ 3.1055e6   │\n",
       "│ 201404 ┆ 2014 ┆ 4         ┆ 7989623     ┆ … ┆ 560488      ┆ 22.606757  ┆ 74.157887  ┆ 3.3397e6   │\n",
       "│ 201501 ┆ 2015 ┆ 1         ┆ 8358053     ┆ … ┆ 556853      ┆ 23.468438  ┆ 76.891529  ┆ 3.2601e6   │\n",
       "└────────┴──────┴───────────┴─────────────┴───┴─────────────┴────────────┴────────────┴────────────┘"
      ]
     },
     "execution_count": 48,
     "metadata": {},
     "output_type": "execute_result"
    }
   ],
   "source": [
    "columns = ['id', 'anio', 'trimestre', 'accesos_hogares', 'accesos_comercial', 'accesos_gobierno',\n",
    "           'accesos_otros', 'accesos_100_hab', 'accesos_100_hog', 'ingresos_miles']\n",
    "\n",
    "telefonia_fija.columns = columns\n",
    "\n",
    "telefonia_fija.head()"
   ]
  },
  {
   "cell_type": "markdown",
   "metadata": {},
   "source": [
    "Verifico Nulos Antes de continuar"
   ]
  },
  {
   "cell_type": "code",
   "execution_count": 49,
   "metadata": {},
   "outputs": [
    {
     "name": "stdout",
     "output_type": "stream",
     "text": [
      "Columna --> id\n",
      "Cantidad de Nulos --> 0\n",
      "**************************************************\n",
      "Columna --> anio\n",
      "Cantidad de Nulos --> 0\n",
      "**************************************************\n",
      "Columna --> trimestre\n",
      "Cantidad de Nulos --> 0\n",
      "**************************************************\n",
      "Columna --> accesos_hogares\n",
      "Cantidad de Nulos --> 0\n",
      "**************************************************\n",
      "Columna --> accesos_comercial\n",
      "Cantidad de Nulos --> 0\n",
      "**************************************************\n",
      "Columna --> accesos_gobierno\n",
      "Cantidad de Nulos --> 0\n",
      "**************************************************\n",
      "Columna --> accesos_otros\n",
      "Cantidad de Nulos --> 0\n",
      "**************************************************\n",
      "Columna --> accesos_100_hab\n",
      "Cantidad de Nulos --> 0\n",
      "**************************************************\n",
      "Columna --> accesos_100_hog\n",
      "Cantidad de Nulos --> 0\n",
      "**************************************************\n",
      "Columna --> ingresos_miles\n",
      "Cantidad de Nulos --> 0\n",
      "**************************************************\n"
     ]
    }
   ],
   "source": [
    "for column in telefonia_fija.columns:\n",
    "    print(f'Columna --> {column}')\n",
    "    print(f'Cantidad de Nulos --> {telefonia_fija[column].is_null().sum()}')\n",
    "    print('*'*50)"
   ]
  },
  {
   "cell_type": "code",
   "execution_count": 50,
   "metadata": {},
   "outputs": [],
   "source": [
    "del penetracion\n",
    "del accesos_totales\n",
    "del ingresos"
   ]
  },
  {
   "cell_type": "markdown",
   "metadata": {},
   "source": [
    "***\n",
    "## **Creando tabla `television`**"
   ]
  },
  {
   "cell_type": "markdown",
   "metadata": {},
   "source": [
    "Lectura de Datasets necesarios para crear la Tabla"
   ]
  },
  {
   "cell_type": "code",
   "execution_count": 51,
   "metadata": {},
   "outputs": [],
   "source": [
    "accesos = pl.read_excel('datasets_iniciales/Television.xlsx', sheet_name='Accesos_totales_TV')\n",
    "\n",
    "penetracion = pl.read_excel('datasets_iniciales/Television.xlsx', sheet_name='Penetracion_totales_TV')\n",
    "\n",
    "ingresos = pl.read_excel('datasets_iniciales/Television.xlsx', sheet_name='Ingresos_TV')"
   ]
  },
  {
   "cell_type": "markdown",
   "metadata": {},
   "source": [
    "Creemos un `id` y podemos utilizarlo para hacer `join`. "
   ]
  },
  {
   "cell_type": "code",
   "execution_count": 52,
   "metadata": {},
   "outputs": [],
   "source": [
    "accesos = accesos.with_columns((pl.col('Año') * 100 + pl.col('Trimestre')).alias('id'))\n",
    "\n",
    "penetracion = penetracion.with_columns((pl.col('Año') * 100 + pl.col('Trimestre')).alias('id'))\n",
    "\n",
    "ingresos = ingresos.with_columns((pl.col('Año') * 100 + pl.col('Trimestre')).alias('id'))"
   ]
  },
  {
   "cell_type": "code",
   "execution_count": 53,
   "metadata": {},
   "outputs": [
    {
     "data": {
      "text/html": [
       "<div><style>\n",
       ".dataframe > thead > tr,\n",
       ".dataframe > tbody > tr {\n",
       "  text-align: right;\n",
       "  white-space: pre-wrap;\n",
       "}\n",
       "</style>\n",
       "<small>shape: (1, 6)</small><table border=\"1\" class=\"dataframe\"><thead><tr><th>Año</th><th>Trimestre</th><th>Accesos TV por suscripción</th><th>Accesos TV satelital</th><th> Periodo </th><th>id</th></tr><tr><td>i64</td><td>i64</td><td>i64</td><td>i64</td><td>str</td><td>i64</td></tr></thead><tbody><tr><td>2024</td><td>1</td><td>7601499</td><td>1445205</td><td>&quot;Ene-Mar 2024&quot;</td><td>202401</td></tr></tbody></table></div>"
      ],
      "text/plain": [
       "shape: (1, 6)\n",
       "┌──────┬───────────┬────────────────────────────┬──────────────────────┬──────────────┬────────┐\n",
       "│ Año  ┆ Trimestre ┆ Accesos TV por suscripción ┆ Accesos TV satelital ┆  Periodo     ┆ id     │\n",
       "│ ---  ┆ ---       ┆ ---                        ┆ ---                  ┆ ---          ┆ ---    │\n",
       "│ i64  ┆ i64       ┆ i64                        ┆ i64                  ┆ str          ┆ i64    │\n",
       "╞══════╪═══════════╪════════════════════════════╪══════════════════════╪══════════════╪════════╡\n",
       "│ 2024 ┆ 1         ┆ 7601499                    ┆ 1445205              ┆ Ene-Mar 2024 ┆ 202401 │\n",
       "└──────┴───────────┴────────────────────────────┴──────────────────────┴──────────────┴────────┘"
      ]
     },
     "execution_count": 53,
     "metadata": {},
     "output_type": "execute_result"
    }
   ],
   "source": [
    "accesos.head(1)"
   ]
  },
  {
   "cell_type": "code",
   "execution_count": 54,
   "metadata": {},
   "outputs": [
    {
     "data": {
      "text/html": [
       "<div><style>\n",
       ".dataframe > thead > tr,\n",
       ".dataframe > tbody > tr {\n",
       "  text-align: right;\n",
       "  white-space: pre-wrap;\n",
       "}\n",
       "</style>\n",
       "<small>shape: (1, 7)</small><table border=\"1\" class=\"dataframe\"><thead><tr><th>Año</th><th>Trimestre</th><th>Accesos TV por suscripción por cada 100 hab</th><th>Accesos TV satelital por cada 100 hab</th><th>Accesos TV por suscripción por cada 100 hogares</th><th>Accesos TV satelital por cada 100 hogares</th><th>id</th></tr><tr><td>i64</td><td>i64</td><td>f64</td><td>f64</td><td>f64</td><td>f64</td><td>i64</td></tr></thead><tbody><tr><td>2024</td><td>1</td><td>16.2</td><td>3.08</td><td>51.55</td><td>9.8</td><td>202401</td></tr></tbody></table></div>"
      ],
      "text/plain": [
       "shape: (1, 7)\n",
       "┌──────┬───────────┬─────────────────┬─────────────────┬─────────────────┬────────────────┬────────┐\n",
       "│ Año  ┆ Trimestre ┆ Accesos TV por  ┆ Accesos TV      ┆ Accesos TV por  ┆ Accesos TV     ┆ id     │\n",
       "│ ---  ┆ ---       ┆ suscripción     ┆ satelital por   ┆ suscripción     ┆ satelital por  ┆ ---    │\n",
       "│ i64  ┆ i64       ┆ por…            ┆ cada …          ┆ por…            ┆ cada …         ┆ i64    │\n",
       "│      ┆           ┆ ---             ┆ ---             ┆ ---             ┆ ---            ┆        │\n",
       "│      ┆           ┆ f64             ┆ f64             ┆ f64             ┆ f64            ┆        │\n",
       "╞══════╪═══════════╪═════════════════╪═════════════════╪═════════════════╪════════════════╪════════╡\n",
       "│ 2024 ┆ 1         ┆ 16.2            ┆ 3.08            ┆ 51.55           ┆ 9.8            ┆ 202401 │\n",
       "└──────┴───────────┴─────────────────┴─────────────────┴─────────────────┴────────────────┴────────┘"
      ]
     },
     "execution_count": 54,
     "metadata": {},
     "output_type": "execute_result"
    }
   ],
   "source": [
    "penetracion.head(1)"
   ]
  },
  {
   "cell_type": "code",
   "execution_count": 55,
   "metadata": {},
   "outputs": [
    {
     "data": {
      "text/html": [
       "<div><style>\n",
       ".dataframe > thead > tr,\n",
       ".dataframe > tbody > tr {\n",
       "  text-align: right;\n",
       "  white-space: pre-wrap;\n",
       "}\n",
       "</style>\n",
       "<small>shape: (1, 5)</small><table border=\"1\" class=\"dataframe\"><thead><tr><th>Año</th><th>Trimestre</th><th>Ingresos TV por suscripción  (miles de $)</th><th>Ingresos TV satelital (miles de $)</th><th>id</th></tr><tr><td>i64</td><td>i64</td><td>f64</td><td>f64</td><td>i64</td></tr></thead><tbody><tr><td>2024</td><td>1</td><td>1.9079e8</td><td>9.4271e7</td><td>202401</td></tr></tbody></table></div>"
      ],
      "text/plain": [
       "shape: (1, 5)\n",
       "┌──────┬───────────┬─────────────────────────────────┬─────────────────────────────────┬────────┐\n",
       "│ Año  ┆ Trimestre ┆ Ingresos TV por suscripción  (… ┆ Ingresos TV satelital (miles d… ┆ id     │\n",
       "│ ---  ┆ ---       ┆ ---                             ┆ ---                             ┆ ---    │\n",
       "│ i64  ┆ i64       ┆ f64                             ┆ f64                             ┆ i64    │\n",
       "╞══════╪═══════════╪═════════════════════════════════╪═════════════════════════════════╪════════╡\n",
       "│ 2024 ┆ 1         ┆ 1.9079e8                        ┆ 9.4271e7                        ┆ 202401 │\n",
       "└──────┴───────────┴─────────────────────────────────┴─────────────────────────────────┴────────┘"
      ]
     },
     "execution_count": 55,
     "metadata": {},
     "output_type": "execute_result"
    }
   ],
   "source": [
    "ingresos.head(1)"
   ]
  },
  {
   "cell_type": "markdown",
   "metadata": {},
   "source": [
    "Creo a `television` a partir de una de estas tablas, y a partir de allí hago `join` contra las otras"
   ]
  },
  {
   "cell_type": "code",
   "execution_count": 56,
   "metadata": {},
   "outputs": [
    {
     "data": {
      "text/html": [
       "<div><style>\n",
       ".dataframe > thead > tr,\n",
       ".dataframe > tbody > tr {\n",
       "  text-align: right;\n",
       "  white-space: pre-wrap;\n",
       "}\n",
       "</style>\n",
       "<small>shape: (5, 11)</small><table border=\"1\" class=\"dataframe\"><thead><tr><th>id</th><th>Año</th><th>Trimestre</th><th>Accesos TV por suscripción por cada 100 hab</th><th>Accesos TV satelital por cada 100 hab</th><th>Accesos TV por suscripción por cada 100 hogares</th><th>Accesos TV satelital por cada 100 hogares</th><th>Accesos TV por suscripción</th><th>Accesos TV satelital</th><th>Ingresos TV por suscripción  (miles de $)</th><th>Ingresos TV satelital (miles de $)</th></tr><tr><td>i64</td><td>i64</td><td>i64</td><td>f64</td><td>f64</td><td>f64</td><td>f64</td><td>i64</td><td>i64</td><td>f64</td><td>f64</td></tr></thead><tbody><tr><td>202401</td><td>2024</td><td>1</td><td>16.2</td><td>3.08</td><td>51.55</td><td>9.8</td><td>7601499</td><td>1445205</td><td>1.9079e8</td><td>9.4271e7</td></tr><tr><td>202304</td><td>2023</td><td>4</td><td>16.34</td><td>3.22</td><td>52.05</td><td>10.26</td><td>7650809</td><td>1508789</td><td>1.3358e8</td><td>6.4749e7</td></tr><tr><td>202303</td><td>2023</td><td>3</td><td>16.57</td><td>3.6</td><td>52.84</td><td>11.49</td><td>7743735</td><td>1683205</td><td>1.0374e8</td><td>5.1179e7</td></tr><tr><td>202302</td><td>2023</td><td>2</td><td>17.32</td><td>3.72</td><td>55.29</td><td>11.88</td><td>8076400</td><td>1735655</td><td>8.7015e7</td><td>3.8625e7</td></tr><tr><td>202301</td><td>2023</td><td>1</td><td>16.71</td><td>3.8</td><td>53.36</td><td>12.13</td><td>7770412</td><td>1766221</td><td>7.4739e7</td><td>3.3431e7</td></tr></tbody></table></div>"
      ],
      "text/plain": [
       "shape: (5, 11)\n",
       "┌────────┬──────┬───────────┬─────────────┬───┬─────────────┬────────────┬────────────┬────────────┐\n",
       "│ id     ┆ Año  ┆ Trimestre ┆ Accesos TV  ┆ … ┆ Accesos TV  ┆ Accesos TV ┆ Ingresos   ┆ Ingresos   │\n",
       "│ ---    ┆ ---  ┆ ---       ┆ por         ┆   ┆ por         ┆ satelital  ┆ TV por sus ┆ TV         │\n",
       "│ i64    ┆ i64  ┆ i64       ┆ suscripción ┆   ┆ suscripción ┆ ---        ┆ cripción   ┆ satelital  │\n",
       "│        ┆      ┆           ┆ por…        ┆   ┆ ---         ┆ i64        ┆ (…         ┆ (miles d…  │\n",
       "│        ┆      ┆           ┆ ---         ┆   ┆ i64         ┆            ┆ ---        ┆ ---        │\n",
       "│        ┆      ┆           ┆ f64         ┆   ┆             ┆            ┆ f64        ┆ f64        │\n",
       "╞════════╪══════╪═══════════╪═════════════╪═══╪═════════════╪════════════╪════════════╪════════════╡\n",
       "│ 202401 ┆ 2024 ┆ 1         ┆ 16.2        ┆ … ┆ 7601499     ┆ 1445205    ┆ 1.9079e8   ┆ 9.4271e7   │\n",
       "│ 202304 ┆ 2023 ┆ 4         ┆ 16.34       ┆ … ┆ 7650809     ┆ 1508789    ┆ 1.3358e8   ┆ 6.4749e7   │\n",
       "│ 202303 ┆ 2023 ┆ 3         ┆ 16.57       ┆ … ┆ 7743735     ┆ 1683205    ┆ 1.0374e8   ┆ 5.1179e7   │\n",
       "│ 202302 ┆ 2023 ┆ 2         ┆ 17.32       ┆ … ┆ 8076400     ┆ 1735655    ┆ 8.7015e7   ┆ 3.8625e7   │\n",
       "│ 202301 ┆ 2023 ┆ 1         ┆ 16.71       ┆ … ┆ 7770412     ┆ 1766221    ┆ 7.4739e7   ┆ 3.3431e7   │\n",
       "└────────┴──────┴───────────┴─────────────┴───┴─────────────┴────────────┴────────────┴────────────┘"
      ]
     },
     "execution_count": 56,
     "metadata": {},
     "output_type": "execute_result"
    }
   ],
   "source": [
    "columns = ['id', 'Año', 'Trimestre', 'Accesos TV por suscripción por cada 100 hab', 'Accesos TV satelital por cada 100 hab',\n",
    "           'Accesos TV por suscripción por cada 100 hogares', 'Accesos TV satelital por cada 100 hogares']\n",
    "television = penetracion[columns]\n",
    "\n",
    "columns = ['id', 'Accesos TV por suscripción', 'Accesos TV satelital']\n",
    "television = television.join(\n",
    "    accesos[columns], on='id', how='left', coalesce=True\n",
    ")\n",
    "\n",
    "columns = ['id', 'Ingresos TV por suscripción  (miles de $)', 'Ingresos TV satelital (miles de $)']\n",
    "television = television.join(\n",
    "    ingresos[columns], on='id', how='left', coalesce=True\n",
    ")\n",
    "\n",
    "television.head()"
   ]
  },
  {
   "cell_type": "markdown",
   "metadata": {},
   "source": [
    "Cambio el nombre de las Columnas"
   ]
  },
  {
   "cell_type": "code",
   "execution_count": 57,
   "metadata": {},
   "outputs": [
    {
     "data": {
      "text/html": [
       "<div><style>\n",
       ".dataframe > thead > tr,\n",
       ".dataframe > tbody > tr {\n",
       "  text-align: right;\n",
       "  white-space: pre-wrap;\n",
       "}\n",
       "</style>\n",
       "<small>shape: (5, 11)</small><table border=\"1\" class=\"dataframe\"><thead><tr><th>id</th><th>anio</th><th>trimestre</th><th>accesos_susc_100_hab</th><th>accesos_sate_100_hab</th><th>accesos_susc_100_hog</th><th>accesos_sate_100_hog</th><th>accesos_tot_suscripcion</th><th>accesos_tot_satelital</th><th>ingresos_suscripcion_miles</th><th>ingresos_satelital_miles</th></tr><tr><td>i64</td><td>i64</td><td>i64</td><td>f64</td><td>f64</td><td>f64</td><td>f64</td><td>i64</td><td>i64</td><td>f64</td><td>f64</td></tr></thead><tbody><tr><td>202401</td><td>2024</td><td>1</td><td>16.2</td><td>3.08</td><td>51.55</td><td>9.8</td><td>7601499</td><td>1445205</td><td>1.9079e8</td><td>9.4271e7</td></tr><tr><td>202304</td><td>2023</td><td>4</td><td>16.34</td><td>3.22</td><td>52.05</td><td>10.26</td><td>7650809</td><td>1508789</td><td>1.3358e8</td><td>6.4749e7</td></tr><tr><td>202303</td><td>2023</td><td>3</td><td>16.57</td><td>3.6</td><td>52.84</td><td>11.49</td><td>7743735</td><td>1683205</td><td>1.0374e8</td><td>5.1179e7</td></tr><tr><td>202302</td><td>2023</td><td>2</td><td>17.32</td><td>3.72</td><td>55.29</td><td>11.88</td><td>8076400</td><td>1735655</td><td>8.7015e7</td><td>3.8625e7</td></tr><tr><td>202301</td><td>2023</td><td>1</td><td>16.71</td><td>3.8</td><td>53.36</td><td>12.13</td><td>7770412</td><td>1766221</td><td>7.4739e7</td><td>3.3431e7</td></tr></tbody></table></div>"
      ],
      "text/plain": [
       "shape: (5, 11)\n",
       "┌────────┬──────┬───────────┬─────────────┬───┬─────────────┬────────────┬────────────┬────────────┐\n",
       "│ id     ┆ anio ┆ trimestre ┆ accesos_sus ┆ … ┆ accesos_tot ┆ accesos_to ┆ ingresos_s ┆ ingresos_s │\n",
       "│ ---    ┆ ---  ┆ ---       ┆ c_100_hab   ┆   ┆ _suscripcio ┆ t_satelita ┆ uscripcion ┆ atelital_m │\n",
       "│ i64    ┆ i64  ┆ i64       ┆ ---         ┆   ┆ n           ┆ l          ┆ _miles     ┆ iles       │\n",
       "│        ┆      ┆           ┆ f64         ┆   ┆ ---         ┆ ---        ┆ ---        ┆ ---        │\n",
       "│        ┆      ┆           ┆             ┆   ┆ i64         ┆ i64        ┆ f64        ┆ f64        │\n",
       "╞════════╪══════╪═══════════╪═════════════╪═══╪═════════════╪════════════╪════════════╪════════════╡\n",
       "│ 202401 ┆ 2024 ┆ 1         ┆ 16.2        ┆ … ┆ 7601499     ┆ 1445205    ┆ 1.9079e8   ┆ 9.4271e7   │\n",
       "│ 202304 ┆ 2023 ┆ 4         ┆ 16.34       ┆ … ┆ 7650809     ┆ 1508789    ┆ 1.3358e8   ┆ 6.4749e7   │\n",
       "│ 202303 ┆ 2023 ┆ 3         ┆ 16.57       ┆ … ┆ 7743735     ┆ 1683205    ┆ 1.0374e8   ┆ 5.1179e7   │\n",
       "│ 202302 ┆ 2023 ┆ 2         ┆ 17.32       ┆ … ┆ 8076400     ┆ 1735655    ┆ 8.7015e7   ┆ 3.8625e7   │\n",
       "│ 202301 ┆ 2023 ┆ 1         ┆ 16.71       ┆ … ┆ 7770412     ┆ 1766221    ┆ 7.4739e7   ┆ 3.3431e7   │\n",
       "└────────┴──────┴───────────┴─────────────┴───┴─────────────┴────────────┴────────────┴────────────┘"
      ]
     },
     "execution_count": 57,
     "metadata": {},
     "output_type": "execute_result"
    }
   ],
   "source": [
    "columns = ['id', 'anio', 'trimestre', 'accesos_susc_100_hab', 'accesos_sate_100_hab', 'accesos_susc_100_hog',\n",
    "           'accesos_sate_100_hog', 'accesos_tot_suscripcion', 'accesos_tot_satelital', 'ingresos_suscripcion_miles',\n",
    "            'ingresos_satelital_miles' ]\n",
    "television.columns = columns\n",
    "\n",
    "television.head()"
   ]
  },
  {
   "cell_type": "code",
   "execution_count": 58,
   "metadata": {},
   "outputs": [
    {
     "data": {
      "text/html": [
       "<div><style>\n",
       ".dataframe > thead > tr,\n",
       ".dataframe > tbody > tr {\n",
       "  text-align: right;\n",
       "  white-space: pre-wrap;\n",
       "}\n",
       "</style>\n",
       "<small>shape: (4, 11)</small><table border=\"1\" class=\"dataframe\"><thead><tr><th>id</th><th>anio</th><th>trimestre</th><th>accesos_susc_100_hab</th><th>accesos_sate_100_hab</th><th>accesos_susc_100_hog</th><th>accesos_sate_100_hog</th><th>accesos_tot_suscripcion</th><th>accesos_tot_satelital</th><th>ingresos_suscripcion_miles</th><th>ingresos_satelital_miles</th></tr><tr><td>i64</td><td>i64</td><td>i64</td><td>f64</td><td>f64</td><td>f64</td><td>f64</td><td>i64</td><td>i64</td><td>f64</td><td>f64</td></tr></thead><tbody><tr><td>201404</td><td>2014</td><td>4</td><td>15.181907</td><td>5.779735</td><td>50.924656</td><td>19.18344</td><td>6478044</td><td>2466184</td><td>4.7120e6</td><td>2.6861e6</td></tr><tr><td>201403</td><td>2014</td><td>3</td><td>15.11582</td><td>5.742036</td><td>50.702981</td><td>19.058313</td><td>6449845</td><td>2450098</td><td>4.4230e6</td><td>2.5308e6</td></tr><tr><td>201402</td><td>2014</td><td>2</td><td>15.089284</td><td>5.968713</td><td>50.613969</td><td>19.810674</td><td>6438522</td><td>2546820</td><td>4.0537e6</td><td>2.3417e6</td></tr><tr><td>201401</td><td>2014</td><td>1</td><td>12.736339</td><td>5.569268</td><td>42.721487</td><td>18.484883</td><td>null</td><td>null</td><td>3.5995e6</td><td>2.0012e6</td></tr></tbody></table></div>"
      ],
      "text/plain": [
       "shape: (4, 11)\n",
       "┌────────┬──────┬───────────┬─────────────┬───┬─────────────┬────────────┬────────────┬────────────┐\n",
       "│ id     ┆ anio ┆ trimestre ┆ accesos_sus ┆ … ┆ accesos_tot ┆ accesos_to ┆ ingresos_s ┆ ingresos_s │\n",
       "│ ---    ┆ ---  ┆ ---       ┆ c_100_hab   ┆   ┆ _suscripcio ┆ t_satelita ┆ uscripcion ┆ atelital_m │\n",
       "│ i64    ┆ i64  ┆ i64       ┆ ---         ┆   ┆ n           ┆ l          ┆ _miles     ┆ iles       │\n",
       "│        ┆      ┆           ┆ f64         ┆   ┆ ---         ┆ ---        ┆ ---        ┆ ---        │\n",
       "│        ┆      ┆           ┆             ┆   ┆ i64         ┆ i64        ┆ f64        ┆ f64        │\n",
       "╞════════╪══════╪═══════════╪═════════════╪═══╪═════════════╪════════════╪════════════╪════════════╡\n",
       "│ 201404 ┆ 2014 ┆ 4         ┆ 15.181907   ┆ … ┆ 6478044     ┆ 2466184    ┆ 4.7120e6   ┆ 2.6861e6   │\n",
       "│ 201403 ┆ 2014 ┆ 3         ┆ 15.11582    ┆ … ┆ 6449845     ┆ 2450098    ┆ 4.4230e6   ┆ 2.5308e6   │\n",
       "│ 201402 ┆ 2014 ┆ 2         ┆ 15.089284   ┆ … ┆ 6438522     ┆ 2546820    ┆ 4.0537e6   ┆ 2.3417e6   │\n",
       "│ 201401 ┆ 2014 ┆ 1         ┆ 12.736339   ┆ … ┆ null        ┆ null       ┆ 3.5995e6   ┆ 2.0012e6   │\n",
       "└────────┴──────┴───────────┴─────────────┴───┴─────────────┴────────────┴────────────┴────────────┘"
      ]
     },
     "execution_count": 58,
     "metadata": {},
     "output_type": "execute_result"
    }
   ],
   "source": [
    "min_year = television['anio'].min()\n",
    "mask = television['anio'] == min_year\n",
    "\n",
    "television.filter(mask)"
   ]
  },
  {
   "cell_type": "markdown",
   "metadata": {},
   "source": [
    "El dataset `accesos` dentro del archivo de excel television.xslx no tenía información para el trimestre 1 del año 2014, por eso al hacer `join` con otros datasets que si tenían datos en ese periodo se genero un null.  Voy a pasar esas dos celdas `null` a `cero 0`, para no perder el resto de la información de la fila."
   ]
  },
  {
   "cell_type": "code",
   "execution_count": 59,
   "metadata": {},
   "outputs": [
    {
     "data": {
      "text/html": [
       "<div><style>\n",
       ".dataframe > thead > tr,\n",
       ".dataframe > tbody > tr {\n",
       "  text-align: right;\n",
       "  white-space: pre-wrap;\n",
       "}\n",
       "</style>\n",
       "<small>shape: (41, 11)</small><table border=\"1\" class=\"dataframe\"><thead><tr><th>id</th><th>anio</th><th>trimestre</th><th>accesos_susc_100_hab</th><th>accesos_sate_100_hab</th><th>accesos_susc_100_hog</th><th>accesos_sate_100_hog</th><th>accesos_tot_suscripcion</th><th>accesos_tot_satelital</th><th>ingresos_suscripcion_miles</th><th>ingresos_satelital_miles</th></tr><tr><td>i64</td><td>i64</td><td>i64</td><td>f64</td><td>f64</td><td>f64</td><td>f64</td><td>i64</td><td>i64</td><td>f64</td><td>f64</td></tr></thead><tbody><tr><td>202401</td><td>2024</td><td>1</td><td>16.2</td><td>3.08</td><td>51.55</td><td>9.8</td><td>7601499</td><td>1445205</td><td>1.9079e8</td><td>9.4271e7</td></tr><tr><td>202304</td><td>2023</td><td>4</td><td>16.34</td><td>3.22</td><td>52.05</td><td>10.26</td><td>7650809</td><td>1508789</td><td>1.3358e8</td><td>6.4749e7</td></tr><tr><td>202303</td><td>2023</td><td>3</td><td>16.57</td><td>3.6</td><td>52.84</td><td>11.49</td><td>7743735</td><td>1683205</td><td>1.0374e8</td><td>5.1179e7</td></tr><tr><td>202302</td><td>2023</td><td>2</td><td>17.32</td><td>3.72</td><td>55.29</td><td>11.88</td><td>8076400</td><td>1735655</td><td>8.7015e7</td><td>3.8625e7</td></tr><tr><td>202301</td><td>2023</td><td>1</td><td>16.71</td><td>3.8</td><td>53.36</td><td>12.13</td><td>7770412</td><td>1766221</td><td>7.4739e7</td><td>3.3431e7</td></tr><tr><td>&hellip;</td><td>&hellip;</td><td>&hellip;</td><td>&hellip;</td><td>&hellip;</td><td>&hellip;</td><td>&hellip;</td><td>&hellip;</td><td>&hellip;</td><td>&hellip;</td><td>&hellip;</td></tr><tr><td>201501</td><td>2015</td><td>1</td><td>14.860218</td><td>5.785329</td><td>49.856918</td><td>19.410124</td><td>6409504</td><td>2495326</td><td>5.2921e6</td><td>3.0218e6</td></tr><tr><td>201404</td><td>2014</td><td>4</td><td>15.181907</td><td>5.779735</td><td>50.924656</td><td>19.18344</td><td>6478044</td><td>2466184</td><td>4.7120e6</td><td>2.6861e6</td></tr><tr><td>201403</td><td>2014</td><td>3</td><td>15.11582</td><td>5.742036</td><td>50.702981</td><td>19.058313</td><td>6449845</td><td>2450098</td><td>4.4230e6</td><td>2.5308e6</td></tr><tr><td>201402</td><td>2014</td><td>2</td><td>15.089284</td><td>5.968713</td><td>50.613969</td><td>19.810674</td><td>6438522</td><td>2546820</td><td>4.0537e6</td><td>2.3417e6</td></tr><tr><td>201401</td><td>2014</td><td>1</td><td>12.736339</td><td>5.569268</td><td>42.721487</td><td>18.484883</td><td>0</td><td>0</td><td>3.5995e6</td><td>2.0012e6</td></tr></tbody></table></div>"
      ],
      "text/plain": [
       "shape: (41, 11)\n",
       "┌────────┬──────┬───────────┬─────────────┬───┬─────────────┬────────────┬────────────┬────────────┐\n",
       "│ id     ┆ anio ┆ trimestre ┆ accesos_sus ┆ … ┆ accesos_tot ┆ accesos_to ┆ ingresos_s ┆ ingresos_s │\n",
       "│ ---    ┆ ---  ┆ ---       ┆ c_100_hab   ┆   ┆ _suscripcio ┆ t_satelita ┆ uscripcion ┆ atelital_m │\n",
       "│ i64    ┆ i64  ┆ i64       ┆ ---         ┆   ┆ n           ┆ l          ┆ _miles     ┆ iles       │\n",
       "│        ┆      ┆           ┆ f64         ┆   ┆ ---         ┆ ---        ┆ ---        ┆ ---        │\n",
       "│        ┆      ┆           ┆             ┆   ┆ i64         ┆ i64        ┆ f64        ┆ f64        │\n",
       "╞════════╪══════╪═══════════╪═════════════╪═══╪═════════════╪════════════╪════════════╪════════════╡\n",
       "│ 202401 ┆ 2024 ┆ 1         ┆ 16.2        ┆ … ┆ 7601499     ┆ 1445205    ┆ 1.9079e8   ┆ 9.4271e7   │\n",
       "│ 202304 ┆ 2023 ┆ 4         ┆ 16.34       ┆ … ┆ 7650809     ┆ 1508789    ┆ 1.3358e8   ┆ 6.4749e7   │\n",
       "│ 202303 ┆ 2023 ┆ 3         ┆ 16.57       ┆ … ┆ 7743735     ┆ 1683205    ┆ 1.0374e8   ┆ 5.1179e7   │\n",
       "│ 202302 ┆ 2023 ┆ 2         ┆ 17.32       ┆ … ┆ 8076400     ┆ 1735655    ┆ 8.7015e7   ┆ 3.8625e7   │\n",
       "│ 202301 ┆ 2023 ┆ 1         ┆ 16.71       ┆ … ┆ 7770412     ┆ 1766221    ┆ 7.4739e7   ┆ 3.3431e7   │\n",
       "│ …      ┆ …    ┆ …         ┆ …           ┆ … ┆ …           ┆ …          ┆ …          ┆ …          │\n",
       "│ 201501 ┆ 2015 ┆ 1         ┆ 14.860218   ┆ … ┆ 6409504     ┆ 2495326    ┆ 5.2921e6   ┆ 3.0218e6   │\n",
       "│ 201404 ┆ 2014 ┆ 4         ┆ 15.181907   ┆ … ┆ 6478044     ┆ 2466184    ┆ 4.7120e6   ┆ 2.6861e6   │\n",
       "│ 201403 ┆ 2014 ┆ 3         ┆ 15.11582    ┆ … ┆ 6449845     ┆ 2450098    ┆ 4.4230e6   ┆ 2.5308e6   │\n",
       "│ 201402 ┆ 2014 ┆ 2         ┆ 15.089284   ┆ … ┆ 6438522     ┆ 2546820    ┆ 4.0537e6   ┆ 2.3417e6   │\n",
       "│ 201401 ┆ 2014 ┆ 1         ┆ 12.736339   ┆ … ┆ 0           ┆ 0          ┆ 3.5995e6   ┆ 2.0012e6   │\n",
       "└────────┴──────┴───────────┴─────────────┴───┴─────────────┴────────────┴────────────┴────────────┘"
      ]
     },
     "execution_count": 59,
     "metadata": {},
     "output_type": "execute_result"
    }
   ],
   "source": [
    "television = television.with_columns([\n",
    "    pl.col('accesos_tot_suscripcion').fill_null(0),\n",
    "    pl.col('accesos_tot_satelital').fill_null(0)\n",
    "])\n",
    "\n",
    "television"
   ]
  },
  {
   "cell_type": "markdown",
   "metadata": {},
   "source": [
    "Verifico Nulos antes de Continuar"
   ]
  },
  {
   "cell_type": "code",
   "execution_count": 60,
   "metadata": {},
   "outputs": [
    {
     "name": "stdout",
     "output_type": "stream",
     "text": [
      "Columna --> id\n",
      "Cantidad de Nulos --> 0\n",
      "**************************************************\n",
      "Columna --> anio\n",
      "Cantidad de Nulos --> 0\n",
      "**************************************************\n",
      "Columna --> trimestre\n",
      "Cantidad de Nulos --> 0\n",
      "**************************************************\n",
      "Columna --> accesos_susc_100_hab\n",
      "Cantidad de Nulos --> 0\n",
      "**************************************************\n",
      "Columna --> accesos_sate_100_hab\n",
      "Cantidad de Nulos --> 0\n",
      "**************************************************\n",
      "Columna --> accesos_susc_100_hog\n",
      "Cantidad de Nulos --> 0\n",
      "**************************************************\n",
      "Columna --> accesos_sate_100_hog\n",
      "Cantidad de Nulos --> 0\n",
      "**************************************************\n",
      "Columna --> accesos_tot_suscripcion\n",
      "Cantidad de Nulos --> 0\n",
      "**************************************************\n",
      "Columna --> accesos_tot_satelital\n",
      "Cantidad de Nulos --> 0\n",
      "**************************************************\n",
      "Columna --> ingresos_suscripcion_miles\n",
      "Cantidad de Nulos --> 0\n",
      "**************************************************\n",
      "Columna --> ingresos_satelital_miles\n",
      "Cantidad de Nulos --> 0\n",
      "**************************************************\n"
     ]
    }
   ],
   "source": [
    "for column in television.columns:\n",
    "    print(f'Columna --> {column}')\n",
    "    print(f'Cantidad de Nulos --> {television[column].is_null().sum()}')\n",
    "    print('*'*50)"
   ]
  },
  {
   "cell_type": "markdown",
   "metadata": {},
   "source": [
    "***\n",
    "Guardado de tablas  `telefonia_movil`, `telefonia_fija` y `television`"
   ]
  },
  {
   "cell_type": "code",
   "execution_count": 61,
   "metadata": {},
   "outputs": [],
   "source": [
    "telefonia_movil.write_parquet('tablas/telefonia_movil.parquet')\n",
    "\n",
    "telefonia_fija.write_parquet('tablas/telefonia_fija.parquet')\n",
    "\n",
    "television.write_parquet('tablas/television.parquet')"
   ]
  },
  {
   "cell_type": "markdown",
   "metadata": {},
   "source": [
    "***\n",
    "#### **Toca alimentar nuestra Base de Datos Mysql**"
   ]
  },
  {
   "cell_type": "markdown",
   "metadata": {},
   "source": [
    "Creando la Conexión"
   ]
  },
  {
   "cell_type": "code",
   "execution_count": 62,
   "metadata": {},
   "outputs": [],
   "source": [
    "engine = engine_sqlalchemy()"
   ]
  },
  {
   "cell_type": "markdown",
   "metadata": {},
   "source": [
    "Uno a uno se pasa cada Dataframe a un df de Pandas y luego se vacia en su respectiva tabla `mysql`.  "
   ]
  },
  {
   "cell_type": "code",
   "execution_count": 63,
   "metadata": {},
   "outputs": [
    {
     "data": {
      "text/plain": [
       "41"
      ]
     },
     "execution_count": 63,
     "metadata": {},
     "output_type": "execute_result"
    }
   ],
   "source": [
    "df_pandas = telefonia_movil.to_pandas()\n",
    "df_pandas.to_sql(name=\"telefonia_movil\", con=engine, index=False, if_exists=\"append\")\n",
    "\n",
    "df_pandas = telefonia_fija.to_pandas()\n",
    "df_pandas.to_sql(name=\"telefonia_fija\", con=engine, index=False, if_exists=\"append\")\n",
    "\n",
    "df_pandas = television.to_pandas()\n",
    "df_pandas.to_sql(name=\"television\", con=engine, index=False, if_exists=\"append\")"
   ]
  }
 ],
 "metadata": {
  "kernelspec": {
   "display_name": "labs_2",
   "language": "python",
   "name": "python3"
  },
  "language_info": {
   "codemirror_mode": {
    "name": "ipython",
    "version": 3
   },
   "file_extension": ".py",
   "mimetype": "text/x-python",
   "name": "python",
   "nbconvert_exporter": "python",
   "pygments_lexer": "ipython3",
   "version": "3.10.11"
  }
 },
 "nbformat": 4,
 "nbformat_minor": 2
}
