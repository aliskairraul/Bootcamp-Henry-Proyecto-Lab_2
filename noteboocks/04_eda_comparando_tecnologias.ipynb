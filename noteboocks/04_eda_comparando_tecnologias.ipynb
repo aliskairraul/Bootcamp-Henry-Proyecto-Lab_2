{
 "cells": [
  {
   "cell_type": "markdown",
   "metadata": {},
   "source": [
    "# **Objetivo del Cuaderno Jupyter**\n",
    "- Análisis del comportamiento de los Accesos e Ingresos de las distintas Tecnologías.\n",
    "- Basicamente acá compararemos información a Nivel Nacional, apoyandónos en las tablas `telefonia_fija`, `telefonia_movil`, `television` e `internet_pais` y trataremos de responder la pregunta `¿Porqué Internet?` y no otra tecnología \n",
    "<br>\n",
    "<img src='assets/EDR.png'>\n",
    "<br>\n",
    "\n",
    "- Las tablas mostradas en la imagen `ya vienen sin valores Nulos`, y los diferentes `Tipos de Datos se observan en la imagen de arriba en las tablas del diagrama EDR`. \n",
    "- Para realizar parte del análisis cargue datos del archivo `tipos-de-cambio-historicos.csv` bajado de la pagina del `Banco Central de Argentina`.\n",
    "- Al principio del Cuaderno hay una parte llamada `Preparando la Data` donde se hacen ajustes necesarios, para disponibilizar a la libreria de gráficos los datos de manera adecuada.  Sí desea ver sólo el análisis puede bajar hasta encontrar el TITULO `Gráficos`. \n"
   ]
  },
  {
   "cell_type": "markdown",
   "metadata": {},
   "source": [
    "Importando Librerias"
   ]
  },
  {
   "cell_type": "code",
   "execution_count": 1,
   "metadata": {},
   "outputs": [],
   "source": [
    "import polars as pl\n",
    "import duckdb"
   ]
  },
  {
   "cell_type": "markdown",
   "metadata": {},
   "source": [
    "Importando funciones del archivo `utilidades.py`"
   ]
  },
  {
   "cell_type": "code",
   "execution_count": 2,
   "metadata": {},
   "outputs": [],
   "source": [
    "from utils.utilidades import crear_tabla, crear_graf_pie, crear_grafica, crear_graf_df, crear_fecha_periodo"
   ]
  },
  {
   "cell_type": "markdown",
   "metadata": {},
   "source": [
    "Cargo la Data de Ingresos y accesos de cada tecnología"
   ]
  },
  {
   "cell_type": "code",
   "execution_count": 3,
   "metadata": {},
   "outputs": [],
   "source": [
    "internet_pais = pl.read_parquet('tablas/internet_pais.parquet')\n",
    "\n",
    "telefonia_movil = pl.read_parquet('tablas/telefonia_movil.parquet')\n",
    "\n",
    "telefonia_fija = pl.read_parquet('tablas/telefonia_fija.parquet')\n",
    "\n",
    "television = pl.read_parquet('tablas/television.parquet')"
   ]
  },
  {
   "cell_type": "markdown",
   "metadata": {},
   "source": [
    "***\n",
    "# **Preparando los Datos**\n",
    "Para poder observar algunas tendencias necesitamos hacer unos ajustes en los dataframes:\n",
    "- La tabla `television` no tiene totalizados los accesos cada 100 habitantes u hogares, ni los ingresos\n",
    "- Vamos a totalizar los accesos en `telefonia_movil`, para ver esa tendencia, ya que  la data de accesos por cada 100 habitantes que suministra este dataset es INCORRECTA.<br>\n",
    "- Todos los datasets tienen data a partir de 2014 excepto `telefonia_movil` que tiene data de 2013. Igualaré para este análisis a todos los dataset (desde 2014), para ser justos en el análisis.\n",
    "\n",
    "**A Considerar:**\n",
    "- El tipo de Datos está reflejado en la Imagen que se observa arriba de las tablas\n",
    "- El Tratamiento de Nulos (Donde los Hubo), se realizó en los archivos 01_extrayendo_internet.ipymb y 02_extrayendo_otros.ipynb\n",
    "\n"
   ]
  },
  {
   "cell_type": "code",
   "execution_count": 4,
   "metadata": {},
   "outputs": [],
   "source": [
    "television = television.with_columns([\n",
    "    (pl.col('accesos_sate_100_hab') + pl.col('accesos_susc_100_hab')).alias('accesos_100_hab'),\n",
    "    (pl.col('accesos_sate_100_hog') + pl.col('accesos_susc_100_hog')).alias('accesos_100_hog'),\n",
    "    (pl.col('ingresos_suscripcion_miles') + pl.col('ingresos_satelital_miles')).alias('ingresos_miles'),\n",
    "])\n",
    "\n",
    "\n",
    "mask = telefonia_movil['anio'] == 2013\n",
    "telefonia_movil = telefonia_movil.filter(~mask)\n",
    "\n",
    "\n",
    "telefonia_movil = telefonia_movil.with_columns([\n",
    "    ((pl.col('total_accesos_post')) + (pl.col('total_accesos_pre'))).alias('total_accesos'),\n",
    "\n",
    "    ((pl.col('llamadas_post_miles')) + (pl.col('llamadas_pre_miles'))).alias('total_llamadas'),\n",
    "\n",
    "    ((pl.col('minutos_post_miles')) + (pl.col('minutos_pre_miles'))).alias('total_minutos'),\n",
    "\n",
    "])"
   ]
  },
  {
   "cell_type": "markdown",
   "metadata": {},
   "source": [
    "Los ingresos en estos Dataframe están en Miles de Pesos Argentinos. Voy a realizar una serie de acciones en las siguientes celdas para incorporar una columna que sean ingresos en Dolares. Para ello pienso ejecutar los siguientes pasos:\n",
    "- Cargar el archivo `tipos-de-cambio-historicos.csv` bajado de la pagina del `Banco Central de Argentina`.\n",
    "- Las tasas `dolar_estadounidense` y `dolar_referencia_com_3500` los voy a promediar.\n",
    "- Dado que la información de ingresos que voy a manejar de las distintas tecnologías, están en periodos trimestrales, sacaré un Average de la tasa de cambio en cada Periodo. \n",
    "- Calculo en una nueva columna en cada Dataframe los ingresos en dolares "
   ]
  },
  {
   "cell_type": "code",
   "execution_count": 5,
   "metadata": {},
   "outputs": [
    {
     "data": {
      "text/html": [
       "<div><style>\n",
       ".dataframe > thead > tr,\n",
       ".dataframe > tbody > tr {\n",
       "  text-align: right;\n",
       "  white-space: pre-wrap;\n",
       "}\n",
       "</style>\n",
       "<small>shape: (5, 3)</small><table border=\"1\" class=\"dataframe\"><thead><tr><th>indice_tiempo</th><th>dolar_estadounidense</th><th>dolar_referencia_com_3500</th></tr><tr><td>str</td><td>str</td><td>str</td></tr></thead><tbody><tr><td>&quot;2024-07-27&quot;</td><td>&quot;931.5&quot;</td><td>&quot;931.5833&quot;</td></tr><tr><td>&quot;2024-07-28&quot;</td><td>&quot;931.5&quot;</td><td>&quot;931.5833&quot;</td></tr><tr><td>&quot;2024-07-29&quot;</td><td>&quot;932.0&quot;</td><td>&quot;931.75&quot;</td></tr><tr><td>&quot;2024-07-30&quot;</td><td>&quot;932.5&quot;</td><td>&quot;932.25&quot;</td></tr><tr><td>&quot;2024-07-31&quot;</td><td>&quot;933.0&quot;</td><td>&quot;932.75&quot;</td></tr></tbody></table></div>"
      ],
      "text/plain": [
       "shape: (5, 3)\n",
       "┌───────────────┬──────────────────────┬───────────────────────────┐\n",
       "│ indice_tiempo ┆ dolar_estadounidense ┆ dolar_referencia_com_3500 │\n",
       "│ ---           ┆ ---                  ┆ ---                       │\n",
       "│ str           ┆ str                  ┆ str                       │\n",
       "╞═══════════════╪══════════════════════╪═══════════════════════════╡\n",
       "│ 2024-07-27    ┆ 931.5                ┆ 931.5833                  │\n",
       "│ 2024-07-28    ┆ 931.5                ┆ 931.5833                  │\n",
       "│ 2024-07-29    ┆ 932.0                ┆ 931.75                    │\n",
       "│ 2024-07-30    ┆ 932.5                ┆ 932.25                    │\n",
       "│ 2024-07-31    ┆ 933.0                ┆ 932.75                    │\n",
       "└───────────────┴──────────────────────┴───────────────────────────┘"
      ]
     },
     "execution_count": 5,
     "metadata": {},
     "output_type": "execute_result"
    }
   ],
   "source": [
    "tipos_cambios = pl.read_csv('datasets_iniciales/tipos-de-cambio-historicos.csv')\n",
    "tipos_cambios['indice_tiempo','dolar_estadounidense','dolar_referencia_com_3500'].tail()"
   ]
  },
  {
   "cell_type": "code",
   "execution_count": 6,
   "metadata": {},
   "outputs": [
    {
     "data": {
      "text/html": [
       "<div><style>\n",
       ".dataframe > thead > tr,\n",
       ".dataframe > tbody > tr {\n",
       "  text-align: right;\n",
       "  white-space: pre-wrap;\n",
       "}\n",
       "</style>\n",
       "<small>shape: (5, 5)</small><table border=\"1\" class=\"dataframe\"><thead><tr><th>fecha</th><th>anio</th><th>trimestre</th><th>periodo</th><th>dolar_promedio</th></tr><tr><td>date</td><td>i32</td><td>i8</td><td>str</td><td>f32</td></tr></thead><tbody><tr><td>2014-01-01</td><td>2014</td><td>1</td><td>&quot;2014-01&quot;</td><td>6.5195</td></tr><tr><td>2014-01-02</td><td>2014</td><td>1</td><td>&quot;2014-01&quot;</td><td>6.544</td></tr><tr><td>2014-01-03</td><td>2014</td><td>1</td><td>&quot;2014-01&quot;</td><td>6.5565</td></tr><tr><td>2014-01-04</td><td>2014</td><td>1</td><td>&quot;2014-01&quot;</td><td>6.5565</td></tr><tr><td>2014-01-05</td><td>2014</td><td>1</td><td>&quot;2014-01&quot;</td><td>6.5565</td></tr></tbody></table></div>"
      ],
      "text/plain": [
       "shape: (5, 5)\n",
       "┌────────────┬──────┬───────────┬─────────┬────────────────┐\n",
       "│ fecha      ┆ anio ┆ trimestre ┆ periodo ┆ dolar_promedio │\n",
       "│ ---        ┆ ---  ┆ ---       ┆ ---     ┆ ---            │\n",
       "│ date       ┆ i32  ┆ i8        ┆ str     ┆ f32            │\n",
       "╞════════════╪══════╪═══════════╪═════════╪════════════════╡\n",
       "│ 2014-01-01 ┆ 2014 ┆ 1         ┆ 2014-01 ┆ 6.5195         │\n",
       "│ 2014-01-02 ┆ 2014 ┆ 1         ┆ 2014-01 ┆ 6.544          │\n",
       "│ 2014-01-03 ┆ 2014 ┆ 1         ┆ 2014-01 ┆ 6.5565         │\n",
       "│ 2014-01-04 ┆ 2014 ┆ 1         ┆ 2014-01 ┆ 6.5565         │\n",
       "│ 2014-01-05 ┆ 2014 ┆ 1         ┆ 2014-01 ┆ 6.5565         │\n",
       "└────────────┴──────┴───────────┴─────────┴────────────────┘"
      ]
     },
     "execution_count": 6,
     "metadata": {},
     "output_type": "execute_result"
    }
   ],
   "source": [
    "# Me voy a quedar solo con las columnas que necesito\n",
    "tipos_cambios = tipos_cambios['indice_tiempo','dolar_estadounidense','dolar_referencia_com_3500']\n",
    "# Creo una columna tipo Date y Casteo las columnas que tienen el precio del Dolar\n",
    "tipos_cambios = tipos_cambios.with_columns([\n",
    "    pl.col('indice_tiempo').cast(pl.Date).alias('fecha'),\n",
    "    pl.col('dolar_estadounidense').cast(pl.Float32).alias('dolar_estadounidense'),\n",
    "    pl.col('dolar_referencia_com_3500').cast(pl.Float32).alias('dolar_referencia_com_3500')\n",
    "])\n",
    "\n",
    "# De la columna tipo Date extraigo el Año y el Trimestre, y promedio entre las dos tasas de cambio\n",
    "tipos_cambios = tipos_cambios.with_columns([\n",
    "    pl.col(\"fecha\").dt.quarter().alias(\"trimestre\"),\n",
    "    pl.col(\"fecha\").dt.year().alias(\"anio\"),\n",
    "    ((pl.col('dolar_estadounidense') + pl.col('dolar_referencia_com_3500'))/2).alias('dolar_promedio')\n",
    "])\n",
    "\n",
    "# Creo una columna Periodo para poder tener identificado cada Trimestre\n",
    "tipos_cambios = tipos_cambios.with_columns(\n",
    "    (pl.col(\"anio\").cast(pl.String) + \"-0\" + pl.col(\"trimestre\").cast(pl.String)).alias(\"periodo\")\n",
    ")\n",
    "\n",
    "# En dos Pasos me quedo con los periodos que corresponden con la data que manejo en las otras tablas\n",
    "mask = tipos_cambios['anio'] < 2014\n",
    "tipos_cambios = tipos_cambios.filter(~mask)\n",
    "\n",
    "mask = (tipos_cambios['anio'] == 2024) & (tipos_cambios['trimestre'] > 1)\n",
    "tipos_cambios = tipos_cambios.filter(~mask)\n",
    "\n",
    "# Selecciono las columnas con que me quedo por ahora\n",
    "tipos_cambios = tipos_cambios['fecha', 'anio', 'trimestre', 'periodo', 'dolar_promedio']\n",
    "tipos_cambios.head()"
   ]
  },
  {
   "cell_type": "markdown",
   "metadata": {},
   "source": [
    "Solo Necesito el promedio de la divisa por Trimestre en los periodos de la data, me ayudo con sintáxis SQL"
   ]
  },
  {
   "cell_type": "code",
   "execution_count": 7,
   "metadata": {},
   "outputs": [
    {
     "data": {
      "text/html": [
       "<div><style>\n",
       ".dataframe > thead > tr,\n",
       ".dataframe > tbody > tr {\n",
       "  text-align: right;\n",
       "  white-space: pre-wrap;\n",
       "}\n",
       "</style>\n",
       "<small>shape: (5, 2)</small><table border=\"1\" class=\"dataframe\"><thead><tr><th>periodo</th><th>dolar_promedio</th></tr><tr><td>str</td><td>f64</td></tr></thead><tbody><tr><td>&quot;2014-01&quot;</td><td>7.607122</td></tr><tr><td>&quot;2014-02&quot;</td><td>8.05488</td></tr><tr><td>&quot;2014-03&quot;</td><td>8.296906</td></tr><tr><td>&quot;2014-04&quot;</td><td>8.513784</td></tr><tr><td>&quot;2015-01&quot;</td><td>8.688752</td></tr></tbody></table></div>"
      ],
      "text/plain": [
       "shape: (5, 2)\n",
       "┌─────────┬────────────────┐\n",
       "│ periodo ┆ dolar_promedio │\n",
       "│ ---     ┆ ---            │\n",
       "│ str     ┆ f64            │\n",
       "╞═════════╪════════════════╡\n",
       "│ 2014-01 ┆ 7.607122       │\n",
       "│ 2014-02 ┆ 8.05488        │\n",
       "│ 2014-03 ┆ 8.296906       │\n",
       "│ 2014-04 ┆ 8.513784       │\n",
       "│ 2015-01 ┆ 8.688752       │\n",
       "└─────────┴────────────────┘"
      ]
     },
     "execution_count": 7,
     "metadata": {},
     "output_type": "execute_result"
    }
   ],
   "source": [
    "cambios_promedios = pl.DataFrame(duckdb.sql(\"\"\"\n",
    "SELECT periodo, AVG(dolar_promedio) as dolar_promedio \n",
    "FROM tipos_cambios\n",
    "GROUP BY periodo\n",
    "ORDER BY periodo;\n",
    "\"\"\").to_arrow_table()\n",
    ")\n",
    "del tipos_cambios\n",
    "cambios_promedios.head()"
   ]
  },
  {
   "cell_type": "markdown",
   "metadata": {},
   "source": [
    "Creo la Columna Periodo en cada Dataframe y le agrego la columna `dolar_promedio` haciendo join en cada uno contra el dataframe `cambios_promedios` que acabamos de crear"
   ]
  },
  {
   "cell_type": "code",
   "execution_count": 8,
   "metadata": {},
   "outputs": [],
   "source": [
    "# TABLA internet_pais\n",
    "internet_pais = internet_pais.with_columns(\n",
    "    (pl.col(\"anio\").cast(pl.String) + \"-0\" + pl.col(\"trimestre\").cast(pl.String)).alias(\"periodo\")\n",
    ")\n",
    "df_fecha = crear_fecha_periodo(internet_pais)\n",
    "internet_pais = internet_pais.join(cambios_promedios, on='periodo', how='left', coalesce=True)\n",
    "internet_pais = internet_pais.join(df_fecha, on='periodo', how='left', coalesce=True)\n",
    "\n",
    "\n",
    "# TABLA telefonia_movil\n",
    "telefonia_movil = telefonia_movil.with_columns(\n",
    "    (pl.col(\"anio\").cast(pl.String) + \"-0\" + pl.col(\"trimestre\").cast(pl.String)).alias(\"periodo\")\n",
    ")\n",
    "df_fecha = crear_fecha_periodo(telefonia_movil)\n",
    "telefonia_movil = telefonia_movil.join(cambios_promedios, on='periodo', how='left', coalesce=True)\n",
    "telefonia_movil = telefonia_movil.join(df_fecha, on='periodo', how='left', coalesce=True)\n",
    "\n",
    "# TABLA telefonia_fija\n",
    "telefonia_fija = telefonia_fija.with_columns(\n",
    "    (pl.col(\"anio\").cast(pl.String) + \"-0\" + pl.col(\"trimestre\").cast(pl.String)).alias(\"periodo\")\n",
    ")\n",
    "df_fecha = crear_fecha_periodo(telefonia_fija)\n",
    "telefonia_fija = telefonia_fija.join(cambios_promedios, on='periodo', how='left', coalesce=True)\n",
    "telefonia_fija = telefonia_fija.join(df_fecha, on='periodo', how='left', coalesce=True)\n",
    "\n",
    "# TABLA television\n",
    "television = television.with_columns(\n",
    "    (pl.col(\"anio\").cast(pl.String) + \"-0\" + pl.col(\"trimestre\").cast(pl.String)).alias(\"periodo\")\n",
    ")\n",
    "df_fecha = crear_fecha_periodo(television)\n",
    "television = television.join(cambios_promedios, on='periodo', how='left', coalesce=True)\n",
    "television = television.join(df_fecha, on='periodo', how='left', coalesce=True)"
   ]
  },
  {
   "cell_type": "markdown",
   "metadata": {},
   "source": [
    "Creo la columna `ingresos_dolar_miles` en cada dataframe"
   ]
  },
  {
   "cell_type": "code",
   "execution_count": 9,
   "metadata": {},
   "outputs": [],
   "source": [
    "internet_pais = internet_pais.with_columns(\n",
    "    (pl.col(\"ingresos_miles\") / pl.col(\"dolar_promedio\")).alias(\"ingresos_dolar_miles\")\n",
    ")\n",
    "\n",
    "telefonia_movil = telefonia_movil.with_columns(\n",
    "    (pl.col(\"ingresos_miles\") / pl.col(\"dolar_promedio\")).alias(\"ingresos_dolar_miles\")\n",
    ")\n",
    "\n",
    "telefonia_fija = telefonia_fija.with_columns(\n",
    "    (pl.col(\"ingresos_miles\") / pl.col(\"dolar_promedio\")).alias(\"ingresos_dolar_miles\")\n",
    ")\n",
    "\n",
    "television = television.with_columns(\n",
    "    (pl.col(\"ingresos_miles\") / pl.col(\"dolar_promedio\")).alias(\"ingresos_dolar_miles\")\n",
    ")"
   ]
  },
  {
   "cell_type": "code",
   "execution_count": 10,
   "metadata": {},
   "outputs": [
    {
     "data": {
      "text/html": [
       "<div><style>\n",
       ".dataframe > thead > tr,\n",
       ".dataframe > tbody > tr {\n",
       "  text-align: right;\n",
       "  white-space: pre-wrap;\n",
       "}\n",
       "</style>\n",
       "<small>shape: (1, 11)</small><table border=\"1\" class=\"dataframe\"><thead><tr><th>id</th><th>anio</th><th>trimestre</th><th>ingresos_miles</th><th>accesos_100_hog</th><th>accesos_100_hab</th><th>mbps_media_bajada</th><th>periodo</th><th>dolar_promedio</th><th>fecha</th><th>ingresos_dolar_miles</th></tr><tr><td>i64</td><td>i64</td><td>i64</td><td>f64</td><td>f64</td><td>f64</td><td>f64</td><td>str</td><td>f64</td><td>date</td><td>f64</td></tr></thead><tbody><tr><td>202401</td><td>2024</td><td>1</td><td>2.8042e8</td><td>78.89</td><td>24.79</td><td>139.15</td><td>&quot;2024-01&quot;</td><td>834.279074</td><td>2024-03-30</td><td>336121.488304</td></tr></tbody></table></div>"
      ],
      "text/plain": [
       "shape: (1, 11)\n",
       "┌────────┬──────┬───────────┬──────────────┬───┬─────────┬──────────────┬────────────┬─────────────┐\n",
       "│ id     ┆ anio ┆ trimestre ┆ ingresos_mil ┆ … ┆ periodo ┆ dolar_promed ┆ fecha      ┆ ingresos_do │\n",
       "│ ---    ┆ ---  ┆ ---       ┆ es           ┆   ┆ ---     ┆ io           ┆ ---        ┆ lar_miles   │\n",
       "│ i64    ┆ i64  ┆ i64       ┆ ---          ┆   ┆ str     ┆ ---          ┆ date       ┆ ---         │\n",
       "│        ┆      ┆           ┆ f64          ┆   ┆         ┆ f64          ┆            ┆ f64         │\n",
       "╞════════╪══════╪═══════════╪══════════════╪═══╪═════════╪══════════════╪════════════╪═════════════╡\n",
       "│ 202401 ┆ 2024 ┆ 1         ┆ 2.8042e8     ┆ … ┆ 2024-01 ┆ 834.279074   ┆ 2024-03-30 ┆ 336121.4883 │\n",
       "│        ┆      ┆           ┆              ┆   ┆         ┆              ┆            ┆ 04          │\n",
       "└────────┴──────┴───────────┴──────────────┴───┴─────────┴──────────────┴────────────┴─────────────┘"
      ]
     },
     "execution_count": 10,
     "metadata": {},
     "output_type": "execute_result"
    }
   ],
   "source": [
    "internet_pais.head(1)"
   ]
  },
  {
   "cell_type": "code",
   "execution_count": 11,
   "metadata": {},
   "outputs": [
    {
     "data": {
      "text/html": [
       "<div><style>\n",
       ".dataframe > thead > tr,\n",
       ".dataframe > tbody > tr {\n",
       "  text-align: right;\n",
       "  white-space: pre-wrap;\n",
       "}\n",
       "</style>\n",
       "<small>shape: (1, 19)</small><table border=\"1\" class=\"dataframe\"><thead><tr><th>id</th><th>anio</th><th>trimestre</th><th>llamadas_post_miles</th><th>llamadas_pre_miles</th><th>sms_salientes</th><th>minutos_post_miles</th><th>minutos_pre_miles</th><th>ingresos_miles</th><th>accesos_100_hab</th><th>total_accesos_post</th><th>total_accesos_pre</th><th>total_accesos</th><th>total_llamadas</th><th>total_minutos</th><th>periodo</th><th>dolar_promedio</th><th>fecha</th><th>ingresos_dolar_miles</th></tr><tr><td>i64</td><td>i64</td><td>i64</td><td>f64</td><td>f64</td><td>i64</td><td>f64</td><td>f64</td><td>i64</td><td>f64</td><td>f64</td><td>f64</td><td>f64</td><td>f64</td><td>f64</td><td>str</td><td>f64</td><td>date</td><td>f64</td></tr></thead><tbody><tr><td>201401</td><td>2014</td><td>1</td><td>4.001399e6</td><td>3.589181e6</td><td>18393198881</td><td>1.0128751e7</td><td>5.799223e6</td><td>15938353</td><td>148.07</td><td>8.224482e6</td><td>5.4725089e7</td><td>6.2949571e7</td><td>7.59058e6</td><td>1.5927974e7</td><td>&quot;2014-01&quot;</td><td>7.607122</td><td>2014-03-30</td><td>2.0952e6</td></tr></tbody></table></div>"
      ],
      "text/plain": [
       "shape: (1, 19)\n",
       "┌────────┬──────┬───────────┬──────────────┬───┬─────────┬──────────────┬────────────┬─────────────┐\n",
       "│ id     ┆ anio ┆ trimestre ┆ llamadas_pos ┆ … ┆ periodo ┆ dolar_promed ┆ fecha      ┆ ingresos_do │\n",
       "│ ---    ┆ ---  ┆ ---       ┆ t_miles      ┆   ┆ ---     ┆ io           ┆ ---        ┆ lar_miles   │\n",
       "│ i64    ┆ i64  ┆ i64       ┆ ---          ┆   ┆ str     ┆ ---          ┆ date       ┆ ---         │\n",
       "│        ┆      ┆           ┆ f64          ┆   ┆         ┆ f64          ┆            ┆ f64         │\n",
       "╞════════╪══════╪═══════════╪══════════════╪═══╪═════════╪══════════════╪════════════╪═════════════╡\n",
       "│ 201401 ┆ 2014 ┆ 1         ┆ 4.001399e6   ┆ … ┆ 2014-01 ┆ 7.607122     ┆ 2014-03-30 ┆ 2.0952e6    │\n",
       "└────────┴──────┴───────────┴──────────────┴───┴─────────┴──────────────┴────────────┴─────────────┘"
      ]
     },
     "execution_count": 11,
     "metadata": {},
     "output_type": "execute_result"
    }
   ],
   "source": [
    "telefonia_movil.head(1)"
   ]
  },
  {
   "cell_type": "code",
   "execution_count": 12,
   "metadata": {},
   "outputs": [
    {
     "data": {
      "text/html": [
       "<div><style>\n",
       ".dataframe > thead > tr,\n",
       ".dataframe > tbody > tr {\n",
       "  text-align: right;\n",
       "  white-space: pre-wrap;\n",
       "}\n",
       "</style>\n",
       "<small>shape: (1, 14)</small><table border=\"1\" class=\"dataframe\"><thead><tr><th>id</th><th>anio</th><th>trimestre</th><th>accesos_hogares</th><th>accesos_comercial</th><th>accesos_gobierno</th><th>accesos_otros</th><th>accesos_100_hab</th><th>accesos_100_hog</th><th>ingresos_miles</th><th>periodo</th><th>dolar_promedio</th><th>fecha</th><th>ingresos_dolar_miles</th></tr><tr><td>i64</td><td>i64</td><td>i64</td><td>i64</td><td>i64</td><td>i64</td><td>i64</td><td>f64</td><td>f64</td><td>f64</td><td>str</td><td>f64</td><td>date</td><td>f64</td></tr></thead><tbody><tr><td>201401</td><td>2014</td><td>1</td><td>7897980</td><td>1065834</td><td>30917</td><td>567500</td><td>22.49197</td><td>74.044895</td><td>2.9161e6</td><td>&quot;2014-01&quot;</td><td>7.607122</td><td>2014-03-30</td><td>383334.445151</td></tr></tbody></table></div>"
      ],
      "text/plain": [
       "shape: (1, 14)\n",
       "┌────────┬──────┬───────────┬──────────────┬───┬─────────┬──────────────┬────────────┬─────────────┐\n",
       "│ id     ┆ anio ┆ trimestre ┆ accesos_hoga ┆ … ┆ periodo ┆ dolar_promed ┆ fecha      ┆ ingresos_do │\n",
       "│ ---    ┆ ---  ┆ ---       ┆ res          ┆   ┆ ---     ┆ io           ┆ ---        ┆ lar_miles   │\n",
       "│ i64    ┆ i64  ┆ i64       ┆ ---          ┆   ┆ str     ┆ ---          ┆ date       ┆ ---         │\n",
       "│        ┆      ┆           ┆ i64          ┆   ┆         ┆ f64          ┆            ┆ f64         │\n",
       "╞════════╪══════╪═══════════╪══════════════╪═══╪═════════╪══════════════╪════════════╪═════════════╡\n",
       "│ 201401 ┆ 2014 ┆ 1         ┆ 7897980      ┆ … ┆ 2014-01 ┆ 7.607122     ┆ 2014-03-30 ┆ 383334.4451 │\n",
       "│        ┆      ┆           ┆              ┆   ┆         ┆              ┆            ┆ 51          │\n",
       "└────────┴──────┴───────────┴──────────────┴───┴─────────┴──────────────┴────────────┴─────────────┘"
      ]
     },
     "execution_count": 12,
     "metadata": {},
     "output_type": "execute_result"
    }
   ],
   "source": [
    "telefonia_fija.head(1)"
   ]
  },
  {
   "cell_type": "code",
   "execution_count": 13,
   "metadata": {},
   "outputs": [
    {
     "data": {
      "text/html": [
       "<div><style>\n",
       ".dataframe > thead > tr,\n",
       ".dataframe > tbody > tr {\n",
       "  text-align: right;\n",
       "  white-space: pre-wrap;\n",
       "}\n",
       "</style>\n",
       "<small>shape: (1, 18)</small><table border=\"1\" class=\"dataframe\"><thead><tr><th>id</th><th>anio</th><th>trimestre</th><th>accesos_susc_100_hab</th><th>accesos_sate_100_hab</th><th>accesos_susc_100_hog</th><th>accesos_sate_100_hog</th><th>accesos_tot_suscripcion</th><th>accesos_tot_satelital</th><th>ingresos_suscripcion_miles</th><th>ingresos_satelital_miles</th><th>accesos_100_hab</th><th>accesos_100_hog</th><th>ingresos_miles</th><th>periodo</th><th>dolar_promedio</th><th>fecha</th><th>ingresos_dolar_miles</th></tr><tr><td>i64</td><td>i64</td><td>i64</td><td>f64</td><td>f64</td><td>f64</td><td>f64</td><td>i64</td><td>i64</td><td>f64</td><td>f64</td><td>f64</td><td>f64</td><td>f64</td><td>str</td><td>f64</td><td>date</td><td>f64</td></tr></thead><tbody><tr><td>202401</td><td>2024</td><td>1</td><td>16.2</td><td>3.08</td><td>51.55</td><td>9.8</td><td>7601499</td><td>1445205</td><td>1.9079e8</td><td>9.4271e7</td><td>19.28</td><td>61.35</td><td>2.8506e8</td><td>&quot;2024-01&quot;</td><td>834.279074</td><td>2024-03-30</td><td>341681.509553</td></tr></tbody></table></div>"
      ],
      "text/plain": [
       "shape: (1, 18)\n",
       "┌────────┬──────┬───────────┬──────────────┬───┬─────────┬──────────────┬────────────┬─────────────┐\n",
       "│ id     ┆ anio ┆ trimestre ┆ accesos_susc ┆ … ┆ periodo ┆ dolar_promed ┆ fecha      ┆ ingresos_do │\n",
       "│ ---    ┆ ---  ┆ ---       ┆ _100_hab     ┆   ┆ ---     ┆ io           ┆ ---        ┆ lar_miles   │\n",
       "│ i64    ┆ i64  ┆ i64       ┆ ---          ┆   ┆ str     ┆ ---          ┆ date       ┆ ---         │\n",
       "│        ┆      ┆           ┆ f64          ┆   ┆         ┆ f64          ┆            ┆ f64         │\n",
       "╞════════╪══════╪═══════════╪══════════════╪═══╪═════════╪══════════════╪════════════╪═════════════╡\n",
       "│ 202401 ┆ 2024 ┆ 1         ┆ 16.2         ┆ … ┆ 2024-01 ┆ 834.279074   ┆ 2024-03-30 ┆ 341681.5095 │\n",
       "│        ┆      ┆           ┆              ┆   ┆         ┆              ┆            ┆ 53          │\n",
       "└────────┴──────┴───────────┴──────────────┴───┴─────────┴──────────────┴────────────┴─────────────┘"
      ]
     },
     "execution_count": 13,
     "metadata": {},
     "output_type": "execute_result"
    }
   ],
   "source": [
    "television.head(1)"
   ]
  },
  {
   "cell_type": "markdown",
   "metadata": {},
   "source": [
    "Ahora Necesito Juntar una Data para unos Gráficos tipo Pie y una Tabla"
   ]
  },
  {
   "cell_type": "code",
   "execution_count": 14,
   "metadata": {},
   "outputs": [
    {
     "data": {
      "text/html": [
       "<div><style>\n",
       ".dataframe > thead > tr,\n",
       ".dataframe > tbody > tr {\n",
       "  text-align: right;\n",
       "  white-space: pre-wrap;\n",
       "}\n",
       "</style>\n",
       "<small>shape: (4, 5)</small><table border=\"1\" class=\"dataframe\"><thead><tr><th>Tecnología</th><th>Ingresos 2014</th><th>Accesos 2014</th><th>Ingresos 2024</th><th>Accesos 2024</th></tr><tr><td>str</td><td>f64</td><td>f64</td><td>f64</td><td>f64</td></tr></thead><tbody><tr><td>&quot;Internet&quot;</td><td>392271.130796</td><td>15.050104</td><td>336121.488304</td><td>24.79</td></tr><tr><td>&quot;Telefonía Móvil&quot;</td><td>2.0952e6</td><td>6.2949571e7</td><td>922335.714509</td><td>6.2854079e7</td></tr><tr><td>&quot;Telefonía Fija&quot;</td><td>383334.445151</td><td>22.49197</td><td>159568.635775</td><td>14.719928</td></tr><tr><td>&quot;Televisión&quot;</td><td>736245.032393</td><td>18.305607</td><td>341681.509553</td><td>19.28</td></tr></tbody></table></div>"
      ],
      "text/plain": [
       "shape: (4, 5)\n",
       "┌─────────────────┬───────────────┬──────────────┬───────────────┬──────────────┐\n",
       "│ Tecnología      ┆ Ingresos 2014 ┆ Accesos 2014 ┆ Ingresos 2024 ┆ Accesos 2024 │\n",
       "│ ---             ┆ ---           ┆ ---          ┆ ---           ┆ ---          │\n",
       "│ str             ┆ f64           ┆ f64          ┆ f64           ┆ f64          │\n",
       "╞═════════════════╪═══════════════╪══════════════╪═══════════════╪══════════════╡\n",
       "│ Internet        ┆ 392271.130796 ┆ 15.050104    ┆ 336121.488304 ┆ 24.79        │\n",
       "│ Telefonía Móvil ┆ 2.0952e6      ┆ 6.2949571e7  ┆ 922335.714509 ┆ 6.2854079e7  │\n",
       "│ Telefonía Fija  ┆ 383334.445151 ┆ 22.49197     ┆ 159568.635775 ┆ 14.719928    │\n",
       "│ Televisión      ┆ 736245.032393 ┆ 18.305607    ┆ 341681.509553 ┆ 19.28        │\n",
       "└─────────────────┴───────────────┴──────────────┴───────────────┴──────────────┘"
      ]
     },
     "execution_count": 14,
     "metadata": {},
     "output_type": "execute_result"
    }
   ],
   "source": [
    "dfs_4 = [internet_pais, telefonia_movil, telefonia_fija, television]\n",
    "list_4 = [\"Internet\", \"Telefonía Móvil\", \"Telefonía Fija\", \"Televisión\"]\n",
    "\n",
    "data_pies_tabla = []\n",
    "\n",
    "for df, name in zip(dfs_4, list_4):\n",
    "    mask = df['periodo'] == '2014-01'\n",
    "    row = {}\n",
    "    row['Tecnología'] = name\n",
    "    row['Ingresos 2014'] = df.filter(mask)['ingresos_dolar_miles'][0]\n",
    "    \"\"\" # A telefonia_movil LAS VARIACIONES de los accesos las mediré por `total_accesos` al resto las \n",
    "        # mediré por `accesos_100_hab` \"\"\"\n",
    "    row['Accesos 2014'] = df.filter(mask)['accesos_100_hab'][0] if name != 'Telefonía Móvil' else \\\n",
    "                          df.filter(mask)['total_accesos'][0]\n",
    "\n",
    "    mask = (df['anio'] == 2024) & (df['trimestre'] == 1)\n",
    "    mask = df['periodo'] == '2024-01'\n",
    "    row['Ingresos 2024'] = df.filter(mask)['ingresos_dolar_miles'][0]\n",
    "    row['Accesos 2024'] = df.filter(mask)['accesos_100_hab'][0] if name != 'Telefonía Móvil' else \\\n",
    "                          df.filter(mask)['total_accesos'][0]\n",
    "\n",
    "    data_pies_tabla.append(row)\n",
    "\n",
    "\n",
    "'''Nota: Aunque en Accesos en la Tecnología \"Telefonía Movil\", tiene unos numeros que son grandes con respecto\n",
    "         a las demás tecnologías, con esta data, se utilizará para medir variaciones porcentuales. Es decir cuanto\n",
    "         a variado los accesos en 2024 con respecto a los que habían en 2014. Lo que pasa es que desconfio de la data de\n",
    "         \"accesos_100_hab\" para \"telefonia_movil\" '''\n",
    "df_pies_tabla = pl.DataFrame(data_pies_tabla)\n",
    "df_pies_tabla"
   ]
  },
  {
   "cell_type": "markdown",
   "metadata": {},
   "source": [
    "Variables comunes para los Gráficos"
   ]
  },
  {
   "cell_type": "code",
   "execution_count": 15,
   "metadata": {},
   "outputs": [],
   "source": [
    "# Listas de Dataframes, Nombres de Graficos y Colores Para los Gráficos con 4 Lineas\n",
    "dfs_4 = [internet_pais, telefonia_movil, telefonia_fija, television]\n",
    "list_4 = [\"Internet\", \"Telefonía Móvil\", \"Telefonía Fija\", \"Televisión\"]\n",
    "colors_4 = ['#22D3EE', '#38C172', '#F6993F', '#FFED4A']\n",
    "\n",
    "# Listas de Datagrames, Nombres de Graficos y Colores Para los Gráficos con 3 Lineas\n",
    "dfs_3 = [internet_pais, telefonia_fija, television]\n",
    "list_3 = [\"Internet\", \"Telefonía Fija\", \"Televisión\"]\n",
    "colors_3 = ['#22D3EE', '#F6993F', '#FFED4A']"
   ]
  },
  {
   "cell_type": "markdown",
   "metadata": {},
   "source": [
    "***\n",
    "# **Gráficos**\n",
    "#### **A tomar en Cuenta:**\n",
    "- Las variables `accesos_100_hab` y `accesos_100_hog` se refieren a la cantidad de accesos registrados (como suscripciones).  Por ejemplo en la primera `accesos_100_hab` es una manera de saber cuantas personas de cada 100 habitantes tienen registrado una linea de telefonia fija, o cuantas tienen un contrato de internet, etc.  Sí analizamos `es el porcentaje` de personas de la población que tienen contratado un servicio.  En la data de `telefonia_movil` en la hoja de `penetracion` estos números `son mayores a 100` por eso considere que esa data aunque exista la posibilidad de que sea cierta, y no tengo data que demuestre lo contrario, prefiero estudiar la tendencia de accesos de `telefonia_movil` con otras variables.\n"
   ]
  },
  {
   "cell_type": "markdown",
   "metadata": {},
   "source": [
    "### **Gráfico 1:**\n",
    "Tendencias de los Ingresos de cada Tecnología medido en Pesos Argentinos en la última Decada"
   ]
  },
  {
   "cell_type": "code",
   "execution_count": 25,
   "metadata": {},
   "outputs": [
    {
     "data": {
      "application/vnd.plotly.v1+json": {
       "config": {
        "displayModeBar": false,
        "plotlyServerURL": "https://plot.ly"
       },
       "data": [
        {
         "hovertemplate": "<extra></extra>",
         "legendgroup": "",
         "line": {
          "color": "#636efa",
          "dash": "solid"
         },
         "marker": {
          "symbol": "circle"
         },
         "mode": "lines",
         "name": "",
         "orientation": "v",
         "showlegend": false,
         "type": "scatter",
         "xaxis": "x",
         "yaxis": "y"
        },
        {
         "line": {
          "color": "#22D3EE"
         },
         "mode": "lines",
         "name": "Internet",
         "type": "scatter",
         "x": [
          "2024-03-30",
          "2023-12-30",
          "2023-09-30",
          "2023-06-30",
          "2023-03-30",
          "2022-12-30",
          "2022-09-30",
          "2022-06-30",
          "2022-03-30",
          "2021-12-30",
          "2021-09-30",
          "2021-06-30",
          "2021-03-30",
          "2020-12-30",
          "2020-09-30",
          "2020-06-30",
          "2020-03-30",
          "2019-12-30",
          "2019-09-30",
          "2019-06-30",
          "2019-03-30",
          "2018-12-30",
          "2018-09-30",
          "2018-06-30",
          "2018-03-30",
          "2017-12-30",
          "2017-09-30",
          "2017-06-30",
          "2017-03-30",
          "2016-12-30",
          "2016-09-30",
          "2016-06-30",
          "2016-03-30",
          "2015-12-30",
          "2015-09-30",
          "2015-06-30",
          "2015-03-30",
          "2014-12-30",
          "2014-09-30",
          "2014-06-30",
          "2014-03-30"
         ],
         "y": [
          280419124.08,
          167376014.8,
          133106593.41,
          118060280.28,
          104134992.81,
          72443482.9891497,
          64086784.3305304,
          60419500.6232803,
          55219313.0146503,
          45467887.16501248,
          42999944.292822465,
          38239666.63354247,
          36676371.36239245,
          33539702.716311768,
          31997444.530699246,
          32102475.991463635,
          29946216.452049132,
          24169250.699015297,
          21652748.444642507,
          20743117.694006097,
          20207413.77085243,
          16637686.589009605,
          15410980.692582969,
          14319467.460713817,
          13171459.230893355,
          11226127.38858,
          10065997.86215,
          9678646.92829,
          8701201.42137,
          7483980.393279007,
          6912441.538856647,
          6534240.597500004,
          5936844.886499999,
          5376899.206,
          5153738.8843600005,
          4701790.719660001,
          4876385.315070001,
          3950440.78037,
          3478637.7427996206,
          3270816.20391,
          2984054.2087800005
         ]
        },
        {
         "line": {
          "color": "#38C172"
         },
         "mode": "lines",
         "name": "Telefonía Móvil",
         "type": "scatter",
         "x": [
          "2014-03-30",
          "2014-06-30",
          "2014-09-30",
          "2014-12-30",
          "2015-03-30",
          "2015-06-30",
          "2015-09-30",
          "2015-12-30",
          "2016-03-30",
          "2016-06-30",
          "2016-09-30",
          "2016-12-30",
          "2017-03-30",
          "2017-06-30",
          "2017-09-30",
          "2017-12-30",
          "2018-03-30",
          "2018-06-30",
          "2018-09-30",
          "2018-12-30",
          "2019-03-30",
          "2019-06-30",
          "2019-09-30",
          "2019-12-30",
          "2020-03-30",
          "2020-06-30",
          "2020-09-30",
          "2020-12-30",
          "2021-03-30",
          "2021-06-30",
          "2021-09-30",
          "2021-12-30",
          "2022-03-30",
          "2022-06-30",
          "2022-09-30",
          "2022-12-30",
          "2023-03-30",
          "2023-06-30",
          "2023-09-30",
          "2023-12-30",
          "2024-03-30"
         ],
         "y": [
          15938353,
          17680972,
          18976053,
          20012332,
          19337342,
          19945453,
          21785238,
          24881967,
          24763052,
          25353971,
          27416177,
          30143233,
          31205565,
          33509264,
          35711689,
          38110028,
          38733946,
          40653502,
          43280089,
          44026803,
          50246691,
          55338816,
          60905891,
          65388842,
          72077147,
          73538944,
          79634755,
          83479114,
          93112153,
          104782020,
          117751925,
          127389786,
          130454676,
          153032313,
          180356862,
          216233244,
          257558366,
          307337085,
          380119973,
          515335742,
          769485386
         ]
        },
        {
         "line": {
          "color": "#F6993F"
         },
         "mode": "lines",
         "name": "Telefonía Fija",
         "type": "scatter",
         "x": [
          "2014-03-30",
          "2014-06-30",
          "2014-09-30",
          "2014-12-30",
          "2015-03-30",
          "2015-06-30",
          "2015-09-30",
          "2015-12-30",
          "2016-03-30",
          "2016-06-30",
          "2016-09-30",
          "2016-12-30",
          "2017-03-30",
          "2017-06-30",
          "2017-09-30",
          "2017-12-30",
          "2018-03-30",
          "2018-06-30",
          "2018-09-30",
          "2018-12-30",
          "2019-03-30",
          "2019-06-30",
          "2019-09-30",
          "2019-12-30",
          "2020-03-30",
          "2020-06-30",
          "2020-09-30",
          "2020-12-30",
          "2021-03-30",
          "2021-06-30",
          "2021-09-30",
          "2021-12-30",
          "2022-03-30",
          "2022-06-30",
          "2022-09-30",
          "2022-12-30",
          "2023-03-30",
          "2023-06-30",
          "2023-09-30",
          "2023-12-30",
          "2024-03-30"
         ],
         "y": [
          2916071.754,
          2974865.204,
          3105462.022,
          3339690.895,
          3260124.752,
          3425518.48,
          3590883.181,
          3815364.119,
          4198260.392,
          4718769.816,
          4951967.656,
          4964596.393,
          6375681.756,
          6970617.225,
          6667943.526,
          5514336.188,
          8252279.991,
          7911723.066,
          10111350.574,
          8997157.88,
          12238568.393,
          14181055.209,
          13404569.149,
          20321577.161,
          17067597.815,
          21035522.89,
          18162023.887,
          19750303.976,
          21378667.685,
          22178751.89,
          20789995.213,
          40616059.171,
          30583344.001,
          31258182.505,
          29698512.567,
          32356913.919,
          60878900.187,
          64560388.187,
          58985969.276,
          62663319.903,
          133124773.725
         ]
        },
        {
         "line": {
          "color": "#FFED4A"
         },
         "mode": "lines",
         "name": "Televisión",
         "type": "scatter",
         "x": [
          "2024-03-30",
          "2023-12-30",
          "2023-09-30",
          "2023-06-30",
          "2023-03-30",
          "2022-12-30",
          "2022-09-30",
          "2022-06-30",
          "2022-03-30",
          "2021-12-30",
          "2021-09-30",
          "2021-06-30",
          "2021-03-30",
          "2020-12-30",
          "2020-09-30",
          "2020-06-30",
          "2020-03-30",
          "2019-12-30",
          "2019-09-30",
          "2019-06-30",
          "2019-03-30",
          "2018-12-30",
          "2018-09-30",
          "2018-06-30",
          "2018-03-30",
          "2017-12-30",
          "2017-09-30",
          "2017-06-30",
          "2017-03-30",
          "2016-12-30",
          "2016-09-30",
          "2016-06-30",
          "2016-03-30",
          "2015-12-30",
          "2015-09-30",
          "2015-06-30",
          "2015-03-30",
          "2014-12-30",
          "2014-09-30",
          "2014-06-30",
          "2014-03-30"
         ],
         "y": [
          285057733.46000004,
          198331019.77,
          154917512.7,
          125640514.37,
          108170092.61,
          92154030.08357,
          79473082.37648,
          69881550.32273,
          63381525.055429995,
          56311457.239535,
          54437545.030415,
          51713438.156955,
          49962875.970935,
          40803721.23997003,
          38319354.933960006,
          37164735.41786002,
          37500229.677320026,
          34936035.37404,
          31180928.852429997,
          28329822.840530008,
          26295975.67244,
          23482117.88761782,
          22377201.624779988,
          21156045.612550013,
          19422734.762530014,
          18487465.633031495,
          16858392.01138001,
          15700773.564890001,
          14869605.22884,
          13533782.14817001,
          12946985.668110002,
          11754405.410700012,
          11207065.865209997,
          9982455.248870004,
          9570151.670100003,
          8664259.98909,
          8313925.453720008,
          7398091.401940005,
          6953805.5328800045,
          6395437.386059998,
          5600705.52005
         ]
        }
       ],
       "layout": {
        "legend": {
         "tracegroupgap": 0
        },
        "margin": {
         "t": 60
        },
        "template": {
         "data": {
          "bar": [
           {
            "error_x": {
             "color": "#2a3f5f"
            },
            "error_y": {
             "color": "#2a3f5f"
            },
            "marker": {
             "line": {
              "color": "#E5ECF6",
              "width": 0.5
             },
             "pattern": {
              "fillmode": "overlay",
              "size": 10,
              "solidity": 0.2
             }
            },
            "type": "bar"
           }
          ],
          "barpolar": [
           {
            "marker": {
             "line": {
              "color": "#E5ECF6",
              "width": 0.5
             },
             "pattern": {
              "fillmode": "overlay",
              "size": 10,
              "solidity": 0.2
             }
            },
            "type": "barpolar"
           }
          ],
          "carpet": [
           {
            "aaxis": {
             "endlinecolor": "#2a3f5f",
             "gridcolor": "white",
             "linecolor": "white",
             "minorgridcolor": "white",
             "startlinecolor": "#2a3f5f"
            },
            "baxis": {
             "endlinecolor": "#2a3f5f",
             "gridcolor": "white",
             "linecolor": "white",
             "minorgridcolor": "white",
             "startlinecolor": "#2a3f5f"
            },
            "type": "carpet"
           }
          ],
          "choropleth": [
           {
            "colorbar": {
             "outlinewidth": 0,
             "ticks": ""
            },
            "type": "choropleth"
           }
          ],
          "contour": [
           {
            "colorbar": {
             "outlinewidth": 0,
             "ticks": ""
            },
            "colorscale": [
             [
              0,
              "#0d0887"
             ],
             [
              0.1111111111111111,
              "#46039f"
             ],
             [
              0.2222222222222222,
              "#7201a8"
             ],
             [
              0.3333333333333333,
              "#9c179e"
             ],
             [
              0.4444444444444444,
              "#bd3786"
             ],
             [
              0.5555555555555556,
              "#d8576b"
             ],
             [
              0.6666666666666666,
              "#ed7953"
             ],
             [
              0.7777777777777778,
              "#fb9f3a"
             ],
             [
              0.8888888888888888,
              "#fdca26"
             ],
             [
              1,
              "#f0f921"
             ]
            ],
            "type": "contour"
           }
          ],
          "contourcarpet": [
           {
            "colorbar": {
             "outlinewidth": 0,
             "ticks": ""
            },
            "type": "contourcarpet"
           }
          ],
          "heatmap": [
           {
            "colorbar": {
             "outlinewidth": 0,
             "ticks": ""
            },
            "colorscale": [
             [
              0,
              "#0d0887"
             ],
             [
              0.1111111111111111,
              "#46039f"
             ],
             [
              0.2222222222222222,
              "#7201a8"
             ],
             [
              0.3333333333333333,
              "#9c179e"
             ],
             [
              0.4444444444444444,
              "#bd3786"
             ],
             [
              0.5555555555555556,
              "#d8576b"
             ],
             [
              0.6666666666666666,
              "#ed7953"
             ],
             [
              0.7777777777777778,
              "#fb9f3a"
             ],
             [
              0.8888888888888888,
              "#fdca26"
             ],
             [
              1,
              "#f0f921"
             ]
            ],
            "type": "heatmap"
           }
          ],
          "heatmapgl": [
           {
            "colorbar": {
             "outlinewidth": 0,
             "ticks": ""
            },
            "colorscale": [
             [
              0,
              "#0d0887"
             ],
             [
              0.1111111111111111,
              "#46039f"
             ],
             [
              0.2222222222222222,
              "#7201a8"
             ],
             [
              0.3333333333333333,
              "#9c179e"
             ],
             [
              0.4444444444444444,
              "#bd3786"
             ],
             [
              0.5555555555555556,
              "#d8576b"
             ],
             [
              0.6666666666666666,
              "#ed7953"
             ],
             [
              0.7777777777777778,
              "#fb9f3a"
             ],
             [
              0.8888888888888888,
              "#fdca26"
             ],
             [
              1,
              "#f0f921"
             ]
            ],
            "type": "heatmapgl"
           }
          ],
          "histogram": [
           {
            "marker": {
             "pattern": {
              "fillmode": "overlay",
              "size": 10,
              "solidity": 0.2
             }
            },
            "type": "histogram"
           }
          ],
          "histogram2d": [
           {
            "colorbar": {
             "outlinewidth": 0,
             "ticks": ""
            },
            "colorscale": [
             [
              0,
              "#0d0887"
             ],
             [
              0.1111111111111111,
              "#46039f"
             ],
             [
              0.2222222222222222,
              "#7201a8"
             ],
             [
              0.3333333333333333,
              "#9c179e"
             ],
             [
              0.4444444444444444,
              "#bd3786"
             ],
             [
              0.5555555555555556,
              "#d8576b"
             ],
             [
              0.6666666666666666,
              "#ed7953"
             ],
             [
              0.7777777777777778,
              "#fb9f3a"
             ],
             [
              0.8888888888888888,
              "#fdca26"
             ],
             [
              1,
              "#f0f921"
             ]
            ],
            "type": "histogram2d"
           }
          ],
          "histogram2dcontour": [
           {
            "colorbar": {
             "outlinewidth": 0,
             "ticks": ""
            },
            "colorscale": [
             [
              0,
              "#0d0887"
             ],
             [
              0.1111111111111111,
              "#46039f"
             ],
             [
              0.2222222222222222,
              "#7201a8"
             ],
             [
              0.3333333333333333,
              "#9c179e"
             ],
             [
              0.4444444444444444,
              "#bd3786"
             ],
             [
              0.5555555555555556,
              "#d8576b"
             ],
             [
              0.6666666666666666,
              "#ed7953"
             ],
             [
              0.7777777777777778,
              "#fb9f3a"
             ],
             [
              0.8888888888888888,
              "#fdca26"
             ],
             [
              1,
              "#f0f921"
             ]
            ],
            "type": "histogram2dcontour"
           }
          ],
          "mesh3d": [
           {
            "colorbar": {
             "outlinewidth": 0,
             "ticks": ""
            },
            "type": "mesh3d"
           }
          ],
          "parcoords": [
           {
            "line": {
             "colorbar": {
              "outlinewidth": 0,
              "ticks": ""
             }
            },
            "type": "parcoords"
           }
          ],
          "pie": [
           {
            "automargin": true,
            "type": "pie"
           }
          ],
          "scatter": [
           {
            "fillpattern": {
             "fillmode": "overlay",
             "size": 10,
             "solidity": 0.2
            },
            "type": "scatter"
           }
          ],
          "scatter3d": [
           {
            "line": {
             "colorbar": {
              "outlinewidth": 0,
              "ticks": ""
             }
            },
            "marker": {
             "colorbar": {
              "outlinewidth": 0,
              "ticks": ""
             }
            },
            "type": "scatter3d"
           }
          ],
          "scattercarpet": [
           {
            "marker": {
             "colorbar": {
              "outlinewidth": 0,
              "ticks": ""
             }
            },
            "type": "scattercarpet"
           }
          ],
          "scattergeo": [
           {
            "marker": {
             "colorbar": {
              "outlinewidth": 0,
              "ticks": ""
             }
            },
            "type": "scattergeo"
           }
          ],
          "scattergl": [
           {
            "marker": {
             "colorbar": {
              "outlinewidth": 0,
              "ticks": ""
             }
            },
            "type": "scattergl"
           }
          ],
          "scattermapbox": [
           {
            "marker": {
             "colorbar": {
              "outlinewidth": 0,
              "ticks": ""
             }
            },
            "type": "scattermapbox"
           }
          ],
          "scatterpolar": [
           {
            "marker": {
             "colorbar": {
              "outlinewidth": 0,
              "ticks": ""
             }
            },
            "type": "scatterpolar"
           }
          ],
          "scatterpolargl": [
           {
            "marker": {
             "colorbar": {
              "outlinewidth": 0,
              "ticks": ""
             }
            },
            "type": "scatterpolargl"
           }
          ],
          "scatterternary": [
           {
            "marker": {
             "colorbar": {
              "outlinewidth": 0,
              "ticks": ""
             }
            },
            "type": "scatterternary"
           }
          ],
          "surface": [
           {
            "colorbar": {
             "outlinewidth": 0,
             "ticks": ""
            },
            "colorscale": [
             [
              0,
              "#0d0887"
             ],
             [
              0.1111111111111111,
              "#46039f"
             ],
             [
              0.2222222222222222,
              "#7201a8"
             ],
             [
              0.3333333333333333,
              "#9c179e"
             ],
             [
              0.4444444444444444,
              "#bd3786"
             ],
             [
              0.5555555555555556,
              "#d8576b"
             ],
             [
              0.6666666666666666,
              "#ed7953"
             ],
             [
              0.7777777777777778,
              "#fb9f3a"
             ],
             [
              0.8888888888888888,
              "#fdca26"
             ],
             [
              1,
              "#f0f921"
             ]
            ],
            "type": "surface"
           }
          ],
          "table": [
           {
            "cells": {
             "fill": {
              "color": "#EBF0F8"
             },
             "line": {
              "color": "white"
             }
            },
            "header": {
             "fill": {
              "color": "#C8D4E3"
             },
             "line": {
              "color": "white"
             }
            },
            "type": "table"
           }
          ]
         },
         "layout": {
          "annotationdefaults": {
           "arrowcolor": "#2a3f5f",
           "arrowhead": 0,
           "arrowwidth": 1
          },
          "autotypenumbers": "strict",
          "coloraxis": {
           "colorbar": {
            "outlinewidth": 0,
            "ticks": ""
           }
          },
          "colorscale": {
           "diverging": [
            [
             0,
             "#8e0152"
            ],
            [
             0.1,
             "#c51b7d"
            ],
            [
             0.2,
             "#de77ae"
            ],
            [
             0.3,
             "#f1b6da"
            ],
            [
             0.4,
             "#fde0ef"
            ],
            [
             0.5,
             "#f7f7f7"
            ],
            [
             0.6,
             "#e6f5d0"
            ],
            [
             0.7,
             "#b8e186"
            ],
            [
             0.8,
             "#7fbc41"
            ],
            [
             0.9,
             "#4d9221"
            ],
            [
             1,
             "#276419"
            ]
           ],
           "sequential": [
            [
             0,
             "#0d0887"
            ],
            [
             0.1111111111111111,
             "#46039f"
            ],
            [
             0.2222222222222222,
             "#7201a8"
            ],
            [
             0.3333333333333333,
             "#9c179e"
            ],
            [
             0.4444444444444444,
             "#bd3786"
            ],
            [
             0.5555555555555556,
             "#d8576b"
            ],
            [
             0.6666666666666666,
             "#ed7953"
            ],
            [
             0.7777777777777778,
             "#fb9f3a"
            ],
            [
             0.8888888888888888,
             "#fdca26"
            ],
            [
             1,
             "#f0f921"
            ]
           ],
           "sequentialminus": [
            [
             0,
             "#0d0887"
            ],
            [
             0.1111111111111111,
             "#46039f"
            ],
            [
             0.2222222222222222,
             "#7201a8"
            ],
            [
             0.3333333333333333,
             "#9c179e"
            ],
            [
             0.4444444444444444,
             "#bd3786"
            ],
            [
             0.5555555555555556,
             "#d8576b"
            ],
            [
             0.6666666666666666,
             "#ed7953"
            ],
            [
             0.7777777777777778,
             "#fb9f3a"
            ],
            [
             0.8888888888888888,
             "#fdca26"
            ],
            [
             1,
             "#f0f921"
            ]
           ]
          },
          "colorway": [
           "#636efa",
           "#EF553B",
           "#00cc96",
           "#ab63fa",
           "#FFA15A",
           "#19d3f3",
           "#FF6692",
           "#B6E880",
           "#FF97FF",
           "#FECB52"
          ],
          "font": {
           "color": "#2a3f5f"
          },
          "geo": {
           "bgcolor": "white",
           "lakecolor": "white",
           "landcolor": "#E5ECF6",
           "showlakes": true,
           "showland": true,
           "subunitcolor": "white"
          },
          "hoverlabel": {
           "align": "left"
          },
          "hovermode": "closest",
          "mapbox": {
           "style": "light"
          },
          "paper_bgcolor": "white",
          "plot_bgcolor": "#E5ECF6",
          "polar": {
           "angularaxis": {
            "gridcolor": "white",
            "linecolor": "white",
            "ticks": ""
           },
           "bgcolor": "#E5ECF6",
           "radialaxis": {
            "gridcolor": "white",
            "linecolor": "white",
            "ticks": ""
           }
          },
          "scene": {
           "xaxis": {
            "backgroundcolor": "#E5ECF6",
            "gridcolor": "white",
            "gridwidth": 2,
            "linecolor": "white",
            "showbackground": true,
            "ticks": "",
            "zerolinecolor": "white"
           },
           "yaxis": {
            "backgroundcolor": "#E5ECF6",
            "gridcolor": "white",
            "gridwidth": 2,
            "linecolor": "white",
            "showbackground": true,
            "ticks": "",
            "zerolinecolor": "white"
           },
           "zaxis": {
            "backgroundcolor": "#E5ECF6",
            "gridcolor": "white",
            "gridwidth": 2,
            "linecolor": "white",
            "showbackground": true,
            "ticks": "",
            "zerolinecolor": "white"
           }
          },
          "shapedefaults": {
           "line": {
            "color": "#2a3f5f"
           }
          },
          "ternary": {
           "aaxis": {
            "gridcolor": "white",
            "linecolor": "white",
            "ticks": ""
           },
           "baxis": {
            "gridcolor": "white",
            "linecolor": "white",
            "ticks": ""
           },
           "bgcolor": "#E5ECF6",
           "caxis": {
            "gridcolor": "white",
            "linecolor": "white",
            "ticks": ""
           }
          },
          "title": {
           "x": 0.05
          },
          "xaxis": {
           "automargin": true,
           "gridcolor": "white",
           "linecolor": "white",
           "ticks": "",
           "title": {
            "standoff": 15
           },
           "zerolinecolor": "white",
           "zerolinewidth": 2
          },
          "yaxis": {
           "automargin": true,
           "gridcolor": "white",
           "linecolor": "white",
           "ticks": "",
           "title": {
            "standoff": 15
           },
           "zerolinecolor": "white",
           "zerolinewidth": 2
          }
         }
        },
        "title": {
         "text": "Tendencias de Ingresos en Miles de Pesos Argentinos"
        },
        "width": 900,
        "xaxis": {
         "anchor": "y",
         "domain": [
          0,
          1
         ],
         "title": {
          "text": "Periodo"
         }
        },
        "yaxis": {
         "anchor": "x",
         "domain": [
          0,
          1
         ],
         "title": {
          "text": "ingresos_miles"
         }
        }
       }
      }
     },
     "metadata": {},
     "output_type": "display_data"
    }
   ],
   "source": [
    "ancho_grafico = 900\n",
    "titulo = 'Tendencias de Ingresos en Miles de Pesos Argentinos'\n",
    "columna = 'ingresos_miles'\n",
    "fig = crear_grafica(dfs_4, columna, titulo, list_4, colors_4, ancho_grafico)\n",
    "\n",
    "config = {'displayModeBar': False}\n",
    "fig.show(config=config)"
   ]
  },
  {
   "cell_type": "markdown",
   "metadata": {},
   "source": [
    "**Nota:** Si observamos la linea `Telefonía Móvil` tenía un valor de `38,73` Miles de Millones para el año `2018` y de `769,48` Miles de Millones para el año `2024`. En sólo 6 años ha tenido un crecimiento de `1986 %`, lo cual me  prende una alarma en el análisis. Por eso decidí añadir data del Banco Central de Argentina, para llevar estos números a una divisa de referencia internacional."
   ]
  },
  {
   "cell_type": "markdown",
   "metadata": {},
   "source": [
    "### **Gráfico 2**\n",
    "Tendencias de los Ingresos de cada Tecnología medido en Dolares en la última Decada"
   ]
  },
  {
   "cell_type": "code",
   "execution_count": 19,
   "metadata": {},
   "outputs": [
    {
     "data": {
      "application/vnd.plotly.v1+json": {
       "config": {
        "displayModeBar": false,
        "plotlyServerURL": "https://plot.ly"
       },
       "data": [
        {
         "hovertemplate": "<extra></extra>",
         "legendgroup": "",
         "line": {
          "color": "#636efa",
          "dash": "solid"
         },
         "marker": {
          "symbol": "circle"
         },
         "mode": "lines",
         "name": "",
         "orientation": "v",
         "showlegend": false,
         "type": "scatter",
         "xaxis": "x",
         "yaxis": "y"
        },
        {
         "line": {
          "color": "#22D3EE"
         },
         "mode": "lines",
         "name": "Internet",
         "type": "scatter",
         "x": [
          "2024-03-30",
          "2023-12-30",
          "2023-09-30",
          "2023-06-30",
          "2023-03-30",
          "2022-12-30",
          "2022-09-30",
          "2022-06-30",
          "2022-03-30",
          "2021-12-30",
          "2021-09-30",
          "2021-06-30",
          "2021-03-30",
          "2020-12-30",
          "2020-09-30",
          "2020-06-30",
          "2020-03-30",
          "2019-12-30",
          "2019-09-30",
          "2019-06-30",
          "2019-03-30",
          "2018-12-30",
          "2018-09-30",
          "2018-06-30",
          "2018-03-30",
          "2017-12-30",
          "2017-09-30",
          "2017-06-30",
          "2017-03-30",
          "2016-12-30",
          "2016-09-30",
          "2016-06-30",
          "2016-03-30",
          "2015-12-30",
          "2015-09-30",
          "2015-06-30",
          "2015-03-30",
          "2014-12-30",
          "2014-09-30",
          "2014-06-30",
          "2014-03-30"
         ],
         "y": [
          336121.48830390966,
          374279.78912541474,
          426423.312849689,
          509455.50411308033,
          541418.469954825,
          446658.31782642606,
          472929.66859376454,
          512578.38275384065,
          518181.7353706792,
          452531.4317831538,
          442338.8091441487,
          406681.0211152793,
          414195.33102910355,
          419090.2849036367,
          436827.83008401276,
          474571.1444252715,
          486695.54355661,
          407109.61125306966,
          429477.89414418605,
          472140.31189085817,
          517992.4684997861,
          448603.6090929818,
          482393.190382771,
          609562.5961197345,
          668809.2061347659,
          639350.3733134699,
          582793.3332413594,
          615877.3924707886,
          555302.5564767881,
          483954.1900313213,
          462560.1992078975,
          459621.08852302196,
          411279.6704084324,
          528712.6644643196,
          557280.0801594567,
          525285.6644769771,
          561229.6441901206,
          464005.310118591,
          419269.2680892996,
          406066.42440856947,
          392271.1307961334
         ]
        },
        {
         "line": {
          "color": "#38C172"
         },
         "mode": "lines",
         "name": "Telefonía Móvil",
         "type": "scatter",
         "x": [
          "2013-03-30",
          "2013-06-30",
          "2013-09-30",
          "2013-12-30",
          "2014-03-30",
          "2014-06-30",
          "2014-09-30",
          "2014-12-30",
          "2015-03-30",
          "2015-06-30",
          "2015-09-30",
          "2015-12-30",
          "2016-03-30",
          "2016-06-30",
          "2016-09-30",
          "2016-12-30",
          "2017-03-30",
          "2017-06-30",
          "2017-09-30",
          "2017-12-30",
          "2018-03-30",
          "2018-06-30",
          "2018-09-30",
          "2018-12-30",
          "2019-03-30",
          "2019-06-30",
          "2019-09-30",
          "2019-12-30",
          "2020-03-30",
          "2020-06-30",
          "2020-09-30",
          "2020-12-30",
          "2021-03-30",
          "2021-06-30",
          "2021-09-30",
          "2021-12-30",
          "2022-03-30",
          "2022-06-30",
          "2022-09-30",
          "2022-12-30",
          "2023-03-30",
          "2023-06-30",
          "2023-09-30",
          "2023-12-30",
          "2024-03-30"
         ],
         "y": [
          null,
          null,
          null,
          null,
          2095188.397027839,
          2195063.443652179,
          2287123.9953058977,
          2350580.3104296853,
          2225560.3011319633,
          2228312.8188991235,
          2355664.39265587,
          2446653.836286042,
          1715480.201954721,
          1783408.4275775896,
          1834609.6995326753,
          1949222.62550836,
          1991510.043457219,
          2132281.329078451,
          2067607.658277749,
          2170442.2001814484,
          1966799.5186111082,
          1730570.9369755783,
          1354749.6184203576,
          1187099.0967982535,
          1288012.7957085941,
          1259583.3582654083,
          1208056.0523081073,
          1101417.1013581716,
          1171420.980454921,
          1087126.7631564015,
          1087170.483022376,
          1043100.648973503,
          1051538.5683495759,
          1114362.7191232662,
          1211309.6222690998,
          1267881.2640647525,
          1224195.4255925796,
          1298273.8138751735,
          1330946.9630174125,
          1333210.0147318547,
          1339096.999778098,
          1326225.6298221252,
          1217760.9990191269,
          1152373.911369702,
          922335.7145094054
         ]
        },
        {
         "line": {
          "color": "#F6993F"
         },
         "mode": "lines",
         "name": "Telefonía Fija",
         "type": "scatter",
         "x": [
          "2014-03-30",
          "2014-06-30",
          "2014-09-30",
          "2014-12-30",
          "2015-03-30",
          "2015-06-30",
          "2015-09-30",
          "2015-12-30",
          "2016-03-30",
          "2016-06-30",
          "2016-09-30",
          "2016-12-30",
          "2017-03-30",
          "2017-06-30",
          "2017-09-30",
          "2017-12-30",
          "2018-03-30",
          "2018-06-30",
          "2018-09-30",
          "2018-12-30",
          "2019-03-30",
          "2019-06-30",
          "2019-09-30",
          "2019-12-30",
          "2020-03-30",
          "2020-06-30",
          "2020-09-30",
          "2020-12-30",
          "2021-03-30",
          "2021-06-30",
          "2021-09-30",
          "2021-12-30",
          "2022-03-30",
          "2022-06-30",
          "2022-09-30",
          "2022-12-30",
          "2023-03-30",
          "2023-06-30",
          "2023-09-30",
          "2023-12-30",
          "2024-03-30"
         ],
         "y": [
          383334.44515135407,
          369324.59703534865,
          374291.57196321967,
          392268.71014873695,
          375212.07541289215,
          382700.09411968937,
          388286.5841386972,
          375166.29045362305,
          290837.8411969036,
          331920.15000936744,
          331371.06947732676,
          321037.3491042847,
          406890.06114649604,
          443558.4428538968,
          386055.42009847634,
          314052.45801506366,
          419027.28716931865,
          336792.5842998449,
          316504.62483663013,
          242591.26862105547,
          313720.81181104574,
          322779.24312474235,
          265876.9229569597,
          342298.95999221154,
          277388.0903812351,
          310968.29335362895,
          247947.22206270014,
          246786.9375660786,
          241434.58062564873,
          235872.2828868987,
          213865.89856968724,
          404242.30277815415,
          286996.15048945014,
          265183.73159250733,
          219160.74979827,
          199500.13644815568,
          316521.4698954954,
          278591.9619328236,
          188968.79400139622,
          140125.29923847393,
          159568.63577465108
         ]
        },
        {
         "line": {
          "color": "#FFED4A"
         },
         "mode": "lines",
         "name": "Televisión",
         "type": "scatter",
         "x": [
          "2024-03-30",
          "2023-12-30",
          "2023-09-30",
          "2023-06-30",
          "2023-03-30",
          "2022-12-30",
          "2022-09-30",
          "2022-06-30",
          "2022-03-30",
          "2021-12-30",
          "2021-09-30",
          "2021-06-30",
          "2021-03-30",
          "2020-12-30",
          "2020-09-30",
          "2020-06-30",
          "2020-03-30",
          "2019-12-30",
          "2019-09-30",
          "2019-06-30",
          "2019-03-30",
          "2018-12-30",
          "2018-09-30",
          "2018-06-30",
          "2018-03-30",
          "2017-12-30",
          "2017-09-30",
          "2017-06-30",
          "2017-03-30",
          "2016-12-30",
          "2016-09-30",
          "2016-06-30",
          "2016-03-30",
          "2015-12-30",
          "2015-09-30",
          "2015-06-30",
          "2015-03-30",
          "2014-12-30",
          "2014-09-30",
          "2014-06-30",
          "2014-03-30"
         ],
         "y": [
          341681.5095527503,
          443500.17740142817,
          496297.270417596,
          542165.8447158403,
          562397.7536795292,
          568185.8789729674,
          586473.1536003809,
          592851.1768426355,
          594776.4803765169,
          560454.9927275166,
          559996.9776124603,
          549975.34462303,
          564243.1130241873,
          509856.73022292316,
          523134.2974893207,
          549406.5636621357,
          609465.7966399663,
          588466.5584783056,
          618467.4289842758,
          644823.5790324617,
          674065.3457507207,
          633150.6953911968,
          700449.2380430662,
          900587.5478675552,
          986231.1828765204,
          1052898.0871999303,
          976054.0989528032,
          999080.9205628467,
          948964.332338762,
          875166.7205675689,
          866374.0931649641,
          826809.5625180773,
          776378.4372689726,
          981578.8450407288,
          1034832.1887312264,
          967974.0841165164,
          956860.691421282,
          868954.6018004959,
          838120.3136890887,
          793982.9785549544,
          736245.0323931545
         ]
        }
       ],
       "layout": {
        "legend": {
         "tracegroupgap": 0
        },
        "margin": {
         "t": 60
        },
        "template": {
         "data": {
          "bar": [
           {
            "error_x": {
             "color": "#2a3f5f"
            },
            "error_y": {
             "color": "#2a3f5f"
            },
            "marker": {
             "line": {
              "color": "#E5ECF6",
              "width": 0.5
             },
             "pattern": {
              "fillmode": "overlay",
              "size": 10,
              "solidity": 0.2
             }
            },
            "type": "bar"
           }
          ],
          "barpolar": [
           {
            "marker": {
             "line": {
              "color": "#E5ECF6",
              "width": 0.5
             },
             "pattern": {
              "fillmode": "overlay",
              "size": 10,
              "solidity": 0.2
             }
            },
            "type": "barpolar"
           }
          ],
          "carpet": [
           {
            "aaxis": {
             "endlinecolor": "#2a3f5f",
             "gridcolor": "white",
             "linecolor": "white",
             "minorgridcolor": "white",
             "startlinecolor": "#2a3f5f"
            },
            "baxis": {
             "endlinecolor": "#2a3f5f",
             "gridcolor": "white",
             "linecolor": "white",
             "minorgridcolor": "white",
             "startlinecolor": "#2a3f5f"
            },
            "type": "carpet"
           }
          ],
          "choropleth": [
           {
            "colorbar": {
             "outlinewidth": 0,
             "ticks": ""
            },
            "type": "choropleth"
           }
          ],
          "contour": [
           {
            "colorbar": {
             "outlinewidth": 0,
             "ticks": ""
            },
            "colorscale": [
             [
              0,
              "#0d0887"
             ],
             [
              0.1111111111111111,
              "#46039f"
             ],
             [
              0.2222222222222222,
              "#7201a8"
             ],
             [
              0.3333333333333333,
              "#9c179e"
             ],
             [
              0.4444444444444444,
              "#bd3786"
             ],
             [
              0.5555555555555556,
              "#d8576b"
             ],
             [
              0.6666666666666666,
              "#ed7953"
             ],
             [
              0.7777777777777778,
              "#fb9f3a"
             ],
             [
              0.8888888888888888,
              "#fdca26"
             ],
             [
              1,
              "#f0f921"
             ]
            ],
            "type": "contour"
           }
          ],
          "contourcarpet": [
           {
            "colorbar": {
             "outlinewidth": 0,
             "ticks": ""
            },
            "type": "contourcarpet"
           }
          ],
          "heatmap": [
           {
            "colorbar": {
             "outlinewidth": 0,
             "ticks": ""
            },
            "colorscale": [
             [
              0,
              "#0d0887"
             ],
             [
              0.1111111111111111,
              "#46039f"
             ],
             [
              0.2222222222222222,
              "#7201a8"
             ],
             [
              0.3333333333333333,
              "#9c179e"
             ],
             [
              0.4444444444444444,
              "#bd3786"
             ],
             [
              0.5555555555555556,
              "#d8576b"
             ],
             [
              0.6666666666666666,
              "#ed7953"
             ],
             [
              0.7777777777777778,
              "#fb9f3a"
             ],
             [
              0.8888888888888888,
              "#fdca26"
             ],
             [
              1,
              "#f0f921"
             ]
            ],
            "type": "heatmap"
           }
          ],
          "heatmapgl": [
           {
            "colorbar": {
             "outlinewidth": 0,
             "ticks": ""
            },
            "colorscale": [
             [
              0,
              "#0d0887"
             ],
             [
              0.1111111111111111,
              "#46039f"
             ],
             [
              0.2222222222222222,
              "#7201a8"
             ],
             [
              0.3333333333333333,
              "#9c179e"
             ],
             [
              0.4444444444444444,
              "#bd3786"
             ],
             [
              0.5555555555555556,
              "#d8576b"
             ],
             [
              0.6666666666666666,
              "#ed7953"
             ],
             [
              0.7777777777777778,
              "#fb9f3a"
             ],
             [
              0.8888888888888888,
              "#fdca26"
             ],
             [
              1,
              "#f0f921"
             ]
            ],
            "type": "heatmapgl"
           }
          ],
          "histogram": [
           {
            "marker": {
             "pattern": {
              "fillmode": "overlay",
              "size": 10,
              "solidity": 0.2
             }
            },
            "type": "histogram"
           }
          ],
          "histogram2d": [
           {
            "colorbar": {
             "outlinewidth": 0,
             "ticks": ""
            },
            "colorscale": [
             [
              0,
              "#0d0887"
             ],
             [
              0.1111111111111111,
              "#46039f"
             ],
             [
              0.2222222222222222,
              "#7201a8"
             ],
             [
              0.3333333333333333,
              "#9c179e"
             ],
             [
              0.4444444444444444,
              "#bd3786"
             ],
             [
              0.5555555555555556,
              "#d8576b"
             ],
             [
              0.6666666666666666,
              "#ed7953"
             ],
             [
              0.7777777777777778,
              "#fb9f3a"
             ],
             [
              0.8888888888888888,
              "#fdca26"
             ],
             [
              1,
              "#f0f921"
             ]
            ],
            "type": "histogram2d"
           }
          ],
          "histogram2dcontour": [
           {
            "colorbar": {
             "outlinewidth": 0,
             "ticks": ""
            },
            "colorscale": [
             [
              0,
              "#0d0887"
             ],
             [
              0.1111111111111111,
              "#46039f"
             ],
             [
              0.2222222222222222,
              "#7201a8"
             ],
             [
              0.3333333333333333,
              "#9c179e"
             ],
             [
              0.4444444444444444,
              "#bd3786"
             ],
             [
              0.5555555555555556,
              "#d8576b"
             ],
             [
              0.6666666666666666,
              "#ed7953"
             ],
             [
              0.7777777777777778,
              "#fb9f3a"
             ],
             [
              0.8888888888888888,
              "#fdca26"
             ],
             [
              1,
              "#f0f921"
             ]
            ],
            "type": "histogram2dcontour"
           }
          ],
          "mesh3d": [
           {
            "colorbar": {
             "outlinewidth": 0,
             "ticks": ""
            },
            "type": "mesh3d"
           }
          ],
          "parcoords": [
           {
            "line": {
             "colorbar": {
              "outlinewidth": 0,
              "ticks": ""
             }
            },
            "type": "parcoords"
           }
          ],
          "pie": [
           {
            "automargin": true,
            "type": "pie"
           }
          ],
          "scatter": [
           {
            "fillpattern": {
             "fillmode": "overlay",
             "size": 10,
             "solidity": 0.2
            },
            "type": "scatter"
           }
          ],
          "scatter3d": [
           {
            "line": {
             "colorbar": {
              "outlinewidth": 0,
              "ticks": ""
             }
            },
            "marker": {
             "colorbar": {
              "outlinewidth": 0,
              "ticks": ""
             }
            },
            "type": "scatter3d"
           }
          ],
          "scattercarpet": [
           {
            "marker": {
             "colorbar": {
              "outlinewidth": 0,
              "ticks": ""
             }
            },
            "type": "scattercarpet"
           }
          ],
          "scattergeo": [
           {
            "marker": {
             "colorbar": {
              "outlinewidth": 0,
              "ticks": ""
             }
            },
            "type": "scattergeo"
           }
          ],
          "scattergl": [
           {
            "marker": {
             "colorbar": {
              "outlinewidth": 0,
              "ticks": ""
             }
            },
            "type": "scattergl"
           }
          ],
          "scattermapbox": [
           {
            "marker": {
             "colorbar": {
              "outlinewidth": 0,
              "ticks": ""
             }
            },
            "type": "scattermapbox"
           }
          ],
          "scatterpolar": [
           {
            "marker": {
             "colorbar": {
              "outlinewidth": 0,
              "ticks": ""
             }
            },
            "type": "scatterpolar"
           }
          ],
          "scatterpolargl": [
           {
            "marker": {
             "colorbar": {
              "outlinewidth": 0,
              "ticks": ""
             }
            },
            "type": "scatterpolargl"
           }
          ],
          "scatterternary": [
           {
            "marker": {
             "colorbar": {
              "outlinewidth": 0,
              "ticks": ""
             }
            },
            "type": "scatterternary"
           }
          ],
          "surface": [
           {
            "colorbar": {
             "outlinewidth": 0,
             "ticks": ""
            },
            "colorscale": [
             [
              0,
              "#0d0887"
             ],
             [
              0.1111111111111111,
              "#46039f"
             ],
             [
              0.2222222222222222,
              "#7201a8"
             ],
             [
              0.3333333333333333,
              "#9c179e"
             ],
             [
              0.4444444444444444,
              "#bd3786"
             ],
             [
              0.5555555555555556,
              "#d8576b"
             ],
             [
              0.6666666666666666,
              "#ed7953"
             ],
             [
              0.7777777777777778,
              "#fb9f3a"
             ],
             [
              0.8888888888888888,
              "#fdca26"
             ],
             [
              1,
              "#f0f921"
             ]
            ],
            "type": "surface"
           }
          ],
          "table": [
           {
            "cells": {
             "fill": {
              "color": "#EBF0F8"
             },
             "line": {
              "color": "white"
             }
            },
            "header": {
             "fill": {
              "color": "#C8D4E3"
             },
             "line": {
              "color": "white"
             }
            },
            "type": "table"
           }
          ]
         },
         "layout": {
          "annotationdefaults": {
           "arrowcolor": "#2a3f5f",
           "arrowhead": 0,
           "arrowwidth": 1
          },
          "autotypenumbers": "strict",
          "coloraxis": {
           "colorbar": {
            "outlinewidth": 0,
            "ticks": ""
           }
          },
          "colorscale": {
           "diverging": [
            [
             0,
             "#8e0152"
            ],
            [
             0.1,
             "#c51b7d"
            ],
            [
             0.2,
             "#de77ae"
            ],
            [
             0.3,
             "#f1b6da"
            ],
            [
             0.4,
             "#fde0ef"
            ],
            [
             0.5,
             "#f7f7f7"
            ],
            [
             0.6,
             "#e6f5d0"
            ],
            [
             0.7,
             "#b8e186"
            ],
            [
             0.8,
             "#7fbc41"
            ],
            [
             0.9,
             "#4d9221"
            ],
            [
             1,
             "#276419"
            ]
           ],
           "sequential": [
            [
             0,
             "#0d0887"
            ],
            [
             0.1111111111111111,
             "#46039f"
            ],
            [
             0.2222222222222222,
             "#7201a8"
            ],
            [
             0.3333333333333333,
             "#9c179e"
            ],
            [
             0.4444444444444444,
             "#bd3786"
            ],
            [
             0.5555555555555556,
             "#d8576b"
            ],
            [
             0.6666666666666666,
             "#ed7953"
            ],
            [
             0.7777777777777778,
             "#fb9f3a"
            ],
            [
             0.8888888888888888,
             "#fdca26"
            ],
            [
             1,
             "#f0f921"
            ]
           ],
           "sequentialminus": [
            [
             0,
             "#0d0887"
            ],
            [
             0.1111111111111111,
             "#46039f"
            ],
            [
             0.2222222222222222,
             "#7201a8"
            ],
            [
             0.3333333333333333,
             "#9c179e"
            ],
            [
             0.4444444444444444,
             "#bd3786"
            ],
            [
             0.5555555555555556,
             "#d8576b"
            ],
            [
             0.6666666666666666,
             "#ed7953"
            ],
            [
             0.7777777777777778,
             "#fb9f3a"
            ],
            [
             0.8888888888888888,
             "#fdca26"
            ],
            [
             1,
             "#f0f921"
            ]
           ]
          },
          "colorway": [
           "#636efa",
           "#EF553B",
           "#00cc96",
           "#ab63fa",
           "#FFA15A",
           "#19d3f3",
           "#FF6692",
           "#B6E880",
           "#FF97FF",
           "#FECB52"
          ],
          "font": {
           "color": "#2a3f5f"
          },
          "geo": {
           "bgcolor": "white",
           "lakecolor": "white",
           "landcolor": "#E5ECF6",
           "showlakes": true,
           "showland": true,
           "subunitcolor": "white"
          },
          "hoverlabel": {
           "align": "left"
          },
          "hovermode": "closest",
          "mapbox": {
           "style": "light"
          },
          "paper_bgcolor": "white",
          "plot_bgcolor": "#E5ECF6",
          "polar": {
           "angularaxis": {
            "gridcolor": "white",
            "linecolor": "white",
            "ticks": ""
           },
           "bgcolor": "#E5ECF6",
           "radialaxis": {
            "gridcolor": "white",
            "linecolor": "white",
            "ticks": ""
           }
          },
          "scene": {
           "xaxis": {
            "backgroundcolor": "#E5ECF6",
            "gridcolor": "white",
            "gridwidth": 2,
            "linecolor": "white",
            "showbackground": true,
            "ticks": "",
            "zerolinecolor": "white"
           },
           "yaxis": {
            "backgroundcolor": "#E5ECF6",
            "gridcolor": "white",
            "gridwidth": 2,
            "linecolor": "white",
            "showbackground": true,
            "ticks": "",
            "zerolinecolor": "white"
           },
           "zaxis": {
            "backgroundcolor": "#E5ECF6",
            "gridcolor": "white",
            "gridwidth": 2,
            "linecolor": "white",
            "showbackground": true,
            "ticks": "",
            "zerolinecolor": "white"
           }
          },
          "shapedefaults": {
           "line": {
            "color": "#2a3f5f"
           }
          },
          "ternary": {
           "aaxis": {
            "gridcolor": "white",
            "linecolor": "white",
            "ticks": ""
           },
           "baxis": {
            "gridcolor": "white",
            "linecolor": "white",
            "ticks": ""
           },
           "bgcolor": "#E5ECF6",
           "caxis": {
            "gridcolor": "white",
            "linecolor": "white",
            "ticks": ""
           }
          },
          "title": {
           "x": 0.05
          },
          "xaxis": {
           "automargin": true,
           "gridcolor": "white",
           "linecolor": "white",
           "ticks": "",
           "title": {
            "standoff": 15
           },
           "zerolinecolor": "white",
           "zerolinewidth": 2
          },
          "yaxis": {
           "automargin": true,
           "gridcolor": "white",
           "linecolor": "white",
           "ticks": "",
           "title": {
            "standoff": 15
           },
           "zerolinecolor": "white",
           "zerolinewidth": 2
          }
         }
        },
        "title": {
         "text": "Tendencias de Ingresos en Miles de Dolares"
        },
        "width": 900,
        "xaxis": {
         "anchor": "y",
         "domain": [
          0,
          1
         ],
         "title": {
          "text": "Periodo"
         }
        },
        "yaxis": {
         "anchor": "x",
         "domain": [
          0,
          1
         ],
         "title": {
          "text": "ingresos_dolar_miles"
         }
        }
       }
      }
     },
     "metadata": {},
     "output_type": "display_data"
    }
   ],
   "source": [
    "ancho_grafico = 900\n",
    "titulo = 'Tendencias de Ingresos en Miles de Dolares'\n",
    "columna = 'ingresos_dolar_miles'\n",
    "fig = crear_grafica(dfs_4, columna, titulo, list_4, colors_4, ancho_grafico)\n",
    "\n",
    "config = {'displayModeBar': False}\n",
    "fig.show(config=config)\n",
    "# fig.show()"
   ]
  },
  {
   "cell_type": "markdown",
   "metadata": {},
   "source": [
    "Acá se observa una realidad muy distinta. En Dolares todas las tecnologías han bajado su nivel de Ingresos considerablemente. Este bajón de Ingresos puede deberse a varias cuasas:\n",
    "- Situación de `inflación/devaluación` local, en ciertos periodos de tiempo del análisis.\n",
    "- Incorporación de Nuevos actores al mercado, lo que deriva en una mayor `oferta` y competencia, para conquistar una parte del mercado.\n",
    "- Avances de la Ciencia en este periodo de tiempo, lo que puede derivar en que ahora la `masificación de la tecnología` sea mas barata para agentes prestadores de los distintos servicios, y a su vez estos últimos puden ofrecer planes (en dolares) mas económicos.\n",
    "- En línea con el punto anterior, recordar que para los prestadores de servicio, el ofrecer estas tecnologías es tratado como `economía de escala`, ya que necesitan una fuerte Inversión Inicial que no varia, tengan o no tengan clientes (en el caso de Tecnologías que requieran de Tendidos de Cableado). <br>\n",
    "<br>\n",
    "**Nota:** Como próximos pasos antes de una inversión tocaría hacer lo siguiente:\n",
    "- Investigar (quizas con economistas y/o expertos de Argentina), las perspectivas reales de la situación `devaluación/inflación` local del país.\n",
    "- Investigar los costos de cada Tecnología, porque esta Data refleja los Ingresos, pero no se sabe cual es la situación de los costos, para poder manejar rentabilidad. `Es probable que así como han caído los ingresos, también hayan caído los costos, dado que hablamos del mercado tecnológico, pero en la data suministrada no hay data que pueda sustentar dicha hipótesis`."
   ]
  },
  {
   "cell_type": "markdown",
   "metadata": {},
   "source": [
    "### **Gráfico 3:**\n",
    "Proporciones del mercado en Argentina, de estas tecnologías, en la última Decada, medido en Dolares"
   ]
  },
  {
   "cell_type": "code",
   "execution_count": 21,
   "metadata": {},
   "outputs": [
    {
     "data": {
      "application/vnd.plotly.v1+json": {
       "config": {
        "displayModeBar": false,
        "plotlyServerURL": "https://plot.ly"
       },
       "data": [
        {
         "domain": {
          "x": [
           0,
           0.45
          ],
          "y": [
           0,
           1
          ]
         },
         "labels": [
          "Internet",
          "Telefonía Móvil",
          "Telefonía Fija",
          "Televisión"
         ],
         "marker": {
          "colors": [
           "#22D3EE",
           "#38C172",
           "#F6993F",
           "#FFED4A"
          ]
         },
         "name": "Ingresos 2014",
         "scalegroup": "one",
         "type": "pie",
         "values": [
          392271.1307961334,
          2095188.397027839,
          383334.44515135407,
          736245.0323931545
         ]
        },
        {
         "domain": {
          "x": [
           0.55,
           1
          ],
          "y": [
           0,
           1
          ]
         },
         "labels": [
          "Internet",
          "Telefonía Móvil",
          "Telefonía Fija",
          "Televisión"
         ],
         "marker": {
          "colors": [
           "#22D3EE",
           "#38C172",
           "#F6993F",
           "#FFED4A"
          ]
         },
         "name": "Ingresos 2024",
         "scalegroup": "one",
         "type": "pie",
         "values": [
          336121.48830390966,
          922335.7145094054,
          159568.63577465108,
          341681.5095527503
         ]
        }
       ],
       "layout": {
        "annotations": [
         {
          "font": {
           "size": 16
          },
          "showarrow": false,
          "text": "Ingresos 2014",
          "x": 0.225,
          "xanchor": "center",
          "xref": "paper",
          "y": 1,
          "yanchor": "bottom",
          "yref": "paper"
         },
         {
          "font": {
           "size": 16
          },
          "showarrow": false,
          "text": "Ingresos 2024",
          "x": 0.775,
          "xanchor": "center",
          "xref": "paper",
          "y": 1,
          "yanchor": "bottom",
          "yref": "paper"
         },
         {
          "font": {
           "size": 14
          },
          "showarrow": false,
          "text": "Nota: Para el Año 2024 el total de Ingresos en dolares representa un 48.79% con respecto al 2014",
          "x": 0.45,
          "xanchor": "center",
          "y": -0.3
         }
        ],
        "template": {
         "data": {
          "bar": [
           {
            "error_x": {
             "color": "#2a3f5f"
            },
            "error_y": {
             "color": "#2a3f5f"
            },
            "marker": {
             "line": {
              "color": "#E5ECF6",
              "width": 0.5
             },
             "pattern": {
              "fillmode": "overlay",
              "size": 10,
              "solidity": 0.2
             }
            },
            "type": "bar"
           }
          ],
          "barpolar": [
           {
            "marker": {
             "line": {
              "color": "#E5ECF6",
              "width": 0.5
             },
             "pattern": {
              "fillmode": "overlay",
              "size": 10,
              "solidity": 0.2
             }
            },
            "type": "barpolar"
           }
          ],
          "carpet": [
           {
            "aaxis": {
             "endlinecolor": "#2a3f5f",
             "gridcolor": "white",
             "linecolor": "white",
             "minorgridcolor": "white",
             "startlinecolor": "#2a3f5f"
            },
            "baxis": {
             "endlinecolor": "#2a3f5f",
             "gridcolor": "white",
             "linecolor": "white",
             "minorgridcolor": "white",
             "startlinecolor": "#2a3f5f"
            },
            "type": "carpet"
           }
          ],
          "choropleth": [
           {
            "colorbar": {
             "outlinewidth": 0,
             "ticks": ""
            },
            "type": "choropleth"
           }
          ],
          "contour": [
           {
            "colorbar": {
             "outlinewidth": 0,
             "ticks": ""
            },
            "colorscale": [
             [
              0,
              "#0d0887"
             ],
             [
              0.1111111111111111,
              "#46039f"
             ],
             [
              0.2222222222222222,
              "#7201a8"
             ],
             [
              0.3333333333333333,
              "#9c179e"
             ],
             [
              0.4444444444444444,
              "#bd3786"
             ],
             [
              0.5555555555555556,
              "#d8576b"
             ],
             [
              0.6666666666666666,
              "#ed7953"
             ],
             [
              0.7777777777777778,
              "#fb9f3a"
             ],
             [
              0.8888888888888888,
              "#fdca26"
             ],
             [
              1,
              "#f0f921"
             ]
            ],
            "type": "contour"
           }
          ],
          "contourcarpet": [
           {
            "colorbar": {
             "outlinewidth": 0,
             "ticks": ""
            },
            "type": "contourcarpet"
           }
          ],
          "heatmap": [
           {
            "colorbar": {
             "outlinewidth": 0,
             "ticks": ""
            },
            "colorscale": [
             [
              0,
              "#0d0887"
             ],
             [
              0.1111111111111111,
              "#46039f"
             ],
             [
              0.2222222222222222,
              "#7201a8"
             ],
             [
              0.3333333333333333,
              "#9c179e"
             ],
             [
              0.4444444444444444,
              "#bd3786"
             ],
             [
              0.5555555555555556,
              "#d8576b"
             ],
             [
              0.6666666666666666,
              "#ed7953"
             ],
             [
              0.7777777777777778,
              "#fb9f3a"
             ],
             [
              0.8888888888888888,
              "#fdca26"
             ],
             [
              1,
              "#f0f921"
             ]
            ],
            "type": "heatmap"
           }
          ],
          "heatmapgl": [
           {
            "colorbar": {
             "outlinewidth": 0,
             "ticks": ""
            },
            "colorscale": [
             [
              0,
              "#0d0887"
             ],
             [
              0.1111111111111111,
              "#46039f"
             ],
             [
              0.2222222222222222,
              "#7201a8"
             ],
             [
              0.3333333333333333,
              "#9c179e"
             ],
             [
              0.4444444444444444,
              "#bd3786"
             ],
             [
              0.5555555555555556,
              "#d8576b"
             ],
             [
              0.6666666666666666,
              "#ed7953"
             ],
             [
              0.7777777777777778,
              "#fb9f3a"
             ],
             [
              0.8888888888888888,
              "#fdca26"
             ],
             [
              1,
              "#f0f921"
             ]
            ],
            "type": "heatmapgl"
           }
          ],
          "histogram": [
           {
            "marker": {
             "pattern": {
              "fillmode": "overlay",
              "size": 10,
              "solidity": 0.2
             }
            },
            "type": "histogram"
           }
          ],
          "histogram2d": [
           {
            "colorbar": {
             "outlinewidth": 0,
             "ticks": ""
            },
            "colorscale": [
             [
              0,
              "#0d0887"
             ],
             [
              0.1111111111111111,
              "#46039f"
             ],
             [
              0.2222222222222222,
              "#7201a8"
             ],
             [
              0.3333333333333333,
              "#9c179e"
             ],
             [
              0.4444444444444444,
              "#bd3786"
             ],
             [
              0.5555555555555556,
              "#d8576b"
             ],
             [
              0.6666666666666666,
              "#ed7953"
             ],
             [
              0.7777777777777778,
              "#fb9f3a"
             ],
             [
              0.8888888888888888,
              "#fdca26"
             ],
             [
              1,
              "#f0f921"
             ]
            ],
            "type": "histogram2d"
           }
          ],
          "histogram2dcontour": [
           {
            "colorbar": {
             "outlinewidth": 0,
             "ticks": ""
            },
            "colorscale": [
             [
              0,
              "#0d0887"
             ],
             [
              0.1111111111111111,
              "#46039f"
             ],
             [
              0.2222222222222222,
              "#7201a8"
             ],
             [
              0.3333333333333333,
              "#9c179e"
             ],
             [
              0.4444444444444444,
              "#bd3786"
             ],
             [
              0.5555555555555556,
              "#d8576b"
             ],
             [
              0.6666666666666666,
              "#ed7953"
             ],
             [
              0.7777777777777778,
              "#fb9f3a"
             ],
             [
              0.8888888888888888,
              "#fdca26"
             ],
             [
              1,
              "#f0f921"
             ]
            ],
            "type": "histogram2dcontour"
           }
          ],
          "mesh3d": [
           {
            "colorbar": {
             "outlinewidth": 0,
             "ticks": ""
            },
            "type": "mesh3d"
           }
          ],
          "parcoords": [
           {
            "line": {
             "colorbar": {
              "outlinewidth": 0,
              "ticks": ""
             }
            },
            "type": "parcoords"
           }
          ],
          "pie": [
           {
            "automargin": true,
            "type": "pie"
           }
          ],
          "scatter": [
           {
            "fillpattern": {
             "fillmode": "overlay",
             "size": 10,
             "solidity": 0.2
            },
            "type": "scatter"
           }
          ],
          "scatter3d": [
           {
            "line": {
             "colorbar": {
              "outlinewidth": 0,
              "ticks": ""
             }
            },
            "marker": {
             "colorbar": {
              "outlinewidth": 0,
              "ticks": ""
             }
            },
            "type": "scatter3d"
           }
          ],
          "scattercarpet": [
           {
            "marker": {
             "colorbar": {
              "outlinewidth": 0,
              "ticks": ""
             }
            },
            "type": "scattercarpet"
           }
          ],
          "scattergeo": [
           {
            "marker": {
             "colorbar": {
              "outlinewidth": 0,
              "ticks": ""
             }
            },
            "type": "scattergeo"
           }
          ],
          "scattergl": [
           {
            "marker": {
             "colorbar": {
              "outlinewidth": 0,
              "ticks": ""
             }
            },
            "type": "scattergl"
           }
          ],
          "scattermapbox": [
           {
            "marker": {
             "colorbar": {
              "outlinewidth": 0,
              "ticks": ""
             }
            },
            "type": "scattermapbox"
           }
          ],
          "scatterpolar": [
           {
            "marker": {
             "colorbar": {
              "outlinewidth": 0,
              "ticks": ""
             }
            },
            "type": "scatterpolar"
           }
          ],
          "scatterpolargl": [
           {
            "marker": {
             "colorbar": {
              "outlinewidth": 0,
              "ticks": ""
             }
            },
            "type": "scatterpolargl"
           }
          ],
          "scatterternary": [
           {
            "marker": {
             "colorbar": {
              "outlinewidth": 0,
              "ticks": ""
             }
            },
            "type": "scatterternary"
           }
          ],
          "surface": [
           {
            "colorbar": {
             "outlinewidth": 0,
             "ticks": ""
            },
            "colorscale": [
             [
              0,
              "#0d0887"
             ],
             [
              0.1111111111111111,
              "#46039f"
             ],
             [
              0.2222222222222222,
              "#7201a8"
             ],
             [
              0.3333333333333333,
              "#9c179e"
             ],
             [
              0.4444444444444444,
              "#bd3786"
             ],
             [
              0.5555555555555556,
              "#d8576b"
             ],
             [
              0.6666666666666666,
              "#ed7953"
             ],
             [
              0.7777777777777778,
              "#fb9f3a"
             ],
             [
              0.8888888888888888,
              "#fdca26"
             ],
             [
              1,
              "#f0f921"
             ]
            ],
            "type": "surface"
           }
          ],
          "table": [
           {
            "cells": {
             "fill": {
              "color": "#EBF0F8"
             },
             "line": {
              "color": "white"
             }
            },
            "header": {
             "fill": {
              "color": "#C8D4E3"
             },
             "line": {
              "color": "white"
             }
            },
            "type": "table"
           }
          ]
         },
         "layout": {
          "annotationdefaults": {
           "arrowcolor": "#2a3f5f",
           "arrowhead": 0,
           "arrowwidth": 1
          },
          "autotypenumbers": "strict",
          "coloraxis": {
           "colorbar": {
            "outlinewidth": 0,
            "ticks": ""
           }
          },
          "colorscale": {
           "diverging": [
            [
             0,
             "#8e0152"
            ],
            [
             0.1,
             "#c51b7d"
            ],
            [
             0.2,
             "#de77ae"
            ],
            [
             0.3,
             "#f1b6da"
            ],
            [
             0.4,
             "#fde0ef"
            ],
            [
             0.5,
             "#f7f7f7"
            ],
            [
             0.6,
             "#e6f5d0"
            ],
            [
             0.7,
             "#b8e186"
            ],
            [
             0.8,
             "#7fbc41"
            ],
            [
             0.9,
             "#4d9221"
            ],
            [
             1,
             "#276419"
            ]
           ],
           "sequential": [
            [
             0,
             "#0d0887"
            ],
            [
             0.1111111111111111,
             "#46039f"
            ],
            [
             0.2222222222222222,
             "#7201a8"
            ],
            [
             0.3333333333333333,
             "#9c179e"
            ],
            [
             0.4444444444444444,
             "#bd3786"
            ],
            [
             0.5555555555555556,
             "#d8576b"
            ],
            [
             0.6666666666666666,
             "#ed7953"
            ],
            [
             0.7777777777777778,
             "#fb9f3a"
            ],
            [
             0.8888888888888888,
             "#fdca26"
            ],
            [
             1,
             "#f0f921"
            ]
           ],
           "sequentialminus": [
            [
             0,
             "#0d0887"
            ],
            [
             0.1111111111111111,
             "#46039f"
            ],
            [
             0.2222222222222222,
             "#7201a8"
            ],
            [
             0.3333333333333333,
             "#9c179e"
            ],
            [
             0.4444444444444444,
             "#bd3786"
            ],
            [
             0.5555555555555556,
             "#d8576b"
            ],
            [
             0.6666666666666666,
             "#ed7953"
            ],
            [
             0.7777777777777778,
             "#fb9f3a"
            ],
            [
             0.8888888888888888,
             "#fdca26"
            ],
            [
             1,
             "#f0f921"
            ]
           ]
          },
          "colorway": [
           "#636efa",
           "#EF553B",
           "#00cc96",
           "#ab63fa",
           "#FFA15A",
           "#19d3f3",
           "#FF6692",
           "#B6E880",
           "#FF97FF",
           "#FECB52"
          ],
          "font": {
           "color": "#2a3f5f"
          },
          "geo": {
           "bgcolor": "white",
           "lakecolor": "white",
           "landcolor": "#E5ECF6",
           "showlakes": true,
           "showland": true,
           "subunitcolor": "white"
          },
          "hoverlabel": {
           "align": "left"
          },
          "hovermode": "closest",
          "mapbox": {
           "style": "light"
          },
          "paper_bgcolor": "white",
          "plot_bgcolor": "#E5ECF6",
          "polar": {
           "angularaxis": {
            "gridcolor": "white",
            "linecolor": "white",
            "ticks": ""
           },
           "bgcolor": "#E5ECF6",
           "radialaxis": {
            "gridcolor": "white",
            "linecolor": "white",
            "ticks": ""
           }
          },
          "scene": {
           "xaxis": {
            "backgroundcolor": "#E5ECF6",
            "gridcolor": "white",
            "gridwidth": 2,
            "linecolor": "white",
            "showbackground": true,
            "ticks": "",
            "zerolinecolor": "white"
           },
           "yaxis": {
            "backgroundcolor": "#E5ECF6",
            "gridcolor": "white",
            "gridwidth": 2,
            "linecolor": "white",
            "showbackground": true,
            "ticks": "",
            "zerolinecolor": "white"
           },
           "zaxis": {
            "backgroundcolor": "#E5ECF6",
            "gridcolor": "white",
            "gridwidth": 2,
            "linecolor": "white",
            "showbackground": true,
            "ticks": "",
            "zerolinecolor": "white"
           }
          },
          "shapedefaults": {
           "line": {
            "color": "#2a3f5f"
           }
          },
          "ternary": {
           "aaxis": {
            "gridcolor": "white",
            "linecolor": "white",
            "ticks": ""
           },
           "baxis": {
            "gridcolor": "white",
            "linecolor": "white",
            "ticks": ""
           },
           "bgcolor": "#E5ECF6",
           "caxis": {
            "gridcolor": "white",
            "linecolor": "white",
            "ticks": ""
           }
          },
          "title": {
           "x": 0.05
          },
          "xaxis": {
           "automargin": true,
           "gridcolor": "white",
           "linecolor": "white",
           "ticks": "",
           "title": {
            "standoff": 15
           },
           "zerolinecolor": "white",
           "zerolinewidth": 2
          },
          "yaxis": {
           "automargin": true,
           "gridcolor": "white",
           "linecolor": "white",
           "ticks": "",
           "title": {
            "standoff": 15
           },
           "zerolinecolor": "white",
           "zerolinewidth": 2
          }
         }
        },
        "title": {
         "text": "Comparación de Ingresos (en Dolares) por Tecnología"
        },
        "width": 900
       }
      }
     },
     "metadata": {},
     "output_type": "display_data"
    }
   ],
   "source": [
    "ancho_grafico = 900\n",
    "fig = crear_graf_pie(df=df_pies_tabla, width=ancho_grafico)\n",
    "\n",
    "config = {'displayModeBar': False}\n",
    "fig.show(config=config)"
   ]
  },
  {
   "cell_type": "markdown",
   "metadata": {},
   "source": [
    "### **Gráfico 4:**\n",
    "Tendencias de los Accesos por cada 100 Hogares en Argentina en la última Decada"
   ]
  },
  {
   "cell_type": "code",
   "execution_count": 22,
   "metadata": {},
   "outputs": [
    {
     "data": {
      "application/vnd.plotly.v1+json": {
       "config": {
        "displayModeBar": false,
        "plotlyServerURL": "https://plot.ly"
       },
       "data": [
        {
         "hovertemplate": "<extra></extra>",
         "legendgroup": "",
         "line": {
          "color": "#636efa",
          "dash": "solid"
         },
         "marker": {
          "symbol": "circle"
         },
         "mode": "lines",
         "name": "",
         "orientation": "v",
         "showlegend": false,
         "type": "scatter",
         "xaxis": "x",
         "yaxis": "y"
        },
        {
         "line": {
          "color": "#22D3EE"
         },
         "mode": "lines",
         "name": "Internet",
         "type": "scatter",
         "x": [
          "2024-03-30",
          "2023-12-30",
          "2023-09-30",
          "2023-06-30",
          "2023-03-30",
          "2022-12-30",
          "2022-09-30",
          "2022-06-30",
          "2022-03-30",
          "2021-12-30",
          "2021-09-30",
          "2021-06-30",
          "2021-03-30",
          "2020-12-30",
          "2020-09-30",
          "2020-06-30",
          "2020-03-30",
          "2019-12-30",
          "2019-09-30",
          "2019-06-30",
          "2019-03-30",
          "2018-12-30",
          "2018-09-30",
          "2018-06-30",
          "2018-03-30",
          "2017-12-30",
          "2017-09-30",
          "2017-06-30",
          "2017-03-30",
          "2016-12-30",
          "2016-09-30",
          "2016-06-30",
          "2016-03-30",
          "2015-12-30",
          "2015-09-30",
          "2015-06-30",
          "2015-03-30",
          "2014-12-30",
          "2014-09-30",
          "2014-06-30",
          "2014-03-30"
         ],
         "y": [
          78.89,
          78.56,
          77.84,
          77.02,
          77.2,
          77.21,
          76.64,
          75.96542437191371,
          73.87880284452622,
          73.17639652814779,
          70.57885341443017,
          69.24018269199719,
          67.94587638885211,
          67.62233866155619,
          66.31,
          64.21000287666993,
          62.85636111359369,
          62.91991182091471,
          65.7879845391111,
          64.53,
          62.47916610977176,
          61.41580723435766,
          60.69,
          59.1620687879326,
          58.82,
          57.782350963183326,
          56.89922141223151,
          54.901190659837084,
          54.16211582414749,
          53.93601866428618,
          53.73418622887769,
          53.342201152611636,
          51.84545169695796,
          52.63088750448939,
          52.45910622153948,
          51.760266081540586,
          51.36458636223469,
          50.49978847426527,
          50.67236813472314,
          49.861428437657636,
          49.545821345016996
         ]
        },
        {
         "line": {
          "color": "#F6993F"
         },
         "mode": "lines",
         "name": "Telefonía Fija",
         "type": "scatter",
         "x": [
          "2014-03-30",
          "2014-06-30",
          "2014-09-30",
          "2014-12-30",
          "2015-03-30",
          "2015-06-30",
          "2015-09-30",
          "2015-12-30",
          "2016-03-30",
          "2016-06-30",
          "2016-09-30",
          "2016-12-30",
          "2017-03-30",
          "2017-06-30",
          "2017-09-30",
          "2017-12-30",
          "2018-03-30",
          "2018-06-30",
          "2018-09-30",
          "2018-12-30",
          "2019-03-30",
          "2019-06-30",
          "2019-09-30",
          "2019-12-30",
          "2020-03-30",
          "2020-06-30",
          "2020-09-30",
          "2020-12-30",
          "2021-03-30",
          "2021-06-30",
          "2021-09-30",
          "2021-12-30",
          "2022-03-30",
          "2022-06-30",
          "2022-09-30",
          "2022-12-30",
          "2023-03-30",
          "2023-06-30",
          "2023-09-30",
          "2023-12-30",
          "2024-03-30"
         ],
         "y": [
          74.04489465351008,
          73.65284397804899,
          73.86076941853328,
          74.15788656399963,
          76.89152943933459,
          75.87037021849584,
          76.02612899245995,
          75.1679048850558,
          76.85505274084012,
          77.65393413096376,
          75.53176117547694,
          76.31719677136864,
          76.85505274084012,
          77.65393413096376,
          75.53176117547694,
          76.31719677136864,
          70.74443187666087,
          70.78415284482486,
          70.49396663242669,
          71.07184144017731,
          60.16198959226623,
          58.54698466555487,
          56.65706959209466,
          55.547070681513155,
          53.892016536729145,
          53.06309272656109,
          52.67734709544315,
          52.02631218542657,
          51.358703812133896,
          50.35037018974039,
          49.635112763385294,
          53.8796037370409,
          51.52092986398019,
          50.179860305145986,
          49.78641439117163,
          49.74321196996818,
          50.01988952451518,
          50.9658040822636,
          50.552589731728744,
          49.69615252407399,
          46.848116423271605
         ]
        },
        {
         "line": {
          "color": "#FFED4A"
         },
         "mode": "lines",
         "name": "Televisión",
         "type": "scatter",
         "x": [
          "2024-03-30",
          "2023-12-30",
          "2023-09-30",
          "2023-06-30",
          "2023-03-30",
          "2022-12-30",
          "2022-09-30",
          "2022-06-30",
          "2022-03-30",
          "2021-12-30",
          "2021-09-30",
          "2021-06-30",
          "2021-03-30",
          "2020-12-30",
          "2020-09-30",
          "2020-06-30",
          "2020-03-30",
          "2019-12-30",
          "2019-09-30",
          "2019-06-30",
          "2019-03-30",
          "2018-12-30",
          "2018-09-30",
          "2018-06-30",
          "2018-03-30",
          "2017-12-30",
          "2017-09-30",
          "2017-06-30",
          "2017-03-30",
          "2016-12-30",
          "2016-09-30",
          "2016-06-30",
          "2016-03-30",
          "2015-12-30",
          "2015-09-30",
          "2015-06-30",
          "2015-03-30",
          "2014-12-30",
          "2014-09-30",
          "2014-06-30",
          "2014-03-30"
         ],
         "y": [
          61.349999999999994,
          62.309999999999995,
          64.33,
          67.17,
          65.49,
          65.56,
          67.24,
          67.32,
          66.85841713825442,
          67.01,
          68.7518234225108,
          67.80818744322465,
          67.67002857002812,
          68.19679453186343,
          69.32601886209949,
          68.80876430176339,
          69.03508095574996,
          69.80980445640978,
          69.03932950651567,
          68.47696024039885,
          68.28947168794427,
          68.03218626401463,
          69.65974016738687,
          68.81381366704653,
          68.78,
          68.92825205609796,
          68.94,
          69.03999999999999,
          67.78,
          70.94813234980879,
          70.57161384806479,
          70.64662038610543,
          69.63272722589268,
          70.34734826359335,
          70.58830571636952,
          70.34017640151956,
          69.26704181182394,
          70.10809622278116,
          69.76129417270583,
          70.4246437559696,
          61.206370689784194
         ]
        }
       ],
       "layout": {
        "legend": {
         "tracegroupgap": 0
        },
        "margin": {
         "t": 60
        },
        "template": {
         "data": {
          "bar": [
           {
            "error_x": {
             "color": "#2a3f5f"
            },
            "error_y": {
             "color": "#2a3f5f"
            },
            "marker": {
             "line": {
              "color": "#E5ECF6",
              "width": 0.5
             },
             "pattern": {
              "fillmode": "overlay",
              "size": 10,
              "solidity": 0.2
             }
            },
            "type": "bar"
           }
          ],
          "barpolar": [
           {
            "marker": {
             "line": {
              "color": "#E5ECF6",
              "width": 0.5
             },
             "pattern": {
              "fillmode": "overlay",
              "size": 10,
              "solidity": 0.2
             }
            },
            "type": "barpolar"
           }
          ],
          "carpet": [
           {
            "aaxis": {
             "endlinecolor": "#2a3f5f",
             "gridcolor": "white",
             "linecolor": "white",
             "minorgridcolor": "white",
             "startlinecolor": "#2a3f5f"
            },
            "baxis": {
             "endlinecolor": "#2a3f5f",
             "gridcolor": "white",
             "linecolor": "white",
             "minorgridcolor": "white",
             "startlinecolor": "#2a3f5f"
            },
            "type": "carpet"
           }
          ],
          "choropleth": [
           {
            "colorbar": {
             "outlinewidth": 0,
             "ticks": ""
            },
            "type": "choropleth"
           }
          ],
          "contour": [
           {
            "colorbar": {
             "outlinewidth": 0,
             "ticks": ""
            },
            "colorscale": [
             [
              0,
              "#0d0887"
             ],
             [
              0.1111111111111111,
              "#46039f"
             ],
             [
              0.2222222222222222,
              "#7201a8"
             ],
             [
              0.3333333333333333,
              "#9c179e"
             ],
             [
              0.4444444444444444,
              "#bd3786"
             ],
             [
              0.5555555555555556,
              "#d8576b"
             ],
             [
              0.6666666666666666,
              "#ed7953"
             ],
             [
              0.7777777777777778,
              "#fb9f3a"
             ],
             [
              0.8888888888888888,
              "#fdca26"
             ],
             [
              1,
              "#f0f921"
             ]
            ],
            "type": "contour"
           }
          ],
          "contourcarpet": [
           {
            "colorbar": {
             "outlinewidth": 0,
             "ticks": ""
            },
            "type": "contourcarpet"
           }
          ],
          "heatmap": [
           {
            "colorbar": {
             "outlinewidth": 0,
             "ticks": ""
            },
            "colorscale": [
             [
              0,
              "#0d0887"
             ],
             [
              0.1111111111111111,
              "#46039f"
             ],
             [
              0.2222222222222222,
              "#7201a8"
             ],
             [
              0.3333333333333333,
              "#9c179e"
             ],
             [
              0.4444444444444444,
              "#bd3786"
             ],
             [
              0.5555555555555556,
              "#d8576b"
             ],
             [
              0.6666666666666666,
              "#ed7953"
             ],
             [
              0.7777777777777778,
              "#fb9f3a"
             ],
             [
              0.8888888888888888,
              "#fdca26"
             ],
             [
              1,
              "#f0f921"
             ]
            ],
            "type": "heatmap"
           }
          ],
          "heatmapgl": [
           {
            "colorbar": {
             "outlinewidth": 0,
             "ticks": ""
            },
            "colorscale": [
             [
              0,
              "#0d0887"
             ],
             [
              0.1111111111111111,
              "#46039f"
             ],
             [
              0.2222222222222222,
              "#7201a8"
             ],
             [
              0.3333333333333333,
              "#9c179e"
             ],
             [
              0.4444444444444444,
              "#bd3786"
             ],
             [
              0.5555555555555556,
              "#d8576b"
             ],
             [
              0.6666666666666666,
              "#ed7953"
             ],
             [
              0.7777777777777778,
              "#fb9f3a"
             ],
             [
              0.8888888888888888,
              "#fdca26"
             ],
             [
              1,
              "#f0f921"
             ]
            ],
            "type": "heatmapgl"
           }
          ],
          "histogram": [
           {
            "marker": {
             "pattern": {
              "fillmode": "overlay",
              "size": 10,
              "solidity": 0.2
             }
            },
            "type": "histogram"
           }
          ],
          "histogram2d": [
           {
            "colorbar": {
             "outlinewidth": 0,
             "ticks": ""
            },
            "colorscale": [
             [
              0,
              "#0d0887"
             ],
             [
              0.1111111111111111,
              "#46039f"
             ],
             [
              0.2222222222222222,
              "#7201a8"
             ],
             [
              0.3333333333333333,
              "#9c179e"
             ],
             [
              0.4444444444444444,
              "#bd3786"
             ],
             [
              0.5555555555555556,
              "#d8576b"
             ],
             [
              0.6666666666666666,
              "#ed7953"
             ],
             [
              0.7777777777777778,
              "#fb9f3a"
             ],
             [
              0.8888888888888888,
              "#fdca26"
             ],
             [
              1,
              "#f0f921"
             ]
            ],
            "type": "histogram2d"
           }
          ],
          "histogram2dcontour": [
           {
            "colorbar": {
             "outlinewidth": 0,
             "ticks": ""
            },
            "colorscale": [
             [
              0,
              "#0d0887"
             ],
             [
              0.1111111111111111,
              "#46039f"
             ],
             [
              0.2222222222222222,
              "#7201a8"
             ],
             [
              0.3333333333333333,
              "#9c179e"
             ],
             [
              0.4444444444444444,
              "#bd3786"
             ],
             [
              0.5555555555555556,
              "#d8576b"
             ],
             [
              0.6666666666666666,
              "#ed7953"
             ],
             [
              0.7777777777777778,
              "#fb9f3a"
             ],
             [
              0.8888888888888888,
              "#fdca26"
             ],
             [
              1,
              "#f0f921"
             ]
            ],
            "type": "histogram2dcontour"
           }
          ],
          "mesh3d": [
           {
            "colorbar": {
             "outlinewidth": 0,
             "ticks": ""
            },
            "type": "mesh3d"
           }
          ],
          "parcoords": [
           {
            "line": {
             "colorbar": {
              "outlinewidth": 0,
              "ticks": ""
             }
            },
            "type": "parcoords"
           }
          ],
          "pie": [
           {
            "automargin": true,
            "type": "pie"
           }
          ],
          "scatter": [
           {
            "fillpattern": {
             "fillmode": "overlay",
             "size": 10,
             "solidity": 0.2
            },
            "type": "scatter"
           }
          ],
          "scatter3d": [
           {
            "line": {
             "colorbar": {
              "outlinewidth": 0,
              "ticks": ""
             }
            },
            "marker": {
             "colorbar": {
              "outlinewidth": 0,
              "ticks": ""
             }
            },
            "type": "scatter3d"
           }
          ],
          "scattercarpet": [
           {
            "marker": {
             "colorbar": {
              "outlinewidth": 0,
              "ticks": ""
             }
            },
            "type": "scattercarpet"
           }
          ],
          "scattergeo": [
           {
            "marker": {
             "colorbar": {
              "outlinewidth": 0,
              "ticks": ""
             }
            },
            "type": "scattergeo"
           }
          ],
          "scattergl": [
           {
            "marker": {
             "colorbar": {
              "outlinewidth": 0,
              "ticks": ""
             }
            },
            "type": "scattergl"
           }
          ],
          "scattermapbox": [
           {
            "marker": {
             "colorbar": {
              "outlinewidth": 0,
              "ticks": ""
             }
            },
            "type": "scattermapbox"
           }
          ],
          "scatterpolar": [
           {
            "marker": {
             "colorbar": {
              "outlinewidth": 0,
              "ticks": ""
             }
            },
            "type": "scatterpolar"
           }
          ],
          "scatterpolargl": [
           {
            "marker": {
             "colorbar": {
              "outlinewidth": 0,
              "ticks": ""
             }
            },
            "type": "scatterpolargl"
           }
          ],
          "scatterternary": [
           {
            "marker": {
             "colorbar": {
              "outlinewidth": 0,
              "ticks": ""
             }
            },
            "type": "scatterternary"
           }
          ],
          "surface": [
           {
            "colorbar": {
             "outlinewidth": 0,
             "ticks": ""
            },
            "colorscale": [
             [
              0,
              "#0d0887"
             ],
             [
              0.1111111111111111,
              "#46039f"
             ],
             [
              0.2222222222222222,
              "#7201a8"
             ],
             [
              0.3333333333333333,
              "#9c179e"
             ],
             [
              0.4444444444444444,
              "#bd3786"
             ],
             [
              0.5555555555555556,
              "#d8576b"
             ],
             [
              0.6666666666666666,
              "#ed7953"
             ],
             [
              0.7777777777777778,
              "#fb9f3a"
             ],
             [
              0.8888888888888888,
              "#fdca26"
             ],
             [
              1,
              "#f0f921"
             ]
            ],
            "type": "surface"
           }
          ],
          "table": [
           {
            "cells": {
             "fill": {
              "color": "#EBF0F8"
             },
             "line": {
              "color": "white"
             }
            },
            "header": {
             "fill": {
              "color": "#C8D4E3"
             },
             "line": {
              "color": "white"
             }
            },
            "type": "table"
           }
          ]
         },
         "layout": {
          "annotationdefaults": {
           "arrowcolor": "#2a3f5f",
           "arrowhead": 0,
           "arrowwidth": 1
          },
          "autotypenumbers": "strict",
          "coloraxis": {
           "colorbar": {
            "outlinewidth": 0,
            "ticks": ""
           }
          },
          "colorscale": {
           "diverging": [
            [
             0,
             "#8e0152"
            ],
            [
             0.1,
             "#c51b7d"
            ],
            [
             0.2,
             "#de77ae"
            ],
            [
             0.3,
             "#f1b6da"
            ],
            [
             0.4,
             "#fde0ef"
            ],
            [
             0.5,
             "#f7f7f7"
            ],
            [
             0.6,
             "#e6f5d0"
            ],
            [
             0.7,
             "#b8e186"
            ],
            [
             0.8,
             "#7fbc41"
            ],
            [
             0.9,
             "#4d9221"
            ],
            [
             1,
             "#276419"
            ]
           ],
           "sequential": [
            [
             0,
             "#0d0887"
            ],
            [
             0.1111111111111111,
             "#46039f"
            ],
            [
             0.2222222222222222,
             "#7201a8"
            ],
            [
             0.3333333333333333,
             "#9c179e"
            ],
            [
             0.4444444444444444,
             "#bd3786"
            ],
            [
             0.5555555555555556,
             "#d8576b"
            ],
            [
             0.6666666666666666,
             "#ed7953"
            ],
            [
             0.7777777777777778,
             "#fb9f3a"
            ],
            [
             0.8888888888888888,
             "#fdca26"
            ],
            [
             1,
             "#f0f921"
            ]
           ],
           "sequentialminus": [
            [
             0,
             "#0d0887"
            ],
            [
             0.1111111111111111,
             "#46039f"
            ],
            [
             0.2222222222222222,
             "#7201a8"
            ],
            [
             0.3333333333333333,
             "#9c179e"
            ],
            [
             0.4444444444444444,
             "#bd3786"
            ],
            [
             0.5555555555555556,
             "#d8576b"
            ],
            [
             0.6666666666666666,
             "#ed7953"
            ],
            [
             0.7777777777777778,
             "#fb9f3a"
            ],
            [
             0.8888888888888888,
             "#fdca26"
            ],
            [
             1,
             "#f0f921"
            ]
           ]
          },
          "colorway": [
           "#636efa",
           "#EF553B",
           "#00cc96",
           "#ab63fa",
           "#FFA15A",
           "#19d3f3",
           "#FF6692",
           "#B6E880",
           "#FF97FF",
           "#FECB52"
          ],
          "font": {
           "color": "#2a3f5f"
          },
          "geo": {
           "bgcolor": "white",
           "lakecolor": "white",
           "landcolor": "#E5ECF6",
           "showlakes": true,
           "showland": true,
           "subunitcolor": "white"
          },
          "hoverlabel": {
           "align": "left"
          },
          "hovermode": "closest",
          "mapbox": {
           "style": "light"
          },
          "paper_bgcolor": "white",
          "plot_bgcolor": "#E5ECF6",
          "polar": {
           "angularaxis": {
            "gridcolor": "white",
            "linecolor": "white",
            "ticks": ""
           },
           "bgcolor": "#E5ECF6",
           "radialaxis": {
            "gridcolor": "white",
            "linecolor": "white",
            "ticks": ""
           }
          },
          "scene": {
           "xaxis": {
            "backgroundcolor": "#E5ECF6",
            "gridcolor": "white",
            "gridwidth": 2,
            "linecolor": "white",
            "showbackground": true,
            "ticks": "",
            "zerolinecolor": "white"
           },
           "yaxis": {
            "backgroundcolor": "#E5ECF6",
            "gridcolor": "white",
            "gridwidth": 2,
            "linecolor": "white",
            "showbackground": true,
            "ticks": "",
            "zerolinecolor": "white"
           },
           "zaxis": {
            "backgroundcolor": "#E5ECF6",
            "gridcolor": "white",
            "gridwidth": 2,
            "linecolor": "white",
            "showbackground": true,
            "ticks": "",
            "zerolinecolor": "white"
           }
          },
          "shapedefaults": {
           "line": {
            "color": "#2a3f5f"
           }
          },
          "ternary": {
           "aaxis": {
            "gridcolor": "white",
            "linecolor": "white",
            "ticks": ""
           },
           "baxis": {
            "gridcolor": "white",
            "linecolor": "white",
            "ticks": ""
           },
           "bgcolor": "#E5ECF6",
           "caxis": {
            "gridcolor": "white",
            "linecolor": "white",
            "ticks": ""
           }
          },
          "title": {
           "x": 0.05
          },
          "xaxis": {
           "automargin": true,
           "gridcolor": "white",
           "linecolor": "white",
           "ticks": "",
           "title": {
            "standoff": 15
           },
           "zerolinecolor": "white",
           "zerolinewidth": 2
          },
          "yaxis": {
           "automargin": true,
           "gridcolor": "white",
           "linecolor": "white",
           "ticks": "",
           "title": {
            "standoff": 15
           },
           "zerolinecolor": "white",
           "zerolinewidth": 2
          }
         }
        },
        "title": {
         "text": "Tendencias de Accesos por cada 100 Hogares"
        },
        "width": 900,
        "xaxis": {
         "anchor": "y",
         "domain": [
          0,
          1
         ],
         "title": {
          "text": "Periodo"
         }
        },
        "yaxis": {
         "anchor": "x",
         "domain": [
          0,
          1
         ],
         "title": {
          "text": "accesos_100_hog"
         }
        }
       }
      }
     },
     "metadata": {},
     "output_type": "display_data"
    }
   ],
   "source": [
    "# Gráfica: accesos_100_hog\n",
    "ancho_grafico = 900\n",
    "titulo = 'Tendencias de Accesos por cada 100 Hogares'\n",
    "columna = 'accesos_100_hog'\n",
    "fig = crear_grafica(dfs_3, columna, titulo, list_3, colors_3, ancho_grafico)\n",
    "\n",
    "config = {'displayModeBar': False}\n",
    "fig.show(config=config)"
   ]
  },
  {
   "cell_type": "markdown",
   "metadata": {},
   "source": [
    "### **Gráfico 5:**\n",
    "Tendencias de los Accesos por cada 100 Habitantes en Argentina en la última Decada\n"
   ]
  },
  {
   "cell_type": "code",
   "execution_count": 23,
   "metadata": {},
   "outputs": [
    {
     "data": {
      "application/vnd.plotly.v1+json": {
       "config": {
        "displayModeBar": false,
        "plotlyServerURL": "https://plot.ly"
       },
       "data": [
        {
         "hovertemplate": "<extra></extra>",
         "legendgroup": "",
         "line": {
          "color": "#636efa",
          "dash": "solid"
         },
         "marker": {
          "symbol": "circle"
         },
         "mode": "lines",
         "name": "",
         "orientation": "v",
         "showlegend": false,
         "type": "scatter",
         "xaxis": "x",
         "yaxis": "y"
        },
        {
         "line": {
          "color": "#22D3EE"
         },
         "mode": "lines",
         "name": "Internet",
         "type": "scatter",
         "x": [
          "2024-03-30",
          "2023-12-30",
          "2023-09-30",
          "2023-06-30",
          "2023-03-30",
          "2022-12-30",
          "2022-09-30",
          "2022-06-30",
          "2022-03-30",
          "2021-12-30",
          "2021-09-30",
          "2021-06-30",
          "2021-03-30",
          "2020-12-30",
          "2020-09-30",
          "2020-06-30",
          "2020-03-30",
          "2019-12-30",
          "2019-09-30",
          "2019-06-30",
          "2019-03-30",
          "2018-12-30",
          "2018-09-30",
          "2018-06-30",
          "2018-03-30",
          "2017-12-30",
          "2017-09-30",
          "2017-06-30",
          "2017-03-30",
          "2016-12-30",
          "2016-09-30",
          "2016-06-30",
          "2016-03-30",
          "2015-12-30",
          "2015-09-30",
          "2015-06-30",
          "2015-03-30",
          "2014-12-30",
          "2014-09-30",
          "2014-06-30",
          "2014-03-30"
         ],
         "y": [
          24.79,
          24.66,
          24.41,
          24.14,
          24.17,
          24.15,
          23.95,
          23.7204423164287,
          23.049171038697732,
          22.810702052174992,
          21.982550082706407,
          21.54793892759205,
          21.127831812160064,
          21.010191748284452,
          20.59,
          19.918402765295003,
          19.483264768615577,
          19.48790008712971,
          20.360660718556826,
          19.96,
          19.307906741229864,
          18.97,
          18.73,
          18.24,
          18.12,
          17.7929770681446,
          17.5090322340829,
          16.8829367167329,
          16.6445653587914,
          16.564000030973244,
          16.504675674002662,
          16.371351499331684,
          15.901801868833909,
          16.122696946278083,
          16.050289147694723,
          15.8172335655737,
          15.677234003379093,
          15.394676968457423,
          15.428768804428332,
          15.163908007906054,
          15.050103872893196
         ]
        },
        {
         "line": {
          "color": "#F6993F"
         },
         "mode": "lines",
         "name": "Telefonía Fija",
         "type": "scatter",
         "x": [
          "2014-03-30",
          "2014-06-30",
          "2014-09-30",
          "2014-12-30",
          "2015-03-30",
          "2015-06-30",
          "2015-09-30",
          "2015-12-30",
          "2016-03-30",
          "2016-06-30",
          "2016-09-30",
          "2016-12-30",
          "2017-03-30",
          "2017-06-30",
          "2017-09-30",
          "2017-12-30",
          "2018-03-30",
          "2018-06-30",
          "2018-09-30",
          "2018-12-30",
          "2019-03-30",
          "2019-06-30",
          "2019-09-30",
          "2019-12-30",
          "2020-03-30",
          "2020-06-30",
          "2020-09-30",
          "2020-12-30",
          "2021-03-30",
          "2021-06-30",
          "2021-09-30",
          "2021-12-30",
          "2022-03-30",
          "2022-06-30",
          "2022-09-30",
          "2022-12-30",
          "2023-03-30",
          "2023-06-30",
          "2023-09-30",
          "2023-12-30",
          "2024-03-30"
         ],
         "y": [
          22.491969582333603,
          22.399378662566953,
          22.48919433972001,
          22.606756900964985,
          23.468438166848472,
          23.18495115275933,
          23.2608125009865,
          23.026580797201632,
          23.572639323928986,
          23.832909994285473,
          23.199889415381616,
          23.437363771110544,
          23.572639323928986,
          23.832909994285473,
          23.199889415381616,
          23.437363771110544,
          21.799542469709678,
          21.772532044298426,
          21.752986866048577,
          21.94719557632467,
          18.591830793219298,
          18.10618285122644,
          17.534741673174416,
          17.204343684491068,
          16.70463309857045,
          16.460551110181058,
          16.353677216693445,
          16.164521982984873,
          15.91939509287322,
          15.61904516564108,
          15.409215867987431,
          16.740337772506503,
          15.969679473552779,
          15.56615177918469,
          15.456187443429428,
          15.455165081219455,
          15.504409666477967,
          15.809957163458826,
          15.69404650243176,
          15.440543759512995,
          14.719928253929574
         ]
        },
        {
         "line": {
          "color": "#FFED4A"
         },
         "mode": "lines",
         "name": "Televisión",
         "type": "scatter",
         "x": [
          "2024-03-30",
          "2023-12-30",
          "2023-09-30",
          "2023-06-30",
          "2023-03-30",
          "2022-12-30",
          "2022-09-30",
          "2022-06-30",
          "2022-03-30",
          "2021-12-30",
          "2021-09-30",
          "2021-06-30",
          "2021-03-30",
          "2020-12-30",
          "2020-09-30",
          "2020-06-30",
          "2020-03-30",
          "2019-12-30",
          "2019-09-30",
          "2019-06-30",
          "2019-03-30",
          "2018-12-30",
          "2018-09-30",
          "2018-06-30",
          "2018-03-30",
          "2017-12-30",
          "2017-09-30",
          "2017-06-30",
          "2017-03-30",
          "2016-12-30",
          "2016-09-30",
          "2016-06-30",
          "2016-03-30",
          "2015-12-30",
          "2015-09-30",
          "2015-06-30",
          "2015-03-30",
          "2014-12-30",
          "2014-09-30",
          "2014-06-30",
          "2014-03-30"
         ],
         "y": [
          19.28,
          19.56,
          20.17,
          21.04,
          20.51,
          20.51,
          21.02,
          21.02,
          20.85890719208376,
          20.89,
          21.413501757932075,
          21.102293856110762,
          21.042056683018885,
          21.188674602101287,
          21.52225715289042,
          21.344971495753597,
          21.398450956347258,
          21.621875412361284,
          21.366916377915956,
          21.1771203737409,
          21.103462687740116,
          21.008541036298674,
          21.495558626930027,
          21.21956558183704,
          21.19,
          21.225145528656036,
          21.25,
          21.230157418136145,
          20.739641725332866,
          21.14189997203052,
          21.029700873367254,
          21.052052141427207,
          20.74992117524679,
          20.9675394810429,
          21.03935860470631,
          20.96540185532002,
          20.645546275354107,
          20.961642390934976,
          20.85785631422913,
          21.057996929891374,
          18.305607049531865
         ]
        }
       ],
       "layout": {
        "legend": {
         "tracegroupgap": 0
        },
        "margin": {
         "t": 60
        },
        "template": {
         "data": {
          "bar": [
           {
            "error_x": {
             "color": "#2a3f5f"
            },
            "error_y": {
             "color": "#2a3f5f"
            },
            "marker": {
             "line": {
              "color": "#E5ECF6",
              "width": 0.5
             },
             "pattern": {
              "fillmode": "overlay",
              "size": 10,
              "solidity": 0.2
             }
            },
            "type": "bar"
           }
          ],
          "barpolar": [
           {
            "marker": {
             "line": {
              "color": "#E5ECF6",
              "width": 0.5
             },
             "pattern": {
              "fillmode": "overlay",
              "size": 10,
              "solidity": 0.2
             }
            },
            "type": "barpolar"
           }
          ],
          "carpet": [
           {
            "aaxis": {
             "endlinecolor": "#2a3f5f",
             "gridcolor": "white",
             "linecolor": "white",
             "minorgridcolor": "white",
             "startlinecolor": "#2a3f5f"
            },
            "baxis": {
             "endlinecolor": "#2a3f5f",
             "gridcolor": "white",
             "linecolor": "white",
             "minorgridcolor": "white",
             "startlinecolor": "#2a3f5f"
            },
            "type": "carpet"
           }
          ],
          "choropleth": [
           {
            "colorbar": {
             "outlinewidth": 0,
             "ticks": ""
            },
            "type": "choropleth"
           }
          ],
          "contour": [
           {
            "colorbar": {
             "outlinewidth": 0,
             "ticks": ""
            },
            "colorscale": [
             [
              0,
              "#0d0887"
             ],
             [
              0.1111111111111111,
              "#46039f"
             ],
             [
              0.2222222222222222,
              "#7201a8"
             ],
             [
              0.3333333333333333,
              "#9c179e"
             ],
             [
              0.4444444444444444,
              "#bd3786"
             ],
             [
              0.5555555555555556,
              "#d8576b"
             ],
             [
              0.6666666666666666,
              "#ed7953"
             ],
             [
              0.7777777777777778,
              "#fb9f3a"
             ],
             [
              0.8888888888888888,
              "#fdca26"
             ],
             [
              1,
              "#f0f921"
             ]
            ],
            "type": "contour"
           }
          ],
          "contourcarpet": [
           {
            "colorbar": {
             "outlinewidth": 0,
             "ticks": ""
            },
            "type": "contourcarpet"
           }
          ],
          "heatmap": [
           {
            "colorbar": {
             "outlinewidth": 0,
             "ticks": ""
            },
            "colorscale": [
             [
              0,
              "#0d0887"
             ],
             [
              0.1111111111111111,
              "#46039f"
             ],
             [
              0.2222222222222222,
              "#7201a8"
             ],
             [
              0.3333333333333333,
              "#9c179e"
             ],
             [
              0.4444444444444444,
              "#bd3786"
             ],
             [
              0.5555555555555556,
              "#d8576b"
             ],
             [
              0.6666666666666666,
              "#ed7953"
             ],
             [
              0.7777777777777778,
              "#fb9f3a"
             ],
             [
              0.8888888888888888,
              "#fdca26"
             ],
             [
              1,
              "#f0f921"
             ]
            ],
            "type": "heatmap"
           }
          ],
          "heatmapgl": [
           {
            "colorbar": {
             "outlinewidth": 0,
             "ticks": ""
            },
            "colorscale": [
             [
              0,
              "#0d0887"
             ],
             [
              0.1111111111111111,
              "#46039f"
             ],
             [
              0.2222222222222222,
              "#7201a8"
             ],
             [
              0.3333333333333333,
              "#9c179e"
             ],
             [
              0.4444444444444444,
              "#bd3786"
             ],
             [
              0.5555555555555556,
              "#d8576b"
             ],
             [
              0.6666666666666666,
              "#ed7953"
             ],
             [
              0.7777777777777778,
              "#fb9f3a"
             ],
             [
              0.8888888888888888,
              "#fdca26"
             ],
             [
              1,
              "#f0f921"
             ]
            ],
            "type": "heatmapgl"
           }
          ],
          "histogram": [
           {
            "marker": {
             "pattern": {
              "fillmode": "overlay",
              "size": 10,
              "solidity": 0.2
             }
            },
            "type": "histogram"
           }
          ],
          "histogram2d": [
           {
            "colorbar": {
             "outlinewidth": 0,
             "ticks": ""
            },
            "colorscale": [
             [
              0,
              "#0d0887"
             ],
             [
              0.1111111111111111,
              "#46039f"
             ],
             [
              0.2222222222222222,
              "#7201a8"
             ],
             [
              0.3333333333333333,
              "#9c179e"
             ],
             [
              0.4444444444444444,
              "#bd3786"
             ],
             [
              0.5555555555555556,
              "#d8576b"
             ],
             [
              0.6666666666666666,
              "#ed7953"
             ],
             [
              0.7777777777777778,
              "#fb9f3a"
             ],
             [
              0.8888888888888888,
              "#fdca26"
             ],
             [
              1,
              "#f0f921"
             ]
            ],
            "type": "histogram2d"
           }
          ],
          "histogram2dcontour": [
           {
            "colorbar": {
             "outlinewidth": 0,
             "ticks": ""
            },
            "colorscale": [
             [
              0,
              "#0d0887"
             ],
             [
              0.1111111111111111,
              "#46039f"
             ],
             [
              0.2222222222222222,
              "#7201a8"
             ],
             [
              0.3333333333333333,
              "#9c179e"
             ],
             [
              0.4444444444444444,
              "#bd3786"
             ],
             [
              0.5555555555555556,
              "#d8576b"
             ],
             [
              0.6666666666666666,
              "#ed7953"
             ],
             [
              0.7777777777777778,
              "#fb9f3a"
             ],
             [
              0.8888888888888888,
              "#fdca26"
             ],
             [
              1,
              "#f0f921"
             ]
            ],
            "type": "histogram2dcontour"
           }
          ],
          "mesh3d": [
           {
            "colorbar": {
             "outlinewidth": 0,
             "ticks": ""
            },
            "type": "mesh3d"
           }
          ],
          "parcoords": [
           {
            "line": {
             "colorbar": {
              "outlinewidth": 0,
              "ticks": ""
             }
            },
            "type": "parcoords"
           }
          ],
          "pie": [
           {
            "automargin": true,
            "type": "pie"
           }
          ],
          "scatter": [
           {
            "fillpattern": {
             "fillmode": "overlay",
             "size": 10,
             "solidity": 0.2
            },
            "type": "scatter"
           }
          ],
          "scatter3d": [
           {
            "line": {
             "colorbar": {
              "outlinewidth": 0,
              "ticks": ""
             }
            },
            "marker": {
             "colorbar": {
              "outlinewidth": 0,
              "ticks": ""
             }
            },
            "type": "scatter3d"
           }
          ],
          "scattercarpet": [
           {
            "marker": {
             "colorbar": {
              "outlinewidth": 0,
              "ticks": ""
             }
            },
            "type": "scattercarpet"
           }
          ],
          "scattergeo": [
           {
            "marker": {
             "colorbar": {
              "outlinewidth": 0,
              "ticks": ""
             }
            },
            "type": "scattergeo"
           }
          ],
          "scattergl": [
           {
            "marker": {
             "colorbar": {
              "outlinewidth": 0,
              "ticks": ""
             }
            },
            "type": "scattergl"
           }
          ],
          "scattermapbox": [
           {
            "marker": {
             "colorbar": {
              "outlinewidth": 0,
              "ticks": ""
             }
            },
            "type": "scattermapbox"
           }
          ],
          "scatterpolar": [
           {
            "marker": {
             "colorbar": {
              "outlinewidth": 0,
              "ticks": ""
             }
            },
            "type": "scatterpolar"
           }
          ],
          "scatterpolargl": [
           {
            "marker": {
             "colorbar": {
              "outlinewidth": 0,
              "ticks": ""
             }
            },
            "type": "scatterpolargl"
           }
          ],
          "scatterternary": [
           {
            "marker": {
             "colorbar": {
              "outlinewidth": 0,
              "ticks": ""
             }
            },
            "type": "scatterternary"
           }
          ],
          "surface": [
           {
            "colorbar": {
             "outlinewidth": 0,
             "ticks": ""
            },
            "colorscale": [
             [
              0,
              "#0d0887"
             ],
             [
              0.1111111111111111,
              "#46039f"
             ],
             [
              0.2222222222222222,
              "#7201a8"
             ],
             [
              0.3333333333333333,
              "#9c179e"
             ],
             [
              0.4444444444444444,
              "#bd3786"
             ],
             [
              0.5555555555555556,
              "#d8576b"
             ],
             [
              0.6666666666666666,
              "#ed7953"
             ],
             [
              0.7777777777777778,
              "#fb9f3a"
             ],
             [
              0.8888888888888888,
              "#fdca26"
             ],
             [
              1,
              "#f0f921"
             ]
            ],
            "type": "surface"
           }
          ],
          "table": [
           {
            "cells": {
             "fill": {
              "color": "#EBF0F8"
             },
             "line": {
              "color": "white"
             }
            },
            "header": {
             "fill": {
              "color": "#C8D4E3"
             },
             "line": {
              "color": "white"
             }
            },
            "type": "table"
           }
          ]
         },
         "layout": {
          "annotationdefaults": {
           "arrowcolor": "#2a3f5f",
           "arrowhead": 0,
           "arrowwidth": 1
          },
          "autotypenumbers": "strict",
          "coloraxis": {
           "colorbar": {
            "outlinewidth": 0,
            "ticks": ""
           }
          },
          "colorscale": {
           "diverging": [
            [
             0,
             "#8e0152"
            ],
            [
             0.1,
             "#c51b7d"
            ],
            [
             0.2,
             "#de77ae"
            ],
            [
             0.3,
             "#f1b6da"
            ],
            [
             0.4,
             "#fde0ef"
            ],
            [
             0.5,
             "#f7f7f7"
            ],
            [
             0.6,
             "#e6f5d0"
            ],
            [
             0.7,
             "#b8e186"
            ],
            [
             0.8,
             "#7fbc41"
            ],
            [
             0.9,
             "#4d9221"
            ],
            [
             1,
             "#276419"
            ]
           ],
           "sequential": [
            [
             0,
             "#0d0887"
            ],
            [
             0.1111111111111111,
             "#46039f"
            ],
            [
             0.2222222222222222,
             "#7201a8"
            ],
            [
             0.3333333333333333,
             "#9c179e"
            ],
            [
             0.4444444444444444,
             "#bd3786"
            ],
            [
             0.5555555555555556,
             "#d8576b"
            ],
            [
             0.6666666666666666,
             "#ed7953"
            ],
            [
             0.7777777777777778,
             "#fb9f3a"
            ],
            [
             0.8888888888888888,
             "#fdca26"
            ],
            [
             1,
             "#f0f921"
            ]
           ],
           "sequentialminus": [
            [
             0,
             "#0d0887"
            ],
            [
             0.1111111111111111,
             "#46039f"
            ],
            [
             0.2222222222222222,
             "#7201a8"
            ],
            [
             0.3333333333333333,
             "#9c179e"
            ],
            [
             0.4444444444444444,
             "#bd3786"
            ],
            [
             0.5555555555555556,
             "#d8576b"
            ],
            [
             0.6666666666666666,
             "#ed7953"
            ],
            [
             0.7777777777777778,
             "#fb9f3a"
            ],
            [
             0.8888888888888888,
             "#fdca26"
            ],
            [
             1,
             "#f0f921"
            ]
           ]
          },
          "colorway": [
           "#636efa",
           "#EF553B",
           "#00cc96",
           "#ab63fa",
           "#FFA15A",
           "#19d3f3",
           "#FF6692",
           "#B6E880",
           "#FF97FF",
           "#FECB52"
          ],
          "font": {
           "color": "#2a3f5f"
          },
          "geo": {
           "bgcolor": "white",
           "lakecolor": "white",
           "landcolor": "#E5ECF6",
           "showlakes": true,
           "showland": true,
           "subunitcolor": "white"
          },
          "hoverlabel": {
           "align": "left"
          },
          "hovermode": "closest",
          "mapbox": {
           "style": "light"
          },
          "paper_bgcolor": "white",
          "plot_bgcolor": "#E5ECF6",
          "polar": {
           "angularaxis": {
            "gridcolor": "white",
            "linecolor": "white",
            "ticks": ""
           },
           "bgcolor": "#E5ECF6",
           "radialaxis": {
            "gridcolor": "white",
            "linecolor": "white",
            "ticks": ""
           }
          },
          "scene": {
           "xaxis": {
            "backgroundcolor": "#E5ECF6",
            "gridcolor": "white",
            "gridwidth": 2,
            "linecolor": "white",
            "showbackground": true,
            "ticks": "",
            "zerolinecolor": "white"
           },
           "yaxis": {
            "backgroundcolor": "#E5ECF6",
            "gridcolor": "white",
            "gridwidth": 2,
            "linecolor": "white",
            "showbackground": true,
            "ticks": "",
            "zerolinecolor": "white"
           },
           "zaxis": {
            "backgroundcolor": "#E5ECF6",
            "gridcolor": "white",
            "gridwidth": 2,
            "linecolor": "white",
            "showbackground": true,
            "ticks": "",
            "zerolinecolor": "white"
           }
          },
          "shapedefaults": {
           "line": {
            "color": "#2a3f5f"
           }
          },
          "ternary": {
           "aaxis": {
            "gridcolor": "white",
            "linecolor": "white",
            "ticks": ""
           },
           "baxis": {
            "gridcolor": "white",
            "linecolor": "white",
            "ticks": ""
           },
           "bgcolor": "#E5ECF6",
           "caxis": {
            "gridcolor": "white",
            "linecolor": "white",
            "ticks": ""
           }
          },
          "title": {
           "x": 0.05
          },
          "xaxis": {
           "automargin": true,
           "gridcolor": "white",
           "linecolor": "white",
           "ticks": "",
           "title": {
            "standoff": 15
           },
           "zerolinecolor": "white",
           "zerolinewidth": 2
          },
          "yaxis": {
           "automargin": true,
           "gridcolor": "white",
           "linecolor": "white",
           "ticks": "",
           "title": {
            "standoff": 15
           },
           "zerolinecolor": "white",
           "zerolinewidth": 2
          }
         }
        },
        "title": {
         "text": "Tendencias de Accesos por cada 100 Habitantes"
        },
        "width": 900,
        "xaxis": {
         "anchor": "y",
         "domain": [
          0,
          1
         ],
         "title": {
          "text": "Periodo"
         }
        },
        "yaxis": {
         "anchor": "x",
         "domain": [
          0,
          1
         ],
         "title": {
          "text": "accesos_100_hab"
         }
        }
       }
      }
     },
     "metadata": {},
     "output_type": "display_data"
    }
   ],
   "source": [
    "# Gráfica: accesos_100_hab\n",
    "ancho_grafico = 900\n",
    "titulo = 'Tendencias de Accesos por cada 100 Habitantes'\n",
    "columna = 'accesos_100_hab'\n",
    "fig = crear_grafica(dfs_3, columna, titulo, list_3, colors_3, ancho_grafico)\n",
    "\n",
    "config = {'displayModeBar': False}\n",
    "fig.show(config=config)"
   ]
  },
  {
   "cell_type": "markdown",
   "metadata": {},
   "source": [
    "### **Gráfico 6:**\n",
    "Tendencia de la Cantidad de Accesos en la `Telefonía Movil`<br>\n",
    "Nota: Al no poder utilizar la data suministrada de `accesos por cada 100 Habitantes` ya que es `data de la que no confio`, esta tendencia la estudiaremos con totales de accesos "
   ]
  },
  {
   "cell_type": "code",
   "execution_count": 24,
   "metadata": {},
   "outputs": [
    {
     "data": {
      "application/vnd.plotly.v1+json": {
       "config": {
        "displayModeBar": false,
        "plotlyServerURL": "https://plot.ly"
       },
       "data": [
        {
         "hovertemplate": "<extra></extra>",
         "legendgroup": "",
         "line": {
          "color": "#636efa",
          "dash": "solid"
         },
         "marker": {
          "symbol": "circle"
         },
         "mode": "lines",
         "name": "",
         "orientation": "v",
         "showlegend": false,
         "type": "scatter",
         "xaxis": "x",
         "yaxis": "y"
        },
        {
         "line": {
          "color": "#9fbc12"
         },
         "mode": "lines",
         "name": "Accesos Post-Pagos",
         "type": "scatter",
         "x": [
          "2013-03-30",
          "2013-06-30",
          "2013-09-30",
          "2013-12-30",
          "2014-03-30",
          "2014-06-30",
          "2014-09-30",
          "2014-12-30",
          "2015-03-30",
          "2015-06-30",
          "2015-09-30",
          "2015-12-30",
          "2016-03-30",
          "2016-06-30",
          "2016-09-30",
          "2016-12-30",
          "2017-03-30",
          "2017-06-30",
          "2017-09-30",
          "2017-12-30",
          "2018-03-30",
          "2018-06-30",
          "2018-09-30",
          "2018-12-30",
          "2019-03-30",
          "2019-06-30",
          "2019-09-30",
          "2019-12-30",
          "2020-03-30",
          "2020-06-30",
          "2020-09-30",
          "2020-12-30",
          "2021-03-30",
          "2021-06-30",
          "2021-09-30",
          "2021-12-30",
          "2022-03-30",
          "2022-06-30",
          "2022-09-30",
          "2022-12-30",
          "2023-03-30",
          "2023-06-30",
          "2023-09-30",
          "2023-12-30",
          "2024-03-30"
         ],
         "y": [
          7761349,
          7769110,
          8002183,
          8674516,
          8224482,
          7953775,
          8214424,
          8027505,
          7747230,
          7633527,
          7600799,
          7594526,
          7483126,
          7565115,
          7520789,
          7637635,
          7502772,
          7415230,
          7272585,
          7108228,
          7101698,
          6637444,
          6551391,
          6488017,
          6645995,
          5924037,
          5974898,
          5797378.270854803,
          5743132.047436371,
          5659667,
          5559723.535561988,
          5556298.674264678,
          6041047,
          6046091,
          6104479,
          6186993.763102654,
          6231309,
          6245815,
          6250732,
          6546406,
          7028083,
          7310125,
          7903181,
          8301200,
          8398514
         ]
        },
        {
         "line": {
          "color": " #045426 "
         },
         "mode": "lines",
         "name": "Accesos Pre-Pagos",
         "type": "scatter",
         "x": [
          "2013-03-30",
          "2013-06-30",
          "2013-09-30",
          "2013-12-30",
          "2014-03-30",
          "2014-06-30",
          "2014-09-30",
          "2014-12-30",
          "2015-03-30",
          "2015-06-30",
          "2015-09-30",
          "2015-12-30",
          "2016-03-30",
          "2016-06-30",
          "2016-09-30",
          "2016-12-30",
          "2017-03-30",
          "2017-06-30",
          "2017-09-30",
          "2017-12-30",
          "2018-03-30",
          "2018-06-30",
          "2018-09-30",
          "2018-12-30",
          "2019-03-30",
          "2019-06-30",
          "2019-09-30",
          "2019-12-30",
          "2020-03-30",
          "2020-06-30",
          "2020-09-30",
          "2020-12-30",
          "2021-03-30",
          "2021-06-30",
          "2021-09-30",
          "2021-12-30",
          "2022-03-30",
          "2022-06-30",
          "2022-09-30",
          "2022-12-30",
          "2023-03-30",
          "2023-06-30",
          "2023-09-30",
          "2023-12-30",
          "2024-03-30"
         ],
         "y": [
          57147608,
          58004822,
          59048909,
          58894516,
          54725089,
          53009865,
          53102043,
          53093330,
          52474633,
          52241939,
          53131712,
          54247485,
          54003635,
          54557406,
          56058550,
          56082170,
          55523350,
          55483528,
          54958224,
          54789151,
          53470098,
          52828949,
          52289745,
          52110024,
          51960447,
          51672054,
          50300828,
          50133535.7291452,
          49869047.95256363,
          49391056,
          49060162.46443802,
          49207602.32573532,
          50411986,
          50829471,
          51708030,
          52878833.23689735,
          52937601,
          52865377,
          53008139,
          53157521,
          53269840,
          53572899,
          53281127,
          54407950,
          54455565
         ]
        },
        {
         "line": {
          "color": "#38C172"
         },
         "mode": "lines",
         "name": "Total Accesos",
         "type": "scatter",
         "x": [
          "2013-03-30",
          "2013-06-30",
          "2013-09-30",
          "2013-12-30",
          "2014-03-30",
          "2014-06-30",
          "2014-09-30",
          "2014-12-30",
          "2015-03-30",
          "2015-06-30",
          "2015-09-30",
          "2015-12-30",
          "2016-03-30",
          "2016-06-30",
          "2016-09-30",
          "2016-12-30",
          "2017-03-30",
          "2017-06-30",
          "2017-09-30",
          "2017-12-30",
          "2018-03-30",
          "2018-06-30",
          "2018-09-30",
          "2018-12-30",
          "2019-03-30",
          "2019-06-30",
          "2019-09-30",
          "2019-12-30",
          "2020-03-30",
          "2020-06-30",
          "2020-09-30",
          "2020-12-30",
          "2021-03-30",
          "2021-06-30",
          "2021-09-30",
          "2021-12-30",
          "2022-03-30",
          "2022-06-30",
          "2022-09-30",
          "2022-12-30",
          "2023-03-30",
          "2023-06-30",
          "2023-09-30",
          "2023-12-30",
          "2024-03-30"
         ],
         "y": [
          64908957,
          65773932,
          67051092,
          67569032,
          62949571,
          60963640,
          61316467,
          61120835,
          60221863,
          59875466,
          60732511,
          61842011,
          61486761,
          62122521,
          63579339,
          63719805,
          63026122,
          62898758,
          62230809,
          61897379,
          60571796,
          59466393,
          58841136,
          58598041,
          58606442,
          57596091,
          56275726,
          55930914,
          55612180,
          55050723,
          54619886.00000001,
          54763901,
          56453033,
          56875562,
          57812509,
          59065827,
          59168910,
          59111192,
          59258871,
          59703927,
          60297923,
          60883024,
          61184308,
          62709150,
          62854079
         ]
        }
       ],
       "layout": {
        "legend": {
         "tracegroupgap": 0
        },
        "margin": {
         "t": 60
        },
        "template": {
         "data": {
          "bar": [
           {
            "error_x": {
             "color": "#2a3f5f"
            },
            "error_y": {
             "color": "#2a3f5f"
            },
            "marker": {
             "line": {
              "color": "#E5ECF6",
              "width": 0.5
             },
             "pattern": {
              "fillmode": "overlay",
              "size": 10,
              "solidity": 0.2
             }
            },
            "type": "bar"
           }
          ],
          "barpolar": [
           {
            "marker": {
             "line": {
              "color": "#E5ECF6",
              "width": 0.5
             },
             "pattern": {
              "fillmode": "overlay",
              "size": 10,
              "solidity": 0.2
             }
            },
            "type": "barpolar"
           }
          ],
          "carpet": [
           {
            "aaxis": {
             "endlinecolor": "#2a3f5f",
             "gridcolor": "white",
             "linecolor": "white",
             "minorgridcolor": "white",
             "startlinecolor": "#2a3f5f"
            },
            "baxis": {
             "endlinecolor": "#2a3f5f",
             "gridcolor": "white",
             "linecolor": "white",
             "minorgridcolor": "white",
             "startlinecolor": "#2a3f5f"
            },
            "type": "carpet"
           }
          ],
          "choropleth": [
           {
            "colorbar": {
             "outlinewidth": 0,
             "ticks": ""
            },
            "type": "choropleth"
           }
          ],
          "contour": [
           {
            "colorbar": {
             "outlinewidth": 0,
             "ticks": ""
            },
            "colorscale": [
             [
              0,
              "#0d0887"
             ],
             [
              0.1111111111111111,
              "#46039f"
             ],
             [
              0.2222222222222222,
              "#7201a8"
             ],
             [
              0.3333333333333333,
              "#9c179e"
             ],
             [
              0.4444444444444444,
              "#bd3786"
             ],
             [
              0.5555555555555556,
              "#d8576b"
             ],
             [
              0.6666666666666666,
              "#ed7953"
             ],
             [
              0.7777777777777778,
              "#fb9f3a"
             ],
             [
              0.8888888888888888,
              "#fdca26"
             ],
             [
              1,
              "#f0f921"
             ]
            ],
            "type": "contour"
           }
          ],
          "contourcarpet": [
           {
            "colorbar": {
             "outlinewidth": 0,
             "ticks": ""
            },
            "type": "contourcarpet"
           }
          ],
          "heatmap": [
           {
            "colorbar": {
             "outlinewidth": 0,
             "ticks": ""
            },
            "colorscale": [
             [
              0,
              "#0d0887"
             ],
             [
              0.1111111111111111,
              "#46039f"
             ],
             [
              0.2222222222222222,
              "#7201a8"
             ],
             [
              0.3333333333333333,
              "#9c179e"
             ],
             [
              0.4444444444444444,
              "#bd3786"
             ],
             [
              0.5555555555555556,
              "#d8576b"
             ],
             [
              0.6666666666666666,
              "#ed7953"
             ],
             [
              0.7777777777777778,
              "#fb9f3a"
             ],
             [
              0.8888888888888888,
              "#fdca26"
             ],
             [
              1,
              "#f0f921"
             ]
            ],
            "type": "heatmap"
           }
          ],
          "heatmapgl": [
           {
            "colorbar": {
             "outlinewidth": 0,
             "ticks": ""
            },
            "colorscale": [
             [
              0,
              "#0d0887"
             ],
             [
              0.1111111111111111,
              "#46039f"
             ],
             [
              0.2222222222222222,
              "#7201a8"
             ],
             [
              0.3333333333333333,
              "#9c179e"
             ],
             [
              0.4444444444444444,
              "#bd3786"
             ],
             [
              0.5555555555555556,
              "#d8576b"
             ],
             [
              0.6666666666666666,
              "#ed7953"
             ],
             [
              0.7777777777777778,
              "#fb9f3a"
             ],
             [
              0.8888888888888888,
              "#fdca26"
             ],
             [
              1,
              "#f0f921"
             ]
            ],
            "type": "heatmapgl"
           }
          ],
          "histogram": [
           {
            "marker": {
             "pattern": {
              "fillmode": "overlay",
              "size": 10,
              "solidity": 0.2
             }
            },
            "type": "histogram"
           }
          ],
          "histogram2d": [
           {
            "colorbar": {
             "outlinewidth": 0,
             "ticks": ""
            },
            "colorscale": [
             [
              0,
              "#0d0887"
             ],
             [
              0.1111111111111111,
              "#46039f"
             ],
             [
              0.2222222222222222,
              "#7201a8"
             ],
             [
              0.3333333333333333,
              "#9c179e"
             ],
             [
              0.4444444444444444,
              "#bd3786"
             ],
             [
              0.5555555555555556,
              "#d8576b"
             ],
             [
              0.6666666666666666,
              "#ed7953"
             ],
             [
              0.7777777777777778,
              "#fb9f3a"
             ],
             [
              0.8888888888888888,
              "#fdca26"
             ],
             [
              1,
              "#f0f921"
             ]
            ],
            "type": "histogram2d"
           }
          ],
          "histogram2dcontour": [
           {
            "colorbar": {
             "outlinewidth": 0,
             "ticks": ""
            },
            "colorscale": [
             [
              0,
              "#0d0887"
             ],
             [
              0.1111111111111111,
              "#46039f"
             ],
             [
              0.2222222222222222,
              "#7201a8"
             ],
             [
              0.3333333333333333,
              "#9c179e"
             ],
             [
              0.4444444444444444,
              "#bd3786"
             ],
             [
              0.5555555555555556,
              "#d8576b"
             ],
             [
              0.6666666666666666,
              "#ed7953"
             ],
             [
              0.7777777777777778,
              "#fb9f3a"
             ],
             [
              0.8888888888888888,
              "#fdca26"
             ],
             [
              1,
              "#f0f921"
             ]
            ],
            "type": "histogram2dcontour"
           }
          ],
          "mesh3d": [
           {
            "colorbar": {
             "outlinewidth": 0,
             "ticks": ""
            },
            "type": "mesh3d"
           }
          ],
          "parcoords": [
           {
            "line": {
             "colorbar": {
              "outlinewidth": 0,
              "ticks": ""
             }
            },
            "type": "parcoords"
           }
          ],
          "pie": [
           {
            "automargin": true,
            "type": "pie"
           }
          ],
          "scatter": [
           {
            "fillpattern": {
             "fillmode": "overlay",
             "size": 10,
             "solidity": 0.2
            },
            "type": "scatter"
           }
          ],
          "scatter3d": [
           {
            "line": {
             "colorbar": {
              "outlinewidth": 0,
              "ticks": ""
             }
            },
            "marker": {
             "colorbar": {
              "outlinewidth": 0,
              "ticks": ""
             }
            },
            "type": "scatter3d"
           }
          ],
          "scattercarpet": [
           {
            "marker": {
             "colorbar": {
              "outlinewidth": 0,
              "ticks": ""
             }
            },
            "type": "scattercarpet"
           }
          ],
          "scattergeo": [
           {
            "marker": {
             "colorbar": {
              "outlinewidth": 0,
              "ticks": ""
             }
            },
            "type": "scattergeo"
           }
          ],
          "scattergl": [
           {
            "marker": {
             "colorbar": {
              "outlinewidth": 0,
              "ticks": ""
             }
            },
            "type": "scattergl"
           }
          ],
          "scattermapbox": [
           {
            "marker": {
             "colorbar": {
              "outlinewidth": 0,
              "ticks": ""
             }
            },
            "type": "scattermapbox"
           }
          ],
          "scatterpolar": [
           {
            "marker": {
             "colorbar": {
              "outlinewidth": 0,
              "ticks": ""
             }
            },
            "type": "scatterpolar"
           }
          ],
          "scatterpolargl": [
           {
            "marker": {
             "colorbar": {
              "outlinewidth": 0,
              "ticks": ""
             }
            },
            "type": "scatterpolargl"
           }
          ],
          "scatterternary": [
           {
            "marker": {
             "colorbar": {
              "outlinewidth": 0,
              "ticks": ""
             }
            },
            "type": "scatterternary"
           }
          ],
          "surface": [
           {
            "colorbar": {
             "outlinewidth": 0,
             "ticks": ""
            },
            "colorscale": [
             [
              0,
              "#0d0887"
             ],
             [
              0.1111111111111111,
              "#46039f"
             ],
             [
              0.2222222222222222,
              "#7201a8"
             ],
             [
              0.3333333333333333,
              "#9c179e"
             ],
             [
              0.4444444444444444,
              "#bd3786"
             ],
             [
              0.5555555555555556,
              "#d8576b"
             ],
             [
              0.6666666666666666,
              "#ed7953"
             ],
             [
              0.7777777777777778,
              "#fb9f3a"
             ],
             [
              0.8888888888888888,
              "#fdca26"
             ],
             [
              1,
              "#f0f921"
             ]
            ],
            "type": "surface"
           }
          ],
          "table": [
           {
            "cells": {
             "fill": {
              "color": "#EBF0F8"
             },
             "line": {
              "color": "white"
             }
            },
            "header": {
             "fill": {
              "color": "#C8D4E3"
             },
             "line": {
              "color": "white"
             }
            },
            "type": "table"
           }
          ]
         },
         "layout": {
          "annotationdefaults": {
           "arrowcolor": "#2a3f5f",
           "arrowhead": 0,
           "arrowwidth": 1
          },
          "autotypenumbers": "strict",
          "coloraxis": {
           "colorbar": {
            "outlinewidth": 0,
            "ticks": ""
           }
          },
          "colorscale": {
           "diverging": [
            [
             0,
             "#8e0152"
            ],
            [
             0.1,
             "#c51b7d"
            ],
            [
             0.2,
             "#de77ae"
            ],
            [
             0.3,
             "#f1b6da"
            ],
            [
             0.4,
             "#fde0ef"
            ],
            [
             0.5,
             "#f7f7f7"
            ],
            [
             0.6,
             "#e6f5d0"
            ],
            [
             0.7,
             "#b8e186"
            ],
            [
             0.8,
             "#7fbc41"
            ],
            [
             0.9,
             "#4d9221"
            ],
            [
             1,
             "#276419"
            ]
           ],
           "sequential": [
            [
             0,
             "#0d0887"
            ],
            [
             0.1111111111111111,
             "#46039f"
            ],
            [
             0.2222222222222222,
             "#7201a8"
            ],
            [
             0.3333333333333333,
             "#9c179e"
            ],
            [
             0.4444444444444444,
             "#bd3786"
            ],
            [
             0.5555555555555556,
             "#d8576b"
            ],
            [
             0.6666666666666666,
             "#ed7953"
            ],
            [
             0.7777777777777778,
             "#fb9f3a"
            ],
            [
             0.8888888888888888,
             "#fdca26"
            ],
            [
             1,
             "#f0f921"
            ]
           ],
           "sequentialminus": [
            [
             0,
             "#0d0887"
            ],
            [
             0.1111111111111111,
             "#46039f"
            ],
            [
             0.2222222222222222,
             "#7201a8"
            ],
            [
             0.3333333333333333,
             "#9c179e"
            ],
            [
             0.4444444444444444,
             "#bd3786"
            ],
            [
             0.5555555555555556,
             "#d8576b"
            ],
            [
             0.6666666666666666,
             "#ed7953"
            ],
            [
             0.7777777777777778,
             "#fb9f3a"
            ],
            [
             0.8888888888888888,
             "#fdca26"
            ],
            [
             1,
             "#f0f921"
            ]
           ]
          },
          "colorway": [
           "#636efa",
           "#EF553B",
           "#00cc96",
           "#ab63fa",
           "#FFA15A",
           "#19d3f3",
           "#FF6692",
           "#B6E880",
           "#FF97FF",
           "#FECB52"
          ],
          "font": {
           "color": "#2a3f5f"
          },
          "geo": {
           "bgcolor": "white",
           "lakecolor": "white",
           "landcolor": "#E5ECF6",
           "showlakes": true,
           "showland": true,
           "subunitcolor": "white"
          },
          "hoverlabel": {
           "align": "left"
          },
          "hovermode": "closest",
          "mapbox": {
           "style": "light"
          },
          "paper_bgcolor": "white",
          "plot_bgcolor": "#E5ECF6",
          "polar": {
           "angularaxis": {
            "gridcolor": "white",
            "linecolor": "white",
            "ticks": ""
           },
           "bgcolor": "#E5ECF6",
           "radialaxis": {
            "gridcolor": "white",
            "linecolor": "white",
            "ticks": ""
           }
          },
          "scene": {
           "xaxis": {
            "backgroundcolor": "#E5ECF6",
            "gridcolor": "white",
            "gridwidth": 2,
            "linecolor": "white",
            "showbackground": true,
            "ticks": "",
            "zerolinecolor": "white"
           },
           "yaxis": {
            "backgroundcolor": "#E5ECF6",
            "gridcolor": "white",
            "gridwidth": 2,
            "linecolor": "white",
            "showbackground": true,
            "ticks": "",
            "zerolinecolor": "white"
           },
           "zaxis": {
            "backgroundcolor": "#E5ECF6",
            "gridcolor": "white",
            "gridwidth": 2,
            "linecolor": "white",
            "showbackground": true,
            "ticks": "",
            "zerolinecolor": "white"
           }
          },
          "shapedefaults": {
           "line": {
            "color": "#2a3f5f"
           }
          },
          "ternary": {
           "aaxis": {
            "gridcolor": "white",
            "linecolor": "white",
            "ticks": ""
           },
           "baxis": {
            "gridcolor": "white",
            "linecolor": "white",
            "ticks": ""
           },
           "bgcolor": "#E5ECF6",
           "caxis": {
            "gridcolor": "white",
            "linecolor": "white",
            "ticks": ""
           }
          },
          "title": {
           "x": 0.05
          },
          "xaxis": {
           "automargin": true,
           "gridcolor": "white",
           "linecolor": "white",
           "ticks": "",
           "title": {
            "standoff": 15
           },
           "zerolinecolor": "white",
           "zerolinewidth": 2
          },
          "yaxis": {
           "automargin": true,
           "gridcolor": "white",
           "linecolor": "white",
           "ticks": "",
           "title": {
            "standoff": 15
           },
           "zerolinecolor": "white",
           "zerolinewidth": 2
          }
         }
        },
        "title": {
         "text": "Tendencia de Accesos de la Telefonía Movil"
        },
        "width": 900,
        "xaxis": {
         "anchor": "y",
         "domain": [
          0,
          1
         ],
         "title": {
          "text": "Periodo"
         }
        },
        "yaxis": {
         "anchor": "x",
         "domain": [
          0,
          1
         ],
         "title": {
          "text": "Accesos"
         }
        }
       }
      }
     },
     "metadata": {},
     "output_type": "display_data"
    }
   ],
   "source": [
    "columns = ['total_accesos_post', 'total_accesos_pre', 'total_accesos']\n",
    "names = ['Accesos Post-Pagos', 'Accesos Pre-Pagos', 'Total Accesos']\n",
    "colors = ['#9fbc12', ' #045426 ', '#38C172']\n",
    "titulo = 'Tendencia de Accesos de la Telefonía Movil'\n",
    "ancho_grafico = 900\n",
    "y_title = 'Accesos'\n",
    "\n",
    "fig = crear_graf_df(columns=columns, names=names, colors=colors, width=ancho_grafico, \n",
    "                    y_title=y_title, df=telefonia_movil, titulo=titulo)\n",
    "\n",
    "config = {'displayModeBar': False}\n",
    "fig.show(config=config)"
   ]
  },
  {
   "cell_type": "markdown",
   "metadata": {},
   "source": [
    "### **Gráfico 7:**\n",
    "Tendencia de la Cantidad de llamadas en la `Telefonía Movil`"
   ]
  },
  {
   "cell_type": "code",
   "execution_count": 25,
   "metadata": {},
   "outputs": [
    {
     "data": {
      "application/vnd.plotly.v1+json": {
       "config": {
        "displayModeBar": false,
        "plotlyServerURL": "https://plot.ly"
       },
       "data": [
        {
         "hovertemplate": "<extra></extra>",
         "legendgroup": "",
         "line": {
          "color": "#636efa",
          "dash": "solid"
         },
         "marker": {
          "symbol": "circle"
         },
         "mode": "lines",
         "name": "",
         "orientation": "v",
         "showlegend": false,
         "type": "scatter",
         "xaxis": "x",
         "yaxis": "y"
        },
        {
         "line": {
          "color": "#9fbc12"
         },
         "mode": "lines",
         "name": "Llamadas Post-Pagos (miles)",
         "type": "scatter",
         "x": [
          "2013-03-30",
          "2013-06-30",
          "2013-09-30",
          "2013-12-30",
          "2014-03-30",
          "2014-06-30",
          "2014-09-30",
          "2014-12-30",
          "2015-03-30",
          "2015-06-30",
          "2015-09-30",
          "2015-12-30",
          "2016-03-30",
          "2016-06-30",
          "2016-09-30",
          "2016-12-30",
          "2017-03-30",
          "2017-06-30",
          "2017-09-30",
          "2017-12-30",
          "2018-03-30",
          "2018-06-30",
          "2018-09-30",
          "2018-12-30",
          "2019-03-30",
          "2019-06-30",
          "2019-09-30",
          "2019-12-30",
          "2020-03-30",
          "2020-06-30",
          "2020-09-30",
          "2020-12-30",
          "2021-03-30",
          "2021-06-30",
          "2021-09-30",
          "2021-12-30",
          "2022-03-30",
          "2022-06-30",
          "2022-09-30",
          "2022-12-30",
          "2023-03-30",
          "2023-06-30",
          "2023-09-30",
          "2023-12-30",
          "2024-03-30"
         ],
         "y": [
          3796547,
          4156872,
          4466727,
          4743791,
          4001399,
          4373148,
          4676132,
          4957353,
          4180427,
          4612087,
          4834496,
          5015851,
          4602640,
          4633918,
          5125311,
          5977412,
          5337927,
          5431369,
          5401689,
          5506428,
          4629943,
          4997593,
          5114169,
          5415217,
          4990885.379,
          5081580.619,
          4735771.802,
          4935401.973999999,
          4356730.507999999,
          3944060.508,
          4216176.507999999,
          4653522.798,
          4312129.166999999,
          4343282.056,
          4365099.785,
          4580318.6620000005,
          4073512.134,
          4109735.707,
          4123396.903,
          3785218.008,
          3251856.5700000003,
          3272336.5700000003,
          3098772.802,
          3416387.802,
          3032453.802
         ]
        },
        {
         "line": {
          "color": " #045426 "
         },
         "mode": "lines",
         "name": "Llamadas Pre-Pagos (miles)",
         "type": "scatter",
         "x": [
          "2013-03-30",
          "2013-06-30",
          "2013-09-30",
          "2013-12-30",
          "2014-03-30",
          "2014-06-30",
          "2014-09-30",
          "2014-12-30",
          "2015-03-30",
          "2015-06-30",
          "2015-09-30",
          "2015-12-30",
          "2016-03-30",
          "2016-06-30",
          "2016-09-30",
          "2016-12-30",
          "2017-03-30",
          "2017-06-30",
          "2017-09-30",
          "2017-12-30",
          "2018-03-30",
          "2018-06-30",
          "2018-09-30",
          "2018-12-30",
          "2019-03-30",
          "2019-06-30",
          "2019-09-30",
          "2019-12-30",
          "2020-03-30",
          "2020-06-30",
          "2020-09-30",
          "2020-12-30",
          "2021-03-30",
          "2021-06-30",
          "2021-09-30",
          "2021-12-30",
          "2022-03-30",
          "2022-06-30",
          "2022-09-30",
          "2022-12-30",
          "2023-03-30",
          "2023-06-30",
          "2023-09-30",
          "2023-12-30",
          "2024-03-30"
         ],
         "y": [
          3412766,
          3699387,
          3814925,
          3906876,
          3589181,
          3942142,
          4356668,
          4649196,
          3992229,
          4081505,
          4544938,
          4799840,
          4291789,
          4362030,
          3985485,
          3289295,
          2883162,
          2753032,
          2812805,
          2895913,
          2639039,
          2617568,
          2585551,
          2825480,
          2569627.829,
          2632188.21,
          2519092.632,
          2665719.261,
          2226860.973,
          2091329.973,
          2040646.973,
          1353625.007,
          1273253.997,
          1084243.708,
          1195388.678,
          1355532.92,
          1265693.846,
          1364889.0219999999,
          1320344.849,
          1112907.345,
          1023503.454,
          1052369.454,
          1095866.095,
          1166789.095,
          1060861.095
         ]
        },
        {
         "line": {
          "color": "#38C172"
         },
         "mode": "lines",
         "name": "Total Llamadas (miles)",
         "type": "scatter",
         "x": [
          "2013-03-30",
          "2013-06-30",
          "2013-09-30",
          "2013-12-30",
          "2014-03-30",
          "2014-06-30",
          "2014-09-30",
          "2014-12-30",
          "2015-03-30",
          "2015-06-30",
          "2015-09-30",
          "2015-12-30",
          "2016-03-30",
          "2016-06-30",
          "2016-09-30",
          "2016-12-30",
          "2017-03-30",
          "2017-06-30",
          "2017-09-30",
          "2017-12-30",
          "2018-03-30",
          "2018-06-30",
          "2018-09-30",
          "2018-12-30",
          "2019-03-30",
          "2019-06-30",
          "2019-09-30",
          "2019-12-30",
          "2020-03-30",
          "2020-06-30",
          "2020-09-30",
          "2020-12-30",
          "2021-03-30",
          "2021-06-30",
          "2021-09-30",
          "2021-12-30",
          "2022-03-30",
          "2022-06-30",
          "2022-09-30",
          "2022-12-30",
          "2023-03-30",
          "2023-06-30",
          "2023-09-30",
          "2023-12-30",
          "2024-03-30"
         ],
         "y": [
          7209313,
          7856259,
          8281652,
          8650667,
          7590580,
          8315290,
          9032800,
          9606549,
          8172656,
          8693592,
          9379434,
          9815691,
          8894429,
          8995948,
          9110796,
          9266707,
          8221089,
          8184401,
          8214494,
          8402341,
          7268982,
          7615161,
          7699720,
          8240697,
          7560513.208,
          7713768.829,
          7254864.434,
          7601121.234999999,
          6583591.481,
          6035390.481,
          6256823.481,
          6007147.805000001,
          5585383.163999999,
          5427525.764,
          5560488.463,
          5935851.582,
          5339205.98,
          5474624.729,
          5443741.752,
          4898125.353,
          4275360.024,
          4324706.024,
          4194638.897,
          4583176.897,
          4093314.897
         ]
        }
       ],
       "layout": {
        "legend": {
         "tracegroupgap": 0
        },
        "margin": {
         "t": 60
        },
        "template": {
         "data": {
          "bar": [
           {
            "error_x": {
             "color": "#2a3f5f"
            },
            "error_y": {
             "color": "#2a3f5f"
            },
            "marker": {
             "line": {
              "color": "#E5ECF6",
              "width": 0.5
             },
             "pattern": {
              "fillmode": "overlay",
              "size": 10,
              "solidity": 0.2
             }
            },
            "type": "bar"
           }
          ],
          "barpolar": [
           {
            "marker": {
             "line": {
              "color": "#E5ECF6",
              "width": 0.5
             },
             "pattern": {
              "fillmode": "overlay",
              "size": 10,
              "solidity": 0.2
             }
            },
            "type": "barpolar"
           }
          ],
          "carpet": [
           {
            "aaxis": {
             "endlinecolor": "#2a3f5f",
             "gridcolor": "white",
             "linecolor": "white",
             "minorgridcolor": "white",
             "startlinecolor": "#2a3f5f"
            },
            "baxis": {
             "endlinecolor": "#2a3f5f",
             "gridcolor": "white",
             "linecolor": "white",
             "minorgridcolor": "white",
             "startlinecolor": "#2a3f5f"
            },
            "type": "carpet"
           }
          ],
          "choropleth": [
           {
            "colorbar": {
             "outlinewidth": 0,
             "ticks": ""
            },
            "type": "choropleth"
           }
          ],
          "contour": [
           {
            "colorbar": {
             "outlinewidth": 0,
             "ticks": ""
            },
            "colorscale": [
             [
              0,
              "#0d0887"
             ],
             [
              0.1111111111111111,
              "#46039f"
             ],
             [
              0.2222222222222222,
              "#7201a8"
             ],
             [
              0.3333333333333333,
              "#9c179e"
             ],
             [
              0.4444444444444444,
              "#bd3786"
             ],
             [
              0.5555555555555556,
              "#d8576b"
             ],
             [
              0.6666666666666666,
              "#ed7953"
             ],
             [
              0.7777777777777778,
              "#fb9f3a"
             ],
             [
              0.8888888888888888,
              "#fdca26"
             ],
             [
              1,
              "#f0f921"
             ]
            ],
            "type": "contour"
           }
          ],
          "contourcarpet": [
           {
            "colorbar": {
             "outlinewidth": 0,
             "ticks": ""
            },
            "type": "contourcarpet"
           }
          ],
          "heatmap": [
           {
            "colorbar": {
             "outlinewidth": 0,
             "ticks": ""
            },
            "colorscale": [
             [
              0,
              "#0d0887"
             ],
             [
              0.1111111111111111,
              "#46039f"
             ],
             [
              0.2222222222222222,
              "#7201a8"
             ],
             [
              0.3333333333333333,
              "#9c179e"
             ],
             [
              0.4444444444444444,
              "#bd3786"
             ],
             [
              0.5555555555555556,
              "#d8576b"
             ],
             [
              0.6666666666666666,
              "#ed7953"
             ],
             [
              0.7777777777777778,
              "#fb9f3a"
             ],
             [
              0.8888888888888888,
              "#fdca26"
             ],
             [
              1,
              "#f0f921"
             ]
            ],
            "type": "heatmap"
           }
          ],
          "heatmapgl": [
           {
            "colorbar": {
             "outlinewidth": 0,
             "ticks": ""
            },
            "colorscale": [
             [
              0,
              "#0d0887"
             ],
             [
              0.1111111111111111,
              "#46039f"
             ],
             [
              0.2222222222222222,
              "#7201a8"
             ],
             [
              0.3333333333333333,
              "#9c179e"
             ],
             [
              0.4444444444444444,
              "#bd3786"
             ],
             [
              0.5555555555555556,
              "#d8576b"
             ],
             [
              0.6666666666666666,
              "#ed7953"
             ],
             [
              0.7777777777777778,
              "#fb9f3a"
             ],
             [
              0.8888888888888888,
              "#fdca26"
             ],
             [
              1,
              "#f0f921"
             ]
            ],
            "type": "heatmapgl"
           }
          ],
          "histogram": [
           {
            "marker": {
             "pattern": {
              "fillmode": "overlay",
              "size": 10,
              "solidity": 0.2
             }
            },
            "type": "histogram"
           }
          ],
          "histogram2d": [
           {
            "colorbar": {
             "outlinewidth": 0,
             "ticks": ""
            },
            "colorscale": [
             [
              0,
              "#0d0887"
             ],
             [
              0.1111111111111111,
              "#46039f"
             ],
             [
              0.2222222222222222,
              "#7201a8"
             ],
             [
              0.3333333333333333,
              "#9c179e"
             ],
             [
              0.4444444444444444,
              "#bd3786"
             ],
             [
              0.5555555555555556,
              "#d8576b"
             ],
             [
              0.6666666666666666,
              "#ed7953"
             ],
             [
              0.7777777777777778,
              "#fb9f3a"
             ],
             [
              0.8888888888888888,
              "#fdca26"
             ],
             [
              1,
              "#f0f921"
             ]
            ],
            "type": "histogram2d"
           }
          ],
          "histogram2dcontour": [
           {
            "colorbar": {
             "outlinewidth": 0,
             "ticks": ""
            },
            "colorscale": [
             [
              0,
              "#0d0887"
             ],
             [
              0.1111111111111111,
              "#46039f"
             ],
             [
              0.2222222222222222,
              "#7201a8"
             ],
             [
              0.3333333333333333,
              "#9c179e"
             ],
             [
              0.4444444444444444,
              "#bd3786"
             ],
             [
              0.5555555555555556,
              "#d8576b"
             ],
             [
              0.6666666666666666,
              "#ed7953"
             ],
             [
              0.7777777777777778,
              "#fb9f3a"
             ],
             [
              0.8888888888888888,
              "#fdca26"
             ],
             [
              1,
              "#f0f921"
             ]
            ],
            "type": "histogram2dcontour"
           }
          ],
          "mesh3d": [
           {
            "colorbar": {
             "outlinewidth": 0,
             "ticks": ""
            },
            "type": "mesh3d"
           }
          ],
          "parcoords": [
           {
            "line": {
             "colorbar": {
              "outlinewidth": 0,
              "ticks": ""
             }
            },
            "type": "parcoords"
           }
          ],
          "pie": [
           {
            "automargin": true,
            "type": "pie"
           }
          ],
          "scatter": [
           {
            "fillpattern": {
             "fillmode": "overlay",
             "size": 10,
             "solidity": 0.2
            },
            "type": "scatter"
           }
          ],
          "scatter3d": [
           {
            "line": {
             "colorbar": {
              "outlinewidth": 0,
              "ticks": ""
             }
            },
            "marker": {
             "colorbar": {
              "outlinewidth": 0,
              "ticks": ""
             }
            },
            "type": "scatter3d"
           }
          ],
          "scattercarpet": [
           {
            "marker": {
             "colorbar": {
              "outlinewidth": 0,
              "ticks": ""
             }
            },
            "type": "scattercarpet"
           }
          ],
          "scattergeo": [
           {
            "marker": {
             "colorbar": {
              "outlinewidth": 0,
              "ticks": ""
             }
            },
            "type": "scattergeo"
           }
          ],
          "scattergl": [
           {
            "marker": {
             "colorbar": {
              "outlinewidth": 0,
              "ticks": ""
             }
            },
            "type": "scattergl"
           }
          ],
          "scattermapbox": [
           {
            "marker": {
             "colorbar": {
              "outlinewidth": 0,
              "ticks": ""
             }
            },
            "type": "scattermapbox"
           }
          ],
          "scatterpolar": [
           {
            "marker": {
             "colorbar": {
              "outlinewidth": 0,
              "ticks": ""
             }
            },
            "type": "scatterpolar"
           }
          ],
          "scatterpolargl": [
           {
            "marker": {
             "colorbar": {
              "outlinewidth": 0,
              "ticks": ""
             }
            },
            "type": "scatterpolargl"
           }
          ],
          "scatterternary": [
           {
            "marker": {
             "colorbar": {
              "outlinewidth": 0,
              "ticks": ""
             }
            },
            "type": "scatterternary"
           }
          ],
          "surface": [
           {
            "colorbar": {
             "outlinewidth": 0,
             "ticks": ""
            },
            "colorscale": [
             [
              0,
              "#0d0887"
             ],
             [
              0.1111111111111111,
              "#46039f"
             ],
             [
              0.2222222222222222,
              "#7201a8"
             ],
             [
              0.3333333333333333,
              "#9c179e"
             ],
             [
              0.4444444444444444,
              "#bd3786"
             ],
             [
              0.5555555555555556,
              "#d8576b"
             ],
             [
              0.6666666666666666,
              "#ed7953"
             ],
             [
              0.7777777777777778,
              "#fb9f3a"
             ],
             [
              0.8888888888888888,
              "#fdca26"
             ],
             [
              1,
              "#f0f921"
             ]
            ],
            "type": "surface"
           }
          ],
          "table": [
           {
            "cells": {
             "fill": {
              "color": "#EBF0F8"
             },
             "line": {
              "color": "white"
             }
            },
            "header": {
             "fill": {
              "color": "#C8D4E3"
             },
             "line": {
              "color": "white"
             }
            },
            "type": "table"
           }
          ]
         },
         "layout": {
          "annotationdefaults": {
           "arrowcolor": "#2a3f5f",
           "arrowhead": 0,
           "arrowwidth": 1
          },
          "autotypenumbers": "strict",
          "coloraxis": {
           "colorbar": {
            "outlinewidth": 0,
            "ticks": ""
           }
          },
          "colorscale": {
           "diverging": [
            [
             0,
             "#8e0152"
            ],
            [
             0.1,
             "#c51b7d"
            ],
            [
             0.2,
             "#de77ae"
            ],
            [
             0.3,
             "#f1b6da"
            ],
            [
             0.4,
             "#fde0ef"
            ],
            [
             0.5,
             "#f7f7f7"
            ],
            [
             0.6,
             "#e6f5d0"
            ],
            [
             0.7,
             "#b8e186"
            ],
            [
             0.8,
             "#7fbc41"
            ],
            [
             0.9,
             "#4d9221"
            ],
            [
             1,
             "#276419"
            ]
           ],
           "sequential": [
            [
             0,
             "#0d0887"
            ],
            [
             0.1111111111111111,
             "#46039f"
            ],
            [
             0.2222222222222222,
             "#7201a8"
            ],
            [
             0.3333333333333333,
             "#9c179e"
            ],
            [
             0.4444444444444444,
             "#bd3786"
            ],
            [
             0.5555555555555556,
             "#d8576b"
            ],
            [
             0.6666666666666666,
             "#ed7953"
            ],
            [
             0.7777777777777778,
             "#fb9f3a"
            ],
            [
             0.8888888888888888,
             "#fdca26"
            ],
            [
             1,
             "#f0f921"
            ]
           ],
           "sequentialminus": [
            [
             0,
             "#0d0887"
            ],
            [
             0.1111111111111111,
             "#46039f"
            ],
            [
             0.2222222222222222,
             "#7201a8"
            ],
            [
             0.3333333333333333,
             "#9c179e"
            ],
            [
             0.4444444444444444,
             "#bd3786"
            ],
            [
             0.5555555555555556,
             "#d8576b"
            ],
            [
             0.6666666666666666,
             "#ed7953"
            ],
            [
             0.7777777777777778,
             "#fb9f3a"
            ],
            [
             0.8888888888888888,
             "#fdca26"
            ],
            [
             1,
             "#f0f921"
            ]
           ]
          },
          "colorway": [
           "#636efa",
           "#EF553B",
           "#00cc96",
           "#ab63fa",
           "#FFA15A",
           "#19d3f3",
           "#FF6692",
           "#B6E880",
           "#FF97FF",
           "#FECB52"
          ],
          "font": {
           "color": "#2a3f5f"
          },
          "geo": {
           "bgcolor": "white",
           "lakecolor": "white",
           "landcolor": "#E5ECF6",
           "showlakes": true,
           "showland": true,
           "subunitcolor": "white"
          },
          "hoverlabel": {
           "align": "left"
          },
          "hovermode": "closest",
          "mapbox": {
           "style": "light"
          },
          "paper_bgcolor": "white",
          "plot_bgcolor": "#E5ECF6",
          "polar": {
           "angularaxis": {
            "gridcolor": "white",
            "linecolor": "white",
            "ticks": ""
           },
           "bgcolor": "#E5ECF6",
           "radialaxis": {
            "gridcolor": "white",
            "linecolor": "white",
            "ticks": ""
           }
          },
          "scene": {
           "xaxis": {
            "backgroundcolor": "#E5ECF6",
            "gridcolor": "white",
            "gridwidth": 2,
            "linecolor": "white",
            "showbackground": true,
            "ticks": "",
            "zerolinecolor": "white"
           },
           "yaxis": {
            "backgroundcolor": "#E5ECF6",
            "gridcolor": "white",
            "gridwidth": 2,
            "linecolor": "white",
            "showbackground": true,
            "ticks": "",
            "zerolinecolor": "white"
           },
           "zaxis": {
            "backgroundcolor": "#E5ECF6",
            "gridcolor": "white",
            "gridwidth": 2,
            "linecolor": "white",
            "showbackground": true,
            "ticks": "",
            "zerolinecolor": "white"
           }
          },
          "shapedefaults": {
           "line": {
            "color": "#2a3f5f"
           }
          },
          "ternary": {
           "aaxis": {
            "gridcolor": "white",
            "linecolor": "white",
            "ticks": ""
           },
           "baxis": {
            "gridcolor": "white",
            "linecolor": "white",
            "ticks": ""
           },
           "bgcolor": "#E5ECF6",
           "caxis": {
            "gridcolor": "white",
            "linecolor": "white",
            "ticks": ""
           }
          },
          "title": {
           "x": 0.05
          },
          "xaxis": {
           "automargin": true,
           "gridcolor": "white",
           "linecolor": "white",
           "ticks": "",
           "title": {
            "standoff": 15
           },
           "zerolinecolor": "white",
           "zerolinewidth": 2
          },
          "yaxis": {
           "automargin": true,
           "gridcolor": "white",
           "linecolor": "white",
           "ticks": "",
           "title": {
            "standoff": 15
           },
           "zerolinecolor": "white",
           "zerolinewidth": 2
          }
         }
        },
        "title": {
         "text": "Tendencia de Cantidad de llamadas en Telefonía Movil"
        },
        "width": 900,
        "xaxis": {
         "anchor": "y",
         "domain": [
          0,
          1
         ],
         "title": {
          "text": "Periodo"
         }
        },
        "yaxis": {
         "anchor": "x",
         "domain": [
          0,
          1
         ],
         "title": {
          "text": "Llamadas"
         }
        }
       }
      }
     },
     "metadata": {},
     "output_type": "display_data"
    }
   ],
   "source": [
    "columns = ['llamadas_post_miles', 'llamadas_pre_miles', 'total_llamadas']\n",
    "names = ['Llamadas Post-Pagos (miles)', 'Llamadas Pre-Pagos (miles)', 'Total Llamadas (miles)']\n",
    "colors = ['#9fbc12', ' #045426 ', '#38C172']\n",
    "titulo = 'Tendencia de Cantidad de llamadas en Telefonía Movil'\n",
    "ancho_grafico = 900\n",
    "y_title = 'Llamadas'\n",
    "\n",
    "fig = crear_graf_df(columns=columns, names=names, colors=colors, width=ancho_grafico, \n",
    "                    y_title=y_title, df=telefonia_movil, titulo=titulo)\n",
    "\n",
    "config = {'displayModeBar': False}\n",
    "fig.show(config=config)"
   ]
  },
  {
   "cell_type": "markdown",
   "metadata": {},
   "source": [
    "### **Gráfico 8:**\n",
    "Tendencia de la Cantidad de minutos consumidos en la `Telefonía Movil`"
   ]
  },
  {
   "cell_type": "code",
   "execution_count": 26,
   "metadata": {},
   "outputs": [
    {
     "data": {
      "application/vnd.plotly.v1+json": {
       "config": {
        "displayModeBar": false,
        "plotlyServerURL": "https://plot.ly"
       },
       "data": [
        {
         "hovertemplate": "<extra></extra>",
         "legendgroup": "",
         "line": {
          "color": "#636efa",
          "dash": "solid"
         },
         "marker": {
          "symbol": "circle"
         },
         "mode": "lines",
         "name": "",
         "orientation": "v",
         "showlegend": false,
         "type": "scatter",
         "xaxis": "x",
         "yaxis": "y"
        },
        {
         "line": {
          "color": "#9fbc12"
         },
         "mode": "lines",
         "name": "Minutos Post-Pagos (miles)",
         "type": "scatter",
         "x": [
          "2013-03-30",
          "2013-06-30",
          "2013-09-30",
          "2013-12-30",
          "2014-03-30",
          "2014-06-30",
          "2014-09-30",
          "2014-12-30",
          "2015-03-30",
          "2015-06-30",
          "2015-09-30",
          "2015-12-30",
          "2016-03-30",
          "2016-06-30",
          "2016-09-30",
          "2016-12-30",
          "2017-03-30",
          "2017-06-30",
          "2017-09-30",
          "2017-12-30",
          "2018-03-30",
          "2018-06-30",
          "2018-09-30",
          "2018-12-30",
          "2019-03-30",
          "2019-06-30",
          "2019-09-30",
          "2019-12-30",
          "2020-03-30",
          "2020-06-30",
          "2020-09-30",
          "2020-12-30",
          "2021-03-30",
          "2021-06-30",
          "2021-09-30",
          "2021-12-30",
          "2022-03-30",
          "2022-06-30",
          "2022-09-30",
          "2022-12-30",
          "2023-03-30",
          "2023-06-30",
          "2023-09-30",
          "2023-12-30",
          "2024-03-30"
         ],
         "y": [
          8785943,
          9512689,
          10315484,
          9809515,
          10128751,
          10821463,
          11524344,
          11997330,
          10273637,
          11226576,
          11766711,
          11905073,
          11230991,
          11493027,
          11923391,
          15960765,
          14630269,
          15315167,
          15106275,
          14164552,
          13423580,
          14240217,
          14574305,
          14915060,
          13733817.225000001,
          13986048.225000001,
          13444769,
          11828877,
          13764635,
          14584355.920000002,
          14536704.920000002,
          14421376.920000002,
          12992365.92,
          13869977.920000002,
          13152392.920000002,
          12944093.920000002,
          12362900.326000001,
          12436523.97,
          12556822.303,
          11890576.782,
          10980979.222000001,
          10577764.69,
          10354886.817,
          10147853.817,
          9798647.817
         ]
        },
        {
         "line": {
          "color": " #045426 "
         },
         "mode": "lines",
         "name": "Minutos Pre-Pagos (miles)",
         "type": "scatter",
         "x": [
          "2013-03-30",
          "2013-06-30",
          "2013-09-30",
          "2013-12-30",
          "2014-03-30",
          "2014-06-30",
          "2014-09-30",
          "2014-12-30",
          "2015-03-30",
          "2015-06-30",
          "2015-09-30",
          "2015-12-30",
          "2016-03-30",
          "2016-06-30",
          "2016-09-30",
          "2016-12-30",
          "2017-03-30",
          "2017-06-30",
          "2017-09-30",
          "2017-12-30",
          "2018-03-30",
          "2018-06-30",
          "2018-09-30",
          "2018-12-30",
          "2019-03-30",
          "2019-06-30",
          "2019-09-30",
          "2019-12-30",
          "2020-03-30",
          "2020-06-30",
          "2020-09-30",
          "2020-12-30",
          "2021-03-30",
          "2021-06-30",
          "2021-09-30",
          "2021-12-30",
          "2022-03-30",
          "2022-06-30",
          "2022-09-30",
          "2022-12-30",
          "2023-03-30",
          "2023-06-30",
          "2023-09-30",
          "2023-12-30",
          "2024-03-30"
         ],
         "y": [
          6582117,
          7108640,
          7335154,
          6250549,
          5799223,
          6438071,
          7179152,
          7147630,
          6480172,
          6579819,
          7198826,
          7301039,
          6656647,
          6778732,
          7077838,
          6938892,
          6209983,
          6293563,
          6308373,
          5380710,
          5850985,
          6027374,
          6108477,
          6613685,
          6182148.648,
          6174602.648,
          6819314,
          6567190,
          6211879,
          5949099.925,
          5696018.925,
          5768782.925,
          5469580.925,
          5354042.925,
          5440363.925,
          5456087.925,
          3586127.049,
          3776194.545,
          3870171.662,
          3721055.6679999996,
          3469825.6910000006,
          3493297.85,
          3639908.0670000003,
          3673245.0670000003,
          3708874.0670000003
         ]
        },
        {
         "line": {
          "color": "#38C172"
         },
         "mode": "lines",
         "name": "Total Minutos (miles)",
         "type": "scatter",
         "x": [
          "2013-03-30",
          "2013-06-30",
          "2013-09-30",
          "2013-12-30",
          "2014-03-30",
          "2014-06-30",
          "2014-09-30",
          "2014-12-30",
          "2015-03-30",
          "2015-06-30",
          "2015-09-30",
          "2015-12-30",
          "2016-03-30",
          "2016-06-30",
          "2016-09-30",
          "2016-12-30",
          "2017-03-30",
          "2017-06-30",
          "2017-09-30",
          "2017-12-30",
          "2018-03-30",
          "2018-06-30",
          "2018-09-30",
          "2018-12-30",
          "2019-03-30",
          "2019-06-30",
          "2019-09-30",
          "2019-12-30",
          "2020-03-30",
          "2020-06-30",
          "2020-09-30",
          "2020-12-30",
          "2021-03-30",
          "2021-06-30",
          "2021-09-30",
          "2021-12-30",
          "2022-03-30",
          "2022-06-30",
          "2022-09-30",
          "2022-12-30",
          "2023-03-30",
          "2023-06-30",
          "2023-09-30",
          "2023-12-30",
          "2024-03-30"
         ],
         "y": [
          15368060,
          16621329,
          17650638,
          16060064,
          15927974,
          17259534,
          18703496,
          19144960,
          16753809,
          17806395,
          18965537,
          19206112,
          17887638,
          18271759,
          19001229,
          22899657,
          20840252,
          21608730,
          21414648,
          19545262,
          19274565,
          20267591,
          20682782,
          21528745,
          19915965.873000003,
          20160650.873000003,
          20264083,
          18396067,
          19976514,
          20533455.845000003,
          20232723.845000003,
          20190159.845000003,
          18461946.845,
          19224020.845000003,
          18592756.845000003,
          18400181.845000003,
          15949027.375000002,
          16212718.515,
          16426993.965,
          15611632.45,
          14450804.913000003,
          14071062.54,
          13994794.884,
          13821098.884,
          13507521.884
         ]
        }
       ],
       "layout": {
        "legend": {
         "tracegroupgap": 0
        },
        "margin": {
         "t": 60
        },
        "template": {
         "data": {
          "bar": [
           {
            "error_x": {
             "color": "#2a3f5f"
            },
            "error_y": {
             "color": "#2a3f5f"
            },
            "marker": {
             "line": {
              "color": "#E5ECF6",
              "width": 0.5
             },
             "pattern": {
              "fillmode": "overlay",
              "size": 10,
              "solidity": 0.2
             }
            },
            "type": "bar"
           }
          ],
          "barpolar": [
           {
            "marker": {
             "line": {
              "color": "#E5ECF6",
              "width": 0.5
             },
             "pattern": {
              "fillmode": "overlay",
              "size": 10,
              "solidity": 0.2
             }
            },
            "type": "barpolar"
           }
          ],
          "carpet": [
           {
            "aaxis": {
             "endlinecolor": "#2a3f5f",
             "gridcolor": "white",
             "linecolor": "white",
             "minorgridcolor": "white",
             "startlinecolor": "#2a3f5f"
            },
            "baxis": {
             "endlinecolor": "#2a3f5f",
             "gridcolor": "white",
             "linecolor": "white",
             "minorgridcolor": "white",
             "startlinecolor": "#2a3f5f"
            },
            "type": "carpet"
           }
          ],
          "choropleth": [
           {
            "colorbar": {
             "outlinewidth": 0,
             "ticks": ""
            },
            "type": "choropleth"
           }
          ],
          "contour": [
           {
            "colorbar": {
             "outlinewidth": 0,
             "ticks": ""
            },
            "colorscale": [
             [
              0,
              "#0d0887"
             ],
             [
              0.1111111111111111,
              "#46039f"
             ],
             [
              0.2222222222222222,
              "#7201a8"
             ],
             [
              0.3333333333333333,
              "#9c179e"
             ],
             [
              0.4444444444444444,
              "#bd3786"
             ],
             [
              0.5555555555555556,
              "#d8576b"
             ],
             [
              0.6666666666666666,
              "#ed7953"
             ],
             [
              0.7777777777777778,
              "#fb9f3a"
             ],
             [
              0.8888888888888888,
              "#fdca26"
             ],
             [
              1,
              "#f0f921"
             ]
            ],
            "type": "contour"
           }
          ],
          "contourcarpet": [
           {
            "colorbar": {
             "outlinewidth": 0,
             "ticks": ""
            },
            "type": "contourcarpet"
           }
          ],
          "heatmap": [
           {
            "colorbar": {
             "outlinewidth": 0,
             "ticks": ""
            },
            "colorscale": [
             [
              0,
              "#0d0887"
             ],
             [
              0.1111111111111111,
              "#46039f"
             ],
             [
              0.2222222222222222,
              "#7201a8"
             ],
             [
              0.3333333333333333,
              "#9c179e"
             ],
             [
              0.4444444444444444,
              "#bd3786"
             ],
             [
              0.5555555555555556,
              "#d8576b"
             ],
             [
              0.6666666666666666,
              "#ed7953"
             ],
             [
              0.7777777777777778,
              "#fb9f3a"
             ],
             [
              0.8888888888888888,
              "#fdca26"
             ],
             [
              1,
              "#f0f921"
             ]
            ],
            "type": "heatmap"
           }
          ],
          "heatmapgl": [
           {
            "colorbar": {
             "outlinewidth": 0,
             "ticks": ""
            },
            "colorscale": [
             [
              0,
              "#0d0887"
             ],
             [
              0.1111111111111111,
              "#46039f"
             ],
             [
              0.2222222222222222,
              "#7201a8"
             ],
             [
              0.3333333333333333,
              "#9c179e"
             ],
             [
              0.4444444444444444,
              "#bd3786"
             ],
             [
              0.5555555555555556,
              "#d8576b"
             ],
             [
              0.6666666666666666,
              "#ed7953"
             ],
             [
              0.7777777777777778,
              "#fb9f3a"
             ],
             [
              0.8888888888888888,
              "#fdca26"
             ],
             [
              1,
              "#f0f921"
             ]
            ],
            "type": "heatmapgl"
           }
          ],
          "histogram": [
           {
            "marker": {
             "pattern": {
              "fillmode": "overlay",
              "size": 10,
              "solidity": 0.2
             }
            },
            "type": "histogram"
           }
          ],
          "histogram2d": [
           {
            "colorbar": {
             "outlinewidth": 0,
             "ticks": ""
            },
            "colorscale": [
             [
              0,
              "#0d0887"
             ],
             [
              0.1111111111111111,
              "#46039f"
             ],
             [
              0.2222222222222222,
              "#7201a8"
             ],
             [
              0.3333333333333333,
              "#9c179e"
             ],
             [
              0.4444444444444444,
              "#bd3786"
             ],
             [
              0.5555555555555556,
              "#d8576b"
             ],
             [
              0.6666666666666666,
              "#ed7953"
             ],
             [
              0.7777777777777778,
              "#fb9f3a"
             ],
             [
              0.8888888888888888,
              "#fdca26"
             ],
             [
              1,
              "#f0f921"
             ]
            ],
            "type": "histogram2d"
           }
          ],
          "histogram2dcontour": [
           {
            "colorbar": {
             "outlinewidth": 0,
             "ticks": ""
            },
            "colorscale": [
             [
              0,
              "#0d0887"
             ],
             [
              0.1111111111111111,
              "#46039f"
             ],
             [
              0.2222222222222222,
              "#7201a8"
             ],
             [
              0.3333333333333333,
              "#9c179e"
             ],
             [
              0.4444444444444444,
              "#bd3786"
             ],
             [
              0.5555555555555556,
              "#d8576b"
             ],
             [
              0.6666666666666666,
              "#ed7953"
             ],
             [
              0.7777777777777778,
              "#fb9f3a"
             ],
             [
              0.8888888888888888,
              "#fdca26"
             ],
             [
              1,
              "#f0f921"
             ]
            ],
            "type": "histogram2dcontour"
           }
          ],
          "mesh3d": [
           {
            "colorbar": {
             "outlinewidth": 0,
             "ticks": ""
            },
            "type": "mesh3d"
           }
          ],
          "parcoords": [
           {
            "line": {
             "colorbar": {
              "outlinewidth": 0,
              "ticks": ""
             }
            },
            "type": "parcoords"
           }
          ],
          "pie": [
           {
            "automargin": true,
            "type": "pie"
           }
          ],
          "scatter": [
           {
            "fillpattern": {
             "fillmode": "overlay",
             "size": 10,
             "solidity": 0.2
            },
            "type": "scatter"
           }
          ],
          "scatter3d": [
           {
            "line": {
             "colorbar": {
              "outlinewidth": 0,
              "ticks": ""
             }
            },
            "marker": {
             "colorbar": {
              "outlinewidth": 0,
              "ticks": ""
             }
            },
            "type": "scatter3d"
           }
          ],
          "scattercarpet": [
           {
            "marker": {
             "colorbar": {
              "outlinewidth": 0,
              "ticks": ""
             }
            },
            "type": "scattercarpet"
           }
          ],
          "scattergeo": [
           {
            "marker": {
             "colorbar": {
              "outlinewidth": 0,
              "ticks": ""
             }
            },
            "type": "scattergeo"
           }
          ],
          "scattergl": [
           {
            "marker": {
             "colorbar": {
              "outlinewidth": 0,
              "ticks": ""
             }
            },
            "type": "scattergl"
           }
          ],
          "scattermapbox": [
           {
            "marker": {
             "colorbar": {
              "outlinewidth": 0,
              "ticks": ""
             }
            },
            "type": "scattermapbox"
           }
          ],
          "scatterpolar": [
           {
            "marker": {
             "colorbar": {
              "outlinewidth": 0,
              "ticks": ""
             }
            },
            "type": "scatterpolar"
           }
          ],
          "scatterpolargl": [
           {
            "marker": {
             "colorbar": {
              "outlinewidth": 0,
              "ticks": ""
             }
            },
            "type": "scatterpolargl"
           }
          ],
          "scatterternary": [
           {
            "marker": {
             "colorbar": {
              "outlinewidth": 0,
              "ticks": ""
             }
            },
            "type": "scatterternary"
           }
          ],
          "surface": [
           {
            "colorbar": {
             "outlinewidth": 0,
             "ticks": ""
            },
            "colorscale": [
             [
              0,
              "#0d0887"
             ],
             [
              0.1111111111111111,
              "#46039f"
             ],
             [
              0.2222222222222222,
              "#7201a8"
             ],
             [
              0.3333333333333333,
              "#9c179e"
             ],
             [
              0.4444444444444444,
              "#bd3786"
             ],
             [
              0.5555555555555556,
              "#d8576b"
             ],
             [
              0.6666666666666666,
              "#ed7953"
             ],
             [
              0.7777777777777778,
              "#fb9f3a"
             ],
             [
              0.8888888888888888,
              "#fdca26"
             ],
             [
              1,
              "#f0f921"
             ]
            ],
            "type": "surface"
           }
          ],
          "table": [
           {
            "cells": {
             "fill": {
              "color": "#EBF0F8"
             },
             "line": {
              "color": "white"
             }
            },
            "header": {
             "fill": {
              "color": "#C8D4E3"
             },
             "line": {
              "color": "white"
             }
            },
            "type": "table"
           }
          ]
         },
         "layout": {
          "annotationdefaults": {
           "arrowcolor": "#2a3f5f",
           "arrowhead": 0,
           "arrowwidth": 1
          },
          "autotypenumbers": "strict",
          "coloraxis": {
           "colorbar": {
            "outlinewidth": 0,
            "ticks": ""
           }
          },
          "colorscale": {
           "diverging": [
            [
             0,
             "#8e0152"
            ],
            [
             0.1,
             "#c51b7d"
            ],
            [
             0.2,
             "#de77ae"
            ],
            [
             0.3,
             "#f1b6da"
            ],
            [
             0.4,
             "#fde0ef"
            ],
            [
             0.5,
             "#f7f7f7"
            ],
            [
             0.6,
             "#e6f5d0"
            ],
            [
             0.7,
             "#b8e186"
            ],
            [
             0.8,
             "#7fbc41"
            ],
            [
             0.9,
             "#4d9221"
            ],
            [
             1,
             "#276419"
            ]
           ],
           "sequential": [
            [
             0,
             "#0d0887"
            ],
            [
             0.1111111111111111,
             "#46039f"
            ],
            [
             0.2222222222222222,
             "#7201a8"
            ],
            [
             0.3333333333333333,
             "#9c179e"
            ],
            [
             0.4444444444444444,
             "#bd3786"
            ],
            [
             0.5555555555555556,
             "#d8576b"
            ],
            [
             0.6666666666666666,
             "#ed7953"
            ],
            [
             0.7777777777777778,
             "#fb9f3a"
            ],
            [
             0.8888888888888888,
             "#fdca26"
            ],
            [
             1,
             "#f0f921"
            ]
           ],
           "sequentialminus": [
            [
             0,
             "#0d0887"
            ],
            [
             0.1111111111111111,
             "#46039f"
            ],
            [
             0.2222222222222222,
             "#7201a8"
            ],
            [
             0.3333333333333333,
             "#9c179e"
            ],
            [
             0.4444444444444444,
             "#bd3786"
            ],
            [
             0.5555555555555556,
             "#d8576b"
            ],
            [
             0.6666666666666666,
             "#ed7953"
            ],
            [
             0.7777777777777778,
             "#fb9f3a"
            ],
            [
             0.8888888888888888,
             "#fdca26"
            ],
            [
             1,
             "#f0f921"
            ]
           ]
          },
          "colorway": [
           "#636efa",
           "#EF553B",
           "#00cc96",
           "#ab63fa",
           "#FFA15A",
           "#19d3f3",
           "#FF6692",
           "#B6E880",
           "#FF97FF",
           "#FECB52"
          ],
          "font": {
           "color": "#2a3f5f"
          },
          "geo": {
           "bgcolor": "white",
           "lakecolor": "white",
           "landcolor": "#E5ECF6",
           "showlakes": true,
           "showland": true,
           "subunitcolor": "white"
          },
          "hoverlabel": {
           "align": "left"
          },
          "hovermode": "closest",
          "mapbox": {
           "style": "light"
          },
          "paper_bgcolor": "white",
          "plot_bgcolor": "#E5ECF6",
          "polar": {
           "angularaxis": {
            "gridcolor": "white",
            "linecolor": "white",
            "ticks": ""
           },
           "bgcolor": "#E5ECF6",
           "radialaxis": {
            "gridcolor": "white",
            "linecolor": "white",
            "ticks": ""
           }
          },
          "scene": {
           "xaxis": {
            "backgroundcolor": "#E5ECF6",
            "gridcolor": "white",
            "gridwidth": 2,
            "linecolor": "white",
            "showbackground": true,
            "ticks": "",
            "zerolinecolor": "white"
           },
           "yaxis": {
            "backgroundcolor": "#E5ECF6",
            "gridcolor": "white",
            "gridwidth": 2,
            "linecolor": "white",
            "showbackground": true,
            "ticks": "",
            "zerolinecolor": "white"
           },
           "zaxis": {
            "backgroundcolor": "#E5ECF6",
            "gridcolor": "white",
            "gridwidth": 2,
            "linecolor": "white",
            "showbackground": true,
            "ticks": "",
            "zerolinecolor": "white"
           }
          },
          "shapedefaults": {
           "line": {
            "color": "#2a3f5f"
           }
          },
          "ternary": {
           "aaxis": {
            "gridcolor": "white",
            "linecolor": "white",
            "ticks": ""
           },
           "baxis": {
            "gridcolor": "white",
            "linecolor": "white",
            "ticks": ""
           },
           "bgcolor": "#E5ECF6",
           "caxis": {
            "gridcolor": "white",
            "linecolor": "white",
            "ticks": ""
           }
          },
          "title": {
           "x": 0.05
          },
          "xaxis": {
           "automargin": true,
           "gridcolor": "white",
           "linecolor": "white",
           "ticks": "",
           "title": {
            "standoff": 15
           },
           "zerolinecolor": "white",
           "zerolinewidth": 2
          },
          "yaxis": {
           "automargin": true,
           "gridcolor": "white",
           "linecolor": "white",
           "ticks": "",
           "title": {
            "standoff": 15
           },
           "zerolinecolor": "white",
           "zerolinewidth": 2
          }
         }
        },
        "title": {
         "text": "Tendencia de Cantidad de Minutos en Telefonía Movil"
        },
        "width": 900,
        "xaxis": {
         "anchor": "y",
         "domain": [
          0,
          1
         ],
         "title": {
          "text": "Periodo"
         }
        },
        "yaxis": {
         "anchor": "x",
         "domain": [
          0,
          1
         ],
         "title": {
          "text": "Minutos"
         }
        }
       }
      }
     },
     "metadata": {},
     "output_type": "display_data"
    }
   ],
   "source": [
    "columns = ['minutos_post_miles', 'minutos_pre_miles', 'total_minutos']\n",
    "names = ['Minutos Post-Pagos (miles)', 'Minutos Pre-Pagos (miles)', 'Total Minutos (miles)']\n",
    "colors = ['#9fbc12', ' #045426 ', '#38C172']\n",
    "titulo = 'Tendencia de Cantidad de Minutos en Telefonía Movil'\n",
    "ancho_grafico = 900\n",
    "y_title = 'Minutos'\n",
    "\n",
    "fig = crear_graf_df(columns=columns, names=names, colors=colors, width=ancho_grafico, \n",
    "                    y_title=y_title, df=telefonia_movil, titulo=titulo)\n",
    "\n",
    "config = {'displayModeBar': False}\n",
    "fig.show(config=config)"
   ]
  },
  {
   "cell_type": "markdown",
   "metadata": {},
   "source": [
    "En la `telefonía Móvil` aunque la cantidad de accesos no ha variado prácticamente a lo largo de la última decada, la cantidad de llamadas y minutos consumidos han caído drásticamente. Esto no necesariamente es malo y puede deberse a que la masificación del smartphone, hace que el teléfono sea utilizado para otras cosas y no nada más para hablar. También en la actualidad se está hablando por otras vias distintas a las lineas normales (o convencionales), como el caso de `whatsapp` o cualquier otra plataforma que permita hablar utilizando sevicios de internet.  Para entender la evolución de estos cambios, pensemos sólo en el ejemplo de las `antiguas llamadas de larga distancia internacional`, hoy en dia deben ser un número despreciable en comparación con lo que eran hace apenas 2 decadas. "
   ]
  },
  {
   "cell_type": "code",
   "execution_count": 27,
   "metadata": {},
   "outputs": [
    {
     "data": {
      "application/vnd.plotly.v1+json": {
       "config": {
        "displayModeBar": false,
        "plotlyServerURL": "https://plot.ly"
       },
       "data": [
        {
         "cells": {
          "align": [
           "left",
           "center",
           "center"
          ],
          "fill": {
           "color": [
            [
             "#22D3EE",
             "#38C172",
             "#F6993F",
             "#FFED4A"
            ],
            [
             "#22D3EE",
             "#38C172",
             "#F6993F",
             "#FFED4A"
            ],
            [
             "#22D3EE",
             "#38C172",
             "#F6993F",
             "#FFED4A"
            ]
           ]
          },
          "values": [
           [
            "Internet",
            "Telefonía Móvil",
            "Telefonía Fija",
            "Televisión"
           ],
           [
            "64.72 %",
            "-0.15 %",
            "-34.55 %",
            "5.32 %"
           ],
           [
            "-14.31 %",
            "-55.98 %",
            "-58.37 %",
            "-53.59 %"
           ]
          ]
         },
         "header": {
          "align": "center",
          "fill": {
           "color": "lavender"
          },
          "values": [
           "Tecnología",
           "Variación Accesos",
           "Variación Ingresos"
          ]
         },
         "type": "table"
        }
       ],
       "layout": {
        "height": 130,
        "margin": {
         "b": 10,
         "l": 10,
         "r": 10,
         "t": 10
        },
        "template": {
         "data": {
          "bar": [
           {
            "error_x": {
             "color": "#2a3f5f"
            },
            "error_y": {
             "color": "#2a3f5f"
            },
            "marker": {
             "line": {
              "color": "#E5ECF6",
              "width": 0.5
             },
             "pattern": {
              "fillmode": "overlay",
              "size": 10,
              "solidity": 0.2
             }
            },
            "type": "bar"
           }
          ],
          "barpolar": [
           {
            "marker": {
             "line": {
              "color": "#E5ECF6",
              "width": 0.5
             },
             "pattern": {
              "fillmode": "overlay",
              "size": 10,
              "solidity": 0.2
             }
            },
            "type": "barpolar"
           }
          ],
          "carpet": [
           {
            "aaxis": {
             "endlinecolor": "#2a3f5f",
             "gridcolor": "white",
             "linecolor": "white",
             "minorgridcolor": "white",
             "startlinecolor": "#2a3f5f"
            },
            "baxis": {
             "endlinecolor": "#2a3f5f",
             "gridcolor": "white",
             "linecolor": "white",
             "minorgridcolor": "white",
             "startlinecolor": "#2a3f5f"
            },
            "type": "carpet"
           }
          ],
          "choropleth": [
           {
            "colorbar": {
             "outlinewidth": 0,
             "ticks": ""
            },
            "type": "choropleth"
           }
          ],
          "contour": [
           {
            "colorbar": {
             "outlinewidth": 0,
             "ticks": ""
            },
            "colorscale": [
             [
              0,
              "#0d0887"
             ],
             [
              0.1111111111111111,
              "#46039f"
             ],
             [
              0.2222222222222222,
              "#7201a8"
             ],
             [
              0.3333333333333333,
              "#9c179e"
             ],
             [
              0.4444444444444444,
              "#bd3786"
             ],
             [
              0.5555555555555556,
              "#d8576b"
             ],
             [
              0.6666666666666666,
              "#ed7953"
             ],
             [
              0.7777777777777778,
              "#fb9f3a"
             ],
             [
              0.8888888888888888,
              "#fdca26"
             ],
             [
              1,
              "#f0f921"
             ]
            ],
            "type": "contour"
           }
          ],
          "contourcarpet": [
           {
            "colorbar": {
             "outlinewidth": 0,
             "ticks": ""
            },
            "type": "contourcarpet"
           }
          ],
          "heatmap": [
           {
            "colorbar": {
             "outlinewidth": 0,
             "ticks": ""
            },
            "colorscale": [
             [
              0,
              "#0d0887"
             ],
             [
              0.1111111111111111,
              "#46039f"
             ],
             [
              0.2222222222222222,
              "#7201a8"
             ],
             [
              0.3333333333333333,
              "#9c179e"
             ],
             [
              0.4444444444444444,
              "#bd3786"
             ],
             [
              0.5555555555555556,
              "#d8576b"
             ],
             [
              0.6666666666666666,
              "#ed7953"
             ],
             [
              0.7777777777777778,
              "#fb9f3a"
             ],
             [
              0.8888888888888888,
              "#fdca26"
             ],
             [
              1,
              "#f0f921"
             ]
            ],
            "type": "heatmap"
           }
          ],
          "heatmapgl": [
           {
            "colorbar": {
             "outlinewidth": 0,
             "ticks": ""
            },
            "colorscale": [
             [
              0,
              "#0d0887"
             ],
             [
              0.1111111111111111,
              "#46039f"
             ],
             [
              0.2222222222222222,
              "#7201a8"
             ],
             [
              0.3333333333333333,
              "#9c179e"
             ],
             [
              0.4444444444444444,
              "#bd3786"
             ],
             [
              0.5555555555555556,
              "#d8576b"
             ],
             [
              0.6666666666666666,
              "#ed7953"
             ],
             [
              0.7777777777777778,
              "#fb9f3a"
             ],
             [
              0.8888888888888888,
              "#fdca26"
             ],
             [
              1,
              "#f0f921"
             ]
            ],
            "type": "heatmapgl"
           }
          ],
          "histogram": [
           {
            "marker": {
             "pattern": {
              "fillmode": "overlay",
              "size": 10,
              "solidity": 0.2
             }
            },
            "type": "histogram"
           }
          ],
          "histogram2d": [
           {
            "colorbar": {
             "outlinewidth": 0,
             "ticks": ""
            },
            "colorscale": [
             [
              0,
              "#0d0887"
             ],
             [
              0.1111111111111111,
              "#46039f"
             ],
             [
              0.2222222222222222,
              "#7201a8"
             ],
             [
              0.3333333333333333,
              "#9c179e"
             ],
             [
              0.4444444444444444,
              "#bd3786"
             ],
             [
              0.5555555555555556,
              "#d8576b"
             ],
             [
              0.6666666666666666,
              "#ed7953"
             ],
             [
              0.7777777777777778,
              "#fb9f3a"
             ],
             [
              0.8888888888888888,
              "#fdca26"
             ],
             [
              1,
              "#f0f921"
             ]
            ],
            "type": "histogram2d"
           }
          ],
          "histogram2dcontour": [
           {
            "colorbar": {
             "outlinewidth": 0,
             "ticks": ""
            },
            "colorscale": [
             [
              0,
              "#0d0887"
             ],
             [
              0.1111111111111111,
              "#46039f"
             ],
             [
              0.2222222222222222,
              "#7201a8"
             ],
             [
              0.3333333333333333,
              "#9c179e"
             ],
             [
              0.4444444444444444,
              "#bd3786"
             ],
             [
              0.5555555555555556,
              "#d8576b"
             ],
             [
              0.6666666666666666,
              "#ed7953"
             ],
             [
              0.7777777777777778,
              "#fb9f3a"
             ],
             [
              0.8888888888888888,
              "#fdca26"
             ],
             [
              1,
              "#f0f921"
             ]
            ],
            "type": "histogram2dcontour"
           }
          ],
          "mesh3d": [
           {
            "colorbar": {
             "outlinewidth": 0,
             "ticks": ""
            },
            "type": "mesh3d"
           }
          ],
          "parcoords": [
           {
            "line": {
             "colorbar": {
              "outlinewidth": 0,
              "ticks": ""
             }
            },
            "type": "parcoords"
           }
          ],
          "pie": [
           {
            "automargin": true,
            "type": "pie"
           }
          ],
          "scatter": [
           {
            "fillpattern": {
             "fillmode": "overlay",
             "size": 10,
             "solidity": 0.2
            },
            "type": "scatter"
           }
          ],
          "scatter3d": [
           {
            "line": {
             "colorbar": {
              "outlinewidth": 0,
              "ticks": ""
             }
            },
            "marker": {
             "colorbar": {
              "outlinewidth": 0,
              "ticks": ""
             }
            },
            "type": "scatter3d"
           }
          ],
          "scattercarpet": [
           {
            "marker": {
             "colorbar": {
              "outlinewidth": 0,
              "ticks": ""
             }
            },
            "type": "scattercarpet"
           }
          ],
          "scattergeo": [
           {
            "marker": {
             "colorbar": {
              "outlinewidth": 0,
              "ticks": ""
             }
            },
            "type": "scattergeo"
           }
          ],
          "scattergl": [
           {
            "marker": {
             "colorbar": {
              "outlinewidth": 0,
              "ticks": ""
             }
            },
            "type": "scattergl"
           }
          ],
          "scattermapbox": [
           {
            "marker": {
             "colorbar": {
              "outlinewidth": 0,
              "ticks": ""
             }
            },
            "type": "scattermapbox"
           }
          ],
          "scatterpolar": [
           {
            "marker": {
             "colorbar": {
              "outlinewidth": 0,
              "ticks": ""
             }
            },
            "type": "scatterpolar"
           }
          ],
          "scatterpolargl": [
           {
            "marker": {
             "colorbar": {
              "outlinewidth": 0,
              "ticks": ""
             }
            },
            "type": "scatterpolargl"
           }
          ],
          "scatterternary": [
           {
            "marker": {
             "colorbar": {
              "outlinewidth": 0,
              "ticks": ""
             }
            },
            "type": "scatterternary"
           }
          ],
          "surface": [
           {
            "colorbar": {
             "outlinewidth": 0,
             "ticks": ""
            },
            "colorscale": [
             [
              0,
              "#0d0887"
             ],
             [
              0.1111111111111111,
              "#46039f"
             ],
             [
              0.2222222222222222,
              "#7201a8"
             ],
             [
              0.3333333333333333,
              "#9c179e"
             ],
             [
              0.4444444444444444,
              "#bd3786"
             ],
             [
              0.5555555555555556,
              "#d8576b"
             ],
             [
              0.6666666666666666,
              "#ed7953"
             ],
             [
              0.7777777777777778,
              "#fb9f3a"
             ],
             [
              0.8888888888888888,
              "#fdca26"
             ],
             [
              1,
              "#f0f921"
             ]
            ],
            "type": "surface"
           }
          ],
          "table": [
           {
            "cells": {
             "fill": {
              "color": "#EBF0F8"
             },
             "line": {
              "color": "white"
             }
            },
            "header": {
             "fill": {
              "color": "#C8D4E3"
             },
             "line": {
              "color": "white"
             }
            },
            "type": "table"
           }
          ]
         },
         "layout": {
          "annotationdefaults": {
           "arrowcolor": "#2a3f5f",
           "arrowhead": 0,
           "arrowwidth": 1
          },
          "autotypenumbers": "strict",
          "coloraxis": {
           "colorbar": {
            "outlinewidth": 0,
            "ticks": ""
           }
          },
          "colorscale": {
           "diverging": [
            [
             0,
             "#8e0152"
            ],
            [
             0.1,
             "#c51b7d"
            ],
            [
             0.2,
             "#de77ae"
            ],
            [
             0.3,
             "#f1b6da"
            ],
            [
             0.4,
             "#fde0ef"
            ],
            [
             0.5,
             "#f7f7f7"
            ],
            [
             0.6,
             "#e6f5d0"
            ],
            [
             0.7,
             "#b8e186"
            ],
            [
             0.8,
             "#7fbc41"
            ],
            [
             0.9,
             "#4d9221"
            ],
            [
             1,
             "#276419"
            ]
           ],
           "sequential": [
            [
             0,
             "#0d0887"
            ],
            [
             0.1111111111111111,
             "#46039f"
            ],
            [
             0.2222222222222222,
             "#7201a8"
            ],
            [
             0.3333333333333333,
             "#9c179e"
            ],
            [
             0.4444444444444444,
             "#bd3786"
            ],
            [
             0.5555555555555556,
             "#d8576b"
            ],
            [
             0.6666666666666666,
             "#ed7953"
            ],
            [
             0.7777777777777778,
             "#fb9f3a"
            ],
            [
             0.8888888888888888,
             "#fdca26"
            ],
            [
             1,
             "#f0f921"
            ]
           ],
           "sequentialminus": [
            [
             0,
             "#0d0887"
            ],
            [
             0.1111111111111111,
             "#46039f"
            ],
            [
             0.2222222222222222,
             "#7201a8"
            ],
            [
             0.3333333333333333,
             "#9c179e"
            ],
            [
             0.4444444444444444,
             "#bd3786"
            ],
            [
             0.5555555555555556,
             "#d8576b"
            ],
            [
             0.6666666666666666,
             "#ed7953"
            ],
            [
             0.7777777777777778,
             "#fb9f3a"
            ],
            [
             0.8888888888888888,
             "#fdca26"
            ],
            [
             1,
             "#f0f921"
            ]
           ]
          },
          "colorway": [
           "#636efa",
           "#EF553B",
           "#00cc96",
           "#ab63fa",
           "#FFA15A",
           "#19d3f3",
           "#FF6692",
           "#B6E880",
           "#FF97FF",
           "#FECB52"
          ],
          "font": {
           "color": "#2a3f5f"
          },
          "geo": {
           "bgcolor": "white",
           "lakecolor": "white",
           "landcolor": "#E5ECF6",
           "showlakes": true,
           "showland": true,
           "subunitcolor": "white"
          },
          "hoverlabel": {
           "align": "left"
          },
          "hovermode": "closest",
          "mapbox": {
           "style": "light"
          },
          "paper_bgcolor": "white",
          "plot_bgcolor": "#E5ECF6",
          "polar": {
           "angularaxis": {
            "gridcolor": "white",
            "linecolor": "white",
            "ticks": ""
           },
           "bgcolor": "#E5ECF6",
           "radialaxis": {
            "gridcolor": "white",
            "linecolor": "white",
            "ticks": ""
           }
          },
          "scene": {
           "xaxis": {
            "backgroundcolor": "#E5ECF6",
            "gridcolor": "white",
            "gridwidth": 2,
            "linecolor": "white",
            "showbackground": true,
            "ticks": "",
            "zerolinecolor": "white"
           },
           "yaxis": {
            "backgroundcolor": "#E5ECF6",
            "gridcolor": "white",
            "gridwidth": 2,
            "linecolor": "white",
            "showbackground": true,
            "ticks": "",
            "zerolinecolor": "white"
           },
           "zaxis": {
            "backgroundcolor": "#E5ECF6",
            "gridcolor": "white",
            "gridwidth": 2,
            "linecolor": "white",
            "showbackground": true,
            "ticks": "",
            "zerolinecolor": "white"
           }
          },
          "shapedefaults": {
           "line": {
            "color": "#2a3f5f"
           }
          },
          "ternary": {
           "aaxis": {
            "gridcolor": "white",
            "linecolor": "white",
            "ticks": ""
           },
           "baxis": {
            "gridcolor": "white",
            "linecolor": "white",
            "ticks": ""
           },
           "bgcolor": "#E5ECF6",
           "caxis": {
            "gridcolor": "white",
            "linecolor": "white",
            "ticks": ""
           }
          },
          "title": {
           "x": 0.05
          },
          "xaxis": {
           "automargin": true,
           "gridcolor": "white",
           "linecolor": "white",
           "ticks": "",
           "title": {
            "standoff": 15
           },
           "zerolinecolor": "white",
           "zerolinewidth": 2
          },
          "yaxis": {
           "automargin": true,
           "gridcolor": "white",
           "linecolor": "white",
           "ticks": "",
           "title": {
            "standoff": 15
           },
           "zerolinecolor": "white",
           "zerolinewidth": 2
          }
         }
        },
        "width": 500
       }
      }
     },
     "metadata": {},
     "output_type": "display_data"
    }
   ],
   "source": [
    "\"\"\"VARIACION EN PENETRACION E INGRESOS POR TECNOLOGIA \"\"\"\n",
    "ancho = 500\n",
    "alto = 130\n",
    "fig = crear_tabla(df=df_pies_tabla, width=ancho, height=alto)\n",
    "\n",
    "config = {'displayModeBar': False}\n",
    "fig.show(config=config)"
   ]
  },
  {
   "cell_type": "markdown",
   "metadata": {},
   "source": [
    "### **Conclusiones y Recomendaciones:**\n",
    "- La variación de los ingresos en dolares en el mercado tecnológico Argentino, merece el estudio en dos vertientes:\n",
    "    - Situación inflación/devaluación Local\n",
    "    - Estudio real de la evolución de los costos de masificar las tecnologías (esto es a nivel internacional)\n",
    "- De las tecnologías estudiadas el internet es por lejos la de mayor crecimiento, y la telefonía fija está condenada a desaparecer o disminuirse a niveles despreciables, en comparación con lo que fue en el pasado.\n",
    "- El `internet` está siendo usado para `hablar` y para `ver televisión` y los `teléfonos` están siendo utilizados para `consumir internet`.\n",
    "- La opción de la empresa de apostar por el internet, según estos datos parece la correcta, y sólo debería considerar, si acompañar o no, con la telefonía móvil. \n",
    "\n"
   ]
  }
 ],
 "metadata": {
  "kernelspec": {
   "display_name": "labs_2",
   "language": "python",
   "name": "python3"
  },
  "language_info": {
   "codemirror_mode": {
    "name": "ipython",
    "version": 3
   },
   "file_extension": ".py",
   "mimetype": "text/x-python",
   "name": "python",
   "nbconvert_exporter": "python",
   "pygments_lexer": "ipython3",
   "version": "3.10.11"
  }
 },
 "nbformat": 4,
 "nbformat_minor": 2
}
