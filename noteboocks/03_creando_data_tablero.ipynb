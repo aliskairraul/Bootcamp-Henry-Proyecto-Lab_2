{
 "cells": [
  {
   "cell_type": "markdown",
   "metadata": {},
   "source": [
    "# **Objetivo del Cuaderno Jupyter**\n",
    "- Preparar los Datos para el Tablero de la Visualización. `Parece contradictorio` que después de Normalizar se está volviendo a juntar Información de varias Tablas a una... Recordar que Normalizar es para mantener una estructura solida, no redundante y Coherente de Guardar la información en la Empresa.  Acá lo que busco es crear Resumenes (que aunque van a tener muchísimas columnas, van a llevar pocas filas), y el objetivo es que cuando el Usuario interactué con la visualización esta le brinde una respuesta RAPIDA, ya que sólo buscará datos, no tendrá que calcularlos (en la mayoría de los casos)."
   ]
  },
  {
   "cell_type": "markdown",
   "metadata": {},
   "source": [
    "Importando Librerias"
   ]
  },
  {
   "cell_type": "code",
   "execution_count": 1,
   "metadata": {},
   "outputs": [],
   "source": [
    "import polars as pl"
   ]
  },
  {
   "cell_type": "markdown",
   "metadata": {},
   "source": [
    "Cargando la Data"
   ]
  },
  {
   "cell_type": "code",
   "execution_count": 2,
   "metadata": {},
   "outputs": [],
   "source": [
    "accesos_tecnologias = pl.read_parquet('tablas/accesos_x_tecnologia.parquet')\n",
    "\n",
    "internet_provincia = pl.read_parquet('tablas/internet_provincia.parquet')\n",
    "\n",
    "velocidad_sin_rangos = pl.read_parquet('tablas/velocidad_sin_rangos.parquet')\n",
    "\n",
    "provincias = pl.read_parquet('tablas/provincias.parquet')\n"
   ]
  },
  {
   "cell_type": "markdown",
   "metadata": {},
   "source": [
    "***\n",
    "# **Preparando la Data**"
   ]
  },
  {
   "cell_type": "markdown",
   "metadata": {},
   "source": [
    "Creo Columna `Periodo` en las tablas `velocidad_sin_rangos`, `internet_provincia` y `accesos_tecnologias`"
   ]
  },
  {
   "cell_type": "code",
   "execution_count": 3,
   "metadata": {},
   "outputs": [],
   "source": [
    "''' Creando la Columnas en Blanco'''\n",
    "velocidad_sin_rangos = velocidad_sin_rangos.with_columns(pl.lit(\"\").alias('Periodo'))\n",
    "\n",
    "internet_provincia = internet_provincia.with_columns(pl.lit(\"\").alias('Periodo'))\n",
    "\n",
    "accesos_tecnologias = accesos_tecnologias.with_columns(pl.lit(\"\").alias('Periodo'))\n",
    "\n",
    "\n",
    "\n",
    "''' \n",
    "TRABAJANDO EN LA TABLA velocidad_sin_rango\n",
    "Columna 0 --> anio\n",
    "Columna 1 --> Trimestre\n",
    "Columna 5 --> Periodo\n",
    "'''\n",
    "periodos = ['Ene - Mar ', 'Abr - Jun ', 'Jul - Sep ', 'Oct - Dic ']\n",
    "for i in range(velocidad_sin_rangos.shape[0]):\n",
    "    anio = str(velocidad_sin_rangos[i,0])\n",
    "    trimestre = velocidad_sin_rangos[i,1]\n",
    "    periodo = periodos[trimestre - 1] + anio\n",
    "    velocidad_sin_rangos[i,5] = periodo\n",
    "\n",
    "\n",
    "''' \n",
    "TRABAJANDO EN LA TABLA internet_provincia\n",
    "Columna 1 --> anio\n",
    "Columna 2 --> Trimestre\n",
    "Columna 9 --> Periodo\n",
    "'''\n",
    "for i in range(internet_provincia.shape[0]):\n",
    "    anio = str(internet_provincia[i,1])\n",
    "    trimestre = internet_provincia[i,2]\n",
    "    periodo = periodos[trimestre - 1] + anio\n",
    "    internet_provincia[i,9] = periodo\n",
    "\n",
    "\n",
    "\n",
    "''' \n",
    "TRABAJANDO EN LA TABLA accesos_tecnologias\n",
    "Columna 0 --> anio\n",
    "Columna 1 --> Trimestre\n",
    "Columna 10 --> Periodo\n",
    "'''\n",
    "for i in range(accesos_tecnologias.shape[0]):\n",
    "    anio = str(accesos_tecnologias[i,0])\n",
    "    trimestre = accesos_tecnologias[i,1]\n",
    "    periodo = periodos[trimestre - 1] + anio\n",
    "    accesos_tecnologias[i,10] = periodo\n"
   ]
  },
  {
   "cell_type": "code",
   "execution_count": 4,
   "metadata": {},
   "outputs": [
    {
     "data": {
      "text/html": [
       "<div><style>\n",
       ".dataframe > thead > tr,\n",
       ".dataframe > tbody > tr {\n",
       "  text-align: right;\n",
       "  white-space: pre-wrap;\n",
       "}\n",
       "</style>\n",
       "<small>shape: (1, 6)</small><table border=\"1\" class=\"dataframe\"><thead><tr><th>anio</th><th>trimestre</th><th>velocidad_mbps</th><th>accesos</th><th>id_provincia</th><th>Periodo</th></tr><tr><td>i64</td><td>i64</td><td>f64</td><td>i64</td><td>i64</td><td>str</td></tr></thead><tbody><tr><td>2017</td><td>4</td><td>150.0</td><td>4367</td><td>90</td><td>&quot;Oct - Dic 2017&quot;</td></tr></tbody></table></div>"
      ],
      "text/plain": [
       "shape: (1, 6)\n",
       "┌──────┬───────────┬────────────────┬─────────┬──────────────┬────────────────┐\n",
       "│ anio ┆ trimestre ┆ velocidad_mbps ┆ accesos ┆ id_provincia ┆ Periodo        │\n",
       "│ ---  ┆ ---       ┆ ---            ┆ ---     ┆ ---          ┆ ---            │\n",
       "│ i64  ┆ i64       ┆ f64            ┆ i64     ┆ i64          ┆ str            │\n",
       "╞══════╪═══════════╪════════════════╪═════════╪══════════════╪════════════════╡\n",
       "│ 2017 ┆ 4         ┆ 150.0          ┆ 4367    ┆ 90           ┆ Oct - Dic 2017 │\n",
       "└──────┴───────────┴────────────────┴─────────┴──────────────┴────────────────┘"
      ]
     },
     "execution_count": 4,
     "metadata": {},
     "output_type": "execute_result"
    }
   ],
   "source": [
    "velocidad_sin_rangos.head(1)"
   ]
  },
  {
   "cell_type": "code",
   "execution_count": 5,
   "metadata": {},
   "outputs": [
    {
     "data": {
      "text/html": [
       "<div><style>\n",
       ".dataframe > thead > tr,\n",
       ".dataframe > tbody > tr {\n",
       "  text-align: right;\n",
       "  white-space: pre-wrap;\n",
       "}\n",
       "</style>\n",
       "<small>shape: (1, 10)</small><table border=\"1\" class=\"dataframe\"><thead><tr><th>id</th><th>anio</th><th>trimestre</th><th>id_provincia</th><th>mbps_media_bajada</th><th>accesos_100_hog</th><th>accesos_100_hab</th><th>accesos_banda_ancha</th><th>accesos_dial_up</th><th>Periodo</th></tr><tr><td>i64</td><td>i64</td><td>i64</td><td>i64</td><td>f64</td><td>f64</td><td>f64</td><td>i64</td><td>i64</td><td>str</td></tr></thead><tbody><tr><td>202401006</td><td>2024</td><td>1</td><td>6</td><td>159.13</td><td>81.1</td><td>27.8</td><td>5038657</td><td>5900</td><td>&quot;Ene - Mar 2024&quot;</td></tr></tbody></table></div>"
      ],
      "text/plain": [
       "shape: (1, 10)\n",
       "┌───────────┬──────┬───────────┬────────────┬───┬────────────┬────────────┬────────────┬───────────┐\n",
       "│ id        ┆ anio ┆ trimestre ┆ id_provinc ┆ … ┆ accesos_10 ┆ accesos_ba ┆ accesos_di ┆ Periodo   │\n",
       "│ ---       ┆ ---  ┆ ---       ┆ ia         ┆   ┆ 0_hab      ┆ nda_ancha  ┆ al_up      ┆ ---       │\n",
       "│ i64       ┆ i64  ┆ i64       ┆ ---        ┆   ┆ ---        ┆ ---        ┆ ---        ┆ str       │\n",
       "│           ┆      ┆           ┆ i64        ┆   ┆ f64        ┆ i64        ┆ i64        ┆           │\n",
       "╞═══════════╪══════╪═══════════╪════════════╪═══╪════════════╪════════════╪════════════╪═══════════╡\n",
       "│ 202401006 ┆ 2024 ┆ 1         ┆ 6          ┆ … ┆ 27.8       ┆ 5038657    ┆ 5900       ┆ Ene - Mar │\n",
       "│           ┆      ┆           ┆            ┆   ┆            ┆            ┆            ┆ 2024      │\n",
       "└───────────┴──────┴───────────┴────────────┴───┴────────────┴────────────┴────────────┴───────────┘"
      ]
     },
     "execution_count": 5,
     "metadata": {},
     "output_type": "execute_result"
    }
   ],
   "source": [
    "internet_provincia.head(1)"
   ]
  },
  {
   "cell_type": "code",
   "execution_count": 6,
   "metadata": {},
   "outputs": [
    {
     "data": {
      "text/html": [
       "<div><style>\n",
       ".dataframe > thead > tr,\n",
       ".dataframe > tbody > tr {\n",
       "  text-align: right;\n",
       "  white-space: pre-wrap;\n",
       "}\n",
       "</style>\n",
       "<small>shape: (1, 11)</small><table border=\"1\" class=\"dataframe\"><thead><tr><th>anio</th><th>trimestre</th><th>adsl</th><th>cablemoden</th><th>fibra</th><th>wireless</th><th>otros</th><th>total</th><th>id_provincia</th><th>id</th><th>Periodo</th></tr><tr><td>i64</td><td>i64</td><td>i64</td><td>i64</td><td>i64</td><td>i64</td><td>i64</td><td>i64</td><td>i64</td><td>i64</td><td>str</td></tr></thead><tbody><tr><td>2024</td><td>1</td><td>203297</td><td>2790663</td><td>1799013</td><td>150290</td><td>101294</td><td>5044557</td><td>6</td><td>202401006</td><td>&quot;Ene - Mar 2024&quot;</td></tr></tbody></table></div>"
      ],
      "text/plain": [
       "shape: (1, 11)\n",
       "┌──────┬───────────┬────────┬────────────┬───┬─────────┬──────────────┬───────────┬────────────────┐\n",
       "│ anio ┆ trimestre ┆ adsl   ┆ cablemoden ┆ … ┆ total   ┆ id_provincia ┆ id        ┆ Periodo        │\n",
       "│ ---  ┆ ---       ┆ ---    ┆ ---        ┆   ┆ ---     ┆ ---          ┆ ---       ┆ ---            │\n",
       "│ i64  ┆ i64       ┆ i64    ┆ i64        ┆   ┆ i64     ┆ i64          ┆ i64       ┆ str            │\n",
       "╞══════╪═══════════╪════════╪════════════╪═══╪═════════╪══════════════╪═══════════╪════════════════╡\n",
       "│ 2024 ┆ 1         ┆ 203297 ┆ 2790663    ┆ … ┆ 5044557 ┆ 6            ┆ 202401006 ┆ Ene - Mar 2024 │\n",
       "└──────┴───────────┴────────┴────────────┴───┴─────────┴──────────────┴───────────┴────────────────┘"
      ]
     },
     "execution_count": 6,
     "metadata": {},
     "output_type": "execute_result"
    }
   ],
   "source": [
    "accesos_tecnologias.head(1)"
   ]
  },
  {
   "cell_type": "markdown",
   "metadata": {},
   "source": [
    "Creo los Rangos de velocidad con que voy a trabajar y llevo la informació de `velocidad_sin_rangos` a un formato mas Horizontal, para poder hacer Join con las otras tablas.  La data nueva quedará en un dataframe que se llamará `rangos_dashboard`"
   ]
  },
  {
   "cell_type": "code",
   "execution_count": 7,
   "metadata": {},
   "outputs": [
    {
     "data": {
      "text/html": [
       "<div><style>\n",
       ".dataframe > thead > tr,\n",
       ".dataframe > tbody > tr {\n",
       "  text-align: right;\n",
       "  white-space: pre-wrap;\n",
       "}\n",
       "</style>\n",
       "<small>shape: (1, 6)</small><table border=\"1\" class=\"dataframe\"><thead><tr><th>Periodo</th><th>id_provincia</th><th>Hasta 10 Mbps</th><th>10.01 - 30 Mbps</th><th>30.01 - 100 Mbps</th><th>Mayor a 100 Mbps</th></tr><tr><td>str</td><td>i64</td><td>i64</td><td>i64</td><td>i64</td><td>i64</td></tr></thead><tbody><tr><td>&quot;Abr - Jun 2020&quot;</td><td>2</td><td>261635</td><td>160024</td><td>876096</td><td>59379</td></tr></tbody></table></div>"
      ],
      "text/plain": [
       "shape: (1, 6)\n",
       "┌────────────────┬──────────────┬───────────────┬────────────┬──────────────────┬──────────────────┐\n",
       "│ Periodo        ┆ id_provincia ┆ Hasta 10 Mbps ┆ 10.01 - 30 ┆ 30.01 - 100 Mbps ┆ Mayor a 100 Mbps │\n",
       "│ ---            ┆ ---          ┆ ---           ┆ Mbps       ┆ ---              ┆ ---              │\n",
       "│ str            ┆ i64          ┆ i64           ┆ ---        ┆ i64              ┆ i64              │\n",
       "│                ┆              ┆               ┆ i64        ┆                  ┆                  │\n",
       "╞════════════════╪══════════════╪═══════════════╪════════════╪══════════════════╪══════════════════╡\n",
       "│ Abr - Jun 2020 ┆ 2            ┆ 261635        ┆ 160024     ┆ 876096           ┆ 59379            │\n",
       "└────────────────┴──────────────┴───────────────┴────────────┴──────────────────┴──────────────────┘"
      ]
     },
     "execution_count": 7,
     "metadata": {},
     "output_type": "execute_result"
    }
   ],
   "source": [
    "periodos = velocidad_sin_rangos['Periodo'].unique().to_list()\n",
    "provincias_list = velocidad_sin_rangos['id_provincia'].unique().to_list()\n",
    "velocidades = [(0,10),(10.01,30),(30.01,100),(100.01,1000000000)]\n",
    "rangos = ['Hasta 10 Mbps', '10.01 - 30 Mbps', '30.01 - 100 Mbps', 'Mayor a 100 Mbps']\n",
    "\n",
    "data = []\n",
    "for periodo in periodos:\n",
    "    mask = velocidad_sin_rangos['Periodo'] == periodo\n",
    "    df_periodo = velocidad_sin_rangos.filter(mask)\n",
    "    for provincia in provincias_list:\n",
    "        row = {}\n",
    "        row['Periodo'] = periodo\n",
    "        row['id_provincia'] = provincia\n",
    "        mask = df_periodo['id_provincia'] == provincia\n",
    "        df_provincia = df_periodo.filter(mask)\n",
    "        for i in range(4):\n",
    "            mask = df_provincia['velocidad_mbps'].is_between(velocidades[i][0], velocidades[i][1])\n",
    "            row[rangos[i]] = df_provincia.filter(mask)['accesos'].sum()\n",
    "        data.append(row)\n",
    "\n",
    "rangos_dashboard = pl.DataFrame(data)\n",
    "rangos_dashboard.head(1)"
   ]
  },
  {
   "cell_type": "markdown",
   "metadata": {},
   "source": [
    "`velocidad_sin_rangos` y por ende rangos_dashboard solo tienen data a partir del periodo 4 del año 2017.  Esta data fue sacada de la Hoja `velocidad_sin_Rangos` del archivo `Internet.xlsx`.  Voy a sacar unas copias de `internet_provincia` y `accesos_tecnologias` y a las copias las dejaré con los mismos Periodos de `rangos_dashboard` para luego juntar TODO lo necesario en una sola Tabla"
   ]
  },
  {
   "cell_type": "code",
   "execution_count": 8,
   "metadata": {},
   "outputs": [],
   "source": [
    "''' Hago las copias aprovechando de eliminar los datos con años menores a 2017'''\n",
    "mask = accesos_tecnologias['anio'] < 2017\n",
    "tecnologias_dashboard = accesos_tecnologias.filter(~mask)\n",
    "\n",
    "mask = internet_provincia['anio'] < 2017\n",
    "penetracion_dashboard = internet_provincia.filter(~mask)\n",
    "\n",
    "''' Elimino lo 3 primeros trimestres del año 2017'''\n",
    "mask = (tecnologias_dashboard['anio'] == 2017) & (tecnologias_dashboard['trimestre'].is_in([1,2,3]))\n",
    "tecnologias_dashboard = tecnologias_dashboard.filter(~mask)\n",
    "\n",
    "mask = (penetracion_dashboard['anio'] == 2017) & (penetracion_dashboard['trimestre'].is_in([1,2,3]))\n",
    "penetracion_dashboard = penetracion_dashboard.filter(~mask)"
   ]
  },
  {
   "cell_type": "code",
   "execution_count": 9,
   "metadata": {},
   "outputs": [
    {
     "name": "stdout",
     "output_type": "stream",
     "text": [
      "624\n"
     ]
    },
    {
     "data": {
      "text/html": [
       "<div><style>\n",
       ".dataframe > thead > tr,\n",
       ".dataframe > tbody > tr {\n",
       "  text-align: right;\n",
       "  white-space: pre-wrap;\n",
       "}\n",
       "</style>\n",
       "<small>shape: (1, 8)</small><table border=\"1\" class=\"dataframe\"><thead><tr><th>id</th><th>Año</th><th>Trimestre</th><th>id_provincia</th><th>MBPS Media Bajada</th><th>Accesos 100 Hog</th><th>Accesos 100 Hab</th><th>Periodo</th></tr><tr><td>i64</td><td>i64</td><td>i64</td><td>i64</td><td>f64</td><td>f64</td><td>f64</td><td>str</td></tr></thead><tbody><tr><td>202401006</td><td>2024</td><td>1</td><td>6</td><td>159.13</td><td>81.1</td><td>27.8</td><td>&quot;Ene - Mar 2024&quot;</td></tr></tbody></table></div>"
      ],
      "text/plain": [
       "shape: (1, 8)\n",
       "┌───────────┬──────┬───────────┬──────────────┬──────────────┬─────────┬─────────────┬─────────────┐\n",
       "│ id        ┆ Año  ┆ Trimestre ┆ id_provincia ┆ MBPS Media   ┆ Accesos ┆ Accesos 100 ┆ Periodo     │\n",
       "│ ---       ┆ ---  ┆ ---       ┆ ---          ┆ Bajada       ┆ 100 Hog ┆ Hab         ┆ ---         │\n",
       "│ i64       ┆ i64  ┆ i64       ┆ i64          ┆ ---          ┆ ---     ┆ ---         ┆ str         │\n",
       "│           ┆      ┆           ┆              ┆ f64          ┆ f64     ┆ f64         ┆             │\n",
       "╞═══════════╪══════╪═══════════╪══════════════╪══════════════╪═════════╪═════════════╪═════════════╡\n",
       "│ 202401006 ┆ 2024 ┆ 1         ┆ 6            ┆ 159.13       ┆ 81.1    ┆ 27.8        ┆ Ene - Mar   │\n",
       "│           ┆      ┆           ┆              ┆              ┆         ┆             ┆ 2024        │\n",
       "└───────────┴──────┴───────────┴──────────────┴──────────────┴─────────┴─────────────┴─────────────┘"
      ]
     },
     "execution_count": 9,
     "metadata": {},
     "output_type": "execute_result"
    }
   ],
   "source": [
    "columns = ['id','Año', 'Trimestre', 'id_provincia', 'MBPS Media Bajada', 'Accesos 100 Hog', 'Accesos 100 Hab', 'Periodo']\n",
    "penetracion_dashboard = penetracion_dashboard.drop(['accesos_banda_ancha', 'accesos_dial_up'])\n",
    "penetracion_dashboard.columns = columns\n",
    "print(penetracion_dashboard.shape[0])\n",
    "penetracion_dashboard.head(1)"
   ]
  },
  {
   "cell_type": "code",
   "execution_count": 10,
   "metadata": {},
   "outputs": [
    {
     "name": "stdout",
     "output_type": "stream",
     "text": [
      "624\n"
     ]
    },
    {
     "data": {
      "text/html": [
       "<div><style>\n",
       ".dataframe > thead > tr,\n",
       ".dataframe > tbody > tr {\n",
       "  text-align: right;\n",
       "  white-space: pre-wrap;\n",
       "}\n",
       "</style>\n",
       "<small>shape: (1, 8)</small><table border=\"1\" class=\"dataframe\"><thead><tr><th>ADSL</th><th>CABLEMODEM</th><th>FIBRA</th><th>WIRELESS</th><th>Otras Tecnologias</th><th>Total Accesos</th><th>id_provincia</th><th>Periodo</th></tr><tr><td>i64</td><td>i64</td><td>i64</td><td>i64</td><td>i64</td><td>i64</td><td>i64</td><td>str</td></tr></thead><tbody><tr><td>203297</td><td>2790663</td><td>1799013</td><td>150290</td><td>101294</td><td>5044557</td><td>6</td><td>&quot;Ene - Mar 2024&quot;</td></tr></tbody></table></div>"
      ],
      "text/plain": [
       "shape: (1, 8)\n",
       "┌────────┬────────────┬─────────┬──────────┬─────────────┬─────────┬──────────────┬───────────┐\n",
       "│ ADSL   ┆ CABLEMODEM ┆ FIBRA   ┆ WIRELESS ┆ Otras       ┆ Total   ┆ id_provincia ┆ Periodo   │\n",
       "│ ---    ┆ ---        ┆ ---     ┆ ---      ┆ Tecnologias ┆ Accesos ┆ ---          ┆ ---       │\n",
       "│ i64    ┆ i64        ┆ i64     ┆ i64      ┆ ---         ┆ ---     ┆ i64          ┆ str       │\n",
       "│        ┆            ┆         ┆          ┆ i64         ┆ i64     ┆              ┆           │\n",
       "╞════════╪════════════╪═════════╪══════════╪═════════════╪═════════╪══════════════╪═══════════╡\n",
       "│ 203297 ┆ 2790663    ┆ 1799013 ┆ 150290   ┆ 101294      ┆ 5044557 ┆ 6            ┆ Ene - Mar │\n",
       "│        ┆            ┆         ┆          ┆             ┆         ┆              ┆ 2024      │\n",
       "└────────┴────────────┴─────────┴──────────┴─────────────┴─────────┴──────────────┴───────────┘"
      ]
     },
     "execution_count": 10,
     "metadata": {},
     "output_type": "execute_result"
    }
   ],
   "source": [
    "columns = ['ADSL', 'CABLEMODEM', 'FIBRA', 'WIRELESS', 'Otras Tecnologias', 'Total Accesos', 'id_provincia', 'Periodo' ]\n",
    "tecnologias_dashboard = tecnologias_dashboard.drop(['anio', 'trimestre', 'id'])\n",
    "tecnologias_dashboard.columns = columns\n",
    "print(tecnologias_dashboard.shape[0])\n",
    "tecnologias_dashboard.head(1)"
   ]
  },
  {
   "cell_type": "code",
   "execution_count": 11,
   "metadata": {},
   "outputs": [
    {
     "name": "stdout",
     "output_type": "stream",
     "text": [
      "624\n"
     ]
    },
    {
     "data": {
      "text/html": [
       "<div><style>\n",
       ".dataframe > thead > tr,\n",
       ".dataframe > tbody > tr {\n",
       "  text-align: right;\n",
       "  white-space: pre-wrap;\n",
       "}\n",
       "</style>\n",
       "<small>shape: (1, 6)</small><table border=\"1\" class=\"dataframe\"><thead><tr><th>Periodo</th><th>id_provincia</th><th>Hasta 10 Mbps</th><th>10.01 - 30 Mbps</th><th>30.01 - 100 Mbps</th><th>Mayor a 100 Mbps</th></tr><tr><td>str</td><td>i64</td><td>i64</td><td>i64</td><td>i64</td><td>i64</td></tr></thead><tbody><tr><td>&quot;Abr - Jun 2020&quot;</td><td>2</td><td>261635</td><td>160024</td><td>876096</td><td>59379</td></tr></tbody></table></div>"
      ],
      "text/plain": [
       "shape: (1, 6)\n",
       "┌────────────────┬──────────────┬───────────────┬────────────┬──────────────────┬──────────────────┐\n",
       "│ Periodo        ┆ id_provincia ┆ Hasta 10 Mbps ┆ 10.01 - 30 ┆ 30.01 - 100 Mbps ┆ Mayor a 100 Mbps │\n",
       "│ ---            ┆ ---          ┆ ---           ┆ Mbps       ┆ ---              ┆ ---              │\n",
       "│ str            ┆ i64          ┆ i64           ┆ ---        ┆ i64              ┆ i64              │\n",
       "│                ┆              ┆               ┆ i64        ┆                  ┆                  │\n",
       "╞════════════════╪══════════════╪═══════════════╪════════════╪══════════════════╪══════════════════╡\n",
       "│ Abr - Jun 2020 ┆ 2            ┆ 261635        ┆ 160024     ┆ 876096           ┆ 59379            │\n",
       "└────────────────┴──────────────┴───────────────┴────────────┴──────────────────┴──────────────────┘"
      ]
     },
     "execution_count": 11,
     "metadata": {},
     "output_type": "execute_result"
    }
   ],
   "source": [
    "print(rangos_dashboard.shape[0])\n",
    "rangos_dashboard.head(1)"
   ]
  },
  {
   "cell_type": "markdown",
   "metadata": {},
   "source": [
    "Ya podemos hacer el `Join` entre estas 3 tablas, por las columnas `Perido` y `id_provincia` en simultáneo"
   ]
  },
  {
   "cell_type": "code",
   "execution_count": 12,
   "metadata": {},
   "outputs": [
    {
     "name": "stdout",
     "output_type": "stream",
     "text": [
      "624\n"
     ]
    },
    {
     "data": {
      "text/html": [
       "<div><style>\n",
       ".dataframe > thead > tr,\n",
       ".dataframe > tbody > tr {\n",
       "  text-align: right;\n",
       "  white-space: pre-wrap;\n",
       "}\n",
       "</style>\n",
       "<small>shape: (5, 18)</small><table border=\"1\" class=\"dataframe\"><thead><tr><th>Periodo</th><th>id_provincia</th><th>Hasta 10 Mbps</th><th>10.01 - 30 Mbps</th><th>30.01 - 100 Mbps</th><th>Mayor a 100 Mbps</th><th>ADSL</th><th>CABLEMODEM</th><th>FIBRA</th><th>WIRELESS</th><th>Otras Tecnologias</th><th>Total Accesos</th><th>id</th><th>Año</th><th>Trimestre</th><th>MBPS Media Bajada</th><th>Accesos 100 Hog</th><th>Accesos 100 Hab</th></tr><tr><td>str</td><td>i64</td><td>i64</td><td>i64</td><td>i64</td><td>i64</td><td>i64</td><td>i64</td><td>i64</td><td>i64</td><td>i64</td><td>i64</td><td>i64</td><td>i64</td><td>i64</td><td>f64</td><td>f64</td><td>f64</td></tr></thead><tbody><tr><td>&quot;Oct - Dic 2017&quot;</td><td>2</td><td>832783</td><td>637832</td><td>111024</td><td>2599</td><td>571363</td><td>961688</td><td>36277</td><td>3119</td><td>9877</td><td>1582324</td><td>201704002</td><td>2017</td><td>4</td><td>15.202219</td><td>122.897424</td><td>51.616721</td></tr><tr><td>&quot;Oct - Dic 2017&quot;</td><td>6</td><td>1874750</td><td>1049432</td><td>149746</td><td>222</td><td>1241172</td><td>1718013</td><td>131181</td><td>60082</td><td>31448</td><td>3181896</td><td>201704006</td><td>2017</td><td>4</td><td>12.972083</td><td>57.609615</td><td>18.614649</td></tr><tr><td>&quot;Oct - Dic 2017&quot;</td><td>10</td><td>24435</td><td>2970</td><td>0</td><td>2</td><td>27083</td><td>263</td><td>11</td><td>1</td><td>2200</td><td>29558</td><td>201704010</td><td>2017</td><td>4</td><td>7.784154</td><td>28.62095</td><td>7.2806</td></tr><tr><td>&quot;Oct - Dic 2017&quot;</td><td>14</td><td>409431</td><td>258647</td><td>21765</td><td>2339</td><td>349710</td><td>324709</td><td>12778</td><td>12043</td><td>10739</td><td>709979</td><td>201704014</td><td>2017</td><td>4</td><td>11.636585</td><td>63.332626</td><td>19.390858</td></tr><tr><td>&quot;Oct - Dic 2017&quot;</td><td>18</td><td>69997</td><td>21113</td><td>2649</td><td>12</td><td>56786</td><td>34722</td><td>894</td><td>1334</td><td>35</td><td>93771</td><td>201704018</td><td>2017</td><td>4</td><td>10.3844</td><td>32.515118</td><td>8.562264</td></tr></tbody></table></div>"
      ],
      "text/plain": [
       "shape: (5, 18)\n",
       "┌───────────┬───────────┬───────────┬───────────┬───┬───────────┬───────────┬───────────┬──────────┐\n",
       "│ Periodo   ┆ id_provin ┆ Hasta 10  ┆ 10.01 -   ┆ … ┆ Trimestre ┆ MBPS      ┆ Accesos   ┆ Accesos  │\n",
       "│ ---       ┆ cia       ┆ Mbps      ┆ 30 Mbps   ┆   ┆ ---       ┆ Media     ┆ 100 Hog   ┆ 100 Hab  │\n",
       "│ str       ┆ ---       ┆ ---       ┆ ---       ┆   ┆ i64       ┆ Bajada    ┆ ---       ┆ ---      │\n",
       "│           ┆ i64       ┆ i64       ┆ i64       ┆   ┆           ┆ ---       ┆ f64       ┆ f64      │\n",
       "│           ┆           ┆           ┆           ┆   ┆           ┆ f64       ┆           ┆          │\n",
       "╞═══════════╪═══════════╪═══════════╪═══════════╪═══╪═══════════╪═══════════╪═══════════╪══════════╡\n",
       "│ Oct - Dic ┆ 2         ┆ 832783    ┆ 637832    ┆ … ┆ 4         ┆ 15.202219 ┆ 122.89742 ┆ 51.61672 │\n",
       "│ 2017      ┆           ┆           ┆           ┆   ┆           ┆           ┆ 4         ┆ 1        │\n",
       "│ Oct - Dic ┆ 6         ┆ 1874750   ┆ 1049432   ┆ … ┆ 4         ┆ 12.972083 ┆ 57.609615 ┆ 18.61464 │\n",
       "│ 2017      ┆           ┆           ┆           ┆   ┆           ┆           ┆           ┆ 9        │\n",
       "│ Oct - Dic ┆ 10        ┆ 24435     ┆ 2970      ┆ … ┆ 4         ┆ 7.784154  ┆ 28.62095  ┆ 7.2806   │\n",
       "│ 2017      ┆           ┆           ┆           ┆   ┆           ┆           ┆           ┆          │\n",
       "│ Oct - Dic ┆ 14        ┆ 409431    ┆ 258647    ┆ … ┆ 4         ┆ 11.636585 ┆ 63.332626 ┆ 19.39085 │\n",
       "│ 2017      ┆           ┆           ┆           ┆   ┆           ┆           ┆           ┆ 8        │\n",
       "│ Oct - Dic ┆ 18        ┆ 69997     ┆ 21113     ┆ … ┆ 4         ┆ 10.3844   ┆ 32.515118 ┆ 8.562264 │\n",
       "│ 2017      ┆           ┆           ┆           ┆   ┆           ┆           ┆           ┆          │\n",
       "└───────────┴───────────┴───────────┴───────────┴───┴───────────┴───────────┴───────────┴──────────┘"
      ]
     },
     "execution_count": 12,
     "metadata": {},
     "output_type": "execute_result"
    }
   ],
   "source": [
    "tabla_dasboard = rangos_dashboard.join(\n",
    "    tecnologias_dashboard, on=['Periodo', 'id_provincia'], how='left', coalesce=True\n",
    ")\n",
    "\n",
    "tabla_dasboard = tabla_dasboard.join(\n",
    "    penetracion_dashboard, on=['Periodo', 'id_provincia'], how='left', coalesce=True\n",
    ")\n",
    "\n",
    "tabla_dasboard = tabla_dasboard.sort('id')\n",
    "\n",
    "print(tabla_dasboard.shape[0])\n",
    "tabla_dasboard.head()"
   ]
  },
  {
   "cell_type": "markdown",
   "metadata": {},
   "source": [
    "Ahora Insertemos el nombre de la Provincia apoyandonos en `id_provincia` "
   ]
  },
  {
   "cell_type": "code",
   "execution_count": 13,
   "metadata": {},
   "outputs": [
    {
     "name": "stdout",
     "output_type": "stream",
     "text": [
      "624\n"
     ]
    },
    {
     "data": {
      "text/html": [
       "<div><style>\n",
       ".dataframe > thead > tr,\n",
       ".dataframe > tbody > tr {\n",
       "  text-align: right;\n",
       "  white-space: pre-wrap;\n",
       "}\n",
       "</style>\n",
       "<small>shape: (1, 19)</small><table border=\"1\" class=\"dataframe\"><thead><tr><th>Periodo</th><th>id_provincia</th><th>Hasta 10 Mbps</th><th>10.01 - 30 Mbps</th><th>30.01 - 100 Mbps</th><th>Mayor a 100 Mbps</th><th>ADSL</th><th>CABLEMODEM</th><th>FIBRA</th><th>WIRELESS</th><th>Otras Tecnologias</th><th>Total Accesos</th><th>id</th><th>Año</th><th>Trimestre</th><th>MBPS Media Bajada</th><th>Accesos 100 Hog</th><th>Accesos 100 Hab</th><th>Provincia</th></tr><tr><td>str</td><td>i64</td><td>i64</td><td>i64</td><td>i64</td><td>i64</td><td>i64</td><td>i64</td><td>i64</td><td>i64</td><td>i64</td><td>i64</td><td>i64</td><td>i64</td><td>i64</td><td>f64</td><td>f64</td><td>f64</td><td>str</td></tr></thead><tbody><tr><td>&quot;Oct - Dic 2017&quot;</td><td>2</td><td>832783</td><td>637832</td><td>111024</td><td>2599</td><td>571363</td><td>961688</td><td>36277</td><td>3119</td><td>9877</td><td>1582324</td><td>201704002</td><td>2017</td><td>4</td><td>15.202219</td><td>122.897424</td><td>51.616721</td><td>&quot;Ciudad Autónoma de Buenos Aire…</td></tr></tbody></table></div>"
      ],
      "text/plain": [
       "shape: (1, 19)\n",
       "┌───────────┬───────────┬───────────┬───────────┬───┬───────────┬───────────┬───────────┬──────────┐\n",
       "│ Periodo   ┆ id_provin ┆ Hasta 10  ┆ 10.01 -   ┆ … ┆ MBPS      ┆ Accesos   ┆ Accesos   ┆ Provinci │\n",
       "│ ---       ┆ cia       ┆ Mbps      ┆ 30 Mbps   ┆   ┆ Media     ┆ 100 Hog   ┆ 100 Hab   ┆ a        │\n",
       "│ str       ┆ ---       ┆ ---       ┆ ---       ┆   ┆ Bajada    ┆ ---       ┆ ---       ┆ ---      │\n",
       "│           ┆ i64       ┆ i64       ┆ i64       ┆   ┆ ---       ┆ f64       ┆ f64       ┆ str      │\n",
       "│           ┆           ┆           ┆           ┆   ┆ f64       ┆           ┆           ┆          │\n",
       "╞═══════════╪═══════════╪═══════════╪═══════════╪═══╪═══════════╪═══════════╪═══════════╪══════════╡\n",
       "│ Oct - Dic ┆ 2         ┆ 832783    ┆ 637832    ┆ … ┆ 15.202219 ┆ 122.89742 ┆ 51.616721 ┆ Ciudad   │\n",
       "│ 2017      ┆           ┆           ┆           ┆   ┆           ┆ 4         ┆           ┆ Autónoma │\n",
       "│           ┆           ┆           ┆           ┆   ┆           ┆           ┆           ┆ de       │\n",
       "│           ┆           ┆           ┆           ┆   ┆           ┆           ┆           ┆ Buenos   │\n",
       "│           ┆           ┆           ┆           ┆   ┆           ┆           ┆           ┆ Aire…    │\n",
       "└───────────┴───────────┴───────────┴───────────┴───┴───────────┴───────────┴───────────┴──────────┘"
      ]
     },
     "execution_count": 13,
     "metadata": {},
     "output_type": "execute_result"
    }
   ],
   "source": [
    "tabla_dasboard = tabla_dasboard.join(\n",
    "    provincias['id_provincia', 'provincia'], on='id_provincia', how='left', coalesce=True\n",
    ")\n",
    "\n",
    "tabla_dasboard = tabla_dasboard.rename({'provincia': 'Provincia'})\n",
    "\n",
    "print(tabla_dasboard.shape[0])\n",
    "tabla_dasboard.head(1)"
   ]
  },
  {
   "cell_type": "markdown",
   "metadata": {},
   "source": [
    "Este paso es solo para tener como ordenar cronologicamente la información"
   ]
  },
  {
   "cell_type": "code",
   "execution_count": 14,
   "metadata": {},
   "outputs": [
    {
     "data": {
      "text/html": [
       "<div><style>\n",
       ".dataframe > thead > tr,\n",
       ".dataframe > tbody > tr {\n",
       "  text-align: right;\n",
       "  white-space: pre-wrap;\n",
       "}\n",
       "</style>\n",
       "<small>shape: (1, 21)</small><table border=\"1\" class=\"dataframe\"><thead><tr><th>Periodo</th><th>id_provincia</th><th>Hasta 10 Mbps</th><th>10.01 - 30 Mbps</th><th>30.01 - 100 Mbps</th><th>Mayor a 100 Mbps</th><th>ADSL</th><th>CABLEMODEM</th><th>FIBRA</th><th>WIRELESS</th><th>Otras Tecnologias</th><th>Total Accesos</th><th>id</th><th>Año</th><th>Trimestre</th><th>MBPS Media Bajada</th><th>Accesos 100 Hog</th><th>Accesos 100 Hab</th><th>Provincia</th><th>Orden</th><th>Periodo Tablero</th></tr><tr><td>str</td><td>i64</td><td>i64</td><td>i64</td><td>i64</td><td>i64</td><td>i64</td><td>i64</td><td>i64</td><td>i64</td><td>i64</td><td>i64</td><td>i64</td><td>i64</td><td>i64</td><td>f64</td><td>f64</td><td>f64</td><td>str</td><td>i64</td><td>str</td></tr></thead><tbody><tr><td>&quot;Oct - Dic 2017&quot;</td><td>2</td><td>832783</td><td>637832</td><td>111024</td><td>2599</td><td>571363</td><td>961688</td><td>36277</td><td>3119</td><td>9877</td><td>1582324</td><td>201704002</td><td>2017</td><td>4</td><td>15.202219</td><td>122.897424</td><td>51.616721</td><td>&quot;Ciudad Autónoma de Buenos Aire…</td><td>201704</td><td>&quot;201704 Oct - Dic 2017&quot;</td></tr></tbody></table></div>"
      ],
      "text/plain": [
       "shape: (1, 21)\n",
       "┌────────────┬────────────┬───────────┬───────────┬───┬───────────┬───────────┬────────┬───────────┐\n",
       "│ Periodo    ┆ id_provinc ┆ Hasta 10  ┆ 10.01 -   ┆ … ┆ Accesos   ┆ Provincia ┆ Orden  ┆ Periodo   │\n",
       "│ ---        ┆ ia         ┆ Mbps      ┆ 30 Mbps   ┆   ┆ 100 Hab   ┆ ---       ┆ ---    ┆ Tablero   │\n",
       "│ str        ┆ ---        ┆ ---       ┆ ---       ┆   ┆ ---       ┆ str       ┆ i64    ┆ ---       │\n",
       "│            ┆ i64        ┆ i64       ┆ i64       ┆   ┆ f64       ┆           ┆        ┆ str       │\n",
       "╞════════════╪════════════╪═══════════╪═══════════╪═══╪═══════════╪═══════════╪════════╪═══════════╡\n",
       "│ Oct - Dic  ┆ 2          ┆ 832783    ┆ 637832    ┆ … ┆ 51.616721 ┆ Ciudad    ┆ 201704 ┆ 201704    │\n",
       "│ 2017       ┆            ┆           ┆           ┆   ┆           ┆ Autónoma  ┆        ┆ Oct - Dic │\n",
       "│            ┆            ┆           ┆           ┆   ┆           ┆ de Buenos ┆        ┆ 2017      │\n",
       "│            ┆            ┆           ┆           ┆   ┆           ┆ Aire…     ┆        ┆           │\n",
       "└────────────┴────────────┴───────────┴───────────┴───┴───────────┴───────────┴────────┴───────────┘"
      ]
     },
     "execution_count": 14,
     "metadata": {},
     "output_type": "execute_result"
    }
   ],
   "source": [
    "tabla_dasboard = tabla_dasboard.with_columns(\n",
    "    (100 * pl.col('Año') + pl.col('Trimestre')).alias('Orden')\n",
    ")\n",
    "\n",
    "tabla_dasboard =tabla_dasboard.with_columns(\n",
    "    (pl.col('Orden').cast(pl.String) + ' ' + pl.col('Periodo')).alias('Periodo Tablero')\n",
    ")\n",
    "\n",
    "tabla_dasboard.head(1)"
   ]
  },
  {
   "cell_type": "markdown",
   "metadata": {},
   "source": [
    "Crearemos una celda `KPI 100 Hog` donde reflejaremos el `Objetivo` de los accesos cada 100 Hogares, por Provincia y por Trimestre"
   ]
  },
  {
   "cell_type": "code",
   "execution_count": 15,
   "metadata": {},
   "outputs": [
    {
     "name": "stdout",
     "output_type": "stream",
     "text": [
      " el Periodo --> 'Abr - Jun 2018' está en el indice 2 \n"
     ]
    },
    {
     "data": {
      "text/plain": [
       "['Oct - Dic 2017',\n",
       " 'Ene - Mar 2018',\n",
       " 'Abr - Jun 2018',\n",
       " 'Jul - Sep 2018',\n",
       " 'Oct - Dic 2018']"
      ]
     },
     "execution_count": 15,
     "metadata": {},
     "output_type": "execute_result"
    }
   ],
   "source": [
    "''' Primero debo obtener una lista de los Periodos Ordenados Cronológicamente'''\n",
    "periodos = tabla_dasboard['Periodo Tablero'].unique().to_list()\n",
    "\n",
    "periodos.sort()\n",
    "\n",
    "periodos = [item[7:] for item in periodos]\n",
    "\n",
    "# Mostrando los 5 primeros Periodos y ubicando un periodo en la lista\n",
    "print(f\" el Periodo --> 'Abr - Jun 2018' está en el indice {periodos.index('Abr - Jun 2018')} \")\n",
    "periodos[:5]"
   ]
  },
  {
   "cell_type": "code",
   "execution_count": 16,
   "metadata": {},
   "outputs": [
    {
     "data": {
      "text/html": [
       "<div><style>\n",
       ".dataframe > thead > tr,\n",
       ".dataframe > tbody > tr {\n",
       "  text-align: right;\n",
       "  white-space: pre-wrap;\n",
       "}\n",
       "</style>\n",
       "<small>shape: (1, 21)</small><table border=\"1\" class=\"dataframe\"><thead><tr><th>Periodo</th><th>id_provincia</th><th>Hasta 10 Mbps</th><th>10.01 - 30 Mbps</th><th>30.01 - 100 Mbps</th><th>Mayor a 100 Mbps</th><th>ADSL</th><th>CABLEMODEM</th><th>FIBRA</th><th>WIRELESS</th><th>Otras Tecnologias</th><th>Total Accesos</th><th>id</th><th>Año</th><th>Trimestre</th><th>MBPS Media Bajada</th><th>Accesos 100 Hog</th><th>Accesos 100 Hab</th><th>Provincia</th><th>Orden</th><th>Periodo Tablero</th></tr><tr><td>str</td><td>i64</td><td>i64</td><td>i64</td><td>i64</td><td>i64</td><td>i64</td><td>i64</td><td>i64</td><td>i64</td><td>i64</td><td>i64</td><td>i64</td><td>i64</td><td>i64</td><td>f64</td><td>f64</td><td>f64</td><td>str</td><td>i64</td><td>str</td></tr></thead><tbody><tr><td>&quot;Oct - Dic 2017&quot;</td><td>2</td><td>832783</td><td>637832</td><td>111024</td><td>2599</td><td>571363</td><td>961688</td><td>36277</td><td>3119</td><td>9877</td><td>1582324</td><td>201704002</td><td>2017</td><td>4</td><td>15.202219</td><td>122.897424</td><td>51.616721</td><td>&quot;Ciudad Autónoma de Buenos Aire…</td><td>201704</td><td>&quot;201704 Oct - Dic 2017&quot;</td></tr></tbody></table></div>"
      ],
      "text/plain": [
       "shape: (1, 21)\n",
       "┌────────────┬────────────┬───────────┬───────────┬───┬───────────┬───────────┬────────┬───────────┐\n",
       "│ Periodo    ┆ id_provinc ┆ Hasta 10  ┆ 10.01 -   ┆ … ┆ Accesos   ┆ Provincia ┆ Orden  ┆ Periodo   │\n",
       "│ ---        ┆ ia         ┆ Mbps      ┆ 30 Mbps   ┆   ┆ 100 Hab   ┆ ---       ┆ ---    ┆ Tablero   │\n",
       "│ str        ┆ ---        ┆ ---       ┆ ---       ┆   ┆ ---       ┆ str       ┆ i64    ┆ ---       │\n",
       "│            ┆ i64        ┆ i64       ┆ i64       ┆   ┆ f64       ┆           ┆        ┆ str       │\n",
       "╞════════════╪════════════╪═══════════╪═══════════╪═══╪═══════════╪═══════════╪════════╪═══════════╡\n",
       "│ Oct - Dic  ┆ 2          ┆ 832783    ┆ 637832    ┆ … ┆ 51.616721 ┆ Ciudad    ┆ 201704 ┆ 201704    │\n",
       "│ 2017       ┆            ┆           ┆           ┆   ┆           ┆ Autónoma  ┆        ┆ Oct - Dic │\n",
       "│            ┆            ┆           ┆           ┆   ┆           ┆ de Buenos ┆        ┆ 2017      │\n",
       "│            ┆            ┆           ┆           ┆   ┆           ┆ Aire…     ┆        ┆           │\n",
       "└────────────┴────────────┴───────────┴───────────┴───┴───────────┴───────────┴────────┴───────────┘"
      ]
     },
     "execution_count": 16,
     "metadata": {},
     "output_type": "execute_result"
    }
   ],
   "source": [
    "tabla_dasboard.head(1)"
   ]
  },
  {
   "cell_type": "code",
   "execution_count": 17,
   "metadata": {},
   "outputs": [
    {
     "data": {
      "text/html": [
       "<div><style>\n",
       ".dataframe > thead > tr,\n",
       ".dataframe > tbody > tr {\n",
       "  text-align: right;\n",
       "  white-space: pre-wrap;\n",
       "}\n",
       "</style>\n",
       "<small>shape: (5, 29)</small><table border=\"1\" class=\"dataframe\"><thead><tr><th>Periodo</th><th>id_provincia</th><th>Hasta 10 Mbps</th><th>10.01 - 30 Mbps</th><th>30.01 - 100 Mbps</th><th>Mayor a 100 Mbps</th><th>ADSL</th><th>CABLEMODEM</th><th>FIBRA</th><th>WIRELESS</th><th>Otras Tecnologias</th><th>Total Accesos</th><th>id</th><th>Año</th><th>Trimestre</th><th>MBPS Media Bajada</th><th>Accesos 100 Hog</th><th>Accesos 100 Hab</th><th>Provincia</th><th>Orden</th><th>Periodo Tablero</th><th>Crecimiento Trimestral Accesos 100 Hog</th><th>KPI 100 Hog</th><th>Accesos 100 Hog Anterior</th><th>Crecimiento Trimestral MBPS</th><th>KPI MBPS</th><th>MBPS Anterior</th><th>Cumplimineto KPI 100 Hog</th><th>Cumplimineto KPI MBPS</th></tr><tr><td>str</td><td>i64</td><td>i64</td><td>i64</td><td>i64</td><td>i64</td><td>i64</td><td>i64</td><td>i64</td><td>i64</td><td>i64</td><td>i64</td><td>i64</td><td>i64</td><td>i64</td><td>f64</td><td>f64</td><td>f64</td><td>str</td><td>i64</td><td>str</td><td>f64</td><td>f64</td><td>f64</td><td>f64</td><td>f64</td><td>f64</td><td>f64</td><td>f64</td></tr></thead><tbody><tr><td>&quot;Ene - Mar 2018&quot;</td><td>10</td><td>23845</td><td>3580</td><td>0</td><td>4</td><td>27300</td><td>4415</td><td>15</td><td>1</td><td>2214</td><td>33945</td><td>201801010</td><td>2018</td><td>1</td><td>8.198861</td><td>32.793616</td><td>8.342099</td><td>&quot;Catamarca&quot;</td><td>201801</td><td>&quot;201801 Ene - Mar 2018&quot;</td><td>14.58</td><td>29.193369</td><td>28.62095</td><td>5.33</td><td>8.173362</td><td>7.784154</td><td>112.33</td><td>100.31</td></tr><tr><td>&quot;Abr - Jun 2018&quot;</td><td>10</td><td>23184</td><td>4383</td><td>6</td><td>0</td><td>27444</td><td>4415</td><td>15</td><td>1</td><td>2214</td><td>34089</td><td>201802010</td><td>2018</td><td>2</td><td>7.693097</td><td>32.857501</td><td>8.358384</td><td>&quot;Catamarca&quot;</td><td>201802</td><td>&quot;201802 Abr - Jun 2018&quot;</td><td>0.19</td><td>33.449488</td><td>32.793616</td><td>-6.17</td><td>8.608804</td><td>8.198861</td><td>98.23</td><td>89.36</td></tr><tr><td>&quot;Jul - Sep 2018&quot;</td><td>10</td><td>26861</td><td>5354</td><td>7</td><td>0</td><td>27553</td><td>4443</td><td>15</td><td>1</td><td>2214</td><td>34226</td><td>201803010</td><td>2018</td><td>3</td><td>7.806522</td><td>32.915945</td><td>8.373047</td><td>&quot;Catamarca&quot;</td><td>201803</td><td>&quot;201803 Jul - Sep 2018&quot;</td><td>0.18</td><td>33.514651</td><td>32.857501</td><td>1.47</td><td>8.077751</td><td>7.693097</td><td>98.21</td><td>96.64</td></tr><tr><td>&quot;Oct - Dic 2018&quot;</td><td>10</td><td>26083</td><td>5490</td><td>7</td><td>0</td><td>26912</td><td>4443</td><td>16</td><td>0</td><td>2212</td><td>33583</td><td>201804010</td><td>2018</td><td>4</td><td>8.04392</td><td>32.225346</td><td>8.197334</td><td>&quot;Catamarca&quot;</td><td>201804</td><td>&quot;201804 Oct - Dic 2018&quot;</td><td>-2.1</td><td>33.574264</td><td>32.915945</td><td>3.04</td><td>8.196848</td><td>7.806522</td><td>95.98</td><td>98.13</td></tr><tr><td>&quot;Ene - Mar 2019&quot;</td><td>10</td><td>26946</td><td>5635</td><td>7</td><td>0</td><td>26912</td><td>4443</td><td>16</td><td>0</td><td>2251</td><td>33622</td><td>201901010</td><td>2019</td><td>1</td><td>7.964005</td><td>32.190489</td><td>8.188505</td><td>&quot;Catamarca&quot;</td><td>201901</td><td>&quot;201901 Ene - Mar 2019&quot;</td><td>-0.11</td><td>32.869853</td><td>32.225346</td><td>-0.99</td><td>8.446116</td><td>8.04392</td><td>97.93</td><td>94.29</td></tr></tbody></table></div>"
      ],
      "text/plain": [
       "shape: (5, 29)\n",
       "┌───────────┬───────────┬───────────┬───────────┬───┬──────────┬───────────┬───────────┬───────────┐\n",
       "│ Periodo   ┆ id_provin ┆ Hasta 10  ┆ 10.01 -   ┆ … ┆ KPI MBPS ┆ MBPS      ┆ Cumplimin ┆ Cumplimin │\n",
       "│ ---       ┆ cia       ┆ Mbps      ┆ 30 Mbps   ┆   ┆ ---      ┆ Anterior  ┆ eto KPI   ┆ eto KPI   │\n",
       "│ str       ┆ ---       ┆ ---       ┆ ---       ┆   ┆ f64      ┆ ---       ┆ 100 Hog   ┆ MBPS      │\n",
       "│           ┆ i64       ┆ i64       ┆ i64       ┆   ┆          ┆ f64       ┆ ---       ┆ ---       │\n",
       "│           ┆           ┆           ┆           ┆   ┆          ┆           ┆ f64       ┆ f64       │\n",
       "╞═══════════╪═══════════╪═══════════╪═══════════╪═══╪══════════╪═══════════╪═══════════╪═══════════╡\n",
       "│ Ene - Mar ┆ 10        ┆ 23845     ┆ 3580      ┆ … ┆ 8.173362 ┆ 7.784154  ┆ 112.33    ┆ 100.31    │\n",
       "│ 2018      ┆           ┆           ┆           ┆   ┆          ┆           ┆           ┆           │\n",
       "│ Abr - Jun ┆ 10        ┆ 23184     ┆ 4383      ┆ … ┆ 8.608804 ┆ 8.198861  ┆ 98.23     ┆ 89.36     │\n",
       "│ 2018      ┆           ┆           ┆           ┆   ┆          ┆           ┆           ┆           │\n",
       "│ Jul - Sep ┆ 10        ┆ 26861     ┆ 5354      ┆ … ┆ 8.077751 ┆ 7.693097  ┆ 98.21     ┆ 96.64     │\n",
       "│ 2018      ┆           ┆           ┆           ┆   ┆          ┆           ┆           ┆           │\n",
       "│ Oct - Dic ┆ 10        ┆ 26083     ┆ 5490      ┆ … ┆ 8.196848 ┆ 7.806522  ┆ 95.98     ┆ 98.13     │\n",
       "│ 2018      ┆           ┆           ┆           ┆   ┆          ┆           ┆           ┆           │\n",
       "│ Ene - Mar ┆ 10        ┆ 26946     ┆ 5635      ┆ … ┆ 8.446116 ┆ 8.04392   ┆ 97.93     ┆ 94.29     │\n",
       "│ 2019      ┆           ┆           ┆           ┆   ┆          ┆           ┆           ┆           │\n",
       "└───────────┴───────────┴───────────┴───────────┴───┴──────────┴───────────┴───────────┴───────────┘"
      ]
     },
     "execution_count": 17,
     "metadata": {},
     "output_type": "execute_result"
    }
   ],
   "source": [
    "# Creo la Columna y la inicializo en 0\n",
    "tabla_dasboard = tabla_dasboard.with_columns(pl.lit(0.00).alias('Crecimiento Trimestral Accesos 100 Hog'))\n",
    "tabla_dasboard = tabla_dasboard.with_columns(pl.lit(0.00).alias('KPI 100 Hog'))\n",
    "tabla_dasboard = tabla_dasboard.with_columns(pl.lit(0.00).alias('Accesos 100 Hog Anterior'))\n",
    "\n",
    "tabla_dasboard = tabla_dasboard.with_columns(pl.lit(0.00).alias('Crecimiento Trimestral MBPS'))\n",
    "tabla_dasboard = tabla_dasboard.with_columns(pl.lit(0.00).alias('KPI MBPS'))\n",
    "tabla_dasboard = tabla_dasboard.with_columns(pl.lit(0.00).alias('MBPS Anterior'))\n",
    "\n",
    "\n",
    "'''\n",
    "columna 0  --> Periodo\n",
    "columna 1  --> id_provincia\n",
    "columna 15 --> MBPS Media Bajada\n",
    "columna 16 --> Accecos 100 Hog\n",
    "columna 21 --> Crecimiento Trimestral Accesos 100 Hog\n",
    "columna 22 --> KPI 100 Hog\n",
    "columna 23 --> Accesos 100 Hog Anterior\n",
    "columna 24 --> Crecimiento Trimestral MBPS\n",
    "columna 25 --> KPI MBPS\n",
    "columna 26 --> MBPS Anterior\n",
    "CALCULANDO Los Objetivos Para El grafico de Barras del Tablero. Su cumplimiento, E Informacion que voy a mostrar\n",
    "en el HOVER '''\n",
    "for i in range(1, tabla_dasboard.shape[0]):\n",
    "    #Esto sólo aplica a partir del Segundo Trimestre de la data estudiada \n",
    "    if tabla_dasboard[i,0] == 'Oct - Dic 2017':\n",
    "        continue\n",
    "\n",
    "    # Ubicando el id_provincia y periodo\n",
    "    id_provincia = tabla_dasboard[i,1]\n",
    "    periodo = tabla_dasboard[i,0]\n",
    "\n",
    "    # Ubicando el periodo anteiror\n",
    "    indice_de_periodo_en_lista = periodos.index(periodo)\n",
    "    periodo_anterior = periodos[indice_de_periodo_en_lista - 1]\n",
    "\n",
    "    # Obteniendo los `Accesos 100 Hog` del Periodo Actual y del Periodo Anterior de la Provincia específica\n",
    "    mask = (tabla_dasboard['id_provincia'] == id_provincia) & (tabla_dasboard['Periodo'] == periodo_anterior)\n",
    "    anterior_100_hog = tabla_dasboard.filter(mask)['Accesos 100 Hog'][0]\n",
    "    actual_100_hog = tabla_dasboard[i,16]\n",
    "\n",
    "    anterior_mbps = tabla_dasboard.filter(mask)['MBPS Media Bajada'][0]    \n",
    "    actual_mbps = tabla_dasboard[i,15]\n",
    "\n",
    "    # Calculando el Crecimiento\n",
    "    crecimiento = round((((actual_100_hog - anterior_100_hog) / anterior_100_hog) * 100),2) # Crecimiento acceso 100_hog\n",
    "    crecimiento_mbps = round((((actual_mbps - anterior_mbps) / anterior_mbps) * 100),2)\n",
    "\n",
    "    # Calculando el Objetivo Kpi en Base a un Crecimiento de 2%\n",
    "    objetivo_kpi = anterior_100_hog * 1.02\n",
    "    # Calculando el Objetivo Kpi en Base a un Crecimiento de 5%\n",
    "    objetivo_kpi_mbps = anterior_mbps * 1.05\n",
    "\n",
    "    # Asignando el crecimiento a `Crecimiento Trimestral Accesos 100 Hog`\n",
    "    tabla_dasboard[i,21] = crecimiento\n",
    "\n",
    "    # Asignando el crecimiento_mbps a Crecimiento Trimestral MBPS' \n",
    "    tabla_dasboard[i,24] = crecimiento_mbps\n",
    "\n",
    "    # Asignando el `objetivo-kpi` al campo KPI 100 Hog\n",
    "    tabla_dasboard[i,22] = objetivo_kpi              \n",
    "\n",
    "    # Asignando el `objetivo_kpi_mbps` al campo `KPI MBPS`\n",
    "    tabla_dasboard[i,25] = objetivo_kpi_mbps\n",
    "\n",
    "    # Asignando anterior_100_hog a  `Accesos 100 Hog Anterior`\n",
    "    tabla_dasboard[i,23] = anterior_100_hog\n",
    "\n",
    "    # Asignando anterior_mbps al campo `MBPS Anterior` \n",
    "    tabla_dasboard[i,26] = anterior_mbps\n",
    "\n",
    "    # Calculando el Cumplimiento del Objetivo Kpi Accesos 100 Hog\n",
    "    tabla_dasboard = tabla_dasboard.with_columns([\n",
    "        (pl.col('Accesos 100 Hog') / pl.col('KPI 100 Hog') * 100).round(2).alias('Cumplimineto KPI 100 Hog')\n",
    "    ])\n",
    "\n",
    "    # Calculando el Cumplimiento del Objetivo KPI MBPS                    #####################################\n",
    "    tabla_dasboard = tabla_dasboard.with_columns([\n",
    "        (pl.col('MBPS Media Bajada') / pl.col('KPI MBPS') * 100).round(2).alias('Cumplimineto KPI MBPS')\n",
    "    ])\n",
    "    \n",
    "\n",
    "\n",
    "#Observando el comportamineto del calculo para lo que debo filtrar por una provincia cualquiera\n",
    "mask = (tabla_dasboard['id_provincia'] == 10) & (tabla_dasboard['Periodo'] != 'Oct - Dic 2017')\n",
    "tabla_dasboard.filter(mask).head()\n"
   ]
  },
  {
   "cell_type": "code",
   "execution_count": 18,
   "metadata": {},
   "outputs": [
    {
     "data": {
      "text/plain": [
       "0.19"
      ]
     },
     "execution_count": 18,
     "metadata": {},
     "output_type": "execute_result"
    }
   ],
   "source": [
    "'''COMPROBANDO QUE EL BLOQUE ANTERIOR CALCULO BIEN EL CRECIMIENTO '''\n",
    "anterior = 32.793616  # Accesos 100 Hog de la id_provincia 10 en el periodo `Ene - Mar 2018`\n",
    "actual = 32.857501    # Accesos 100 Hog de la id_provincia 10 en el periodo `Abr - Jun 2018`\n",
    "crecimiento = round((((actual - anterior) / anterior) * 100),2)\n",
    "\n",
    "crecimiento"
   ]
  },
  {
   "cell_type": "code",
   "execution_count": 18,
   "metadata": {},
   "outputs": [
    {
     "name": "stdout",
     "output_type": "stream",
     "text": [
      "33.44948832\n",
      "98.23\n"
     ]
    }
   ],
   "source": [
    "'''COMPROBANDO QUE EL BLOQUE ANTERIOR CALCULO BIEN LOS KPI y EL CUMPLIMIENTO DE LOS MISMOS '''\n",
    "accesos_100_hog_Ene_Mar_2018 = 32.793616\n",
    "kpi_100_hog_Abr_Jun_2018 = accesos_100_hog_Ene_Mar_2018 * 1.02\n",
    "\n",
    "accesos_100_hog_Abr_Jun_2018 = 32.857501\n",
    "cumplimineto_KPI_100_hog_Abr_Jun_2018 = round((accesos_100_hog_Abr_Jun_2018 / kpi_100_hog_Abr_Jun_2018 * 100),2)\n",
    "\n",
    "\n",
    "\n",
    "print(kpi_100_hog_Abr_Jun_2018)\n",
    "print(cumplimineto_KPI_100_hog_Abr_Jun_2018)"
   ]
  },
  {
   "cell_type": "markdown",
   "metadata": {},
   "source": [
    "Para Efecto del Gráfico voy a Sustituir el Nombre `Ciudad Autónoma de Buenos Aires` por `CABA` "
   ]
  },
  {
   "cell_type": "code",
   "execution_count": 19,
   "metadata": {},
   "outputs": [],
   "source": [
    "tabla_dasboard = tabla_dasboard.with_columns(\n",
    "    pl.when(pl.col('Provincia') == 'Ciudad Autónoma de Buenos Aires')\n",
    "      .then(pl.lit('CABA'))\n",
    "      .otherwise(pl.col('Provincia'))\n",
    "      .alias('Provincia')\n",
    ")\n",
    "\n",
    "tabla_dasboard = tabla_dasboard.with_columns(\n",
    "    pl.when(pl.col('Provincia') == 'Tierra Del Fuego')\n",
    "      .then(pl.lit('T del Fuego'))\n",
    "      .otherwise(pl.col('Provincia'))\n",
    "      .alias('Provincia')\n",
    ")\n",
    "\n",
    "tabla_dasboard = tabla_dasboard.with_columns(\n",
    "    pl.when(pl.col('Provincia') == 'Santiago Del Estero')\n",
    "      .then(pl.lit('S. del Estero'))\n",
    "      .otherwise(pl.col('Provincia'))\n",
    "      .alias('Provincia')\n",
    ")"
   ]
  },
  {
   "cell_type": "code",
   "execution_count": 21,
   "metadata": {},
   "outputs": [
    {
     "data": {
      "text/html": [
       "<div><style>\n",
       ".dataframe > thead > tr,\n",
       ".dataframe > tbody > tr {\n",
       "  text-align: right;\n",
       "  white-space: pre-wrap;\n",
       "}\n",
       "</style>\n",
       "<small>shape: (1, 29)</small><table border=\"1\" class=\"dataframe\"><thead><tr><th>Periodo</th><th>id_provincia</th><th>Hasta 10 Mbps</th><th>10.01 - 30 Mbps</th><th>30.01 - 100 Mbps</th><th>Mayor a 100 Mbps</th><th>ADSL</th><th>CABLEMODEM</th><th>FIBRA</th><th>WIRELESS</th><th>Otras Tecnologias</th><th>Total Accesos</th><th>id</th><th>Año</th><th>Trimestre</th><th>MBPS Media Bajada</th><th>Accesos 100 Hog</th><th>Accesos 100 Hab</th><th>Provincia</th><th>Orden</th><th>Periodo Tablero</th><th>Crecimiento Trimestral Accesos 100 Hog</th><th>KPI 100 Hog</th><th>Accesos 100 Hog Anterior</th><th>Crecimiento Trimestral MBPS</th><th>KPI MBPS</th><th>MBPS Anterior</th><th>Cumplimineto KPI 100 Hog</th><th>Cumplimineto KPI MBPS</th></tr><tr><td>str</td><td>i64</td><td>i64</td><td>i64</td><td>i64</td><td>i64</td><td>i64</td><td>i64</td><td>i64</td><td>i64</td><td>i64</td><td>i64</td><td>i64</td><td>i64</td><td>i64</td><td>f64</td><td>f64</td><td>f64</td><td>str</td><td>i64</td><td>str</td><td>f64</td><td>f64</td><td>f64</td><td>f64</td><td>f64</td><td>f64</td><td>f64</td><td>f64</td></tr></thead><tbody><tr><td>&quot;Ene - Mar 2024&quot;</td><td>94</td><td>20699</td><td>28006</td><td>5024</td><td>705</td><td>9357</td><td>48005</td><td>3684</td><td>177</td><td>332</td><td>61555</td><td>202401094</td><td>2024</td><td>1</td><td>21.54</td><td>109.78</td><td>32.54</td><td>&quot;T del Fuego&quot;</td><td>202401</td><td>&quot;202401 Ene - Mar 2024&quot;</td><td>-0.64</td><td>112.6998</td><td>110.49</td><td>20.2</td><td>18.816</td><td>17.92</td><td>97.41</td><td>114.48</td></tr></tbody></table></div>"
      ],
      "text/plain": [
       "shape: (1, 29)\n",
       "┌───────────┬───────────┬───────────┬───────────┬───┬──────────┬───────────┬───────────┬───────────┐\n",
       "│ Periodo   ┆ id_provin ┆ Hasta 10  ┆ 10.01 -   ┆ … ┆ KPI MBPS ┆ MBPS      ┆ Cumplimin ┆ Cumplimin │\n",
       "│ ---       ┆ cia       ┆ Mbps      ┆ 30 Mbps   ┆   ┆ ---      ┆ Anterior  ┆ eto KPI   ┆ eto KPI   │\n",
       "│ str       ┆ ---       ┆ ---       ┆ ---       ┆   ┆ f64      ┆ ---       ┆ 100 Hog   ┆ MBPS      │\n",
       "│           ┆ i64       ┆ i64       ┆ i64       ┆   ┆          ┆ f64       ┆ ---       ┆ ---       │\n",
       "│           ┆           ┆           ┆           ┆   ┆          ┆           ┆ f64       ┆ f64       │\n",
       "╞═══════════╪═══════════╪═══════════╪═══════════╪═══╪══════════╪═══════════╪═══════════╪═══════════╡\n",
       "│ Ene - Mar ┆ 94        ┆ 20699     ┆ 28006     ┆ … ┆ 18.816   ┆ 17.92     ┆ 97.41     ┆ 114.48    │\n",
       "│ 2024      ┆           ┆           ┆           ┆   ┆          ┆           ┆           ┆           │\n",
       "└───────────┴───────────┴───────────┴───────────┴───┴──────────┴───────────┴───────────┴───────────┘"
      ]
     },
     "execution_count": 21,
     "metadata": {},
     "output_type": "execute_result"
    }
   ],
   "source": [
    "tabla_dasboard.tail(1)"
   ]
  },
  {
   "cell_type": "code",
   "execution_count": 20,
   "metadata": {},
   "outputs": [],
   "source": [
    "columns = ['MBPS Media Bajada', 'Accesos 100 Hog', 'Accesos 100 Hab', 'KPI 100 Hog',\n",
    "           'Crecimiento Trimestral Accesos 100 Hog', 'Accesos 100 Hog Anterior',\n",
    "           'Crecimiento Trimestral MBPS', 'KPI MBPS', 'KPI MBPS', \n",
    "           'Cumplimineto KPI 100 Hog', 'Cumplimineto KPI MBPS', 'MBPS Anterior']\n",
    "for column in columns:\n",
    "    tabla_dasboard = tabla_dasboard.with_columns(pl.col(column).round(2).alias(column))"
   ]
  },
  {
   "cell_type": "markdown",
   "metadata": {},
   "source": [
    "Ya tenemos la Tabla con que trabajaremos el Tablero de la Visualización ahora la grabamos"
   ]
  },
  {
   "cell_type": "code",
   "execution_count": 21,
   "metadata": {},
   "outputs": [],
   "source": [
    "tabla_dasboard.write_parquet('tablas_dash/data_tablero_dashboard.parquet')"
   ]
  },
  {
   "cell_type": "markdown",
   "metadata": {},
   "source": [
    "Vamos a hacer unos pequeños cambios a las tablas `rangos_dashboard` y `tecnologias_dashboard` para usarlas en el Eda de Internet"
   ]
  },
  {
   "cell_type": "code",
   "execution_count": 28,
   "metadata": {},
   "outputs": [
    {
     "data": {
      "text/plain": [
       "(624, 11)"
      ]
     },
     "execution_count": 28,
     "metadata": {},
     "output_type": "execute_result"
    }
   ],
   "source": [
    "mask = accesos_tecnologias['anio'] < 2017\n",
    "accesos_tecnologias = accesos_tecnologias.filter(~mask)\n",
    "\n",
    "mask = (accesos_tecnologias['anio'] == 2017) & (accesos_tecnologias['trimestre'].is_in([1,2,3]))\n",
    "accesos_tecnologias = accesos_tecnologias.filter(~mask)\n",
    "\n",
    "accesos_tecnologias.shape"
   ]
  },
  {
   "cell_type": "code",
   "execution_count": 29,
   "metadata": {},
   "outputs": [
    {
     "data": {
      "text/html": [
       "<div><style>\n",
       ".dataframe > thead > tr,\n",
       ".dataframe > tbody > tr {\n",
       "  text-align: right;\n",
       "  white-space: pre-wrap;\n",
       "}\n",
       "</style>\n",
       "<small>shape: (1, 11)</small><table border=\"1\" class=\"dataframe\"><thead><tr><th>anio</th><th>trimestre</th><th>adsl</th><th>cablemoden</th><th>fibra</th><th>wireless</th><th>otros</th><th>total</th><th>id_provincia</th><th>id</th><th>Periodo</th></tr><tr><td>i64</td><td>i64</td><td>i64</td><td>i64</td><td>i64</td><td>i64</td><td>i64</td><td>i64</td><td>i64</td><td>i64</td><td>str</td></tr></thead><tbody><tr><td>2024</td><td>1</td><td>203297</td><td>2790663</td><td>1799013</td><td>150290</td><td>101294</td><td>5044557</td><td>6</td><td>202401006</td><td>&quot;Ene - Mar 2024&quot;</td></tr></tbody></table></div>"
      ],
      "text/plain": [
       "shape: (1, 11)\n",
       "┌──────┬───────────┬────────┬────────────┬───┬─────────┬──────────────┬───────────┬────────────────┐\n",
       "│ anio ┆ trimestre ┆ adsl   ┆ cablemoden ┆ … ┆ total   ┆ id_provincia ┆ id        ┆ Periodo        │\n",
       "│ ---  ┆ ---       ┆ ---    ┆ ---        ┆   ┆ ---     ┆ ---          ┆ ---       ┆ ---            │\n",
       "│ i64  ┆ i64       ┆ i64    ┆ i64        ┆   ┆ i64     ┆ i64          ┆ i64       ┆ str            │\n",
       "╞══════╪═══════════╪════════╪════════════╪═══╪═════════╪══════════════╪═══════════╪════════════════╡\n",
       "│ 2024 ┆ 1         ┆ 203297 ┆ 2790663    ┆ … ┆ 5044557 ┆ 6            ┆ 202401006 ┆ Ene - Mar 2024 │\n",
       "└──────┴───────────┴────────┴────────────┴───┴─────────┴──────────────┴───────────┴────────────────┘"
      ]
     },
     "execution_count": 29,
     "metadata": {},
     "output_type": "execute_result"
    }
   ],
   "source": [
    "accesos_tecnologias.head(1)"
   ]
  },
  {
   "cell_type": "code",
   "execution_count": 30,
   "metadata": {},
   "outputs": [],
   "source": [
    "columns = ['Periodo', 'anio', 'trimestre', 'id_provincia']\n",
    "\n",
    "tecnologias_dashboard = tecnologias_dashboard.join(\n",
    "    accesos_tecnologias[columns], on=['Periodo', 'id_provincia'], how='left', coalesce=True\n",
    ")\n",
    "\n",
    "rangos_dashboard = rangos_dashboard.join(\n",
    "    accesos_tecnologias[columns], on=['Periodo', 'id_provincia'], how='left', coalesce=True\n",
    ")"
   ]
  },
  {
   "cell_type": "code",
   "execution_count": 31,
   "metadata": {},
   "outputs": [
    {
     "data": {
      "text/html": [
       "<div><style>\n",
       ".dataframe > thead > tr,\n",
       ".dataframe > tbody > tr {\n",
       "  text-align: right;\n",
       "  white-space: pre-wrap;\n",
       "}\n",
       "</style>\n",
       "<small>shape: (624, 10)</small><table border=\"1\" class=\"dataframe\"><thead><tr><th>ADSL</th><th>CABLEMODEM</th><th>FIBRA</th><th>WIRELESS</th><th>Otras Tecnologias</th><th>Total Accesos</th><th>id_provincia</th><th>Periodo</th><th>anio</th><th>trimestre</th></tr><tr><td>i64</td><td>i64</td><td>i64</td><td>i64</td><td>i64</td><td>i64</td><td>i64</td><td>str</td><td>i64</td><td>i64</td></tr></thead><tbody><tr><td>203297</td><td>2790663</td><td>1799013</td><td>150290</td><td>101294</td><td>5044557</td><td>6</td><td>&quot;Ene - Mar 2024&quot;</td><td>2024</td><td>1</td></tr><tr><td>70108</td><td>1177475</td><td>203756</td><td>4493</td><td>48879</td><td>1504711</td><td>2</td><td>&quot;Ene - Mar 2024&quot;</td><td>2024</td><td>1</td></tr><tr><td>5901</td><td>11025</td><td>56542</td><td>1384</td><td>81</td><td>74933</td><td>10</td><td>&quot;Ene - Mar 2024&quot;</td><td>2024</td><td>1</td></tr><tr><td>11343</td><td>58929</td><td>64463</td><td>8404</td><td>12404</td><td>155543</td><td>22</td><td>&quot;Ene - Mar 2024&quot;</td><td>2024</td><td>1</td></tr><tr><td>26306</td><td>77217</td><td>26356</td><td>30867</td><td>9930</td><td>170676</td><td>26</td><td>&quot;Ene - Mar 2024&quot;</td><td>2024</td><td>1</td></tr><tr><td>&hellip;</td><td>&hellip;</td><td>&hellip;</td><td>&hellip;</td><td>&hellip;</td><td>&hellip;</td><td>&hellip;</td><td>&hellip;</td><td>&hellip;</td><td>&hellip;</td></tr><tr><td>18614</td><td>1668</td><td>582</td><td>4638</td><td>3950</td><td>29452</td><td>78</td><td>&quot;Oct - Dic 2017&quot;</td><td>2017</td><td>4</td></tr><tr><td>341680</td><td>293831</td><td>10602</td><td>10965</td><td>15382</td><td>672460</td><td>82</td><td>&quot;Oct - Dic 2017&quot;</td><td>2017</td><td>4</td></tr><tr><td>27313</td><td>40407</td><td>19</td><td>1025</td><td>80</td><td>68844</td><td>86</td><td>&quot;Oct - Dic 2017&quot;</td><td>2017</td><td>4</td></tr><tr><td>19372</td><td>6906</td><td>530</td><td>1</td><td>2045</td><td>28854</td><td>94</td><td>&quot;Oct - Dic 2017&quot;</td><td>2017</td><td>4</td></tr><tr><td>156583</td><td>5223</td><td>105</td><td>102</td><td>319</td><td>162332</td><td>90</td><td>&quot;Oct - Dic 2017&quot;</td><td>2017</td><td>4</td></tr></tbody></table></div>"
      ],
      "text/plain": [
       "shape: (624, 10)\n",
       "┌────────┬────────────┬─────────┬──────────┬───┬──────────────┬────────────────┬──────┬───────────┐\n",
       "│ ADSL   ┆ CABLEMODEM ┆ FIBRA   ┆ WIRELESS ┆ … ┆ id_provincia ┆ Periodo        ┆ anio ┆ trimestre │\n",
       "│ ---    ┆ ---        ┆ ---     ┆ ---      ┆   ┆ ---          ┆ ---            ┆ ---  ┆ ---       │\n",
       "│ i64    ┆ i64        ┆ i64     ┆ i64      ┆   ┆ i64          ┆ str            ┆ i64  ┆ i64       │\n",
       "╞════════╪════════════╪═════════╪══════════╪═══╪══════════════╪════════════════╪══════╪═══════════╡\n",
       "│ 203297 ┆ 2790663    ┆ 1799013 ┆ 150290   ┆ … ┆ 6            ┆ Ene - Mar 2024 ┆ 2024 ┆ 1         │\n",
       "│ 70108  ┆ 1177475    ┆ 203756  ┆ 4493     ┆ … ┆ 2            ┆ Ene - Mar 2024 ┆ 2024 ┆ 1         │\n",
       "│ 5901   ┆ 11025      ┆ 56542   ┆ 1384     ┆ … ┆ 10           ┆ Ene - Mar 2024 ┆ 2024 ┆ 1         │\n",
       "│ 11343  ┆ 58929      ┆ 64463   ┆ 8404     ┆ … ┆ 22           ┆ Ene - Mar 2024 ┆ 2024 ┆ 1         │\n",
       "│ 26306  ┆ 77217      ┆ 26356   ┆ 30867    ┆ … ┆ 26           ┆ Ene - Mar 2024 ┆ 2024 ┆ 1         │\n",
       "│ …      ┆ …          ┆ …       ┆ …        ┆ … ┆ …            ┆ …              ┆ …    ┆ …         │\n",
       "│ 18614  ┆ 1668       ┆ 582     ┆ 4638     ┆ … ┆ 78           ┆ Oct - Dic 2017 ┆ 2017 ┆ 4         │\n",
       "│ 341680 ┆ 293831     ┆ 10602   ┆ 10965    ┆ … ┆ 82           ┆ Oct - Dic 2017 ┆ 2017 ┆ 4         │\n",
       "│ 27313  ┆ 40407      ┆ 19      ┆ 1025     ┆ … ┆ 86           ┆ Oct - Dic 2017 ┆ 2017 ┆ 4         │\n",
       "│ 19372  ┆ 6906       ┆ 530     ┆ 1        ┆ … ┆ 94           ┆ Oct - Dic 2017 ┆ 2017 ┆ 4         │\n",
       "│ 156583 ┆ 5223       ┆ 105     ┆ 102      ┆ … ┆ 90           ┆ Oct - Dic 2017 ┆ 2017 ┆ 4         │\n",
       "└────────┴────────────┴─────────┴──────────┴───┴──────────────┴────────────────┴──────┴───────────┘"
      ]
     },
     "execution_count": 31,
     "metadata": {},
     "output_type": "execute_result"
    }
   ],
   "source": [
    "tecnologias_dashboard"
   ]
  },
  {
   "cell_type": "code",
   "execution_count": 32,
   "metadata": {},
   "outputs": [
    {
     "data": {
      "text/html": [
       "<div><style>\n",
       ".dataframe > thead > tr,\n",
       ".dataframe > tbody > tr {\n",
       "  text-align: right;\n",
       "  white-space: pre-wrap;\n",
       "}\n",
       "</style>\n",
       "<small>shape: (624, 8)</small><table border=\"1\" class=\"dataframe\"><thead><tr><th>Periodo</th><th>id_provincia</th><th>Hasta 10 Mbps</th><th>10.01 - 30 Mbps</th><th>30.01 - 100 Mbps</th><th>Mayor a 100 Mbps</th><th>anio</th><th>trimestre</th></tr><tr><td>str</td><td>i64</td><td>i64</td><td>i64</td><td>i64</td><td>i64</td><td>i64</td><td>i64</td></tr></thead><tbody><tr><td>&quot;Oct - Dic 2020&quot;</td><td>2</td><td>238712</td><td>140483</td><td>915868</td><td>84199</td><td>2020</td><td>4</td></tr><tr><td>&quot;Oct - Dic 2020&quot;</td><td>6</td><td>1420244</td><td>427793</td><td>2052600</td><td>123608</td><td>2020</td><td>4</td></tr><tr><td>&quot;Oct - Dic 2020&quot;</td><td>10</td><td>17654</td><td>12027</td><td>19840</td><td>566</td><td>2020</td><td>4</td></tr><tr><td>&quot;Oct - Dic 2020&quot;</td><td>14</td><td>352730</td><td>152242</td><td>373313</td><td>10848</td><td>2020</td><td>4</td></tr><tr><td>&quot;Oct - Dic 2020&quot;</td><td>18</td><td>58815</td><td>35070</td><td>25413</td><td>1376</td><td>2020</td><td>4</td></tr><tr><td>&hellip;</td><td>&hellip;</td><td>&hellip;</td><td>&hellip;</td><td>&hellip;</td><td>&hellip;</td><td>&hellip;</td><td>&hellip;</td></tr><tr><td>&quot;Jul - Sep 2020&quot;</td><td>78</td><td>30969</td><td>7359</td><td>120</td><td>0</td><td>2020</td><td>3</td></tr><tr><td>&quot;Jul - Sep 2020&quot;</td><td>82</td><td>414543</td><td>150900</td><td>206322</td><td>4232</td><td>2020</td><td>3</td></tr><tr><td>&quot;Jul - Sep 2020&quot;</td><td>86</td><td>91747</td><td>4950</td><td>3950</td><td>44</td><td>2020</td><td>3</td></tr><tr><td>&quot;Jul - Sep 2020&quot;</td><td>90</td><td>100672</td><td>36372</td><td>82600</td><td>1595</td><td>2020</td><td>3</td></tr><tr><td>&quot;Jul - Sep 2020&quot;</td><td>94</td><td>27519</td><td>4207</td><td>936</td><td>1</td><td>2020</td><td>3</td></tr></tbody></table></div>"
      ],
      "text/plain": [
       "shape: (624, 8)\n",
       "┌─────────────┬─────────────┬────────────┬────────────┬────────────┬────────────┬──────┬───────────┐\n",
       "│ Periodo     ┆ id_provinci ┆ Hasta 10   ┆ 10.01 - 30 ┆ 30.01 -    ┆ Mayor a    ┆ anio ┆ trimestre │\n",
       "│ ---         ┆ a           ┆ Mbps       ┆ Mbps       ┆ 100 Mbps   ┆ 100 Mbps   ┆ ---  ┆ ---       │\n",
       "│ str         ┆ ---         ┆ ---        ┆ ---        ┆ ---        ┆ ---        ┆ i64  ┆ i64       │\n",
       "│             ┆ i64         ┆ i64        ┆ i64        ┆ i64        ┆ i64        ┆      ┆           │\n",
       "╞═════════════╪═════════════╪════════════╪════════════╪════════════╪════════════╪══════╪═══════════╡\n",
       "│ Oct - Dic   ┆ 2           ┆ 238712     ┆ 140483     ┆ 915868     ┆ 84199      ┆ 2020 ┆ 4         │\n",
       "│ 2020        ┆             ┆            ┆            ┆            ┆            ┆      ┆           │\n",
       "│ Oct - Dic   ┆ 6           ┆ 1420244    ┆ 427793     ┆ 2052600    ┆ 123608     ┆ 2020 ┆ 4         │\n",
       "│ 2020        ┆             ┆            ┆            ┆            ┆            ┆      ┆           │\n",
       "│ Oct - Dic   ┆ 10          ┆ 17654      ┆ 12027      ┆ 19840      ┆ 566        ┆ 2020 ┆ 4         │\n",
       "│ 2020        ┆             ┆            ┆            ┆            ┆            ┆      ┆           │\n",
       "│ Oct - Dic   ┆ 14          ┆ 352730     ┆ 152242     ┆ 373313     ┆ 10848      ┆ 2020 ┆ 4         │\n",
       "│ 2020        ┆             ┆            ┆            ┆            ┆            ┆      ┆           │\n",
       "│ Oct - Dic   ┆ 18          ┆ 58815      ┆ 35070      ┆ 25413      ┆ 1376       ┆ 2020 ┆ 4         │\n",
       "│ 2020        ┆             ┆            ┆            ┆            ┆            ┆      ┆           │\n",
       "│ …           ┆ …           ┆ …          ┆ …          ┆ …          ┆ …          ┆ …    ┆ …         │\n",
       "│ Jul - Sep   ┆ 78          ┆ 30969      ┆ 7359       ┆ 120        ┆ 0          ┆ 2020 ┆ 3         │\n",
       "│ 2020        ┆             ┆            ┆            ┆            ┆            ┆      ┆           │\n",
       "│ Jul - Sep   ┆ 82          ┆ 414543     ┆ 150900     ┆ 206322     ┆ 4232       ┆ 2020 ┆ 3         │\n",
       "│ 2020        ┆             ┆            ┆            ┆            ┆            ┆      ┆           │\n",
       "│ Jul - Sep   ┆ 86          ┆ 91747      ┆ 4950       ┆ 3950       ┆ 44         ┆ 2020 ┆ 3         │\n",
       "│ 2020        ┆             ┆            ┆            ┆            ┆            ┆      ┆           │\n",
       "│ Jul - Sep   ┆ 90          ┆ 100672     ┆ 36372      ┆ 82600      ┆ 1595       ┆ 2020 ┆ 3         │\n",
       "│ 2020        ┆             ┆            ┆            ┆            ┆            ┆      ┆           │\n",
       "│ Jul - Sep   ┆ 94          ┆ 27519      ┆ 4207       ┆ 936        ┆ 1          ┆ 2020 ┆ 3         │\n",
       "│ 2020        ┆             ┆            ┆            ┆            ┆            ┆      ┆           │\n",
       "└─────────────┴─────────────┴────────────┴────────────┴────────────┴────────────┴──────┴───────────┘"
      ]
     },
     "execution_count": 32,
     "metadata": {},
     "output_type": "execute_result"
    }
   ],
   "source": [
    "rangos_dashboard"
   ]
  },
  {
   "cell_type": "code",
   "execution_count": 34,
   "metadata": {},
   "outputs": [],
   "source": [
    "rangos_dashboard.write_parquet('tablas/EDA_internet_rangos.parquet')\n",
    "\n",
    "tecnologias_dashboard.write_parquet('tablas/EDA_internet_tecnologias.parquet')"
   ]
  },
  {
   "cell_type": "code",
   "execution_count": 1,
   "metadata": {},
   "outputs": [],
   "source": [
    "import polars as pl"
   ]
  },
  {
   "cell_type": "code",
   "execution_count": 15,
   "metadata": {},
   "outputs": [],
   "source": [
    "tabla_dasboard = pl.read_parquet('tablas_dash/data_tablero_dashboard.parquet')"
   ]
  },
  {
   "cell_type": "markdown",
   "metadata": {},
   "source": [
    "Ahora vamos a Crear la Data para las Tarjetas del Tablero de la Visualización"
   ]
  },
  {
   "cell_type": "code",
   "execution_count": 19,
   "metadata": {},
   "outputs": [
    {
     "data": {
      "text/html": [
       "<div><style>\n",
       ".dataframe > thead > tr,\n",
       ".dataframe > tbody > tr {\n",
       "  text-align: right;\n",
       "  white-space: pre-wrap;\n",
       "}\n",
       "</style>\n",
       "<small>shape: (5, 11)</small><table border=\"1\" class=\"dataframe\"><thead><tr><th>Año</th><th>Trimestre</th><th>Accesos 100 Hog</th><th>Accesos 100 Hog Anterior</th><th>Crecimiento Accesos 100 Hog</th><th>Accesos 100 Hab</th><th>Accesos 100 Hab Anterior</th><th>Crecimineto Accesos 100 Hab</th><th>MBPS Media Bajada</th><th>MBPS Media Bajada Anterior</th><th>Crecimineto MBPS Media Bajada</th></tr><tr><td>str</td><td>str</td><td>f64</td><td>f64</td><td>f64</td><td>f64</td><td>f64</td><td>f64</td><td>f64</td><td>f64</td><td>f64</td></tr></thead><tbody><tr><td>&quot;2024&quot;</td><td>&quot;1&quot;</td><td>78.89</td><td>78.56</td><td>0.420061</td><td>24.79</td><td>24.66</td><td>0.52717</td><td>139.15</td><td>139.04</td><td>0.079114</td></tr><tr><td>&quot;2023&quot;</td><td>&quot;4&quot;</td><td>78.56</td><td>77.84</td><td>0.924974</td><td>24.66</td><td>24.41</td><td>1.02417</td><td>139.04</td><td>129.67</td><td>7.226035</td></tr><tr><td>&quot;2023&quot;</td><td>&quot;3&quot;</td><td>77.84</td><td>77.02</td><td>1.064659</td><td>24.41</td><td>24.14</td><td>1.118476</td><td>129.67</td><td>123.95</td><td>4.614764</td></tr><tr><td>&quot;2023&quot;</td><td>&quot;2&quot;</td><td>77.02</td><td>77.2</td><td>-0.233161</td><td>24.14</td><td>24.17</td><td>-0.124121</td><td>123.95</td><td>110.5</td><td>12.171946</td></tr><tr><td>&quot;2023&quot;</td><td>&quot;1&quot;</td><td>77.2</td><td>77.21</td><td>-0.012952</td><td>24.17</td><td>24.15</td><td>0.082816</td><td>110.5</td><td>106.56</td><td>3.697447</td></tr></tbody></table></div>"
      ],
      "text/plain": [
       "shape: (5, 11)\n",
       "┌──────┬───────────┬─────────┬──────────────┬───┬─────────────┬────────┬─────────────┬─────────────┐\n",
       "│ Año  ┆ Trimestre ┆ Accesos ┆ Accesos 100  ┆ … ┆ Crecimineto ┆ MBPS   ┆ MBPS Media  ┆ Crecimineto │\n",
       "│ ---  ┆ ---       ┆ 100 Hog ┆ Hog Anterior ┆   ┆ Accesos 100 ┆ Media  ┆ Bajada      ┆ MBPS Media  │\n",
       "│ str  ┆ str       ┆ ---     ┆ ---          ┆   ┆ Hab         ┆ Bajada ┆ Anterior    ┆ Bajada      │\n",
       "│      ┆           ┆ f64     ┆ f64          ┆   ┆ ---         ┆ ---    ┆ ---         ┆ ---         │\n",
       "│      ┆           ┆         ┆              ┆   ┆ f64         ┆ f64    ┆ f64         ┆ f64         │\n",
       "╞══════╪═══════════╪═════════╪══════════════╪═══╪═════════════╪════════╪═════════════╪═════════════╡\n",
       "│ 2024 ┆ 1         ┆ 78.89   ┆ 78.56        ┆ … ┆ 0.52717     ┆ 139.15 ┆ 139.04      ┆ 0.079114    │\n",
       "│ 2023 ┆ 4         ┆ 78.56   ┆ 77.84        ┆ … ┆ 1.02417     ┆ 139.04 ┆ 129.67      ┆ 7.226035    │\n",
       "│ 2023 ┆ 3         ┆ 77.84   ┆ 77.02        ┆ … ┆ 1.118476    ┆ 129.67 ┆ 123.95      ┆ 4.614764    │\n",
       "│ 2023 ┆ 2         ┆ 77.02   ┆ 77.2         ┆ … ┆ -0.124121   ┆ 123.95 ┆ 110.5       ┆ 12.171946   │\n",
       "│ 2023 ┆ 1         ┆ 77.2    ┆ 77.21        ┆ … ┆ 0.082816    ┆ 110.5  ┆ 106.56      ┆ 3.697447    │\n",
       "└──────┴───────────┴─────────┴──────────────┴───┴─────────────┴────────┴─────────────┴─────────────┘"
      ]
     },
     "execution_count": 19,
     "metadata": {},
     "output_type": "execute_result"
    }
   ],
   "source": [
    "tarjetas = pl.read_excel('datasets_iniciales/internet_modificado.xlsx', sheet_name='Mediciones')\n",
    "tarjetas.head()"
   ]
  },
  {
   "cell_type": "code",
   "execution_count": 20,
   "metadata": {},
   "outputs": [
    {
     "data": {
      "text/html": [
       "<div><style>\n",
       ".dataframe > thead > tr,\n",
       ".dataframe > tbody > tr {\n",
       "  text-align: right;\n",
       "  white-space: pre-wrap;\n",
       "}\n",
       "</style>\n",
       "<small>shape: (5, 11)</small><table border=\"1\" class=\"dataframe\"><thead><tr><th>Año</th><th>Trimestre</th><th>Accesos 100 Hog</th><th>Accesos 100 Hog Anterior</th><th>Crecimiento Accesos 100 Hog</th><th>Accesos 100 Hab</th><th>Accesos 100 Hab Anterior</th><th>Crecimineto Accesos 100 Hab</th><th>MBPS Media Bajada</th><th>MBPS Media Bajada Anterior</th><th>Crecimineto MBPS Media Bajada</th></tr><tr><td>i64</td><td>i64</td><td>f64</td><td>f64</td><td>f64</td><td>f64</td><td>f64</td><td>f64</td><td>f64</td><td>f64</td><td>f64</td></tr></thead><tbody><tr><td>2024</td><td>1</td><td>78.89</td><td>78.56</td><td>0.42</td><td>24.79</td><td>24.66</td><td>0.53</td><td>139.15</td><td>139.04</td><td>0.08</td></tr><tr><td>2023</td><td>4</td><td>78.56</td><td>77.84</td><td>0.92</td><td>24.66</td><td>24.41</td><td>1.02</td><td>139.04</td><td>129.67</td><td>7.23</td></tr><tr><td>2023</td><td>3</td><td>77.84</td><td>77.02</td><td>1.06</td><td>24.41</td><td>24.14</td><td>1.12</td><td>129.67</td><td>123.95</td><td>4.61</td></tr><tr><td>2023</td><td>2</td><td>77.02</td><td>77.2</td><td>-0.23</td><td>24.14</td><td>24.17</td><td>-0.12</td><td>123.95</td><td>110.5</td><td>12.17</td></tr><tr><td>2023</td><td>1</td><td>77.2</td><td>77.21</td><td>-0.01</td><td>24.17</td><td>24.15</td><td>0.08</td><td>110.5</td><td>106.56</td><td>3.7</td></tr></tbody></table></div>"
      ],
      "text/plain": [
       "shape: (5, 11)\n",
       "┌──────┬───────────┬─────────┬──────────────┬───┬─────────────┬────────┬─────────────┬─────────────┐\n",
       "│ Año  ┆ Trimestre ┆ Accesos ┆ Accesos 100  ┆ … ┆ Crecimineto ┆ MBPS   ┆ MBPS Media  ┆ Crecimineto │\n",
       "│ ---  ┆ ---       ┆ 100 Hog ┆ Hog Anterior ┆   ┆ Accesos 100 ┆ Media  ┆ Bajada      ┆ MBPS Media  │\n",
       "│ i64  ┆ i64       ┆ ---     ┆ ---          ┆   ┆ Hab         ┆ Bajada ┆ Anterior    ┆ Bajada      │\n",
       "│      ┆           ┆ f64     ┆ f64          ┆   ┆ ---         ┆ ---    ┆ ---         ┆ ---         │\n",
       "│      ┆           ┆         ┆              ┆   ┆ f64         ┆ f64    ┆ f64         ┆ f64         │\n",
       "╞══════╪═══════════╪═════════╪══════════════╪═══╪═════════════╪════════╪═════════════╪═════════════╡\n",
       "│ 2024 ┆ 1         ┆ 78.89   ┆ 78.56        ┆ … ┆ 0.53        ┆ 139.15 ┆ 139.04      ┆ 0.08        │\n",
       "│ 2023 ┆ 4         ┆ 78.56   ┆ 77.84        ┆ … ┆ 1.02        ┆ 139.04 ┆ 129.67      ┆ 7.23        │\n",
       "│ 2023 ┆ 3         ┆ 77.84   ┆ 77.02        ┆ … ┆ 1.12        ┆ 129.67 ┆ 123.95      ┆ 4.61        │\n",
       "│ 2023 ┆ 2         ┆ 77.02   ┆ 77.2         ┆ … ┆ -0.12       ┆ 123.95 ┆ 110.5       ┆ 12.17       │\n",
       "│ 2023 ┆ 1         ┆ 77.2    ┆ 77.21        ┆ … ┆ 0.08        ┆ 110.5  ┆ 106.56      ┆ 3.7         │\n",
       "└──────┴───────────┴─────────┴──────────────┴───┴─────────────┴────────┴─────────────┴─────────────┘"
      ]
     },
     "execution_count": 20,
     "metadata": {},
     "output_type": "execute_result"
    }
   ],
   "source": [
    "columns = ['Año', 'Trimestre']\n",
    "for column in columns:\n",
    "    tarjetas = tarjetas.with_columns(pl.col(column).cast(pl.Int64).alias(column))\n",
    "\n",
    "columns = tarjetas.columns[2:]\n",
    "for column in columns:\n",
    "    tarjetas = tarjetas.with_columns(pl.col(column).round(2).alias(column))\n",
    "\n",
    "mask = tarjetas['Año'] < 2017\n",
    "tarjetas = tarjetas.filter(~mask) \n",
    "\n",
    "mask = (tarjetas['Año'] == 2017) & (tarjetas['Trimestre'].is_in([1,2,3]))\n",
    "tarjetas = tarjetas.filter(~mask)\n",
    "\n",
    "tarjetas.head()   "
   ]
  },
  {
   "cell_type": "markdown",
   "metadata": {},
   "source": [
    "Necesito Añadirle el Periodo exactamente igual al que ya tenemos en las demas tablas"
   ]
  },
  {
   "cell_type": "code",
   "execution_count": 24,
   "metadata": {},
   "outputs": [
    {
     "data": {
      "text/plain": [
       "(26, 3)"
      ]
     },
     "execution_count": 24,
     "metadata": {},
     "output_type": "execute_result"
    }
   ],
   "source": [
    "tablita_periodos = tabla_dasboard['Periodo', 'Año', 'Trimestre'].unique()\n",
    "\n",
    "tablita_periodos.shape"
   ]
  },
  {
   "cell_type": "code",
   "execution_count": 23,
   "metadata": {},
   "outputs": [
    {
     "data": {
      "text/plain": [
       "(26, 11)"
      ]
     },
     "execution_count": 23,
     "metadata": {},
     "output_type": "execute_result"
    }
   ],
   "source": [
    "tarjetas.shape"
   ]
  },
  {
   "cell_type": "code",
   "execution_count": 27,
   "metadata": {},
   "outputs": [
    {
     "data": {
      "text/html": [
       "<div><style>\n",
       ".dataframe > thead > tr,\n",
       ".dataframe > tbody > tr {\n",
       "  text-align: right;\n",
       "  white-space: pre-wrap;\n",
       "}\n",
       "</style>\n",
       "<small>shape: (5, 12)</small><table border=\"1\" class=\"dataframe\"><thead><tr><th>Año</th><th>Trimestre</th><th>Accesos 100 Hog</th><th>Accesos 100 Hog Anterior</th><th>Crecimiento Accesos 100 Hog</th><th>Accesos 100 Hab</th><th>Accesos 100 Hab Anterior</th><th>Crecimineto Accesos 100 Hab</th><th>MBPS Media Bajada</th><th>MBPS Media Bajada Anterior</th><th>Crecimineto MBPS Media Bajada</th><th>Periodo</th></tr><tr><td>i64</td><td>i64</td><td>f64</td><td>f64</td><td>f64</td><td>f64</td><td>f64</td><td>f64</td><td>f64</td><td>f64</td><td>f64</td><td>str</td></tr></thead><tbody><tr><td>2024</td><td>1</td><td>78.89</td><td>78.56</td><td>0.42</td><td>24.79</td><td>24.66</td><td>0.53</td><td>139.15</td><td>139.04</td><td>0.08</td><td>&quot;Ene - Mar 2024&quot;</td></tr><tr><td>2023</td><td>4</td><td>78.56</td><td>77.84</td><td>0.92</td><td>24.66</td><td>24.41</td><td>1.02</td><td>139.04</td><td>129.67</td><td>7.23</td><td>&quot;Oct - Dic 2023&quot;</td></tr><tr><td>2023</td><td>3</td><td>77.84</td><td>77.02</td><td>1.06</td><td>24.41</td><td>24.14</td><td>1.12</td><td>129.67</td><td>123.95</td><td>4.61</td><td>&quot;Jul - Sep 2023&quot;</td></tr><tr><td>2023</td><td>2</td><td>77.02</td><td>77.2</td><td>-0.23</td><td>24.14</td><td>24.17</td><td>-0.12</td><td>123.95</td><td>110.5</td><td>12.17</td><td>&quot;Abr - Jun 2023&quot;</td></tr><tr><td>2023</td><td>1</td><td>77.2</td><td>77.21</td><td>-0.01</td><td>24.17</td><td>24.15</td><td>0.08</td><td>110.5</td><td>106.56</td><td>3.7</td><td>&quot;Ene - Mar 2023&quot;</td></tr></tbody></table></div>"
      ],
      "text/plain": [
       "shape: (5, 12)\n",
       "┌──────┬───────────┬─────────┬──────────────┬───┬────────┬─────────────┬─────────────┬─────────────┐\n",
       "│ Año  ┆ Trimestre ┆ Accesos ┆ Accesos 100  ┆ … ┆ MBPS   ┆ MBPS Media  ┆ Crecimineto ┆ Periodo     │\n",
       "│ ---  ┆ ---       ┆ 100 Hog ┆ Hog Anterior ┆   ┆ Media  ┆ Bajada      ┆ MBPS Media  ┆ ---         │\n",
       "│ i64  ┆ i64       ┆ ---     ┆ ---          ┆   ┆ Bajada ┆ Anterior    ┆ Bajada      ┆ str         │\n",
       "│      ┆           ┆ f64     ┆ f64          ┆   ┆ ---    ┆ ---         ┆ ---         ┆             │\n",
       "│      ┆           ┆         ┆              ┆   ┆ f64    ┆ f64         ┆ f64         ┆             │\n",
       "╞══════╪═══════════╪═════════╪══════════════╪═══╪════════╪═════════════╪═════════════╪═════════════╡\n",
       "│ 2024 ┆ 1         ┆ 78.89   ┆ 78.56        ┆ … ┆ 139.15 ┆ 139.04      ┆ 0.08        ┆ Ene - Mar   │\n",
       "│      ┆           ┆         ┆              ┆   ┆        ┆             ┆             ┆ 2024        │\n",
       "│ 2023 ┆ 4         ┆ 78.56   ┆ 77.84        ┆ … ┆ 139.04 ┆ 129.67      ┆ 7.23        ┆ Oct - Dic   │\n",
       "│      ┆           ┆         ┆              ┆   ┆        ┆             ┆             ┆ 2023        │\n",
       "│ 2023 ┆ 3         ┆ 77.84   ┆ 77.02        ┆ … ┆ 129.67 ┆ 123.95      ┆ 4.61        ┆ Jul - Sep   │\n",
       "│      ┆           ┆         ┆              ┆   ┆        ┆             ┆             ┆ 2023        │\n",
       "│ 2023 ┆ 2         ┆ 77.02   ┆ 77.2         ┆ … ┆ 123.95 ┆ 110.5       ┆ 12.17       ┆ Abr - Jun   │\n",
       "│      ┆           ┆         ┆              ┆   ┆        ┆             ┆             ┆ 2023        │\n",
       "│ 2023 ┆ 1         ┆ 77.2    ┆ 77.21        ┆ … ┆ 110.5  ┆ 106.56      ┆ 3.7         ┆ Ene - Mar   │\n",
       "│      ┆           ┆         ┆              ┆   ┆        ┆             ┆             ┆ 2023        │\n",
       "└──────┴───────────┴─────────┴──────────────┴───┴────────┴─────────────┴─────────────┴─────────────┘"
      ]
     },
     "execution_count": 27,
     "metadata": {},
     "output_type": "execute_result"
    }
   ],
   "source": [
    "tarjetas = tarjetas.join(\n",
    "    tablita_periodos, on=['Año', 'Trimestre'], how='left', coalesce=True\n",
    ")\n",
    "\n",
    "tarjetas.head()"
   ]
  },
  {
   "cell_type": "markdown",
   "metadata": {},
   "source": [
    "Guardo la Tabla para el Dashboard"
   ]
  },
  {
   "cell_type": "code",
   "execution_count": 28,
   "metadata": {},
   "outputs": [],
   "source": [
    "tarjetas.write_parquet('tablas_dash/tarjetas.parquet')"
   ]
  },
  {
   "cell_type": "code",
   "execution_count": 29,
   "metadata": {},
   "outputs": [
    {
     "data": {
      "text/plain": [
       "0.42"
      ]
     },
     "execution_count": 29,
     "metadata": {},
     "output_type": "execute_result"
    }
   ],
   "source": [
    "mask = tarjetas['Año'] == 2024\n",
    "tarjetas.filter(mask)['Crecimiento Accesos 100 Hog'][0]"
   ]
  }
 ],
 "metadata": {
  "kernelspec": {
   "display_name": "labs_2",
   "language": "python",
   "name": "python3"
  },
  "language_info": {
   "codemirror_mode": {
    "name": "ipython",
    "version": 3
   },
   "file_extension": ".py",
   "mimetype": "text/x-python",
   "name": "python",
   "nbconvert_exporter": "python",
   "pygments_lexer": "ipython3",
   "version": "3.10.11"
  }
 },
 "nbformat": 4,
 "nbformat_minor": 2
}
