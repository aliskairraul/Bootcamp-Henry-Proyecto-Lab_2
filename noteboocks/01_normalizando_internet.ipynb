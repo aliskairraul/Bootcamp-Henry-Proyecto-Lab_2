{
 "cells": [
  {
   "cell_type": "markdown",
   "metadata": {},
   "source": [
    "# **Objetivo del Cuaderno Jupyter**\n",
    "- El objetivo de los cuadernos `01_normalizando_internet.ipynb` y `02_normalizando_otros.ipynb` es Normalizar la información inicial al esquema mostrado en la Imagen de abajo.\n",
    "- En este cuaderno en particular obtendremos las tablas relacionadas con el archivo `internet.xlsx`<br>\n",
    "<br>\n",
    "<img src='assets/EDR.png'>\n",
    "<br>\n",
    "\n",
    "#### **A tomar en cuenta:**\n",
    "- Basaremos el estudio de la data a nivel de Provincias, Localidades y Total País\n",
    "- Las tablas `provincias`, `partidos` y `localidades`, aunque no era necesario normalizarlas para el correspondiente EDA y Visualización del Proyecto, se trabajó, para dejarle la estructura de datos armada a la empresa, donde toca ordenar toda la Data (funcional), tanto para este estudio, como para posteriores estudios propios o de cualquier persona de la empresa, quedando dichas tablas listas para ser enlaces entre Futuras Hipotéticas tablas que involucren todas las localidades a detalle. \n",
    "\n",
    "#### **Importante**\n",
    "- Aunque los cuadernos `01_normalizando_internet.ipynb` y `02_normalizando_otros.ipynb` no son se encargan de hacer `EDA`, si se encargarán del `tratamiento de los datos NULOS`, ya que estamos Normalizando tablas que van a ser vaciadas en un Motor SQL para la Empresa y esa data debe ser Guardada ya saneada de Nulos. \n",
    "#### **Puntos Extras**\n",
    "- Probaré el vaciado de las tablas en una base de Datos Mysql.\n",
    "- Sí desea disponer de las tablas en Mysql en su ordenador, se necesita crear la estructura de Tablas y relaciones primero.  En el archivo `db/tables.py` dispone de toda la estrucutura apoyada en el `ORM SqlAlchemy` y con sólo correr el script `db/create_tables.py` para obtenerla. \n",
    "- Sí no posee Mysql en su ordenador puede seguir las intrucciones del archivo `docker/pasos_en_la_terminal.txt` para que cree un contenedor con una imagen de MySql y luego ejecute el Script para crear la estructura.\n",
    "<br>\n"
   ]
  },
  {
   "cell_type": "markdown",
   "metadata": {},
   "source": [
    "Importando Librerias"
   ]
  },
  {
   "cell_type": "code",
   "execution_count": 1,
   "metadata": {},
   "outputs": [],
   "source": [
    "import polars as pl\n",
    "import duckdb"
   ]
  },
  {
   "cell_type": "markdown",
   "metadata": {},
   "source": [
    "Importando Utilidades propias y variables"
   ]
  },
  {
   "cell_type": "code",
   "execution_count": 2,
   "metadata": {},
   "outputs": [],
   "source": [
    "from utils.utilidades import reemplazar, correcion,obtener_coordenadas"
   ]
  },
  {
   "cell_type": "markdown",
   "metadata": {},
   "source": [
    "Importando Conexion a Base de Datos"
   ]
  },
  {
   "cell_type": "code",
   "execution_count": 111,
   "metadata": {},
   "outputs": [],
   "source": [
    "from db.connection import engine_sqlalchemy"
   ]
  },
  {
   "cell_type": "markdown",
   "metadata": {},
   "source": [
    "***\n",
    "## **Creando la Tabla `provincias`**"
   ]
  },
  {
   "cell_type": "code",
   "execution_count": null,
   "metadata": {},
   "outputs": [],
   "source": [
    "# Leo un Dataset donde estén las 24 Provincias (23 + Ciudad Autonóma de Buenos Aires)\n",
    "acc_vel_loc_sinrangos = pl.read_excel('datasets_iniciales/Internet.xlsx', sheet_name='Acc_vel_loc_sinrangos')\n",
    "\n",
    "# Paso las Provincias a una Lista\n",
    "provincias_list = acc_vel_loc_sinrangos['Provincia'].unique().to_list()\n",
    "\n",
    "# Si ordeno las Provincias Alfabéticamente esos son los código que le corresponden\n",
    "provincias_list.sort()\n",
    "codigos = [6,2,10,22,26,14,18,30,34,38,42,46,50,54,58,62,66,70,74,78,82,86,94,90]\n",
    "\n",
    "provincias_dict = {\n",
    "    'id_provincia': codigos,\n",
    "    'provincia': provincias_list\n",
    "}\n",
    "\n",
    "# Creo el Dataframe y paso a Letra Capital el campo Provincia\n",
    "provincias = pl.DataFrame(data=provincias_dict)\n",
    "provincias = provincias.with_columns(pl.col('provincia').str.to_titlecase().alias('provincia'))\n",
    "provincias = provincias.sort('id_provincia')\n",
    "\n",
    "# Normalizo los nombres de las Provincias en el archivo utilidades.py estan las variables que utilizo\n",
    "for i in range(len(reemplazar)):\n",
    "    provincias = provincias.with_columns(\n",
    "        pl.when(pl.col('provincia').is_in(reemplazar[i]))\n",
    "          .then(pl.lit(correcion[i]))\n",
    "          .otherwise(pl.col('provincia'))\n",
    "          .alias('provincia')\n",
    "    )\n",
    "\n",
    "provincias.head(1)"
   ]
  },
  {
   "cell_type": "markdown",
   "metadata": {},
   "source": [
    "Pensando a futuro, es probable que para objetos de visualizaciones necesitemos las coordenadas de las Provincias de Argentina. La manera mas ordenada de tener esa información pienso es en esta tabla"
   ]
  },
  {
   "cell_type": "code",
   "execution_count": 5,
   "metadata": {},
   "outputs": [],
   "source": [
    "# La funcion obtener_coordenadas se encuentra en el archivo utilidades.py \n",
    "coordenadas = obtener_coordenadas(provincias=provincias['provincia'].to_list())"
   ]
  },
  {
   "cell_type": "code",
   "execution_count": 7,
   "metadata": {},
   "outputs": [],
   "source": [
    "# Creo los campos dentro del dataframe\n",
    "provincias = provincias.with_columns([\n",
    "    pl.lit(0.0).alias('longitud'),\n",
    "    pl.lit(0.0).alias('latitud')\n",
    "])"
   ]
  },
  {
   "cell_type": "markdown",
   "metadata": {},
   "source": [
    "Añado las coordenadas obtenidas al dataframe"
   ]
  },
  {
   "cell_type": "code",
   "execution_count": null,
   "metadata": {},
   "outputs": [],
   "source": [
    "for diccionario in coordenadas:\n",
    "    provincias = provincias.with_columns([\n",
    "        pl.when(pl.col('provincia') == diccionario['provincia'])\n",
    "          .then(pl.lit(diccionario['longitud']))\n",
    "          .otherwise(pl.col('longitud'))\n",
    "          .alias('longitud'),\n",
    "        \n",
    "        pl.when(pl.col('provincia') == diccionario['provincia'])\n",
    "          .then(pl.lit(diccionario['latitud']))\n",
    "          .otherwise(pl.col('latitud'))\n",
    "          .alias('latitud')\n",
    "\n",
    "    ])\n",
    "provincias.head()"
   ]
  },
  {
   "cell_type": "code",
   "execution_count": 10,
   "metadata": {},
   "outputs": [],
   "source": [
    "del provincias_dict\n",
    "del provincias_list"
   ]
  },
  {
   "cell_type": "markdown",
   "metadata": {},
   "source": [
    "***\n",
    "## **Creando la Tabla `internet_pais`**\n",
    "Para la creacion de esta tabla necesito los siguientes datasets\n",
    "- Totales VMD\n",
    "- Penetracion-totales\n",
    "- Ingresos\n"
   ]
  },
  {
   "cell_type": "code",
   "execution_count": 4,
   "metadata": {},
   "outputs": [],
   "source": [
    "totales_VMD = pl.read_excel('datasets_iniciales/Internet.xlsx', sheet_name='Totales VMD')\n",
    "\n",
    "penetracion_totales = pl.read_excel('datasets_iniciales/Internet.xlsx', sheet_name='Penetracion-totales')\n",
    "# Por alguna razon en este dataset Año y trimestre los reconoce como string y debo castearlos a numericos\n",
    "penetracion_totales = penetracion_totales.with_columns(pl.col('Año').cast(pl.Int64).alias('Año'))\n",
    "penetracion_totales = penetracion_totales.with_columns(pl.col('Trimestre').cast(pl.Int64).alias('Trimestre'))\n",
    "\n",
    "ingresos = pl.read_excel('datasets_iniciales/Internet.xlsx', sheet_name='Ingresos ')"
   ]
  },
  {
   "cell_type": "code",
   "execution_count": 5,
   "metadata": {},
   "outputs": [
    {
     "data": {
      "text/html": [
       "<div><style>\n",
       ".dataframe > thead > tr,\n",
       ".dataframe > tbody > tr {\n",
       "  text-align: right;\n",
       "  white-space: pre-wrap;\n",
       "}\n",
       "</style>\n",
       "<small>shape: (1, 4)</small><table border=\"1\" class=\"dataframe\"><thead><tr><th>Año</th><th>Trimestre</th><th>Mbps (Media de bajada)</th><th>Trimestre_1</th></tr><tr><td>i64</td><td>i64</td><td>f64</td><td>str</td></tr></thead><tbody><tr><td>2024</td><td>1</td><td>139.15</td><td>&quot;Ene-Mar 2024&quot;</td></tr></tbody></table></div>"
      ],
      "text/plain": [
       "shape: (1, 4)\n",
       "┌──────┬───────────┬────────────────────────┬──────────────┐\n",
       "│ Año  ┆ Trimestre ┆ Mbps (Media de bajada) ┆ Trimestre_1  │\n",
       "│ ---  ┆ ---       ┆ ---                    ┆ ---          │\n",
       "│ i64  ┆ i64       ┆ f64                    ┆ str          │\n",
       "╞══════╪═══════════╪════════════════════════╪══════════════╡\n",
       "│ 2024 ┆ 1         ┆ 139.15                 ┆ Ene-Mar 2024 │\n",
       "└──────┴───────────┴────────────────────────┴──────────────┘"
      ]
     },
     "execution_count": 5,
     "metadata": {},
     "output_type": "execute_result"
    }
   ],
   "source": [
    "totales_VMD.head(1)"
   ]
  },
  {
   "cell_type": "code",
   "execution_count": 6,
   "metadata": {},
   "outputs": [
    {
     "data": {
      "text/html": [
       "<div><style>\n",
       ".dataframe > thead > tr,\n",
       ".dataframe > tbody > tr {\n",
       "  text-align: right;\n",
       "  white-space: pre-wrap;\n",
       "}\n",
       "</style>\n",
       "<small>shape: (1, 5)</small><table border=\"1\" class=\"dataframe\"><thead><tr><th>Año</th><th>Trimestre</th><th>Accesos por cada 100 hogares</th><th>Accesos por cada 100 hab</th><th>Periodo</th></tr><tr><td>i64</td><td>i64</td><td>f64</td><td>f64</td><td>str</td></tr></thead><tbody><tr><td>2024</td><td>1</td><td>78.89</td><td>24.79</td><td>&quot;Ene-Mar 2024&quot;</td></tr></tbody></table></div>"
      ],
      "text/plain": [
       "shape: (1, 5)\n",
       "┌──────┬───────────┬──────────────────────────────┬──────────────────────────┬──────────────┐\n",
       "│ Año  ┆ Trimestre ┆ Accesos por cada 100 hogares ┆ Accesos por cada 100 hab ┆ Periodo      │\n",
       "│ ---  ┆ ---       ┆ ---                          ┆ ---                      ┆ ---          │\n",
       "│ i64  ┆ i64       ┆ f64                          ┆ f64                      ┆ str          │\n",
       "╞══════╪═══════════╪══════════════════════════════╪══════════════════════════╪══════════════╡\n",
       "│ 2024 ┆ 1         ┆ 78.89                        ┆ 24.79                    ┆ Ene-Mar 2024 │\n",
       "└──────┴───────────┴──────────────────────────────┴──────────────────────────┴──────────────┘"
      ]
     },
     "execution_count": 6,
     "metadata": {},
     "output_type": "execute_result"
    }
   ],
   "source": [
    "penetracion_totales.head(1)"
   ]
  },
  {
   "cell_type": "code",
   "execution_count": 7,
   "metadata": {},
   "outputs": [
    {
     "data": {
      "text/html": [
       "<div><style>\n",
       ".dataframe > thead > tr,\n",
       ".dataframe > tbody > tr {\n",
       "  text-align: right;\n",
       "  white-space: pre-wrap;\n",
       "}\n",
       "</style>\n",
       "<small>shape: (1, 4)</small><table border=\"1\" class=\"dataframe\"><thead><tr><th>Año</th><th>Trimestre</th><th>Ingresos (miles de pesos)</th><th>Periodo</th></tr><tr><td>i64</td><td>i64</td><td>f64</td><td>str</td></tr></thead><tbody><tr><td>2024</td><td>1</td><td>2.8042e8</td><td>&quot;Ene-Mar 2024&quot;</td></tr></tbody></table></div>"
      ],
      "text/plain": [
       "shape: (1, 4)\n",
       "┌──────┬───────────┬───────────────────────────┬──────────────┐\n",
       "│ Año  ┆ Trimestre ┆ Ingresos (miles de pesos) ┆ Periodo      │\n",
       "│ ---  ┆ ---       ┆ ---                       ┆ ---          │\n",
       "│ i64  ┆ i64       ┆ f64                       ┆ str          │\n",
       "╞══════╪═══════════╪═══════════════════════════╪══════════════╡\n",
       "│ 2024 ┆ 1         ┆ 2.8042e8                  ┆ Ene-Mar 2024 │\n",
       "└──────┴───────────┴───────────────────────────┴──────────────┘"
      ]
     },
     "execution_count": 7,
     "metadata": {},
     "output_type": "execute_result"
    }
   ],
   "source": [
    "ingresos.head(1)"
   ]
  },
  {
   "cell_type": "markdown",
   "metadata": {},
   "source": [
    "Debo Crear una Columna a los 3 dataframes que me sirva para poder unir la información luego con un simple `Join`"
   ]
  },
  {
   "cell_type": "code",
   "execution_count": 8,
   "metadata": {},
   "outputs": [],
   "source": [
    "totales_VMD = totales_VMD.with_columns((pl.col('Año') * 100 + pl.col('Trimestre')).alias('id'))\n",
    "\n",
    "penetracion_totales = penetracion_totales.with_columns((pl.col('Año') * 100 + pl.col('Trimestre')).alias('id'))\n",
    "\n",
    "ingresos = ingresos.with_columns((pl.col('Año') * 100 + pl.col('Trimestre')).alias('id'))"
   ]
  },
  {
   "cell_type": "code",
   "execution_count": 10,
   "metadata": {},
   "outputs": [
    {
     "data": {
      "text/html": [
       "<div><style>\n",
       ".dataframe > thead > tr,\n",
       ".dataframe > tbody > tr {\n",
       "  text-align: right;\n",
       "  white-space: pre-wrap;\n",
       "}\n",
       "</style>\n",
       "<small>shape: (1, 5)</small><table border=\"1\" class=\"dataframe\"><thead><tr><th>Año</th><th>Trimestre</th><th>Mbps (Media de bajada)</th><th>Trimestre_1</th><th>id</th></tr><tr><td>i64</td><td>i64</td><td>f64</td><td>str</td><td>i64</td></tr></thead><tbody><tr><td>2024</td><td>1</td><td>139.15</td><td>&quot;Ene-Mar 2024&quot;</td><td>202401</td></tr></tbody></table></div>"
      ],
      "text/plain": [
       "shape: (1, 5)\n",
       "┌──────┬───────────┬────────────────────────┬──────────────┬────────┐\n",
       "│ Año  ┆ Trimestre ┆ Mbps (Media de bajada) ┆ Trimestre_1  ┆ id     │\n",
       "│ ---  ┆ ---       ┆ ---                    ┆ ---          ┆ ---    │\n",
       "│ i64  ┆ i64       ┆ f64                    ┆ str          ┆ i64    │\n",
       "╞══════╪═══════════╪════════════════════════╪══════════════╪════════╡\n",
       "│ 2024 ┆ 1         ┆ 139.15                 ┆ Ene-Mar 2024 ┆ 202401 │\n",
       "└──────┴───────────┴────────────────────────┴──────────────┴────────┘"
      ]
     },
     "execution_count": 10,
     "metadata": {},
     "output_type": "execute_result"
    }
   ],
   "source": [
    "totales_VMD.head(1)"
   ]
  },
  {
   "cell_type": "code",
   "execution_count": 11,
   "metadata": {},
   "outputs": [
    {
     "data": {
      "text/html": [
       "<div><style>\n",
       ".dataframe > thead > tr,\n",
       ".dataframe > tbody > tr {\n",
       "  text-align: right;\n",
       "  white-space: pre-wrap;\n",
       "}\n",
       "</style>\n",
       "<small>shape: (1, 6)</small><table border=\"1\" class=\"dataframe\"><thead><tr><th>Año</th><th>Trimestre</th><th>Accesos por cada 100 hogares</th><th>Accesos por cada 100 hab</th><th>Periodo</th><th>id</th></tr><tr><td>i64</td><td>i64</td><td>f64</td><td>f64</td><td>str</td><td>i64</td></tr></thead><tbody><tr><td>2024</td><td>1</td><td>78.89</td><td>24.79</td><td>&quot;Ene-Mar 2024&quot;</td><td>202401</td></tr></tbody></table></div>"
      ],
      "text/plain": [
       "shape: (1, 6)\n",
       "┌──────┬───────────┬──────────────────────┬──────────────────────────┬──────────────┬────────┐\n",
       "│ Año  ┆ Trimestre ┆ Accesos por cada 100 ┆ Accesos por cada 100 hab ┆ Periodo      ┆ id     │\n",
       "│ ---  ┆ ---       ┆ hogares              ┆ ---                      ┆ ---          ┆ ---    │\n",
       "│ i64  ┆ i64       ┆ ---                  ┆ f64                      ┆ str          ┆ i64    │\n",
       "│      ┆           ┆ f64                  ┆                          ┆              ┆        │\n",
       "╞══════╪═══════════╪══════════════════════╪══════════════════════════╪══════════════╪════════╡\n",
       "│ 2024 ┆ 1         ┆ 78.89                ┆ 24.79                    ┆ Ene-Mar 2024 ┆ 202401 │\n",
       "└──────┴───────────┴──────────────────────┴──────────────────────────┴──────────────┴────────┘"
      ]
     },
     "execution_count": 11,
     "metadata": {},
     "output_type": "execute_result"
    }
   ],
   "source": [
    "penetracion_totales.head(1)"
   ]
  },
  {
   "cell_type": "code",
   "execution_count": 12,
   "metadata": {},
   "outputs": [
    {
     "data": {
      "text/html": [
       "<div><style>\n",
       ".dataframe > thead > tr,\n",
       ".dataframe > tbody > tr {\n",
       "  text-align: right;\n",
       "  white-space: pre-wrap;\n",
       "}\n",
       "</style>\n",
       "<small>shape: (1, 5)</small><table border=\"1\" class=\"dataframe\"><thead><tr><th>Año</th><th>Trimestre</th><th>Ingresos (miles de pesos)</th><th>Periodo</th><th>id</th></tr><tr><td>i64</td><td>i64</td><td>f64</td><td>str</td><td>i64</td></tr></thead><tbody><tr><td>2024</td><td>1</td><td>2.8042e8</td><td>&quot;Ene-Mar 2024&quot;</td><td>202401</td></tr></tbody></table></div>"
      ],
      "text/plain": [
       "shape: (1, 5)\n",
       "┌──────┬───────────┬───────────────────────────┬──────────────┬────────┐\n",
       "│ Año  ┆ Trimestre ┆ Ingresos (miles de pesos) ┆ Periodo      ┆ id     │\n",
       "│ ---  ┆ ---       ┆ ---                       ┆ ---          ┆ ---    │\n",
       "│ i64  ┆ i64       ┆ f64                       ┆ str          ┆ i64    │\n",
       "╞══════╪═══════════╪═══════════════════════════╪══════════════╪════════╡\n",
       "│ 2024 ┆ 1         ┆ 2.8042e8                  ┆ Ene-Mar 2024 ┆ 202401 │\n",
       "└──────┴───────────┴───────────────────────────┴──────────────┴────────┘"
      ]
     },
     "execution_count": 12,
     "metadata": {},
     "output_type": "execute_result"
    }
   ],
   "source": [
    "ingresos.head(1)"
   ]
  },
  {
   "cell_type": "markdown",
   "metadata": {},
   "source": [
    "Ahora si puedo crear la tabla `internet_pais` a partir de cualquiera de estos dataframe y utilizar la columna `id` para aplicar `join` y recopilar la inf en un solo dataframe"
   ]
  },
  {
   "cell_type": "code",
   "execution_count": 13,
   "metadata": {},
   "outputs": [
    {
     "data": {
      "text/html": [
       "<div><style>\n",
       ".dataframe > thead > tr,\n",
       ".dataframe > tbody > tr {\n",
       "  text-align: right;\n",
       "  white-space: pre-wrap;\n",
       "}\n",
       "</style>\n",
       "<small>shape: (1, 7)</small><table border=\"1\" class=\"dataframe\"><thead><tr><th>id</th><th>Año</th><th>Trimestre</th><th>Periodo</th><th>Ingresos (miles de pesos)</th><th>Accesos por cada 100 hogares</th><th>Accesos por cada 100 hab</th></tr><tr><td>i64</td><td>i64</td><td>i64</td><td>str</td><td>f64</td><td>f64</td><td>f64</td></tr></thead><tbody><tr><td>202401</td><td>2024</td><td>1</td><td>&quot;Ene-Mar 2024&quot;</td><td>2.8042e8</td><td>78.89</td><td>24.79</td></tr></tbody></table></div>"
      ],
      "text/plain": [
       "shape: (1, 7)\n",
       "┌────────┬──────┬───────────┬──────────────┬────────────────────┬─────────────┬────────────────────┐\n",
       "│ id     ┆ Año  ┆ Trimestre ┆ Periodo      ┆ Ingresos (miles de ┆ Accesos por ┆ Accesos por cada   │\n",
       "│ ---    ┆ ---  ┆ ---       ┆ ---          ┆ pesos)             ┆ cada 100    ┆ 100 hab            │\n",
       "│ i64    ┆ i64  ┆ i64       ┆ str          ┆ ---                ┆ hogares     ┆ ---                │\n",
       "│        ┆      ┆           ┆              ┆ f64                ┆ ---         ┆ f64                │\n",
       "│        ┆      ┆           ┆              ┆                    ┆ f64         ┆                    │\n",
       "╞════════╪══════╪═══════════╪══════════════╪════════════════════╪═════════════╪════════════════════╡\n",
       "│ 202401 ┆ 2024 ┆ 1         ┆ Ene-Mar 2024 ┆ 2.8042e8           ┆ 78.89       ┆ 24.79              │\n",
       "└────────┴──────┴───────────┴──────────────┴────────────────────┴─────────────┴────────────────────┘"
      ]
     },
     "execution_count": 13,
     "metadata": {},
     "output_type": "execute_result"
    }
   ],
   "source": [
    "internet_pais = ingresos[['id','Año','Trimestre','Periodo','Ingresos (miles de pesos)']]\n",
    "\n",
    "internet_pais = internet_pais.join(\n",
    "    penetracion_totales[['id','Accesos por cada 100 hogares', 'Accesos por cada 100 hab']],\\\n",
    "    on='id', how='left', coalesce=True\n",
    ")\n",
    "\n",
    "internet_pais.head(1)"
   ]
  },
  {
   "cell_type": "code",
   "execution_count": 14,
   "metadata": {},
   "outputs": [
    {
     "data": {
      "text/html": [
       "<div><style>\n",
       ".dataframe > thead > tr,\n",
       ".dataframe > tbody > tr {\n",
       "  text-align: right;\n",
       "  white-space: pre-wrap;\n",
       "}\n",
       "</style>\n",
       "<small>shape: (1, 8)</small><table border=\"1\" class=\"dataframe\"><thead><tr><th>id</th><th>Año</th><th>Trimestre</th><th>Periodo</th><th>Ingresos (miles de pesos)</th><th>Accesos por cada 100 hogares</th><th>Accesos por cada 100 hab</th><th>Mbps (Media de bajada)</th></tr><tr><td>i64</td><td>i64</td><td>i64</td><td>str</td><td>f64</td><td>f64</td><td>f64</td><td>f64</td></tr></thead><tbody><tr><td>202401</td><td>2024</td><td>1</td><td>&quot;Ene-Mar 2024&quot;</td><td>2.8042e8</td><td>78.89</td><td>24.79</td><td>139.15</td></tr></tbody></table></div>"
      ],
      "text/plain": [
       "shape: (1, 8)\n",
       "┌────────┬──────┬───────────┬─────────┬───────────┬────────────────┬───────────────┬───────────────┐\n",
       "│ id     ┆ Año  ┆ Trimestre ┆ Periodo ┆ Ingresos  ┆ Accesos por    ┆ Accesos por   ┆ Mbps (Media   │\n",
       "│ ---    ┆ ---  ┆ ---       ┆ ---     ┆ (miles de ┆ cada 100       ┆ cada 100 hab  ┆ de bajada)    │\n",
       "│ i64    ┆ i64  ┆ i64       ┆ str     ┆ pesos)    ┆ hogares        ┆ ---           ┆ ---           │\n",
       "│        ┆      ┆           ┆         ┆ ---       ┆ ---            ┆ f64           ┆ f64           │\n",
       "│        ┆      ┆           ┆         ┆ f64       ┆ f64            ┆               ┆               │\n",
       "╞════════╪══════╪═══════════╪═════════╪═══════════╪════════════════╪═══════════════╪═══════════════╡\n",
       "│ 202401 ┆ 2024 ┆ 1         ┆ Ene-Mar ┆ 2.8042e8  ┆ 78.89          ┆ 24.79         ┆ 139.15        │\n",
       "│        ┆      ┆           ┆ 2024    ┆           ┆                ┆               ┆               │\n",
       "└────────┴──────┴───────────┴─────────┴───────────┴────────────────┴───────────────┴───────────────┘"
      ]
     },
     "execution_count": 14,
     "metadata": {},
     "output_type": "execute_result"
    }
   ],
   "source": [
    "internet_pais = internet_pais.join(totales_VMD[['id','Mbps (Media de bajada)']],\\\n",
    "                                   on='id', how='left', coalesce=True\n",
    ")\n",
    "internet_pais.head(1)"
   ]
  },
  {
   "cell_type": "markdown",
   "metadata": {},
   "source": [
    "Si renombramos las  columnas y eliminamos Periodo, ya tenemos la tabla `internet_pais`"
   ]
  },
  {
   "cell_type": "code",
   "execution_count": 15,
   "metadata": {},
   "outputs": [
    {
     "name": "stdout",
     "output_type": "stream",
     "text": [
      "Contidad de Registros 41\n"
     ]
    },
    {
     "data": {
      "text/html": [
       "<div><style>\n",
       ".dataframe > thead > tr,\n",
       ".dataframe > tbody > tr {\n",
       "  text-align: right;\n",
       "  white-space: pre-wrap;\n",
       "}\n",
       "</style>\n",
       "<small>shape: (5, 7)</small><table border=\"1\" class=\"dataframe\"><thead><tr><th>id</th><th>anio</th><th>trimestre</th><th>ingresos_miles</th><th>accesos_100_hog</th><th>accesos_100_hab</th><th>mbps_media_bajada</th></tr><tr><td>i64</td><td>i64</td><td>i64</td><td>f64</td><td>f64</td><td>f64</td><td>f64</td></tr></thead><tbody><tr><td>202401</td><td>2024</td><td>1</td><td>2.8042e8</td><td>78.89</td><td>24.79</td><td>139.15</td></tr><tr><td>202304</td><td>2023</td><td>4</td><td>1.6738e8</td><td>78.56</td><td>24.66</td><td>139.04</td></tr><tr><td>202303</td><td>2023</td><td>3</td><td>1.3311e8</td><td>77.84</td><td>24.41</td><td>129.67</td></tr><tr><td>202302</td><td>2023</td><td>2</td><td>1.1806e8</td><td>77.02</td><td>24.14</td><td>123.95</td></tr><tr><td>202301</td><td>2023</td><td>1</td><td>1.0413e8</td><td>77.2</td><td>24.17</td><td>110.5</td></tr></tbody></table></div>"
      ],
      "text/plain": [
       "shape: (5, 7)\n",
       "┌────────┬──────┬───────────┬────────────────┬─────────────────┬─────────────────┬─────────────────┐\n",
       "│ id     ┆ anio ┆ trimestre ┆ ingresos_miles ┆ accesos_100_hog ┆ accesos_100_hab ┆ mbps_media_baja │\n",
       "│ ---    ┆ ---  ┆ ---       ┆ ---            ┆ ---             ┆ ---             ┆ da              │\n",
       "│ i64    ┆ i64  ┆ i64       ┆ f64            ┆ f64             ┆ f64             ┆ ---             │\n",
       "│        ┆      ┆           ┆                ┆                 ┆                 ┆ f64             │\n",
       "╞════════╪══════╪═══════════╪════════════════╪═════════════════╪═════════════════╪═════════════════╡\n",
       "│ 202401 ┆ 2024 ┆ 1         ┆ 2.8042e8       ┆ 78.89           ┆ 24.79           ┆ 139.15          │\n",
       "│ 202304 ┆ 2023 ┆ 4         ┆ 1.6738e8       ┆ 78.56           ┆ 24.66           ┆ 139.04          │\n",
       "│ 202303 ┆ 2023 ┆ 3         ┆ 1.3311e8       ┆ 77.84           ┆ 24.41           ┆ 129.67          │\n",
       "│ 202302 ┆ 2023 ┆ 2         ┆ 1.1806e8       ┆ 77.02           ┆ 24.14           ┆ 123.95          │\n",
       "│ 202301 ┆ 2023 ┆ 1         ┆ 1.0413e8       ┆ 77.2            ┆ 24.17           ┆ 110.5           │\n",
       "└────────┴──────┴───────────┴────────────────┴─────────────────┴─────────────────┴─────────────────┘"
      ]
     },
     "execution_count": 15,
     "metadata": {},
     "output_type": "execute_result"
    }
   ],
   "source": [
    "internet_pais = internet_pais.drop('Periodo')\n",
    "internet_pais.columns = ['id','anio','trimestre','ingresos_miles','accesos_100_hog', 'accesos_100_hab', 'mbps_media_bajada']\n",
    "\n",
    "print(f'Contidad de Registros {internet_pais.shape[0]}')\n",
    "internet_pais.head(5)"
   ]
  },
  {
   "cell_type": "code",
   "execution_count": 16,
   "metadata": {},
   "outputs": [],
   "source": [
    "del penetracion_totales\n",
    "del totales_VMD\n",
    "del ingresos"
   ]
  },
  {
   "cell_type": "markdown",
   "metadata": {},
   "source": [
    "***\n",
    "## **Creando la Tabla `internet_provincia`**\n",
    "Para la creacion de esta tabla necesito los siguientes datasets\n",
    "- Penetracion-hogares\n",
    "- Penetración-poblacion\n",
    "- Velocidad % por prov\n",
    "- Dial-BAf"
   ]
  },
  {
   "cell_type": "code",
   "execution_count": 17,
   "metadata": {},
   "outputs": [],
   "source": [
    "penetracion_hogares = pl.read_excel('datasets_iniciales/Internet.xlsx', sheet_name='Penetracion-hogares')\n",
    "\n",
    "penetracion_poblacion = pl.read_excel('datasets_iniciales/Internet.xlsx', sheet_name='Penetración-poblacion')\n",
    "\n",
    "velocidad_porcent_por_prov = pl.read_excel('datasets_iniciales/Internet.xlsx', sheet_name='Velocidad % por prov')\n",
    "\n",
    "dial_BAf = pl.read_excel('datasets_iniciales/Internet.xlsx', sheet_name='Dial-BAf')"
   ]
  },
  {
   "cell_type": "code",
   "execution_count": 18,
   "metadata": {},
   "outputs": [
    {
     "data": {
      "text/html": [
       "<div><style>\n",
       ".dataframe > thead > tr,\n",
       ".dataframe > tbody > tr {\n",
       "  text-align: right;\n",
       "  white-space: pre-wrap;\n",
       "}\n",
       "</style>\n",
       "<small>shape: (1, 4)</small><table border=\"1\" class=\"dataframe\"><thead><tr><th>Año</th><th>Trimestre</th><th>Provincia</th><th>Accesos por cada 100 hogares</th></tr><tr><td>i64</td><td>i64</td><td>str</td><td>f64</td></tr></thead><tbody><tr><td>2024</td><td>1</td><td>&quot;Buenos Aires&quot;</td><td>81.1</td></tr></tbody></table></div>"
      ],
      "text/plain": [
       "shape: (1, 4)\n",
       "┌──────┬───────────┬──────────────┬──────────────────────────────┐\n",
       "│ Año  ┆ Trimestre ┆ Provincia    ┆ Accesos por cada 100 hogares │\n",
       "│ ---  ┆ ---       ┆ ---          ┆ ---                          │\n",
       "│ i64  ┆ i64       ┆ str          ┆ f64                          │\n",
       "╞══════╪═══════════╪══════════════╪══════════════════════════════╡\n",
       "│ 2024 ┆ 1         ┆ Buenos Aires ┆ 81.1                         │\n",
       "└──────┴───────────┴──────────────┴──────────────────────────────┘"
      ]
     },
     "execution_count": 18,
     "metadata": {},
     "output_type": "execute_result"
    }
   ],
   "source": [
    "penetracion_hogares.head(1)"
   ]
  },
  {
   "cell_type": "code",
   "execution_count": 19,
   "metadata": {},
   "outputs": [
    {
     "data": {
      "text/html": [
       "<div><style>\n",
       ".dataframe > thead > tr,\n",
       ".dataframe > tbody > tr {\n",
       "  text-align: right;\n",
       "  white-space: pre-wrap;\n",
       "}\n",
       "</style>\n",
       "<small>shape: (1, 4)</small><table border=\"1\" class=\"dataframe\"><thead><tr><th>Año</th><th>Trimestre</th><th>Provincia</th><th>Accesos por cada 100 hab</th></tr><tr><td>i64</td><td>i64</td><td>str</td><td>f64</td></tr></thead><tbody><tr><td>2024</td><td>1</td><td>&quot;Buenos Aires&quot;</td><td>27.8</td></tr></tbody></table></div>"
      ],
      "text/plain": [
       "shape: (1, 4)\n",
       "┌──────┬───────────┬──────────────┬──────────────────────────┐\n",
       "│ Año  ┆ Trimestre ┆ Provincia    ┆ Accesos por cada 100 hab │\n",
       "│ ---  ┆ ---       ┆ ---          ┆ ---                      │\n",
       "│ i64  ┆ i64       ┆ str          ┆ f64                      │\n",
       "╞══════╪═══════════╪══════════════╪══════════════════════════╡\n",
       "│ 2024 ┆ 1         ┆ Buenos Aires ┆ 27.8                     │\n",
       "└──────┴───────────┴──────────────┴──────────────────────────┘"
      ]
     },
     "execution_count": 19,
     "metadata": {},
     "output_type": "execute_result"
    }
   ],
   "source": [
    "penetracion_poblacion.head(1)"
   ]
  },
  {
   "cell_type": "code",
   "execution_count": 20,
   "metadata": {},
   "outputs": [
    {
     "data": {
      "text/html": [
       "<div><style>\n",
       ".dataframe > thead > tr,\n",
       ".dataframe > tbody > tr {\n",
       "  text-align: right;\n",
       "  white-space: pre-wrap;\n",
       "}\n",
       "</style>\n",
       "<small>shape: (1, 4)</small><table border=\"1\" class=\"dataframe\"><thead><tr><th>Año</th><th>Trimestre</th><th>Provincia</th><th>Mbps (Media de bajada)</th></tr><tr><td>i64</td><td>i64</td><td>str</td><td>f64</td></tr></thead><tbody><tr><td>2024</td><td>1</td><td>&quot;Buenos Aires&quot;</td><td>159.13</td></tr></tbody></table></div>"
      ],
      "text/plain": [
       "shape: (1, 4)\n",
       "┌──────┬───────────┬──────────────┬────────────────────────┐\n",
       "│ Año  ┆ Trimestre ┆ Provincia    ┆ Mbps (Media de bajada) │\n",
       "│ ---  ┆ ---       ┆ ---          ┆ ---                    │\n",
       "│ i64  ┆ i64       ┆ str          ┆ f64                    │\n",
       "╞══════╪═══════════╪══════════════╪════════════════════════╡\n",
       "│ 2024 ┆ 1         ┆ Buenos Aires ┆ 159.13                 │\n",
       "└──────┴───────────┴──────────────┴────────────────────────┘"
      ]
     },
     "execution_count": 20,
     "metadata": {},
     "output_type": "execute_result"
    }
   ],
   "source": [
    "velocidad_porcent_por_prov.head(1)"
   ]
  },
  {
   "cell_type": "code",
   "execution_count": 21,
   "metadata": {},
   "outputs": [
    {
     "data": {
      "text/html": [
       "<div><style>\n",
       ".dataframe > thead > tr,\n",
       ".dataframe > tbody > tr {\n",
       "  text-align: right;\n",
       "  white-space: pre-wrap;\n",
       "}\n",
       "</style>\n",
       "<small>shape: (1, 6)</small><table border=\"1\" class=\"dataframe\"><thead><tr><th>Año</th><th>Trimestre</th><th>Provincia</th><th>Banda ancha fija</th><th>Dial up</th><th>Total</th></tr><tr><td>i64</td><td>i64</td><td>str</td><td>i64</td><td>i64</td><td>i64</td></tr></thead><tbody><tr><td>2024</td><td>1</td><td>&quot;Buenos Aires&quot;</td><td>5038657</td><td>5900</td><td>5044557</td></tr></tbody></table></div>"
      ],
      "text/plain": [
       "shape: (1, 6)\n",
       "┌──────┬───────────┬──────────────┬──────────────────┬─────────┬─────────┐\n",
       "│ Año  ┆ Trimestre ┆ Provincia    ┆ Banda ancha fija ┆ Dial up ┆ Total   │\n",
       "│ ---  ┆ ---       ┆ ---          ┆ ---              ┆ ---     ┆ ---     │\n",
       "│ i64  ┆ i64       ┆ str          ┆ i64              ┆ i64     ┆ i64     │\n",
       "╞══════╪═══════════╪══════════════╪══════════════════╪═════════╪═════════╡\n",
       "│ 2024 ┆ 1         ┆ Buenos Aires ┆ 5038657          ┆ 5900    ┆ 5044557 │\n",
       "└──────┴───────────┴──────────────┴──────────────────┴─────────┴─────────┘"
      ]
     },
     "execution_count": 21,
     "metadata": {},
     "output_type": "execute_result"
    }
   ],
   "source": [
    "dial_BAf.head(1)"
   ]
  },
  {
   "cell_type": "markdown",
   "metadata": {},
   "source": [
    "Debo estar seguro de que los nombres de Provincia en los 4 dataframe anteriores coinciden exactamente para poder juntar la información, para ello voy a normalizar los nombres de esa columna con las variables `reemplazar` y `correccion` y luego introduciré el `id_provincia` de la tabla `provincia`, una vez que logré hacer esto a cabalidad estaré seguro de dar el siguiente paso. "
   ]
  },
  {
   "cell_type": "code",
   "execution_count": 22,
   "metadata": {},
   "outputs": [],
   "source": [
    "# Normalizando los nombres de las Provincias en los 4 dataframe\n",
    "for i in range(len(reemplazar)):\n",
    "    penetracion_hogares = penetracion_hogares.with_columns(\n",
    "        pl.when(pl.col('Provincia').is_in(reemplazar[i]))\n",
    "          .then(pl.lit(correcion[i]))\n",
    "          .otherwise(pl.col('Provincia'))\n",
    "          .alias('Provincia')\n",
    "    )\n",
    "\n",
    "    penetracion_poblacion = penetracion_poblacion.with_columns(\n",
    "        pl.when(pl.col('Provincia').is_in(reemplazar[i]))\n",
    "          .then(pl.lit(correcion[i]))\n",
    "          .otherwise(pl.col('Provincia'))\n",
    "          .alias('Provincia')\n",
    "    )\n",
    "\n",
    "    dial_BAf = dial_BAf.with_columns(\n",
    "        pl.when(pl.col('Provincia').is_in(reemplazar[i]))\n",
    "          .then(pl.lit(correcion[i]))\n",
    "          .otherwise(pl.col('Provincia'))\n",
    "          .alias('Provincia')\n",
    "    )\n",
    "\n",
    "    velocidad_porcent_por_prov = velocidad_porcent_por_prov.with_columns(\n",
    "        pl.when(pl.col('Provincia').is_in(reemplazar[i]))\n",
    "          .then(pl.lit(correcion[i]))\n",
    "          .otherwise(pl.col('Provincia'))\n",
    "          .alias('Provincia')\n",
    "    )"
   ]
  },
  {
   "cell_type": "markdown",
   "metadata": {},
   "source": [
    "Necesito introducir en cada uno de estos dataframe el `id_provincia`, pero para esto es imprescindible que coincidan los nombres de las columnas provincia de todas las tablas"
   ]
  },
  {
   "cell_type": "code",
   "execution_count": 23,
   "metadata": {},
   "outputs": [],
   "source": [
    "# Cambiando de Provincia a provincia en todos los dataframes\n",
    "penetracion_hogares = penetracion_hogares.rename({'Provincia': 'provincia'})\n",
    "\n",
    "penetracion_poblacion = penetracion_poblacion.rename({'Provincia': 'provincia'})\n",
    "\n",
    "dial_BAf = dial_BAf.rename({'Provincia': 'provincia'})\n",
    "\n",
    "velocidad_porcent_por_prov = velocidad_porcent_por_prov.rename({'Provincia': 'provincia'})"
   ]
  },
  {
   "cell_type": "markdown",
   "metadata": {},
   "source": [
    "incorporo a todos el `id_provincia`"
   ]
  },
  {
   "cell_type": "code",
   "execution_count": 24,
   "metadata": {},
   "outputs": [],
   "source": [
    "penetracion_hogares = penetracion_hogares.join(\n",
    "    provincias[['id_provincia','provincia']], on='provincia', how='left', coalesce=True \n",
    ")\n",
    "\n",
    "penetracion_poblacion = penetracion_poblacion.join(\n",
    "    provincias[['id_provincia','provincia']], on='provincia', how='left', coalesce=True \n",
    ")\n",
    "\n",
    "dial_BAf = dial_BAf.join(\n",
    "    provincias[['id_provincia','provincia']], on='provincia', how='left', coalesce=True \n",
    ")\n",
    "\n",
    "velocidad_porcent_por_prov = velocidad_porcent_por_prov.join(\n",
    "    provincias[['id_provincia','provincia']], on='provincia', how='left', coalesce=True \n",
    ")"
   ]
  },
  {
   "cell_type": "markdown",
   "metadata": {},
   "source": [
    "Ahora creo la columna `id` por donde voy a hacer los `join`\n"
   ]
  },
  {
   "cell_type": "code",
   "execution_count": 25,
   "metadata": {},
   "outputs": [],
   "source": [
    "'''\n",
    "Ejemplo:\n",
    "Año 2024, Trimestre 1, id_provincia 2\n",
    "(2024 * 100000) + (1 * 1000) + (2)  ==> id = 202401002\n",
    "'''\n",
    "\n",
    "penetracion_hogares = penetracion_hogares.with_columns(\n",
    "    ((pl.col('Año') * 100000) + (pl.col('Trimestre') * 1000) + (pl.col('id_provincia'))).alias('id')\n",
    ")\n",
    "\n",
    "penetracion_poblacion = penetracion_poblacion.with_columns(\n",
    "    ((pl.col('Año') * 100000) + (pl.col('Trimestre') * 1000) + (pl.col('id_provincia'))).alias('id')\n",
    ")\n",
    "\n",
    "dial_BAf = dial_BAf.with_columns(\n",
    "    ((pl.col('Año') * 100000) + (pl.col('Trimestre') * 1000) + (pl.col('id_provincia'))).alias('id')\n",
    ")\n",
    "\n",
    "velocidad_porcent_por_prov = velocidad_porcent_por_prov.with_columns(\n",
    "    ((pl.col('Año') * 100000) + (pl.col('Trimestre') * 1000) + (pl.col('id_provincia'))).alias('id')\n",
    ")"
   ]
  },
  {
   "cell_type": "code",
   "execution_count": 26,
   "metadata": {},
   "outputs": [
    {
     "data": {
      "text/html": [
       "<div><style>\n",
       ".dataframe > thead > tr,\n",
       ".dataframe > tbody > tr {\n",
       "  text-align: right;\n",
       "  white-space: pre-wrap;\n",
       "}\n",
       "</style>\n",
       "<small>shape: (1, 6)</small><table border=\"1\" class=\"dataframe\"><thead><tr><th>Año</th><th>Trimestre</th><th>provincia</th><th>Accesos por cada 100 hab</th><th>id_provincia</th><th>id</th></tr><tr><td>i64</td><td>i64</td><td>str</td><td>f64</td><td>i64</td><td>i64</td></tr></thead><tbody><tr><td>2024</td><td>1</td><td>&quot;Buenos Aires&quot;</td><td>27.8</td><td>6</td><td>202401006</td></tr></tbody></table></div>"
      ],
      "text/plain": [
       "shape: (1, 6)\n",
       "┌──────┬───────────┬──────────────┬──────────────────────────┬──────────────┬───────────┐\n",
       "│ Año  ┆ Trimestre ┆ provincia    ┆ Accesos por cada 100 hab ┆ id_provincia ┆ id        │\n",
       "│ ---  ┆ ---       ┆ ---          ┆ ---                      ┆ ---          ┆ ---       │\n",
       "│ i64  ┆ i64       ┆ str          ┆ f64                      ┆ i64          ┆ i64       │\n",
       "╞══════╪═══════════╪══════════════╪══════════════════════════╪══════════════╪═══════════╡\n",
       "│ 2024 ┆ 1         ┆ Buenos Aires ┆ 27.8                     ┆ 6            ┆ 202401006 │\n",
       "└──────┴───────────┴──────────────┴──────────────────────────┴──────────────┴───────────┘"
      ]
     },
     "execution_count": 26,
     "metadata": {},
     "output_type": "execute_result"
    }
   ],
   "source": [
    "penetracion_poblacion.head(1)"
   ]
  },
  {
   "cell_type": "code",
   "execution_count": 27,
   "metadata": {},
   "outputs": [
    {
     "data": {
      "text/html": [
       "<div><style>\n",
       ".dataframe > thead > tr,\n",
       ".dataframe > tbody > tr {\n",
       "  text-align: right;\n",
       "  white-space: pre-wrap;\n",
       "}\n",
       "</style>\n",
       "<small>shape: (1, 6)</small><table border=\"1\" class=\"dataframe\"><thead><tr><th>Año</th><th>Trimestre</th><th>provincia</th><th>Accesos por cada 100 hogares</th><th>id_provincia</th><th>id</th></tr><tr><td>i64</td><td>i64</td><td>str</td><td>f64</td><td>i64</td><td>i64</td></tr></thead><tbody><tr><td>2024</td><td>1</td><td>&quot;Buenos Aires&quot;</td><td>81.1</td><td>6</td><td>202401006</td></tr></tbody></table></div>"
      ],
      "text/plain": [
       "shape: (1, 6)\n",
       "┌──────┬───────────┬──────────────┬──────────────────────────────┬──────────────┬───────────┐\n",
       "│ Año  ┆ Trimestre ┆ provincia    ┆ Accesos por cada 100 hogares ┆ id_provincia ┆ id        │\n",
       "│ ---  ┆ ---       ┆ ---          ┆ ---                          ┆ ---          ┆ ---       │\n",
       "│ i64  ┆ i64       ┆ str          ┆ f64                          ┆ i64          ┆ i64       │\n",
       "╞══════╪═══════════╪══════════════╪══════════════════════════════╪══════════════╪═══════════╡\n",
       "│ 2024 ┆ 1         ┆ Buenos Aires ┆ 81.1                         ┆ 6            ┆ 202401006 │\n",
       "└──────┴───────────┴──────────────┴──────────────────────────────┴──────────────┴───────────┘"
      ]
     },
     "execution_count": 27,
     "metadata": {},
     "output_type": "execute_result"
    }
   ],
   "source": [
    "penetracion_hogares.head(1)"
   ]
  },
  {
   "cell_type": "code",
   "execution_count": 28,
   "metadata": {},
   "outputs": [
    {
     "data": {
      "text/html": [
       "<div><style>\n",
       ".dataframe > thead > tr,\n",
       ".dataframe > tbody > tr {\n",
       "  text-align: right;\n",
       "  white-space: pre-wrap;\n",
       "}\n",
       "</style>\n",
       "<small>shape: (1, 8)</small><table border=\"1\" class=\"dataframe\"><thead><tr><th>Año</th><th>Trimestre</th><th>provincia</th><th>Banda ancha fija</th><th>Dial up</th><th>Total</th><th>id_provincia</th><th>id</th></tr><tr><td>i64</td><td>i64</td><td>str</td><td>i64</td><td>i64</td><td>i64</td><td>i64</td><td>i64</td></tr></thead><tbody><tr><td>2024</td><td>1</td><td>&quot;Buenos Aires&quot;</td><td>5038657</td><td>5900</td><td>5044557</td><td>6</td><td>202401006</td></tr></tbody></table></div>"
      ],
      "text/plain": [
       "shape: (1, 8)\n",
       "┌──────┬───────────┬──────────────┬─────────────┬─────────┬─────────┬──────────────┬───────────┐\n",
       "│ Año  ┆ Trimestre ┆ provincia    ┆ Banda ancha ┆ Dial up ┆ Total   ┆ id_provincia ┆ id        │\n",
       "│ ---  ┆ ---       ┆ ---          ┆ fija        ┆ ---     ┆ ---     ┆ ---          ┆ ---       │\n",
       "│ i64  ┆ i64       ┆ str          ┆ ---         ┆ i64     ┆ i64     ┆ i64          ┆ i64       │\n",
       "│      ┆           ┆              ┆ i64         ┆         ┆         ┆              ┆           │\n",
       "╞══════╪═══════════╪══════════════╪═════════════╪═════════╪═════════╪══════════════╪═══════════╡\n",
       "│ 2024 ┆ 1         ┆ Buenos Aires ┆ 5038657     ┆ 5900    ┆ 5044557 ┆ 6            ┆ 202401006 │\n",
       "└──────┴───────────┴──────────────┴─────────────┴─────────┴─────────┴──────────────┴───────────┘"
      ]
     },
     "execution_count": 28,
     "metadata": {},
     "output_type": "execute_result"
    }
   ],
   "source": [
    "dial_BAf.head(1)"
   ]
  },
  {
   "cell_type": "code",
   "execution_count": 29,
   "metadata": {},
   "outputs": [
    {
     "data": {
      "text/html": [
       "<div><style>\n",
       ".dataframe > thead > tr,\n",
       ".dataframe > tbody > tr {\n",
       "  text-align: right;\n",
       "  white-space: pre-wrap;\n",
       "}\n",
       "</style>\n",
       "<small>shape: (1, 6)</small><table border=\"1\" class=\"dataframe\"><thead><tr><th>Año</th><th>Trimestre</th><th>provincia</th><th>Mbps (Media de bajada)</th><th>id_provincia</th><th>id</th></tr><tr><td>i64</td><td>i64</td><td>str</td><td>f64</td><td>i64</td><td>i64</td></tr></thead><tbody><tr><td>2024</td><td>1</td><td>&quot;Buenos Aires&quot;</td><td>159.13</td><td>6</td><td>202401006</td></tr></tbody></table></div>"
      ],
      "text/plain": [
       "shape: (1, 6)\n",
       "┌──────┬───────────┬──────────────┬────────────────────────┬──────────────┬───────────┐\n",
       "│ Año  ┆ Trimestre ┆ provincia    ┆ Mbps (Media de bajada) ┆ id_provincia ┆ id        │\n",
       "│ ---  ┆ ---       ┆ ---          ┆ ---                    ┆ ---          ┆ ---       │\n",
       "│ i64  ┆ i64       ┆ str          ┆ f64                    ┆ i64          ┆ i64       │\n",
       "╞══════╪═══════════╪══════════════╪════════════════════════╪══════════════╪═══════════╡\n",
       "│ 2024 ┆ 1         ┆ Buenos Aires ┆ 159.13                 ┆ 6            ┆ 202401006 │\n",
       "└──────┴───────────┴──────────────┴────────────────────────┴──────────────┴───────────┘"
      ]
     },
     "execution_count": 29,
     "metadata": {},
     "output_type": "execute_result"
    }
   ],
   "source": [
    "velocidad_porcent_por_prov.head(1)"
   ]
  },
  {
   "cell_type": "markdown",
   "metadata": {},
   "source": [
    "Ahora si puedo crear la tabla `internet_provincia` a partir de cualquiera de estos dataframe y utilizar la columna `id` para aplicar `join` y recopilar la inf en un solo dataframe"
   ]
  },
  {
   "cell_type": "code",
   "execution_count": 30,
   "metadata": {},
   "outputs": [
    {
     "data": {
      "text/html": [
       "<div><style>\n",
       ".dataframe > thead > tr,\n",
       ".dataframe > tbody > tr {\n",
       "  text-align: right;\n",
       "  white-space: pre-wrap;\n",
       "}\n",
       "</style>\n",
       "<small>shape: (5, 9)</small><table border=\"1\" class=\"dataframe\"><thead><tr><th>id</th><th>Año</th><th>Trimestre</th><th>id_provincia</th><th>Mbps (Media de bajada)</th><th>Accesos por cada 100 hogares</th><th>Accesos por cada 100 hab</th><th>Banda ancha fija</th><th>Dial up</th></tr><tr><td>i64</td><td>i64</td><td>i64</td><td>i64</td><td>f64</td><td>f64</td><td>f64</td><td>i64</td><td>i64</td></tr></thead><tbody><tr><td>202401006</td><td>2024</td><td>1</td><td>6</td><td>159.13</td><td>81.1</td><td>27.8</td><td>5038657</td><td>5900</td></tr><tr><td>202401002</td><td>2024</td><td>1</td><td>2</td><td>229.94</td><td>119.53</td><td>48.78</td><td>1502661</td><td>2050</td></tr><tr><td>202401010</td><td>2024</td><td>1</td><td>10</td><td>91.45</td><td>68.82</td><td>17.5</td><td>74932</td><td>1</td></tr><tr><td>202401022</td><td>2024</td><td>1</td><td>22</td><td>107.51</td><td>46.7</td><td>12.48</td><td>155538</td><td>5</td></tr><tr><td>202401026</td><td>2024</td><td>1</td><td>26</td><td>20.5</td><td>84.89</td><td>26.02</td><td>169819</td><td>857</td></tr></tbody></table></div>"
      ],
      "text/plain": [
       "shape: (5, 9)\n",
       "┌───────────┬──────┬───────────┬─────────────┬───┬─────────────┬────────────┬────────────┬─────────┐\n",
       "│ id        ┆ Año  ┆ Trimestre ┆ id_provinci ┆ … ┆ Accesos por ┆ Accesos    ┆ Banda      ┆ Dial up │\n",
       "│ ---       ┆ ---  ┆ ---       ┆ a           ┆   ┆ cada 100    ┆ por cada   ┆ ancha fija ┆ ---     │\n",
       "│ i64       ┆ i64  ┆ i64       ┆ ---         ┆   ┆ hogares     ┆ 100 hab    ┆ ---        ┆ i64     │\n",
       "│           ┆      ┆           ┆ i64         ┆   ┆ ---         ┆ ---        ┆ i64        ┆         │\n",
       "│           ┆      ┆           ┆             ┆   ┆ f64         ┆ f64        ┆            ┆         │\n",
       "╞═══════════╪══════╪═══════════╪═════════════╪═══╪═════════════╪════════════╪════════════╪═════════╡\n",
       "│ 202401006 ┆ 2024 ┆ 1         ┆ 6           ┆ … ┆ 81.1        ┆ 27.8       ┆ 5038657    ┆ 5900    │\n",
       "│ 202401002 ┆ 2024 ┆ 1         ┆ 2           ┆ … ┆ 119.53      ┆ 48.78      ┆ 1502661    ┆ 2050    │\n",
       "│ 202401010 ┆ 2024 ┆ 1         ┆ 10          ┆ … ┆ 68.82       ┆ 17.5       ┆ 74932      ┆ 1       │\n",
       "│ 202401022 ┆ 2024 ┆ 1         ┆ 22          ┆ … ┆ 46.7        ┆ 12.48      ┆ 155538     ┆ 5       │\n",
       "│ 202401026 ┆ 2024 ┆ 1         ┆ 26          ┆ … ┆ 84.89       ┆ 26.02      ┆ 169819     ┆ 857     │\n",
       "└───────────┴──────┴───────────┴─────────────┴───┴─────────────┴────────────┴────────────┴─────────┘"
      ]
     },
     "execution_count": 30,
     "metadata": {},
     "output_type": "execute_result"
    }
   ],
   "source": [
    "internet_provincia = velocidad_porcent_por_prov[['id', 'Año', 'Trimestre', 'id_provincia', 'Mbps (Media de bajada)']]\n",
    "\n",
    "internet_provincia = internet_provincia.join(\n",
    "    penetracion_hogares[['id', 'Accesos por cada 100 hogares']], on='id', how='left', coalesce=True\n",
    ")\n",
    "\n",
    "internet_provincia = internet_provincia.join(\n",
    "    penetracion_poblacion[['id', 'Accesos por cada 100 hab']], on='id', how='left', coalesce=True\n",
    ")\n",
    "\n",
    "internet_provincia = internet_provincia.join(\n",
    "    dial_BAf[['id', 'Banda ancha fija', 'Dial up']], on='id', how='left', coalesce=True\n",
    ")\n",
    "\n",
    "internet_provincia.head()"
   ]
  },
  {
   "cell_type": "markdown",
   "metadata": {},
   "source": [
    "vamos a renombrar las columnas de la tabla `internet_provincia`"
   ]
  },
  {
   "cell_type": "code",
   "execution_count": 31,
   "metadata": {},
   "outputs": [
    {
     "data": {
      "text/html": [
       "<div><style>\n",
       ".dataframe > thead > tr,\n",
       ".dataframe > tbody > tr {\n",
       "  text-align: right;\n",
       "  white-space: pre-wrap;\n",
       "}\n",
       "</style>\n",
       "<small>shape: (5, 9)</small><table border=\"1\" class=\"dataframe\"><thead><tr><th>id</th><th>anio</th><th>trimestre</th><th>id_provincia</th><th>mbps_media_bajada</th><th>accesos_100_hog</th><th>accesos_100_hab</th><th>accesos_banda_ancha</th><th>accesos_dial_up</th></tr><tr><td>i64</td><td>i64</td><td>i64</td><td>i64</td><td>f64</td><td>f64</td><td>f64</td><td>i64</td><td>i64</td></tr></thead><tbody><tr><td>202401006</td><td>2024</td><td>1</td><td>6</td><td>159.13</td><td>81.1</td><td>27.8</td><td>5038657</td><td>5900</td></tr><tr><td>202401002</td><td>2024</td><td>1</td><td>2</td><td>229.94</td><td>119.53</td><td>48.78</td><td>1502661</td><td>2050</td></tr><tr><td>202401010</td><td>2024</td><td>1</td><td>10</td><td>91.45</td><td>68.82</td><td>17.5</td><td>74932</td><td>1</td></tr><tr><td>202401022</td><td>2024</td><td>1</td><td>22</td><td>107.51</td><td>46.7</td><td>12.48</td><td>155538</td><td>5</td></tr><tr><td>202401026</td><td>2024</td><td>1</td><td>26</td><td>20.5</td><td>84.89</td><td>26.02</td><td>169819</td><td>857</td></tr></tbody></table></div>"
      ],
      "text/plain": [
       "shape: (5, 9)\n",
       "┌───────────┬──────┬───────────┬────────────┬───┬────────────┬────────────┬────────────┬───────────┐\n",
       "│ id        ┆ anio ┆ trimestre ┆ id_provinc ┆ … ┆ accesos_10 ┆ accesos_10 ┆ accesos_ba ┆ accesos_d │\n",
       "│ ---       ┆ ---  ┆ ---       ┆ ia         ┆   ┆ 0_hog      ┆ 0_hab      ┆ nda_ancha  ┆ ial_up    │\n",
       "│ i64       ┆ i64  ┆ i64       ┆ ---        ┆   ┆ ---        ┆ ---        ┆ ---        ┆ ---       │\n",
       "│           ┆      ┆           ┆ i64        ┆   ┆ f64        ┆ f64        ┆ i64        ┆ i64       │\n",
       "╞═══════════╪══════╪═══════════╪════════════╪═══╪════════════╪════════════╪════════════╪═══════════╡\n",
       "│ 202401006 ┆ 2024 ┆ 1         ┆ 6          ┆ … ┆ 81.1       ┆ 27.8       ┆ 5038657    ┆ 5900      │\n",
       "│ 202401002 ┆ 2024 ┆ 1         ┆ 2          ┆ … ┆ 119.53     ┆ 48.78      ┆ 1502661    ┆ 2050      │\n",
       "│ 202401010 ┆ 2024 ┆ 1         ┆ 10         ┆ … ┆ 68.82      ┆ 17.5       ┆ 74932      ┆ 1         │\n",
       "│ 202401022 ┆ 2024 ┆ 1         ┆ 22         ┆ … ┆ 46.7       ┆ 12.48      ┆ 155538     ┆ 5         │\n",
       "│ 202401026 ┆ 2024 ┆ 1         ┆ 26         ┆ … ┆ 84.89      ┆ 26.02      ┆ 169819     ┆ 857       │\n",
       "└───────────┴──────┴───────────┴────────────┴───┴────────────┴────────────┴────────────┴───────────┘"
      ]
     },
     "execution_count": 31,
     "metadata": {},
     "output_type": "execute_result"
    }
   ],
   "source": [
    "columns = ['id', 'anio', 'trimestre', 'id_provincia', 'mbps_media_bajada', 'accesos_100_hog',\n",
    "           'accesos_100_hab', 'accesos_banda_ancha', 'accesos_dial_up']\n",
    "\n",
    "internet_provincia.columns = columns\n",
    "\n",
    "internet_provincia.head(5)"
   ]
  },
  {
   "cell_type": "markdown",
   "metadata": {},
   "source": [
    "Hay algunos nulos que van a provocar errores al vaciar la data en una tabla sql"
   ]
  },
  {
   "cell_type": "code",
   "execution_count": 32,
   "metadata": {},
   "outputs": [
    {
     "name": "stdout",
     "output_type": "stream",
     "text": [
      "Column ----> id\n",
      "Nulos ----> 0\n",
      "********************************************************************************\n",
      "Column ----> anio\n",
      "Nulos ----> 0\n",
      "********************************************************************************\n",
      "Column ----> trimestre\n",
      "Nulos ----> 0\n",
      "********************************************************************************\n",
      "Column ----> id_provincia\n",
      "Nulos ----> 0\n",
      "********************************************************************************\n",
      "Column ----> mbps_media_bajada\n",
      "Nulos ----> 0\n",
      "********************************************************************************\n",
      "Column ----> accesos_100_hog\n",
      "Nulos ----> 0\n",
      "********************************************************************************\n",
      "Column ----> accesos_100_hab\n",
      "Nulos ----> 0\n",
      "********************************************************************************\n",
      "Column ----> accesos_banda_ancha\n",
      "Nulos ----> 0\n",
      "********************************************************************************\n",
      "Column ----> accesos_dial_up\n",
      "Nulos ----> 2\n",
      "********************************************************************************\n"
     ]
    }
   ],
   "source": [
    "for column in internet_provincia.columns:\n",
    "    print(f'Column ----> {column}')\n",
    "    print(f'Nulos ----> {internet_provincia[column].is_null().sum()}')\n",
    "    print('*'*80)"
   ]
  },
  {
   "cell_type": "markdown",
   "metadata": {},
   "source": [
    "Veamos si es Normal dentro de esta columna tener valores con 0"
   ]
  },
  {
   "cell_type": "code",
   "execution_count": 33,
   "metadata": {},
   "outputs": [
    {
     "name": "stdout",
     "output_type": "stream",
     "text": [
      "Cantidad de Registros con 0 en columna \"accesos_dial_up\" --> 80\n"
     ]
    }
   ],
   "source": [
    "mask = internet_provincia['accesos_dial_up'] == 0\n",
    "print(f'Cantidad de Registros con 0 en columna \"accesos_dial_up\" --> {internet_provincia.filter(mask).shape[0]}')"
   ]
  },
  {
   "cell_type": "markdown",
   "metadata": {},
   "source": [
    "Pasamos a 0 estos 2 registros que vinieron en Blanco y los tomó como Nulos y ya estaría lista la tabla"
   ]
  },
  {
   "cell_type": "code",
   "execution_count": 34,
   "metadata": {},
   "outputs": [
    {
     "data": {
      "text/html": [
       "<div><style>\n",
       ".dataframe > thead > tr,\n",
       ".dataframe > tbody > tr {\n",
       "  text-align: right;\n",
       "  white-space: pre-wrap;\n",
       "}\n",
       "</style>\n",
       "<small>shape: (5, 9)</small><table border=\"1\" class=\"dataframe\"><thead><tr><th>id</th><th>anio</th><th>trimestre</th><th>id_provincia</th><th>mbps_media_bajada</th><th>accesos_100_hog</th><th>accesos_100_hab</th><th>accesos_banda_ancha</th><th>accesos_dial_up</th></tr><tr><td>i64</td><td>i64</td><td>i64</td><td>i64</td><td>f64</td><td>f64</td><td>f64</td><td>i64</td><td>i64</td></tr></thead><tbody><tr><td>202401006</td><td>2024</td><td>1</td><td>6</td><td>159.13</td><td>81.1</td><td>27.8</td><td>5038657</td><td>5900</td></tr><tr><td>202401002</td><td>2024</td><td>1</td><td>2</td><td>229.94</td><td>119.53</td><td>48.78</td><td>1502661</td><td>2050</td></tr><tr><td>202401010</td><td>2024</td><td>1</td><td>10</td><td>91.45</td><td>68.82</td><td>17.5</td><td>74932</td><td>1</td></tr><tr><td>202401022</td><td>2024</td><td>1</td><td>22</td><td>107.51</td><td>46.7</td><td>12.48</td><td>155538</td><td>5</td></tr><tr><td>202401026</td><td>2024</td><td>1</td><td>26</td><td>20.5</td><td>84.89</td><td>26.02</td><td>169819</td><td>857</td></tr></tbody></table></div>"
      ],
      "text/plain": [
       "shape: (5, 9)\n",
       "┌───────────┬──────┬───────────┬────────────┬───┬────────────┬────────────┬────────────┬───────────┐\n",
       "│ id        ┆ anio ┆ trimestre ┆ id_provinc ┆ … ┆ accesos_10 ┆ accesos_10 ┆ accesos_ba ┆ accesos_d │\n",
       "│ ---       ┆ ---  ┆ ---       ┆ ia         ┆   ┆ 0_hog      ┆ 0_hab      ┆ nda_ancha  ┆ ial_up    │\n",
       "│ i64       ┆ i64  ┆ i64       ┆ ---        ┆   ┆ ---        ┆ ---        ┆ ---        ┆ ---       │\n",
       "│           ┆      ┆           ┆ i64        ┆   ┆ f64        ┆ f64        ┆ i64        ┆ i64       │\n",
       "╞═══════════╪══════╪═══════════╪════════════╪═══╪════════════╪════════════╪════════════╪═══════════╡\n",
       "│ 202401006 ┆ 2024 ┆ 1         ┆ 6          ┆ … ┆ 81.1       ┆ 27.8       ┆ 5038657    ┆ 5900      │\n",
       "│ 202401002 ┆ 2024 ┆ 1         ┆ 2          ┆ … ┆ 119.53     ┆ 48.78      ┆ 1502661    ┆ 2050      │\n",
       "│ 202401010 ┆ 2024 ┆ 1         ┆ 10         ┆ … ┆ 68.82      ┆ 17.5       ┆ 74932      ┆ 1         │\n",
       "│ 202401022 ┆ 2024 ┆ 1         ┆ 22         ┆ … ┆ 46.7       ┆ 12.48      ┆ 155538     ┆ 5         │\n",
       "│ 202401026 ┆ 2024 ┆ 1         ┆ 26         ┆ … ┆ 84.89      ┆ 26.02      ┆ 169819     ┆ 857       │\n",
       "└───────────┴──────┴───────────┴────────────┴───┴────────────┴────────────┴────────────┴───────────┘"
      ]
     },
     "execution_count": 34,
     "metadata": {},
     "output_type": "execute_result"
    }
   ],
   "source": [
    "internet_provincia = internet_provincia.with_columns(pl.col('accesos_dial_up').fill_null(0))\n",
    "internet_provincia.head()"
   ]
  },
  {
   "cell_type": "code",
   "execution_count": 35,
   "metadata": {},
   "outputs": [],
   "source": [
    "del dial_BAf\n",
    "del velocidad_porcent_por_prov\n",
    "del penetracion_hogares\n",
    "del penetracion_poblacion"
   ]
  },
  {
   "cell_type": "markdown",
   "metadata": {},
   "source": [
    "***\n",
    "## **Creando la Tabla `accesos_x_tecnologia`**\n"
   ]
  },
  {
   "cell_type": "code",
   "execution_count": 36,
   "metadata": {},
   "outputs": [
    {
     "data": {
      "text/html": [
       "<div><style>\n",
       ".dataframe > thead > tr,\n",
       ".dataframe > tbody > tr {\n",
       "  text-align: right;\n",
       "  white-space: pre-wrap;\n",
       "}\n",
       "</style>\n",
       "<small>shape: (5, 9)</small><table border=\"1\" class=\"dataframe\"><thead><tr><th>Año</th><th>Trimestre</th><th>Provincia</th><th>ADSL</th><th>Cablemodem</th><th>Fibra óptica</th><th>Wireless</th><th>Otros</th><th>Total</th></tr><tr><td>i64</td><td>i64</td><td>str</td><td>i64</td><td>i64</td><td>i64</td><td>i64</td><td>i64</td><td>i64</td></tr></thead><tbody><tr><td>2024</td><td>1</td><td>&quot;Buenos Aires&quot;</td><td>203297</td><td>2790663</td><td>1799013</td><td>150290</td><td>101294</td><td>5044557</td></tr><tr><td>2024</td><td>1</td><td>&quot;Capital Federal&quot;</td><td>70108</td><td>1177475</td><td>203756</td><td>4493</td><td>48879</td><td>1504711</td></tr><tr><td>2024</td><td>1</td><td>&quot;Catamarca&quot;</td><td>5901</td><td>11025</td><td>56542</td><td>1384</td><td>81</td><td>74933</td></tr><tr><td>2024</td><td>1</td><td>&quot;Chaco&quot;</td><td>11343</td><td>58929</td><td>64463</td><td>8404</td><td>12404</td><td>155543</td></tr><tr><td>2024</td><td>1</td><td>&quot;Chubut&quot;</td><td>26306</td><td>77217</td><td>26356</td><td>30867</td><td>9930</td><td>170676</td></tr></tbody></table></div>"
      ],
      "text/plain": [
       "shape: (5, 9)\n",
       "┌──────┬───────────┬─────────────────┬────────┬───┬──────────────┬──────────┬────────┬─────────┐\n",
       "│ Año  ┆ Trimestre ┆ Provincia       ┆ ADSL   ┆ … ┆ Fibra óptica ┆ Wireless ┆ Otros  ┆ Total   │\n",
       "│ ---  ┆ ---       ┆ ---             ┆ ---    ┆   ┆ ---          ┆ ---      ┆ ---    ┆ ---     │\n",
       "│ i64  ┆ i64       ┆ str             ┆ i64    ┆   ┆ i64          ┆ i64      ┆ i64    ┆ i64     │\n",
       "╞══════╪═══════════╪═════════════════╪════════╪═══╪══════════════╪══════════╪════════╪═════════╡\n",
       "│ 2024 ┆ 1         ┆ Buenos Aires    ┆ 203297 ┆ … ┆ 1799013      ┆ 150290   ┆ 101294 ┆ 5044557 │\n",
       "│ 2024 ┆ 1         ┆ Capital Federal ┆ 70108  ┆ … ┆ 203756       ┆ 4493     ┆ 48879  ┆ 1504711 │\n",
       "│ 2024 ┆ 1         ┆ Catamarca       ┆ 5901   ┆ … ┆ 56542        ┆ 1384     ┆ 81     ┆ 74933   │\n",
       "│ 2024 ┆ 1         ┆ Chaco           ┆ 11343  ┆ … ┆ 64463        ┆ 8404     ┆ 12404  ┆ 155543  │\n",
       "│ 2024 ┆ 1         ┆ Chubut          ┆ 26306  ┆ … ┆ 26356        ┆ 30867    ┆ 9930   ┆ 170676  │\n",
       "└──────┴───────────┴─────────────────┴────────┴───┴──────────────┴──────────┴────────┴─────────┘"
      ]
     },
     "execution_count": 36,
     "metadata": {},
     "output_type": "execute_result"
    }
   ],
   "source": [
    "accesos_x_tecnologia = pl.read_excel('datasets_iniciales/Internet.xlsx', sheet_name='Accesos Por Tecnología')\n",
    "accesos_x_tecnologia.head()"
   ]
  },
  {
   "cell_type": "markdown",
   "metadata": {},
   "source": [
    "Cambiando los nombres de las columnas y normalizando los nombres de las Provincias"
   ]
  },
  {
   "cell_type": "code",
   "execution_count": 37,
   "metadata": {},
   "outputs": [
    {
     "data": {
      "text/html": [
       "<div><style>\n",
       ".dataframe > thead > tr,\n",
       ".dataframe > tbody > tr {\n",
       "  text-align: right;\n",
       "  white-space: pre-wrap;\n",
       "}\n",
       "</style>\n",
       "<small>shape: (5, 9)</small><table border=\"1\" class=\"dataframe\"><thead><tr><th>anio</th><th>trimestre</th><th>provincia</th><th>adsl</th><th>cablemoden</th><th>fibra</th><th>wireless</th><th>otros</th><th>total</th></tr><tr><td>i64</td><td>i64</td><td>str</td><td>i64</td><td>i64</td><td>i64</td><td>i64</td><td>i64</td><td>i64</td></tr></thead><tbody><tr><td>2024</td><td>1</td><td>&quot;Buenos Aires&quot;</td><td>203297</td><td>2790663</td><td>1799013</td><td>150290</td><td>101294</td><td>5044557</td></tr><tr><td>2024</td><td>1</td><td>&quot;Ciudad Autónoma de Buenos Aire…</td><td>70108</td><td>1177475</td><td>203756</td><td>4493</td><td>48879</td><td>1504711</td></tr><tr><td>2024</td><td>1</td><td>&quot;Catamarca&quot;</td><td>5901</td><td>11025</td><td>56542</td><td>1384</td><td>81</td><td>74933</td></tr><tr><td>2024</td><td>1</td><td>&quot;Chaco&quot;</td><td>11343</td><td>58929</td><td>64463</td><td>8404</td><td>12404</td><td>155543</td></tr><tr><td>2024</td><td>1</td><td>&quot;Chubut&quot;</td><td>26306</td><td>77217</td><td>26356</td><td>30867</td><td>9930</td><td>170676</td></tr></tbody></table></div>"
      ],
      "text/plain": [
       "shape: (5, 9)\n",
       "┌──────┬───────────┬────────────────────┬────────┬───┬─────────┬──────────┬────────┬─────────┐\n",
       "│ anio ┆ trimestre ┆ provincia          ┆ adsl   ┆ … ┆ fibra   ┆ wireless ┆ otros  ┆ total   │\n",
       "│ ---  ┆ ---       ┆ ---                ┆ ---    ┆   ┆ ---     ┆ ---      ┆ ---    ┆ ---     │\n",
       "│ i64  ┆ i64       ┆ str                ┆ i64    ┆   ┆ i64     ┆ i64      ┆ i64    ┆ i64     │\n",
       "╞══════╪═══════════╪════════════════════╪════════╪═══╪═════════╪══════════╪════════╪═════════╡\n",
       "│ 2024 ┆ 1         ┆ Buenos Aires       ┆ 203297 ┆ … ┆ 1799013 ┆ 150290   ┆ 101294 ┆ 5044557 │\n",
       "│ 2024 ┆ 1         ┆ Ciudad Autónoma de ┆ 70108  ┆ … ┆ 203756  ┆ 4493     ┆ 48879  ┆ 1504711 │\n",
       "│      ┆           ┆ Buenos Aire…       ┆        ┆   ┆         ┆          ┆        ┆         │\n",
       "│ 2024 ┆ 1         ┆ Catamarca          ┆ 5901   ┆ … ┆ 56542   ┆ 1384     ┆ 81     ┆ 74933   │\n",
       "│ 2024 ┆ 1         ┆ Chaco              ┆ 11343  ┆ … ┆ 64463   ┆ 8404     ┆ 12404  ┆ 155543  │\n",
       "│ 2024 ┆ 1         ┆ Chubut             ┆ 26306  ┆ … ┆ 26356   ┆ 30867    ┆ 9930   ┆ 170676  │\n",
       "└──────┴───────────┴────────────────────┴────────┴───┴─────────┴──────────┴────────┴─────────┘"
      ]
     },
     "execution_count": 37,
     "metadata": {},
     "output_type": "execute_result"
    }
   ],
   "source": [
    "columns = ['anio', 'trimestre', 'provincia', 'adsl', 'cablemoden', 'fibra', 'wireless', 'otros', 'total']\n",
    "\n",
    "accesos_x_tecnologia.columns = columns\n",
    "\n",
    "for i in range(len(reemplazar)):\n",
    "    accesos_x_tecnologia = accesos_x_tecnologia.with_columns(\n",
    "        pl.when(pl.col('provincia').is_in(reemplazar[i]))\n",
    "          .then(pl.lit(correcion[i]))\n",
    "          .otherwise(pl.col('provincia'))\n",
    "          .alias('provincia')\n",
    "    )\n",
    "\n",
    "accesos_x_tecnologia.head()"
   ]
  },
  {
   "cell_type": "markdown",
   "metadata": {},
   "source": [
    "Falta colocar el respectivo `id_provincia` y borrar la columna provincia"
   ]
  },
  {
   "cell_type": "code",
   "execution_count": 38,
   "metadata": {},
   "outputs": [
    {
     "data": {
      "text/html": [
       "<div><style>\n",
       ".dataframe > thead > tr,\n",
       ".dataframe > tbody > tr {\n",
       "  text-align: right;\n",
       "  white-space: pre-wrap;\n",
       "}\n",
       "</style>\n",
       "<small>shape: (5, 10)</small><table border=\"1\" class=\"dataframe\"><thead><tr><th>anio</th><th>trimestre</th><th>adsl</th><th>cablemoden</th><th>fibra</th><th>wireless</th><th>otros</th><th>total</th><th>id_provincia</th><th>id</th></tr><tr><td>i64</td><td>i64</td><td>i64</td><td>i64</td><td>i64</td><td>i64</td><td>i64</td><td>i64</td><td>i64</td><td>i64</td></tr></thead><tbody><tr><td>2024</td><td>1</td><td>203297</td><td>2790663</td><td>1799013</td><td>150290</td><td>101294</td><td>5044557</td><td>6</td><td>202401006</td></tr><tr><td>2024</td><td>1</td><td>70108</td><td>1177475</td><td>203756</td><td>4493</td><td>48879</td><td>1504711</td><td>2</td><td>202401002</td></tr><tr><td>2024</td><td>1</td><td>5901</td><td>11025</td><td>56542</td><td>1384</td><td>81</td><td>74933</td><td>10</td><td>202401010</td></tr><tr><td>2024</td><td>1</td><td>11343</td><td>58929</td><td>64463</td><td>8404</td><td>12404</td><td>155543</td><td>22</td><td>202401022</td></tr><tr><td>2024</td><td>1</td><td>26306</td><td>77217</td><td>26356</td><td>30867</td><td>9930</td><td>170676</td><td>26</td><td>202401026</td></tr></tbody></table></div>"
      ],
      "text/plain": [
       "shape: (5, 10)\n",
       "┌──────┬───────────┬────────┬────────────┬───┬────────┬─────────┬──────────────┬───────────┐\n",
       "│ anio ┆ trimestre ┆ adsl   ┆ cablemoden ┆ … ┆ otros  ┆ total   ┆ id_provincia ┆ id        │\n",
       "│ ---  ┆ ---       ┆ ---    ┆ ---        ┆   ┆ ---    ┆ ---     ┆ ---          ┆ ---       │\n",
       "│ i64  ┆ i64       ┆ i64    ┆ i64        ┆   ┆ i64    ┆ i64     ┆ i64          ┆ i64       │\n",
       "╞══════╪═══════════╪════════╪════════════╪═══╪════════╪═════════╪══════════════╪═══════════╡\n",
       "│ 2024 ┆ 1         ┆ 203297 ┆ 2790663    ┆ … ┆ 101294 ┆ 5044557 ┆ 6            ┆ 202401006 │\n",
       "│ 2024 ┆ 1         ┆ 70108  ┆ 1177475    ┆ … ┆ 48879  ┆ 1504711 ┆ 2            ┆ 202401002 │\n",
       "│ 2024 ┆ 1         ┆ 5901   ┆ 11025      ┆ … ┆ 81     ┆ 74933   ┆ 10           ┆ 202401010 │\n",
       "│ 2024 ┆ 1         ┆ 11343  ┆ 58929      ┆ … ┆ 12404  ┆ 155543  ┆ 22           ┆ 202401022 │\n",
       "│ 2024 ┆ 1         ┆ 26306  ┆ 77217      ┆ … ┆ 9930   ┆ 170676  ┆ 26           ┆ 202401026 │\n",
       "└──────┴───────────┴────────┴────────────┴───┴────────┴─────────┴──────────────┴───────────┘"
      ]
     },
     "execution_count": 38,
     "metadata": {},
     "output_type": "execute_result"
    }
   ],
   "source": [
    "accesos_x_tecnologia = accesos_x_tecnologia.join(\n",
    "    provincias[['id_provincia','provincia']], on='provincia', how='left', coalesce=True\n",
    ")\n",
    "\n",
    "accesos_x_tecnologia = accesos_x_tecnologia.drop('provincia')\n",
    "\n",
    "# Creando el id de la Tabla.  Misma Metodología de la tabla anterior.\n",
    "accesos_x_tecnologia = accesos_x_tecnologia.with_columns(\n",
    "    ((pl.col('anio') * 100000) + (pl.col('trimestre') * 1000) + (pl.col('id_provincia'))).alias('id')\n",
    ")\n",
    "\n",
    "accesos_x_tecnologia.head()"
   ]
  },
  {
   "cell_type": "markdown",
   "metadata": {},
   "source": [
    "***\n",
    "## **Creando la Tabla `velocidad_sin_rangos`**"
   ]
  },
  {
   "cell_type": "code",
   "execution_count": 39,
   "metadata": {},
   "outputs": [
    {
     "data": {
      "text/html": [
       "<div><style>\n",
       ".dataframe > thead > tr,\n",
       ".dataframe > tbody > tr {\n",
       "  text-align: right;\n",
       "  white-space: pre-wrap;\n",
       "}\n",
       "</style>\n",
       "<small>shape: (3, 193)</small><table border=\"1\" class=\"dataframe\"><thead><tr><th>Año</th><th>Trimestre</th><th>Provincia</th><th>Otros</th><th>0,256 Mbps</th><th>0,375 Mbps</th><th>0,625 Mbps</th><th>0,5 Mbps</th><th>0,512 Mbps</th><th>0,75 Mbps</th><th>1 Mbps</th><th>1,2 Mbps</th><th>1,25 Mbps</th><th>1,5 Mbps</th><th>2 Mbps</th><th>2,2 Mbps</th><th>2,5 Mbps</th><th>6,7 Mbps</th><th>3 Mbps</th><th>3,2 Mbps</th><th>3,3 Mbps</th><th>3,5 Mbps</th><th>4 Mbps</th><th>4,5 Mbps</th><th>5 Mbps</th><th>6 Mbps</th><th>6,4 Mbps</th><th>7 Mbps</th><th>7,5 Mbps</th><th>8 Mbps</th><th>9 Mbps</th><th>10 Mbps</th><th>10,1 Mbps</th><th>10,2 Mbps</th><th>10,6 Mbps</th><th>11 Mbps</th><th>12 Mbps</th><th>&hellip;</th><th>350 Mbps</th><th>380 Mbps</th><th>384 Mbps</th><th>400 Mbps</th><th>450 Mbps</th><th>473 Mbps</th><th>480 Mbps</th><th>500 Mbps</th><th>512 Mbps</th><th>520 Mbps</th><th>540 Mbps</th><th>600 Mbps</th><th>640 Mbps</th><th>680 Mbps</th><th>700 Mbps</th><th>768 Mbps</th><th>800 Mbps</th><th>850 Mbps</th><th>900 Mbps</th><th>945 Mbps</th><th>950 Mbps</th><th>999 Mbps</th><th>1000 Mbps</th><th>1024 Mbps</th><th>1075 Mbps</th><th>1536 Mbps</th><th>2000 Mbps</th><th>2048 Mbps</th><th>2529 Mbps</th><th>3072 Mbps</th><th>4000 Mbps</th><th>5000 Mbps</th><th>5125 Mbps</th><th>6000 Mbps</th><th>7000 Mbps</th><th>8000 Mbps</th><th>10000 Mbps</th></tr><tr><td>i64</td><td>i64</td><td>str</td><td>i64</td><td>i64</td><td>i64</td><td>i64</td><td>i64</td><td>i64</td><td>i64</td><td>i64</td><td>i64</td><td>i64</td><td>i64</td><td>i64</td><td>i64</td><td>i64</td><td>i64</td><td>i64</td><td>i64</td><td>i64</td><td>i64</td><td>i64</td><td>i64</td><td>i64</td><td>i64</td><td>i64</td><td>i64</td><td>i64</td><td>i64</td><td>i64</td><td>i64</td><td>i64</td><td>i64</td><td>i64</td><td>i64</td><td>i64</td><td>&hellip;</td><td>i64</td><td>i64</td><td>i64</td><td>i64</td><td>i64</td><td>i64</td><td>i64</td><td>i64</td><td>i64</td><td>i64</td><td>i64</td><td>i64</td><td>i64</td><td>i64</td><td>i64</td><td>i64</td><td>i64</td><td>i64</td><td>i64</td><td>i64</td><td>i64</td><td>i64</td><td>i64</td><td>i64</td><td>i64</td><td>i64</td><td>i64</td><td>i64</td><td>i64</td><td>i64</td><td>i64</td><td>i64</td><td>i64</td><td>i64</td><td>i64</td><td>i64</td><td>i64</td></tr></thead><tbody><tr><td>2024</td><td>1</td><td>&quot;Buenos Aires&quot;</td><td>125147</td><td>18</td><td>0</td><td>0</td><td>25815</td><td>169</td><td>4611</td><td>17899</td><td>0</td><td>0</td><td>141</td><td>19520</td><td>0</td><td>21</td><td>0</td><td>43554</td><td>0</td><td>0</td><td>41735</td><td>13365</td><td>83</td><td>27327</td><td>75439</td><td>0</td><td>11286</td><td>53</td><td>63826</td><td>688</td><td>157372</td><td>0</td><td>0</td><td>0</td><td>10</td><td>21114</td><td>&hellip;</td><td>0</td><td>0</td><td>0</td><td>965</td><td>0</td><td>0</td><td>5</td><td>149680</td><td>663</td><td>0</td><td>0</td><td>12163</td><td>0</td><td>0</td><td>0</td><td>0</td><td>563</td><td>0</td><td>0</td><td>0</td><td>0</td><td>26</td><td>156691</td><td>0</td><td>0</td><td>0</td><td>0</td><td>0</td><td>0</td><td>0</td><td>0</td><td>0</td><td>0</td><td>0</td><td>0</td><td>0</td><td>0</td></tr><tr><td>2024</td><td>1</td><td>&quot;Capital Federal&quot;</td><td>0</td><td>31</td><td>0</td><td>0</td><td>451</td><td>34</td><td>1307</td><td>4111</td><td>0</td><td>0</td><td>0</td><td>249</td><td>0</td><td>0</td><td>0</td><td>3971</td><td>0</td><td>0</td><td>11975</td><td>994</td><td>0</td><td>3547</td><td>9017</td><td>0</td><td>7</td><td>0</td><td>16864</td><td>3</td><td>34541</td><td>0</td><td>0</td><td>0</td><td>5</td><td>92</td><td>&hellip;</td><td>0</td><td>0</td><td>0</td><td>3</td><td>0</td><td>0</td><td>0</td><td>86440</td><td>0</td><td>0</td><td>0</td><td>372</td><td>0</td><td>0</td><td>1</td><td>0</td><td>1</td><td>0</td><td>0</td><td>0</td><td>0</td><td>25</td><td>68405</td><td>0</td><td>0</td><td>0</td><td>0</td><td>0</td><td>0</td><td>0</td><td>0</td><td>0</td><td>0</td><td>0</td><td>0</td><td>0</td><td>0</td></tr><tr><td>2024</td><td>1</td><td>&quot;Catamarca&quot;</td><td>70</td><td>0</td><td>0</td><td>0</td><td>34</td><td>37</td><td>0</td><td>176</td><td>0</td><td>0</td><td>0</td><td>115</td><td>0</td><td>0</td><td>0</td><td>1644</td><td>0</td><td>0</td><td>0</td><td>1</td><td>0</td><td>332</td><td>780</td><td>0</td><td>0</td><td>0</td><td>0</td><td>0</td><td>3424</td><td>0</td><td>0</td><td>0</td><td>0</td><td>31</td><td>&hellip;</td><td>0</td><td>0</td><td>0</td><td>0</td><td>0</td><td>0</td><td>0</td><td>372</td><td>0</td><td>0</td><td>0</td><td>834</td><td>0</td><td>0</td><td>0</td><td>0</td><td>0</td><td>0</td><td>0</td><td>0</td><td>0</td><td>0</td><td>20</td><td>0</td><td>0</td><td>0</td><td>0</td><td>0</td><td>0</td><td>0</td><td>0</td><td>0</td><td>0</td><td>0</td><td>0</td><td>0</td><td>0</td></tr></tbody></table></div>"
      ],
      "text/plain": [
       "shape: (3, 193)\n",
       "┌──────┬───────────┬─────────────────┬────────┬───┬───────────┬───────────┬───────────┬────────────┐\n",
       "│ Año  ┆ Trimestre ┆ Provincia       ┆ Otros  ┆ … ┆ 6000 Mbps ┆ 7000 Mbps ┆ 8000 Mbps ┆ 10000 Mbps │\n",
       "│ ---  ┆ ---       ┆ ---             ┆ ---    ┆   ┆ ---       ┆ ---       ┆ ---       ┆ ---        │\n",
       "│ i64  ┆ i64       ┆ str             ┆ i64    ┆   ┆ i64       ┆ i64       ┆ i64       ┆ i64        │\n",
       "╞══════╪═══════════╪═════════════════╪════════╪═══╪═══════════╪═══════════╪═══════════╪════════════╡\n",
       "│ 2024 ┆ 1         ┆ Buenos Aires    ┆ 125147 ┆ … ┆ 0         ┆ 0         ┆ 0         ┆ 0          │\n",
       "│ 2024 ┆ 1         ┆ Capital Federal ┆ 0      ┆ … ┆ 0         ┆ 0         ┆ 0         ┆ 0          │\n",
       "│ 2024 ┆ 1         ┆ Catamarca       ┆ 70     ┆ … ┆ 0         ┆ 0         ┆ 0         ┆ 0          │\n",
       "└──────┴───────────┴─────────────────┴────────┴───┴───────────┴───────────┴───────────┴────────────┘"
      ]
     },
     "execution_count": 39,
     "metadata": {},
     "output_type": "execute_result"
    }
   ],
   "source": [
    "df = pl.read_excel('datasets_iniciales/Internet.xlsx', sheet_name='Velocidad_sin_Rangos')\n",
    "df.head(3)"
   ]
  },
  {
   "cell_type": "code",
   "execution_count": 40,
   "metadata": {},
   "outputs": [
    {
     "data": {
      "text/html": [
       "<div><style>\n",
       ".dataframe > thead > tr,\n",
       ".dataframe > tbody > tr {\n",
       "  text-align: right;\n",
       "  white-space: pre-wrap;\n",
       "}\n",
       "</style>\n",
       "<small>shape: (1, 193)</small><table border=\"1\" class=\"dataframe\"><thead><tr><th>Año</th><th>Trimestre</th><th>Provincia</th><th>Otros</th><th>0,256 Mbps</th><th>0,375 Mbps</th><th>0,625 Mbps</th><th>0,5 Mbps</th><th>0,512 Mbps</th><th>0,75 Mbps</th><th>1 Mbps</th><th>1,2 Mbps</th><th>1,25 Mbps</th><th>1,5 Mbps</th><th>2 Mbps</th><th>2,2 Mbps</th><th>2,5 Mbps</th><th>6,7 Mbps</th><th>3 Mbps</th><th>3,2 Mbps</th><th>3,3 Mbps</th><th>3,5 Mbps</th><th>4 Mbps</th><th>4,5 Mbps</th><th>5 Mbps</th><th>6 Mbps</th><th>6,4 Mbps</th><th>7 Mbps</th><th>7,5 Mbps</th><th>8 Mbps</th><th>9 Mbps</th><th>10 Mbps</th><th>10,1 Mbps</th><th>10,2 Mbps</th><th>10,6 Mbps</th><th>11 Mbps</th><th>12 Mbps</th><th>&hellip;</th><th>350 Mbps</th><th>380 Mbps</th><th>384 Mbps</th><th>400 Mbps</th><th>450 Mbps</th><th>473 Mbps</th><th>480 Mbps</th><th>500 Mbps</th><th>512 Mbps</th><th>520 Mbps</th><th>540 Mbps</th><th>600 Mbps</th><th>640 Mbps</th><th>680 Mbps</th><th>700 Mbps</th><th>768 Mbps</th><th>800 Mbps</th><th>850 Mbps</th><th>900 Mbps</th><th>945 Mbps</th><th>950 Mbps</th><th>999 Mbps</th><th>1000 Mbps</th><th>1024 Mbps</th><th>1075 Mbps</th><th>1536 Mbps</th><th>2000 Mbps</th><th>2048 Mbps</th><th>2529 Mbps</th><th>3072 Mbps</th><th>4000 Mbps</th><th>5000 Mbps</th><th>5125 Mbps</th><th>6000 Mbps</th><th>7000 Mbps</th><th>8000 Mbps</th><th>10000 Mbps</th></tr><tr><td>i64</td><td>i64</td><td>str</td><td>i64</td><td>i64</td><td>i64</td><td>i64</td><td>i64</td><td>i64</td><td>i64</td><td>i64</td><td>i64</td><td>i64</td><td>i64</td><td>i64</td><td>i64</td><td>i64</td><td>i64</td><td>i64</td><td>i64</td><td>i64</td><td>i64</td><td>i64</td><td>i64</td><td>i64</td><td>i64</td><td>i64</td><td>i64</td><td>i64</td><td>i64</td><td>i64</td><td>i64</td><td>i64</td><td>i64</td><td>i64</td><td>i64</td><td>i64</td><td>&hellip;</td><td>i64</td><td>i64</td><td>i64</td><td>i64</td><td>i64</td><td>i64</td><td>i64</td><td>i64</td><td>i64</td><td>i64</td><td>i64</td><td>i64</td><td>i64</td><td>i64</td><td>i64</td><td>i64</td><td>i64</td><td>i64</td><td>i64</td><td>i64</td><td>i64</td><td>i64</td><td>i64</td><td>i64</td><td>i64</td><td>i64</td><td>i64</td><td>i64</td><td>i64</td><td>i64</td><td>i64</td><td>i64</td><td>i64</td><td>i64</td><td>i64</td><td>i64</td><td>i64</td></tr></thead><tbody><tr><td>null</td><td>null</td><td>null</td><td>null</td><td>null</td><td>null</td><td>null</td><td>null</td><td>null</td><td>null</td><td>null</td><td>null</td><td>null</td><td>null</td><td>null</td><td>null</td><td>0</td><td>null</td><td>null</td><td>null</td><td>null</td><td>null</td><td>null</td><td>null</td><td>null</td><td>null</td><td>null</td><td>null</td><td>null</td><td>null</td><td>null</td><td>null</td><td>null</td><td>null</td><td>null</td><td>null</td><td>null</td><td>&hellip;</td><td>null</td><td>null</td><td>null</td><td>null</td><td>null</td><td>null</td><td>null</td><td>null</td><td>null</td><td>null</td><td>null</td><td>null</td><td>null</td><td>null</td><td>null</td><td>null</td><td>null</td><td>null</td><td>null</td><td>null</td><td>null</td><td>null</td><td>null</td><td>null</td><td>null</td><td>null</td><td>null</td><td>null</td><td>null</td><td>null</td><td>null</td><td>null</td><td>null</td><td>null</td><td>null</td><td>null</td><td>null</td></tr></tbody></table></div>"
      ],
      "text/plain": [
       "shape: (1, 193)\n",
       "┌──────┬───────────┬───────────┬───────┬───┬───────────┬───────────┬───────────┬────────────┐\n",
       "│ Año  ┆ Trimestre ┆ Provincia ┆ Otros ┆ … ┆ 6000 Mbps ┆ 7000 Mbps ┆ 8000 Mbps ┆ 10000 Mbps │\n",
       "│ ---  ┆ ---       ┆ ---       ┆ ---   ┆   ┆ ---       ┆ ---       ┆ ---       ┆ ---        │\n",
       "│ i64  ┆ i64       ┆ str       ┆ i64   ┆   ┆ i64       ┆ i64       ┆ i64       ┆ i64        │\n",
       "╞══════╪═══════════╪═══════════╪═══════╪═══╪═══════════╪═══════════╪═══════════╪════════════╡\n",
       "│ null ┆ null      ┆ null      ┆ null  ┆ … ┆ null      ┆ null      ┆ null      ┆ null       │\n",
       "└──────┴───────────┴───────────┴───────┴───┴───────────┴───────────┴───────────┴────────────┘"
      ]
     },
     "execution_count": 40,
     "metadata": {},
     "output_type": "execute_result"
    }
   ],
   "source": [
    "mask = df['Año'].is_null()\n",
    "df.filter(mask)"
   ]
  },
  {
   "cell_type": "markdown",
   "metadata": {},
   "source": [
    "El df al cargar se trajo una linea del final del dataset con informacion nula.. Hay que borrarla"
   ]
  },
  {
   "cell_type": "code",
   "execution_count": 41,
   "metadata": {},
   "outputs": [],
   "source": [
    "df = df.filter(~mask)"
   ]
  },
  {
   "cell_type": "markdown",
   "metadata": {},
   "source": [
    "Normalizando la escritura de las Provincias"
   ]
  },
  {
   "cell_type": "code",
   "execution_count": 42,
   "metadata": {},
   "outputs": [],
   "source": [
    "for i in range(len(reemplazar)):\n",
    "    df = df.with_columns(\n",
    "        pl.when(pl.col('Provincia').is_in(reemplazar[i]))\n",
    "          .then(pl.lit(correcion[i]))\n",
    "          .otherwise(pl.col('Provincia'))\n",
    "          .alias('Provincia')\n",
    "    )"
   ]
  },
  {
   "cell_type": "markdown",
   "metadata": {},
   "source": [
    "Creando a `velocidad_sin_rangos` con solo 5 columnas"
   ]
  },
  {
   "cell_type": "code",
   "execution_count": 43,
   "metadata": {},
   "outputs": [
    {
     "name": "stdout",
     "output_type": "stream",
     "text": [
      "188 distintas velocidades\n"
     ]
    },
    {
     "data": {
      "text/html": [
       "<div><style>\n",
       ".dataframe > thead > tr,\n",
       ".dataframe > tbody > tr {\n",
       "  text-align: right;\n",
       "  white-space: pre-wrap;\n",
       "}\n",
       "</style>\n",
       "<small>shape: (6, 5)</small><table border=\"1\" class=\"dataframe\"><thead><tr><th>anio</th><th>trimestre</th><th>provincia</th><th>velocidad_mbps</th><th>accesos</th></tr><tr><td>i64</td><td>i64</td><td>str</td><td>f64</td><td>i64</td></tr></thead><tbody><tr><td>2024</td><td>1</td><td>&quot;Buenos Aires&quot;</td><td>-10.0</td><td>125147</td></tr><tr><td>2024</td><td>1</td><td>&quot;Buenos Aires&quot;</td><td>0.256</td><td>18</td></tr><tr><td>2024</td><td>1</td><td>&quot;Buenos Aires&quot;</td><td>0.5</td><td>25815</td></tr><tr><td>2024</td><td>1</td><td>&quot;Buenos Aires&quot;</td><td>0.512</td><td>169</td></tr><tr><td>2024</td><td>1</td><td>&quot;Buenos Aires&quot;</td><td>0.75</td><td>4611</td></tr><tr><td>2024</td><td>1</td><td>&quot;Buenos Aires&quot;</td><td>1.0</td><td>17899</td></tr></tbody></table></div>"
      ],
      "text/plain": [
       "shape: (6, 5)\n",
       "┌──────┬───────────┬──────────────┬────────────────┬─────────┐\n",
       "│ anio ┆ trimestre ┆ provincia    ┆ velocidad_mbps ┆ accesos │\n",
       "│ ---  ┆ ---       ┆ ---          ┆ ---            ┆ ---     │\n",
       "│ i64  ┆ i64       ┆ str          ┆ f64            ┆ i64     │\n",
       "╞══════╪═══════════╪══════════════╪════════════════╪═════════╡\n",
       "│ 2024 ┆ 1         ┆ Buenos Aires ┆ -10.0          ┆ 125147  │\n",
       "│ 2024 ┆ 1         ┆ Buenos Aires ┆ 0.256          ┆ 18      │\n",
       "│ 2024 ┆ 1         ┆ Buenos Aires ┆ 0.5            ┆ 25815   │\n",
       "│ 2024 ┆ 1         ┆ Buenos Aires ┆ 0.512          ┆ 169     │\n",
       "│ 2024 ┆ 1         ┆ Buenos Aires ┆ 0.75           ┆ 4611    │\n",
       "│ 2024 ┆ 1         ┆ Buenos Aires ┆ 1.0            ┆ 17899   │\n",
       "└──────┴───────────┴──────────────┴────────────────┴─────────┘"
      ]
     },
     "execution_count": 43,
     "metadata": {},
     "output_type": "execute_result"
    }
   ],
   "source": [
    "\"\"\"\n",
    "columna 0 ---> Año\n",
    "columna 1 ---> Trimestre\n",
    "columna 2 ---> Provincia\n",
    "\"\"\"\n",
    "\n",
    "# tomo las columnas de \"Otros\" en adelante\n",
    "columns = df.columns[3:]\n",
    "list_velocidad_sin_rangos = []\n",
    "for i in range(df.shape[0]):\n",
    "    for j,column in enumerate(columns):\n",
    "        if df[i,3+j] != 0:\n",
    "            row = {}\n",
    "            row['anio'] = df[i,0]\n",
    "            row['trimestre'] = df[i,1]\n",
    "            row['provincia'] = df[i,2]\n",
    "            row['velocidad_mbps'] = -10 if column == 'Otros' else float(column[:column.find(' ')].replace(',','.'))\n",
    "            row['accesos'] = df[i,3+j]\n",
    "            list_velocidad_sin_rangos.append(row)\n",
    " \n",
    "velocidad_sin_rangos = pl.DataFrame(list_velocidad_sin_rangos)\n",
    "# Verificando cuantas velocidades distintas existen\n",
    "print(f\"{velocidad_sin_rangos['velocidad_mbps'].unique().count()} distintas velocidades\")\n",
    "velocidad_sin_rangos.head(6)"
   ]
  },
  {
   "cell_type": "markdown",
   "metadata": {},
   "source": [
    "<img src='assets/imagen_01.png'><br>\n",
    "\n",
    "Cuando en el Dataframe la `velocidad` es `-10` se refiere a `otros` y notar que solo toma las celdas cuyos accesos no son cero (0).  El dataframe inicial tiene 193 columnas 3 para (Año, Trimestre, provincia) y 190 columnas para las velocidades de conexion. En las columnas `velocidad` y `accesos` está la información de las `190 distintas columnas de velocidades` que hay.  Arriba indica que hay sólo `188 velocidades distintas`, porque en las columnas de `6,7 MBPS` y `86 MBPS` no hay ningún dato, lo que verifica que el algoritmo funcionó bien."
   ]
  },
  {
   "cell_type": "markdown",
   "metadata": {},
   "source": [
    "Ahora debo hacer un Join con la tabla `provincias` para incorporar el id_provincia, luego borro a `provincia`"
   ]
  },
  {
   "cell_type": "code",
   "execution_count": 44,
   "metadata": {},
   "outputs": [
    {
     "data": {
      "text/html": [
       "<div><style>\n",
       ".dataframe > thead > tr,\n",
       ".dataframe > tbody > tr {\n",
       "  text-align: right;\n",
       "  white-space: pre-wrap;\n",
       "}\n",
       "</style>\n",
       "<small>shape: (10, 5)</small><table border=\"1\" class=\"dataframe\"><thead><tr><th>anio</th><th>trimestre</th><th>velocidad_mbps</th><th>accesos</th><th>id_provincia</th></tr><tr><td>i64</td><td>i64</td><td>f64</td><td>i64</td><td>i64</td></tr></thead><tbody><tr><td>2017</td><td>4</td><td>150.0</td><td>4367</td><td>90</td></tr><tr><td>2017</td><td>4</td><td>30.0</td><td>1303</td><td>90</td></tr><tr><td>2017</td><td>4</td><td>20.0</td><td>24242</td><td>90</td></tr><tr><td>2017</td><td>4</td><td>15.0</td><td>76</td><td>90</td></tr><tr><td>2017</td><td>4</td><td>10.0</td><td>45241</td><td>90</td></tr><tr><td>2017</td><td>4</td><td>6.0</td><td>70565</td><td>90</td></tr><tr><td>2017</td><td>4</td><td>5.0</td><td>9</td><td>90</td></tr><tr><td>2017</td><td>4</td><td>3.5</td><td>8017</td><td>90</td></tr><tr><td>2017</td><td>4</td><td>3.0</td><td>159</td><td>90</td></tr><tr><td>2017</td><td>4</td><td>1.0</td><td>8163</td><td>90</td></tr></tbody></table></div>"
      ],
      "text/plain": [
       "shape: (10, 5)\n",
       "┌──────┬───────────┬────────────────┬─────────┬──────────────┐\n",
       "│ anio ┆ trimestre ┆ velocidad_mbps ┆ accesos ┆ id_provincia │\n",
       "│ ---  ┆ ---       ┆ ---            ┆ ---     ┆ ---          │\n",
       "│ i64  ┆ i64       ┆ f64            ┆ i64     ┆ i64          │\n",
       "╞══════╪═══════════╪════════════════╪═════════╪══════════════╡\n",
       "│ 2017 ┆ 4         ┆ 150.0          ┆ 4367    ┆ 90           │\n",
       "│ 2017 ┆ 4         ┆ 30.0           ┆ 1303    ┆ 90           │\n",
       "│ 2017 ┆ 4         ┆ 20.0           ┆ 24242   ┆ 90           │\n",
       "│ 2017 ┆ 4         ┆ 15.0           ┆ 76      ┆ 90           │\n",
       "│ 2017 ┆ 4         ┆ 10.0           ┆ 45241   ┆ 90           │\n",
       "│ 2017 ┆ 4         ┆ 6.0            ┆ 70565   ┆ 90           │\n",
       "│ 2017 ┆ 4         ┆ 5.0            ┆ 9       ┆ 90           │\n",
       "│ 2017 ┆ 4         ┆ 3.5            ┆ 8017    ┆ 90           │\n",
       "│ 2017 ┆ 4         ┆ 3.0            ┆ 159     ┆ 90           │\n",
       "│ 2017 ┆ 4         ┆ 1.0            ┆ 8163    ┆ 90           │\n",
       "└──────┴───────────┴────────────────┴─────────┴──────────────┘"
      ]
     },
     "execution_count": 44,
     "metadata": {},
     "output_type": "execute_result"
    }
   ],
   "source": [
    "velocidad_sin_rangos = velocidad_sin_rangos.join(\n",
    "    provincias[['id_provincia', 'provincia']], on='provincia', how='left', coalesce=True\n",
    ")\n",
    "\n",
    "velocidad_sin_rangos = velocidad_sin_rangos.drop('provincia')\n",
    "\n",
    "velocidad_sin_rangos = velocidad_sin_rangos.sort('anio', 'trimestre')\n",
    "\n",
    "velocidad_sin_rangos.head(10)"
   ]
  },
  {
   "cell_type": "markdown",
   "metadata": {},
   "source": [
    "Para esta última tabla el `id` debo dejar que lo cree el motor sql de manera autoincremental. Aca la formula de las pasadas 2 tablas NO funciona dado que para una misma combinación de ('anio' + 'trimestre' + 'id_provincia') existen distintas velocidades. Le dí un orden cronológico para que el motor de Sql tome primero los registros con fechas mas antigua "
   ]
  },
  {
   "cell_type": "markdown",
   "metadata": {},
   "source": [
    "***\n",
    "## **Creando la Tabla `accesos_localidades`**"
   ]
  },
  {
   "cell_type": "markdown",
   "metadata": {},
   "source": [
    "Cargando los datasets de donde voy a obtener los datos"
   ]
  },
  {
   "cell_type": "code",
   "execution_count": 45,
   "metadata": {},
   "outputs": [],
   "source": [
    "mapa_conect = pl.read_excel('datasets_iniciales/mapa_conectividad.xlsx', sheet_name='Hoja3')\n",
    "\n",
    "accesos_localidades = pl.read_excel('datasets_iniciales/Internet.xlsx', sheet_name='Accesos_tecnologia_localidad')"
   ]
  },
  {
   "cell_type": "markdown",
   "metadata": {},
   "source": [
    "**Haciendo ajustes en `accesos_localidades`**"
   ]
  },
  {
   "cell_type": "code",
   "execution_count": 46,
   "metadata": {},
   "outputs": [
    {
     "data": {
      "text/html": [
       "<div><style>\n",
       ".dataframe > thead > tr,\n",
       ".dataframe > tbody > tr {\n",
       "  text-align: right;\n",
       "  white-space: pre-wrap;\n",
       "}\n",
       "</style>\n",
       "<small>shape: (5, 13)</small><table border=\"1\" class=\"dataframe\"><thead><tr><th>Provincia</th><th>Partido</th><th>Localidad</th><th>Link Indec</th><th>ADSL</th><th>CABLEMODEM</th><th>DIAL UP</th><th>FIBRA OPTICA</th><th>OTROS</th><th>SATELITAL</th><th>WIMAX</th><th>WIRELESS</th><th>Total general</th></tr><tr><td>str</td><td>str</td><td>str</td><td>str</td><td>i64</td><td>i64</td><td>i64</td><td>i64</td><td>i64</td><td>i64</td><td>i64</td><td>i64</td><td>i64</td></tr></thead><tbody><tr><td>null</td><td>null</td><td>null</td><td>null</td><td>0</td><td>0</td><td>0</td><td>0</td><td>0</td><td>0</td><td>0</td><td>0</td><td>0</td></tr><tr><td>null</td><td>null</td><td>null</td><td>null</td><td>0</td><td>0</td><td>0</td><td>0</td><td>0</td><td>0</td><td>0</td><td>0</td><td>0</td></tr><tr><td>null</td><td>null</td><td>null</td><td>null</td><td>0</td><td>0</td><td>0</td><td>0</td><td>0</td><td>0</td><td>0</td><td>0</td><td>0</td></tr><tr><td>null</td><td>null</td><td>null</td><td>null</td><td>0</td><td>0</td><td>0</td><td>0</td><td>0</td><td>0</td><td>0</td><td>0</td><td>0</td></tr><tr><td>null</td><td>null</td><td>null</td><td>null</td><td>0</td><td>0</td><td>0</td><td>0</td><td>0</td><td>0</td><td>0</td><td>0</td><td>0</td></tr></tbody></table></div>"
      ],
      "text/plain": [
       "shape: (5, 13)\n",
       "┌───────────┬─────────┬───────────┬────────────┬───┬───────────┬───────┬──────────┬───────────────┐\n",
       "│ Provincia ┆ Partido ┆ Localidad ┆ Link Indec ┆ … ┆ SATELITAL ┆ WIMAX ┆ WIRELESS ┆ Total general │\n",
       "│ ---       ┆ ---     ┆ ---       ┆ ---        ┆   ┆ ---       ┆ ---   ┆ ---      ┆ ---           │\n",
       "│ str       ┆ str     ┆ str       ┆ str        ┆   ┆ i64       ┆ i64   ┆ i64      ┆ i64           │\n",
       "╞═══════════╪═════════╪═══════════╪════════════╪═══╪═══════════╪═══════╪══════════╪═══════════════╡\n",
       "│ null      ┆ null    ┆ null      ┆ null       ┆ … ┆ 0         ┆ 0     ┆ 0        ┆ 0             │\n",
       "│ null      ┆ null    ┆ null      ┆ null       ┆ … ┆ 0         ┆ 0     ┆ 0        ┆ 0             │\n",
       "│ null      ┆ null    ┆ null      ┆ null       ┆ … ┆ 0         ┆ 0     ┆ 0        ┆ 0             │\n",
       "│ null      ┆ null    ┆ null      ┆ null       ┆ … ┆ 0         ┆ 0     ┆ 0        ┆ 0             │\n",
       "│ null      ┆ null    ┆ null      ┆ null       ┆ … ┆ 0         ┆ 0     ┆ 0        ┆ 0             │\n",
       "└───────────┴─────────┴───────────┴────────────┴───┴───────────┴───────┴──────────┴───────────────┘"
      ]
     },
     "execution_count": 46,
     "metadata": {},
     "output_type": "execute_result"
    }
   ],
   "source": [
    "accesos_localidades.tail()"
   ]
  },
  {
   "cell_type": "markdown",
   "metadata": {},
   "source": [
    "Fueron Lineas al final de los datos en la Hoja de excel que cargo el Dataframe sin informacion... en las columnas que no aparecen Nulos esas lineas es porque en la hoja de excel tenian `-` y los tomo como 0. Solucion Hay que borrar esas lineas"
   ]
  },
  {
   "cell_type": "code",
   "execution_count": 47,
   "metadata": {},
   "outputs": [],
   "source": [
    "accesos_localidades = accesos_localidades.with_columns(pl.col('Provincia').str.to_titlecase().alias('Provincia'))\n",
    "\n",
    "for i in range(len(reemplazar)):\n",
    "    accesos_localidades = accesos_localidades.with_columns(\n",
    "        pl.when(pl.col('Provincia').is_in(reemplazar[i]))\n",
    "          .then(pl.lit(correcion[i]))\n",
    "          .otherwise(pl.col('Provincia'))\n",
    "          .alias('Provincia')\n",
    "    )"
   ]
  },
  {
   "cell_type": "code",
   "execution_count": 48,
   "metadata": {},
   "outputs": [
    {
     "data": {
      "text/html": [
       "<div><style>\n",
       ".dataframe > thead > tr,\n",
       ".dataframe > tbody > tr {\n",
       "  text-align: right;\n",
       "  white-space: pre-wrap;\n",
       "}\n",
       "</style>\n",
       "<small>shape: (1, 13)</small><table border=\"1\" class=\"dataframe\"><thead><tr><th>Provincia</th><th>Partido</th><th>Localidad</th><th>id_indec</th><th>adsl</th><th>cablemodem</th><th>dial_up</th><th>fibra</th><th>otros</th><th>satelital</th><th>winmax</th><th>wireless</th><th>total</th></tr><tr><td>str</td><td>str</td><td>str</td><td>i64</td><td>i64</td><td>i64</td><td>i64</td><td>i64</td><td>i64</td><td>i64</td><td>i64</td><td>i64</td><td>i64</td></tr></thead><tbody><tr><td>&quot;Buenos Aires&quot;</td><td>&quot;25 de Mayo&quot;</td><td>&quot;25 de Mayo&quot;</td><td>6854100</td><td>755</td><td>4600</td><td>0</td><td>2</td><td>0</td><td>742</td><td>0</td><td>727</td><td>6826</td></tr></tbody></table></div>"
      ],
      "text/plain": [
       "shape: (1, 13)\n",
       "┌──────────────┬────────────┬────────────┬──────────┬───┬───────────┬────────┬──────────┬───────┐\n",
       "│ Provincia    ┆ Partido    ┆ Localidad  ┆ id_indec ┆ … ┆ satelital ┆ winmax ┆ wireless ┆ total │\n",
       "│ ---          ┆ ---        ┆ ---        ┆ ---      ┆   ┆ ---       ┆ ---    ┆ ---      ┆ ---   │\n",
       "│ str          ┆ str        ┆ str        ┆ i64      ┆   ┆ i64       ┆ i64    ┆ i64      ┆ i64   │\n",
       "╞══════════════╪════════════╪════════════╪══════════╪═══╪═══════════╪════════╪══════════╪═══════╡\n",
       "│ Buenos Aires ┆ 25 de Mayo ┆ 25 de Mayo ┆ 6854100  ┆ … ┆ 742       ┆ 0      ┆ 727      ┆ 6826  │\n",
       "└──────────────┴────────────┴────────────┴──────────┴───┴───────────┴────────┴──────────┴───────┘"
      ]
     },
     "execution_count": 48,
     "metadata": {},
     "output_type": "execute_result"
    }
   ],
   "source": [
    "# El Dataframe Cargo unos NULOS sin informacion. Lineas con rayas `-` al final de la hoja de calculo\n",
    "mask = accesos_localidades['Provincia'].is_null()\n",
    "accesos_localidades_2 = accesos_localidades.filter(~mask)\n",
    "\n",
    "# filtrando en la Hoja de Calculo Aquellas filas sin Link lo que aca llamamos id_indec tienen son sub localidades\n",
    "# con demasiado pocas conexiones.  muchas veces 1 conexion. \n",
    "mask = accesos_localidades['Link Indec'] == 'Sin Datos'\n",
    "accesos_localidades = accesos_localidades.filter(~mask)\n",
    "\n",
    "# renombro columnas\n",
    "accesos_localidades.columns = ['Provincia', 'Partido', 'Localidad','id_indec', 'adsl', 'cablemodem',\n",
    "                               'dial_up', 'fibra', 'otros', 'satelital', 'winmax', 'wireless', 'total']\n",
    "\n",
    "# Casteo a numerico el id_indec\n",
    "accesos_localidades = accesos_localidades.with_columns(pl.col('id_indec').cast(pl.Int64).alias('id_indec'))\n",
    "\n",
    "accesos_localidades.head(1)"
   ]
  },
  {
   "cell_type": "markdown",
   "metadata": {},
   "source": [
    "**Ahora hagamos ajustes en `mapa_conect`**"
   ]
  },
  {
   "cell_type": "code",
   "execution_count": 50,
   "metadata": {},
   "outputs": [
    {
     "data": {
      "text/html": [
       "<div><style>\n",
       ".dataframe > thead > tr,\n",
       ".dataframe > tbody > tr {\n",
       "  text-align: right;\n",
       "  white-space: pre-wrap;\n",
       "}\n",
       "</style>\n",
       "<small>shape: (1, 16)</small><table border=\"1\" class=\"dataframe\"><thead><tr><th>Provincia</th><th>Partido</th><th>Localidad</th><th>Población</th><th>ADSL</th><th>Cablemódem</th><th>Dial Up</th><th>Fibra óptica</th><th>Satelital</th><th>Wireless</th><th>Telefonía Fija</th><th>3G</th><th>4G</th><th>Link</th><th>Latitud</th><th>Longitud</th></tr><tr><td>str</td><td>str</td><td>str</td><td>i64</td><td>str</td><td>str</td><td>str</td><td>str</td><td>str</td><td>str</td><td>str</td><td>str</td><td>str</td><td>i64</td><td>str</td><td>str</td></tr></thead><tbody><tr><td>&quot;BUENOS AIRES&quot;</td><td>&quot;25 de Mayo&quot;</td><td>&quot;25 de Mayo&quot;</td><td>23408</td><td>&quot;SI&quot;</td><td>&quot;SI&quot;</td><td>&quot;--&quot;</td><td>&quot;--&quot;</td><td>&quot;SI&quot;</td><td>&quot;SI&quot;</td><td>&quot;SI&quot;</td><td>&quot;SI&quot;</td><td>&quot;SI&quot;</td><td>6854100</td><td>&quot;-35.4339385892588&quot;</td><td>&quot;-60.1731209454056&quot;</td></tr></tbody></table></div>"
      ],
      "text/plain": [
       "shape: (1, 16)\n",
       "┌─────────────┬────────────┬────────────┬───────────┬───┬─────┬─────────┬─────────────┬────────────┐\n",
       "│ Provincia   ┆ Partido    ┆ Localidad  ┆ Población ┆ … ┆ 4G  ┆ Link    ┆ Latitud     ┆ Longitud   │\n",
       "│ ---         ┆ ---        ┆ ---        ┆ ---       ┆   ┆ --- ┆ ---     ┆ ---         ┆ ---        │\n",
       "│ str         ┆ str        ┆ str        ┆ i64       ┆   ┆ str ┆ i64     ┆ str         ┆ str        │\n",
       "╞═════════════╪════════════╪════════════╪═══════════╪═══╪═════╪═════════╪═════════════╪════════════╡\n",
       "│ BUENOS      ┆ 25 de Mayo ┆ 25 de Mayo ┆ 23408     ┆ … ┆ SI  ┆ 6854100 ┆ -35.4339385 ┆ -60.173120 │\n",
       "│ AIRES       ┆            ┆            ┆           ┆   ┆     ┆         ┆ 892588      ┆ 9454056    │\n",
       "└─────────────┴────────────┴────────────┴───────────┴───┴─────┴─────────┴─────────────┴────────────┘"
      ]
     },
     "execution_count": 50,
     "metadata": {},
     "output_type": "execute_result"
    }
   ],
   "source": [
    "mapa_conect.head(1)"
   ]
  },
  {
   "cell_type": "code",
   "execution_count": 51,
   "metadata": {},
   "outputs": [],
   "source": [
    "mapa_conect = mapa_conect.with_columns(pl.col('Provincia').str.to_titlecase().alias('Provincia'))\n",
    "\n",
    "for i in range(len(reemplazar)):\n",
    "    mapa_conect = mapa_conect.with_columns(\n",
    "        pl.when(pl.col('Provincia').is_in(reemplazar[i]))\n",
    "          .then(pl.lit(correcion[i]))\n",
    "          .otherwise(pl.col('Provincia'))\n",
    "          .alias('Provincia')\n",
    "    )"
   ]
  },
  {
   "cell_type": "code",
   "execution_count": 52,
   "metadata": {},
   "outputs": [
    {
     "data": {
      "text/html": [
       "<div><style>\n",
       ".dataframe > thead > tr,\n",
       ".dataframe > tbody > tr {\n",
       "  text-align: right;\n",
       "  white-space: pre-wrap;\n",
       "}\n",
       "</style>\n",
       "<small>shape: (1, 16)</small><table border=\"1\" class=\"dataframe\"><thead><tr><th>Provincia</th><th>Partido</th><th>Localidad</th><th>Población</th><th>ADSL</th><th>Cablemódem</th><th>Dial Up</th><th>Fibra óptica</th><th>Satelital</th><th>Wireless</th><th>Telefonía Fija</th><th>Link</th><th>3g</th><th>latitud</th><th>4g</th><th>longitud</th></tr><tr><td>str</td><td>str</td><td>str</td><td>i64</td><td>str</td><td>str</td><td>str</td><td>str</td><td>str</td><td>str</td><td>str</td><td>i64</td><td>bool</td><td>f64</td><td>bool</td><td>f64</td></tr></thead><tbody><tr><td>&quot;Buenos Aires&quot;</td><td>&quot;25 de Mayo&quot;</td><td>&quot;25 de Mayo&quot;</td><td>23408</td><td>&quot;SI&quot;</td><td>&quot;SI&quot;</td><td>&quot;--&quot;</td><td>&quot;--&quot;</td><td>&quot;SI&quot;</td><td>&quot;SI&quot;</td><td>&quot;SI&quot;</td><td>6854100</td><td>true</td><td>-35.433939</td><td>true</td><td>-60.173121</td></tr></tbody></table></div>"
      ],
      "text/plain": [
       "shape: (1, 16)\n",
       "┌──────────────┬────────────┬────────────┬───────────┬───┬──────┬────────────┬──────┬────────────┐\n",
       "│ Provincia    ┆ Partido    ┆ Localidad  ┆ Población ┆ … ┆ 3g   ┆ latitud    ┆ 4g   ┆ longitud   │\n",
       "│ ---          ┆ ---        ┆ ---        ┆ ---       ┆   ┆ ---  ┆ ---        ┆ ---  ┆ ---        │\n",
       "│ str          ┆ str        ┆ str        ┆ i64       ┆   ┆ bool ┆ f64        ┆ bool ┆ f64        │\n",
       "╞══════════════╪════════════╪════════════╪═══════════╪═══╪══════╪════════════╪══════╪════════════╡\n",
       "│ Buenos Aires ┆ 25 de Mayo ┆ 25 de Mayo ┆ 23408     ┆ … ┆ true ┆ -35.433939 ┆ true ┆ -60.173121 │\n",
       "└──────────────┴────────────┴────────────┴───────────┴───┴──────┴────────────┴──────┴────────────┘"
      ]
     },
     "execution_count": 52,
     "metadata": {},
     "output_type": "execute_result"
    }
   ],
   "source": [
    "columns = [ ['3G', '4G'], ['Latitud', 'Longitud'] ]\n",
    "\n",
    "# en 3G y 4G vamos a sustituir \"SI\" por True y lo demas por False en una nueva columna\n",
    "# y vamos a castear las columnas de las coordenadas \n",
    "for i in range(2):\n",
    "    mapa_conect = mapa_conect.with_columns([\n",
    "        pl.when( pl.col(columns[0][i]) == 'SI')\n",
    "          .then(pl.lit(True))\n",
    "          .otherwise(pl.lit(False))\n",
    "          .alias(columns[0][i].lower()),\n",
    "        \n",
    "        pl.col(columns[1][i]).cast(pl.Float64).alias(columns[1][i].lower())  \n",
    "    ])\n",
    "\n",
    "\n",
    "# Borremos las antiguas columnas de coordenadas\n",
    "mapa_conect = mapa_conect.drop(['Latitud', 'Longitud', '3G', '4G'])\n",
    "\n",
    "mapa_conect.head(1)"
   ]
  },
  {
   "cell_type": "code",
   "execution_count": 53,
   "metadata": {},
   "outputs": [
    {
     "data": {
      "text/html": [
       "<div><style>\n",
       ".dataframe > thead > tr,\n",
       ".dataframe > tbody > tr {\n",
       "  text-align: right;\n",
       "  white-space: pre-wrap;\n",
       "}\n",
       "</style>\n",
       "<small>shape: (1, 9)</small><table border=\"1\" class=\"dataframe\"><thead><tr><th>Provincia</th><th>Partido</th><th>Localidad</th><th>poblacion</th><th>id_indec</th><th>3g</th><th>latitud</th><th>4g</th><th>longitud</th></tr><tr><td>str</td><td>str</td><td>str</td><td>i64</td><td>i64</td><td>bool</td><td>f64</td><td>bool</td><td>f64</td></tr></thead><tbody><tr><td>&quot;Buenos Aires&quot;</td><td>&quot;25 de Mayo&quot;</td><td>&quot;25 de Mayo&quot;</td><td>23408</td><td>6854100</td><td>true</td><td>-35.433939</td><td>true</td><td>-60.173121</td></tr></tbody></table></div>"
      ],
      "text/plain": [
       "shape: (1, 9)\n",
       "┌──────────────┬────────────┬────────────┬───────────┬───┬──────┬────────────┬──────┬────────────┐\n",
       "│ Provincia    ┆ Partido    ┆ Localidad  ┆ poblacion ┆ … ┆ 3g   ┆ latitud    ┆ 4g   ┆ longitud   │\n",
       "│ ---          ┆ ---        ┆ ---        ┆ ---       ┆   ┆ ---  ┆ ---        ┆ ---  ┆ ---        │\n",
       "│ str          ┆ str        ┆ str        ┆ i64       ┆   ┆ bool ┆ f64        ┆ bool ┆ f64        │\n",
       "╞══════════════╪════════════╪════════════╪═══════════╪═══╪══════╪════════════╪══════╪════════════╡\n",
       "│ Buenos Aires ┆ 25 de Mayo ┆ 25 de Mayo ┆ 23408     ┆ … ┆ true ┆ -35.433939 ┆ true ┆ -60.173121 │\n",
       "└──────────────┴────────────┴────────────┴───────────┴───┴──────┴────────────┴──────┴────────────┘"
      ]
     },
     "execution_count": 53,
     "metadata": {},
     "output_type": "execute_result"
    }
   ],
   "source": [
    "# Renombro la columna que uso para el join\n",
    "mapa_conect = mapa_conect.rename({'Link': 'id_indec', 'Población': 'poblacion'})\n",
    "\n",
    "# Borro algunas columnas\n",
    "mapa_conect = mapa_conect.drop(['ADSL','Cablemódem','Dial Up', 'Fibra óptica','Satelital','Wireless','Telefonía Fija'])\n",
    "\n",
    "mapa_conect.head(1)"
   ]
  },
  {
   "cell_type": "code",
   "execution_count": 54,
   "metadata": {},
   "outputs": [
    {
     "data": {
      "text/plain": [
       "(3002, 13)"
      ]
     },
     "execution_count": 54,
     "metadata": {},
     "output_type": "execute_result"
    }
   ],
   "source": [
    "accesos_localidades.shape"
   ]
  },
  {
   "cell_type": "markdown",
   "metadata": {},
   "source": [
    "**Ahora hay que hacer un `join` entre los 2 Datasets**"
   ]
  },
  {
   "cell_type": "code",
   "execution_count": 55,
   "metadata": {},
   "outputs": [
    {
     "name": "stdout",
     "output_type": "stream",
     "text": [
      "(3002, 19)\n"
     ]
    },
    {
     "data": {
      "text/html": [
       "<div><style>\n",
       ".dataframe > thead > tr,\n",
       ".dataframe > tbody > tr {\n",
       "  text-align: right;\n",
       "  white-space: pre-wrap;\n",
       "}\n",
       "</style>\n",
       "<small>shape: (5, 19)</small><table border=\"1\" class=\"dataframe\"><thead><tr><th>Provincia</th><th>Partido</th><th>Localidad</th><th>id_indec</th><th>adsl</th><th>cablemodem</th><th>dial_up</th><th>fibra</th><th>otros</th><th>satelital</th><th>winmax</th><th>wireless</th><th>total</th><th>poblacion</th><th>id_indec_right</th><th>3g</th><th>latitud</th><th>4g</th><th>longitud</th></tr><tr><td>str</td><td>str</td><td>str</td><td>i64</td><td>i64</td><td>i64</td><td>i64</td><td>i64</td><td>i64</td><td>i64</td><td>i64</td><td>i64</td><td>i64</td><td>i64</td><td>i64</td><td>bool</td><td>f64</td><td>bool</td><td>f64</td></tr></thead><tbody><tr><td>&quot;Buenos Aires&quot;</td><td>&quot;25 de Mayo&quot;</td><td>&quot;25 de Mayo&quot;</td><td>6854100</td><td>755</td><td>4600</td><td>0</td><td>2</td><td>0</td><td>742</td><td>0</td><td>727</td><td>6826</td><td>23408</td><td>6854100</td><td>true</td><td>-35.433939</td><td>true</td><td>-60.173121</td></tr><tr><td>&quot;Buenos Aires&quot;</td><td>&quot;25 de Mayo&quot;</td><td>&quot;Del Valle&quot;</td><td>6854020</td><td>181</td><td>0</td><td>0</td><td>0</td><td>10</td><td>1</td><td>0</td><td>0</td><td>192</td><td>899</td><td>6854020</td><td>true</td><td>-35.897345</td><td>false</td><td>-60.731609</td></tr><tr><td>&quot;Buenos Aires&quot;</td><td>&quot;25 de Mayo&quot;</td><td>&quot;Gobernador Ugarte&quot;</td><td>6854040</td><td>0</td><td>0</td><td>0</td><td>0</td><td>0</td><td>0</td><td>0</td><td>181</td><td>181</td><td>547</td><td>6854040</td><td>false</td><td>-35.164397</td><td>false</td><td>-60.081358</td></tr><tr><td>&quot;Buenos Aires&quot;</td><td>&quot;25 de Mayo&quot;</td><td>&quot;Norberto de la Riestra&quot;</td><td>6854060</td><td>0</td><td>782</td><td>0</td><td>496</td><td>16</td><td>0</td><td>0</td><td>185</td><td>1479</td><td>4524</td><td>6854060</td><td>true</td><td>-35.272779</td><td>true</td><td>-59.771933</td></tr><tr><td>&quot;Buenos Aires&quot;</td><td>&quot;25 de Mayo&quot;</td><td>&quot;Lucas Monteverde&quot;</td><td>6854050</td><td>0</td><td>0</td><td>0</td><td>0</td><td>0</td><td>0</td><td>0</td><td>6</td><td>6</td><td>63</td><td>6854050</td><td>false</td><td>-35.483827</td><td>false</td><td>-59.988065</td></tr></tbody></table></div>"
      ],
      "text/plain": [
       "shape: (5, 19)\n",
       "┌──────────────┬────────────┬─────────────┬──────────┬───┬───────┬────────────┬───────┬────────────┐\n",
       "│ Provincia    ┆ Partido    ┆ Localidad   ┆ id_indec ┆ … ┆ 3g    ┆ latitud    ┆ 4g    ┆ longitud   │\n",
       "│ ---          ┆ ---        ┆ ---         ┆ ---      ┆   ┆ ---   ┆ ---        ┆ ---   ┆ ---        │\n",
       "│ str          ┆ str        ┆ str         ┆ i64      ┆   ┆ bool  ┆ f64        ┆ bool  ┆ f64        │\n",
       "╞══════════════╪════════════╪═════════════╪══════════╪═══╪═══════╪════════════╪═══════╪════════════╡\n",
       "│ Buenos Aires ┆ 25 de Mayo ┆ 25 de Mayo  ┆ 6854100  ┆ … ┆ true  ┆ -35.433939 ┆ true  ┆ -60.173121 │\n",
       "│ Buenos Aires ┆ 25 de Mayo ┆ Del Valle   ┆ 6854020  ┆ … ┆ true  ┆ -35.897345 ┆ false ┆ -60.731609 │\n",
       "│ Buenos Aires ┆ 25 de Mayo ┆ Gobernador  ┆ 6854040  ┆ … ┆ false ┆ -35.164397 ┆ false ┆ -60.081358 │\n",
       "│              ┆            ┆ Ugarte      ┆          ┆   ┆       ┆            ┆       ┆            │\n",
       "│ Buenos Aires ┆ 25 de Mayo ┆ Norberto de ┆ 6854060  ┆ … ┆ true  ┆ -35.272779 ┆ true  ┆ -59.771933 │\n",
       "│              ┆            ┆ la Riestra  ┆          ┆   ┆       ┆            ┆       ┆            │\n",
       "│ Buenos Aires ┆ 25 de Mayo ┆ Lucas       ┆ 6854050  ┆ … ┆ false ┆ -35.483827 ┆ false ┆ -59.988065 │\n",
       "│              ┆            ┆ Monteverde  ┆          ┆   ┆       ┆            ┆       ┆            │\n",
       "└──────────────┴────────────┴─────────────┴──────────┴───┴───────┴────────────┴───────┴────────────┘"
      ]
     },
     "execution_count": 55,
     "metadata": {},
     "output_type": "execute_result"
    }
   ],
   "source": [
    "accesos_localidades = accesos_localidades.join(\n",
    "    mapa_conect, on=['Provincia', 'Partido', 'Localidad'], how='left', coalesce=True\n",
    ")\n",
    "\n",
    "print(accesos_localidades.shape)\n",
    "accesos_localidades.head()"
   ]
  },
  {
   "cell_type": "markdown",
   "metadata": {},
   "source": [
    "Borro la Columna `id_indec_right` y renombro otras"
   ]
  },
  {
   "cell_type": "code",
   "execution_count": 56,
   "metadata": {},
   "outputs": [],
   "source": [
    "accesos_localidades = accesos_localidades.drop('id_indec_right')\n",
    "\n",
    "accesos_localidades = accesos_localidades.rename(\n",
    "    {'Provincia':'provincia', 'Partido': 'partido', 'Localidad': 'localidad','3g': '_3g', '4g': '_4g'}\n",
    ")\n"
   ]
  },
  {
   "cell_type": "markdown",
   "metadata": {},
   "source": [
    "Observo sí hubo coincidencias NULAS"
   ]
  },
  {
   "cell_type": "code",
   "execution_count": 58,
   "metadata": {},
   "outputs": [
    {
     "name": "stdout",
     "output_type": "stream",
     "text": [
      "Columna --> provincia\n",
      "Cantidad de Nulos --> 0\n",
      "**************************************************\n",
      "Columna --> partido\n",
      "Cantidad de Nulos --> 0\n",
      "**************************************************\n",
      "Columna --> localidad\n",
      "Cantidad de Nulos --> 0\n",
      "**************************************************\n",
      "Columna --> id_indec\n",
      "Cantidad de Nulos --> 0\n",
      "**************************************************\n",
      "Columna --> adsl\n",
      "Cantidad de Nulos --> 0\n",
      "**************************************************\n",
      "Columna --> cablemodem\n",
      "Cantidad de Nulos --> 0\n",
      "**************************************************\n",
      "Columna --> dial_up\n",
      "Cantidad de Nulos --> 0\n",
      "**************************************************\n",
      "Columna --> fibra\n",
      "Cantidad de Nulos --> 0\n",
      "**************************************************\n",
      "Columna --> otros\n",
      "Cantidad de Nulos --> 0\n",
      "**************************************************\n",
      "Columna --> satelital\n",
      "Cantidad de Nulos --> 0\n",
      "**************************************************\n",
      "Columna --> winmax\n",
      "Cantidad de Nulos --> 0\n",
      "**************************************************\n",
      "Columna --> wireless\n",
      "Cantidad de Nulos --> 0\n",
      "**************************************************\n",
      "Columna --> total\n",
      "Cantidad de Nulos --> 0\n",
      "**************************************************\n",
      "Columna --> poblacion\n",
      "Cantidad de Nulos --> 87\n",
      "**************************************************\n",
      "Columna --> _3g\n",
      "Cantidad de Nulos --> 87\n",
      "**************************************************\n",
      "Columna --> latitud\n",
      "Cantidad de Nulos --> 87\n",
      "**************************************************\n",
      "Columna --> _4g\n",
      "Cantidad de Nulos --> 87\n",
      "**************************************************\n",
      "Columna --> longitud\n",
      "Cantidad de Nulos --> 87\n",
      "**************************************************\n"
     ]
    }
   ],
   "source": [
    "for column in accesos_localidades.columns:\n",
    "    print(f'Columna --> {column}')\n",
    "    print(f'Cantidad de Nulos --> {accesos_localidades[column].is_null().sum()}')\n",
    "    print('*'*50)"
   ]
  },
  {
   "cell_type": "code",
   "execution_count": 59,
   "metadata": {},
   "outputs": [
    {
     "data": {
      "text/html": [
       "<div><style>\n",
       ".dataframe > thead > tr,\n",
       ".dataframe > tbody > tr {\n",
       "  text-align: right;\n",
       "  white-space: pre-wrap;\n",
       "}\n",
       "</style>\n",
       "<small>shape: (87, 18)</small><table border=\"1\" class=\"dataframe\"><thead><tr><th>provincia</th><th>partido</th><th>localidad</th><th>id_indec</th><th>adsl</th><th>cablemodem</th><th>dial_up</th><th>fibra</th><th>otros</th><th>satelital</th><th>winmax</th><th>wireless</th><th>total</th><th>poblacion</th><th>_3g</th><th>latitud</th><th>_4g</th><th>longitud</th></tr><tr><td>str</td><td>str</td><td>str</td><td>i64</td><td>i64</td><td>i64</td><td>i64</td><td>i64</td><td>i64</td><td>i64</td><td>i64</td><td>i64</td><td>i64</td><td>i64</td><td>bool</td><td>f64</td><td>bool</td><td>f64</td></tr></thead><tbody><tr><td>&quot;Buenos Aires&quot;</td><td>&quot;9 de Julio&quot;</td><td>&quot;Alfredo Demarchi  (Est. Facund…</td><td>6588010</td><td>450</td><td>0</td><td>0</td><td>0</td><td>60</td><td>0</td><td>0</td><td>0</td><td>510</td><td>null</td><td>null</td><td>null</td><td>null</td><td>null</td></tr><tr><td>&quot;Buenos Aires&quot;</td><td>&quot;9 de Julio&quot;</td><td>&quot;Manuel B. Gonnet  (Est. French…</td><td>6588060</td><td>193</td><td>0</td><td>0</td><td>2</td><td>2</td><td>0</td><td>0</td><td>0</td><td>197</td><td>null</td><td>null</td><td>null</td><td>null</td><td>null</td></tr><tr><td>&quot;Buenos Aires&quot;</td><td>&quot;9 de Julio&quot;</td><td>&quot;Villa General Fournier  (Est. …</td><td>6588120</td><td>0</td><td>0</td><td>0</td><td>118</td><td>0</td><td>0</td><td>0</td><td>42</td><td>160</td><td>null</td><td>null</td><td>null</td><td>null</td><td>null</td></tr><tr><td>&quot;Buenos Aires&quot;</td><td>&quot;Adolfo Gonzales Chaves&quot;</td><td>&quot;Adolfo Gonzales Chaves  (Est. …</td><td>6014010</td><td>464</td><td>0</td><td>2</td><td>943</td><td>0</td><td>0</td><td>0</td><td>690</td><td>2099</td><td>null</td><td>null</td><td>null</td><td>null</td><td>null</td></tr><tr><td>&quot;Buenos Aires&quot;</td><td>&quot;Alberti&quot;</td><td>&quot;Alberti   (Est. Andrés Vaccare…</td><td>6021010</td><td>335</td><td>0</td><td>6</td><td>1</td><td>0</td><td>0</td><td>0</td><td>2</td><td>344</td><td>null</td><td>null</td><td>null</td><td>null</td><td>null</td></tr><tr><td>&hellip;</td><td>&hellip;</td><td>&hellip;</td><td>&hellip;</td><td>&hellip;</td><td>&hellip;</td><td>&hellip;</td><td>&hellip;</td><td>&hellip;</td><td>&hellip;</td><td>&hellip;</td><td>&hellip;</td><td>&hellip;</td><td>&hellip;</td><td>&hellip;</td><td>&hellip;</td><td>&hellip;</td><td>&hellip;</td></tr><tr><td>&quot;Neuquén&quot;</td><td>&quot;Minas&quot;</td><td>&quot;Villa Del Nahueve&quot;</td><td>58077070</td><td>0</td><td>0</td><td>0</td><td>0</td><td>0</td><td>0</td><td>0</td><td>15</td><td>15</td><td>null</td><td>null</td><td>null</td><td>null</td><td>null</td></tr><tr><td>&quot;Salta&quot;</td><td>&quot;Rosario de Lerma&quot;</td><td>&quot;La Merced Del Encón&quot;</td><td>66147015</td><td>0</td><td>0</td><td>0</td><td>175</td><td>0</td><td>0</td><td>0</td><td>82</td><td>257</td><td>null</td><td>null</td><td>null</td><td>null</td><td>null</td></tr><tr><td>&quot;San Juan&quot;</td><td>&quot;Santa Lucía&quot;</td><td>&quot;Alto de Sierra&quot;</td><td>70098010</td><td>0</td><td>0</td><td>0</td><td>0</td><td>0</td><td>0</td><td>0</td><td>88</td><td>88</td><td>null</td><td>null</td><td>null</td><td>null</td><td>null</td></tr><tr><td>&quot;Santa Fe&quot;</td><td>&quot;Las Colonias&quot;</td><td>&quot;SARMIENTO&quot;</td><td>82070310</td><td>135</td><td>0</td><td>0</td><td>0</td><td>130</td><td>0</td><td>0</td><td>159</td><td>424</td><td>null</td><td>null</td><td>null</td><td>null</td><td>null</td></tr><tr><td>&quot;Tucumán&quot;</td><td>&quot;Trancas&quot;</td><td>&quot;Villa  de Trancas&quot;</td><td>90112030</td><td>95</td><td>0</td><td>0</td><td>0</td><td>33</td><td>0</td><td>0</td><td>71</td><td>199</td><td>null</td><td>null</td><td>null</td><td>null</td><td>null</td></tr></tbody></table></div>"
      ],
      "text/plain": [
       "shape: (87, 18)\n",
       "┌──────────────┬────────────────┬────────────────┬──────────┬───┬──────┬─────────┬──────┬──────────┐\n",
       "│ provincia    ┆ partido        ┆ localidad      ┆ id_indec ┆ … ┆ _3g  ┆ latitud ┆ _4g  ┆ longitud │\n",
       "│ ---          ┆ ---            ┆ ---            ┆ ---      ┆   ┆ ---  ┆ ---     ┆ ---  ┆ ---      │\n",
       "│ str          ┆ str            ┆ str            ┆ i64      ┆   ┆ bool ┆ f64     ┆ bool ┆ f64      │\n",
       "╞══════════════╪════════════════╪════════════════╪══════════╪═══╪══════╪═════════╪══════╪══════════╡\n",
       "│ Buenos Aires ┆ 9 de Julio     ┆ Alfredo        ┆ 6588010  ┆ … ┆ null ┆ null    ┆ null ┆ null     │\n",
       "│              ┆                ┆ Demarchi       ┆          ┆   ┆      ┆         ┆      ┆          │\n",
       "│              ┆                ┆ (Est. Facund…  ┆          ┆   ┆      ┆         ┆      ┆          │\n",
       "│ Buenos Aires ┆ 9 de Julio     ┆ Manuel B.      ┆ 6588060  ┆ … ┆ null ┆ null    ┆ null ┆ null     │\n",
       "│              ┆                ┆ Gonnet  (Est.  ┆          ┆   ┆      ┆         ┆      ┆          │\n",
       "│              ┆                ┆ French…        ┆          ┆   ┆      ┆         ┆      ┆          │\n",
       "│ Buenos Aires ┆ 9 de Julio     ┆ Villa General  ┆ 6588120  ┆ … ┆ null ┆ null    ┆ null ┆ null     │\n",
       "│              ┆                ┆ Fournier       ┆          ┆   ┆      ┆         ┆      ┆          │\n",
       "│              ┆                ┆ (Est. …        ┆          ┆   ┆      ┆         ┆      ┆          │\n",
       "│ Buenos Aires ┆ Adolfo         ┆ Adolfo         ┆ 6014010  ┆ … ┆ null ┆ null    ┆ null ┆ null     │\n",
       "│              ┆ Gonzales       ┆ Gonzales       ┆          ┆   ┆      ┆         ┆      ┆          │\n",
       "│              ┆ Chaves         ┆ Chaves  (Est.  ┆          ┆   ┆      ┆         ┆      ┆          │\n",
       "│              ┆                ┆ …              ┆          ┆   ┆      ┆         ┆      ┆          │\n",
       "│ Buenos Aires ┆ Alberti        ┆ Alberti        ┆ 6021010  ┆ … ┆ null ┆ null    ┆ null ┆ null     │\n",
       "│              ┆                ┆ (Est. Andrés   ┆          ┆   ┆      ┆         ┆      ┆          │\n",
       "│              ┆                ┆ Vaccare…       ┆          ┆   ┆      ┆         ┆      ┆          │\n",
       "│ …            ┆ …              ┆ …              ┆ …        ┆ … ┆ …    ┆ …       ┆ …    ┆ …        │\n",
       "│ Neuquén      ┆ Minas          ┆ Villa Del      ┆ 58077070 ┆ … ┆ null ┆ null    ┆ null ┆ null     │\n",
       "│              ┆                ┆ Nahueve        ┆          ┆   ┆      ┆         ┆      ┆          │\n",
       "│ Salta        ┆ Rosario de     ┆ La Merced Del  ┆ 66147015 ┆ … ┆ null ┆ null    ┆ null ┆ null     │\n",
       "│              ┆ Lerma          ┆ Encón          ┆          ┆   ┆      ┆         ┆      ┆          │\n",
       "│ San Juan     ┆ Santa Lucía    ┆ Alto de Sierra ┆ 70098010 ┆ … ┆ null ┆ null    ┆ null ┆ null     │\n",
       "│ Santa Fe     ┆ Las Colonias   ┆ SARMIENTO      ┆ 82070310 ┆ … ┆ null ┆ null    ┆ null ┆ null     │\n",
       "│ Tucumán      ┆ Trancas        ┆ Villa  de      ┆ 90112030 ┆ … ┆ null ┆ null    ┆ null ┆ null     │\n",
       "│              ┆                ┆ Trancas        ┆          ┆   ┆      ┆         ┆      ┆          │\n",
       "└──────────────┴────────────────┴────────────────┴──────────┴───┴──────┴─────────┴──────┴──────────┘"
      ]
     },
     "execution_count": 59,
     "metadata": {},
     "output_type": "execute_result"
    }
   ],
   "source": [
    "mask = accesos_localidades['poblacion'].is_null()\n",
    "accesos_localidades.filter(mask)"
   ]
  },
  {
   "cell_type": "markdown",
   "metadata": {},
   "source": [
    "Estos `87 Nulos` son localidades que aparecen en la Data de la Hoja de `Accesos_tecnologia_localidad` del archivo de internet, pero que `NO APARECEN` en el archivo de `Mapa de Conectividad`. Aspectos a considerar.<br>\n",
    "- Sí el Ente Nacional de Comunicaciones (ENACOM) de Argentina, no las tomó en cuenta en su `Mapa de Conectividad` desconozco con certeza las razones, pero presumo que se puede deber a Localidades Rurales de muy POCA POBLACION, dada la cantidad de Conecciones que se observan.\n",
    "- Sí Nuestro cliente es un Potencial Inversionista en le Segmento de Ofertar Servicios de Internet, pienso que por la Inversión Inicial que debe hacer, seguramente va a preferir enfocarse en localidades mas Pobladas (mas potenciales clientes), con mejor infraestructura, ya que estas que excluye el ENACOM en algunos casos no llegan a 2000 Habitantes.  \n",
    "- No pretendo decir que sean poco importantes, pero sí el ENACOM no las consideró en su mapa de conectividad, no deberían ser consideradas como las primeras opciones de localidades donde invertir.\n",
    "- Por ahora las voy a dejar porque necesito crear un Maestro de `partidos` y `localidades` despues que cree esas dos tablas y guarde la información de esas localidades, borraré de ESTA TABLA esas localidades  "
   ]
  },
  {
   "cell_type": "markdown",
   "metadata": {},
   "source": [
    "***\n",
    "## **Creando la Tabla `rangos_localidades`**"
   ]
  },
  {
   "cell_type": "code",
   "execution_count": 64,
   "metadata": {},
   "outputs": [
    {
     "data": {
      "text/html": [
       "<div><style>\n",
       ".dataframe > thead > tr,\n",
       ".dataframe > tbody > tr {\n",
       "  text-align: right;\n",
       "  white-space: pre-wrap;\n",
       "}\n",
       "</style>\n",
       "<small>shape: (5, 125)</small><table border=\"1\" class=\"dataframe\"><thead><tr><th>Provincia</th><th>Partido</th><th>Localidad</th><th>Link Indec</th><th>Otros</th><th>0,256 Mbps</th><th>0,5 Mbps</th><th>0,512 Mbps</th><th>0,75 Mbps</th><th>1 Mbps</th><th>1,5 Mbps</th><th>2 Mbps</th><th>2,2 Mbps</th><th>2,5 Mbps</th><th>3 Mbps</th><th>3,3 Mbps</th><th>3,5 Mbps</th><th>4 Mbps</th><th>4,5 Mbps</th><th>5 Mbps</th><th>6 Mbps</th><th>6,4 Mbps</th><th>7 Mbps</th><th>7,5 Mbps</th><th>8 Mbps</th><th>9 Mbps</th><th>10 Mbps</th><th>10,1 Mbps</th><th>10,2 Mbps</th><th>11 Mbps</th><th>12 Mbps</th><th>12,3 Mbps</th><th>13 Mbps</th><th>14 Mbps</th><th>15 Mbps</th><th>16 Mbps</th><th>17 Mbps</th><th>&hellip;</th><th>160 Mbps</th><th>164 Mbps</th><th>165 Mbps</th><th>180 Mbps</th><th>200 Mbps</th><th>205 Mbps</th><th>212 Mbps</th><th>220 Mbps</th><th>225 Mbps</th><th>240 Mbps</th><th>246 Mbps</th><th>250 Mbps</th><th>256 Mbps</th><th>275 Mbps</th><th>300 Mbps</th><th>320 Mbps</th><th>325 Mbps</th><th>330 Mbps</th><th>350 Mbps</th><th>400 Mbps</th><th>450 Mbps</th><th>480 Mbps</th><th>500 Mbps</th><th>512 Mbps</th><th>520 Mbps</th><th>540 Mbps</th><th>600 Mbps</th><th>680 Mbps</th><th>700 Mbps</th><th>800 Mbps</th><th>850 Mbps</th><th>900 Mbps</th><th>999 Mbps</th><th>1000 Mbps</th><th>1024 Mbps</th><th>4000 Mbps</th><th>10000 Mbps</th></tr><tr><td>str</td><td>str</td><td>str</td><td>str</td><td>i64</td><td>i64</td><td>i64</td><td>i64</td><td>i64</td><td>i64</td><td>null</td><td>i64</td><td>null</td><td>null</td><td>i64</td><td>null</td><td>i64</td><td>i64</td><td>null</td><td>i64</td><td>i64</td><td>null</td><td>i64</td><td>null</td><td>i64</td><td>i64</td><td>i64</td><td>null</td><td>null</td><td>i64</td><td>i64</td><td>null</td><td>i64</td><td>i64</td><td>i64</td><td>i64</td><td>i64</td><td>&hellip;</td><td>null</td><td>null</td><td>null</td><td>null</td><td>i64</td><td>null</td><td>null</td><td>null</td><td>null</td><td>null</td><td>null</td><td>i64</td><td>null</td><td>null</td><td>i64</td><td>null</td><td>null</td><td>null</td><td>null</td><td>null</td><td>null</td><td>null</td><td>i64</td><td>null</td><td>null</td><td>null</td><td>i64</td><td>null</td><td>null</td><td>null</td><td>null</td><td>null</td><td>i64</td><td>i64</td><td>null</td><td>null</td><td>null</td></tr></thead><tbody><tr><td>&quot;BUENOS AIRES&quot;</td><td>&quot;25 de Mayo&quot;</td><td>&quot;25 de Mayo&quot;</td><td>&quot;6854100&quot;</td><td>null</td><td>null</td><td>2</td><td>null</td><td>19</td><td>null</td><td>null</td><td>null</td><td>null</td><td>null</td><td>85</td><td>null</td><td>145</td><td>null</td><td>null</td><td>null</td><td>76</td><td>null</td><td>null</td><td>null</td><td>299</td><td>null</td><td>288</td><td>null</td><td>null</td><td>null</td><td>null</td><td>null</td><td>null</td><td>null</td><td>415</td><td>null</td><td>null</td><td>&hellip;</td><td>null</td><td>null</td><td>null</td><td>null</td><td>null</td><td>null</td><td>null</td><td>null</td><td>null</td><td>null</td><td>null</td><td>null</td><td>null</td><td>null</td><td>95</td><td>null</td><td>null</td><td>null</td><td>null</td><td>null</td><td>null</td><td>null</td><td>3</td><td>null</td><td>null</td><td>null</td><td>null</td><td>null</td><td>null</td><td>null</td><td>null</td><td>null</td><td>null</td><td>null</td><td>null</td><td>null</td><td>null</td></tr><tr><td>&quot;BUENOS AIRES&quot;</td><td>&quot;25 de Mayo&quot;</td><td>&quot;Agustín Mosconi&quot;</td><td>&quot;6854010&quot;</td><td>null</td><td>null</td><td>null</td><td>null</td><td>null</td><td>null</td><td>null</td><td>null</td><td>null</td><td>null</td><td>null</td><td>null</td><td>null</td><td>null</td><td>null</td><td>null</td><td>null</td><td>null</td><td>null</td><td>null</td><td>null</td><td>null</td><td>59</td><td>null</td><td>null</td><td>null</td><td>null</td><td>null</td><td>null</td><td>null</td><td>null</td><td>null</td><td>null</td><td>&hellip;</td><td>null</td><td>null</td><td>null</td><td>null</td><td>null</td><td>null</td><td>null</td><td>null</td><td>null</td><td>null</td><td>null</td><td>null</td><td>null</td><td>null</td><td>null</td><td>null</td><td>null</td><td>null</td><td>null</td><td>null</td><td>null</td><td>null</td><td>null</td><td>null</td><td>null</td><td>null</td><td>null</td><td>null</td><td>null</td><td>null</td><td>null</td><td>null</td><td>null</td><td>null</td><td>null</td><td>null</td><td>null</td></tr><tr><td>&quot;BUENOS AIRES&quot;</td><td>&quot;25 de Mayo&quot;</td><td>&quot;Del Valle&quot;</td><td>&quot;6854020&quot;</td><td>null</td><td>null</td><td>1</td><td>null</td><td>null</td><td>null</td><td>null</td><td>null</td><td>null</td><td>null</td><td>181</td><td>null</td><td>null</td><td>null</td><td>null</td><td>null</td><td>null</td><td>null</td><td>null</td><td>null</td><td>null</td><td>null</td><td>10</td><td>null</td><td>null</td><td>null</td><td>null</td><td>null</td><td>null</td><td>null</td><td>null</td><td>null</td><td>null</td><td>&hellip;</td><td>null</td><td>null</td><td>null</td><td>null</td><td>null</td><td>null</td><td>null</td><td>null</td><td>null</td><td>null</td><td>null</td><td>null</td><td>null</td><td>null</td><td>null</td><td>null</td><td>null</td><td>null</td><td>null</td><td>null</td><td>null</td><td>null</td><td>null</td><td>null</td><td>null</td><td>null</td><td>null</td><td>null</td><td>null</td><td>null</td><td>null</td><td>null</td><td>null</td><td>null</td><td>null</td><td>null</td><td>null</td></tr><tr><td>&quot;BUENOS AIRES&quot;</td><td>&quot;25 de Mayo&quot;</td><td>&quot;Ernestina&quot;</td><td>&quot;6854030&quot;</td><td>null</td><td>null</td><td>null</td><td>null</td><td>null</td><td>null</td><td>null</td><td>null</td><td>null</td><td>null</td><td>null</td><td>null</td><td>null</td><td>null</td><td>null</td><td>75</td><td>null</td><td>null</td><td>null</td><td>null</td><td>null</td><td>null</td><td>null</td><td>null</td><td>null</td><td>null</td><td>null</td><td>null</td><td>null</td><td>null</td><td>null</td><td>null</td><td>null</td><td>&hellip;</td><td>null</td><td>null</td><td>null</td><td>null</td><td>null</td><td>null</td><td>null</td><td>null</td><td>null</td><td>null</td><td>null</td><td>null</td><td>null</td><td>null</td><td>null</td><td>null</td><td>null</td><td>null</td><td>null</td><td>null</td><td>null</td><td>null</td><td>null</td><td>null</td><td>null</td><td>null</td><td>null</td><td>null</td><td>null</td><td>null</td><td>null</td><td>null</td><td>null</td><td>null</td><td>null</td><td>null</td><td>null</td></tr><tr><td>&quot;BUENOS AIRES&quot;</td><td>&quot;25 de Mayo&quot;</td><td>&quot;Gobernador Ugarte&quot;</td><td>&quot;6854040&quot;</td><td>null</td><td>null</td><td>null</td><td>null</td><td>null</td><td>null</td><td>null</td><td>106</td><td>null</td><td>null</td><td>3</td><td>null</td><td>null</td><td>56</td><td>null</td><td>7</td><td>3</td><td>null</td><td>null</td><td>null</td><td>4</td><td>null</td><td>1</td><td>null</td><td>null</td><td>null</td><td>null</td><td>null</td><td>null</td><td>null</td><td>null</td><td>null</td><td>null</td><td>&hellip;</td><td>null</td><td>null</td><td>null</td><td>null</td><td>null</td><td>null</td><td>null</td><td>null</td><td>null</td><td>null</td><td>null</td><td>null</td><td>null</td><td>null</td><td>null</td><td>null</td><td>null</td><td>null</td><td>null</td><td>null</td><td>null</td><td>null</td><td>null</td><td>null</td><td>null</td><td>null</td><td>null</td><td>null</td><td>null</td><td>null</td><td>null</td><td>null</td><td>null</td><td>null</td><td>null</td><td>null</td><td>null</td></tr></tbody></table></div>"
      ],
      "text/plain": [
       "shape: (5, 125)\n",
       "┌─────────────┬─────────────┬────────────┬────────────┬───┬──────┬────────────┬────────────┬───────┐\n",
       "│ Provincia   ┆ Partido     ┆ Localidad  ┆ Link Indec ┆ … ┆ 1000 ┆ 1024 Mbps  ┆ 4000 Mbps  ┆ 10000 │\n",
       "│ ---         ┆ ---         ┆ ---        ┆ ---        ┆   ┆ Mbps ┆ ---        ┆ ---        ┆ Mbps  │\n",
       "│ str         ┆ str         ┆ str        ┆ str        ┆   ┆ ---  ┆ null       ┆ null       ┆ ---   │\n",
       "│             ┆             ┆            ┆            ┆   ┆ i64  ┆            ┆            ┆ null  │\n",
       "╞═════════════╪═════════════╪════════════╪════════════╪═══╪══════╪════════════╪════════════╪═══════╡\n",
       "│ BUENOS      ┆ 25 de Mayo  ┆ 25 de Mayo ┆ 6854100    ┆ … ┆ null ┆ null       ┆ null       ┆ null  │\n",
       "│ AIRES       ┆             ┆            ┆            ┆   ┆      ┆            ┆            ┆       │\n",
       "│ BUENOS      ┆ 25 de Mayo  ┆ Agustín    ┆ 6854010    ┆ … ┆ null ┆ null       ┆ null       ┆ null  │\n",
       "│ AIRES       ┆             ┆ Mosconi    ┆            ┆   ┆      ┆            ┆            ┆       │\n",
       "│ BUENOS      ┆ 25 de Mayo  ┆ Del Valle  ┆ 6854020    ┆ … ┆ null ┆ null       ┆ null       ┆ null  │\n",
       "│ AIRES       ┆             ┆            ┆            ┆   ┆      ┆            ┆            ┆       │\n",
       "│ BUENOS      ┆ 25 de Mayo  ┆ Ernestina  ┆ 6854030    ┆ … ┆ null ┆ null       ┆ null       ┆ null  │\n",
       "│ AIRES       ┆             ┆            ┆            ┆   ┆      ┆            ┆            ┆       │\n",
       "│ BUENOS      ┆ 25 de Mayo  ┆ Gobernador ┆ 6854040    ┆ … ┆ null ┆ null       ┆ null       ┆ null  │\n",
       "│ AIRES       ┆             ┆ Ugarte     ┆            ┆   ┆      ┆            ┆            ┆       │\n",
       "└─────────────┴─────────────┴────────────┴────────────┴───┴──────┴────────────┴────────────┴───────┘"
      ]
     },
     "execution_count": 64,
     "metadata": {},
     "output_type": "execute_result"
    }
   ],
   "source": [
    "rangos_localidades_2 = pl.read_excel('datasets_iniciales/Internet.xlsx', sheet_name='Acc_vel_loc_sinrangos')\n",
    "\n",
    "rangos_localidades_2.head()"
   ]
  },
  {
   "cell_type": "markdown",
   "metadata": {},
   "source": [
    "- Normalizemos Provincia\n",
    "- Convirtamos los Nulos en 0 en las columnas que van desde `Otros` hasta `10000 Mbps`\n",
    "- Cambiemos Nombre a ciertas columnas\n",
    "- Al igual que el Dataset anterior y por las mismas razones eliminemos los que vienen con `Sin Datos`\n",
    "- Castear a Númerico el `id_indec`"
   ]
  },
  {
   "cell_type": "code",
   "execution_count": 65,
   "metadata": {},
   "outputs": [
    {
     "data": {
      "text/html": [
       "<div><style>\n",
       ".dataframe > thead > tr,\n",
       ".dataframe > tbody > tr {\n",
       "  text-align: right;\n",
       "  white-space: pre-wrap;\n",
       "}\n",
       "</style>\n",
       "<small>shape: (5, 125)</small><table border=\"1\" class=\"dataframe\"><thead><tr><th>provincia</th><th>partido</th><th>localidad</th><th>id_indec</th><th>Otros</th><th>0,256 Mbps</th><th>0,5 Mbps</th><th>0,512 Mbps</th><th>0,75 Mbps</th><th>1 Mbps</th><th>1,5 Mbps</th><th>2 Mbps</th><th>2,2 Mbps</th><th>2,5 Mbps</th><th>3 Mbps</th><th>3,3 Mbps</th><th>3,5 Mbps</th><th>4 Mbps</th><th>4,5 Mbps</th><th>5 Mbps</th><th>6 Mbps</th><th>6,4 Mbps</th><th>7 Mbps</th><th>7,5 Mbps</th><th>8 Mbps</th><th>9 Mbps</th><th>10 Mbps</th><th>10,1 Mbps</th><th>10,2 Mbps</th><th>11 Mbps</th><th>12 Mbps</th><th>12,3 Mbps</th><th>13 Mbps</th><th>14 Mbps</th><th>15 Mbps</th><th>16 Mbps</th><th>17 Mbps</th><th>&hellip;</th><th>160 Mbps</th><th>164 Mbps</th><th>165 Mbps</th><th>180 Mbps</th><th>200 Mbps</th><th>205 Mbps</th><th>212 Mbps</th><th>220 Mbps</th><th>225 Mbps</th><th>240 Mbps</th><th>246 Mbps</th><th>250 Mbps</th><th>256 Mbps</th><th>275 Mbps</th><th>300 Mbps</th><th>320 Mbps</th><th>325 Mbps</th><th>330 Mbps</th><th>350 Mbps</th><th>400 Mbps</th><th>450 Mbps</th><th>480 Mbps</th><th>500 Mbps</th><th>512 Mbps</th><th>520 Mbps</th><th>540 Mbps</th><th>600 Mbps</th><th>680 Mbps</th><th>700 Mbps</th><th>800 Mbps</th><th>850 Mbps</th><th>900 Mbps</th><th>999 Mbps</th><th>1000 Mbps</th><th>1024 Mbps</th><th>4000 Mbps</th><th>10000 Mbps</th></tr><tr><td>str</td><td>str</td><td>str</td><td>i64</td><td>i64</td><td>i64</td><td>i64</td><td>i64</td><td>i64</td><td>i64</td><td>i32</td><td>i64</td><td>i32</td><td>i32</td><td>i64</td><td>i32</td><td>i64</td><td>i64</td><td>i32</td><td>i64</td><td>i64</td><td>i32</td><td>i64</td><td>i32</td><td>i64</td><td>i64</td><td>i64</td><td>i32</td><td>i32</td><td>i64</td><td>i64</td><td>i32</td><td>i64</td><td>i64</td><td>i64</td><td>i64</td><td>i64</td><td>&hellip;</td><td>i32</td><td>i32</td><td>i32</td><td>i32</td><td>i64</td><td>i32</td><td>i32</td><td>i32</td><td>i32</td><td>i32</td><td>i32</td><td>i64</td><td>i32</td><td>i32</td><td>i64</td><td>i32</td><td>i32</td><td>i32</td><td>i32</td><td>i32</td><td>i32</td><td>i32</td><td>i64</td><td>i32</td><td>i32</td><td>i32</td><td>i64</td><td>i32</td><td>i32</td><td>i32</td><td>i32</td><td>i32</td><td>i64</td><td>i64</td><td>i32</td><td>i32</td><td>i32</td></tr></thead><tbody><tr><td>&quot;Buenos Aires&quot;</td><td>&quot;25 de Mayo&quot;</td><td>&quot;25 de Mayo&quot;</td><td>6854100</td><td>0</td><td>0</td><td>2</td><td>0</td><td>19</td><td>0</td><td>0</td><td>0</td><td>0</td><td>0</td><td>85</td><td>0</td><td>145</td><td>0</td><td>0</td><td>0</td><td>76</td><td>0</td><td>0</td><td>0</td><td>299</td><td>0</td><td>288</td><td>0</td><td>0</td><td>0</td><td>0</td><td>0</td><td>0</td><td>0</td><td>415</td><td>0</td><td>0</td><td>&hellip;</td><td>0</td><td>0</td><td>0</td><td>0</td><td>0</td><td>0</td><td>0</td><td>0</td><td>0</td><td>0</td><td>0</td><td>0</td><td>0</td><td>0</td><td>95</td><td>0</td><td>0</td><td>0</td><td>0</td><td>0</td><td>0</td><td>0</td><td>3</td><td>0</td><td>0</td><td>0</td><td>0</td><td>0</td><td>0</td><td>0</td><td>0</td><td>0</td><td>0</td><td>0</td><td>0</td><td>0</td><td>0</td></tr><tr><td>&quot;Buenos Aires&quot;</td><td>&quot;25 de Mayo&quot;</td><td>&quot;Agustín Mosconi&quot;</td><td>6854010</td><td>0</td><td>0</td><td>0</td><td>0</td><td>0</td><td>0</td><td>0</td><td>0</td><td>0</td><td>0</td><td>0</td><td>0</td><td>0</td><td>0</td><td>0</td><td>0</td><td>0</td><td>0</td><td>0</td><td>0</td><td>0</td><td>0</td><td>59</td><td>0</td><td>0</td><td>0</td><td>0</td><td>0</td><td>0</td><td>0</td><td>0</td><td>0</td><td>0</td><td>&hellip;</td><td>0</td><td>0</td><td>0</td><td>0</td><td>0</td><td>0</td><td>0</td><td>0</td><td>0</td><td>0</td><td>0</td><td>0</td><td>0</td><td>0</td><td>0</td><td>0</td><td>0</td><td>0</td><td>0</td><td>0</td><td>0</td><td>0</td><td>0</td><td>0</td><td>0</td><td>0</td><td>0</td><td>0</td><td>0</td><td>0</td><td>0</td><td>0</td><td>0</td><td>0</td><td>0</td><td>0</td><td>0</td></tr><tr><td>&quot;Buenos Aires&quot;</td><td>&quot;25 de Mayo&quot;</td><td>&quot;Del Valle&quot;</td><td>6854020</td><td>0</td><td>0</td><td>1</td><td>0</td><td>0</td><td>0</td><td>0</td><td>0</td><td>0</td><td>0</td><td>181</td><td>0</td><td>0</td><td>0</td><td>0</td><td>0</td><td>0</td><td>0</td><td>0</td><td>0</td><td>0</td><td>0</td><td>10</td><td>0</td><td>0</td><td>0</td><td>0</td><td>0</td><td>0</td><td>0</td><td>0</td><td>0</td><td>0</td><td>&hellip;</td><td>0</td><td>0</td><td>0</td><td>0</td><td>0</td><td>0</td><td>0</td><td>0</td><td>0</td><td>0</td><td>0</td><td>0</td><td>0</td><td>0</td><td>0</td><td>0</td><td>0</td><td>0</td><td>0</td><td>0</td><td>0</td><td>0</td><td>0</td><td>0</td><td>0</td><td>0</td><td>0</td><td>0</td><td>0</td><td>0</td><td>0</td><td>0</td><td>0</td><td>0</td><td>0</td><td>0</td><td>0</td></tr><tr><td>&quot;Buenos Aires&quot;</td><td>&quot;25 de Mayo&quot;</td><td>&quot;Ernestina&quot;</td><td>6854030</td><td>0</td><td>0</td><td>0</td><td>0</td><td>0</td><td>0</td><td>0</td><td>0</td><td>0</td><td>0</td><td>0</td><td>0</td><td>0</td><td>0</td><td>0</td><td>75</td><td>0</td><td>0</td><td>0</td><td>0</td><td>0</td><td>0</td><td>0</td><td>0</td><td>0</td><td>0</td><td>0</td><td>0</td><td>0</td><td>0</td><td>0</td><td>0</td><td>0</td><td>&hellip;</td><td>0</td><td>0</td><td>0</td><td>0</td><td>0</td><td>0</td><td>0</td><td>0</td><td>0</td><td>0</td><td>0</td><td>0</td><td>0</td><td>0</td><td>0</td><td>0</td><td>0</td><td>0</td><td>0</td><td>0</td><td>0</td><td>0</td><td>0</td><td>0</td><td>0</td><td>0</td><td>0</td><td>0</td><td>0</td><td>0</td><td>0</td><td>0</td><td>0</td><td>0</td><td>0</td><td>0</td><td>0</td></tr><tr><td>&quot;Buenos Aires&quot;</td><td>&quot;25 de Mayo&quot;</td><td>&quot;Gobernador Ugarte&quot;</td><td>6854040</td><td>0</td><td>0</td><td>0</td><td>0</td><td>0</td><td>0</td><td>0</td><td>106</td><td>0</td><td>0</td><td>3</td><td>0</td><td>0</td><td>56</td><td>0</td><td>7</td><td>3</td><td>0</td><td>0</td><td>0</td><td>4</td><td>0</td><td>1</td><td>0</td><td>0</td><td>0</td><td>0</td><td>0</td><td>0</td><td>0</td><td>0</td><td>0</td><td>0</td><td>&hellip;</td><td>0</td><td>0</td><td>0</td><td>0</td><td>0</td><td>0</td><td>0</td><td>0</td><td>0</td><td>0</td><td>0</td><td>0</td><td>0</td><td>0</td><td>0</td><td>0</td><td>0</td><td>0</td><td>0</td><td>0</td><td>0</td><td>0</td><td>0</td><td>0</td><td>0</td><td>0</td><td>0</td><td>0</td><td>0</td><td>0</td><td>0</td><td>0</td><td>0</td><td>0</td><td>0</td><td>0</td><td>0</td></tr></tbody></table></div>"
      ],
      "text/plain": [
       "shape: (5, 125)\n",
       "┌─────────────┬────────────┬────────────┬──────────┬───┬───────────┬───────────┬───────────┬───────┐\n",
       "│ provincia   ┆ partido    ┆ localidad  ┆ id_indec ┆ … ┆ 1000 Mbps ┆ 1024 Mbps ┆ 4000 Mbps ┆ 10000 │\n",
       "│ ---         ┆ ---        ┆ ---        ┆ ---      ┆   ┆ ---       ┆ ---       ┆ ---       ┆ Mbps  │\n",
       "│ str         ┆ str        ┆ str        ┆ i64      ┆   ┆ i64       ┆ i32       ┆ i32       ┆ ---   │\n",
       "│             ┆            ┆            ┆          ┆   ┆           ┆           ┆           ┆ i32   │\n",
       "╞═════════════╪════════════╪════════════╪══════════╪═══╪═══════════╪═══════════╪═══════════╪═══════╡\n",
       "│ Buenos      ┆ 25 de Mayo ┆ 25 de Mayo ┆ 6854100  ┆ … ┆ 0         ┆ 0         ┆ 0         ┆ 0     │\n",
       "│ Aires       ┆            ┆            ┆          ┆   ┆           ┆           ┆           ┆       │\n",
       "│ Buenos      ┆ 25 de Mayo ┆ Agustín    ┆ 6854010  ┆ … ┆ 0         ┆ 0         ┆ 0         ┆ 0     │\n",
       "│ Aires       ┆            ┆ Mosconi    ┆          ┆   ┆           ┆           ┆           ┆       │\n",
       "│ Buenos      ┆ 25 de Mayo ┆ Del Valle  ┆ 6854020  ┆ … ┆ 0         ┆ 0         ┆ 0         ┆ 0     │\n",
       "│ Aires       ┆            ┆            ┆          ┆   ┆           ┆           ┆           ┆       │\n",
       "│ Buenos      ┆ 25 de Mayo ┆ Ernestina  ┆ 6854030  ┆ … ┆ 0         ┆ 0         ┆ 0         ┆ 0     │\n",
       "│ Aires       ┆            ┆            ┆          ┆   ┆           ┆           ┆           ┆       │\n",
       "│ Buenos      ┆ 25 de Mayo ┆ Gobernador ┆ 6854040  ┆ … ┆ 0         ┆ 0         ┆ 0         ┆ 0     │\n",
       "│ Aires       ┆            ┆ Ugarte     ┆          ┆   ┆           ┆           ┆           ┆       │\n",
       "└─────────────┴────────────┴────────────┴──────────┴───┴───────────┴───────────┴───────────┴───────┘"
      ]
     },
     "execution_count": 65,
     "metadata": {},
     "output_type": "execute_result"
    }
   ],
   "source": [
    "rangos_localidades_2 = rangos_localidades_2.with_columns(pl.col('Provincia').str.to_titlecase().alias('Provincia'))\n",
    "\n",
    "for i in range(len(reemplazar)):\n",
    "    rangos_localidades_2 = rangos_localidades_2.with_columns(\n",
    "        pl.when(pl.col('Provincia').is_in(reemplazar[i]))\n",
    "          .then(pl.lit(correcion[i]))\n",
    "          .otherwise(pl.col('Provincia'))\n",
    "          .alias('Provincia')\n",
    "    )\n",
    "\n",
    "rangos_localidades_2 = rangos_localidades_2.rename(\n",
    "    {'Provincia':'provincia', 'Partido': 'partido', 'Localidad': 'localidad', 'Link Indec': 'id_indec'}\n",
    ")    \n",
    "\n",
    "columns = rangos_localidades_2.columns[4:]\n",
    "for column in columns:\n",
    "    rangos_localidades_2 = rangos_localidades_2.with_columns(pl.col(column).fill_null(0).alias(column))\n",
    "\n",
    "mask = rangos_localidades_2['id_indec'] == 'Sin Datos'\n",
    "rangos_localidades_2 = rangos_localidades_2.filter(~mask)\n",
    "\n",
    "rangos_localidades_2 = rangos_localidades_2.with_columns(\n",
    "    pl.col('id_indec').cast(pl.Int64).alias('id_indec')\n",
    ")\n",
    "\n",
    "rangos_localidades_2.head()"
   ]
  },
  {
   "cell_type": "code",
   "execution_count": 66,
   "metadata": {},
   "outputs": [
    {
     "name": "stdout",
     "output_type": "stream",
     "text": [
      "(18599, 6)\n",
      "50 distintas velocidades\n"
     ]
    },
    {
     "data": {
      "text/html": [
       "<div><style>\n",
       ".dataframe > thead > tr,\n",
       ".dataframe > tbody > tr {\n",
       "  text-align: right;\n",
       "  white-space: pre-wrap;\n",
       "}\n",
       "</style>\n",
       "<small>shape: (10, 6)</small><table border=\"1\" class=\"dataframe\"><thead><tr><th>provincia</th><th>partido</th><th>localidad</th><th>id_indec</th><th>velocidad_mbps</th><th>accesos</th></tr><tr><td>str</td><td>str</td><td>str</td><td>i64</td><td>f64</td><td>i64</td></tr></thead><tbody><tr><td>&quot;Buenos Aires&quot;</td><td>&quot;25 de Mayo&quot;</td><td>&quot;25 de Mayo&quot;</td><td>6854100</td><td>0.5</td><td>2</td></tr><tr><td>&quot;Buenos Aires&quot;</td><td>&quot;25 de Mayo&quot;</td><td>&quot;25 de Mayo&quot;</td><td>6854100</td><td>0.75</td><td>19</td></tr><tr><td>&quot;Buenos Aires&quot;</td><td>&quot;25 de Mayo&quot;</td><td>&quot;25 de Mayo&quot;</td><td>6854100</td><td>3.0</td><td>85</td></tr><tr><td>&quot;Buenos Aires&quot;</td><td>&quot;25 de Mayo&quot;</td><td>&quot;25 de Mayo&quot;</td><td>6854100</td><td>3.5</td><td>145</td></tr><tr><td>&quot;Buenos Aires&quot;</td><td>&quot;25 de Mayo&quot;</td><td>&quot;25 de Mayo&quot;</td><td>6854100</td><td>6.0</td><td>76</td></tr><tr><td>&quot;Buenos Aires&quot;</td><td>&quot;25 de Mayo&quot;</td><td>&quot;25 de Mayo&quot;</td><td>6854100</td><td>8.0</td><td>299</td></tr><tr><td>&quot;Buenos Aires&quot;</td><td>&quot;25 de Mayo&quot;</td><td>&quot;25 de Mayo&quot;</td><td>6854100</td><td>10.0</td><td>288</td></tr><tr><td>&quot;Buenos Aires&quot;</td><td>&quot;25 de Mayo&quot;</td><td>&quot;25 de Mayo&quot;</td><td>6854100</td><td>15.0</td><td>415</td></tr><tr><td>&quot;Buenos Aires&quot;</td><td>&quot;25 de Mayo&quot;</td><td>&quot;25 de Mayo&quot;</td><td>6854100</td><td>20.0</td><td>1797</td></tr><tr><td>&quot;Buenos Aires&quot;</td><td>&quot;25 de Mayo&quot;</td><td>&quot;25 de Mayo&quot;</td><td>6854100</td><td>25.0</td><td>144</td></tr></tbody></table></div>"
      ],
      "text/plain": [
       "shape: (10, 6)\n",
       "┌──────────────┬────────────┬────────────┬──────────┬────────────────┬─────────┐\n",
       "│ provincia    ┆ partido    ┆ localidad  ┆ id_indec ┆ velocidad_mbps ┆ accesos │\n",
       "│ ---          ┆ ---        ┆ ---        ┆ ---      ┆ ---            ┆ ---     │\n",
       "│ str          ┆ str        ┆ str        ┆ i64      ┆ f64            ┆ i64     │\n",
       "╞══════════════╪════════════╪════════════╪══════════╪════════════════╪═════════╡\n",
       "│ Buenos Aires ┆ 25 de Mayo ┆ 25 de Mayo ┆ 6854100  ┆ 0.5            ┆ 2       │\n",
       "│ Buenos Aires ┆ 25 de Mayo ┆ 25 de Mayo ┆ 6854100  ┆ 0.75           ┆ 19      │\n",
       "│ Buenos Aires ┆ 25 de Mayo ┆ 25 de Mayo ┆ 6854100  ┆ 3.0            ┆ 85      │\n",
       "│ Buenos Aires ┆ 25 de Mayo ┆ 25 de Mayo ┆ 6854100  ┆ 3.5            ┆ 145     │\n",
       "│ Buenos Aires ┆ 25 de Mayo ┆ 25 de Mayo ┆ 6854100  ┆ 6.0            ┆ 76      │\n",
       "│ Buenos Aires ┆ 25 de Mayo ┆ 25 de Mayo ┆ 6854100  ┆ 8.0            ┆ 299     │\n",
       "│ Buenos Aires ┆ 25 de Mayo ┆ 25 de Mayo ┆ 6854100  ┆ 10.0           ┆ 288     │\n",
       "│ Buenos Aires ┆ 25 de Mayo ┆ 25 de Mayo ┆ 6854100  ┆ 15.0           ┆ 415     │\n",
       "│ Buenos Aires ┆ 25 de Mayo ┆ 25 de Mayo ┆ 6854100  ┆ 20.0           ┆ 1797    │\n",
       "│ Buenos Aires ┆ 25 de Mayo ┆ 25 de Mayo ┆ 6854100  ┆ 25.0           ┆ 144     │\n",
       "└──────────────┴────────────┴────────────┴──────────┴────────────────┴─────────┘"
      ]
     },
     "execution_count": 66,
     "metadata": {},
     "output_type": "execute_result"
    }
   ],
   "source": [
    "\"\"\"\n",
    "columna 0 ---> provincia\n",
    "columna 1 ---> partido\n",
    "columna 2 ---> localidad\n",
    "columna 3 ---> id_indec\n",
    "\"\"\"\n",
    "\n",
    "# tomo las columnas de \"Otros\" en adelante\n",
    "columns = rangos_localidades_2.columns[4:]\n",
    "list_rangos_localidades = []\n",
    "for i in range(rangos_localidades_2.shape[0]):\n",
    "    for j,column in enumerate(columns):\n",
    "        if rangos_localidades_2[i,4+j] != 0:\n",
    "            row = {}\n",
    "            row['provincia'] = rangos_localidades_2[i,0]\n",
    "            row['partido'] = rangos_localidades_2[i,1]\n",
    "            row['localidad'] = rangos_localidades_2[i,2]\n",
    "            row['id_indec'] = rangos_localidades_2[i,3]\n",
    "            row['velocidad_mbps'] = -10 if column == 'Otros' else float(column[:column.find(' ')].replace(',','.'))\n",
    "            row['accesos'] = rangos_localidades_2[i,4+j]\n",
    "            list_rangos_localidades.append(row)\n",
    " \n",
    "rangos_localidades = pl.DataFrame(list_rangos_localidades)\n",
    "print(rangos_localidades.shape)\n",
    "del rangos_localidades_2\n",
    "# Verificando cuantas velocidades distintas existen\n",
    "print(f\"{rangos_localidades['velocidad_mbps'].unique().count()} distintas velocidades\")\n",
    "rangos_localidades.head(10)"
   ]
  },
  {
   "cell_type": "markdown",
   "metadata": {},
   "source": [
    "***\n",
    "# Tablas `partidos` y `localidades`"
   ]
  },
  {
   "cell_type": "code",
   "execution_count": 70,
   "metadata": {},
   "outputs": [
    {
     "name": "stdout",
     "output_type": "stream",
     "text": [
      "Hay  2983 localidades distintas en \"rangos_localidades\"\n",
      "Hay  3002 localidades distintas en \"accesos_localidades\"\n"
     ]
    }
   ],
   "source": [
    "localidades_de_rangos = rangos_localidades['provincia', 'partido', 'localidad', 'id_indec'].unique().to_dicts()\n",
    "localidades_de_accesos = accesos_localidades['provincia', 'partido', 'localidad', 'id_indec'].to_dicts()\n",
    "\n",
    "print(f'Hay  {len(localidades_de_rangos)} localidades distintas en \"rangos_localidades\"')\n",
    "print(f'Hay  {len(localidades_de_accesos)} localidades distintas en \"accesos_localidades\"')"
   ]
  },
  {
   "cell_type": "markdown",
   "metadata": {},
   "source": [
    "En el for de abajo recorro la lista de diccionario mas pequeña y diccionario que no se encuentre dentro de la lista mas grande, se lo anexo"
   ]
  },
  {
   "cell_type": "code",
   "execution_count": 71,
   "metadata": {},
   "outputs": [
    {
     "name": "stdout",
     "output_type": "stream",
     "text": [
      "En Total hay 3021 localidades distintas entre estas dos tablas\n"
     ]
    }
   ],
   "source": [
    "for diccionario in localidades_de_rangos:\n",
    "    if not diccionario in localidades_de_accesos:\n",
    "        localidades_de_accesos.append(diccionario)\n",
    "\n",
    "print(f'En Total hay {len(localidades_de_accesos)} localidades distintas entre estas dos tablas')"
   ]
  },
  {
   "cell_type": "markdown",
   "metadata": {},
   "source": [
    "Voy a Normalizar las Tablas `localidades` y `partidos` SOLO CON ESTAS localidades que son las que voy a utilizar"
   ]
  },
  {
   "cell_type": "code",
   "execution_count": 72,
   "metadata": {},
   "outputs": [],
   "source": [
    "# Estas son las Localidades distintas que pueden haber solo trabajando con estas dos tablas\n",
    "localidades = pl.DataFrame(localidades_de_accesos)\n",
    "\n",
    "# Estos son los partidos distintos que pueden haber solo trabajando con estas dos tablas\n",
    "partidos = localidades['provincia', 'partido'].unique()\n",
    "\n",
    "# Creo el indice de localidad\n",
    "localidades = localidades.with_row_index(name='id_localidad', offset=1)\n",
    "\n",
    "# Creo el indice de paritdo\n",
    "partidos = partidos.with_row_index(name='id_partido', offset=1)"
   ]
  },
  {
   "cell_type": "code",
   "execution_count": 75,
   "metadata": {},
   "outputs": [
    {
     "data": {
      "text/html": [
       "<div><style>\n",
       ".dataframe > thead > tr,\n",
       ".dataframe > tbody > tr {\n",
       "  text-align: right;\n",
       "  white-space: pre-wrap;\n",
       "}\n",
       "</style>\n",
       "<small>shape: (1, 5)</small><table border=\"1\" class=\"dataframe\"><thead><tr><th>id_localidad</th><th>provincia</th><th>partido</th><th>localidad</th><th>id_indec</th></tr><tr><td>u32</td><td>str</td><td>str</td><td>str</td><td>i64</td></tr></thead><tbody><tr><td>1</td><td>&quot;Buenos Aires&quot;</td><td>&quot;25 de Mayo&quot;</td><td>&quot;25 de Mayo&quot;</td><td>6854100</td></tr></tbody></table></div>"
      ],
      "text/plain": [
       "shape: (1, 5)\n",
       "┌──────────────┬──────────────┬────────────┬────────────┬──────────┐\n",
       "│ id_localidad ┆ provincia    ┆ partido    ┆ localidad  ┆ id_indec │\n",
       "│ ---          ┆ ---          ┆ ---        ┆ ---        ┆ ---      │\n",
       "│ u32          ┆ str          ┆ str        ┆ str        ┆ i64      │\n",
       "╞══════════════╪══════════════╪════════════╪════════════╪══════════╡\n",
       "│ 1            ┆ Buenos Aires ┆ 25 de Mayo ┆ 25 de Mayo ┆ 6854100  │\n",
       "└──────────────┴──────────────┴────────────┴────────────┴──────────┘"
      ]
     },
     "execution_count": 75,
     "metadata": {},
     "output_type": "execute_result"
    }
   ],
   "source": [
    "localidades.head(1)"
   ]
  },
  {
   "cell_type": "code",
   "execution_count": 76,
   "metadata": {},
   "outputs": [
    {
     "data": {
      "text/html": [
       "<div><style>\n",
       ".dataframe > thead > tr,\n",
       ".dataframe > tbody > tr {\n",
       "  text-align: right;\n",
       "  white-space: pre-wrap;\n",
       "}\n",
       "</style>\n",
       "<small>shape: (1, 3)</small><table border=\"1\" class=\"dataframe\"><thead><tr><th>id_partido</th><th>provincia</th><th>partido</th></tr><tr><td>u32</td><td>str</td><td>str</td></tr></thead><tbody><tr><td>1</td><td>&quot;Chaco&quot;</td><td>&quot;12 de Octubre&quot;</td></tr></tbody></table></div>"
      ],
      "text/plain": [
       "shape: (1, 3)\n",
       "┌────────────┬───────────┬───────────────┐\n",
       "│ id_partido ┆ provincia ┆ partido       │\n",
       "│ ---        ┆ ---       ┆ ---           │\n",
       "│ u32        ┆ str       ┆ str           │\n",
       "╞════════════╪═══════════╪═══════════════╡\n",
       "│ 1          ┆ Chaco     ┆ 12 de Octubre │\n",
       "└────────────┴───────────┴───────────────┘"
      ]
     },
     "execution_count": 76,
     "metadata": {},
     "output_type": "execute_result"
    }
   ],
   "source": [
    "partidos.head(1)"
   ]
  },
  {
   "cell_type": "markdown",
   "metadata": {},
   "source": [
    "Verificando que solo hay 24 provincias en partidos y localidades"
   ]
  },
  {
   "cell_type": "code",
   "execution_count": 77,
   "metadata": {},
   "outputs": [
    {
     "data": {
      "text/plain": [
       "(24,)"
      ]
     },
     "execution_count": 77,
     "metadata": {},
     "output_type": "execute_result"
    }
   ],
   "source": [
    "localidades['provincia'].unique().shape"
   ]
  },
  {
   "cell_type": "code",
   "execution_count": 78,
   "metadata": {},
   "outputs": [
    {
     "data": {
      "text/plain": [
       "(24,)"
      ]
     },
     "execution_count": 78,
     "metadata": {},
     "output_type": "execute_result"
    }
   ],
   "source": [
    "partidos['provincia'].unique().shape"
   ]
  },
  {
   "cell_type": "markdown",
   "metadata": {},
   "source": [
    "Sustituyendo `provincia` por `id_provincia` dentro de `partidos`"
   ]
  },
  {
   "cell_type": "code",
   "execution_count": 79,
   "metadata": {},
   "outputs": [
    {
     "data": {
      "text/html": [
       "<div><style>\n",
       ".dataframe > thead > tr,\n",
       ".dataframe > tbody > tr {\n",
       "  text-align: right;\n",
       "  white-space: pre-wrap;\n",
       "}\n",
       "</style>\n",
       "<small>shape: (1, 3)</small><table border=\"1\" class=\"dataframe\"><thead><tr><th>id_partido</th><th>partido</th><th>id_provincia</th></tr><tr><td>u32</td><td>str</td><td>i64</td></tr></thead><tbody><tr><td>1</td><td>&quot;12 de Octubre&quot;</td><td>22</td></tr></tbody></table></div>"
      ],
      "text/plain": [
       "shape: (1, 3)\n",
       "┌────────────┬───────────────┬──────────────┐\n",
       "│ id_partido ┆ partido       ┆ id_provincia │\n",
       "│ ---        ┆ ---           ┆ ---          │\n",
       "│ u32        ┆ str           ┆ i64          │\n",
       "╞════════════╪═══════════════╪══════════════╡\n",
       "│ 1          ┆ 12 de Octubre ┆ 22           │\n",
       "└────────────┴───────────────┴──────────────┘"
      ]
     },
     "execution_count": 79,
     "metadata": {},
     "output_type": "execute_result"
    }
   ],
   "source": [
    "partidos = partidos.join(\n",
    "    provincias['id_provincia','provincia'], on='provincia', how='left', coalesce=True\n",
    ")\n",
    "\n",
    "partidos = partidos.drop('provincia')\n",
    "\n",
    "partidos.head(1)"
   ]
  },
  {
   "cell_type": "markdown",
   "metadata": {},
   "source": [
    "Verificando que los Join se comportaron bien y no quedaron nulos"
   ]
  },
  {
   "cell_type": "code",
   "execution_count": 81,
   "metadata": {},
   "outputs": [
    {
     "name": "stdout",
     "output_type": "stream",
     "text": [
      "Columna --> id_partido\n",
      "Cantidad de Nulos --> 0\n",
      "**************************************************\n",
      "Columna --> partido\n",
      "Cantidad de Nulos --> 0\n",
      "**************************************************\n",
      "Columna --> id_provincia\n",
      "Cantidad de Nulos --> 0\n",
      "**************************************************\n"
     ]
    }
   ],
   "source": [
    "for column in partidos.columns:\n",
    "    print(f'Columna --> {column}')\n",
    "    print(f'Cantidad de Nulos --> {partidos[column].is_null().sum()}')\n",
    "    print('*'*50)"
   ]
  },
  {
   "cell_type": "code",
   "execution_count": 82,
   "metadata": {},
   "outputs": [
    {
     "data": {
      "text/html": [
       "<div><style>\n",
       ".dataframe > thead > tr,\n",
       ".dataframe > tbody > tr {\n",
       "  text-align: right;\n",
       "  white-space: pre-wrap;\n",
       "}\n",
       "</style>\n",
       "<small>shape: (1, 7)</small><table border=\"1\" class=\"dataframe\"><thead><tr><th>id_localidad</th><th>provincia</th><th>partido</th><th>localidad</th><th>id_indec</th><th>id_provincia</th><th>id_partido</th></tr><tr><td>u32</td><td>str</td><td>str</td><td>str</td><td>i64</td><td>i64</td><td>u32</td></tr></thead><tbody><tr><td>1</td><td>&quot;Buenos Aires&quot;</td><td>&quot;25 de Mayo&quot;</td><td>&quot;25 de Mayo&quot;</td><td>6854100</td><td>6</td><td>387</td></tr></tbody></table></div>"
      ],
      "text/plain": [
       "shape: (1, 7)\n",
       "┌──────────────┬──────────────┬────────────┬────────────┬──────────┬──────────────┬────────────┐\n",
       "│ id_localidad ┆ provincia    ┆ partido    ┆ localidad  ┆ id_indec ┆ id_provincia ┆ id_partido │\n",
       "│ ---          ┆ ---          ┆ ---        ┆ ---        ┆ ---      ┆ ---          ┆ ---        │\n",
       "│ u32          ┆ str          ┆ str        ┆ str        ┆ i64      ┆ i64          ┆ u32        │\n",
       "╞══════════════╪══════════════╪════════════╪════════════╪══════════╪══════════════╪════════════╡\n",
       "│ 1            ┆ Buenos Aires ┆ 25 de Mayo ┆ 25 de Mayo ┆ 6854100  ┆ 6            ┆ 387        │\n",
       "└──────────────┴──────────────┴────────────┴────────────┴──────────┴──────────────┴────────────┘"
      ]
     },
     "execution_count": 82,
     "metadata": {},
     "output_type": "execute_result"
    }
   ],
   "source": [
    "# Creo el id_provincia necesario para el sigiuente Join\n",
    "localidades = localidades.join(\n",
    "    provincias['id_provincia', 'provincia'], on='provincia', how='left', coalesce=True\n",
    ")\n",
    "\n",
    "localidades = localidades.join(\n",
    "    partidos, on=['id_provincia', 'partido'], how='left', coalesce=True\n",
    ")\n",
    "\n",
    "localidades.head(1)"
   ]
  },
  {
   "cell_type": "markdown",
   "metadata": {},
   "source": [
    "Anexo un id_localidad a las tablas `accesos_localidades` y `accesos_localidades`"
   ]
  },
  {
   "cell_type": "code",
   "execution_count": 84,
   "metadata": {},
   "outputs": [],
   "source": [
    "columns = ['id_localidad', 'provincia', 'partido', 'localidad']\n",
    "join_columns = ['provincia', 'partido', 'localidad']\n",
    "\n",
    "rangos_localidades = rangos_localidades.join(\n",
    "    localidades[columns], on=join_columns, how='left', coalesce=True\n",
    ")\n",
    "\n",
    "accesos_localidades = accesos_localidades.join(\n",
    "    localidades[columns], on=join_columns, how='left', coalesce=True\n",
    ")"
   ]
  },
  {
   "cell_type": "code",
   "execution_count": 85,
   "metadata": {},
   "outputs": [
    {
     "data": {
      "text/html": [
       "<div><style>\n",
       ".dataframe > thead > tr,\n",
       ".dataframe > tbody > tr {\n",
       "  text-align: right;\n",
       "  white-space: pre-wrap;\n",
       "}\n",
       "</style>\n",
       "<small>shape: (5, 7)</small><table border=\"1\" class=\"dataframe\"><thead><tr><th>provincia</th><th>partido</th><th>localidad</th><th>id_indec</th><th>velocidad_mbps</th><th>accesos</th><th>id_localidad</th></tr><tr><td>str</td><td>str</td><td>str</td><td>i64</td><td>f64</td><td>i64</td><td>u32</td></tr></thead><tbody><tr><td>&quot;Buenos Aires&quot;</td><td>&quot;25 de Mayo&quot;</td><td>&quot;25 de Mayo&quot;</td><td>6854100</td><td>0.5</td><td>2</td><td>1</td></tr><tr><td>&quot;Buenos Aires&quot;</td><td>&quot;25 de Mayo&quot;</td><td>&quot;25 de Mayo&quot;</td><td>6854100</td><td>0.75</td><td>19</td><td>1</td></tr><tr><td>&quot;Buenos Aires&quot;</td><td>&quot;25 de Mayo&quot;</td><td>&quot;25 de Mayo&quot;</td><td>6854100</td><td>3.0</td><td>85</td><td>1</td></tr><tr><td>&quot;Buenos Aires&quot;</td><td>&quot;25 de Mayo&quot;</td><td>&quot;25 de Mayo&quot;</td><td>6854100</td><td>3.5</td><td>145</td><td>1</td></tr><tr><td>&quot;Buenos Aires&quot;</td><td>&quot;25 de Mayo&quot;</td><td>&quot;25 de Mayo&quot;</td><td>6854100</td><td>6.0</td><td>76</td><td>1</td></tr></tbody></table></div>"
      ],
      "text/plain": [
       "shape: (5, 7)\n",
       "┌──────────────┬────────────┬────────────┬──────────┬────────────────┬─────────┬──────────────┐\n",
       "│ provincia    ┆ partido    ┆ localidad  ┆ id_indec ┆ velocidad_mbps ┆ accesos ┆ id_localidad │\n",
       "│ ---          ┆ ---        ┆ ---        ┆ ---      ┆ ---            ┆ ---     ┆ ---          │\n",
       "│ str          ┆ str        ┆ str        ┆ i64      ┆ f64            ┆ i64     ┆ u32          │\n",
       "╞══════════════╪════════════╪════════════╪══════════╪════════════════╪═════════╪══════════════╡\n",
       "│ Buenos Aires ┆ 25 de Mayo ┆ 25 de Mayo ┆ 6854100  ┆ 0.5            ┆ 2       ┆ 1            │\n",
       "│ Buenos Aires ┆ 25 de Mayo ┆ 25 de Mayo ┆ 6854100  ┆ 0.75           ┆ 19      ┆ 1            │\n",
       "│ Buenos Aires ┆ 25 de Mayo ┆ 25 de Mayo ┆ 6854100  ┆ 3.0            ┆ 85      ┆ 1            │\n",
       "│ Buenos Aires ┆ 25 de Mayo ┆ 25 de Mayo ┆ 6854100  ┆ 3.5            ┆ 145     ┆ 1            │\n",
       "│ Buenos Aires ┆ 25 de Mayo ┆ 25 de Mayo ┆ 6854100  ┆ 6.0            ┆ 76      ┆ 1            │\n",
       "└──────────────┴────────────┴────────────┴──────────┴────────────────┴─────────┴──────────────┘"
      ]
     },
     "execution_count": 85,
     "metadata": {},
     "output_type": "execute_result"
    }
   ],
   "source": [
    "rangos_localidades.head(5)"
   ]
  },
  {
   "cell_type": "code",
   "execution_count": 87,
   "metadata": {},
   "outputs": [
    {
     "data": {
      "text/html": [
       "<div><style>\n",
       ".dataframe > thead > tr,\n",
       ".dataframe > tbody > tr {\n",
       "  text-align: right;\n",
       "  white-space: pre-wrap;\n",
       "}\n",
       "</style>\n",
       "<small>shape: (5, 19)</small><table border=\"1\" class=\"dataframe\"><thead><tr><th>provincia</th><th>partido</th><th>localidad</th><th>id_indec</th><th>adsl</th><th>cablemodem</th><th>dial_up</th><th>fibra</th><th>otros</th><th>satelital</th><th>winmax</th><th>wireless</th><th>total</th><th>poblacion</th><th>_3g</th><th>latitud</th><th>_4g</th><th>longitud</th><th>id_localidad</th></tr><tr><td>str</td><td>str</td><td>str</td><td>i64</td><td>i64</td><td>i64</td><td>i64</td><td>i64</td><td>i64</td><td>i64</td><td>i64</td><td>i64</td><td>i64</td><td>i64</td><td>bool</td><td>f64</td><td>bool</td><td>f64</td><td>u32</td></tr></thead><tbody><tr><td>&quot;Buenos Aires&quot;</td><td>&quot;25 de Mayo&quot;</td><td>&quot;25 de Mayo&quot;</td><td>6854100</td><td>755</td><td>4600</td><td>0</td><td>2</td><td>0</td><td>742</td><td>0</td><td>727</td><td>6826</td><td>23408</td><td>true</td><td>-35.433939</td><td>true</td><td>-60.173121</td><td>1</td></tr><tr><td>&quot;Buenos Aires&quot;</td><td>&quot;25 de Mayo&quot;</td><td>&quot;Del Valle&quot;</td><td>6854020</td><td>181</td><td>0</td><td>0</td><td>0</td><td>10</td><td>1</td><td>0</td><td>0</td><td>192</td><td>899</td><td>true</td><td>-35.897345</td><td>false</td><td>-60.731609</td><td>2</td></tr><tr><td>&quot;Buenos Aires&quot;</td><td>&quot;25 de Mayo&quot;</td><td>&quot;Gobernador Ugarte&quot;</td><td>6854040</td><td>0</td><td>0</td><td>0</td><td>0</td><td>0</td><td>0</td><td>0</td><td>181</td><td>181</td><td>547</td><td>false</td><td>-35.164397</td><td>false</td><td>-60.081358</td><td>3</td></tr><tr><td>&quot;Buenos Aires&quot;</td><td>&quot;25 de Mayo&quot;</td><td>&quot;Norberto de la Riestra&quot;</td><td>6854060</td><td>0</td><td>782</td><td>0</td><td>496</td><td>16</td><td>0</td><td>0</td><td>185</td><td>1479</td><td>4524</td><td>true</td><td>-35.272779</td><td>true</td><td>-59.771933</td><td>4</td></tr><tr><td>&quot;Buenos Aires&quot;</td><td>&quot;25 de Mayo&quot;</td><td>&quot;Lucas Monteverde&quot;</td><td>6854050</td><td>0</td><td>0</td><td>0</td><td>0</td><td>0</td><td>0</td><td>0</td><td>6</td><td>6</td><td>63</td><td>false</td><td>-35.483827</td><td>false</td><td>-59.988065</td><td>5</td></tr></tbody></table></div>"
      ],
      "text/plain": [
       "shape: (5, 19)\n",
       "┌────────────┬────────────┬────────────┬──────────┬───┬────────────┬───────┬───────────┬───────────┐\n",
       "│ provincia  ┆ partido    ┆ localidad  ┆ id_indec ┆ … ┆ latitud    ┆ _4g   ┆ longitud  ┆ id_locali │\n",
       "│ ---        ┆ ---        ┆ ---        ┆ ---      ┆   ┆ ---        ┆ ---   ┆ ---       ┆ dad       │\n",
       "│ str        ┆ str        ┆ str        ┆ i64      ┆   ┆ f64        ┆ bool  ┆ f64       ┆ ---       │\n",
       "│            ┆            ┆            ┆          ┆   ┆            ┆       ┆           ┆ u32       │\n",
       "╞════════════╪════════════╪════════════╪══════════╪═══╪════════════╪═══════╪═══════════╪═══════════╡\n",
       "│ Buenos     ┆ 25 de Mayo ┆ 25 de Mayo ┆ 6854100  ┆ … ┆ -35.433939 ┆ true  ┆ -60.17312 ┆ 1         │\n",
       "│ Aires      ┆            ┆            ┆          ┆   ┆            ┆       ┆ 1         ┆           │\n",
       "│ Buenos     ┆ 25 de Mayo ┆ Del Valle  ┆ 6854020  ┆ … ┆ -35.897345 ┆ false ┆ -60.73160 ┆ 2         │\n",
       "│ Aires      ┆            ┆            ┆          ┆   ┆            ┆       ┆ 9         ┆           │\n",
       "│ Buenos     ┆ 25 de Mayo ┆ Gobernador ┆ 6854040  ┆ … ┆ -35.164397 ┆ false ┆ -60.08135 ┆ 3         │\n",
       "│ Aires      ┆            ┆ Ugarte     ┆          ┆   ┆            ┆       ┆ 8         ┆           │\n",
       "│ Buenos     ┆ 25 de Mayo ┆ Norberto   ┆ 6854060  ┆ … ┆ -35.272779 ┆ true  ┆ -59.77193 ┆ 4         │\n",
       "│ Aires      ┆            ┆ de la      ┆          ┆   ┆            ┆       ┆ 3         ┆           │\n",
       "│            ┆            ┆ Riestra    ┆          ┆   ┆            ┆       ┆           ┆           │\n",
       "│ Buenos     ┆ 25 de Mayo ┆ Lucas      ┆ 6854050  ┆ … ┆ -35.483827 ┆ false ┆ -59.98806 ┆ 5         │\n",
       "│ Aires      ┆            ┆ Monteverde ┆          ┆   ┆            ┆       ┆ 5         ┆           │\n",
       "└────────────┴────────────┴────────────┴──────────┴───┴────────────┴───────┴───────────┴───────────┘"
      ]
     },
     "execution_count": 87,
     "metadata": {},
     "output_type": "execute_result"
    }
   ],
   "source": [
    "accesos_localidades.head(5)"
   ]
  },
  {
   "cell_type": "markdown",
   "metadata": {},
   "source": [
    "Ya puedo Borrarle las columnas redundantes a `localidades`"
   ]
  },
  {
   "cell_type": "code",
   "execution_count": 92,
   "metadata": {},
   "outputs": [
    {
     "data": {
      "text/html": [
       "<div><style>\n",
       ".dataframe > thead > tr,\n",
       ".dataframe > tbody > tr {\n",
       "  text-align: right;\n",
       "  white-space: pre-wrap;\n",
       "}\n",
       "</style>\n",
       "<small>shape: (1, 4)</small><table border=\"1\" class=\"dataframe\"><thead><tr><th>id_localidad</th><th>localidad</th><th>id_indec</th><th>id_partido</th></tr><tr><td>u32</td><td>str</td><td>i64</td><td>u32</td></tr></thead><tbody><tr><td>1</td><td>&quot;25 de Mayo&quot;</td><td>6854100</td><td>387</td></tr></tbody></table></div>"
      ],
      "text/plain": [
       "shape: (1, 4)\n",
       "┌──────────────┬────────────┬──────────┬────────────┐\n",
       "│ id_localidad ┆ localidad  ┆ id_indec ┆ id_partido │\n",
       "│ ---          ┆ ---        ┆ ---      ┆ ---        │\n",
       "│ u32          ┆ str        ┆ i64      ┆ u32        │\n",
       "╞══════════════╪════════════╪══════════╪════════════╡\n",
       "│ 1            ┆ 25 de Mayo ┆ 6854100  ┆ 387        │\n",
       "└──────────────┴────────────┴──────────┴────────────┘"
      ]
     },
     "execution_count": 92,
     "metadata": {},
     "output_type": "execute_result"
    }
   ],
   "source": [
    "localidades = localidades.drop(['provincia', 'partido', 'id_provincia'])\n",
    "localidades.head(1)"
   ]
  },
  {
   "cell_type": "markdown",
   "metadata": {},
   "source": [
    "Y debo anexarle información a Localidades"
   ]
  },
  {
   "cell_type": "code",
   "execution_count": 93,
   "metadata": {},
   "outputs": [
    {
     "data": {
      "text/html": [
       "<div><style>\n",
       ".dataframe > thead > tr,\n",
       ".dataframe > tbody > tr {\n",
       "  text-align: right;\n",
       "  white-space: pre-wrap;\n",
       "}\n",
       "</style>\n",
       "<small>shape: (1, 7)</small><table border=\"1\" class=\"dataframe\"><thead><tr><th>id_localidad</th><th>localidad</th><th>id_indec</th><th>id_partido</th><th>poblacion</th><th>longitud</th><th>latitud</th></tr><tr><td>u32</td><td>str</td><td>i64</td><td>u32</td><td>i64</td><td>f64</td><td>f64</td></tr></thead><tbody><tr><td>1</td><td>&quot;25 de Mayo&quot;</td><td>6854100</td><td>387</td><td>23408</td><td>-60.173121</td><td>-35.433939</td></tr></tbody></table></div>"
      ],
      "text/plain": [
       "shape: (1, 7)\n",
       "┌──────────────┬────────────┬──────────┬────────────┬───────────┬────────────┬────────────┐\n",
       "│ id_localidad ┆ localidad  ┆ id_indec ┆ id_partido ┆ poblacion ┆ longitud   ┆ latitud    │\n",
       "│ ---          ┆ ---        ┆ ---      ┆ ---        ┆ ---       ┆ ---        ┆ ---        │\n",
       "│ u32          ┆ str        ┆ i64      ┆ u32        ┆ i64       ┆ f64        ┆ f64        │\n",
       "╞══════════════╪════════════╪══════════╪════════════╪═══════════╪════════════╪════════════╡\n",
       "│ 1            ┆ 25 de Mayo ┆ 6854100  ┆ 387        ┆ 23408     ┆ -60.173121 ┆ -35.433939 │\n",
       "└──────────────┴────────────┴──────────┴────────────┴───────────┴────────────┴────────────┘"
      ]
     },
     "execution_count": 93,
     "metadata": {},
     "output_type": "execute_result"
    }
   ],
   "source": [
    "columns = ['id_localidad', 'poblacion', 'longitud', 'latitud']\n",
    "localidades = localidades.join(\n",
    "    accesos_localidades[columns], on='id_localidad', how='left', coalesce=True\n",
    ")\n",
    "\n",
    "localidades.head(1)"
   ]
  },
  {
   "cell_type": "markdown",
   "metadata": {},
   "source": [
    "Pasare a 0 los campos que no tuvieron coincidencias en el Join comentado de los  87 Nulos en  `accesos_localidades` y en la tabla `localidades` "
   ]
  },
  {
   "cell_type": "code",
   "execution_count": null,
   "metadata": {},
   "outputs": [],
   "source": [
    "# mask = accesos_localidades['poblacion'].is_null()\n",
    "# accesos_localidades = accesos_localidades.filter(~mask)\n",
    "\n",
    "columns = localidades.columns[4:]\n",
    "for column in columns:\n",
    "    localidades = localidades.with_columns(\n",
    "        pl.col(column).fill_null(0).alias(column)\n",
    "    )\n",
    "\n",
    "    accesos_localidades = accesos_localidades.with_columns(\n",
    "        pl.col(column).fill_null(0).alias(column)\n",
    "    )"
   ]
  },
  {
   "cell_type": "markdown",
   "metadata": {},
   "source": [
    "**Guardaré estas tablas tal y como están para el EDA y Dashboard, y luego le borraré las columnas redundantes para guardar en `SQL`**"
   ]
  },
  {
   "cell_type": "code",
   "execution_count": null,
   "metadata": {},
   "outputs": [],
   "source": [
    "accesos_localidades.write_parquet('tablas/accesos_localidades_eda.parquet')\n",
    "\n",
    "rangos_localidades.write_parquet('tablas/rangos_localidades_eda.parquet')"
   ]
  },
  {
   "cell_type": "code",
   "execution_count": null,
   "metadata": {},
   "outputs": [],
   "source": [
    "accesos_localidades.head(1)"
   ]
  },
  {
   "cell_type": "code",
   "execution_count": 207,
   "metadata": {},
   "outputs": [],
   "source": [
    "rangos_localidades = rangos_localidades.drop(['provincia', 'partido', 'localidad'])\n",
    "\n",
    "accesos_localidades = accesos_localidades.drop(['provincia', 'partido', 'localidad', 'longitud', 'latitud', 'poblacion'])"
   ]
  },
  {
   "cell_type": "code",
   "execution_count": 95,
   "metadata": {},
   "outputs": [],
   "source": [
    "a_mano = pl.DataFrame({\n",
    "    'id_localidad': 699,\n",
    "    'id_indec': 2000010,\n",
    "    'poblacion': 3121707,\n",
    "    '_3g': True,\n",
    "    '_4g': True,\n",
    "    'longitud': -58.445876,\n",
    "    'latitud': -34.614442\n",
    "})"
   ]
  },
  {
   "cell_type": "code",
   "execution_count": 106,
   "metadata": {},
   "outputs": [],
   "source": [
    "columns = ['poblacion', 'longitud', 'latitud']\n",
    "for column in columns:\n",
    "    localidades = localidades.with_columns(\n",
    "        pl.when(pl.col('id_indec') == a_mano['id_indec'][0])\n",
    "          .then(pl.lit(a_mano[column][0]))\n",
    "          .otherwise(pl.col(column))\n",
    "          .alias(column)\n",
    "    )\n",
    "\n",
    "columns = ['_3g', '_4g']\n",
    "for column in columns:\n",
    "    accesos_localidades = accesos_localidades.with_columns(\n",
    "        pl.when(pl.col('id_indec') == a_mano['id_indec'][0])\n",
    "          .then(pl.lit(a_mano[column][0]))\n",
    "          .otherwise(pl.col(column))\n",
    "          .alias(column)\n",
    "    )    "
   ]
  },
  {
   "cell_type": "code",
   "execution_count": 108,
   "metadata": {},
   "outputs": [
    {
     "data": {
      "text/html": [
       "<div><style>\n",
       ".dataframe > thead > tr,\n",
       ".dataframe > tbody > tr {\n",
       "  text-align: right;\n",
       "  white-space: pre-wrap;\n",
       "}\n",
       "</style>\n",
       "<small>shape: (1, 19)</small><table border=\"1\" class=\"dataframe\"><thead><tr><th>provincia</th><th>partido</th><th>localidad</th><th>id_indec</th><th>adsl</th><th>cablemodem</th><th>dial_up</th><th>fibra</th><th>otros</th><th>satelital</th><th>winmax</th><th>wireless</th><th>total</th><th>poblacion</th><th>_3g</th><th>latitud</th><th>_4g</th><th>longitud</th><th>id_localidad</th></tr><tr><td>str</td><td>str</td><td>str</td><td>i64</td><td>i64</td><td>i64</td><td>i64</td><td>i64</td><td>i64</td><td>i64</td><td>i64</td><td>i64</td><td>i64</td><td>i64</td><td>bool</td><td>f64</td><td>bool</td><td>f64</td><td>u32</td></tr></thead><tbody><tr><td>&quot;Buenos Aires&quot;</td><td>&quot;25 de Mayo&quot;</td><td>&quot;25 de Mayo&quot;</td><td>6854100</td><td>755</td><td>4600</td><td>0</td><td>2</td><td>0</td><td>742</td><td>0</td><td>727</td><td>6826</td><td>23408</td><td>true</td><td>-35.433939</td><td>true</td><td>-60.173121</td><td>1</td></tr></tbody></table></div>"
      ],
      "text/plain": [
       "shape: (1, 19)\n",
       "┌────────────┬────────────┬────────────┬──────────┬───┬────────────┬──────┬────────────┬───────────┐\n",
       "│ provincia  ┆ partido    ┆ localidad  ┆ id_indec ┆ … ┆ latitud    ┆ _4g  ┆ longitud   ┆ id_locali │\n",
       "│ ---        ┆ ---        ┆ ---        ┆ ---      ┆   ┆ ---        ┆ ---  ┆ ---        ┆ dad       │\n",
       "│ str        ┆ str        ┆ str        ┆ i64      ┆   ┆ f64        ┆ bool ┆ f64        ┆ ---       │\n",
       "│            ┆            ┆            ┆          ┆   ┆            ┆      ┆            ┆ u32       │\n",
       "╞════════════╪════════════╪════════════╪══════════╪═══╪════════════╪══════╪════════════╪═══════════╡\n",
       "│ Buenos     ┆ 25 de Mayo ┆ 25 de Mayo ┆ 6854100  ┆ … ┆ -35.433939 ┆ true ┆ -60.173121 ┆ 1         │\n",
       "│ Aires      ┆            ┆            ┆          ┆   ┆            ┆      ┆            ┆           │\n",
       "└────────────┴────────────┴────────────┴──────────┴───┴────────────┴──────┴────────────┴───────────┘"
      ]
     },
     "execution_count": 108,
     "metadata": {},
     "output_type": "execute_result"
    }
   ],
   "source": [
    "accesos_localidades.head(1)"
   ]
  },
  {
   "cell_type": "markdown",
   "metadata": {},
   "source": [
    "***\n",
    "Guardado de tablas de `Internet`"
   ]
  },
  {
   "cell_type": "code",
   "execution_count": 127,
   "metadata": {},
   "outputs": [],
   "source": [
    "provincias.write_parquet('tablas/provincias.parquet')\n",
    "\n",
    "partidos.write_parquet('tablas/partidos.parquet')\n",
    "\n",
    "localidades.write_parquet('tablas/localidades.parquet')\n",
    "\n",
    "internet_pais.write_parquet('tablas/internet_pais.parquet')\n",
    "\n",
    "internet_provincia.write_parquet('tablas/internet_provincia.parquet')\n",
    "\n",
    "accesos_x_tecnologia.write_parquet('tablas/accesos_x_tecnologia.parquet')\n",
    "\n",
    "velocidad_sin_rangos.write_parquet('tablas/velocidad_sin_rangos.parquet')\n",
    "\n",
    "accesos_localidades.write_parquet('tablas/accesos_localidades.parquet')\n",
    "\n",
    "rangos_localidades.write_parquet('tablas/rangos_localidades.parquet')"
   ]
  },
  {
   "cell_type": "markdown",
   "metadata": {},
   "source": [
    "***\n",
    "#### **Toca alimentar nuestra Base de Datos Mysql**"
   ]
  },
  {
   "cell_type": "markdown",
   "metadata": {},
   "source": [
    "Creando la Conexión"
   ]
  },
  {
   "cell_type": "code",
   "execution_count": 112,
   "metadata": {},
   "outputs": [],
   "source": [
    "engine = engine_sqlalchemy()"
   ]
  },
  {
   "cell_type": "markdown",
   "metadata": {},
   "source": [
    "Uno a uno se pasa cada Dataframe a un df de Pandas y luego se vacia en su respectiva tabla `mysql`.  Esta sintáxis es genérica sirve para cualquier `motor de Sql` que tenga compatibilidad con `SqlAlchemy` "
   ]
  },
  {
   "cell_type": "code",
   "execution_count": 126,
   "metadata": {},
   "outputs": [
    {
     "data": {
      "text/plain": [
       "18599"
      ]
     },
     "execution_count": 126,
     "metadata": {},
     "output_type": "execute_result"
    }
   ],
   "source": [
    "df_pandas = provincias.to_pandas()\n",
    "df_pandas.to_sql(name=\"provincias\", con=engine, index=False, if_exists=\"append\")\n",
    "\n",
    "df_pandas = partidos.to_pandas()\n",
    "df_pandas.to_sql(name=\"partidos\", con=engine, index=False, if_exists=\"append\")\n",
    "\n",
    "df_pandas = localidades.to_pandas()\n",
    "df_pandas.to_sql(name=\"localidades\", con=engine, index=False, if_exists=\"append\")\n",
    "\n",
    "df_pandas = internet_pais.to_pandas()\n",
    "df_pandas.to_sql(name=\"internet_pais\", con=engine, index=False, if_exists=\"append\")\n",
    "\n",
    "df_pandas = internet_provincia.to_pandas()\n",
    "df_pandas.to_sql(name=\"internet_provincia\", con=engine, index=False, if_exists=\"append\")\n",
    "\n",
    "df_pandas = accesos_x_tecnologia.to_pandas()\n",
    "df_pandas.to_sql(name=\"accesos_x_tecnologia\", con=engine, index=False, if_exists=\"append\")\n",
    "\n",
    "df_pandas = velocidad_sin_rangos.to_pandas()\n",
    "df_pandas.to_sql(name=\"velocidad_sin_rangos\", con=engine, index=False, if_exists=\"append\")\n",
    "\n",
    "df_pandas = accesos_localidades.to_pandas()\n",
    "df_pandas.to_sql(name=\"accesos_localidades\", con=engine, index=False, if_exists=\"append\")\n",
    "\n",
    "df_pandas = rangos_localidades.to_pandas()\n",
    "df_pandas.to_sql(name=\"rangos_localidades\", con=engine, index=False, if_exists=\"append\")"
   ]
  },
  {
   "cell_type": "code",
   "execution_count": null,
   "metadata": {},
   "outputs": [],
   "source": []
  },
  {
   "cell_type": "code",
   "execution_count": null,
   "metadata": {},
   "outputs": [],
   "source": []
  },
  {
   "cell_type": "code",
   "execution_count": 128,
   "metadata": {},
   "outputs": [],
   "source": [
    "accesos_localidades = accesos_localidades.join(\n",
    "    localidades, on='id_localidad', how='left', coalesce=True \n",
    ")\n",
    "\n",
    "accesos_localidades = accesos_localidades.join(\n",
    "    partidos, on='id_partido', how='left', coalesce=True\n",
    ")\n",
    "\n",
    "accesos_localidades = accesos_localidades.join(\n",
    "    provincias['id_provincia', 'provincia'], on='id_provincia', how='left', coalesce=True\n",
    ")\n",
    "\n",
    "accesos_localidades = accesos_localidades.with_columns(\n",
    "    (pl.col('total') / pl.col('poblacion') * 100).round(2).alias('penetracion')\n",
    ")\n"
   ]
  },
  {
   "cell_type": "code",
   "execution_count": 132,
   "metadata": {},
   "outputs": [],
   "source": [
    "accesos_localidades.write_parquet('tablas/accesos_localidades_eda.parquet')"
   ]
  }
 ],
 "metadata": {
  "kernelspec": {
   "display_name": "labs_2",
   "language": "python",
   "name": "python3"
  },
  "language_info": {
   "codemirror_mode": {
    "name": "ipython",
    "version": 3
   },
   "file_extension": ".py",
   "mimetype": "text/x-python",
   "name": "python",
   "nbconvert_exporter": "python",
   "pygments_lexer": "ipython3",
   "version": "3.10.11"
  }
 },
 "nbformat": 4,
 "nbformat_minor": 2
}
