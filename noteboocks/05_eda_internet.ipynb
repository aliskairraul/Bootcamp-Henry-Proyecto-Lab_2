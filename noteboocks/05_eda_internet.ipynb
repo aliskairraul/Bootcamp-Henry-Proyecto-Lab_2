{
 "cells": [
  {
   "cell_type": "markdown",
   "metadata": {},
   "source": [
    "# **Objetivo del Cuaderno Jupyter**\n",
    "\n"
   ]
  },
  {
   "cell_type": "markdown",
   "metadata": {},
   "source": [
    "Importando Librerias"
   ]
  },
  {
   "cell_type": "code",
   "execution_count": 1,
   "metadata": {},
   "outputs": [],
   "source": [
    "import polars as pl\n",
    "import duckdb\n",
    "import plotly.express as px"
   ]
  },
  {
   "cell_type": "code",
   "execution_count": 2,
   "metadata": {},
   "outputs": [],
   "source": [
    "from utils.utilidades import crear_fecha_anio_trimestre\n",
    "from utils.utilidades_05_eda_internet import retorna_pies_eda_internet, retorna_barras_eda_05"
   ]
  },
  {
   "cell_type": "markdown",
   "metadata": {},
   "source": [
    "Cargando la Data"
   ]
  },
  {
   "cell_type": "code",
   "execution_count": 39,
   "metadata": {},
   "outputs": [],
   "source": [
    "rangos = pl.read_parquet('tablas/EDA_internet_rangos.parquet')\n",
    "tecnologias = pl.read_parquet('tablas/EDA_internet_tecnologias.parquet')"
   ]
  },
  {
   "cell_type": "markdown",
   "metadata": {},
   "source": [
    "***\n",
    "# **Preparando la Data**"
   ]
  },
  {
   "cell_type": "code",
   "execution_count": 40,
   "metadata": {},
   "outputs": [
    {
     "data": {
      "text/html": [
       "<div><style>\n",
       ".dataframe > thead > tr,\n",
       ".dataframe > tbody > tr {\n",
       "  text-align: right;\n",
       "  white-space: pre-wrap;\n",
       "}\n",
       "</style>\n",
       "<small>shape: (26, 3)</small><table border=\"1\" class=\"dataframe\"><thead><tr><th>anio</th><th>trimestre</th><th>Fecha</th></tr><tr><td>i64</td><td>i64</td><td>date</td></tr></thead><tbody><tr><td>2023</td><td>4</td><td>2023-12-30</td></tr><tr><td>2020</td><td>3</td><td>2020-09-30</td></tr><tr><td>2023</td><td>3</td><td>2023-09-30</td></tr><tr><td>2022</td><td>1</td><td>2022-03-30</td></tr><tr><td>2018</td><td>2</td><td>2018-06-30</td></tr><tr><td>&hellip;</td><td>&hellip;</td><td>&hellip;</td></tr><tr><td>2018</td><td>1</td><td>2018-03-30</td></tr><tr><td>2018</td><td>4</td><td>2018-12-30</td></tr><tr><td>2019</td><td>1</td><td>2019-03-30</td></tr><tr><td>2022</td><td>4</td><td>2022-12-30</td></tr><tr><td>2021</td><td>3</td><td>2021-09-30</td></tr></tbody></table></div>"
      ],
      "text/plain": [
       "shape: (26, 3)\n",
       "┌──────┬───────────┬────────────┐\n",
       "│ anio ┆ trimestre ┆ Fecha      │\n",
       "│ ---  ┆ ---       ┆ ---        │\n",
       "│ i64  ┆ i64       ┆ date       │\n",
       "╞══════╪═══════════╪════════════╡\n",
       "│ 2023 ┆ 4         ┆ 2023-12-30 │\n",
       "│ 2020 ┆ 3         ┆ 2020-09-30 │\n",
       "│ 2023 ┆ 3         ┆ 2023-09-30 │\n",
       "│ 2022 ┆ 1         ┆ 2022-03-30 │\n",
       "│ 2018 ┆ 2         ┆ 2018-06-30 │\n",
       "│ …    ┆ …         ┆ …          │\n",
       "│ 2018 ┆ 1         ┆ 2018-03-30 │\n",
       "│ 2018 ┆ 4         ┆ 2018-12-30 │\n",
       "│ 2019 ┆ 1         ┆ 2019-03-30 │\n",
       "│ 2022 ┆ 4         ┆ 2022-12-30 │\n",
       "│ 2021 ┆ 3         ┆ 2021-09-30 │\n",
       "└──────┴───────────┴────────────┘"
      ]
     },
     "execution_count": 40,
     "metadata": {},
     "output_type": "execute_result"
    }
   ],
   "source": [
    "fechas = crear_fecha_anio_trimestre(rangos)\n",
    "\n",
    "fechas.columns = ['anio', 'trimestre', 'Fecha']\n",
    "\n",
    "fechas\n"
   ]
  },
  {
   "cell_type": "code",
   "execution_count": 41,
   "metadata": {},
   "outputs": [],
   "source": [
    "rangos = rangos.join(fechas, on=['anio', 'trimestre'], how='left', coalesce=True)\n",
    "tecnologias = tecnologias.join(fechas, on=['anio', 'trimestre'], how='left', coalesce=True)"
   ]
  },
  {
   "cell_type": "code",
   "execution_count": 42,
   "metadata": {},
   "outputs": [
    {
     "name": "stdout",
     "output_type": "stream",
     "text": [
      "┌────────────┬───────────────┬─────────────────┬──────────────────┬──────────────────┐\n",
      "│   Fecha    │ Hasta 10 Mbps │ 10.01 - 30 Mbps │ 30.01 - 100 Mbps │ Mayor a 100 Mbps │\n",
      "│    date    │    int128     │     int128      │      int128      │      int128      │\n",
      "├────────────┼───────────────┼─────────────────┼──────────────────┼──────────────────┤\n",
      "│ 2018-03-30 │       4472395 │         2931307 │           379086 │            17681 │\n",
      "│ 2022-09-30 │       1915238 │         1872595 │          3996482 │          3519740 │\n",
      "│ 2019-09-30 │       4657687 │         1948115 │          2260799 │            52396 │\n",
      "│ 2021-03-30 │       3745414 │         1333931 │          4134802 │           245082 │\n",
      "│ 2018-12-30 │       4560306 │         3162830 │           596844 │             1287 │\n",
      "│ 2023-12-30 │       1979811 │         1894152 │          3857890 │          3520216 │\n",
      "│ 2022-06-30 │       2523285 │         2188513 │          5302444 │           592848 │\n",
      "│ 2021-06-30 │       3693746 │         1343455 │          4378695 │           279819 │\n",
      "│ 2020-06-30 │       3794337 │         1331315 │          3555434 │           155962 │\n",
      "│ 2023-09-30 │       2055216 │         1917632 │          3730808 │          3425831 │\n",
      "│     ·      │          ·    │            ·    │             ·    │              ·   │\n",
      "│     ·      │          ·    │            ·    │             ·    │              ·   │\n",
      "│     ·      │          ·    │            ·    │             ·    │              ·   │\n",
      "│ 2019-06-30 │       4614370 │         2420102 │          1666481 │            11245 │\n",
      "│ 2020-09-30 │       3763044 │         1338020 │          3859007 │           194351 │\n",
      "│ 2023-03-30 │       2175359 │         1933593 │          4252936 │          2465253 │\n",
      "│ 2019-03-30 │       4673874 │         2710410 │          1135225 │             2056 │\n",
      "│ 2024-03-30 │       1915238 │         1872681 │          3996482 │          3520582 │\n",
      "│ 2021-09-30 │       3727612 │         1249263 │          4565879 │           379518 │\n",
      "│ 2022-12-30 │       2302342 │         1947218 │          4163738 │          2400534 │\n",
      "│ 2018-09-30 │       4479081 │         3177958 │           522388 │             1260 │\n",
      "│ 2017-12-30 │       5015219 │         2366027 │           321924 │            11907 │\n",
      "│ 2023-06-30 │       1915238 │         1872663 │          3996482 │          3520496 │\n",
      "├────────────┴───────────────┴─────────────────┴──────────────────┴──────────────────┤\n",
      "│ 26 rows (20 shown)                                                       5 columns │\n",
      "└────────────────────────────────────────────────────────────────────────────────────┘\n",
      "\n"
     ]
    }
   ],
   "source": [
    "duckdb.sql(\"\"\"\n",
    "SELECT Fecha,\n",
    "       SUM(\"Hasta 10 Mbps\") as \"Hasta 10 Mbps\",\n",
    "       SUM(\"10.01 - 30 Mbps\") as \"10.01 - 30 Mbps\",\n",
    "       SUM(\"30.01 - 100 Mbps\") as \"30.01 - 100 Mbps\",\n",
    "       SUM(\"Mayor a 100 Mbps\") as \"Mayor a 100 Mbps\"\n",
    "FROM rangos\n",
    "GROUP BY Fecha;                              \n",
    "\"\"\").show()"
   ]
  },
  {
   "cell_type": "code",
   "execution_count": 43,
   "metadata": {},
   "outputs": [],
   "source": [
    "rangos_grafico = pl.DataFrame(duckdb.sql(\"\"\"\n",
    "SELECT Fecha,\n",
    "       SUM(\"Hasta 10 Mbps\") as \"Hasta 10 Mbps\",\n",
    "       SUM(\"10.01 - 30 Mbps\") as \"10.01 - 30 Mbps\",\n",
    "       SUM(\"30.01 - 100 Mbps\") as \"30.01 - 100 Mbps\",\n",
    "       SUM(\"Mayor a 100 Mbps\") as \"Mayor a 100 Mbps\"\n",
    "FROM rangos\n",
    "GROUP BY Fecha;                              \n",
    "\"\"\").to_arrow_table())"
   ]
  },
  {
   "cell_type": "code",
   "execution_count": 44,
   "metadata": {},
   "outputs": [
    {
     "data": {
      "text/html": [
       "<div><style>\n",
       ".dataframe > thead > tr,\n",
       ".dataframe > tbody > tr {\n",
       "  text-align: right;\n",
       "  white-space: pre-wrap;\n",
       "}\n",
       "</style>\n",
       "<small>shape: (26, 5)</small><table border=\"1\" class=\"dataframe\"><thead><tr><th>Fecha</th><th>Hasta 10 Mbps</th><th>10.01 - 30 Mbps</th><th>30.01 - 100 Mbps</th><th>Mayor a 100 Mbps</th></tr><tr><td>date</td><td>i64</td><td>i64</td><td>i64</td><td>i64</td></tr></thead><tbody><tr><td>2017-12-30</td><td>5015219</td><td>2366027</td><td>321924</td><td>11907</td></tr><tr><td>2018-03-30</td><td>4472395</td><td>2931307</td><td>379086</td><td>17681</td></tr><tr><td>2018-06-30</td><td>4516348</td><td>2906904</td><td>442776</td><td>586</td></tr><tr><td>2018-09-30</td><td>4479081</td><td>3177958</td><td>522388</td><td>1260</td></tr><tr><td>2018-12-30</td><td>4560306</td><td>3162830</td><td>596844</td><td>1287</td></tr><tr><td>&hellip;</td><td>&hellip;</td><td>&hellip;</td><td>&hellip;</td><td>&hellip;</td></tr><tr><td>2023-03-30</td><td>2175359</td><td>1933593</td><td>4252936</td><td>2465253</td></tr><tr><td>2023-06-30</td><td>1915238</td><td>1872663</td><td>3996482</td><td>3520496</td></tr><tr><td>2023-09-30</td><td>2055216</td><td>1917632</td><td>3730808</td><td>3425831</td></tr><tr><td>2023-12-30</td><td>1979811</td><td>1894152</td><td>3857890</td><td>3520216</td></tr><tr><td>2024-03-30</td><td>1915238</td><td>1872681</td><td>3996482</td><td>3520582</td></tr></tbody></table></div>"
      ],
      "text/plain": [
       "shape: (26, 5)\n",
       "┌────────────┬───────────────┬─────────────────┬──────────────────┬──────────────────┐\n",
       "│ Fecha      ┆ Hasta 10 Mbps ┆ 10.01 - 30 Mbps ┆ 30.01 - 100 Mbps ┆ Mayor a 100 Mbps │\n",
       "│ ---        ┆ ---           ┆ ---             ┆ ---              ┆ ---              │\n",
       "│ date       ┆ i64           ┆ i64             ┆ i64              ┆ i64              │\n",
       "╞════════════╪═══════════════╪═════════════════╪══════════════════╪══════════════════╡\n",
       "│ 2017-12-30 ┆ 5015219       ┆ 2366027         ┆ 321924           ┆ 11907            │\n",
       "│ 2018-03-30 ┆ 4472395       ┆ 2931307         ┆ 379086           ┆ 17681            │\n",
       "│ 2018-06-30 ┆ 4516348       ┆ 2906904         ┆ 442776           ┆ 586              │\n",
       "│ 2018-09-30 ┆ 4479081       ┆ 3177958         ┆ 522388           ┆ 1260             │\n",
       "│ 2018-12-30 ┆ 4560306       ┆ 3162830         ┆ 596844           ┆ 1287             │\n",
       "│ …          ┆ …             ┆ …               ┆ …                ┆ …                │\n",
       "│ 2023-03-30 ┆ 2175359       ┆ 1933593         ┆ 4252936          ┆ 2465253          │\n",
       "│ 2023-06-30 ┆ 1915238       ┆ 1872663         ┆ 3996482          ┆ 3520496          │\n",
       "│ 2023-09-30 ┆ 2055216       ┆ 1917632         ┆ 3730808          ┆ 3425831          │\n",
       "│ 2023-12-30 ┆ 1979811       ┆ 1894152         ┆ 3857890          ┆ 3520216          │\n",
       "│ 2024-03-30 ┆ 1915238       ┆ 1872681         ┆ 3996482          ┆ 3520582          │\n",
       "└────────────┴───────────────┴─────────────────┴──────────────────┴──────────────────┘"
      ]
     },
     "execution_count": 44,
     "metadata": {},
     "output_type": "execute_result"
    }
   ],
   "source": [
    "columns = rangos_grafico.columns[1:]\n",
    "for column in columns:\n",
    "    rangos_grafico = rangos_grafico.with_columns(pl.col(column).cast(pl.Int64).alias(column))\n",
    "rangos_grafico.sort('Fecha')\n"
   ]
  },
  {
   "cell_type": "code",
   "execution_count": 46,
   "metadata": {},
   "outputs": [],
   "source": [
    "tecnologias_grafico = pl.DataFrame(duckdb.sql(\"\"\"\n",
    "SELECT Fecha,\n",
    "       SUM(ADSL) AS ADSL,\n",
    "       SUM(CABLEMODEM) AS CABLEMODEM,\n",
    "       SUM(FIBRA) AS FIBRA,\n",
    "       SUM(WIRELESS) AS WIRELESS,    \n",
    "       SUM(\"Total Accesos\") AS \"Total Accesos\", \n",
    "FROM tecnologias\n",
    "GROUP BY Fecha;                                          \n",
    "\"\"\").to_arrow_table())"
   ]
  },
  {
   "cell_type": "code",
   "execution_count": 47,
   "metadata": {},
   "outputs": [
    {
     "data": {
      "text/html": [
       "<div><style>\n",
       ".dataframe > thead > tr,\n",
       ".dataframe > tbody > tr {\n",
       "  text-align: right;\n",
       "  white-space: pre-wrap;\n",
       "}\n",
       "</style>\n",
       "<small>shape: (5, 6)</small><table border=\"1\" class=\"dataframe\"><thead><tr><th>Fecha</th><th>ADSL</th><th>CABLEMODEM</th><th>FIBRA</th><th>WIRELESS</th><th>Total Accesos</th></tr><tr><td>date</td><td>i64</td><td>i64</td><td>i64</td><td>i64</td><td>i64</td></tr></thead><tbody><tr><td>2022-09-30</td><td>1395277</td><td>6031970</td><td>2871541</td><td>557110</td><td>11091128</td></tr><tr><td>2021-03-30</td><td>2175211</td><td>5424782</td><td>1362976</td><td>434548</td><td>9647972</td></tr><tr><td>2019-09-30</td><td>3204204</td><td>4800091</td><td>557822</td><td>338241</td><td>9164684</td></tr><tr><td>2018-12-30</td><td>3329027</td><td>4313831</td><td>388013</td><td>264299</td><td>8473655</td></tr><tr><td>2020-03-30</td><td>2299457</td><td>4903674</td><td>1047817</td><td>352333</td><td>8812426</td></tr></tbody></table></div>"
      ],
      "text/plain": [
       "shape: (5, 6)\n",
       "┌────────────┬─────────┬────────────┬─────────┬──────────┬───────────────┐\n",
       "│ Fecha      ┆ ADSL    ┆ CABLEMODEM ┆ FIBRA   ┆ WIRELESS ┆ Total Accesos │\n",
       "│ ---        ┆ ---     ┆ ---        ┆ ---     ┆ ---      ┆ ---           │\n",
       "│ date       ┆ i64     ┆ i64        ┆ i64     ┆ i64      ┆ i64           │\n",
       "╞════════════╪═════════╪════════════╪═════════╪══════════╪═══════════════╡\n",
       "│ 2022-09-30 ┆ 1395277 ┆ 6031970    ┆ 2871541 ┆ 557110   ┆ 11091128      │\n",
       "│ 2021-03-30 ┆ 2175211 ┆ 5424782    ┆ 1362976 ┆ 434548   ┆ 9647972       │\n",
       "│ 2019-09-30 ┆ 3204204 ┆ 4800091    ┆ 557822  ┆ 338241   ┆ 9164684       │\n",
       "│ 2018-12-30 ┆ 3329027 ┆ 4313831    ┆ 388013  ┆ 264299   ┆ 8473655       │\n",
       "│ 2020-03-30 ┆ 2299457 ┆ 4903674    ┆ 1047817 ┆ 352333   ┆ 8812426       │\n",
       "└────────────┴─────────┴────────────┴─────────┴──────────┴───────────────┘"
      ]
     },
     "execution_count": 47,
     "metadata": {},
     "output_type": "execute_result"
    }
   ],
   "source": [
    "columns = tecnologias_grafico.columns[1:]\n",
    "for column in columns:\n",
    "    tecnologias_grafico = tecnologias_grafico.with_columns(pl.col(column).cast(pl.Int64).alias(column))\n",
    "\n",
    "tecnologias_grafico.head()"
   ]
  },
  {
   "cell_type": "code",
   "execution_count": 48,
   "metadata": {},
   "outputs": [
    {
     "data": {
      "text/plain": [
       "['Fecha', 'ADSL', 'CABLEMODEM', 'FIBRA', 'WIRELESS', 'Total Accesos']"
      ]
     },
     "execution_count": 48,
     "metadata": {},
     "output_type": "execute_result"
    }
   ],
   "source": [
    "tecnologias_grafico.columns"
   ]
  },
  {
   "cell_type": "code",
   "execution_count": 27,
   "metadata": {},
   "outputs": [
    {
     "data": {
      "text/plain": [
       "(26, 5)"
      ]
     },
     "execution_count": 27,
     "metadata": {},
     "output_type": "execute_result"
    }
   ],
   "source": [
    "tecnologias_grafico.shape"
   ]
  },
  {
   "cell_type": "markdown",
   "metadata": {},
   "source": [
    "Guardo estas Tablas para tenerlas disponibles en la herramienta de Visualización sin necesidad de los cálculos previos y ser mas rápida la intaracción"
   ]
  },
  {
   "cell_type": "code",
   "execution_count": 58,
   "metadata": {},
   "outputs": [],
   "source": [
    "tecnologias_grafico.write_parquet('tablas_dash/tecnologias_internet_graficos_tab2.parquet')\n",
    "\n",
    "rangos_grafico.write_parquet('tablas_dash/rangos_internet_graficos_tab2.parquet')"
   ]
  },
  {
   "cell_type": "markdown",
   "metadata": {},
   "source": [
    "***\n",
    "# **Gráficos**"
   ]
  },
  {
   "cell_type": "markdown",
   "metadata": {},
   "source": [
    "### **Gráfico 1:**\n",
    "Tendencias de los Accesos (Según la Tecnología que los disponibiliza) del 2018 al 2024"
   ]
  },
  {
   "cell_type": "code",
   "execution_count": 55,
   "metadata": {},
   "outputs": [
    {
     "data": {
      "application/vnd.plotly.v1+json": {
       "config": {
        "displayModeBar": false,
        "plotlyServerURL": "https://plot.ly"
       },
       "data": [
        {
         "hovertemplate": "<extra></extra>",
         "legendgroup": "",
         "line": {
          "color": "#636efa",
          "dash": "solid"
         },
         "marker": {
          "symbol": "circle"
         },
         "mode": "lines",
         "name": "",
         "orientation": "v",
         "showlegend": false,
         "type": "scatter",
         "xaxis": "x",
         "yaxis": "y"
        },
        {
         "line": {
          "color": "#636EFA"
         },
         "mode": "lines",
         "name": "ADSL",
         "type": "scatter",
         "x": [
          "2017-12-30",
          "2018-03-30",
          "2018-06-30",
          "2018-09-30",
          "2018-12-30",
          "2019-03-30",
          "2019-06-30",
          "2019-09-30",
          "2019-12-30",
          "2020-03-30",
          "2020-06-30",
          "2020-09-30",
          "2020-12-30",
          "2021-03-30",
          "2021-06-30",
          "2021-09-30",
          "2021-12-30",
          "2022-03-30",
          "2022-06-30",
          "2022-09-30",
          "2022-12-30",
          "2023-03-30",
          "2023-06-30",
          "2023-09-30",
          "2023-12-30",
          "2024-03-30"
         ],
         "y": [
          3584311,
          3574294,
          3557216,
          3521447,
          3329027,
          3326284,
          3243795,
          3204204,
          2414575,
          2299457,
          2295533,
          2263889,
          2213949,
          2175211,
          2018587,
          1950631,
          1657615,
          1533240,
          1468333,
          1395277,
          1315373,
          1204417,
          1006509,
          897895,
          836390,
          774475
         ]
        },
        {
         "line": {
          "color": "#EF553B"
         },
         "mode": "lines",
         "name": "CABLEMODEM",
         "type": "scatter",
         "x": [
          "2017-12-30",
          "2018-03-30",
          "2018-06-30",
          "2018-09-30",
          "2018-12-30",
          "2019-03-30",
          "2019-06-30",
          "2019-09-30",
          "2019-12-30",
          "2020-03-30",
          "2020-06-30",
          "2020-09-30",
          "2020-12-30",
          "2021-03-30",
          "2021-06-30",
          "2021-09-30",
          "2021-12-30",
          "2022-03-30",
          "2022-06-30",
          "2022-09-30",
          "2022-12-30",
          "2023-03-30",
          "2023-06-30",
          "2023-09-30",
          "2023-12-30",
          "2024-03-30"
         ],
         "y": [
          3818157,
          3981129,
          4038141,
          4238171,
          4313831,
          4435439,
          4635575,
          4800091,
          4883869,
          4903674,
          5005115,
          5259351,
          5371824,
          5424782,
          5641731,
          5826257,
          5984240,
          6073426,
          5979214,
          6031970,
          6037457,
          6002582,
          5997149,
          6018832,
          6022532,
          5986957
         ]
        },
        {
         "line": {
          "color": "#00CC96"
         },
         "mode": "lines",
         "name": "FIBRA",
         "type": "scatter",
         "x": [
          "2017-12-30",
          "2018-03-30",
          "2018-06-30",
          "2018-09-30",
          "2018-12-30",
          "2019-03-30",
          "2019-06-30",
          "2019-09-30",
          "2019-12-30",
          "2020-03-30",
          "2020-06-30",
          "2020-09-30",
          "2020-12-30",
          "2021-03-30",
          "2021-06-30",
          "2021-09-30",
          "2021-12-30",
          "2022-03-30",
          "2022-06-30",
          "2022-09-30",
          "2022-12-30",
          "2023-03-30",
          "2023-06-30",
          "2023-09-30",
          "2023-12-30",
          "2024-03-30"
         ],
         "y": [
          211425,
          217460,
          226285,
          247366,
          388013,
          443604,
          507456,
          557822,
          941295,
          1047817,
          1106725,
          1170879,
          1311199,
          1362976,
          1472246,
          1566048,
          2072236,
          2219533,
          2723285,
          2871541,
          3060575,
          3243411,
          3463988,
          3708718,
          3908183,
          4015101
         ]
        },
        {
         "line": {
          "color": "#AB63FA"
         },
         "mode": "lines",
         "name": "WIRELESS",
         "type": "scatter",
         "x": [
          "2017-12-30",
          "2018-03-30",
          "2018-06-30",
          "2018-09-30",
          "2018-12-30",
          "2019-03-30",
          "2019-06-30",
          "2019-09-30",
          "2019-12-30",
          "2020-03-30",
          "2020-06-30",
          "2020-09-30",
          "2020-12-30",
          "2021-03-30",
          "2021-06-30",
          "2021-09-30",
          "2021-12-30",
          "2022-03-30",
          "2022-06-30",
          "2022-09-30",
          "2022-12-30",
          "2023-03-30",
          "2023-06-30",
          "2023-09-30",
          "2023-12-30",
          "2024-03-30"
         ],
         "y": [
          155775,
          165300,
          194267,
          246181,
          264299,
          276419,
          308027,
          338241,
          340144,
          352333,
          376667,
          413259,
          421554,
          434548,
          476968,
          492415,
          523107,
          545814,
          556243,
          557110,
          572969,
          576647,
          581823,
          581436,
          585760,
          598682
         ]
        }
       ],
       "layout": {
        "legend": {
         "tracegroupgap": 0
        },
        "margin": {
         "t": 60
        },
        "template": {
         "data": {
          "bar": [
           {
            "error_x": {
             "color": "#2a3f5f"
            },
            "error_y": {
             "color": "#2a3f5f"
            },
            "marker": {
             "line": {
              "color": "#E5ECF6",
              "width": 0.5
             },
             "pattern": {
              "fillmode": "overlay",
              "size": 10,
              "solidity": 0.2
             }
            },
            "type": "bar"
           }
          ],
          "barpolar": [
           {
            "marker": {
             "line": {
              "color": "#E5ECF6",
              "width": 0.5
             },
             "pattern": {
              "fillmode": "overlay",
              "size": 10,
              "solidity": 0.2
             }
            },
            "type": "barpolar"
           }
          ],
          "carpet": [
           {
            "aaxis": {
             "endlinecolor": "#2a3f5f",
             "gridcolor": "white",
             "linecolor": "white",
             "minorgridcolor": "white",
             "startlinecolor": "#2a3f5f"
            },
            "baxis": {
             "endlinecolor": "#2a3f5f",
             "gridcolor": "white",
             "linecolor": "white",
             "minorgridcolor": "white",
             "startlinecolor": "#2a3f5f"
            },
            "type": "carpet"
           }
          ],
          "choropleth": [
           {
            "colorbar": {
             "outlinewidth": 0,
             "ticks": ""
            },
            "type": "choropleth"
           }
          ],
          "contour": [
           {
            "colorbar": {
             "outlinewidth": 0,
             "ticks": ""
            },
            "colorscale": [
             [
              0,
              "#0d0887"
             ],
             [
              0.1111111111111111,
              "#46039f"
             ],
             [
              0.2222222222222222,
              "#7201a8"
             ],
             [
              0.3333333333333333,
              "#9c179e"
             ],
             [
              0.4444444444444444,
              "#bd3786"
             ],
             [
              0.5555555555555556,
              "#d8576b"
             ],
             [
              0.6666666666666666,
              "#ed7953"
             ],
             [
              0.7777777777777778,
              "#fb9f3a"
             ],
             [
              0.8888888888888888,
              "#fdca26"
             ],
             [
              1,
              "#f0f921"
             ]
            ],
            "type": "contour"
           }
          ],
          "contourcarpet": [
           {
            "colorbar": {
             "outlinewidth": 0,
             "ticks": ""
            },
            "type": "contourcarpet"
           }
          ],
          "heatmap": [
           {
            "colorbar": {
             "outlinewidth": 0,
             "ticks": ""
            },
            "colorscale": [
             [
              0,
              "#0d0887"
             ],
             [
              0.1111111111111111,
              "#46039f"
             ],
             [
              0.2222222222222222,
              "#7201a8"
             ],
             [
              0.3333333333333333,
              "#9c179e"
             ],
             [
              0.4444444444444444,
              "#bd3786"
             ],
             [
              0.5555555555555556,
              "#d8576b"
             ],
             [
              0.6666666666666666,
              "#ed7953"
             ],
             [
              0.7777777777777778,
              "#fb9f3a"
             ],
             [
              0.8888888888888888,
              "#fdca26"
             ],
             [
              1,
              "#f0f921"
             ]
            ],
            "type": "heatmap"
           }
          ],
          "heatmapgl": [
           {
            "colorbar": {
             "outlinewidth": 0,
             "ticks": ""
            },
            "colorscale": [
             [
              0,
              "#0d0887"
             ],
             [
              0.1111111111111111,
              "#46039f"
             ],
             [
              0.2222222222222222,
              "#7201a8"
             ],
             [
              0.3333333333333333,
              "#9c179e"
             ],
             [
              0.4444444444444444,
              "#bd3786"
             ],
             [
              0.5555555555555556,
              "#d8576b"
             ],
             [
              0.6666666666666666,
              "#ed7953"
             ],
             [
              0.7777777777777778,
              "#fb9f3a"
             ],
             [
              0.8888888888888888,
              "#fdca26"
             ],
             [
              1,
              "#f0f921"
             ]
            ],
            "type": "heatmapgl"
           }
          ],
          "histogram": [
           {
            "marker": {
             "pattern": {
              "fillmode": "overlay",
              "size": 10,
              "solidity": 0.2
             }
            },
            "type": "histogram"
           }
          ],
          "histogram2d": [
           {
            "colorbar": {
             "outlinewidth": 0,
             "ticks": ""
            },
            "colorscale": [
             [
              0,
              "#0d0887"
             ],
             [
              0.1111111111111111,
              "#46039f"
             ],
             [
              0.2222222222222222,
              "#7201a8"
             ],
             [
              0.3333333333333333,
              "#9c179e"
             ],
             [
              0.4444444444444444,
              "#bd3786"
             ],
             [
              0.5555555555555556,
              "#d8576b"
             ],
             [
              0.6666666666666666,
              "#ed7953"
             ],
             [
              0.7777777777777778,
              "#fb9f3a"
             ],
             [
              0.8888888888888888,
              "#fdca26"
             ],
             [
              1,
              "#f0f921"
             ]
            ],
            "type": "histogram2d"
           }
          ],
          "histogram2dcontour": [
           {
            "colorbar": {
             "outlinewidth": 0,
             "ticks": ""
            },
            "colorscale": [
             [
              0,
              "#0d0887"
             ],
             [
              0.1111111111111111,
              "#46039f"
             ],
             [
              0.2222222222222222,
              "#7201a8"
             ],
             [
              0.3333333333333333,
              "#9c179e"
             ],
             [
              0.4444444444444444,
              "#bd3786"
             ],
             [
              0.5555555555555556,
              "#d8576b"
             ],
             [
              0.6666666666666666,
              "#ed7953"
             ],
             [
              0.7777777777777778,
              "#fb9f3a"
             ],
             [
              0.8888888888888888,
              "#fdca26"
             ],
             [
              1,
              "#f0f921"
             ]
            ],
            "type": "histogram2dcontour"
           }
          ],
          "mesh3d": [
           {
            "colorbar": {
             "outlinewidth": 0,
             "ticks": ""
            },
            "type": "mesh3d"
           }
          ],
          "parcoords": [
           {
            "line": {
             "colorbar": {
              "outlinewidth": 0,
              "ticks": ""
             }
            },
            "type": "parcoords"
           }
          ],
          "pie": [
           {
            "automargin": true,
            "type": "pie"
           }
          ],
          "scatter": [
           {
            "fillpattern": {
             "fillmode": "overlay",
             "size": 10,
             "solidity": 0.2
            },
            "type": "scatter"
           }
          ],
          "scatter3d": [
           {
            "line": {
             "colorbar": {
              "outlinewidth": 0,
              "ticks": ""
             }
            },
            "marker": {
             "colorbar": {
              "outlinewidth": 0,
              "ticks": ""
             }
            },
            "type": "scatter3d"
           }
          ],
          "scattercarpet": [
           {
            "marker": {
             "colorbar": {
              "outlinewidth": 0,
              "ticks": ""
             }
            },
            "type": "scattercarpet"
           }
          ],
          "scattergeo": [
           {
            "marker": {
             "colorbar": {
              "outlinewidth": 0,
              "ticks": ""
             }
            },
            "type": "scattergeo"
           }
          ],
          "scattergl": [
           {
            "marker": {
             "colorbar": {
              "outlinewidth": 0,
              "ticks": ""
             }
            },
            "type": "scattergl"
           }
          ],
          "scattermapbox": [
           {
            "marker": {
             "colorbar": {
              "outlinewidth": 0,
              "ticks": ""
             }
            },
            "type": "scattermapbox"
           }
          ],
          "scatterpolar": [
           {
            "marker": {
             "colorbar": {
              "outlinewidth": 0,
              "ticks": ""
             }
            },
            "type": "scatterpolar"
           }
          ],
          "scatterpolargl": [
           {
            "marker": {
             "colorbar": {
              "outlinewidth": 0,
              "ticks": ""
             }
            },
            "type": "scatterpolargl"
           }
          ],
          "scatterternary": [
           {
            "marker": {
             "colorbar": {
              "outlinewidth": 0,
              "ticks": ""
             }
            },
            "type": "scatterternary"
           }
          ],
          "surface": [
           {
            "colorbar": {
             "outlinewidth": 0,
             "ticks": ""
            },
            "colorscale": [
             [
              0,
              "#0d0887"
             ],
             [
              0.1111111111111111,
              "#46039f"
             ],
             [
              0.2222222222222222,
              "#7201a8"
             ],
             [
              0.3333333333333333,
              "#9c179e"
             ],
             [
              0.4444444444444444,
              "#bd3786"
             ],
             [
              0.5555555555555556,
              "#d8576b"
             ],
             [
              0.6666666666666666,
              "#ed7953"
             ],
             [
              0.7777777777777778,
              "#fb9f3a"
             ],
             [
              0.8888888888888888,
              "#fdca26"
             ],
             [
              1,
              "#f0f921"
             ]
            ],
            "type": "surface"
           }
          ],
          "table": [
           {
            "cells": {
             "fill": {
              "color": "#EBF0F8"
             },
             "line": {
              "color": "white"
             }
            },
            "header": {
             "fill": {
              "color": "#C8D4E3"
             },
             "line": {
              "color": "white"
             }
            },
            "type": "table"
           }
          ]
         },
         "layout": {
          "annotationdefaults": {
           "arrowcolor": "#2a3f5f",
           "arrowhead": 0,
           "arrowwidth": 1
          },
          "autotypenumbers": "strict",
          "coloraxis": {
           "colorbar": {
            "outlinewidth": 0,
            "ticks": ""
           }
          },
          "colorscale": {
           "diverging": [
            [
             0,
             "#8e0152"
            ],
            [
             0.1,
             "#c51b7d"
            ],
            [
             0.2,
             "#de77ae"
            ],
            [
             0.3,
             "#f1b6da"
            ],
            [
             0.4,
             "#fde0ef"
            ],
            [
             0.5,
             "#f7f7f7"
            ],
            [
             0.6,
             "#e6f5d0"
            ],
            [
             0.7,
             "#b8e186"
            ],
            [
             0.8,
             "#7fbc41"
            ],
            [
             0.9,
             "#4d9221"
            ],
            [
             1,
             "#276419"
            ]
           ],
           "sequential": [
            [
             0,
             "#0d0887"
            ],
            [
             0.1111111111111111,
             "#46039f"
            ],
            [
             0.2222222222222222,
             "#7201a8"
            ],
            [
             0.3333333333333333,
             "#9c179e"
            ],
            [
             0.4444444444444444,
             "#bd3786"
            ],
            [
             0.5555555555555556,
             "#d8576b"
            ],
            [
             0.6666666666666666,
             "#ed7953"
            ],
            [
             0.7777777777777778,
             "#fb9f3a"
            ],
            [
             0.8888888888888888,
             "#fdca26"
            ],
            [
             1,
             "#f0f921"
            ]
           ],
           "sequentialminus": [
            [
             0,
             "#0d0887"
            ],
            [
             0.1111111111111111,
             "#46039f"
            ],
            [
             0.2222222222222222,
             "#7201a8"
            ],
            [
             0.3333333333333333,
             "#9c179e"
            ],
            [
             0.4444444444444444,
             "#bd3786"
            ],
            [
             0.5555555555555556,
             "#d8576b"
            ],
            [
             0.6666666666666666,
             "#ed7953"
            ],
            [
             0.7777777777777778,
             "#fb9f3a"
            ],
            [
             0.8888888888888888,
             "#fdca26"
            ],
            [
             1,
             "#f0f921"
            ]
           ]
          },
          "colorway": [
           "#636efa",
           "#EF553B",
           "#00cc96",
           "#ab63fa",
           "#FFA15A",
           "#19d3f3",
           "#FF6692",
           "#B6E880",
           "#FF97FF",
           "#FECB52"
          ],
          "font": {
           "color": "#2a3f5f"
          },
          "geo": {
           "bgcolor": "white",
           "lakecolor": "white",
           "landcolor": "#E5ECF6",
           "showlakes": true,
           "showland": true,
           "subunitcolor": "white"
          },
          "hoverlabel": {
           "align": "left"
          },
          "hovermode": "closest",
          "mapbox": {
           "style": "light"
          },
          "paper_bgcolor": "white",
          "plot_bgcolor": "#E5ECF6",
          "polar": {
           "angularaxis": {
            "gridcolor": "white",
            "linecolor": "white",
            "ticks": ""
           },
           "bgcolor": "#E5ECF6",
           "radialaxis": {
            "gridcolor": "white",
            "linecolor": "white",
            "ticks": ""
           }
          },
          "scene": {
           "xaxis": {
            "backgroundcolor": "#E5ECF6",
            "gridcolor": "white",
            "gridwidth": 2,
            "linecolor": "white",
            "showbackground": true,
            "ticks": "",
            "zerolinecolor": "white"
           },
           "yaxis": {
            "backgroundcolor": "#E5ECF6",
            "gridcolor": "white",
            "gridwidth": 2,
            "linecolor": "white",
            "showbackground": true,
            "ticks": "",
            "zerolinecolor": "white"
           },
           "zaxis": {
            "backgroundcolor": "#E5ECF6",
            "gridcolor": "white",
            "gridwidth": 2,
            "linecolor": "white",
            "showbackground": true,
            "ticks": "",
            "zerolinecolor": "white"
           }
          },
          "shapedefaults": {
           "line": {
            "color": "#2a3f5f"
           }
          },
          "ternary": {
           "aaxis": {
            "gridcolor": "white",
            "linecolor": "white",
            "ticks": ""
           },
           "baxis": {
            "gridcolor": "white",
            "linecolor": "white",
            "ticks": ""
           },
           "bgcolor": "#E5ECF6",
           "caxis": {
            "gridcolor": "white",
            "linecolor": "white",
            "ticks": ""
           }
          },
          "title": {
           "x": 0.05
          },
          "xaxis": {
           "automargin": true,
           "gridcolor": "white",
           "linecolor": "white",
           "ticks": "",
           "title": {
            "standoff": 15
           },
           "zerolinecolor": "white",
           "zerolinewidth": 2
          },
          "yaxis": {
           "automargin": true,
           "gridcolor": "white",
           "linecolor": "white",
           "ticks": "",
           "title": {
            "standoff": 15
           },
           "zerolinecolor": "white",
           "zerolinewidth": 2
          }
         }
        },
        "title": {
         "text": "Accesos por Tecnologia"
        },
        "width": 900,
        "xaxis": {
         "anchor": "y",
         "domain": [
          0,
          1
         ],
         "title": {
          "text": "Periodo"
         }
        },
        "yaxis": {
         "anchor": "x",
         "domain": [
          0,
          1
         ],
         "title": {
          "text": "Cantidad de Accesos"
         }
        }
       }
      }
     },
     "metadata": {},
     "output_type": "display_data"
    }
   ],
   "source": [
    "\n",
    "df = tecnologias_grafico.sort('Fecha')\n",
    "columns = ['ADSL', 'CABLEMODEM', 'FIBRA', 'WIRELESS']\n",
    "names = columns\n",
    "y_title = 'Cantidad de Accesos'\n",
    "titulo = 'Accesos por Tecnologia'\n",
    "width = 900\n",
    "colors = ['#636EFA', '#EF553B', '#00CC96', '#AB63FA']\n",
    "fig = px.line()\n",
    "for i in range(len(columns)):\n",
    "    fig.add_scatter(x=df['Fecha'], y=df[columns[i]],\n",
    "                    name=names[i], mode='lines', line=dict(color=colors[i]))\n",
    "fig.update_layout(title=titulo, xaxis_title='Periodo', yaxis_title=y_title, width=width)\n",
    "config = {'displayModeBar': False}\n",
    "fig.show(config=config)"
   ]
  },
  {
   "cell_type": "markdown",
   "metadata": {},
   "source": [
    "### **¿Que se Aprecia?**\n",
    "- Hace apenas 6 Años el mercado estaba mas del `90%` se lo dividían casi a partes iguales 2 Tecnologías `Cablemodem y Adsl`.\n",
    "- Los acccesos a Internet han venido en aumento, es obvio que los `casi 3 Millones de accesos que ha perdido Adsl` han sido capitalizados por `Fibra Optica` y `Cable Modem`.  "
   ]
  },
  {
   "cell_type": "markdown",
   "metadata": {},
   "source": [
    "### **Gráfico 2:**\n",
    "Tendencias de los Accesos (Según rango de Velocidades) del 2018 al 2024"
   ]
  },
  {
   "cell_type": "code",
   "execution_count": 54,
   "metadata": {},
   "outputs": [
    {
     "data": {
      "application/vnd.plotly.v1+json": {
       "config": {
        "displayModeBar": false,
        "plotlyServerURL": "https://plot.ly"
       },
       "data": [
        {
         "hovertemplate": "<extra></extra>",
         "legendgroup": "",
         "line": {
          "color": "#636efa",
          "dash": "solid"
         },
         "marker": {
          "symbol": "circle"
         },
         "mode": "lines",
         "name": "",
         "orientation": "v",
         "showlegend": false,
         "type": "scatter",
         "xaxis": "x",
         "yaxis": "y"
        },
        {
         "line": {
          "color": "#636EFA"
         },
         "mode": "lines",
         "name": "Hasta 10 Mbps",
         "type": "scatter",
         "x": [
          "2017-12-30",
          "2018-03-30",
          "2018-06-30",
          "2018-09-30",
          "2018-12-30",
          "2019-03-30",
          "2019-06-30",
          "2019-09-30",
          "2019-12-30",
          "2020-03-30",
          "2020-06-30",
          "2020-09-30",
          "2020-12-30",
          "2021-03-30",
          "2021-06-30",
          "2021-09-30",
          "2021-12-30",
          "2022-03-30",
          "2022-06-30",
          "2022-09-30",
          "2022-12-30",
          "2023-03-30",
          "2023-06-30",
          "2023-09-30",
          "2023-12-30",
          "2024-03-30"
         ],
         "y": [
          5015219,
          4472395,
          4516348,
          4479081,
          4560306,
          4673874,
          4614370,
          4657687,
          3905687,
          3770553,
          3794337,
          3763044,
          3778208,
          3745414,
          3693746,
          3727612,
          2728324,
          2612151,
          2523285,
          1915238,
          2302342,
          2175359,
          1915238,
          2055216,
          1979811,
          1915238
         ]
        },
        {
         "line": {
          "color": "#EF553B"
         },
         "mode": "lines",
         "name": "10.01 - 30 Mbps",
         "type": "scatter",
         "x": [
          "2017-12-30",
          "2018-03-30",
          "2018-06-30",
          "2018-09-30",
          "2018-12-30",
          "2019-03-30",
          "2019-06-30",
          "2019-09-30",
          "2019-12-30",
          "2020-03-30",
          "2020-06-30",
          "2020-09-30",
          "2020-12-30",
          "2021-03-30",
          "2021-06-30",
          "2021-09-30",
          "2021-12-30",
          "2022-03-30",
          "2022-06-30",
          "2022-09-30",
          "2022-12-30",
          "2023-03-30",
          "2023-06-30",
          "2023-09-30",
          "2023-12-30",
          "2024-03-30"
         ],
         "y": [
          2366027,
          2931307,
          2906904,
          3177958,
          3162830,
          2710410,
          2420102,
          1948115,
          1855702,
          1346882,
          1331315,
          1338020,
          1369096,
          1333931,
          1343455,
          1249263,
          2292107,
          2269758,
          2188513,
          1872595,
          1947218,
          1933593,
          1872663,
          1917632,
          1894152,
          1872681
         ]
        },
        {
         "line": {
          "color": "#00CC96"
         },
         "mode": "lines",
         "name": "30.01 - 100 Mbps",
         "type": "scatter",
         "x": [
          "2017-12-30",
          "2018-03-30",
          "2018-06-30",
          "2018-09-30",
          "2018-12-30",
          "2019-03-30",
          "2019-06-30",
          "2019-09-30",
          "2019-12-30",
          "2020-03-30",
          "2020-06-30",
          "2020-09-30",
          "2020-12-30",
          "2021-03-30",
          "2021-06-30",
          "2021-09-30",
          "2021-12-30",
          "2022-03-30",
          "2022-06-30",
          "2022-09-30",
          "2022-12-30",
          "2023-03-30",
          "2023-06-30",
          "2023-09-30",
          "2023-12-30",
          "2024-03-30"
         ],
         "y": [
          321924,
          379086,
          442776,
          522388,
          596844,
          1135225,
          1666481,
          2260799,
          2768287,
          3358098,
          3555434,
          3859007,
          4000789,
          4134802,
          4378695,
          4565879,
          4834953,
          5035397,
          5302444,
          3996482,
          4163738,
          4252936,
          3996482,
          3730808,
          3857890,
          3996482
         ]
        },
        {
         "line": {
          "color": "#AB63FA"
         },
         "mode": "lines",
         "name": "Mayor a 100 Mbps",
         "type": "scatter",
         "x": [
          "2017-12-30",
          "2018-03-30",
          "2018-06-30",
          "2018-09-30",
          "2018-12-30",
          "2019-03-30",
          "2019-06-30",
          "2019-09-30",
          "2019-12-30",
          "2020-03-30",
          "2020-06-30",
          "2020-09-30",
          "2020-12-30",
          "2021-03-30",
          "2021-06-30",
          "2021-09-30",
          "2021-12-30",
          "2022-03-30",
          "2022-06-30",
          "2022-09-30",
          "2022-12-30",
          "2023-03-30",
          "2023-06-30",
          "2023-09-30",
          "2023-12-30",
          "2024-03-30"
         ],
         "y": [
          11907,
          17681,
          586,
          1260,
          1287,
          2056,
          11245,
          52396,
          62459,
          142681,
          155962,
          194351,
          238367,
          245082,
          279819,
          379518,
          440159,
          508370,
          592848,
          3519740,
          2400534,
          2465253,
          3520496,
          3425831,
          3520216,
          3520582
         ]
        }
       ],
       "layout": {
        "legend": {
         "tracegroupgap": 0
        },
        "margin": {
         "t": 60
        },
        "template": {
         "data": {
          "bar": [
           {
            "error_x": {
             "color": "#2a3f5f"
            },
            "error_y": {
             "color": "#2a3f5f"
            },
            "marker": {
             "line": {
              "color": "#E5ECF6",
              "width": 0.5
             },
             "pattern": {
              "fillmode": "overlay",
              "size": 10,
              "solidity": 0.2
             }
            },
            "type": "bar"
           }
          ],
          "barpolar": [
           {
            "marker": {
             "line": {
              "color": "#E5ECF6",
              "width": 0.5
             },
             "pattern": {
              "fillmode": "overlay",
              "size": 10,
              "solidity": 0.2
             }
            },
            "type": "barpolar"
           }
          ],
          "carpet": [
           {
            "aaxis": {
             "endlinecolor": "#2a3f5f",
             "gridcolor": "white",
             "linecolor": "white",
             "minorgridcolor": "white",
             "startlinecolor": "#2a3f5f"
            },
            "baxis": {
             "endlinecolor": "#2a3f5f",
             "gridcolor": "white",
             "linecolor": "white",
             "minorgridcolor": "white",
             "startlinecolor": "#2a3f5f"
            },
            "type": "carpet"
           }
          ],
          "choropleth": [
           {
            "colorbar": {
             "outlinewidth": 0,
             "ticks": ""
            },
            "type": "choropleth"
           }
          ],
          "contour": [
           {
            "colorbar": {
             "outlinewidth": 0,
             "ticks": ""
            },
            "colorscale": [
             [
              0,
              "#0d0887"
             ],
             [
              0.1111111111111111,
              "#46039f"
             ],
             [
              0.2222222222222222,
              "#7201a8"
             ],
             [
              0.3333333333333333,
              "#9c179e"
             ],
             [
              0.4444444444444444,
              "#bd3786"
             ],
             [
              0.5555555555555556,
              "#d8576b"
             ],
             [
              0.6666666666666666,
              "#ed7953"
             ],
             [
              0.7777777777777778,
              "#fb9f3a"
             ],
             [
              0.8888888888888888,
              "#fdca26"
             ],
             [
              1,
              "#f0f921"
             ]
            ],
            "type": "contour"
           }
          ],
          "contourcarpet": [
           {
            "colorbar": {
             "outlinewidth": 0,
             "ticks": ""
            },
            "type": "contourcarpet"
           }
          ],
          "heatmap": [
           {
            "colorbar": {
             "outlinewidth": 0,
             "ticks": ""
            },
            "colorscale": [
             [
              0,
              "#0d0887"
             ],
             [
              0.1111111111111111,
              "#46039f"
             ],
             [
              0.2222222222222222,
              "#7201a8"
             ],
             [
              0.3333333333333333,
              "#9c179e"
             ],
             [
              0.4444444444444444,
              "#bd3786"
             ],
             [
              0.5555555555555556,
              "#d8576b"
             ],
             [
              0.6666666666666666,
              "#ed7953"
             ],
             [
              0.7777777777777778,
              "#fb9f3a"
             ],
             [
              0.8888888888888888,
              "#fdca26"
             ],
             [
              1,
              "#f0f921"
             ]
            ],
            "type": "heatmap"
           }
          ],
          "heatmapgl": [
           {
            "colorbar": {
             "outlinewidth": 0,
             "ticks": ""
            },
            "colorscale": [
             [
              0,
              "#0d0887"
             ],
             [
              0.1111111111111111,
              "#46039f"
             ],
             [
              0.2222222222222222,
              "#7201a8"
             ],
             [
              0.3333333333333333,
              "#9c179e"
             ],
             [
              0.4444444444444444,
              "#bd3786"
             ],
             [
              0.5555555555555556,
              "#d8576b"
             ],
             [
              0.6666666666666666,
              "#ed7953"
             ],
             [
              0.7777777777777778,
              "#fb9f3a"
             ],
             [
              0.8888888888888888,
              "#fdca26"
             ],
             [
              1,
              "#f0f921"
             ]
            ],
            "type": "heatmapgl"
           }
          ],
          "histogram": [
           {
            "marker": {
             "pattern": {
              "fillmode": "overlay",
              "size": 10,
              "solidity": 0.2
             }
            },
            "type": "histogram"
           }
          ],
          "histogram2d": [
           {
            "colorbar": {
             "outlinewidth": 0,
             "ticks": ""
            },
            "colorscale": [
             [
              0,
              "#0d0887"
             ],
             [
              0.1111111111111111,
              "#46039f"
             ],
             [
              0.2222222222222222,
              "#7201a8"
             ],
             [
              0.3333333333333333,
              "#9c179e"
             ],
             [
              0.4444444444444444,
              "#bd3786"
             ],
             [
              0.5555555555555556,
              "#d8576b"
             ],
             [
              0.6666666666666666,
              "#ed7953"
             ],
             [
              0.7777777777777778,
              "#fb9f3a"
             ],
             [
              0.8888888888888888,
              "#fdca26"
             ],
             [
              1,
              "#f0f921"
             ]
            ],
            "type": "histogram2d"
           }
          ],
          "histogram2dcontour": [
           {
            "colorbar": {
             "outlinewidth": 0,
             "ticks": ""
            },
            "colorscale": [
             [
              0,
              "#0d0887"
             ],
             [
              0.1111111111111111,
              "#46039f"
             ],
             [
              0.2222222222222222,
              "#7201a8"
             ],
             [
              0.3333333333333333,
              "#9c179e"
             ],
             [
              0.4444444444444444,
              "#bd3786"
             ],
             [
              0.5555555555555556,
              "#d8576b"
             ],
             [
              0.6666666666666666,
              "#ed7953"
             ],
             [
              0.7777777777777778,
              "#fb9f3a"
             ],
             [
              0.8888888888888888,
              "#fdca26"
             ],
             [
              1,
              "#f0f921"
             ]
            ],
            "type": "histogram2dcontour"
           }
          ],
          "mesh3d": [
           {
            "colorbar": {
             "outlinewidth": 0,
             "ticks": ""
            },
            "type": "mesh3d"
           }
          ],
          "parcoords": [
           {
            "line": {
             "colorbar": {
              "outlinewidth": 0,
              "ticks": ""
             }
            },
            "type": "parcoords"
           }
          ],
          "pie": [
           {
            "automargin": true,
            "type": "pie"
           }
          ],
          "scatter": [
           {
            "fillpattern": {
             "fillmode": "overlay",
             "size": 10,
             "solidity": 0.2
            },
            "type": "scatter"
           }
          ],
          "scatter3d": [
           {
            "line": {
             "colorbar": {
              "outlinewidth": 0,
              "ticks": ""
             }
            },
            "marker": {
             "colorbar": {
              "outlinewidth": 0,
              "ticks": ""
             }
            },
            "type": "scatter3d"
           }
          ],
          "scattercarpet": [
           {
            "marker": {
             "colorbar": {
              "outlinewidth": 0,
              "ticks": ""
             }
            },
            "type": "scattercarpet"
           }
          ],
          "scattergeo": [
           {
            "marker": {
             "colorbar": {
              "outlinewidth": 0,
              "ticks": ""
             }
            },
            "type": "scattergeo"
           }
          ],
          "scattergl": [
           {
            "marker": {
             "colorbar": {
              "outlinewidth": 0,
              "ticks": ""
             }
            },
            "type": "scattergl"
           }
          ],
          "scattermapbox": [
           {
            "marker": {
             "colorbar": {
              "outlinewidth": 0,
              "ticks": ""
             }
            },
            "type": "scattermapbox"
           }
          ],
          "scatterpolar": [
           {
            "marker": {
             "colorbar": {
              "outlinewidth": 0,
              "ticks": ""
             }
            },
            "type": "scatterpolar"
           }
          ],
          "scatterpolargl": [
           {
            "marker": {
             "colorbar": {
              "outlinewidth": 0,
              "ticks": ""
             }
            },
            "type": "scatterpolargl"
           }
          ],
          "scatterternary": [
           {
            "marker": {
             "colorbar": {
              "outlinewidth": 0,
              "ticks": ""
             }
            },
            "type": "scatterternary"
           }
          ],
          "surface": [
           {
            "colorbar": {
             "outlinewidth": 0,
             "ticks": ""
            },
            "colorscale": [
             [
              0,
              "#0d0887"
             ],
             [
              0.1111111111111111,
              "#46039f"
             ],
             [
              0.2222222222222222,
              "#7201a8"
             ],
             [
              0.3333333333333333,
              "#9c179e"
             ],
             [
              0.4444444444444444,
              "#bd3786"
             ],
             [
              0.5555555555555556,
              "#d8576b"
             ],
             [
              0.6666666666666666,
              "#ed7953"
             ],
             [
              0.7777777777777778,
              "#fb9f3a"
             ],
             [
              0.8888888888888888,
              "#fdca26"
             ],
             [
              1,
              "#f0f921"
             ]
            ],
            "type": "surface"
           }
          ],
          "table": [
           {
            "cells": {
             "fill": {
              "color": "#EBF0F8"
             },
             "line": {
              "color": "white"
             }
            },
            "header": {
             "fill": {
              "color": "#C8D4E3"
             },
             "line": {
              "color": "white"
             }
            },
            "type": "table"
           }
          ]
         },
         "layout": {
          "annotationdefaults": {
           "arrowcolor": "#2a3f5f",
           "arrowhead": 0,
           "arrowwidth": 1
          },
          "autotypenumbers": "strict",
          "coloraxis": {
           "colorbar": {
            "outlinewidth": 0,
            "ticks": ""
           }
          },
          "colorscale": {
           "diverging": [
            [
             0,
             "#8e0152"
            ],
            [
             0.1,
             "#c51b7d"
            ],
            [
             0.2,
             "#de77ae"
            ],
            [
             0.3,
             "#f1b6da"
            ],
            [
             0.4,
             "#fde0ef"
            ],
            [
             0.5,
             "#f7f7f7"
            ],
            [
             0.6,
             "#e6f5d0"
            ],
            [
             0.7,
             "#b8e186"
            ],
            [
             0.8,
             "#7fbc41"
            ],
            [
             0.9,
             "#4d9221"
            ],
            [
             1,
             "#276419"
            ]
           ],
           "sequential": [
            [
             0,
             "#0d0887"
            ],
            [
             0.1111111111111111,
             "#46039f"
            ],
            [
             0.2222222222222222,
             "#7201a8"
            ],
            [
             0.3333333333333333,
             "#9c179e"
            ],
            [
             0.4444444444444444,
             "#bd3786"
            ],
            [
             0.5555555555555556,
             "#d8576b"
            ],
            [
             0.6666666666666666,
             "#ed7953"
            ],
            [
             0.7777777777777778,
             "#fb9f3a"
            ],
            [
             0.8888888888888888,
             "#fdca26"
            ],
            [
             1,
             "#f0f921"
            ]
           ],
           "sequentialminus": [
            [
             0,
             "#0d0887"
            ],
            [
             0.1111111111111111,
             "#46039f"
            ],
            [
             0.2222222222222222,
             "#7201a8"
            ],
            [
             0.3333333333333333,
             "#9c179e"
            ],
            [
             0.4444444444444444,
             "#bd3786"
            ],
            [
             0.5555555555555556,
             "#d8576b"
            ],
            [
             0.6666666666666666,
             "#ed7953"
            ],
            [
             0.7777777777777778,
             "#fb9f3a"
            ],
            [
             0.8888888888888888,
             "#fdca26"
            ],
            [
             1,
             "#f0f921"
            ]
           ]
          },
          "colorway": [
           "#636efa",
           "#EF553B",
           "#00cc96",
           "#ab63fa",
           "#FFA15A",
           "#19d3f3",
           "#FF6692",
           "#B6E880",
           "#FF97FF",
           "#FECB52"
          ],
          "font": {
           "color": "#2a3f5f"
          },
          "geo": {
           "bgcolor": "white",
           "lakecolor": "white",
           "landcolor": "#E5ECF6",
           "showlakes": true,
           "showland": true,
           "subunitcolor": "white"
          },
          "hoverlabel": {
           "align": "left"
          },
          "hovermode": "closest",
          "mapbox": {
           "style": "light"
          },
          "paper_bgcolor": "white",
          "plot_bgcolor": "#E5ECF6",
          "polar": {
           "angularaxis": {
            "gridcolor": "white",
            "linecolor": "white",
            "ticks": ""
           },
           "bgcolor": "#E5ECF6",
           "radialaxis": {
            "gridcolor": "white",
            "linecolor": "white",
            "ticks": ""
           }
          },
          "scene": {
           "xaxis": {
            "backgroundcolor": "#E5ECF6",
            "gridcolor": "white",
            "gridwidth": 2,
            "linecolor": "white",
            "showbackground": true,
            "ticks": "",
            "zerolinecolor": "white"
           },
           "yaxis": {
            "backgroundcolor": "#E5ECF6",
            "gridcolor": "white",
            "gridwidth": 2,
            "linecolor": "white",
            "showbackground": true,
            "ticks": "",
            "zerolinecolor": "white"
           },
           "zaxis": {
            "backgroundcolor": "#E5ECF6",
            "gridcolor": "white",
            "gridwidth": 2,
            "linecolor": "white",
            "showbackground": true,
            "ticks": "",
            "zerolinecolor": "white"
           }
          },
          "shapedefaults": {
           "line": {
            "color": "#2a3f5f"
           }
          },
          "ternary": {
           "aaxis": {
            "gridcolor": "white",
            "linecolor": "white",
            "ticks": ""
           },
           "baxis": {
            "gridcolor": "white",
            "linecolor": "white",
            "ticks": ""
           },
           "bgcolor": "#E5ECF6",
           "caxis": {
            "gridcolor": "white",
            "linecolor": "white",
            "ticks": ""
           }
          },
          "title": {
           "x": 0.05
          },
          "xaxis": {
           "automargin": true,
           "gridcolor": "white",
           "linecolor": "white",
           "ticks": "",
           "title": {
            "standoff": 15
           },
           "zerolinecolor": "white",
           "zerolinewidth": 2
          },
          "yaxis": {
           "automargin": true,
           "gridcolor": "white",
           "linecolor": "white",
           "ticks": "",
           "title": {
            "standoff": 15
           },
           "zerolinecolor": "white",
           "zerolinewidth": 2
          }
         }
        },
        "title": {
         "text": "Accesos por Rango de Velocidad"
        },
        "width": 900,
        "xaxis": {
         "anchor": "y",
         "domain": [
          0,
          1
         ],
         "title": {
          "text": "Periodo"
         }
        },
        "yaxis": {
         "anchor": "x",
         "domain": [
          0,
          1
         ],
         "title": {
          "text": "Cantidad de Accesos"
         }
        }
       }
      }
     },
     "metadata": {},
     "output_type": "display_data"
    }
   ],
   "source": [
    "df = rangos_grafico.sort('Fecha')\n",
    "columns = ['Hasta 10 Mbps', '10.01 - 30 Mbps', '30.01 - 100 Mbps', 'Mayor a 100 Mbps']\n",
    "names = columns\n",
    "y_title = 'Cantidad de Accesos'\n",
    "titulo = 'Accesos por Rango de Velocidad'\n",
    "width = 900\n",
    "colors = ['#636EFA', '#EF553B', '#00CC96', '#AB63FA']\n",
    "fig = px.line()\n",
    "for i in range(4):\n",
    "    fig.add_scatter(x=df['Fecha'], y=df[columns[i]],\n",
    "                    name=names[i], mode='lines', line=dict(color=colors[i]))\n",
    "fig.update_layout(title=titulo, xaxis_title='Periodo', yaxis_title=y_title, width=width)\n",
    "config = {'displayModeBar': False}\n",
    "fig.show(config=config)"
   ]
  },
  {
   "cell_type": "markdown",
   "metadata": {},
   "source": [
    "- Según estos Datos los accesos con velocidades inferiores a los 10 MBPS representaban mas del 60% hace apenas 6 años. Pero desde esa fecha para acá ese rango de velocidades a perdido poco mas de 3 millones de acceso, una situación parecida a lo ocurrido en el Gráfico anterior con la tecnología ADSL."
   ]
  },
  {
   "cell_type": "code",
   "execution_count": 2,
   "metadata": {},
   "outputs": [],
   "source": [
    "data = pl.read_parquet('tablas_dash/data_tablero_dashboard.parquet')"
   ]
  },
  {
   "cell_type": "markdown",
   "metadata": {},
   "source": [
    "### **Gráfico 3:**\n",
    "Estudiando la Distribución del mercado de los accesos a Internet en el periodo Ene-Mar 2018"
   ]
  },
  {
   "cell_type": "code",
   "execution_count": 5,
   "metadata": {},
   "outputs": [
    {
     "data": {
      "application/vnd.plotly.v1+json": {
       "config": {
        "displayModeBar": false,
        "plotlyServerURL": "https://plot.ly"
       },
       "data": [
        {
         "hoverlabel": {
          "font": {
           "color": "black",
           "size": 16
          }
         },
         "labels": [
          "Hasta 10 Mbps",
          "10.01 - 30 Mbps",
          "30.01 - 100 Mbps",
          "Mayor a 100 Mbps"
         ],
         "legendgroup": "rangos",
         "marker": {
          "colors": [
           "#636EFA",
           "#EF553B",
           "#00CC96",
           "#AB63FA"
          ]
         },
         "type": "pie",
         "values": [
          4472395,
          2931307,
          379086,
          17681
         ]
        }
       ],
       "layout": {
        "font": {
         "color": "black",
         "size": 14
        },
        "height": 230,
        "legend": {
         "title": {
          "text": "Rangos"
         },
         "traceorder": "normal",
         "x": 1,
         "xanchor": "left",
         "y": 0.9,
         "yanchor": "top"
        },
        "margin": {
         "b": 0,
         "l": 0,
         "r": 0,
         "t": 50
        },
        "template": {
         "data": {
          "bar": [
           {
            "error_x": {
             "color": "#2a3f5f"
            },
            "error_y": {
             "color": "#2a3f5f"
            },
            "marker": {
             "line": {
              "color": "#E5ECF6",
              "width": 0.5
             },
             "pattern": {
              "fillmode": "overlay",
              "size": 10,
              "solidity": 0.2
             }
            },
            "type": "bar"
           }
          ],
          "barpolar": [
           {
            "marker": {
             "line": {
              "color": "#E5ECF6",
              "width": 0.5
             },
             "pattern": {
              "fillmode": "overlay",
              "size": 10,
              "solidity": 0.2
             }
            },
            "type": "barpolar"
           }
          ],
          "carpet": [
           {
            "aaxis": {
             "endlinecolor": "#2a3f5f",
             "gridcolor": "white",
             "linecolor": "white",
             "minorgridcolor": "white",
             "startlinecolor": "#2a3f5f"
            },
            "baxis": {
             "endlinecolor": "#2a3f5f",
             "gridcolor": "white",
             "linecolor": "white",
             "minorgridcolor": "white",
             "startlinecolor": "#2a3f5f"
            },
            "type": "carpet"
           }
          ],
          "choropleth": [
           {
            "colorbar": {
             "outlinewidth": 0,
             "ticks": ""
            },
            "type": "choropleth"
           }
          ],
          "contour": [
           {
            "colorbar": {
             "outlinewidth": 0,
             "ticks": ""
            },
            "colorscale": [
             [
              0,
              "#0d0887"
             ],
             [
              0.1111111111111111,
              "#46039f"
             ],
             [
              0.2222222222222222,
              "#7201a8"
             ],
             [
              0.3333333333333333,
              "#9c179e"
             ],
             [
              0.4444444444444444,
              "#bd3786"
             ],
             [
              0.5555555555555556,
              "#d8576b"
             ],
             [
              0.6666666666666666,
              "#ed7953"
             ],
             [
              0.7777777777777778,
              "#fb9f3a"
             ],
             [
              0.8888888888888888,
              "#fdca26"
             ],
             [
              1,
              "#f0f921"
             ]
            ],
            "type": "contour"
           }
          ],
          "contourcarpet": [
           {
            "colorbar": {
             "outlinewidth": 0,
             "ticks": ""
            },
            "type": "contourcarpet"
           }
          ],
          "heatmap": [
           {
            "colorbar": {
             "outlinewidth": 0,
             "ticks": ""
            },
            "colorscale": [
             [
              0,
              "#0d0887"
             ],
             [
              0.1111111111111111,
              "#46039f"
             ],
             [
              0.2222222222222222,
              "#7201a8"
             ],
             [
              0.3333333333333333,
              "#9c179e"
             ],
             [
              0.4444444444444444,
              "#bd3786"
             ],
             [
              0.5555555555555556,
              "#d8576b"
             ],
             [
              0.6666666666666666,
              "#ed7953"
             ],
             [
              0.7777777777777778,
              "#fb9f3a"
             ],
             [
              0.8888888888888888,
              "#fdca26"
             ],
             [
              1,
              "#f0f921"
             ]
            ],
            "type": "heatmap"
           }
          ],
          "heatmapgl": [
           {
            "colorbar": {
             "outlinewidth": 0,
             "ticks": ""
            },
            "colorscale": [
             [
              0,
              "#0d0887"
             ],
             [
              0.1111111111111111,
              "#46039f"
             ],
             [
              0.2222222222222222,
              "#7201a8"
             ],
             [
              0.3333333333333333,
              "#9c179e"
             ],
             [
              0.4444444444444444,
              "#bd3786"
             ],
             [
              0.5555555555555556,
              "#d8576b"
             ],
             [
              0.6666666666666666,
              "#ed7953"
             ],
             [
              0.7777777777777778,
              "#fb9f3a"
             ],
             [
              0.8888888888888888,
              "#fdca26"
             ],
             [
              1,
              "#f0f921"
             ]
            ],
            "type": "heatmapgl"
           }
          ],
          "histogram": [
           {
            "marker": {
             "pattern": {
              "fillmode": "overlay",
              "size": 10,
              "solidity": 0.2
             }
            },
            "type": "histogram"
           }
          ],
          "histogram2d": [
           {
            "colorbar": {
             "outlinewidth": 0,
             "ticks": ""
            },
            "colorscale": [
             [
              0,
              "#0d0887"
             ],
             [
              0.1111111111111111,
              "#46039f"
             ],
             [
              0.2222222222222222,
              "#7201a8"
             ],
             [
              0.3333333333333333,
              "#9c179e"
             ],
             [
              0.4444444444444444,
              "#bd3786"
             ],
             [
              0.5555555555555556,
              "#d8576b"
             ],
             [
              0.6666666666666666,
              "#ed7953"
             ],
             [
              0.7777777777777778,
              "#fb9f3a"
             ],
             [
              0.8888888888888888,
              "#fdca26"
             ],
             [
              1,
              "#f0f921"
             ]
            ],
            "type": "histogram2d"
           }
          ],
          "histogram2dcontour": [
           {
            "colorbar": {
             "outlinewidth": 0,
             "ticks": ""
            },
            "colorscale": [
             [
              0,
              "#0d0887"
             ],
             [
              0.1111111111111111,
              "#46039f"
             ],
             [
              0.2222222222222222,
              "#7201a8"
             ],
             [
              0.3333333333333333,
              "#9c179e"
             ],
             [
              0.4444444444444444,
              "#bd3786"
             ],
             [
              0.5555555555555556,
              "#d8576b"
             ],
             [
              0.6666666666666666,
              "#ed7953"
             ],
             [
              0.7777777777777778,
              "#fb9f3a"
             ],
             [
              0.8888888888888888,
              "#fdca26"
             ],
             [
              1,
              "#f0f921"
             ]
            ],
            "type": "histogram2dcontour"
           }
          ],
          "mesh3d": [
           {
            "colorbar": {
             "outlinewidth": 0,
             "ticks": ""
            },
            "type": "mesh3d"
           }
          ],
          "parcoords": [
           {
            "line": {
             "colorbar": {
              "outlinewidth": 0,
              "ticks": ""
             }
            },
            "type": "parcoords"
           }
          ],
          "pie": [
           {
            "automargin": true,
            "type": "pie"
           }
          ],
          "scatter": [
           {
            "fillpattern": {
             "fillmode": "overlay",
             "size": 10,
             "solidity": 0.2
            },
            "type": "scatter"
           }
          ],
          "scatter3d": [
           {
            "line": {
             "colorbar": {
              "outlinewidth": 0,
              "ticks": ""
             }
            },
            "marker": {
             "colorbar": {
              "outlinewidth": 0,
              "ticks": ""
             }
            },
            "type": "scatter3d"
           }
          ],
          "scattercarpet": [
           {
            "marker": {
             "colorbar": {
              "outlinewidth": 0,
              "ticks": ""
             }
            },
            "type": "scattercarpet"
           }
          ],
          "scattergeo": [
           {
            "marker": {
             "colorbar": {
              "outlinewidth": 0,
              "ticks": ""
             }
            },
            "type": "scattergeo"
           }
          ],
          "scattergl": [
           {
            "marker": {
             "colorbar": {
              "outlinewidth": 0,
              "ticks": ""
             }
            },
            "type": "scattergl"
           }
          ],
          "scattermapbox": [
           {
            "marker": {
             "colorbar": {
              "outlinewidth": 0,
              "ticks": ""
             }
            },
            "type": "scattermapbox"
           }
          ],
          "scatterpolar": [
           {
            "marker": {
             "colorbar": {
              "outlinewidth": 0,
              "ticks": ""
             }
            },
            "type": "scatterpolar"
           }
          ],
          "scatterpolargl": [
           {
            "marker": {
             "colorbar": {
              "outlinewidth": 0,
              "ticks": ""
             }
            },
            "type": "scatterpolargl"
           }
          ],
          "scatterternary": [
           {
            "marker": {
             "colorbar": {
              "outlinewidth": 0,
              "ticks": ""
             }
            },
            "type": "scatterternary"
           }
          ],
          "surface": [
           {
            "colorbar": {
             "outlinewidth": 0,
             "ticks": ""
            },
            "colorscale": [
             [
              0,
              "#0d0887"
             ],
             [
              0.1111111111111111,
              "#46039f"
             ],
             [
              0.2222222222222222,
              "#7201a8"
             ],
             [
              0.3333333333333333,
              "#9c179e"
             ],
             [
              0.4444444444444444,
              "#bd3786"
             ],
             [
              0.5555555555555556,
              "#d8576b"
             ],
             [
              0.6666666666666666,
              "#ed7953"
             ],
             [
              0.7777777777777778,
              "#fb9f3a"
             ],
             [
              0.8888888888888888,
              "#fdca26"
             ],
             [
              1,
              "#f0f921"
             ]
            ],
            "type": "surface"
           }
          ],
          "table": [
           {
            "cells": {
             "fill": {
              "color": "#EBF0F8"
             },
             "line": {
              "color": "white"
             }
            },
            "header": {
             "fill": {
              "color": "#C8D4E3"
             },
             "line": {
              "color": "white"
             }
            },
            "type": "table"
           }
          ]
         },
         "layout": {
          "annotationdefaults": {
           "arrowcolor": "#2a3f5f",
           "arrowhead": 0,
           "arrowwidth": 1
          },
          "autotypenumbers": "strict",
          "coloraxis": {
           "colorbar": {
            "outlinewidth": 0,
            "ticks": ""
           }
          },
          "colorscale": {
           "diverging": [
            [
             0,
             "#8e0152"
            ],
            [
             0.1,
             "#c51b7d"
            ],
            [
             0.2,
             "#de77ae"
            ],
            [
             0.3,
             "#f1b6da"
            ],
            [
             0.4,
             "#fde0ef"
            ],
            [
             0.5,
             "#f7f7f7"
            ],
            [
             0.6,
             "#e6f5d0"
            ],
            [
             0.7,
             "#b8e186"
            ],
            [
             0.8,
             "#7fbc41"
            ],
            [
             0.9,
             "#4d9221"
            ],
            [
             1,
             "#276419"
            ]
           ],
           "sequential": [
            [
             0,
             "#0d0887"
            ],
            [
             0.1111111111111111,
             "#46039f"
            ],
            [
             0.2222222222222222,
             "#7201a8"
            ],
            [
             0.3333333333333333,
             "#9c179e"
            ],
            [
             0.4444444444444444,
             "#bd3786"
            ],
            [
             0.5555555555555556,
             "#d8576b"
            ],
            [
             0.6666666666666666,
             "#ed7953"
            ],
            [
             0.7777777777777778,
             "#fb9f3a"
            ],
            [
             0.8888888888888888,
             "#fdca26"
            ],
            [
             1,
             "#f0f921"
            ]
           ],
           "sequentialminus": [
            [
             0,
             "#0d0887"
            ],
            [
             0.1111111111111111,
             "#46039f"
            ],
            [
             0.2222222222222222,
             "#7201a8"
            ],
            [
             0.3333333333333333,
             "#9c179e"
            ],
            [
             0.4444444444444444,
             "#bd3786"
            ],
            [
             0.5555555555555556,
             "#d8576b"
            ],
            [
             0.6666666666666666,
             "#ed7953"
            ],
            [
             0.7777777777777778,
             "#fb9f3a"
            ],
            [
             0.8888888888888888,
             "#fdca26"
            ],
            [
             1,
             "#f0f921"
            ]
           ]
          },
          "colorway": [
           "#636efa",
           "#EF553B",
           "#00cc96",
           "#ab63fa",
           "#FFA15A",
           "#19d3f3",
           "#FF6692",
           "#B6E880",
           "#FF97FF",
           "#FECB52"
          ],
          "font": {
           "color": "#2a3f5f"
          },
          "geo": {
           "bgcolor": "white",
           "lakecolor": "white",
           "landcolor": "#E5ECF6",
           "showlakes": true,
           "showland": true,
           "subunitcolor": "white"
          },
          "hoverlabel": {
           "align": "left"
          },
          "hovermode": "closest",
          "mapbox": {
           "style": "light"
          },
          "paper_bgcolor": "white",
          "plot_bgcolor": "#E5ECF6",
          "polar": {
           "angularaxis": {
            "gridcolor": "white",
            "linecolor": "white",
            "ticks": ""
           },
           "bgcolor": "#E5ECF6",
           "radialaxis": {
            "gridcolor": "white",
            "linecolor": "white",
            "ticks": ""
           }
          },
          "scene": {
           "xaxis": {
            "backgroundcolor": "#E5ECF6",
            "gridcolor": "white",
            "gridwidth": 2,
            "linecolor": "white",
            "showbackground": true,
            "ticks": "",
            "zerolinecolor": "white"
           },
           "yaxis": {
            "backgroundcolor": "#E5ECF6",
            "gridcolor": "white",
            "gridwidth": 2,
            "linecolor": "white",
            "showbackground": true,
            "ticks": "",
            "zerolinecolor": "white"
           },
           "zaxis": {
            "backgroundcolor": "#E5ECF6",
            "gridcolor": "white",
            "gridwidth": 2,
            "linecolor": "white",
            "showbackground": true,
            "ticks": "",
            "zerolinecolor": "white"
           }
          },
          "shapedefaults": {
           "line": {
            "color": "#2a3f5f"
           }
          },
          "ternary": {
           "aaxis": {
            "gridcolor": "white",
            "linecolor": "white",
            "ticks": ""
           },
           "baxis": {
            "gridcolor": "white",
            "linecolor": "white",
            "ticks": ""
           },
           "bgcolor": "#E5ECF6",
           "caxis": {
            "gridcolor": "white",
            "linecolor": "white",
            "ticks": ""
           }
          },
          "title": {
           "x": 0.05
          },
          "xaxis": {
           "automargin": true,
           "gridcolor": "white",
           "linecolor": "white",
           "ticks": "",
           "title": {
            "standoff": 15
           },
           "zerolinecolor": "white",
           "zerolinewidth": 2
          },
          "yaxis": {
           "automargin": true,
           "gridcolor": "white",
           "linecolor": "white",
           "ticks": "",
           "title": {
            "standoff": 15
           },
           "zerolinecolor": "white",
           "zerolinewidth": 2
          }
         }
        },
        "title": {
         "text": "Distribución de los accesos de Internet según Rangos de Velocidad   (Ene - Mar 2018)"
        }
       }
      }
     },
     "metadata": {},
     "output_type": "display_data"
    },
    {
     "data": {
      "application/vnd.plotly.v1+json": {
       "config": {
        "displayModeBar": false,
        "plotlyServerURL": "https://plot.ly"
       },
       "data": [
        {
         "hoverlabel": {
          "font": {
           "color": "black",
           "size": 16
          }
         },
         "labels": [
          "ADSL",
          "CABLEMODEM",
          "FIBRA",
          "WIRELESS"
         ],
         "legendgroup": "tecnologias",
         "marker": {
          "colors": [
           "#FFA15A",
           "#19D3F3",
           "#FF6692",
           "#B6E880"
          ]
         },
         "type": "pie",
         "values": [
          3574294,
          3981129,
          217460,
          165300
         ]
        }
       ],
       "layout": {
        "font": {
         "color": "black",
         "size": 14
        },
        "height": 230,
        "legend": {
         "title": {
          "text": "Tecnologías"
         },
         "traceorder": "normal",
         "x": 1,
         "xanchor": "left",
         "y": 0.9,
         "yanchor": "top"
        },
        "margin": {
         "b": 0,
         "l": 0,
         "r": 0,
         "t": 50
        },
        "template": {
         "data": {
          "bar": [
           {
            "error_x": {
             "color": "#2a3f5f"
            },
            "error_y": {
             "color": "#2a3f5f"
            },
            "marker": {
             "line": {
              "color": "#E5ECF6",
              "width": 0.5
             },
             "pattern": {
              "fillmode": "overlay",
              "size": 10,
              "solidity": 0.2
             }
            },
            "type": "bar"
           }
          ],
          "barpolar": [
           {
            "marker": {
             "line": {
              "color": "#E5ECF6",
              "width": 0.5
             },
             "pattern": {
              "fillmode": "overlay",
              "size": 10,
              "solidity": 0.2
             }
            },
            "type": "barpolar"
           }
          ],
          "carpet": [
           {
            "aaxis": {
             "endlinecolor": "#2a3f5f",
             "gridcolor": "white",
             "linecolor": "white",
             "minorgridcolor": "white",
             "startlinecolor": "#2a3f5f"
            },
            "baxis": {
             "endlinecolor": "#2a3f5f",
             "gridcolor": "white",
             "linecolor": "white",
             "minorgridcolor": "white",
             "startlinecolor": "#2a3f5f"
            },
            "type": "carpet"
           }
          ],
          "choropleth": [
           {
            "colorbar": {
             "outlinewidth": 0,
             "ticks": ""
            },
            "type": "choropleth"
           }
          ],
          "contour": [
           {
            "colorbar": {
             "outlinewidth": 0,
             "ticks": ""
            },
            "colorscale": [
             [
              0,
              "#0d0887"
             ],
             [
              0.1111111111111111,
              "#46039f"
             ],
             [
              0.2222222222222222,
              "#7201a8"
             ],
             [
              0.3333333333333333,
              "#9c179e"
             ],
             [
              0.4444444444444444,
              "#bd3786"
             ],
             [
              0.5555555555555556,
              "#d8576b"
             ],
             [
              0.6666666666666666,
              "#ed7953"
             ],
             [
              0.7777777777777778,
              "#fb9f3a"
             ],
             [
              0.8888888888888888,
              "#fdca26"
             ],
             [
              1,
              "#f0f921"
             ]
            ],
            "type": "contour"
           }
          ],
          "contourcarpet": [
           {
            "colorbar": {
             "outlinewidth": 0,
             "ticks": ""
            },
            "type": "contourcarpet"
           }
          ],
          "heatmap": [
           {
            "colorbar": {
             "outlinewidth": 0,
             "ticks": ""
            },
            "colorscale": [
             [
              0,
              "#0d0887"
             ],
             [
              0.1111111111111111,
              "#46039f"
             ],
             [
              0.2222222222222222,
              "#7201a8"
             ],
             [
              0.3333333333333333,
              "#9c179e"
             ],
             [
              0.4444444444444444,
              "#bd3786"
             ],
             [
              0.5555555555555556,
              "#d8576b"
             ],
             [
              0.6666666666666666,
              "#ed7953"
             ],
             [
              0.7777777777777778,
              "#fb9f3a"
             ],
             [
              0.8888888888888888,
              "#fdca26"
             ],
             [
              1,
              "#f0f921"
             ]
            ],
            "type": "heatmap"
           }
          ],
          "heatmapgl": [
           {
            "colorbar": {
             "outlinewidth": 0,
             "ticks": ""
            },
            "colorscale": [
             [
              0,
              "#0d0887"
             ],
             [
              0.1111111111111111,
              "#46039f"
             ],
             [
              0.2222222222222222,
              "#7201a8"
             ],
             [
              0.3333333333333333,
              "#9c179e"
             ],
             [
              0.4444444444444444,
              "#bd3786"
             ],
             [
              0.5555555555555556,
              "#d8576b"
             ],
             [
              0.6666666666666666,
              "#ed7953"
             ],
             [
              0.7777777777777778,
              "#fb9f3a"
             ],
             [
              0.8888888888888888,
              "#fdca26"
             ],
             [
              1,
              "#f0f921"
             ]
            ],
            "type": "heatmapgl"
           }
          ],
          "histogram": [
           {
            "marker": {
             "pattern": {
              "fillmode": "overlay",
              "size": 10,
              "solidity": 0.2
             }
            },
            "type": "histogram"
           }
          ],
          "histogram2d": [
           {
            "colorbar": {
             "outlinewidth": 0,
             "ticks": ""
            },
            "colorscale": [
             [
              0,
              "#0d0887"
             ],
             [
              0.1111111111111111,
              "#46039f"
             ],
             [
              0.2222222222222222,
              "#7201a8"
             ],
             [
              0.3333333333333333,
              "#9c179e"
             ],
             [
              0.4444444444444444,
              "#bd3786"
             ],
             [
              0.5555555555555556,
              "#d8576b"
             ],
             [
              0.6666666666666666,
              "#ed7953"
             ],
             [
              0.7777777777777778,
              "#fb9f3a"
             ],
             [
              0.8888888888888888,
              "#fdca26"
             ],
             [
              1,
              "#f0f921"
             ]
            ],
            "type": "histogram2d"
           }
          ],
          "histogram2dcontour": [
           {
            "colorbar": {
             "outlinewidth": 0,
             "ticks": ""
            },
            "colorscale": [
             [
              0,
              "#0d0887"
             ],
             [
              0.1111111111111111,
              "#46039f"
             ],
             [
              0.2222222222222222,
              "#7201a8"
             ],
             [
              0.3333333333333333,
              "#9c179e"
             ],
             [
              0.4444444444444444,
              "#bd3786"
             ],
             [
              0.5555555555555556,
              "#d8576b"
             ],
             [
              0.6666666666666666,
              "#ed7953"
             ],
             [
              0.7777777777777778,
              "#fb9f3a"
             ],
             [
              0.8888888888888888,
              "#fdca26"
             ],
             [
              1,
              "#f0f921"
             ]
            ],
            "type": "histogram2dcontour"
           }
          ],
          "mesh3d": [
           {
            "colorbar": {
             "outlinewidth": 0,
             "ticks": ""
            },
            "type": "mesh3d"
           }
          ],
          "parcoords": [
           {
            "line": {
             "colorbar": {
              "outlinewidth": 0,
              "ticks": ""
             }
            },
            "type": "parcoords"
           }
          ],
          "pie": [
           {
            "automargin": true,
            "type": "pie"
           }
          ],
          "scatter": [
           {
            "fillpattern": {
             "fillmode": "overlay",
             "size": 10,
             "solidity": 0.2
            },
            "type": "scatter"
           }
          ],
          "scatter3d": [
           {
            "line": {
             "colorbar": {
              "outlinewidth": 0,
              "ticks": ""
             }
            },
            "marker": {
             "colorbar": {
              "outlinewidth": 0,
              "ticks": ""
             }
            },
            "type": "scatter3d"
           }
          ],
          "scattercarpet": [
           {
            "marker": {
             "colorbar": {
              "outlinewidth": 0,
              "ticks": ""
             }
            },
            "type": "scattercarpet"
           }
          ],
          "scattergeo": [
           {
            "marker": {
             "colorbar": {
              "outlinewidth": 0,
              "ticks": ""
             }
            },
            "type": "scattergeo"
           }
          ],
          "scattergl": [
           {
            "marker": {
             "colorbar": {
              "outlinewidth": 0,
              "ticks": ""
             }
            },
            "type": "scattergl"
           }
          ],
          "scattermapbox": [
           {
            "marker": {
             "colorbar": {
              "outlinewidth": 0,
              "ticks": ""
             }
            },
            "type": "scattermapbox"
           }
          ],
          "scatterpolar": [
           {
            "marker": {
             "colorbar": {
              "outlinewidth": 0,
              "ticks": ""
             }
            },
            "type": "scatterpolar"
           }
          ],
          "scatterpolargl": [
           {
            "marker": {
             "colorbar": {
              "outlinewidth": 0,
              "ticks": ""
             }
            },
            "type": "scatterpolargl"
           }
          ],
          "scatterternary": [
           {
            "marker": {
             "colorbar": {
              "outlinewidth": 0,
              "ticks": ""
             }
            },
            "type": "scatterternary"
           }
          ],
          "surface": [
           {
            "colorbar": {
             "outlinewidth": 0,
             "ticks": ""
            },
            "colorscale": [
             [
              0,
              "#0d0887"
             ],
             [
              0.1111111111111111,
              "#46039f"
             ],
             [
              0.2222222222222222,
              "#7201a8"
             ],
             [
              0.3333333333333333,
              "#9c179e"
             ],
             [
              0.4444444444444444,
              "#bd3786"
             ],
             [
              0.5555555555555556,
              "#d8576b"
             ],
             [
              0.6666666666666666,
              "#ed7953"
             ],
             [
              0.7777777777777778,
              "#fb9f3a"
             ],
             [
              0.8888888888888888,
              "#fdca26"
             ],
             [
              1,
              "#f0f921"
             ]
            ],
            "type": "surface"
           }
          ],
          "table": [
           {
            "cells": {
             "fill": {
              "color": "#EBF0F8"
             },
             "line": {
              "color": "white"
             }
            },
            "header": {
             "fill": {
              "color": "#C8D4E3"
             },
             "line": {
              "color": "white"
             }
            },
            "type": "table"
           }
          ]
         },
         "layout": {
          "annotationdefaults": {
           "arrowcolor": "#2a3f5f",
           "arrowhead": 0,
           "arrowwidth": 1
          },
          "autotypenumbers": "strict",
          "coloraxis": {
           "colorbar": {
            "outlinewidth": 0,
            "ticks": ""
           }
          },
          "colorscale": {
           "diverging": [
            [
             0,
             "#8e0152"
            ],
            [
             0.1,
             "#c51b7d"
            ],
            [
             0.2,
             "#de77ae"
            ],
            [
             0.3,
             "#f1b6da"
            ],
            [
             0.4,
             "#fde0ef"
            ],
            [
             0.5,
             "#f7f7f7"
            ],
            [
             0.6,
             "#e6f5d0"
            ],
            [
             0.7,
             "#b8e186"
            ],
            [
             0.8,
             "#7fbc41"
            ],
            [
             0.9,
             "#4d9221"
            ],
            [
             1,
             "#276419"
            ]
           ],
           "sequential": [
            [
             0,
             "#0d0887"
            ],
            [
             0.1111111111111111,
             "#46039f"
            ],
            [
             0.2222222222222222,
             "#7201a8"
            ],
            [
             0.3333333333333333,
             "#9c179e"
            ],
            [
             0.4444444444444444,
             "#bd3786"
            ],
            [
             0.5555555555555556,
             "#d8576b"
            ],
            [
             0.6666666666666666,
             "#ed7953"
            ],
            [
             0.7777777777777778,
             "#fb9f3a"
            ],
            [
             0.8888888888888888,
             "#fdca26"
            ],
            [
             1,
             "#f0f921"
            ]
           ],
           "sequentialminus": [
            [
             0,
             "#0d0887"
            ],
            [
             0.1111111111111111,
             "#46039f"
            ],
            [
             0.2222222222222222,
             "#7201a8"
            ],
            [
             0.3333333333333333,
             "#9c179e"
            ],
            [
             0.4444444444444444,
             "#bd3786"
            ],
            [
             0.5555555555555556,
             "#d8576b"
            ],
            [
             0.6666666666666666,
             "#ed7953"
            ],
            [
             0.7777777777777778,
             "#fb9f3a"
            ],
            [
             0.8888888888888888,
             "#fdca26"
            ],
            [
             1,
             "#f0f921"
            ]
           ]
          },
          "colorway": [
           "#636efa",
           "#EF553B",
           "#00cc96",
           "#ab63fa",
           "#FFA15A",
           "#19d3f3",
           "#FF6692",
           "#B6E880",
           "#FF97FF",
           "#FECB52"
          ],
          "font": {
           "color": "#2a3f5f"
          },
          "geo": {
           "bgcolor": "white",
           "lakecolor": "white",
           "landcolor": "#E5ECF6",
           "showlakes": true,
           "showland": true,
           "subunitcolor": "white"
          },
          "hoverlabel": {
           "align": "left"
          },
          "hovermode": "closest",
          "mapbox": {
           "style": "light"
          },
          "paper_bgcolor": "white",
          "plot_bgcolor": "#E5ECF6",
          "polar": {
           "angularaxis": {
            "gridcolor": "white",
            "linecolor": "white",
            "ticks": ""
           },
           "bgcolor": "#E5ECF6",
           "radialaxis": {
            "gridcolor": "white",
            "linecolor": "white",
            "ticks": ""
           }
          },
          "scene": {
           "xaxis": {
            "backgroundcolor": "#E5ECF6",
            "gridcolor": "white",
            "gridwidth": 2,
            "linecolor": "white",
            "showbackground": true,
            "ticks": "",
            "zerolinecolor": "white"
           },
           "yaxis": {
            "backgroundcolor": "#E5ECF6",
            "gridcolor": "white",
            "gridwidth": 2,
            "linecolor": "white",
            "showbackground": true,
            "ticks": "",
            "zerolinecolor": "white"
           },
           "zaxis": {
            "backgroundcolor": "#E5ECF6",
            "gridcolor": "white",
            "gridwidth": 2,
            "linecolor": "white",
            "showbackground": true,
            "ticks": "",
            "zerolinecolor": "white"
           }
          },
          "shapedefaults": {
           "line": {
            "color": "#2a3f5f"
           }
          },
          "ternary": {
           "aaxis": {
            "gridcolor": "white",
            "linecolor": "white",
            "ticks": ""
           },
           "baxis": {
            "gridcolor": "white",
            "linecolor": "white",
            "ticks": ""
           },
           "bgcolor": "#E5ECF6",
           "caxis": {
            "gridcolor": "white",
            "linecolor": "white",
            "ticks": ""
           }
          },
          "title": {
           "x": 0.05
          },
          "xaxis": {
           "automargin": true,
           "gridcolor": "white",
           "linecolor": "white",
           "ticks": "",
           "title": {
            "standoff": 15
           },
           "zerolinecolor": "white",
           "zerolinewidth": 2
          },
          "yaxis": {
           "automargin": true,
           "gridcolor": "white",
           "linecolor": "white",
           "ticks": "",
           "title": {
            "standoff": 15
           },
           "zerolinecolor": "white",
           "zerolinewidth": 2
          }
         }
        },
        "title": {
         "text": "Distribución de los accesos de Internet según Tecnologías  (Ene - Mar 2018)"
        }
       }
      }
     },
     "metadata": {},
     "output_type": "display_data"
    }
   ],
   "source": [
    "config = {'displayModeBar': False}\n",
    "periodo = 'Ene - Mar 2018'\n",
    "mask = data['Periodo'] == periodo\n",
    "df = data.filter(mask)\n",
    "\n",
    "fig1, fig2 = retorna_pies_eda_internet(df=df, periodo=periodo)\n",
    "\n",
    "fig1.show(config=config)\n",
    "fig2.show(config=config)\n"
   ]
  },
  {
   "cell_type": "markdown",
   "metadata": {},
   "source": [
    "### **Gráfico 4:**\n",
    "Estudiando la Distribución del mercado de los accesos a Internet en el periodo Ene-Mar 2021"
   ]
  },
  {
   "cell_type": "code",
   "execution_count": 6,
   "metadata": {},
   "outputs": [
    {
     "data": {
      "application/vnd.plotly.v1+json": {
       "config": {
        "displayModeBar": false,
        "plotlyServerURL": "https://plot.ly"
       },
       "data": [
        {
         "hoverlabel": {
          "font": {
           "color": "black",
           "size": 16
          }
         },
         "labels": [
          "Hasta 10 Mbps",
          "10.01 - 30 Mbps",
          "30.01 - 100 Mbps",
          "Mayor a 100 Mbps"
         ],
         "legendgroup": "rangos",
         "marker": {
          "colors": [
           "#636EFA",
           "#EF553B",
           "#00CC96",
           "#AB63FA"
          ]
         },
         "type": "pie",
         "values": [
          3745414,
          1333931,
          4134802,
          245082
         ]
        }
       ],
       "layout": {
        "font": {
         "color": "black",
         "size": 14
        },
        "height": 230,
        "legend": {
         "title": {
          "text": "Rangos"
         },
         "traceorder": "normal",
         "x": 1,
         "xanchor": "left",
         "y": 0.9,
         "yanchor": "top"
        },
        "margin": {
         "b": 0,
         "l": 0,
         "r": 0,
         "t": 50
        },
        "template": {
         "data": {
          "bar": [
           {
            "error_x": {
             "color": "#2a3f5f"
            },
            "error_y": {
             "color": "#2a3f5f"
            },
            "marker": {
             "line": {
              "color": "#E5ECF6",
              "width": 0.5
             },
             "pattern": {
              "fillmode": "overlay",
              "size": 10,
              "solidity": 0.2
             }
            },
            "type": "bar"
           }
          ],
          "barpolar": [
           {
            "marker": {
             "line": {
              "color": "#E5ECF6",
              "width": 0.5
             },
             "pattern": {
              "fillmode": "overlay",
              "size": 10,
              "solidity": 0.2
             }
            },
            "type": "barpolar"
           }
          ],
          "carpet": [
           {
            "aaxis": {
             "endlinecolor": "#2a3f5f",
             "gridcolor": "white",
             "linecolor": "white",
             "minorgridcolor": "white",
             "startlinecolor": "#2a3f5f"
            },
            "baxis": {
             "endlinecolor": "#2a3f5f",
             "gridcolor": "white",
             "linecolor": "white",
             "minorgridcolor": "white",
             "startlinecolor": "#2a3f5f"
            },
            "type": "carpet"
           }
          ],
          "choropleth": [
           {
            "colorbar": {
             "outlinewidth": 0,
             "ticks": ""
            },
            "type": "choropleth"
           }
          ],
          "contour": [
           {
            "colorbar": {
             "outlinewidth": 0,
             "ticks": ""
            },
            "colorscale": [
             [
              0,
              "#0d0887"
             ],
             [
              0.1111111111111111,
              "#46039f"
             ],
             [
              0.2222222222222222,
              "#7201a8"
             ],
             [
              0.3333333333333333,
              "#9c179e"
             ],
             [
              0.4444444444444444,
              "#bd3786"
             ],
             [
              0.5555555555555556,
              "#d8576b"
             ],
             [
              0.6666666666666666,
              "#ed7953"
             ],
             [
              0.7777777777777778,
              "#fb9f3a"
             ],
             [
              0.8888888888888888,
              "#fdca26"
             ],
             [
              1,
              "#f0f921"
             ]
            ],
            "type": "contour"
           }
          ],
          "contourcarpet": [
           {
            "colorbar": {
             "outlinewidth": 0,
             "ticks": ""
            },
            "type": "contourcarpet"
           }
          ],
          "heatmap": [
           {
            "colorbar": {
             "outlinewidth": 0,
             "ticks": ""
            },
            "colorscale": [
             [
              0,
              "#0d0887"
             ],
             [
              0.1111111111111111,
              "#46039f"
             ],
             [
              0.2222222222222222,
              "#7201a8"
             ],
             [
              0.3333333333333333,
              "#9c179e"
             ],
             [
              0.4444444444444444,
              "#bd3786"
             ],
             [
              0.5555555555555556,
              "#d8576b"
             ],
             [
              0.6666666666666666,
              "#ed7953"
             ],
             [
              0.7777777777777778,
              "#fb9f3a"
             ],
             [
              0.8888888888888888,
              "#fdca26"
             ],
             [
              1,
              "#f0f921"
             ]
            ],
            "type": "heatmap"
           }
          ],
          "heatmapgl": [
           {
            "colorbar": {
             "outlinewidth": 0,
             "ticks": ""
            },
            "colorscale": [
             [
              0,
              "#0d0887"
             ],
             [
              0.1111111111111111,
              "#46039f"
             ],
             [
              0.2222222222222222,
              "#7201a8"
             ],
             [
              0.3333333333333333,
              "#9c179e"
             ],
             [
              0.4444444444444444,
              "#bd3786"
             ],
             [
              0.5555555555555556,
              "#d8576b"
             ],
             [
              0.6666666666666666,
              "#ed7953"
             ],
             [
              0.7777777777777778,
              "#fb9f3a"
             ],
             [
              0.8888888888888888,
              "#fdca26"
             ],
             [
              1,
              "#f0f921"
             ]
            ],
            "type": "heatmapgl"
           }
          ],
          "histogram": [
           {
            "marker": {
             "pattern": {
              "fillmode": "overlay",
              "size": 10,
              "solidity": 0.2
             }
            },
            "type": "histogram"
           }
          ],
          "histogram2d": [
           {
            "colorbar": {
             "outlinewidth": 0,
             "ticks": ""
            },
            "colorscale": [
             [
              0,
              "#0d0887"
             ],
             [
              0.1111111111111111,
              "#46039f"
             ],
             [
              0.2222222222222222,
              "#7201a8"
             ],
             [
              0.3333333333333333,
              "#9c179e"
             ],
             [
              0.4444444444444444,
              "#bd3786"
             ],
             [
              0.5555555555555556,
              "#d8576b"
             ],
             [
              0.6666666666666666,
              "#ed7953"
             ],
             [
              0.7777777777777778,
              "#fb9f3a"
             ],
             [
              0.8888888888888888,
              "#fdca26"
             ],
             [
              1,
              "#f0f921"
             ]
            ],
            "type": "histogram2d"
           }
          ],
          "histogram2dcontour": [
           {
            "colorbar": {
             "outlinewidth": 0,
             "ticks": ""
            },
            "colorscale": [
             [
              0,
              "#0d0887"
             ],
             [
              0.1111111111111111,
              "#46039f"
             ],
             [
              0.2222222222222222,
              "#7201a8"
             ],
             [
              0.3333333333333333,
              "#9c179e"
             ],
             [
              0.4444444444444444,
              "#bd3786"
             ],
             [
              0.5555555555555556,
              "#d8576b"
             ],
             [
              0.6666666666666666,
              "#ed7953"
             ],
             [
              0.7777777777777778,
              "#fb9f3a"
             ],
             [
              0.8888888888888888,
              "#fdca26"
             ],
             [
              1,
              "#f0f921"
             ]
            ],
            "type": "histogram2dcontour"
           }
          ],
          "mesh3d": [
           {
            "colorbar": {
             "outlinewidth": 0,
             "ticks": ""
            },
            "type": "mesh3d"
           }
          ],
          "parcoords": [
           {
            "line": {
             "colorbar": {
              "outlinewidth": 0,
              "ticks": ""
             }
            },
            "type": "parcoords"
           }
          ],
          "pie": [
           {
            "automargin": true,
            "type": "pie"
           }
          ],
          "scatter": [
           {
            "fillpattern": {
             "fillmode": "overlay",
             "size": 10,
             "solidity": 0.2
            },
            "type": "scatter"
           }
          ],
          "scatter3d": [
           {
            "line": {
             "colorbar": {
              "outlinewidth": 0,
              "ticks": ""
             }
            },
            "marker": {
             "colorbar": {
              "outlinewidth": 0,
              "ticks": ""
             }
            },
            "type": "scatter3d"
           }
          ],
          "scattercarpet": [
           {
            "marker": {
             "colorbar": {
              "outlinewidth": 0,
              "ticks": ""
             }
            },
            "type": "scattercarpet"
           }
          ],
          "scattergeo": [
           {
            "marker": {
             "colorbar": {
              "outlinewidth": 0,
              "ticks": ""
             }
            },
            "type": "scattergeo"
           }
          ],
          "scattergl": [
           {
            "marker": {
             "colorbar": {
              "outlinewidth": 0,
              "ticks": ""
             }
            },
            "type": "scattergl"
           }
          ],
          "scattermapbox": [
           {
            "marker": {
             "colorbar": {
              "outlinewidth": 0,
              "ticks": ""
             }
            },
            "type": "scattermapbox"
           }
          ],
          "scatterpolar": [
           {
            "marker": {
             "colorbar": {
              "outlinewidth": 0,
              "ticks": ""
             }
            },
            "type": "scatterpolar"
           }
          ],
          "scatterpolargl": [
           {
            "marker": {
             "colorbar": {
              "outlinewidth": 0,
              "ticks": ""
             }
            },
            "type": "scatterpolargl"
           }
          ],
          "scatterternary": [
           {
            "marker": {
             "colorbar": {
              "outlinewidth": 0,
              "ticks": ""
             }
            },
            "type": "scatterternary"
           }
          ],
          "surface": [
           {
            "colorbar": {
             "outlinewidth": 0,
             "ticks": ""
            },
            "colorscale": [
             [
              0,
              "#0d0887"
             ],
             [
              0.1111111111111111,
              "#46039f"
             ],
             [
              0.2222222222222222,
              "#7201a8"
             ],
             [
              0.3333333333333333,
              "#9c179e"
             ],
             [
              0.4444444444444444,
              "#bd3786"
             ],
             [
              0.5555555555555556,
              "#d8576b"
             ],
             [
              0.6666666666666666,
              "#ed7953"
             ],
             [
              0.7777777777777778,
              "#fb9f3a"
             ],
             [
              0.8888888888888888,
              "#fdca26"
             ],
             [
              1,
              "#f0f921"
             ]
            ],
            "type": "surface"
           }
          ],
          "table": [
           {
            "cells": {
             "fill": {
              "color": "#EBF0F8"
             },
             "line": {
              "color": "white"
             }
            },
            "header": {
             "fill": {
              "color": "#C8D4E3"
             },
             "line": {
              "color": "white"
             }
            },
            "type": "table"
           }
          ]
         },
         "layout": {
          "annotationdefaults": {
           "arrowcolor": "#2a3f5f",
           "arrowhead": 0,
           "arrowwidth": 1
          },
          "autotypenumbers": "strict",
          "coloraxis": {
           "colorbar": {
            "outlinewidth": 0,
            "ticks": ""
           }
          },
          "colorscale": {
           "diverging": [
            [
             0,
             "#8e0152"
            ],
            [
             0.1,
             "#c51b7d"
            ],
            [
             0.2,
             "#de77ae"
            ],
            [
             0.3,
             "#f1b6da"
            ],
            [
             0.4,
             "#fde0ef"
            ],
            [
             0.5,
             "#f7f7f7"
            ],
            [
             0.6,
             "#e6f5d0"
            ],
            [
             0.7,
             "#b8e186"
            ],
            [
             0.8,
             "#7fbc41"
            ],
            [
             0.9,
             "#4d9221"
            ],
            [
             1,
             "#276419"
            ]
           ],
           "sequential": [
            [
             0,
             "#0d0887"
            ],
            [
             0.1111111111111111,
             "#46039f"
            ],
            [
             0.2222222222222222,
             "#7201a8"
            ],
            [
             0.3333333333333333,
             "#9c179e"
            ],
            [
             0.4444444444444444,
             "#bd3786"
            ],
            [
             0.5555555555555556,
             "#d8576b"
            ],
            [
             0.6666666666666666,
             "#ed7953"
            ],
            [
             0.7777777777777778,
             "#fb9f3a"
            ],
            [
             0.8888888888888888,
             "#fdca26"
            ],
            [
             1,
             "#f0f921"
            ]
           ],
           "sequentialminus": [
            [
             0,
             "#0d0887"
            ],
            [
             0.1111111111111111,
             "#46039f"
            ],
            [
             0.2222222222222222,
             "#7201a8"
            ],
            [
             0.3333333333333333,
             "#9c179e"
            ],
            [
             0.4444444444444444,
             "#bd3786"
            ],
            [
             0.5555555555555556,
             "#d8576b"
            ],
            [
             0.6666666666666666,
             "#ed7953"
            ],
            [
             0.7777777777777778,
             "#fb9f3a"
            ],
            [
             0.8888888888888888,
             "#fdca26"
            ],
            [
             1,
             "#f0f921"
            ]
           ]
          },
          "colorway": [
           "#636efa",
           "#EF553B",
           "#00cc96",
           "#ab63fa",
           "#FFA15A",
           "#19d3f3",
           "#FF6692",
           "#B6E880",
           "#FF97FF",
           "#FECB52"
          ],
          "font": {
           "color": "#2a3f5f"
          },
          "geo": {
           "bgcolor": "white",
           "lakecolor": "white",
           "landcolor": "#E5ECF6",
           "showlakes": true,
           "showland": true,
           "subunitcolor": "white"
          },
          "hoverlabel": {
           "align": "left"
          },
          "hovermode": "closest",
          "mapbox": {
           "style": "light"
          },
          "paper_bgcolor": "white",
          "plot_bgcolor": "#E5ECF6",
          "polar": {
           "angularaxis": {
            "gridcolor": "white",
            "linecolor": "white",
            "ticks": ""
           },
           "bgcolor": "#E5ECF6",
           "radialaxis": {
            "gridcolor": "white",
            "linecolor": "white",
            "ticks": ""
           }
          },
          "scene": {
           "xaxis": {
            "backgroundcolor": "#E5ECF6",
            "gridcolor": "white",
            "gridwidth": 2,
            "linecolor": "white",
            "showbackground": true,
            "ticks": "",
            "zerolinecolor": "white"
           },
           "yaxis": {
            "backgroundcolor": "#E5ECF6",
            "gridcolor": "white",
            "gridwidth": 2,
            "linecolor": "white",
            "showbackground": true,
            "ticks": "",
            "zerolinecolor": "white"
           },
           "zaxis": {
            "backgroundcolor": "#E5ECF6",
            "gridcolor": "white",
            "gridwidth": 2,
            "linecolor": "white",
            "showbackground": true,
            "ticks": "",
            "zerolinecolor": "white"
           }
          },
          "shapedefaults": {
           "line": {
            "color": "#2a3f5f"
           }
          },
          "ternary": {
           "aaxis": {
            "gridcolor": "white",
            "linecolor": "white",
            "ticks": ""
           },
           "baxis": {
            "gridcolor": "white",
            "linecolor": "white",
            "ticks": ""
           },
           "bgcolor": "#E5ECF6",
           "caxis": {
            "gridcolor": "white",
            "linecolor": "white",
            "ticks": ""
           }
          },
          "title": {
           "x": 0.05
          },
          "xaxis": {
           "automargin": true,
           "gridcolor": "white",
           "linecolor": "white",
           "ticks": "",
           "title": {
            "standoff": 15
           },
           "zerolinecolor": "white",
           "zerolinewidth": 2
          },
          "yaxis": {
           "automargin": true,
           "gridcolor": "white",
           "linecolor": "white",
           "ticks": "",
           "title": {
            "standoff": 15
           },
           "zerolinecolor": "white",
           "zerolinewidth": 2
          }
         }
        },
        "title": {
         "text": "Distribución de los accesos de Internet según Rangos de Velocidad   (Ene - Mar 2021)"
        }
       }
      }
     },
     "metadata": {},
     "output_type": "display_data"
    },
    {
     "data": {
      "application/vnd.plotly.v1+json": {
       "config": {
        "displayModeBar": false,
        "plotlyServerURL": "https://plot.ly"
       },
       "data": [
        {
         "hoverlabel": {
          "font": {
           "color": "black",
           "size": 16
          }
         },
         "labels": [
          "ADSL",
          "CABLEMODEM",
          "FIBRA",
          "WIRELESS"
         ],
         "legendgroup": "tecnologias",
         "marker": {
          "colors": [
           "#FFA15A",
           "#19D3F3",
           "#FF6692",
           "#B6E880"
          ]
         },
         "type": "pie",
         "values": [
          2175211,
          5424782,
          1362976,
          434548
         ]
        }
       ],
       "layout": {
        "font": {
         "color": "black",
         "size": 14
        },
        "height": 230,
        "legend": {
         "title": {
          "text": "Tecnologías"
         },
         "traceorder": "normal",
         "x": 1,
         "xanchor": "left",
         "y": 0.9,
         "yanchor": "top"
        },
        "margin": {
         "b": 0,
         "l": 0,
         "r": 0,
         "t": 50
        },
        "template": {
         "data": {
          "bar": [
           {
            "error_x": {
             "color": "#2a3f5f"
            },
            "error_y": {
             "color": "#2a3f5f"
            },
            "marker": {
             "line": {
              "color": "#E5ECF6",
              "width": 0.5
             },
             "pattern": {
              "fillmode": "overlay",
              "size": 10,
              "solidity": 0.2
             }
            },
            "type": "bar"
           }
          ],
          "barpolar": [
           {
            "marker": {
             "line": {
              "color": "#E5ECF6",
              "width": 0.5
             },
             "pattern": {
              "fillmode": "overlay",
              "size": 10,
              "solidity": 0.2
             }
            },
            "type": "barpolar"
           }
          ],
          "carpet": [
           {
            "aaxis": {
             "endlinecolor": "#2a3f5f",
             "gridcolor": "white",
             "linecolor": "white",
             "minorgridcolor": "white",
             "startlinecolor": "#2a3f5f"
            },
            "baxis": {
             "endlinecolor": "#2a3f5f",
             "gridcolor": "white",
             "linecolor": "white",
             "minorgridcolor": "white",
             "startlinecolor": "#2a3f5f"
            },
            "type": "carpet"
           }
          ],
          "choropleth": [
           {
            "colorbar": {
             "outlinewidth": 0,
             "ticks": ""
            },
            "type": "choropleth"
           }
          ],
          "contour": [
           {
            "colorbar": {
             "outlinewidth": 0,
             "ticks": ""
            },
            "colorscale": [
             [
              0,
              "#0d0887"
             ],
             [
              0.1111111111111111,
              "#46039f"
             ],
             [
              0.2222222222222222,
              "#7201a8"
             ],
             [
              0.3333333333333333,
              "#9c179e"
             ],
             [
              0.4444444444444444,
              "#bd3786"
             ],
             [
              0.5555555555555556,
              "#d8576b"
             ],
             [
              0.6666666666666666,
              "#ed7953"
             ],
             [
              0.7777777777777778,
              "#fb9f3a"
             ],
             [
              0.8888888888888888,
              "#fdca26"
             ],
             [
              1,
              "#f0f921"
             ]
            ],
            "type": "contour"
           }
          ],
          "contourcarpet": [
           {
            "colorbar": {
             "outlinewidth": 0,
             "ticks": ""
            },
            "type": "contourcarpet"
           }
          ],
          "heatmap": [
           {
            "colorbar": {
             "outlinewidth": 0,
             "ticks": ""
            },
            "colorscale": [
             [
              0,
              "#0d0887"
             ],
             [
              0.1111111111111111,
              "#46039f"
             ],
             [
              0.2222222222222222,
              "#7201a8"
             ],
             [
              0.3333333333333333,
              "#9c179e"
             ],
             [
              0.4444444444444444,
              "#bd3786"
             ],
             [
              0.5555555555555556,
              "#d8576b"
             ],
             [
              0.6666666666666666,
              "#ed7953"
             ],
             [
              0.7777777777777778,
              "#fb9f3a"
             ],
             [
              0.8888888888888888,
              "#fdca26"
             ],
             [
              1,
              "#f0f921"
             ]
            ],
            "type": "heatmap"
           }
          ],
          "heatmapgl": [
           {
            "colorbar": {
             "outlinewidth": 0,
             "ticks": ""
            },
            "colorscale": [
             [
              0,
              "#0d0887"
             ],
             [
              0.1111111111111111,
              "#46039f"
             ],
             [
              0.2222222222222222,
              "#7201a8"
             ],
             [
              0.3333333333333333,
              "#9c179e"
             ],
             [
              0.4444444444444444,
              "#bd3786"
             ],
             [
              0.5555555555555556,
              "#d8576b"
             ],
             [
              0.6666666666666666,
              "#ed7953"
             ],
             [
              0.7777777777777778,
              "#fb9f3a"
             ],
             [
              0.8888888888888888,
              "#fdca26"
             ],
             [
              1,
              "#f0f921"
             ]
            ],
            "type": "heatmapgl"
           }
          ],
          "histogram": [
           {
            "marker": {
             "pattern": {
              "fillmode": "overlay",
              "size": 10,
              "solidity": 0.2
             }
            },
            "type": "histogram"
           }
          ],
          "histogram2d": [
           {
            "colorbar": {
             "outlinewidth": 0,
             "ticks": ""
            },
            "colorscale": [
             [
              0,
              "#0d0887"
             ],
             [
              0.1111111111111111,
              "#46039f"
             ],
             [
              0.2222222222222222,
              "#7201a8"
             ],
             [
              0.3333333333333333,
              "#9c179e"
             ],
             [
              0.4444444444444444,
              "#bd3786"
             ],
             [
              0.5555555555555556,
              "#d8576b"
             ],
             [
              0.6666666666666666,
              "#ed7953"
             ],
             [
              0.7777777777777778,
              "#fb9f3a"
             ],
             [
              0.8888888888888888,
              "#fdca26"
             ],
             [
              1,
              "#f0f921"
             ]
            ],
            "type": "histogram2d"
           }
          ],
          "histogram2dcontour": [
           {
            "colorbar": {
             "outlinewidth": 0,
             "ticks": ""
            },
            "colorscale": [
             [
              0,
              "#0d0887"
             ],
             [
              0.1111111111111111,
              "#46039f"
             ],
             [
              0.2222222222222222,
              "#7201a8"
             ],
             [
              0.3333333333333333,
              "#9c179e"
             ],
             [
              0.4444444444444444,
              "#bd3786"
             ],
             [
              0.5555555555555556,
              "#d8576b"
             ],
             [
              0.6666666666666666,
              "#ed7953"
             ],
             [
              0.7777777777777778,
              "#fb9f3a"
             ],
             [
              0.8888888888888888,
              "#fdca26"
             ],
             [
              1,
              "#f0f921"
             ]
            ],
            "type": "histogram2dcontour"
           }
          ],
          "mesh3d": [
           {
            "colorbar": {
             "outlinewidth": 0,
             "ticks": ""
            },
            "type": "mesh3d"
           }
          ],
          "parcoords": [
           {
            "line": {
             "colorbar": {
              "outlinewidth": 0,
              "ticks": ""
             }
            },
            "type": "parcoords"
           }
          ],
          "pie": [
           {
            "automargin": true,
            "type": "pie"
           }
          ],
          "scatter": [
           {
            "fillpattern": {
             "fillmode": "overlay",
             "size": 10,
             "solidity": 0.2
            },
            "type": "scatter"
           }
          ],
          "scatter3d": [
           {
            "line": {
             "colorbar": {
              "outlinewidth": 0,
              "ticks": ""
             }
            },
            "marker": {
             "colorbar": {
              "outlinewidth": 0,
              "ticks": ""
             }
            },
            "type": "scatter3d"
           }
          ],
          "scattercarpet": [
           {
            "marker": {
             "colorbar": {
              "outlinewidth": 0,
              "ticks": ""
             }
            },
            "type": "scattercarpet"
           }
          ],
          "scattergeo": [
           {
            "marker": {
             "colorbar": {
              "outlinewidth": 0,
              "ticks": ""
             }
            },
            "type": "scattergeo"
           }
          ],
          "scattergl": [
           {
            "marker": {
             "colorbar": {
              "outlinewidth": 0,
              "ticks": ""
             }
            },
            "type": "scattergl"
           }
          ],
          "scattermapbox": [
           {
            "marker": {
             "colorbar": {
              "outlinewidth": 0,
              "ticks": ""
             }
            },
            "type": "scattermapbox"
           }
          ],
          "scatterpolar": [
           {
            "marker": {
             "colorbar": {
              "outlinewidth": 0,
              "ticks": ""
             }
            },
            "type": "scatterpolar"
           }
          ],
          "scatterpolargl": [
           {
            "marker": {
             "colorbar": {
              "outlinewidth": 0,
              "ticks": ""
             }
            },
            "type": "scatterpolargl"
           }
          ],
          "scatterternary": [
           {
            "marker": {
             "colorbar": {
              "outlinewidth": 0,
              "ticks": ""
             }
            },
            "type": "scatterternary"
           }
          ],
          "surface": [
           {
            "colorbar": {
             "outlinewidth": 0,
             "ticks": ""
            },
            "colorscale": [
             [
              0,
              "#0d0887"
             ],
             [
              0.1111111111111111,
              "#46039f"
             ],
             [
              0.2222222222222222,
              "#7201a8"
             ],
             [
              0.3333333333333333,
              "#9c179e"
             ],
             [
              0.4444444444444444,
              "#bd3786"
             ],
             [
              0.5555555555555556,
              "#d8576b"
             ],
             [
              0.6666666666666666,
              "#ed7953"
             ],
             [
              0.7777777777777778,
              "#fb9f3a"
             ],
             [
              0.8888888888888888,
              "#fdca26"
             ],
             [
              1,
              "#f0f921"
             ]
            ],
            "type": "surface"
           }
          ],
          "table": [
           {
            "cells": {
             "fill": {
              "color": "#EBF0F8"
             },
             "line": {
              "color": "white"
             }
            },
            "header": {
             "fill": {
              "color": "#C8D4E3"
             },
             "line": {
              "color": "white"
             }
            },
            "type": "table"
           }
          ]
         },
         "layout": {
          "annotationdefaults": {
           "arrowcolor": "#2a3f5f",
           "arrowhead": 0,
           "arrowwidth": 1
          },
          "autotypenumbers": "strict",
          "coloraxis": {
           "colorbar": {
            "outlinewidth": 0,
            "ticks": ""
           }
          },
          "colorscale": {
           "diverging": [
            [
             0,
             "#8e0152"
            ],
            [
             0.1,
             "#c51b7d"
            ],
            [
             0.2,
             "#de77ae"
            ],
            [
             0.3,
             "#f1b6da"
            ],
            [
             0.4,
             "#fde0ef"
            ],
            [
             0.5,
             "#f7f7f7"
            ],
            [
             0.6,
             "#e6f5d0"
            ],
            [
             0.7,
             "#b8e186"
            ],
            [
             0.8,
             "#7fbc41"
            ],
            [
             0.9,
             "#4d9221"
            ],
            [
             1,
             "#276419"
            ]
           ],
           "sequential": [
            [
             0,
             "#0d0887"
            ],
            [
             0.1111111111111111,
             "#46039f"
            ],
            [
             0.2222222222222222,
             "#7201a8"
            ],
            [
             0.3333333333333333,
             "#9c179e"
            ],
            [
             0.4444444444444444,
             "#bd3786"
            ],
            [
             0.5555555555555556,
             "#d8576b"
            ],
            [
             0.6666666666666666,
             "#ed7953"
            ],
            [
             0.7777777777777778,
             "#fb9f3a"
            ],
            [
             0.8888888888888888,
             "#fdca26"
            ],
            [
             1,
             "#f0f921"
            ]
           ],
           "sequentialminus": [
            [
             0,
             "#0d0887"
            ],
            [
             0.1111111111111111,
             "#46039f"
            ],
            [
             0.2222222222222222,
             "#7201a8"
            ],
            [
             0.3333333333333333,
             "#9c179e"
            ],
            [
             0.4444444444444444,
             "#bd3786"
            ],
            [
             0.5555555555555556,
             "#d8576b"
            ],
            [
             0.6666666666666666,
             "#ed7953"
            ],
            [
             0.7777777777777778,
             "#fb9f3a"
            ],
            [
             0.8888888888888888,
             "#fdca26"
            ],
            [
             1,
             "#f0f921"
            ]
           ]
          },
          "colorway": [
           "#636efa",
           "#EF553B",
           "#00cc96",
           "#ab63fa",
           "#FFA15A",
           "#19d3f3",
           "#FF6692",
           "#B6E880",
           "#FF97FF",
           "#FECB52"
          ],
          "font": {
           "color": "#2a3f5f"
          },
          "geo": {
           "bgcolor": "white",
           "lakecolor": "white",
           "landcolor": "#E5ECF6",
           "showlakes": true,
           "showland": true,
           "subunitcolor": "white"
          },
          "hoverlabel": {
           "align": "left"
          },
          "hovermode": "closest",
          "mapbox": {
           "style": "light"
          },
          "paper_bgcolor": "white",
          "plot_bgcolor": "#E5ECF6",
          "polar": {
           "angularaxis": {
            "gridcolor": "white",
            "linecolor": "white",
            "ticks": ""
           },
           "bgcolor": "#E5ECF6",
           "radialaxis": {
            "gridcolor": "white",
            "linecolor": "white",
            "ticks": ""
           }
          },
          "scene": {
           "xaxis": {
            "backgroundcolor": "#E5ECF6",
            "gridcolor": "white",
            "gridwidth": 2,
            "linecolor": "white",
            "showbackground": true,
            "ticks": "",
            "zerolinecolor": "white"
           },
           "yaxis": {
            "backgroundcolor": "#E5ECF6",
            "gridcolor": "white",
            "gridwidth": 2,
            "linecolor": "white",
            "showbackground": true,
            "ticks": "",
            "zerolinecolor": "white"
           },
           "zaxis": {
            "backgroundcolor": "#E5ECF6",
            "gridcolor": "white",
            "gridwidth": 2,
            "linecolor": "white",
            "showbackground": true,
            "ticks": "",
            "zerolinecolor": "white"
           }
          },
          "shapedefaults": {
           "line": {
            "color": "#2a3f5f"
           }
          },
          "ternary": {
           "aaxis": {
            "gridcolor": "white",
            "linecolor": "white",
            "ticks": ""
           },
           "baxis": {
            "gridcolor": "white",
            "linecolor": "white",
            "ticks": ""
           },
           "bgcolor": "#E5ECF6",
           "caxis": {
            "gridcolor": "white",
            "linecolor": "white",
            "ticks": ""
           }
          },
          "title": {
           "x": 0.05
          },
          "xaxis": {
           "automargin": true,
           "gridcolor": "white",
           "linecolor": "white",
           "ticks": "",
           "title": {
            "standoff": 15
           },
           "zerolinecolor": "white",
           "zerolinewidth": 2
          },
          "yaxis": {
           "automargin": true,
           "gridcolor": "white",
           "linecolor": "white",
           "ticks": "",
           "title": {
            "standoff": 15
           },
           "zerolinecolor": "white",
           "zerolinewidth": 2
          }
         }
        },
        "title": {
         "text": "Distribución de los accesos de Internet según Tecnologías  (Ene - Mar 2021)"
        }
       }
      }
     },
     "metadata": {},
     "output_type": "display_data"
    }
   ],
   "source": [
    "periodo = 'Ene - Mar 2021'\n",
    "mask = data['Periodo'] == periodo\n",
    "df = data.filter(mask)\n",
    "\n",
    "fig1, fig2 = retorna_pies_eda_internet(df=df, periodo=periodo)\n",
    "\n",
    "fig1.show(config=config)\n",
    "fig2.show(config=config)"
   ]
  },
  {
   "cell_type": "markdown",
   "metadata": {},
   "source": [
    "### **Gráfico 5:**\n",
    "Estudiando la Distribución del mercado de los accesos a Internet en el periodo Ene-Mar 2024"
   ]
  },
  {
   "cell_type": "code",
   "execution_count": 7,
   "metadata": {},
   "outputs": [
    {
     "data": {
      "application/vnd.plotly.v1+json": {
       "config": {
        "displayModeBar": false,
        "plotlyServerURL": "https://plot.ly"
       },
       "data": [
        {
         "hoverlabel": {
          "font": {
           "color": "black",
           "size": 16
          }
         },
         "labels": [
          "Hasta 10 Mbps",
          "10.01 - 30 Mbps",
          "30.01 - 100 Mbps",
          "Mayor a 100 Mbps"
         ],
         "legendgroup": "rangos",
         "marker": {
          "colors": [
           "#636EFA",
           "#EF553B",
           "#00CC96",
           "#AB63FA"
          ]
         },
         "type": "pie",
         "values": [
          1915238,
          1872681,
          3996482,
          3520582
         ]
        }
       ],
       "layout": {
        "font": {
         "color": "black",
         "size": 14
        },
        "height": 230,
        "legend": {
         "title": {
          "text": "Rangos"
         },
         "traceorder": "normal",
         "x": 1,
         "xanchor": "left",
         "y": 0.9,
         "yanchor": "top"
        },
        "margin": {
         "b": 0,
         "l": 0,
         "r": 0,
         "t": 50
        },
        "template": {
         "data": {
          "bar": [
           {
            "error_x": {
             "color": "#2a3f5f"
            },
            "error_y": {
             "color": "#2a3f5f"
            },
            "marker": {
             "line": {
              "color": "#E5ECF6",
              "width": 0.5
             },
             "pattern": {
              "fillmode": "overlay",
              "size": 10,
              "solidity": 0.2
             }
            },
            "type": "bar"
           }
          ],
          "barpolar": [
           {
            "marker": {
             "line": {
              "color": "#E5ECF6",
              "width": 0.5
             },
             "pattern": {
              "fillmode": "overlay",
              "size": 10,
              "solidity": 0.2
             }
            },
            "type": "barpolar"
           }
          ],
          "carpet": [
           {
            "aaxis": {
             "endlinecolor": "#2a3f5f",
             "gridcolor": "white",
             "linecolor": "white",
             "minorgridcolor": "white",
             "startlinecolor": "#2a3f5f"
            },
            "baxis": {
             "endlinecolor": "#2a3f5f",
             "gridcolor": "white",
             "linecolor": "white",
             "minorgridcolor": "white",
             "startlinecolor": "#2a3f5f"
            },
            "type": "carpet"
           }
          ],
          "choropleth": [
           {
            "colorbar": {
             "outlinewidth": 0,
             "ticks": ""
            },
            "type": "choropleth"
           }
          ],
          "contour": [
           {
            "colorbar": {
             "outlinewidth": 0,
             "ticks": ""
            },
            "colorscale": [
             [
              0,
              "#0d0887"
             ],
             [
              0.1111111111111111,
              "#46039f"
             ],
             [
              0.2222222222222222,
              "#7201a8"
             ],
             [
              0.3333333333333333,
              "#9c179e"
             ],
             [
              0.4444444444444444,
              "#bd3786"
             ],
             [
              0.5555555555555556,
              "#d8576b"
             ],
             [
              0.6666666666666666,
              "#ed7953"
             ],
             [
              0.7777777777777778,
              "#fb9f3a"
             ],
             [
              0.8888888888888888,
              "#fdca26"
             ],
             [
              1,
              "#f0f921"
             ]
            ],
            "type": "contour"
           }
          ],
          "contourcarpet": [
           {
            "colorbar": {
             "outlinewidth": 0,
             "ticks": ""
            },
            "type": "contourcarpet"
           }
          ],
          "heatmap": [
           {
            "colorbar": {
             "outlinewidth": 0,
             "ticks": ""
            },
            "colorscale": [
             [
              0,
              "#0d0887"
             ],
             [
              0.1111111111111111,
              "#46039f"
             ],
             [
              0.2222222222222222,
              "#7201a8"
             ],
             [
              0.3333333333333333,
              "#9c179e"
             ],
             [
              0.4444444444444444,
              "#bd3786"
             ],
             [
              0.5555555555555556,
              "#d8576b"
             ],
             [
              0.6666666666666666,
              "#ed7953"
             ],
             [
              0.7777777777777778,
              "#fb9f3a"
             ],
             [
              0.8888888888888888,
              "#fdca26"
             ],
             [
              1,
              "#f0f921"
             ]
            ],
            "type": "heatmap"
           }
          ],
          "heatmapgl": [
           {
            "colorbar": {
             "outlinewidth": 0,
             "ticks": ""
            },
            "colorscale": [
             [
              0,
              "#0d0887"
             ],
             [
              0.1111111111111111,
              "#46039f"
             ],
             [
              0.2222222222222222,
              "#7201a8"
             ],
             [
              0.3333333333333333,
              "#9c179e"
             ],
             [
              0.4444444444444444,
              "#bd3786"
             ],
             [
              0.5555555555555556,
              "#d8576b"
             ],
             [
              0.6666666666666666,
              "#ed7953"
             ],
             [
              0.7777777777777778,
              "#fb9f3a"
             ],
             [
              0.8888888888888888,
              "#fdca26"
             ],
             [
              1,
              "#f0f921"
             ]
            ],
            "type": "heatmapgl"
           }
          ],
          "histogram": [
           {
            "marker": {
             "pattern": {
              "fillmode": "overlay",
              "size": 10,
              "solidity": 0.2
             }
            },
            "type": "histogram"
           }
          ],
          "histogram2d": [
           {
            "colorbar": {
             "outlinewidth": 0,
             "ticks": ""
            },
            "colorscale": [
             [
              0,
              "#0d0887"
             ],
             [
              0.1111111111111111,
              "#46039f"
             ],
             [
              0.2222222222222222,
              "#7201a8"
             ],
             [
              0.3333333333333333,
              "#9c179e"
             ],
             [
              0.4444444444444444,
              "#bd3786"
             ],
             [
              0.5555555555555556,
              "#d8576b"
             ],
             [
              0.6666666666666666,
              "#ed7953"
             ],
             [
              0.7777777777777778,
              "#fb9f3a"
             ],
             [
              0.8888888888888888,
              "#fdca26"
             ],
             [
              1,
              "#f0f921"
             ]
            ],
            "type": "histogram2d"
           }
          ],
          "histogram2dcontour": [
           {
            "colorbar": {
             "outlinewidth": 0,
             "ticks": ""
            },
            "colorscale": [
             [
              0,
              "#0d0887"
             ],
             [
              0.1111111111111111,
              "#46039f"
             ],
             [
              0.2222222222222222,
              "#7201a8"
             ],
             [
              0.3333333333333333,
              "#9c179e"
             ],
             [
              0.4444444444444444,
              "#bd3786"
             ],
             [
              0.5555555555555556,
              "#d8576b"
             ],
             [
              0.6666666666666666,
              "#ed7953"
             ],
             [
              0.7777777777777778,
              "#fb9f3a"
             ],
             [
              0.8888888888888888,
              "#fdca26"
             ],
             [
              1,
              "#f0f921"
             ]
            ],
            "type": "histogram2dcontour"
           }
          ],
          "mesh3d": [
           {
            "colorbar": {
             "outlinewidth": 0,
             "ticks": ""
            },
            "type": "mesh3d"
           }
          ],
          "parcoords": [
           {
            "line": {
             "colorbar": {
              "outlinewidth": 0,
              "ticks": ""
             }
            },
            "type": "parcoords"
           }
          ],
          "pie": [
           {
            "automargin": true,
            "type": "pie"
           }
          ],
          "scatter": [
           {
            "fillpattern": {
             "fillmode": "overlay",
             "size": 10,
             "solidity": 0.2
            },
            "type": "scatter"
           }
          ],
          "scatter3d": [
           {
            "line": {
             "colorbar": {
              "outlinewidth": 0,
              "ticks": ""
             }
            },
            "marker": {
             "colorbar": {
              "outlinewidth": 0,
              "ticks": ""
             }
            },
            "type": "scatter3d"
           }
          ],
          "scattercarpet": [
           {
            "marker": {
             "colorbar": {
              "outlinewidth": 0,
              "ticks": ""
             }
            },
            "type": "scattercarpet"
           }
          ],
          "scattergeo": [
           {
            "marker": {
             "colorbar": {
              "outlinewidth": 0,
              "ticks": ""
             }
            },
            "type": "scattergeo"
           }
          ],
          "scattergl": [
           {
            "marker": {
             "colorbar": {
              "outlinewidth": 0,
              "ticks": ""
             }
            },
            "type": "scattergl"
           }
          ],
          "scattermapbox": [
           {
            "marker": {
             "colorbar": {
              "outlinewidth": 0,
              "ticks": ""
             }
            },
            "type": "scattermapbox"
           }
          ],
          "scatterpolar": [
           {
            "marker": {
             "colorbar": {
              "outlinewidth": 0,
              "ticks": ""
             }
            },
            "type": "scatterpolar"
           }
          ],
          "scatterpolargl": [
           {
            "marker": {
             "colorbar": {
              "outlinewidth": 0,
              "ticks": ""
             }
            },
            "type": "scatterpolargl"
           }
          ],
          "scatterternary": [
           {
            "marker": {
             "colorbar": {
              "outlinewidth": 0,
              "ticks": ""
             }
            },
            "type": "scatterternary"
           }
          ],
          "surface": [
           {
            "colorbar": {
             "outlinewidth": 0,
             "ticks": ""
            },
            "colorscale": [
             [
              0,
              "#0d0887"
             ],
             [
              0.1111111111111111,
              "#46039f"
             ],
             [
              0.2222222222222222,
              "#7201a8"
             ],
             [
              0.3333333333333333,
              "#9c179e"
             ],
             [
              0.4444444444444444,
              "#bd3786"
             ],
             [
              0.5555555555555556,
              "#d8576b"
             ],
             [
              0.6666666666666666,
              "#ed7953"
             ],
             [
              0.7777777777777778,
              "#fb9f3a"
             ],
             [
              0.8888888888888888,
              "#fdca26"
             ],
             [
              1,
              "#f0f921"
             ]
            ],
            "type": "surface"
           }
          ],
          "table": [
           {
            "cells": {
             "fill": {
              "color": "#EBF0F8"
             },
             "line": {
              "color": "white"
             }
            },
            "header": {
             "fill": {
              "color": "#C8D4E3"
             },
             "line": {
              "color": "white"
             }
            },
            "type": "table"
           }
          ]
         },
         "layout": {
          "annotationdefaults": {
           "arrowcolor": "#2a3f5f",
           "arrowhead": 0,
           "arrowwidth": 1
          },
          "autotypenumbers": "strict",
          "coloraxis": {
           "colorbar": {
            "outlinewidth": 0,
            "ticks": ""
           }
          },
          "colorscale": {
           "diverging": [
            [
             0,
             "#8e0152"
            ],
            [
             0.1,
             "#c51b7d"
            ],
            [
             0.2,
             "#de77ae"
            ],
            [
             0.3,
             "#f1b6da"
            ],
            [
             0.4,
             "#fde0ef"
            ],
            [
             0.5,
             "#f7f7f7"
            ],
            [
             0.6,
             "#e6f5d0"
            ],
            [
             0.7,
             "#b8e186"
            ],
            [
             0.8,
             "#7fbc41"
            ],
            [
             0.9,
             "#4d9221"
            ],
            [
             1,
             "#276419"
            ]
           ],
           "sequential": [
            [
             0,
             "#0d0887"
            ],
            [
             0.1111111111111111,
             "#46039f"
            ],
            [
             0.2222222222222222,
             "#7201a8"
            ],
            [
             0.3333333333333333,
             "#9c179e"
            ],
            [
             0.4444444444444444,
             "#bd3786"
            ],
            [
             0.5555555555555556,
             "#d8576b"
            ],
            [
             0.6666666666666666,
             "#ed7953"
            ],
            [
             0.7777777777777778,
             "#fb9f3a"
            ],
            [
             0.8888888888888888,
             "#fdca26"
            ],
            [
             1,
             "#f0f921"
            ]
           ],
           "sequentialminus": [
            [
             0,
             "#0d0887"
            ],
            [
             0.1111111111111111,
             "#46039f"
            ],
            [
             0.2222222222222222,
             "#7201a8"
            ],
            [
             0.3333333333333333,
             "#9c179e"
            ],
            [
             0.4444444444444444,
             "#bd3786"
            ],
            [
             0.5555555555555556,
             "#d8576b"
            ],
            [
             0.6666666666666666,
             "#ed7953"
            ],
            [
             0.7777777777777778,
             "#fb9f3a"
            ],
            [
             0.8888888888888888,
             "#fdca26"
            ],
            [
             1,
             "#f0f921"
            ]
           ]
          },
          "colorway": [
           "#636efa",
           "#EF553B",
           "#00cc96",
           "#ab63fa",
           "#FFA15A",
           "#19d3f3",
           "#FF6692",
           "#B6E880",
           "#FF97FF",
           "#FECB52"
          ],
          "font": {
           "color": "#2a3f5f"
          },
          "geo": {
           "bgcolor": "white",
           "lakecolor": "white",
           "landcolor": "#E5ECF6",
           "showlakes": true,
           "showland": true,
           "subunitcolor": "white"
          },
          "hoverlabel": {
           "align": "left"
          },
          "hovermode": "closest",
          "mapbox": {
           "style": "light"
          },
          "paper_bgcolor": "white",
          "plot_bgcolor": "#E5ECF6",
          "polar": {
           "angularaxis": {
            "gridcolor": "white",
            "linecolor": "white",
            "ticks": ""
           },
           "bgcolor": "#E5ECF6",
           "radialaxis": {
            "gridcolor": "white",
            "linecolor": "white",
            "ticks": ""
           }
          },
          "scene": {
           "xaxis": {
            "backgroundcolor": "#E5ECF6",
            "gridcolor": "white",
            "gridwidth": 2,
            "linecolor": "white",
            "showbackground": true,
            "ticks": "",
            "zerolinecolor": "white"
           },
           "yaxis": {
            "backgroundcolor": "#E5ECF6",
            "gridcolor": "white",
            "gridwidth": 2,
            "linecolor": "white",
            "showbackground": true,
            "ticks": "",
            "zerolinecolor": "white"
           },
           "zaxis": {
            "backgroundcolor": "#E5ECF6",
            "gridcolor": "white",
            "gridwidth": 2,
            "linecolor": "white",
            "showbackground": true,
            "ticks": "",
            "zerolinecolor": "white"
           }
          },
          "shapedefaults": {
           "line": {
            "color": "#2a3f5f"
           }
          },
          "ternary": {
           "aaxis": {
            "gridcolor": "white",
            "linecolor": "white",
            "ticks": ""
           },
           "baxis": {
            "gridcolor": "white",
            "linecolor": "white",
            "ticks": ""
           },
           "bgcolor": "#E5ECF6",
           "caxis": {
            "gridcolor": "white",
            "linecolor": "white",
            "ticks": ""
           }
          },
          "title": {
           "x": 0.05
          },
          "xaxis": {
           "automargin": true,
           "gridcolor": "white",
           "linecolor": "white",
           "ticks": "",
           "title": {
            "standoff": 15
           },
           "zerolinecolor": "white",
           "zerolinewidth": 2
          },
          "yaxis": {
           "automargin": true,
           "gridcolor": "white",
           "linecolor": "white",
           "ticks": "",
           "title": {
            "standoff": 15
           },
           "zerolinecolor": "white",
           "zerolinewidth": 2
          }
         }
        },
        "title": {
         "text": "Distribución de los accesos de Internet según Rangos de Velocidad   (Ene - Mar 2024)"
        }
       }
      }
     },
     "metadata": {},
     "output_type": "display_data"
    },
    {
     "data": {
      "application/vnd.plotly.v1+json": {
       "config": {
        "displayModeBar": false,
        "plotlyServerURL": "https://plot.ly"
       },
       "data": [
        {
         "hoverlabel": {
          "font": {
           "color": "black",
           "size": 16
          }
         },
         "labels": [
          "ADSL",
          "CABLEMODEM",
          "FIBRA",
          "WIRELESS"
         ],
         "legendgroup": "tecnologias",
         "marker": {
          "colors": [
           "#FFA15A",
           "#19D3F3",
           "#FF6692",
           "#B6E880"
          ]
         },
         "type": "pie",
         "values": [
          774475,
          5986957,
          4015101,
          598682
         ]
        }
       ],
       "layout": {
        "font": {
         "color": "black",
         "size": 14
        },
        "height": 230,
        "legend": {
         "title": {
          "text": "Tecnologías"
         },
         "traceorder": "normal",
         "x": 1,
         "xanchor": "left",
         "y": 0.9,
         "yanchor": "top"
        },
        "margin": {
         "b": 0,
         "l": 0,
         "r": 0,
         "t": 50
        },
        "template": {
         "data": {
          "bar": [
           {
            "error_x": {
             "color": "#2a3f5f"
            },
            "error_y": {
             "color": "#2a3f5f"
            },
            "marker": {
             "line": {
              "color": "#E5ECF6",
              "width": 0.5
             },
             "pattern": {
              "fillmode": "overlay",
              "size": 10,
              "solidity": 0.2
             }
            },
            "type": "bar"
           }
          ],
          "barpolar": [
           {
            "marker": {
             "line": {
              "color": "#E5ECF6",
              "width": 0.5
             },
             "pattern": {
              "fillmode": "overlay",
              "size": 10,
              "solidity": 0.2
             }
            },
            "type": "barpolar"
           }
          ],
          "carpet": [
           {
            "aaxis": {
             "endlinecolor": "#2a3f5f",
             "gridcolor": "white",
             "linecolor": "white",
             "minorgridcolor": "white",
             "startlinecolor": "#2a3f5f"
            },
            "baxis": {
             "endlinecolor": "#2a3f5f",
             "gridcolor": "white",
             "linecolor": "white",
             "minorgridcolor": "white",
             "startlinecolor": "#2a3f5f"
            },
            "type": "carpet"
           }
          ],
          "choropleth": [
           {
            "colorbar": {
             "outlinewidth": 0,
             "ticks": ""
            },
            "type": "choropleth"
           }
          ],
          "contour": [
           {
            "colorbar": {
             "outlinewidth": 0,
             "ticks": ""
            },
            "colorscale": [
             [
              0,
              "#0d0887"
             ],
             [
              0.1111111111111111,
              "#46039f"
             ],
             [
              0.2222222222222222,
              "#7201a8"
             ],
             [
              0.3333333333333333,
              "#9c179e"
             ],
             [
              0.4444444444444444,
              "#bd3786"
             ],
             [
              0.5555555555555556,
              "#d8576b"
             ],
             [
              0.6666666666666666,
              "#ed7953"
             ],
             [
              0.7777777777777778,
              "#fb9f3a"
             ],
             [
              0.8888888888888888,
              "#fdca26"
             ],
             [
              1,
              "#f0f921"
             ]
            ],
            "type": "contour"
           }
          ],
          "contourcarpet": [
           {
            "colorbar": {
             "outlinewidth": 0,
             "ticks": ""
            },
            "type": "contourcarpet"
           }
          ],
          "heatmap": [
           {
            "colorbar": {
             "outlinewidth": 0,
             "ticks": ""
            },
            "colorscale": [
             [
              0,
              "#0d0887"
             ],
             [
              0.1111111111111111,
              "#46039f"
             ],
             [
              0.2222222222222222,
              "#7201a8"
             ],
             [
              0.3333333333333333,
              "#9c179e"
             ],
             [
              0.4444444444444444,
              "#bd3786"
             ],
             [
              0.5555555555555556,
              "#d8576b"
             ],
             [
              0.6666666666666666,
              "#ed7953"
             ],
             [
              0.7777777777777778,
              "#fb9f3a"
             ],
             [
              0.8888888888888888,
              "#fdca26"
             ],
             [
              1,
              "#f0f921"
             ]
            ],
            "type": "heatmap"
           }
          ],
          "heatmapgl": [
           {
            "colorbar": {
             "outlinewidth": 0,
             "ticks": ""
            },
            "colorscale": [
             [
              0,
              "#0d0887"
             ],
             [
              0.1111111111111111,
              "#46039f"
             ],
             [
              0.2222222222222222,
              "#7201a8"
             ],
             [
              0.3333333333333333,
              "#9c179e"
             ],
             [
              0.4444444444444444,
              "#bd3786"
             ],
             [
              0.5555555555555556,
              "#d8576b"
             ],
             [
              0.6666666666666666,
              "#ed7953"
             ],
             [
              0.7777777777777778,
              "#fb9f3a"
             ],
             [
              0.8888888888888888,
              "#fdca26"
             ],
             [
              1,
              "#f0f921"
             ]
            ],
            "type": "heatmapgl"
           }
          ],
          "histogram": [
           {
            "marker": {
             "pattern": {
              "fillmode": "overlay",
              "size": 10,
              "solidity": 0.2
             }
            },
            "type": "histogram"
           }
          ],
          "histogram2d": [
           {
            "colorbar": {
             "outlinewidth": 0,
             "ticks": ""
            },
            "colorscale": [
             [
              0,
              "#0d0887"
             ],
             [
              0.1111111111111111,
              "#46039f"
             ],
             [
              0.2222222222222222,
              "#7201a8"
             ],
             [
              0.3333333333333333,
              "#9c179e"
             ],
             [
              0.4444444444444444,
              "#bd3786"
             ],
             [
              0.5555555555555556,
              "#d8576b"
             ],
             [
              0.6666666666666666,
              "#ed7953"
             ],
             [
              0.7777777777777778,
              "#fb9f3a"
             ],
             [
              0.8888888888888888,
              "#fdca26"
             ],
             [
              1,
              "#f0f921"
             ]
            ],
            "type": "histogram2d"
           }
          ],
          "histogram2dcontour": [
           {
            "colorbar": {
             "outlinewidth": 0,
             "ticks": ""
            },
            "colorscale": [
             [
              0,
              "#0d0887"
             ],
             [
              0.1111111111111111,
              "#46039f"
             ],
             [
              0.2222222222222222,
              "#7201a8"
             ],
             [
              0.3333333333333333,
              "#9c179e"
             ],
             [
              0.4444444444444444,
              "#bd3786"
             ],
             [
              0.5555555555555556,
              "#d8576b"
             ],
             [
              0.6666666666666666,
              "#ed7953"
             ],
             [
              0.7777777777777778,
              "#fb9f3a"
             ],
             [
              0.8888888888888888,
              "#fdca26"
             ],
             [
              1,
              "#f0f921"
             ]
            ],
            "type": "histogram2dcontour"
           }
          ],
          "mesh3d": [
           {
            "colorbar": {
             "outlinewidth": 0,
             "ticks": ""
            },
            "type": "mesh3d"
           }
          ],
          "parcoords": [
           {
            "line": {
             "colorbar": {
              "outlinewidth": 0,
              "ticks": ""
             }
            },
            "type": "parcoords"
           }
          ],
          "pie": [
           {
            "automargin": true,
            "type": "pie"
           }
          ],
          "scatter": [
           {
            "fillpattern": {
             "fillmode": "overlay",
             "size": 10,
             "solidity": 0.2
            },
            "type": "scatter"
           }
          ],
          "scatter3d": [
           {
            "line": {
             "colorbar": {
              "outlinewidth": 0,
              "ticks": ""
             }
            },
            "marker": {
             "colorbar": {
              "outlinewidth": 0,
              "ticks": ""
             }
            },
            "type": "scatter3d"
           }
          ],
          "scattercarpet": [
           {
            "marker": {
             "colorbar": {
              "outlinewidth": 0,
              "ticks": ""
             }
            },
            "type": "scattercarpet"
           }
          ],
          "scattergeo": [
           {
            "marker": {
             "colorbar": {
              "outlinewidth": 0,
              "ticks": ""
             }
            },
            "type": "scattergeo"
           }
          ],
          "scattergl": [
           {
            "marker": {
             "colorbar": {
              "outlinewidth": 0,
              "ticks": ""
             }
            },
            "type": "scattergl"
           }
          ],
          "scattermapbox": [
           {
            "marker": {
             "colorbar": {
              "outlinewidth": 0,
              "ticks": ""
             }
            },
            "type": "scattermapbox"
           }
          ],
          "scatterpolar": [
           {
            "marker": {
             "colorbar": {
              "outlinewidth": 0,
              "ticks": ""
             }
            },
            "type": "scatterpolar"
           }
          ],
          "scatterpolargl": [
           {
            "marker": {
             "colorbar": {
              "outlinewidth": 0,
              "ticks": ""
             }
            },
            "type": "scatterpolargl"
           }
          ],
          "scatterternary": [
           {
            "marker": {
             "colorbar": {
              "outlinewidth": 0,
              "ticks": ""
             }
            },
            "type": "scatterternary"
           }
          ],
          "surface": [
           {
            "colorbar": {
             "outlinewidth": 0,
             "ticks": ""
            },
            "colorscale": [
             [
              0,
              "#0d0887"
             ],
             [
              0.1111111111111111,
              "#46039f"
             ],
             [
              0.2222222222222222,
              "#7201a8"
             ],
             [
              0.3333333333333333,
              "#9c179e"
             ],
             [
              0.4444444444444444,
              "#bd3786"
             ],
             [
              0.5555555555555556,
              "#d8576b"
             ],
             [
              0.6666666666666666,
              "#ed7953"
             ],
             [
              0.7777777777777778,
              "#fb9f3a"
             ],
             [
              0.8888888888888888,
              "#fdca26"
             ],
             [
              1,
              "#f0f921"
             ]
            ],
            "type": "surface"
           }
          ],
          "table": [
           {
            "cells": {
             "fill": {
              "color": "#EBF0F8"
             },
             "line": {
              "color": "white"
             }
            },
            "header": {
             "fill": {
              "color": "#C8D4E3"
             },
             "line": {
              "color": "white"
             }
            },
            "type": "table"
           }
          ]
         },
         "layout": {
          "annotationdefaults": {
           "arrowcolor": "#2a3f5f",
           "arrowhead": 0,
           "arrowwidth": 1
          },
          "autotypenumbers": "strict",
          "coloraxis": {
           "colorbar": {
            "outlinewidth": 0,
            "ticks": ""
           }
          },
          "colorscale": {
           "diverging": [
            [
             0,
             "#8e0152"
            ],
            [
             0.1,
             "#c51b7d"
            ],
            [
             0.2,
             "#de77ae"
            ],
            [
             0.3,
             "#f1b6da"
            ],
            [
             0.4,
             "#fde0ef"
            ],
            [
             0.5,
             "#f7f7f7"
            ],
            [
             0.6,
             "#e6f5d0"
            ],
            [
             0.7,
             "#b8e186"
            ],
            [
             0.8,
             "#7fbc41"
            ],
            [
             0.9,
             "#4d9221"
            ],
            [
             1,
             "#276419"
            ]
           ],
           "sequential": [
            [
             0,
             "#0d0887"
            ],
            [
             0.1111111111111111,
             "#46039f"
            ],
            [
             0.2222222222222222,
             "#7201a8"
            ],
            [
             0.3333333333333333,
             "#9c179e"
            ],
            [
             0.4444444444444444,
             "#bd3786"
            ],
            [
             0.5555555555555556,
             "#d8576b"
            ],
            [
             0.6666666666666666,
             "#ed7953"
            ],
            [
             0.7777777777777778,
             "#fb9f3a"
            ],
            [
             0.8888888888888888,
             "#fdca26"
            ],
            [
             1,
             "#f0f921"
            ]
           ],
           "sequentialminus": [
            [
             0,
             "#0d0887"
            ],
            [
             0.1111111111111111,
             "#46039f"
            ],
            [
             0.2222222222222222,
             "#7201a8"
            ],
            [
             0.3333333333333333,
             "#9c179e"
            ],
            [
             0.4444444444444444,
             "#bd3786"
            ],
            [
             0.5555555555555556,
             "#d8576b"
            ],
            [
             0.6666666666666666,
             "#ed7953"
            ],
            [
             0.7777777777777778,
             "#fb9f3a"
            ],
            [
             0.8888888888888888,
             "#fdca26"
            ],
            [
             1,
             "#f0f921"
            ]
           ]
          },
          "colorway": [
           "#636efa",
           "#EF553B",
           "#00cc96",
           "#ab63fa",
           "#FFA15A",
           "#19d3f3",
           "#FF6692",
           "#B6E880",
           "#FF97FF",
           "#FECB52"
          ],
          "font": {
           "color": "#2a3f5f"
          },
          "geo": {
           "bgcolor": "white",
           "lakecolor": "white",
           "landcolor": "#E5ECF6",
           "showlakes": true,
           "showland": true,
           "subunitcolor": "white"
          },
          "hoverlabel": {
           "align": "left"
          },
          "hovermode": "closest",
          "mapbox": {
           "style": "light"
          },
          "paper_bgcolor": "white",
          "plot_bgcolor": "#E5ECF6",
          "polar": {
           "angularaxis": {
            "gridcolor": "white",
            "linecolor": "white",
            "ticks": ""
           },
           "bgcolor": "#E5ECF6",
           "radialaxis": {
            "gridcolor": "white",
            "linecolor": "white",
            "ticks": ""
           }
          },
          "scene": {
           "xaxis": {
            "backgroundcolor": "#E5ECF6",
            "gridcolor": "white",
            "gridwidth": 2,
            "linecolor": "white",
            "showbackground": true,
            "ticks": "",
            "zerolinecolor": "white"
           },
           "yaxis": {
            "backgroundcolor": "#E5ECF6",
            "gridcolor": "white",
            "gridwidth": 2,
            "linecolor": "white",
            "showbackground": true,
            "ticks": "",
            "zerolinecolor": "white"
           },
           "zaxis": {
            "backgroundcolor": "#E5ECF6",
            "gridcolor": "white",
            "gridwidth": 2,
            "linecolor": "white",
            "showbackground": true,
            "ticks": "",
            "zerolinecolor": "white"
           }
          },
          "shapedefaults": {
           "line": {
            "color": "#2a3f5f"
           }
          },
          "ternary": {
           "aaxis": {
            "gridcolor": "white",
            "linecolor": "white",
            "ticks": ""
           },
           "baxis": {
            "gridcolor": "white",
            "linecolor": "white",
            "ticks": ""
           },
           "bgcolor": "#E5ECF6",
           "caxis": {
            "gridcolor": "white",
            "linecolor": "white",
            "ticks": ""
           }
          },
          "title": {
           "x": 0.05
          },
          "xaxis": {
           "automargin": true,
           "gridcolor": "white",
           "linecolor": "white",
           "ticks": "",
           "title": {
            "standoff": 15
           },
           "zerolinecolor": "white",
           "zerolinewidth": 2
          },
          "yaxis": {
           "automargin": true,
           "gridcolor": "white",
           "linecolor": "white",
           "ticks": "",
           "title": {
            "standoff": 15
           },
           "zerolinecolor": "white",
           "zerolinewidth": 2
          }
         }
        },
        "title": {
         "text": "Distribución de los accesos de Internet según Tecnologías  (Ene - Mar 2024)"
        }
       }
      }
     },
     "metadata": {},
     "output_type": "display_data"
    }
   ],
   "source": [
    "periodo = 'Ene - Mar 2024'\n",
    "mask = data['Periodo'] == periodo\n",
    "df = data.filter(mask)\n",
    "\n",
    "fig1, fig2 = retorna_pies_eda_internet(df=df, periodo=periodo)\n",
    "\n",
    "fig1.show(config=config)\n",
    "fig2.show(config=config)"
   ]
  },
  {
   "cell_type": "markdown",
   "metadata": {},
   "source": [
    "- Según los Datos los consumidores de Internet en el Mercado Argentino tienen clara preferencia por los servicios de alta Velocidad. Siendo en la actualidad los rangos `30 a 100 Mbps` y `Mayor a 100 Mbps` los de Mayor predominio.\n",
    "- Los consumidores Argentinos no sólo muestran preferencias por los accesos de Alta velocidad, sino que están dispuestos a migrar de Servicio si esto conlleva a una mejora en la Velocidad (Basándonos en lo observado con el rango 0-10 Mbps y la tecnología Adsl) que han pasado de ser los Referentes u Lideres del Sector a ser los menos favorecidos por la escogencia del consumidor."
   ]
  },
  {
   "cell_type": "markdown",
   "metadata": {},
   "source": [
    "### KPI's Propuestos para el Estudio\n",
    "- Crecimiento Trimestral de 2% en `Accesos 100 Hog` por Provincia\n",
    "- Crecimiento Trimestral de 5% en `Velocidad Media de Bajada`  por Provincia\n",
    "<br>\n",
    "\n",
    "- **Nota:** \n",
    "    - El KPI `Crecimiento Trimestral de 2% de Accesos 100 Hog` fue exigido por `PROVINCIA`. Esto hace que sean 24 KPI's a mostrar.\n",
    "    - La única manera que encontré de mostrar 24 KPI's en una visualización y que quede espacio para algo mas fue apoyandome en la Herramienta de los `Tooltips`\n",
    "    - El KPI propuesto por mi persona fue `Crecimiento Trimestral de 5% de Velocidad Media de Bajada` Aproveché y lo mostré en los mismos tooltip que muestro los KPI's anteirores\n"
   ]
  },
  {
   "cell_type": "markdown",
   "metadata": {},
   "source": [
    "### **Gráfico 6:**\n",
    "Estudiando las Métricas de `Accesos por cada 100 Hogares` y `Velocidad Media de Bajada` en las Distintas Provincias durante el Periodo `Enero - Marzo 2018`  "
   ]
  },
  {
   "cell_type": "code",
   "execution_count": 3,
   "metadata": {},
   "outputs": [
    {
     "data": {
      "application/vnd.plotly.v1+json": {
       "config": {
        "displayModeBar": false,
        "plotlyServerURL": "https://plot.ly"
       },
       "data": [
        {
         "alignmentgroup": "True",
         "customdata": [
          [
           "CABA",
           "Accesos 100 Hog",
           106.24,
           122.9,
           125.36,
           84.75,
           -13.56,
           15.2,
           15.96,
           111.17,
           16.73,
           106.24,
           17.75
          ],
          [
           "Buenos Aires",
           "Accesos 100 Hog",
           62.63,
           57.61,
           58.76,
           106.58,
           8.71,
           12.97,
           13.62,
           104.25,
           9.46,
           62.63,
           14.2
          ],
          [
           "Catamarca",
           "Accesos 100 Hog",
           32.79,
           28.62,
           29.19,
           112.33,
           14.58,
           7.78,
           8.17,
           100.31,
           5.33,
           32.79,
           8.2
          ],
          [
           "Córdoba",
           "Accesos 100 Hog",
           63.52,
           63.33,
           64.6,
           98.32,
           0.29,
           11.64,
           12.22,
           104.68,
           9.92,
           63.52,
           12.79
          ],
          [
           "Corrientes",
           "Accesos 100 Hog",
           32.66,
           32.52,
           33.17,
           98.49,
           0.46,
           10.38,
           10.9,
           101.97,
           7.07,
           32.66,
           11.12
          ],
          [
           "Chaco",
           "Accesos 100 Hog",
           30.83,
           30.81,
           31.42,
           98.11,
           0.07,
           11.7,
           12.29,
           101.27,
           6.33,
           30.83,
           12.44
          ],
          [
           "Chubut",
           "Accesos 100 Hog",
           53.72,
           51.46,
           52.49,
           102.33,
           4.38,
           5.41,
           5.68,
           95.42,
           0.19,
           53.72,
           5.42
          ],
          [
           "Entre Ríos",
           "Accesos 100 Hog",
           48.68,
           47.89,
           48.84,
           99.67,
           1.66,
           9.3,
           9.76,
           101.17,
           6.23,
           48.68,
           9.88
          ],
          [
           "Formosa",
           "Accesos 100 Hog",
           21.4,
           21.27,
           21.7,
           98.65,
           0.63,
           10.11,
           10.62,
           104.11,
           9.32,
           21.4,
           11.06
          ],
          [
           "Jujuy",
           "Accesos 100 Hog",
           23.12,
           22.74,
           23.2,
           99.67,
           1.67,
           6.64,
           6.97,
           96.71,
           1.54,
           23.12,
           6.74
          ],
          [
           "La Pampa",
           "Accesos 100 Hog",
           71.75,
           71.05,
           72.47,
           99.01,
           0.99,
           3.98,
           4.17,
           95.7,
           0.49,
           71.75,
           4
          ],
          [
           "La Rioja",
           "Accesos 100 Hog",
           51.44,
           51.57,
           52.6,
           97.8,
           -0.24,
           5.88,
           6.17,
           95.45,
           0.23,
           51.44,
           5.89
          ],
          [
           "Mendoza",
           "Accesos 100 Hog",
           37.07,
           33.33,
           33.99,
           109.06,
           11.24,
           5.71,
           6,
           98.1,
           3.01,
           37.07,
           5.88
          ],
          [
           "Misiones",
           "Accesos 100 Hog",
           30.96,
           31.14,
           31.77,
           97.46,
           -0.6,
           11.32,
           11.89,
           101.61,
           6.69,
           30.96,
           12.08
          ],
          [
           "Neuquén",
           "Accesos 100 Hog",
           61.52,
           61.24,
           62.47,
           98.48,
           0.45,
           10.72,
           11.26,
           106.27,
           11.58,
           61.52,
           11.96
          ],
          [
           "Río Negro",
           "Accesos 100 Hog",
           49.82,
           49.38,
           50.36,
           98.92,
           0.89,
           8.05,
           8.45,
           106.26,
           11.57,
           49.82,
           8.98
          ],
          [
           "Salta",
           "Accesos 100 Hog",
           39.78,
           39.8,
           40.59,
           97.99,
           -0.05,
           8.45,
           8.87,
           103.55,
           8.73,
           39.78,
           9.19
          ],
          [
           "San Juan",
           "Accesos 100 Hog",
           32.61,
           30.3,
           30.91,
           105.51,
           7.62,
           5.83,
           6.12,
           95.54,
           0.31,
           32.61,
           5.85
          ],
          [
           "San Luis",
           "Accesos 100 Hog",
           15.15,
           10.59,
           10.8,
           140.29,
           43.09,
           5.73,
           6.02,
           97.93,
           2.83,
           15.15,
           5.89
          ],
          [
           "Santa Cruz",
           "Accesos 100 Hog",
           33.55,
           28.91,
           29.49,
           113.77,
           16.05,
           5.21,
           5.47,
           94.92,
           -0.33,
           33.55,
           5.19
          ],
          [
           "Santa Fe",
           "Accesos 100 Hog",
           62.28,
           61.71,
           62.95,
           98.94,
           0.92,
           10.3,
           10.81,
           103.34,
           8.51,
           62.28,
           11.17
          ],
          [
           "S. del Estero",
           "Accesos 100 Hog",
           34.99,
           29.13,
           29.71,
           117.77,
           20.13,
           6.17,
           6.47,
           96.51,
           1.34,
           34.99,
           6.25
          ],
          [
           "Tucumán",
           "Accesos 100 Hog",
           41.18,
           39.9,
           40.69,
           101.18,
           3.21,
           9.11,
           9.56,
           97.85,
           2.74,
           41.18,
           9.36
          ],
          [
           "T del Fuego",
           "Accesos 100 Hog",
           65.2,
           59.89,
           61.09,
           106.72,
           8.86,
           5.2,
           5.46,
           105.58,
           10.86,
           65.2,
           5.77
          ]
         ],
         "hoverlabel": {
          "bgcolor": "white",
          "font": {
           "color": "black",
           "size": 16
          }
         },
         "hovertemplate": "<b>Provincia: %{customdata[0]}</b><br>Accesos 100 Hog del Trimestre: %{customdata[11]}<br>MBPS del Trimestre: %{customdata[12]}<br></br><b>KPI Accesos 100 Hog: Crecimiento Trimestral 2%</b><br>Valor Anterior: %{customdata[3]}<br><b>Objetivo KPI: %{customdata[4]}</b><br><b>Cumplimiento KPI: %{customdata[5]} %</b><br>Crecimiento Trimestral: %{customdata[6]} %<br><br><b>KPI MBPS: Crecimiento Trimestral 5%</b><br>Valor Anterior: %{customdata[7]}<br><b>Objetivo KPI: %{customdata[8]}</b><br><b>Cumplimiento KPI: %{customdata[9]} % </b><br>Crecimiento Trimestral: %{customdata[10]} %",
         "legendgroup": "Accesos 100 Hog",
         "marker": {
          "color": "#636efa",
          "pattern": {
           "shape": ""
          }
         },
         "name": "Accesos 100 Hog",
         "offsetgroup": "Accesos 100 Hog",
         "orientation": "v",
         "showlegend": true,
         "textposition": "auto",
         "type": "bar",
         "width": 0.4,
         "x": [
          "CABA",
          "Buenos Aires",
          "Catamarca",
          "Córdoba",
          "Corrientes",
          "Chaco",
          "Chubut",
          "Entre Ríos",
          "Formosa",
          "Jujuy",
          "La Pampa",
          "La Rioja",
          "Mendoza",
          "Misiones",
          "Neuquén",
          "Río Negro",
          "Salta",
          "San Juan",
          "San Luis",
          "Santa Cruz",
          "Santa Fe",
          "S. del Estero",
          "Tucumán",
          "T del Fuego"
         ],
         "xaxis": "x",
         "y": [
          106.24,
          62.63,
          32.79,
          63.52,
          32.66,
          30.83,
          53.72,
          48.68,
          21.4,
          23.12,
          71.75,
          51.44,
          37.07,
          30.96,
          61.52,
          49.82,
          39.78,
          32.61,
          15.15,
          33.55,
          62.28,
          34.99,
          41.18,
          65.2
         ],
         "yaxis": "y"
        },
        {
         "alignmentgroup": "True",
         "customdata": [
          [
           "CABA",
           "MBPS Media Bajada",
           17.75,
           122.9,
           125.36,
           84.75,
           -13.56,
           15.2,
           15.96,
           111.17,
           16.73,
           106.24,
           17.75
          ],
          [
           "Buenos Aires",
           "MBPS Media Bajada",
           14.2,
           57.61,
           58.76,
           106.58,
           8.71,
           12.97,
           13.62,
           104.25,
           9.46,
           62.63,
           14.2
          ],
          [
           "Catamarca",
           "MBPS Media Bajada",
           8.2,
           28.62,
           29.19,
           112.33,
           14.58,
           7.78,
           8.17,
           100.31,
           5.33,
           32.79,
           8.2
          ],
          [
           "Córdoba",
           "MBPS Media Bajada",
           12.79,
           63.33,
           64.6,
           98.32,
           0.29,
           11.64,
           12.22,
           104.68,
           9.92,
           63.52,
           12.79
          ],
          [
           "Corrientes",
           "MBPS Media Bajada",
           11.12,
           32.52,
           33.17,
           98.49,
           0.46,
           10.38,
           10.9,
           101.97,
           7.07,
           32.66,
           11.12
          ],
          [
           "Chaco",
           "MBPS Media Bajada",
           12.44,
           30.81,
           31.42,
           98.11,
           0.07,
           11.7,
           12.29,
           101.27,
           6.33,
           30.83,
           12.44
          ],
          [
           "Chubut",
           "MBPS Media Bajada",
           5.42,
           51.46,
           52.49,
           102.33,
           4.38,
           5.41,
           5.68,
           95.42,
           0.19,
           53.72,
           5.42
          ],
          [
           "Entre Ríos",
           "MBPS Media Bajada",
           9.88,
           47.89,
           48.84,
           99.67,
           1.66,
           9.3,
           9.76,
           101.17,
           6.23,
           48.68,
           9.88
          ],
          [
           "Formosa",
           "MBPS Media Bajada",
           11.06,
           21.27,
           21.7,
           98.65,
           0.63,
           10.11,
           10.62,
           104.11,
           9.32,
           21.4,
           11.06
          ],
          [
           "Jujuy",
           "MBPS Media Bajada",
           6.74,
           22.74,
           23.2,
           99.67,
           1.67,
           6.64,
           6.97,
           96.71,
           1.54,
           23.12,
           6.74
          ],
          [
           "La Pampa",
           "MBPS Media Bajada",
           4,
           71.05,
           72.47,
           99.01,
           0.99,
           3.98,
           4.17,
           95.7,
           0.49,
           71.75,
           4
          ],
          [
           "La Rioja",
           "MBPS Media Bajada",
           5.89,
           51.57,
           52.6,
           97.8,
           -0.24,
           5.88,
           6.17,
           95.45,
           0.23,
           51.44,
           5.89
          ],
          [
           "Mendoza",
           "MBPS Media Bajada",
           5.88,
           33.33,
           33.99,
           109.06,
           11.24,
           5.71,
           6,
           98.1,
           3.01,
           37.07,
           5.88
          ],
          [
           "Misiones",
           "MBPS Media Bajada",
           12.08,
           31.14,
           31.77,
           97.46,
           -0.6,
           11.32,
           11.89,
           101.61,
           6.69,
           30.96,
           12.08
          ],
          [
           "Neuquén",
           "MBPS Media Bajada",
           11.96,
           61.24,
           62.47,
           98.48,
           0.45,
           10.72,
           11.26,
           106.27,
           11.58,
           61.52,
           11.96
          ],
          [
           "Río Negro",
           "MBPS Media Bajada",
           8.98,
           49.38,
           50.36,
           98.92,
           0.89,
           8.05,
           8.45,
           106.26,
           11.57,
           49.82,
           8.98
          ],
          [
           "Salta",
           "MBPS Media Bajada",
           9.19,
           39.8,
           40.59,
           97.99,
           -0.05,
           8.45,
           8.87,
           103.55,
           8.73,
           39.78,
           9.19
          ],
          [
           "San Juan",
           "MBPS Media Bajada",
           5.85,
           30.3,
           30.91,
           105.51,
           7.62,
           5.83,
           6.12,
           95.54,
           0.31,
           32.61,
           5.85
          ],
          [
           "San Luis",
           "MBPS Media Bajada",
           5.89,
           10.59,
           10.8,
           140.29,
           43.09,
           5.73,
           6.02,
           97.93,
           2.83,
           15.15,
           5.89
          ],
          [
           "Santa Cruz",
           "MBPS Media Bajada",
           5.19,
           28.91,
           29.49,
           113.77,
           16.05,
           5.21,
           5.47,
           94.92,
           -0.33,
           33.55,
           5.19
          ],
          [
           "Santa Fe",
           "MBPS Media Bajada",
           11.17,
           61.71,
           62.95,
           98.94,
           0.92,
           10.3,
           10.81,
           103.34,
           8.51,
           62.28,
           11.17
          ],
          [
           "S. del Estero",
           "MBPS Media Bajada",
           6.25,
           29.13,
           29.71,
           117.77,
           20.13,
           6.17,
           6.47,
           96.51,
           1.34,
           34.99,
           6.25
          ],
          [
           "Tucumán",
           "MBPS Media Bajada",
           9.36,
           39.9,
           40.69,
           101.18,
           3.21,
           9.11,
           9.56,
           97.85,
           2.74,
           41.18,
           9.36
          ],
          [
           "T del Fuego",
           "MBPS Media Bajada",
           5.77,
           59.89,
           61.09,
           106.72,
           8.86,
           5.2,
           5.46,
           105.58,
           10.86,
           65.2,
           5.77
          ]
         ],
         "hoverlabel": {
          "bgcolor": "white",
          "font": {
           "color": "black",
           "size": 16
          }
         },
         "hovertemplate": "<b>Provincia: %{customdata[0]}</b><br>Accesos 100 Hog del Trimestre: %{customdata[11]}<br>MBPS del Trimestre: %{customdata[12]}<br></br><b>KPI Accesos 100 Hog: Crecimiento Trimestral 2%</b><br>Valor Anterior: %{customdata[3]}<br><b>Objetivo KPI: %{customdata[4]}</b><br><b>Cumplimiento KPI: %{customdata[5]} %</b><br>Crecimiento Trimestral: %{customdata[6]} %<br><br><b>KPI MBPS: Crecimiento Trimestral 5%</b><br>Valor Anterior: %{customdata[7]}<br><b>Objetivo KPI: %{customdata[8]}</b><br><b>Cumplimiento KPI: %{customdata[9]} % </b><br>Crecimiento Trimestral: %{customdata[10]} %",
         "legendgroup": "MBPS Media Bajada",
         "marker": {
          "color": "#EF553B",
          "pattern": {
           "shape": ""
          }
         },
         "name": "MBPS Media Bajada",
         "offsetgroup": "MBPS Media Bajada",
         "orientation": "v",
         "showlegend": true,
         "textposition": "auto",
         "type": "bar",
         "width": 0.4,
         "x": [
          "CABA",
          "Buenos Aires",
          "Catamarca",
          "Córdoba",
          "Corrientes",
          "Chaco",
          "Chubut",
          "Entre Ríos",
          "Formosa",
          "Jujuy",
          "La Pampa",
          "La Rioja",
          "Mendoza",
          "Misiones",
          "Neuquén",
          "Río Negro",
          "Salta",
          "San Juan",
          "San Luis",
          "Santa Cruz",
          "Santa Fe",
          "S. del Estero",
          "Tucumán",
          "T del Fuego"
         ],
         "xaxis": "x",
         "y": [
          17.75,
          14.2,
          8.2,
          12.79,
          11.12,
          12.44,
          5.42,
          9.88,
          11.06,
          6.74,
          4,
          5.89,
          5.88,
          12.08,
          11.96,
          8.98,
          9.19,
          5.85,
          5.89,
          5.19,
          11.17,
          6.25,
          9.36,
          5.77
         ],
         "yaxis": "y"
        }
       ],
       "layout": {
        "barmode": "group",
        "font": {
         "color": "black",
         "size": 14
        },
        "legend": {
         "orientation": "v",
         "title": {
          "text": "Metrica"
         },
         "tracegroupgap": 0,
         "x": 0.8,
         "y": 1.1
        },
        "margin": {
         "t": 60
        },
        "template": {
         "data": {
          "bar": [
           {
            "error_x": {
             "color": "#2a3f5f"
            },
            "error_y": {
             "color": "#2a3f5f"
            },
            "marker": {
             "line": {
              "color": "#E5ECF6",
              "width": 0.5
             },
             "pattern": {
              "fillmode": "overlay",
              "size": 10,
              "solidity": 0.2
             }
            },
            "type": "bar"
           }
          ],
          "barpolar": [
           {
            "marker": {
             "line": {
              "color": "#E5ECF6",
              "width": 0.5
             },
             "pattern": {
              "fillmode": "overlay",
              "size": 10,
              "solidity": 0.2
             }
            },
            "type": "barpolar"
           }
          ],
          "carpet": [
           {
            "aaxis": {
             "endlinecolor": "#2a3f5f",
             "gridcolor": "white",
             "linecolor": "white",
             "minorgridcolor": "white",
             "startlinecolor": "#2a3f5f"
            },
            "baxis": {
             "endlinecolor": "#2a3f5f",
             "gridcolor": "white",
             "linecolor": "white",
             "minorgridcolor": "white",
             "startlinecolor": "#2a3f5f"
            },
            "type": "carpet"
           }
          ],
          "choropleth": [
           {
            "colorbar": {
             "outlinewidth": 0,
             "ticks": ""
            },
            "type": "choropleth"
           }
          ],
          "contour": [
           {
            "colorbar": {
             "outlinewidth": 0,
             "ticks": ""
            },
            "colorscale": [
             [
              0,
              "#0d0887"
             ],
             [
              0.1111111111111111,
              "#46039f"
             ],
             [
              0.2222222222222222,
              "#7201a8"
             ],
             [
              0.3333333333333333,
              "#9c179e"
             ],
             [
              0.4444444444444444,
              "#bd3786"
             ],
             [
              0.5555555555555556,
              "#d8576b"
             ],
             [
              0.6666666666666666,
              "#ed7953"
             ],
             [
              0.7777777777777778,
              "#fb9f3a"
             ],
             [
              0.8888888888888888,
              "#fdca26"
             ],
             [
              1,
              "#f0f921"
             ]
            ],
            "type": "contour"
           }
          ],
          "contourcarpet": [
           {
            "colorbar": {
             "outlinewidth": 0,
             "ticks": ""
            },
            "type": "contourcarpet"
           }
          ],
          "heatmap": [
           {
            "colorbar": {
             "outlinewidth": 0,
             "ticks": ""
            },
            "colorscale": [
             [
              0,
              "#0d0887"
             ],
             [
              0.1111111111111111,
              "#46039f"
             ],
             [
              0.2222222222222222,
              "#7201a8"
             ],
             [
              0.3333333333333333,
              "#9c179e"
             ],
             [
              0.4444444444444444,
              "#bd3786"
             ],
             [
              0.5555555555555556,
              "#d8576b"
             ],
             [
              0.6666666666666666,
              "#ed7953"
             ],
             [
              0.7777777777777778,
              "#fb9f3a"
             ],
             [
              0.8888888888888888,
              "#fdca26"
             ],
             [
              1,
              "#f0f921"
             ]
            ],
            "type": "heatmap"
           }
          ],
          "heatmapgl": [
           {
            "colorbar": {
             "outlinewidth": 0,
             "ticks": ""
            },
            "colorscale": [
             [
              0,
              "#0d0887"
             ],
             [
              0.1111111111111111,
              "#46039f"
             ],
             [
              0.2222222222222222,
              "#7201a8"
             ],
             [
              0.3333333333333333,
              "#9c179e"
             ],
             [
              0.4444444444444444,
              "#bd3786"
             ],
             [
              0.5555555555555556,
              "#d8576b"
             ],
             [
              0.6666666666666666,
              "#ed7953"
             ],
             [
              0.7777777777777778,
              "#fb9f3a"
             ],
             [
              0.8888888888888888,
              "#fdca26"
             ],
             [
              1,
              "#f0f921"
             ]
            ],
            "type": "heatmapgl"
           }
          ],
          "histogram": [
           {
            "marker": {
             "pattern": {
              "fillmode": "overlay",
              "size": 10,
              "solidity": 0.2
             }
            },
            "type": "histogram"
           }
          ],
          "histogram2d": [
           {
            "colorbar": {
             "outlinewidth": 0,
             "ticks": ""
            },
            "colorscale": [
             [
              0,
              "#0d0887"
             ],
             [
              0.1111111111111111,
              "#46039f"
             ],
             [
              0.2222222222222222,
              "#7201a8"
             ],
             [
              0.3333333333333333,
              "#9c179e"
             ],
             [
              0.4444444444444444,
              "#bd3786"
             ],
             [
              0.5555555555555556,
              "#d8576b"
             ],
             [
              0.6666666666666666,
              "#ed7953"
             ],
             [
              0.7777777777777778,
              "#fb9f3a"
             ],
             [
              0.8888888888888888,
              "#fdca26"
             ],
             [
              1,
              "#f0f921"
             ]
            ],
            "type": "histogram2d"
           }
          ],
          "histogram2dcontour": [
           {
            "colorbar": {
             "outlinewidth": 0,
             "ticks": ""
            },
            "colorscale": [
             [
              0,
              "#0d0887"
             ],
             [
              0.1111111111111111,
              "#46039f"
             ],
             [
              0.2222222222222222,
              "#7201a8"
             ],
             [
              0.3333333333333333,
              "#9c179e"
             ],
             [
              0.4444444444444444,
              "#bd3786"
             ],
             [
              0.5555555555555556,
              "#d8576b"
             ],
             [
              0.6666666666666666,
              "#ed7953"
             ],
             [
              0.7777777777777778,
              "#fb9f3a"
             ],
             [
              0.8888888888888888,
              "#fdca26"
             ],
             [
              1,
              "#f0f921"
             ]
            ],
            "type": "histogram2dcontour"
           }
          ],
          "mesh3d": [
           {
            "colorbar": {
             "outlinewidth": 0,
             "ticks": ""
            },
            "type": "mesh3d"
           }
          ],
          "parcoords": [
           {
            "line": {
             "colorbar": {
              "outlinewidth": 0,
              "ticks": ""
             }
            },
            "type": "parcoords"
           }
          ],
          "pie": [
           {
            "automargin": true,
            "type": "pie"
           }
          ],
          "scatter": [
           {
            "fillpattern": {
             "fillmode": "overlay",
             "size": 10,
             "solidity": 0.2
            },
            "type": "scatter"
           }
          ],
          "scatter3d": [
           {
            "line": {
             "colorbar": {
              "outlinewidth": 0,
              "ticks": ""
             }
            },
            "marker": {
             "colorbar": {
              "outlinewidth": 0,
              "ticks": ""
             }
            },
            "type": "scatter3d"
           }
          ],
          "scattercarpet": [
           {
            "marker": {
             "colorbar": {
              "outlinewidth": 0,
              "ticks": ""
             }
            },
            "type": "scattercarpet"
           }
          ],
          "scattergeo": [
           {
            "marker": {
             "colorbar": {
              "outlinewidth": 0,
              "ticks": ""
             }
            },
            "type": "scattergeo"
           }
          ],
          "scattergl": [
           {
            "marker": {
             "colorbar": {
              "outlinewidth": 0,
              "ticks": ""
             }
            },
            "type": "scattergl"
           }
          ],
          "scattermapbox": [
           {
            "marker": {
             "colorbar": {
              "outlinewidth": 0,
              "ticks": ""
             }
            },
            "type": "scattermapbox"
           }
          ],
          "scatterpolar": [
           {
            "marker": {
             "colorbar": {
              "outlinewidth": 0,
              "ticks": ""
             }
            },
            "type": "scatterpolar"
           }
          ],
          "scatterpolargl": [
           {
            "marker": {
             "colorbar": {
              "outlinewidth": 0,
              "ticks": ""
             }
            },
            "type": "scatterpolargl"
           }
          ],
          "scatterternary": [
           {
            "marker": {
             "colorbar": {
              "outlinewidth": 0,
              "ticks": ""
             }
            },
            "type": "scatterternary"
           }
          ],
          "surface": [
           {
            "colorbar": {
             "outlinewidth": 0,
             "ticks": ""
            },
            "colorscale": [
             [
              0,
              "#0d0887"
             ],
             [
              0.1111111111111111,
              "#46039f"
             ],
             [
              0.2222222222222222,
              "#7201a8"
             ],
             [
              0.3333333333333333,
              "#9c179e"
             ],
             [
              0.4444444444444444,
              "#bd3786"
             ],
             [
              0.5555555555555556,
              "#d8576b"
             ],
             [
              0.6666666666666666,
              "#ed7953"
             ],
             [
              0.7777777777777778,
              "#fb9f3a"
             ],
             [
              0.8888888888888888,
              "#fdca26"
             ],
             [
              1,
              "#f0f921"
             ]
            ],
            "type": "surface"
           }
          ],
          "table": [
           {
            "cells": {
             "fill": {
              "color": "#EBF0F8"
             },
             "line": {
              "color": "white"
             }
            },
            "header": {
             "fill": {
              "color": "#C8D4E3"
             },
             "line": {
              "color": "white"
             }
            },
            "type": "table"
           }
          ]
         },
         "layout": {
          "annotationdefaults": {
           "arrowcolor": "#2a3f5f",
           "arrowhead": 0,
           "arrowwidth": 1
          },
          "autotypenumbers": "strict",
          "coloraxis": {
           "colorbar": {
            "outlinewidth": 0,
            "ticks": ""
           }
          },
          "colorscale": {
           "diverging": [
            [
             0,
             "#8e0152"
            ],
            [
             0.1,
             "#c51b7d"
            ],
            [
             0.2,
             "#de77ae"
            ],
            [
             0.3,
             "#f1b6da"
            ],
            [
             0.4,
             "#fde0ef"
            ],
            [
             0.5,
             "#f7f7f7"
            ],
            [
             0.6,
             "#e6f5d0"
            ],
            [
             0.7,
             "#b8e186"
            ],
            [
             0.8,
             "#7fbc41"
            ],
            [
             0.9,
             "#4d9221"
            ],
            [
             1,
             "#276419"
            ]
           ],
           "sequential": [
            [
             0,
             "#0d0887"
            ],
            [
             0.1111111111111111,
             "#46039f"
            ],
            [
             0.2222222222222222,
             "#7201a8"
            ],
            [
             0.3333333333333333,
             "#9c179e"
            ],
            [
             0.4444444444444444,
             "#bd3786"
            ],
            [
             0.5555555555555556,
             "#d8576b"
            ],
            [
             0.6666666666666666,
             "#ed7953"
            ],
            [
             0.7777777777777778,
             "#fb9f3a"
            ],
            [
             0.8888888888888888,
             "#fdca26"
            ],
            [
             1,
             "#f0f921"
            ]
           ],
           "sequentialminus": [
            [
             0,
             "#0d0887"
            ],
            [
             0.1111111111111111,
             "#46039f"
            ],
            [
             0.2222222222222222,
             "#7201a8"
            ],
            [
             0.3333333333333333,
             "#9c179e"
            ],
            [
             0.4444444444444444,
             "#bd3786"
            ],
            [
             0.5555555555555556,
             "#d8576b"
            ],
            [
             0.6666666666666666,
             "#ed7953"
            ],
            [
             0.7777777777777778,
             "#fb9f3a"
            ],
            [
             0.8888888888888888,
             "#fdca26"
            ],
            [
             1,
             "#f0f921"
            ]
           ]
          },
          "colorway": [
           "#636efa",
           "#EF553B",
           "#00cc96",
           "#ab63fa",
           "#FFA15A",
           "#19d3f3",
           "#FF6692",
           "#B6E880",
           "#FF97FF",
           "#FECB52"
          ],
          "font": {
           "color": "#2a3f5f"
          },
          "geo": {
           "bgcolor": "white",
           "lakecolor": "white",
           "landcolor": "#E5ECF6",
           "showlakes": true,
           "showland": true,
           "subunitcolor": "white"
          },
          "hoverlabel": {
           "align": "left"
          },
          "hovermode": "closest",
          "mapbox": {
           "style": "light"
          },
          "paper_bgcolor": "white",
          "plot_bgcolor": "#E5ECF6",
          "polar": {
           "angularaxis": {
            "gridcolor": "white",
            "linecolor": "white",
            "ticks": ""
           },
           "bgcolor": "#E5ECF6",
           "radialaxis": {
            "gridcolor": "white",
            "linecolor": "white",
            "ticks": ""
           }
          },
          "scene": {
           "xaxis": {
            "backgroundcolor": "#E5ECF6",
            "gridcolor": "white",
            "gridwidth": 2,
            "linecolor": "white",
            "showbackground": true,
            "ticks": "",
            "zerolinecolor": "white"
           },
           "yaxis": {
            "backgroundcolor": "#E5ECF6",
            "gridcolor": "white",
            "gridwidth": 2,
            "linecolor": "white",
            "showbackground": true,
            "ticks": "",
            "zerolinecolor": "white"
           },
           "zaxis": {
            "backgroundcolor": "#E5ECF6",
            "gridcolor": "white",
            "gridwidth": 2,
            "linecolor": "white",
            "showbackground": true,
            "ticks": "",
            "zerolinecolor": "white"
           }
          },
          "shapedefaults": {
           "line": {
            "color": "#2a3f5f"
           }
          },
          "ternary": {
           "aaxis": {
            "gridcolor": "white",
            "linecolor": "white",
            "ticks": ""
           },
           "baxis": {
            "gridcolor": "white",
            "linecolor": "white",
            "ticks": ""
           },
           "bgcolor": "#E5ECF6",
           "caxis": {
            "gridcolor": "white",
            "linecolor": "white",
            "ticks": ""
           }
          },
          "title": {
           "x": 0.05
          },
          "xaxis": {
           "automargin": true,
           "gridcolor": "white",
           "linecolor": "white",
           "ticks": "",
           "title": {
            "standoff": 15
           },
           "zerolinecolor": "white",
           "zerolinewidth": 2
          },
          "yaxis": {
           "automargin": true,
           "gridcolor": "white",
           "linecolor": "white",
           "ticks": "",
           "title": {
            "standoff": 15
           },
           "zerolinecolor": "white",
           "zerolinewidth": 2
          }
         }
        },
        "title": {
         "text": "Accesos 100 Hog y MBPS por Provincia en el periodo  (Ene - Mar 2018)"
        },
        "xaxis": {
         "anchor": "y",
         "domain": [
          0,
          1
         ],
         "linecolor": "black",
         "showgrid": false,
         "tickangle": -90,
         "title": {
          "text": ""
         },
         "zeroline": true
        },
        "yaxis": {
         "anchor": "x",
         "domain": [
          0,
          1
         ],
         "linecolor": "black",
         "showgrid": false,
         "title": {
          "text": "Accesos"
         },
         "zeroline": true
        }
       }
      }
     },
     "metadata": {},
     "output_type": "display_data"
    }
   ],
   "source": [
    "periodo = 'Ene - Mar 2018'\n",
    "mask = data['Periodo'] == periodo\n",
    "df = data.filter(mask)\n",
    "\n",
    "fig = retorna_barras_eda_05(df=df, periodo=periodo)\n",
    "\n",
    "fig.show(config=config)\n"
   ]
  },
  {
   "cell_type": "markdown",
   "metadata": {},
   "source": [
    "### **Gráfico 7:**\n",
    "Estudiando las Métricas de `Accesos por cada 100 Hogares` y `Velocidad Media de Bajada` en las Distintas Provincias durante el Periodo `Enero - Marzo 2021` "
   ]
  },
  {
   "cell_type": "code",
   "execution_count": 4,
   "metadata": {},
   "outputs": [
    {
     "data": {
      "application/vnd.plotly.v1+json": {
       "config": {
        "displayModeBar": false,
        "plotlyServerURL": "https://plot.ly"
       },
       "data": [
        {
         "alignmentgroup": "True",
         "customdata": [
          [
           "CABA",
           "Accesos 100 Hog",
           108.42,
           108.31,
           110.48,
           98.14,
           0.1,
           67.33,
           70.69,
           96.6,
           1.43,
           108.42,
           68.29
          ],
          [
           "Buenos Aires",
           "Accesos 100 Hog",
           69.11,
           68.98,
           70.36,
           98.22,
           0.19,
           50.01,
           52.51,
           96.72,
           1.55,
           69.11,
           50.79
          ],
          [
           "Catamarca",
           "Accesos 100 Hog",
           48.9,
           49.41,
           50.4,
           97.03,
           -1.03,
           37.65,
           39.53,
           101.1,
           6.15,
           48.9,
           39.97
          ],
          [
           "Córdoba",
           "Accesos 100 Hog",
           78.59,
           78.08,
           79.64,
           98.68,
           0.65,
           35.12,
           36.88,
           98.08,
           2.98,
           78.59,
           36.17
          ],
          [
           "Corrientes",
           "Accesos 100 Hog",
           42.66,
           42.43,
           43.28,
           98.58,
           0.56,
           25.45,
           26.72,
           97.25,
           2.12,
           42.66,
           25.99
          ],
          [
           "Chaco",
           "Accesos 100 Hog",
           43.14,
           43.03,
           43.89,
           98.28,
           0.25,
           32.45,
           34.07,
           98.68,
           3.62,
           43.14,
           33.63
          ],
          [
           "Chubut",
           "Accesos 100 Hog",
           68.99,
           68.35,
           69.72,
           98.96,
           0.94,
           7.38,
           7.75,
           97.15,
           2.01,
           68.99,
           7.53
          ],
          [
           "Entre Ríos",
           "Accesos 100 Hog",
           60.44,
           59.47,
           60.66,
           99.63,
           1.62,
           24.05,
           25.26,
           94.52,
           -0.76,
           60.44,
           23.87
          ],
          [
           "Formosa",
           "Accesos 100 Hog",
           32.73,
           32.49,
           33.14,
           98.78,
           0.76,
           19.7,
           20.68,
           101.44,
           6.51,
           32.73,
           20.98
          ],
          [
           "Jujuy",
           "Accesos 100 Hog",
           55.63,
           53.46,
           54.53,
           102.03,
           4.07,
           25.21,
           26.47,
           101.17,
           6.23,
           55.63,
           26.78
          ],
          [
           "La Pampa",
           "Accesos 100 Hog",
           81.78,
           81.77,
           83.4,
           98.05,
           0.01,
           9.88,
           10.37,
           103.46,
           8.64,
           81.78,
           10.73
          ],
          [
           "La Rioja",
           "Accesos 100 Hog",
           49.81,
           50.11,
           51.11,
           97.45,
           -0.61,
           12.53,
           13.16,
           96.48,
           1.3,
           49.81,
           12.7
          ],
          [
           "Mendoza",
           "Accesos 100 Hog",
           39.15,
           38.63,
           39.4,
           99.37,
           1.36,
           11.09,
           11.65,
           108.17,
           13.58,
           39.15,
           12.6
          ],
          [
           "Misiones",
           "Accesos 100 Hog",
           43.17,
           42.64,
           43.5,
           99.25,
           1.24,
           24.96,
           26.2,
           95.7,
           0.48,
           43.17,
           25.08
          ],
          [
           "Neuquén",
           "Accesos 100 Hog",
           66.84,
           67,
           68.34,
           97.8,
           -0.24,
           33.91,
           35.6,
           96.17,
           0.98,
           66.84,
           34.24
          ],
          [
           "Río Negro",
           "Accesos 100 Hog",
           60.88,
           61.09,
           62.31,
           97.7,
           -0.34,
           21.64,
           22.72,
           96.5,
           1.33,
           60.88,
           21.92
          ],
          [
           "Salta",
           "Accesos 100 Hog",
           53.93,
           54.04,
           55.12,
           97.83,
           -0.21,
           25.32,
           26.59,
           102.75,
           7.88,
           53.93,
           27.32
          ],
          [
           "San Juan",
           "Accesos 100 Hog",
           39.06,
           36.32,
           37.05,
           105.42,
           7.53,
           6.41,
           6.73,
           102.62,
           7.75,
           39.06,
           6.91
          ],
          [
           "San Luis",
           "Accesos 100 Hog",
           81.24,
           81.68,
           83.31,
           97.51,
           -0.54,
           21.25,
           22.32,
           96.77,
           1.61,
           81.24,
           21.59
          ],
          [
           "Santa Cruz",
           "Accesos 100 Hog",
           41.65,
           37,
           37.74,
           110.36,
           12.56,
           7.49,
           7.87,
           95.36,
           0.13,
           41.65,
           7.5
          ],
          [
           "Santa Fe",
           "Accesos 100 Hog",
           73.92,
           73.58,
           75.05,
           98.49,
           0.46,
           27.29,
           28.66,
           98.16,
           3.06,
           73.92,
           28.13
          ],
          [
           "S. del Estero",
           "Accesos 100 Hog",
           45.67,
           43.75,
           44.62,
           102.35,
           4.4,
           11.28,
           11.84,
           97.8,
           2.69,
           45.67,
           11.58
          ],
          [
           "Tucumán",
           "Accesos 100 Hog",
           54.82,
           54.78,
           55.88,
           98.1,
           0.06,
           36.44,
           38.26,
           99.26,
           4.22,
           54.82,
           37.98
          ],
          [
           "T del Fuego",
           "Accesos 100 Hog",
           77.35,
           76.27,
           77.79,
           99.43,
           1.42,
           8.49,
           8.91,
           98.02,
           2.92,
           77.35,
           8.73
          ]
         ],
         "hoverlabel": {
          "bgcolor": "white",
          "font": {
           "color": "black",
           "size": 16
          }
         },
         "hovertemplate": "<b>Provincia: %{customdata[0]}</b><br>Accesos 100 Hog del Trimestre: %{customdata[11]}<br>MBPS del Trimestre: %{customdata[12]}<br></br><b>KPI Accesos 100 Hog: Crecimiento Trimestral 2%</b><br>Valor Anterior: %{customdata[3]}<br><b>Objetivo KPI: %{customdata[4]}</b><br><b>Cumplimiento KPI: %{customdata[5]} %</b><br>Crecimiento Trimestral: %{customdata[6]} %<br><br><b>KPI MBPS: Crecimiento Trimestral 5%</b><br>Valor Anterior: %{customdata[7]}<br><b>Objetivo KPI: %{customdata[8]}</b><br><b>Cumplimiento KPI: %{customdata[9]} % </b><br>Crecimiento Trimestral: %{customdata[10]} %",
         "legendgroup": "Accesos 100 Hog",
         "marker": {
          "color": "#636efa",
          "pattern": {
           "shape": ""
          }
         },
         "name": "Accesos 100 Hog",
         "offsetgroup": "Accesos 100 Hog",
         "orientation": "v",
         "showlegend": true,
         "textposition": "auto",
         "type": "bar",
         "width": 0.4,
         "x": [
          "CABA",
          "Buenos Aires",
          "Catamarca",
          "Córdoba",
          "Corrientes",
          "Chaco",
          "Chubut",
          "Entre Ríos",
          "Formosa",
          "Jujuy",
          "La Pampa",
          "La Rioja",
          "Mendoza",
          "Misiones",
          "Neuquén",
          "Río Negro",
          "Salta",
          "San Juan",
          "San Luis",
          "Santa Cruz",
          "Santa Fe",
          "S. del Estero",
          "Tucumán",
          "T del Fuego"
         ],
         "xaxis": "x",
         "y": [
          108.42,
          69.11,
          48.9,
          78.59,
          42.66,
          43.14,
          68.99,
          60.44,
          32.73,
          55.63,
          81.78,
          49.81,
          39.15,
          43.17,
          66.84,
          60.88,
          53.93,
          39.06,
          81.24,
          41.65,
          73.92,
          45.67,
          54.82,
          77.35
         ],
         "yaxis": "y"
        },
        {
         "alignmentgroup": "True",
         "customdata": [
          [
           "CABA",
           "MBPS Media Bajada",
           68.29,
           108.31,
           110.48,
           98.14,
           0.1,
           67.33,
           70.69,
           96.6,
           1.43,
           108.42,
           68.29
          ],
          [
           "Buenos Aires",
           "MBPS Media Bajada",
           50.79,
           68.98,
           70.36,
           98.22,
           0.19,
           50.01,
           52.51,
           96.72,
           1.55,
           69.11,
           50.79
          ],
          [
           "Catamarca",
           "MBPS Media Bajada",
           39.97,
           49.41,
           50.4,
           97.03,
           -1.03,
           37.65,
           39.53,
           101.1,
           6.15,
           48.9,
           39.97
          ],
          [
           "Córdoba",
           "MBPS Media Bajada",
           36.17,
           78.08,
           79.64,
           98.68,
           0.65,
           35.12,
           36.88,
           98.08,
           2.98,
           78.59,
           36.17
          ],
          [
           "Corrientes",
           "MBPS Media Bajada",
           25.99,
           42.43,
           43.28,
           98.58,
           0.56,
           25.45,
           26.72,
           97.25,
           2.12,
           42.66,
           25.99
          ],
          [
           "Chaco",
           "MBPS Media Bajada",
           33.63,
           43.03,
           43.89,
           98.28,
           0.25,
           32.45,
           34.07,
           98.68,
           3.62,
           43.14,
           33.63
          ],
          [
           "Chubut",
           "MBPS Media Bajada",
           7.53,
           68.35,
           69.72,
           98.96,
           0.94,
           7.38,
           7.75,
           97.15,
           2.01,
           68.99,
           7.53
          ],
          [
           "Entre Ríos",
           "MBPS Media Bajada",
           23.87,
           59.47,
           60.66,
           99.63,
           1.62,
           24.05,
           25.26,
           94.52,
           -0.76,
           60.44,
           23.87
          ],
          [
           "Formosa",
           "MBPS Media Bajada",
           20.98,
           32.49,
           33.14,
           98.78,
           0.76,
           19.7,
           20.68,
           101.44,
           6.51,
           32.73,
           20.98
          ],
          [
           "Jujuy",
           "MBPS Media Bajada",
           26.78,
           53.46,
           54.53,
           102.03,
           4.07,
           25.21,
           26.47,
           101.17,
           6.23,
           55.63,
           26.78
          ],
          [
           "La Pampa",
           "MBPS Media Bajada",
           10.73,
           81.77,
           83.4,
           98.05,
           0.01,
           9.88,
           10.37,
           103.46,
           8.64,
           81.78,
           10.73
          ],
          [
           "La Rioja",
           "MBPS Media Bajada",
           12.7,
           50.11,
           51.11,
           97.45,
           -0.61,
           12.53,
           13.16,
           96.48,
           1.3,
           49.81,
           12.7
          ],
          [
           "Mendoza",
           "MBPS Media Bajada",
           12.6,
           38.63,
           39.4,
           99.37,
           1.36,
           11.09,
           11.65,
           108.17,
           13.58,
           39.15,
           12.6
          ],
          [
           "Misiones",
           "MBPS Media Bajada",
           25.08,
           42.64,
           43.5,
           99.25,
           1.24,
           24.96,
           26.2,
           95.7,
           0.48,
           43.17,
           25.08
          ],
          [
           "Neuquén",
           "MBPS Media Bajada",
           34.24,
           67,
           68.34,
           97.8,
           -0.24,
           33.91,
           35.6,
           96.17,
           0.98,
           66.84,
           34.24
          ],
          [
           "Río Negro",
           "MBPS Media Bajada",
           21.92,
           61.09,
           62.31,
           97.7,
           -0.34,
           21.64,
           22.72,
           96.5,
           1.33,
           60.88,
           21.92
          ],
          [
           "Salta",
           "MBPS Media Bajada",
           27.32,
           54.04,
           55.12,
           97.83,
           -0.21,
           25.32,
           26.59,
           102.75,
           7.88,
           53.93,
           27.32
          ],
          [
           "San Juan",
           "MBPS Media Bajada",
           6.91,
           36.32,
           37.05,
           105.42,
           7.53,
           6.41,
           6.73,
           102.62,
           7.75,
           39.06,
           6.91
          ],
          [
           "San Luis",
           "MBPS Media Bajada",
           21.59,
           81.68,
           83.31,
           97.51,
           -0.54,
           21.25,
           22.32,
           96.77,
           1.61,
           81.24,
           21.59
          ],
          [
           "Santa Cruz",
           "MBPS Media Bajada",
           7.5,
           37,
           37.74,
           110.36,
           12.56,
           7.49,
           7.87,
           95.36,
           0.13,
           41.65,
           7.5
          ],
          [
           "Santa Fe",
           "MBPS Media Bajada",
           28.13,
           73.58,
           75.05,
           98.49,
           0.46,
           27.29,
           28.66,
           98.16,
           3.06,
           73.92,
           28.13
          ],
          [
           "S. del Estero",
           "MBPS Media Bajada",
           11.58,
           43.75,
           44.62,
           102.35,
           4.4,
           11.28,
           11.84,
           97.8,
           2.69,
           45.67,
           11.58
          ],
          [
           "Tucumán",
           "MBPS Media Bajada",
           37.98,
           54.78,
           55.88,
           98.1,
           0.06,
           36.44,
           38.26,
           99.26,
           4.22,
           54.82,
           37.98
          ],
          [
           "T del Fuego",
           "MBPS Media Bajada",
           8.73,
           76.27,
           77.79,
           99.43,
           1.42,
           8.49,
           8.91,
           98.02,
           2.92,
           77.35,
           8.73
          ]
         ],
         "hoverlabel": {
          "bgcolor": "white",
          "font": {
           "color": "black",
           "size": 16
          }
         },
         "hovertemplate": "<b>Provincia: %{customdata[0]}</b><br>Accesos 100 Hog del Trimestre: %{customdata[11]}<br>MBPS del Trimestre: %{customdata[12]}<br></br><b>KPI Accesos 100 Hog: Crecimiento Trimestral 2%</b><br>Valor Anterior: %{customdata[3]}<br><b>Objetivo KPI: %{customdata[4]}</b><br><b>Cumplimiento KPI: %{customdata[5]} %</b><br>Crecimiento Trimestral: %{customdata[6]} %<br><br><b>KPI MBPS: Crecimiento Trimestral 5%</b><br>Valor Anterior: %{customdata[7]}<br><b>Objetivo KPI: %{customdata[8]}</b><br><b>Cumplimiento KPI: %{customdata[9]} % </b><br>Crecimiento Trimestral: %{customdata[10]} %",
         "legendgroup": "MBPS Media Bajada",
         "marker": {
          "color": "#EF553B",
          "pattern": {
           "shape": ""
          }
         },
         "name": "MBPS Media Bajada",
         "offsetgroup": "MBPS Media Bajada",
         "orientation": "v",
         "showlegend": true,
         "textposition": "auto",
         "type": "bar",
         "width": 0.4,
         "x": [
          "CABA",
          "Buenos Aires",
          "Catamarca",
          "Córdoba",
          "Corrientes",
          "Chaco",
          "Chubut",
          "Entre Ríos",
          "Formosa",
          "Jujuy",
          "La Pampa",
          "La Rioja",
          "Mendoza",
          "Misiones",
          "Neuquén",
          "Río Negro",
          "Salta",
          "San Juan",
          "San Luis",
          "Santa Cruz",
          "Santa Fe",
          "S. del Estero",
          "Tucumán",
          "T del Fuego"
         ],
         "xaxis": "x",
         "y": [
          68.29,
          50.79,
          39.97,
          36.17,
          25.99,
          33.63,
          7.53,
          23.87,
          20.98,
          26.78,
          10.73,
          12.7,
          12.6,
          25.08,
          34.24,
          21.92,
          27.32,
          6.91,
          21.59,
          7.5,
          28.13,
          11.58,
          37.98,
          8.73
         ],
         "yaxis": "y"
        }
       ],
       "layout": {
        "barmode": "group",
        "font": {
         "color": "black",
         "size": 14
        },
        "legend": {
         "orientation": "v",
         "title": {
          "text": "Metrica"
         },
         "tracegroupgap": 0,
         "x": 0.8,
         "y": 1.1
        },
        "margin": {
         "t": 60
        },
        "template": {
         "data": {
          "bar": [
           {
            "error_x": {
             "color": "#2a3f5f"
            },
            "error_y": {
             "color": "#2a3f5f"
            },
            "marker": {
             "line": {
              "color": "#E5ECF6",
              "width": 0.5
             },
             "pattern": {
              "fillmode": "overlay",
              "size": 10,
              "solidity": 0.2
             }
            },
            "type": "bar"
           }
          ],
          "barpolar": [
           {
            "marker": {
             "line": {
              "color": "#E5ECF6",
              "width": 0.5
             },
             "pattern": {
              "fillmode": "overlay",
              "size": 10,
              "solidity": 0.2
             }
            },
            "type": "barpolar"
           }
          ],
          "carpet": [
           {
            "aaxis": {
             "endlinecolor": "#2a3f5f",
             "gridcolor": "white",
             "linecolor": "white",
             "minorgridcolor": "white",
             "startlinecolor": "#2a3f5f"
            },
            "baxis": {
             "endlinecolor": "#2a3f5f",
             "gridcolor": "white",
             "linecolor": "white",
             "minorgridcolor": "white",
             "startlinecolor": "#2a3f5f"
            },
            "type": "carpet"
           }
          ],
          "choropleth": [
           {
            "colorbar": {
             "outlinewidth": 0,
             "ticks": ""
            },
            "type": "choropleth"
           }
          ],
          "contour": [
           {
            "colorbar": {
             "outlinewidth": 0,
             "ticks": ""
            },
            "colorscale": [
             [
              0,
              "#0d0887"
             ],
             [
              0.1111111111111111,
              "#46039f"
             ],
             [
              0.2222222222222222,
              "#7201a8"
             ],
             [
              0.3333333333333333,
              "#9c179e"
             ],
             [
              0.4444444444444444,
              "#bd3786"
             ],
             [
              0.5555555555555556,
              "#d8576b"
             ],
             [
              0.6666666666666666,
              "#ed7953"
             ],
             [
              0.7777777777777778,
              "#fb9f3a"
             ],
             [
              0.8888888888888888,
              "#fdca26"
             ],
             [
              1,
              "#f0f921"
             ]
            ],
            "type": "contour"
           }
          ],
          "contourcarpet": [
           {
            "colorbar": {
             "outlinewidth": 0,
             "ticks": ""
            },
            "type": "contourcarpet"
           }
          ],
          "heatmap": [
           {
            "colorbar": {
             "outlinewidth": 0,
             "ticks": ""
            },
            "colorscale": [
             [
              0,
              "#0d0887"
             ],
             [
              0.1111111111111111,
              "#46039f"
             ],
             [
              0.2222222222222222,
              "#7201a8"
             ],
             [
              0.3333333333333333,
              "#9c179e"
             ],
             [
              0.4444444444444444,
              "#bd3786"
             ],
             [
              0.5555555555555556,
              "#d8576b"
             ],
             [
              0.6666666666666666,
              "#ed7953"
             ],
             [
              0.7777777777777778,
              "#fb9f3a"
             ],
             [
              0.8888888888888888,
              "#fdca26"
             ],
             [
              1,
              "#f0f921"
             ]
            ],
            "type": "heatmap"
           }
          ],
          "heatmapgl": [
           {
            "colorbar": {
             "outlinewidth": 0,
             "ticks": ""
            },
            "colorscale": [
             [
              0,
              "#0d0887"
             ],
             [
              0.1111111111111111,
              "#46039f"
             ],
             [
              0.2222222222222222,
              "#7201a8"
             ],
             [
              0.3333333333333333,
              "#9c179e"
             ],
             [
              0.4444444444444444,
              "#bd3786"
             ],
             [
              0.5555555555555556,
              "#d8576b"
             ],
             [
              0.6666666666666666,
              "#ed7953"
             ],
             [
              0.7777777777777778,
              "#fb9f3a"
             ],
             [
              0.8888888888888888,
              "#fdca26"
             ],
             [
              1,
              "#f0f921"
             ]
            ],
            "type": "heatmapgl"
           }
          ],
          "histogram": [
           {
            "marker": {
             "pattern": {
              "fillmode": "overlay",
              "size": 10,
              "solidity": 0.2
             }
            },
            "type": "histogram"
           }
          ],
          "histogram2d": [
           {
            "colorbar": {
             "outlinewidth": 0,
             "ticks": ""
            },
            "colorscale": [
             [
              0,
              "#0d0887"
             ],
             [
              0.1111111111111111,
              "#46039f"
             ],
             [
              0.2222222222222222,
              "#7201a8"
             ],
             [
              0.3333333333333333,
              "#9c179e"
             ],
             [
              0.4444444444444444,
              "#bd3786"
             ],
             [
              0.5555555555555556,
              "#d8576b"
             ],
             [
              0.6666666666666666,
              "#ed7953"
             ],
             [
              0.7777777777777778,
              "#fb9f3a"
             ],
             [
              0.8888888888888888,
              "#fdca26"
             ],
             [
              1,
              "#f0f921"
             ]
            ],
            "type": "histogram2d"
           }
          ],
          "histogram2dcontour": [
           {
            "colorbar": {
             "outlinewidth": 0,
             "ticks": ""
            },
            "colorscale": [
             [
              0,
              "#0d0887"
             ],
             [
              0.1111111111111111,
              "#46039f"
             ],
             [
              0.2222222222222222,
              "#7201a8"
             ],
             [
              0.3333333333333333,
              "#9c179e"
             ],
             [
              0.4444444444444444,
              "#bd3786"
             ],
             [
              0.5555555555555556,
              "#d8576b"
             ],
             [
              0.6666666666666666,
              "#ed7953"
             ],
             [
              0.7777777777777778,
              "#fb9f3a"
             ],
             [
              0.8888888888888888,
              "#fdca26"
             ],
             [
              1,
              "#f0f921"
             ]
            ],
            "type": "histogram2dcontour"
           }
          ],
          "mesh3d": [
           {
            "colorbar": {
             "outlinewidth": 0,
             "ticks": ""
            },
            "type": "mesh3d"
           }
          ],
          "parcoords": [
           {
            "line": {
             "colorbar": {
              "outlinewidth": 0,
              "ticks": ""
             }
            },
            "type": "parcoords"
           }
          ],
          "pie": [
           {
            "automargin": true,
            "type": "pie"
           }
          ],
          "scatter": [
           {
            "fillpattern": {
             "fillmode": "overlay",
             "size": 10,
             "solidity": 0.2
            },
            "type": "scatter"
           }
          ],
          "scatter3d": [
           {
            "line": {
             "colorbar": {
              "outlinewidth": 0,
              "ticks": ""
             }
            },
            "marker": {
             "colorbar": {
              "outlinewidth": 0,
              "ticks": ""
             }
            },
            "type": "scatter3d"
           }
          ],
          "scattercarpet": [
           {
            "marker": {
             "colorbar": {
              "outlinewidth": 0,
              "ticks": ""
             }
            },
            "type": "scattercarpet"
           }
          ],
          "scattergeo": [
           {
            "marker": {
             "colorbar": {
              "outlinewidth": 0,
              "ticks": ""
             }
            },
            "type": "scattergeo"
           }
          ],
          "scattergl": [
           {
            "marker": {
             "colorbar": {
              "outlinewidth": 0,
              "ticks": ""
             }
            },
            "type": "scattergl"
           }
          ],
          "scattermapbox": [
           {
            "marker": {
             "colorbar": {
              "outlinewidth": 0,
              "ticks": ""
             }
            },
            "type": "scattermapbox"
           }
          ],
          "scatterpolar": [
           {
            "marker": {
             "colorbar": {
              "outlinewidth": 0,
              "ticks": ""
             }
            },
            "type": "scatterpolar"
           }
          ],
          "scatterpolargl": [
           {
            "marker": {
             "colorbar": {
              "outlinewidth": 0,
              "ticks": ""
             }
            },
            "type": "scatterpolargl"
           }
          ],
          "scatterternary": [
           {
            "marker": {
             "colorbar": {
              "outlinewidth": 0,
              "ticks": ""
             }
            },
            "type": "scatterternary"
           }
          ],
          "surface": [
           {
            "colorbar": {
             "outlinewidth": 0,
             "ticks": ""
            },
            "colorscale": [
             [
              0,
              "#0d0887"
             ],
             [
              0.1111111111111111,
              "#46039f"
             ],
             [
              0.2222222222222222,
              "#7201a8"
             ],
             [
              0.3333333333333333,
              "#9c179e"
             ],
             [
              0.4444444444444444,
              "#bd3786"
             ],
             [
              0.5555555555555556,
              "#d8576b"
             ],
             [
              0.6666666666666666,
              "#ed7953"
             ],
             [
              0.7777777777777778,
              "#fb9f3a"
             ],
             [
              0.8888888888888888,
              "#fdca26"
             ],
             [
              1,
              "#f0f921"
             ]
            ],
            "type": "surface"
           }
          ],
          "table": [
           {
            "cells": {
             "fill": {
              "color": "#EBF0F8"
             },
             "line": {
              "color": "white"
             }
            },
            "header": {
             "fill": {
              "color": "#C8D4E3"
             },
             "line": {
              "color": "white"
             }
            },
            "type": "table"
           }
          ]
         },
         "layout": {
          "annotationdefaults": {
           "arrowcolor": "#2a3f5f",
           "arrowhead": 0,
           "arrowwidth": 1
          },
          "autotypenumbers": "strict",
          "coloraxis": {
           "colorbar": {
            "outlinewidth": 0,
            "ticks": ""
           }
          },
          "colorscale": {
           "diverging": [
            [
             0,
             "#8e0152"
            ],
            [
             0.1,
             "#c51b7d"
            ],
            [
             0.2,
             "#de77ae"
            ],
            [
             0.3,
             "#f1b6da"
            ],
            [
             0.4,
             "#fde0ef"
            ],
            [
             0.5,
             "#f7f7f7"
            ],
            [
             0.6,
             "#e6f5d0"
            ],
            [
             0.7,
             "#b8e186"
            ],
            [
             0.8,
             "#7fbc41"
            ],
            [
             0.9,
             "#4d9221"
            ],
            [
             1,
             "#276419"
            ]
           ],
           "sequential": [
            [
             0,
             "#0d0887"
            ],
            [
             0.1111111111111111,
             "#46039f"
            ],
            [
             0.2222222222222222,
             "#7201a8"
            ],
            [
             0.3333333333333333,
             "#9c179e"
            ],
            [
             0.4444444444444444,
             "#bd3786"
            ],
            [
             0.5555555555555556,
             "#d8576b"
            ],
            [
             0.6666666666666666,
             "#ed7953"
            ],
            [
             0.7777777777777778,
             "#fb9f3a"
            ],
            [
             0.8888888888888888,
             "#fdca26"
            ],
            [
             1,
             "#f0f921"
            ]
           ],
           "sequentialminus": [
            [
             0,
             "#0d0887"
            ],
            [
             0.1111111111111111,
             "#46039f"
            ],
            [
             0.2222222222222222,
             "#7201a8"
            ],
            [
             0.3333333333333333,
             "#9c179e"
            ],
            [
             0.4444444444444444,
             "#bd3786"
            ],
            [
             0.5555555555555556,
             "#d8576b"
            ],
            [
             0.6666666666666666,
             "#ed7953"
            ],
            [
             0.7777777777777778,
             "#fb9f3a"
            ],
            [
             0.8888888888888888,
             "#fdca26"
            ],
            [
             1,
             "#f0f921"
            ]
           ]
          },
          "colorway": [
           "#636efa",
           "#EF553B",
           "#00cc96",
           "#ab63fa",
           "#FFA15A",
           "#19d3f3",
           "#FF6692",
           "#B6E880",
           "#FF97FF",
           "#FECB52"
          ],
          "font": {
           "color": "#2a3f5f"
          },
          "geo": {
           "bgcolor": "white",
           "lakecolor": "white",
           "landcolor": "#E5ECF6",
           "showlakes": true,
           "showland": true,
           "subunitcolor": "white"
          },
          "hoverlabel": {
           "align": "left"
          },
          "hovermode": "closest",
          "mapbox": {
           "style": "light"
          },
          "paper_bgcolor": "white",
          "plot_bgcolor": "#E5ECF6",
          "polar": {
           "angularaxis": {
            "gridcolor": "white",
            "linecolor": "white",
            "ticks": ""
           },
           "bgcolor": "#E5ECF6",
           "radialaxis": {
            "gridcolor": "white",
            "linecolor": "white",
            "ticks": ""
           }
          },
          "scene": {
           "xaxis": {
            "backgroundcolor": "#E5ECF6",
            "gridcolor": "white",
            "gridwidth": 2,
            "linecolor": "white",
            "showbackground": true,
            "ticks": "",
            "zerolinecolor": "white"
           },
           "yaxis": {
            "backgroundcolor": "#E5ECF6",
            "gridcolor": "white",
            "gridwidth": 2,
            "linecolor": "white",
            "showbackground": true,
            "ticks": "",
            "zerolinecolor": "white"
           },
           "zaxis": {
            "backgroundcolor": "#E5ECF6",
            "gridcolor": "white",
            "gridwidth": 2,
            "linecolor": "white",
            "showbackground": true,
            "ticks": "",
            "zerolinecolor": "white"
           }
          },
          "shapedefaults": {
           "line": {
            "color": "#2a3f5f"
           }
          },
          "ternary": {
           "aaxis": {
            "gridcolor": "white",
            "linecolor": "white",
            "ticks": ""
           },
           "baxis": {
            "gridcolor": "white",
            "linecolor": "white",
            "ticks": ""
           },
           "bgcolor": "#E5ECF6",
           "caxis": {
            "gridcolor": "white",
            "linecolor": "white",
            "ticks": ""
           }
          },
          "title": {
           "x": 0.05
          },
          "xaxis": {
           "automargin": true,
           "gridcolor": "white",
           "linecolor": "white",
           "ticks": "",
           "title": {
            "standoff": 15
           },
           "zerolinecolor": "white",
           "zerolinewidth": 2
          },
          "yaxis": {
           "automargin": true,
           "gridcolor": "white",
           "linecolor": "white",
           "ticks": "",
           "title": {
            "standoff": 15
           },
           "zerolinecolor": "white",
           "zerolinewidth": 2
          }
         }
        },
        "title": {
         "text": "Accesos 100 Hog y MBPS por Provincia en el periodo  (Ene - Mar 2021)"
        },
        "xaxis": {
         "anchor": "y",
         "domain": [
          0,
          1
         ],
         "linecolor": "black",
         "showgrid": false,
         "tickangle": -90,
         "title": {
          "text": ""
         },
         "zeroline": true
        },
        "yaxis": {
         "anchor": "x",
         "domain": [
          0,
          1
         ],
         "linecolor": "black",
         "showgrid": false,
         "title": {
          "text": "Accesos"
         },
         "zeroline": true
        }
       }
      }
     },
     "metadata": {},
     "output_type": "display_data"
    }
   ],
   "source": [
    "periodo = 'Ene - Mar 2021'\n",
    "mask = data['Periodo'] == periodo\n",
    "df = data.filter(mask)\n",
    "\n",
    "fig = retorna_barras_eda_05(df=df, periodo=periodo)\n",
    "\n",
    "fig.show(config=config)"
   ]
  },
  {
   "cell_type": "markdown",
   "metadata": {},
   "source": [
    "### **Gráfico 8:**\n",
    "Estudiando las Métricas de `Accesos por cada 100 Hogares` y `Velocidad Media de Bajada` en las Distintas Provincias durante el Periodo `Enero - Marzo 2024` "
   ]
  },
  {
   "cell_type": "code",
   "execution_count": 5,
   "metadata": {},
   "outputs": [
    {
     "data": {
      "application/vnd.plotly.v1+json": {
       "config": {
        "displayModeBar": false,
        "plotlyServerURL": "https://plot.ly"
       },
       "data": [
        {
         "alignmentgroup": "True",
         "customdata": [
          [
           "CABA",
           "Accesos 100 Hog",
           119.53,
           117.02,
           119.36,
           100.14,
           2.14,
           234.44,
           246.16,
           93.41,
           -1.92,
           119.53,
           229.94
          ],
          [
           "Buenos Aires",
           "Accesos 100 Hog",
           81.1,
           80.96,
           82.58,
           98.21,
           0.17,
           158.49,
           166.41,
           95.62,
           0.4,
           81.1,
           159.13
          ],
          [
           "Catamarca",
           "Accesos 100 Hog",
           68.82,
           68.63,
           70,
           98.31,
           0.28,
           89.4,
           93.87,
           97.42,
           2.29,
           68.82,
           91.45
          ],
          [
           "Córdoba",
           "Accesos 100 Hog",
           90.7,
           90.67,
           92.48,
           98.07,
           0.03,
           114.03,
           119.73,
           95.96,
           0.75,
           90.7,
           114.89
          ],
          [
           "Corrientes",
           "Accesos 100 Hog",
           51.94,
           52.56,
           53.61,
           96.88,
           -1.18,
           100.9,
           105.95,
           96.74,
           1.58,
           51.94,
           102.49
          ],
          [
           "Chaco",
           "Accesos 100 Hog",
           46.7,
           44.35,
           45.24,
           103.23,
           5.3,
           107.14,
           112.5,
           95.57,
           0.35,
           46.7,
           107.51
          ],
          [
           "Chubut",
           "Accesos 100 Hog",
           84.89,
           84.96,
           86.66,
           97.96,
           -0.08,
           20.29,
           21.3,
           96.22,
           1.03,
           84.89,
           20.5
          ],
          [
           "Entre Ríos",
           "Accesos 100 Hog",
           69.31,
           69.94,
           71.34,
           97.16,
           -0.9,
           101.18,
           106.24,
           95.41,
           0.18,
           69.31,
           101.36
          ],
          [
           "Formosa",
           "Accesos 100 Hog",
           39.61,
           39.23,
           40.01,
           98.99,
           0.97,
           83.35,
           87.52,
           95.75,
           0.54,
           39.61,
           83.8
          ],
          [
           "Jujuy",
           "Accesos 100 Hog",
           57.65,
           57.78,
           58.94,
           97.82,
           -0.22,
           46.2,
           48.51,
           97.96,
           2.86,
           57.65,
           47.52
          ],
          [
           "La Pampa",
           "Accesos 100 Hog",
           100.49,
           99.96,
           101.96,
           98.56,
           0.53,
           25.61,
           26.89,
           98.73,
           3.67,
           100.49,
           26.55
          ],
          [
           "La Rioja",
           "Accesos 100 Hog",
           80.03,
           80.22,
           81.82,
           97.81,
           -0.24,
           64.18,
           67.39,
           94.54,
           -0.73,
           80.03,
           63.71
          ],
          [
           "Mendoza",
           "Accesos 100 Hog",
           52.59,
           52.15,
           53.19,
           98.87,
           0.84,
           49.46,
           51.93,
           99.84,
           4.83,
           52.59,
           51.85
          ],
          [
           "Misiones",
           "Accesos 100 Hog",
           56.76,
           56.27,
           57.4,
           98.89,
           0.87,
           93.65,
           98.33,
           96.59,
           1.42,
           56.76,
           94.98
          ],
          [
           "Neuquén",
           "Accesos 100 Hog",
           79.5,
           79.91,
           81.51,
           97.54,
           -0.51,
           99.63,
           104.61,
           93.83,
           -1.48,
           79.5,
           98.16
          ],
          [
           "Río Negro",
           "Accesos 100 Hog",
           71.14,
           70.26,
           71.67,
           99.27,
           1.25,
           74.37,
           78.09,
           96.04,
           0.85,
           71.14,
           75
          ],
          [
           "Salta",
           "Accesos 100 Hog",
           56.3,
           56.98,
           58.12,
           96.87,
           -1.19,
           83.04,
           87.19,
           96.73,
           1.57,
           56.3,
           84.34
          ],
          [
           "San Juan",
           "Accesos 100 Hog",
           51.62,
           50.08,
           51.08,
           101.05,
           3.08,
           24.78,
           26.02,
           117.53,
           23.41,
           51.62,
           30.58
          ],
          [
           "San Luis",
           "Accesos 100 Hog",
           102.7,
           102.07,
           104.11,
           98.64,
           0.62,
           174.59,
           183.32,
           97.91,
           2.81,
           102.7,
           179.49
          ],
          [
           "Santa Cruz",
           "Accesos 100 Hog",
           67.58,
           73.75,
           75.22,
           89.84,
           -8.37,
           36.77,
           38.61,
           81.85,
           -14.06,
           67.58,
           31.6
          ],
          [
           "Santa Fe",
           "Accesos 100 Hog",
           80.4,
           79.75,
           81.35,
           98.84,
           0.82,
           99.81,
           104.8,
           95.61,
           0.39,
           80.4,
           100.2
          ],
          [
           "S. del Estero",
           "Accesos 100 Hog",
           49.41,
           49.08,
           50.06,
           98.7,
           0.67,
           44.22,
           46.43,
           96.7,
           1.54,
           49.41,
           44.9
          ],
          [
           "Tucumán",
           "Accesos 100 Hog",
           60.48,
           61.04,
           62.26,
           97.14,
           -0.92,
           101.55,
           106.63,
           96.94,
           1.78,
           60.48,
           103.36
          ],
          [
           "T del Fuego",
           "Accesos 100 Hog",
           109.78,
           110.49,
           112.7,
           97.41,
           -0.64,
           17.92,
           18.82,
           114.48,
           20.2,
           109.78,
           21.54
          ]
         ],
         "hoverlabel": {
          "bgcolor": "white",
          "font": {
           "color": "black",
           "size": 16
          }
         },
         "hovertemplate": "<b>Provincia: %{customdata[0]}</b><br>Accesos 100 Hog del Trimestre: %{customdata[11]}<br>MBPS del Trimestre: %{customdata[12]}<br></br><b>KPI Accesos 100 Hog: Crecimiento Trimestral 2%</b><br>Valor Anterior: %{customdata[3]}<br><b>Objetivo KPI: %{customdata[4]}</b><br><b>Cumplimiento KPI: %{customdata[5]} %</b><br>Crecimiento Trimestral: %{customdata[6]} %<br><br><b>KPI MBPS: Crecimiento Trimestral 5%</b><br>Valor Anterior: %{customdata[7]}<br><b>Objetivo KPI: %{customdata[8]}</b><br><b>Cumplimiento KPI: %{customdata[9]} % </b><br>Crecimiento Trimestral: %{customdata[10]} %",
         "legendgroup": "Accesos 100 Hog",
         "marker": {
          "color": "#636efa",
          "pattern": {
           "shape": ""
          }
         },
         "name": "Accesos 100 Hog",
         "offsetgroup": "Accesos 100 Hog",
         "orientation": "v",
         "showlegend": true,
         "textposition": "auto",
         "type": "bar",
         "width": 0.4,
         "x": [
          "CABA",
          "Buenos Aires",
          "Catamarca",
          "Córdoba",
          "Corrientes",
          "Chaco",
          "Chubut",
          "Entre Ríos",
          "Formosa",
          "Jujuy",
          "La Pampa",
          "La Rioja",
          "Mendoza",
          "Misiones",
          "Neuquén",
          "Río Negro",
          "Salta",
          "San Juan",
          "San Luis",
          "Santa Cruz",
          "Santa Fe",
          "S. del Estero",
          "Tucumán",
          "T del Fuego"
         ],
         "xaxis": "x",
         "y": [
          119.53,
          81.1,
          68.82,
          90.7,
          51.94,
          46.7,
          84.89,
          69.31,
          39.61,
          57.65,
          100.49,
          80.03,
          52.59,
          56.76,
          79.5,
          71.14,
          56.3,
          51.62,
          102.7,
          67.58,
          80.4,
          49.41,
          60.48,
          109.78
         ],
         "yaxis": "y"
        },
        {
         "alignmentgroup": "True",
         "customdata": [
          [
           "CABA",
           "MBPS Media Bajada",
           229.94,
           117.02,
           119.36,
           100.14,
           2.14,
           234.44,
           246.16,
           93.41,
           -1.92,
           119.53,
           229.94
          ],
          [
           "Buenos Aires",
           "MBPS Media Bajada",
           159.13,
           80.96,
           82.58,
           98.21,
           0.17,
           158.49,
           166.41,
           95.62,
           0.4,
           81.1,
           159.13
          ],
          [
           "Catamarca",
           "MBPS Media Bajada",
           91.45,
           68.63,
           70,
           98.31,
           0.28,
           89.4,
           93.87,
           97.42,
           2.29,
           68.82,
           91.45
          ],
          [
           "Córdoba",
           "MBPS Media Bajada",
           114.89,
           90.67,
           92.48,
           98.07,
           0.03,
           114.03,
           119.73,
           95.96,
           0.75,
           90.7,
           114.89
          ],
          [
           "Corrientes",
           "MBPS Media Bajada",
           102.49,
           52.56,
           53.61,
           96.88,
           -1.18,
           100.9,
           105.95,
           96.74,
           1.58,
           51.94,
           102.49
          ],
          [
           "Chaco",
           "MBPS Media Bajada",
           107.51,
           44.35,
           45.24,
           103.23,
           5.3,
           107.14,
           112.5,
           95.57,
           0.35,
           46.7,
           107.51
          ],
          [
           "Chubut",
           "MBPS Media Bajada",
           20.5,
           84.96,
           86.66,
           97.96,
           -0.08,
           20.29,
           21.3,
           96.22,
           1.03,
           84.89,
           20.5
          ],
          [
           "Entre Ríos",
           "MBPS Media Bajada",
           101.36,
           69.94,
           71.34,
           97.16,
           -0.9,
           101.18,
           106.24,
           95.41,
           0.18,
           69.31,
           101.36
          ],
          [
           "Formosa",
           "MBPS Media Bajada",
           83.8,
           39.23,
           40.01,
           98.99,
           0.97,
           83.35,
           87.52,
           95.75,
           0.54,
           39.61,
           83.8
          ],
          [
           "Jujuy",
           "MBPS Media Bajada",
           47.52,
           57.78,
           58.94,
           97.82,
           -0.22,
           46.2,
           48.51,
           97.96,
           2.86,
           57.65,
           47.52
          ],
          [
           "La Pampa",
           "MBPS Media Bajada",
           26.55,
           99.96,
           101.96,
           98.56,
           0.53,
           25.61,
           26.89,
           98.73,
           3.67,
           100.49,
           26.55
          ],
          [
           "La Rioja",
           "MBPS Media Bajada",
           63.71,
           80.22,
           81.82,
           97.81,
           -0.24,
           64.18,
           67.39,
           94.54,
           -0.73,
           80.03,
           63.71
          ],
          [
           "Mendoza",
           "MBPS Media Bajada",
           51.85,
           52.15,
           53.19,
           98.87,
           0.84,
           49.46,
           51.93,
           99.84,
           4.83,
           52.59,
           51.85
          ],
          [
           "Misiones",
           "MBPS Media Bajada",
           94.98,
           56.27,
           57.4,
           98.89,
           0.87,
           93.65,
           98.33,
           96.59,
           1.42,
           56.76,
           94.98
          ],
          [
           "Neuquén",
           "MBPS Media Bajada",
           98.16,
           79.91,
           81.51,
           97.54,
           -0.51,
           99.63,
           104.61,
           93.83,
           -1.48,
           79.5,
           98.16
          ],
          [
           "Río Negro",
           "MBPS Media Bajada",
           75,
           70.26,
           71.67,
           99.27,
           1.25,
           74.37,
           78.09,
           96.04,
           0.85,
           71.14,
           75
          ],
          [
           "Salta",
           "MBPS Media Bajada",
           84.34,
           56.98,
           58.12,
           96.87,
           -1.19,
           83.04,
           87.19,
           96.73,
           1.57,
           56.3,
           84.34
          ],
          [
           "San Juan",
           "MBPS Media Bajada",
           30.58,
           50.08,
           51.08,
           101.05,
           3.08,
           24.78,
           26.02,
           117.53,
           23.41,
           51.62,
           30.58
          ],
          [
           "San Luis",
           "MBPS Media Bajada",
           179.49,
           102.07,
           104.11,
           98.64,
           0.62,
           174.59,
           183.32,
           97.91,
           2.81,
           102.7,
           179.49
          ],
          [
           "Santa Cruz",
           "MBPS Media Bajada",
           31.6,
           73.75,
           75.22,
           89.84,
           -8.37,
           36.77,
           38.61,
           81.85,
           -14.06,
           67.58,
           31.6
          ],
          [
           "Santa Fe",
           "MBPS Media Bajada",
           100.2,
           79.75,
           81.35,
           98.84,
           0.82,
           99.81,
           104.8,
           95.61,
           0.39,
           80.4,
           100.2
          ],
          [
           "S. del Estero",
           "MBPS Media Bajada",
           44.9,
           49.08,
           50.06,
           98.7,
           0.67,
           44.22,
           46.43,
           96.7,
           1.54,
           49.41,
           44.9
          ],
          [
           "Tucumán",
           "MBPS Media Bajada",
           103.36,
           61.04,
           62.26,
           97.14,
           -0.92,
           101.55,
           106.63,
           96.94,
           1.78,
           60.48,
           103.36
          ],
          [
           "T del Fuego",
           "MBPS Media Bajada",
           21.54,
           110.49,
           112.7,
           97.41,
           -0.64,
           17.92,
           18.82,
           114.48,
           20.2,
           109.78,
           21.54
          ]
         ],
         "hoverlabel": {
          "bgcolor": "white",
          "font": {
           "color": "black",
           "size": 16
          }
         },
         "hovertemplate": "<b>Provincia: %{customdata[0]}</b><br>Accesos 100 Hog del Trimestre: %{customdata[11]}<br>MBPS del Trimestre: %{customdata[12]}<br></br><b>KPI Accesos 100 Hog: Crecimiento Trimestral 2%</b><br>Valor Anterior: %{customdata[3]}<br><b>Objetivo KPI: %{customdata[4]}</b><br><b>Cumplimiento KPI: %{customdata[5]} %</b><br>Crecimiento Trimestral: %{customdata[6]} %<br><br><b>KPI MBPS: Crecimiento Trimestral 5%</b><br>Valor Anterior: %{customdata[7]}<br><b>Objetivo KPI: %{customdata[8]}</b><br><b>Cumplimiento KPI: %{customdata[9]} % </b><br>Crecimiento Trimestral: %{customdata[10]} %",
         "legendgroup": "MBPS Media Bajada",
         "marker": {
          "color": "#EF553B",
          "pattern": {
           "shape": ""
          }
         },
         "name": "MBPS Media Bajada",
         "offsetgroup": "MBPS Media Bajada",
         "orientation": "v",
         "showlegend": true,
         "textposition": "auto",
         "type": "bar",
         "width": 0.4,
         "x": [
          "CABA",
          "Buenos Aires",
          "Catamarca",
          "Córdoba",
          "Corrientes",
          "Chaco",
          "Chubut",
          "Entre Ríos",
          "Formosa",
          "Jujuy",
          "La Pampa",
          "La Rioja",
          "Mendoza",
          "Misiones",
          "Neuquén",
          "Río Negro",
          "Salta",
          "San Juan",
          "San Luis",
          "Santa Cruz",
          "Santa Fe",
          "S. del Estero",
          "Tucumán",
          "T del Fuego"
         ],
         "xaxis": "x",
         "y": [
          229.94,
          159.13,
          91.45,
          114.89,
          102.49,
          107.51,
          20.5,
          101.36,
          83.8,
          47.52,
          26.55,
          63.71,
          51.85,
          94.98,
          98.16,
          75,
          84.34,
          30.58,
          179.49,
          31.6,
          100.2,
          44.9,
          103.36,
          21.54
         ],
         "yaxis": "y"
        }
       ],
       "layout": {
        "barmode": "group",
        "font": {
         "color": "black",
         "size": 14
        },
        "legend": {
         "orientation": "v",
         "title": {
          "text": "Metrica"
         },
         "tracegroupgap": 0,
         "x": 0.8,
         "y": 1.1
        },
        "margin": {
         "t": 60
        },
        "template": {
         "data": {
          "bar": [
           {
            "error_x": {
             "color": "#2a3f5f"
            },
            "error_y": {
             "color": "#2a3f5f"
            },
            "marker": {
             "line": {
              "color": "#E5ECF6",
              "width": 0.5
             },
             "pattern": {
              "fillmode": "overlay",
              "size": 10,
              "solidity": 0.2
             }
            },
            "type": "bar"
           }
          ],
          "barpolar": [
           {
            "marker": {
             "line": {
              "color": "#E5ECF6",
              "width": 0.5
             },
             "pattern": {
              "fillmode": "overlay",
              "size": 10,
              "solidity": 0.2
             }
            },
            "type": "barpolar"
           }
          ],
          "carpet": [
           {
            "aaxis": {
             "endlinecolor": "#2a3f5f",
             "gridcolor": "white",
             "linecolor": "white",
             "minorgridcolor": "white",
             "startlinecolor": "#2a3f5f"
            },
            "baxis": {
             "endlinecolor": "#2a3f5f",
             "gridcolor": "white",
             "linecolor": "white",
             "minorgridcolor": "white",
             "startlinecolor": "#2a3f5f"
            },
            "type": "carpet"
           }
          ],
          "choropleth": [
           {
            "colorbar": {
             "outlinewidth": 0,
             "ticks": ""
            },
            "type": "choropleth"
           }
          ],
          "contour": [
           {
            "colorbar": {
             "outlinewidth": 0,
             "ticks": ""
            },
            "colorscale": [
             [
              0,
              "#0d0887"
             ],
             [
              0.1111111111111111,
              "#46039f"
             ],
             [
              0.2222222222222222,
              "#7201a8"
             ],
             [
              0.3333333333333333,
              "#9c179e"
             ],
             [
              0.4444444444444444,
              "#bd3786"
             ],
             [
              0.5555555555555556,
              "#d8576b"
             ],
             [
              0.6666666666666666,
              "#ed7953"
             ],
             [
              0.7777777777777778,
              "#fb9f3a"
             ],
             [
              0.8888888888888888,
              "#fdca26"
             ],
             [
              1,
              "#f0f921"
             ]
            ],
            "type": "contour"
           }
          ],
          "contourcarpet": [
           {
            "colorbar": {
             "outlinewidth": 0,
             "ticks": ""
            },
            "type": "contourcarpet"
           }
          ],
          "heatmap": [
           {
            "colorbar": {
             "outlinewidth": 0,
             "ticks": ""
            },
            "colorscale": [
             [
              0,
              "#0d0887"
             ],
             [
              0.1111111111111111,
              "#46039f"
             ],
             [
              0.2222222222222222,
              "#7201a8"
             ],
             [
              0.3333333333333333,
              "#9c179e"
             ],
             [
              0.4444444444444444,
              "#bd3786"
             ],
             [
              0.5555555555555556,
              "#d8576b"
             ],
             [
              0.6666666666666666,
              "#ed7953"
             ],
             [
              0.7777777777777778,
              "#fb9f3a"
             ],
             [
              0.8888888888888888,
              "#fdca26"
             ],
             [
              1,
              "#f0f921"
             ]
            ],
            "type": "heatmap"
           }
          ],
          "heatmapgl": [
           {
            "colorbar": {
             "outlinewidth": 0,
             "ticks": ""
            },
            "colorscale": [
             [
              0,
              "#0d0887"
             ],
             [
              0.1111111111111111,
              "#46039f"
             ],
             [
              0.2222222222222222,
              "#7201a8"
             ],
             [
              0.3333333333333333,
              "#9c179e"
             ],
             [
              0.4444444444444444,
              "#bd3786"
             ],
             [
              0.5555555555555556,
              "#d8576b"
             ],
             [
              0.6666666666666666,
              "#ed7953"
             ],
             [
              0.7777777777777778,
              "#fb9f3a"
             ],
             [
              0.8888888888888888,
              "#fdca26"
             ],
             [
              1,
              "#f0f921"
             ]
            ],
            "type": "heatmapgl"
           }
          ],
          "histogram": [
           {
            "marker": {
             "pattern": {
              "fillmode": "overlay",
              "size": 10,
              "solidity": 0.2
             }
            },
            "type": "histogram"
           }
          ],
          "histogram2d": [
           {
            "colorbar": {
             "outlinewidth": 0,
             "ticks": ""
            },
            "colorscale": [
             [
              0,
              "#0d0887"
             ],
             [
              0.1111111111111111,
              "#46039f"
             ],
             [
              0.2222222222222222,
              "#7201a8"
             ],
             [
              0.3333333333333333,
              "#9c179e"
             ],
             [
              0.4444444444444444,
              "#bd3786"
             ],
             [
              0.5555555555555556,
              "#d8576b"
             ],
             [
              0.6666666666666666,
              "#ed7953"
             ],
             [
              0.7777777777777778,
              "#fb9f3a"
             ],
             [
              0.8888888888888888,
              "#fdca26"
             ],
             [
              1,
              "#f0f921"
             ]
            ],
            "type": "histogram2d"
           }
          ],
          "histogram2dcontour": [
           {
            "colorbar": {
             "outlinewidth": 0,
             "ticks": ""
            },
            "colorscale": [
             [
              0,
              "#0d0887"
             ],
             [
              0.1111111111111111,
              "#46039f"
             ],
             [
              0.2222222222222222,
              "#7201a8"
             ],
             [
              0.3333333333333333,
              "#9c179e"
             ],
             [
              0.4444444444444444,
              "#bd3786"
             ],
             [
              0.5555555555555556,
              "#d8576b"
             ],
             [
              0.6666666666666666,
              "#ed7953"
             ],
             [
              0.7777777777777778,
              "#fb9f3a"
             ],
             [
              0.8888888888888888,
              "#fdca26"
             ],
             [
              1,
              "#f0f921"
             ]
            ],
            "type": "histogram2dcontour"
           }
          ],
          "mesh3d": [
           {
            "colorbar": {
             "outlinewidth": 0,
             "ticks": ""
            },
            "type": "mesh3d"
           }
          ],
          "parcoords": [
           {
            "line": {
             "colorbar": {
              "outlinewidth": 0,
              "ticks": ""
             }
            },
            "type": "parcoords"
           }
          ],
          "pie": [
           {
            "automargin": true,
            "type": "pie"
           }
          ],
          "scatter": [
           {
            "fillpattern": {
             "fillmode": "overlay",
             "size": 10,
             "solidity": 0.2
            },
            "type": "scatter"
           }
          ],
          "scatter3d": [
           {
            "line": {
             "colorbar": {
              "outlinewidth": 0,
              "ticks": ""
             }
            },
            "marker": {
             "colorbar": {
              "outlinewidth": 0,
              "ticks": ""
             }
            },
            "type": "scatter3d"
           }
          ],
          "scattercarpet": [
           {
            "marker": {
             "colorbar": {
              "outlinewidth": 0,
              "ticks": ""
             }
            },
            "type": "scattercarpet"
           }
          ],
          "scattergeo": [
           {
            "marker": {
             "colorbar": {
              "outlinewidth": 0,
              "ticks": ""
             }
            },
            "type": "scattergeo"
           }
          ],
          "scattergl": [
           {
            "marker": {
             "colorbar": {
              "outlinewidth": 0,
              "ticks": ""
             }
            },
            "type": "scattergl"
           }
          ],
          "scattermapbox": [
           {
            "marker": {
             "colorbar": {
              "outlinewidth": 0,
              "ticks": ""
             }
            },
            "type": "scattermapbox"
           }
          ],
          "scatterpolar": [
           {
            "marker": {
             "colorbar": {
              "outlinewidth": 0,
              "ticks": ""
             }
            },
            "type": "scatterpolar"
           }
          ],
          "scatterpolargl": [
           {
            "marker": {
             "colorbar": {
              "outlinewidth": 0,
              "ticks": ""
             }
            },
            "type": "scatterpolargl"
           }
          ],
          "scatterternary": [
           {
            "marker": {
             "colorbar": {
              "outlinewidth": 0,
              "ticks": ""
             }
            },
            "type": "scatterternary"
           }
          ],
          "surface": [
           {
            "colorbar": {
             "outlinewidth": 0,
             "ticks": ""
            },
            "colorscale": [
             [
              0,
              "#0d0887"
             ],
             [
              0.1111111111111111,
              "#46039f"
             ],
             [
              0.2222222222222222,
              "#7201a8"
             ],
             [
              0.3333333333333333,
              "#9c179e"
             ],
             [
              0.4444444444444444,
              "#bd3786"
             ],
             [
              0.5555555555555556,
              "#d8576b"
             ],
             [
              0.6666666666666666,
              "#ed7953"
             ],
             [
              0.7777777777777778,
              "#fb9f3a"
             ],
             [
              0.8888888888888888,
              "#fdca26"
             ],
             [
              1,
              "#f0f921"
             ]
            ],
            "type": "surface"
           }
          ],
          "table": [
           {
            "cells": {
             "fill": {
              "color": "#EBF0F8"
             },
             "line": {
              "color": "white"
             }
            },
            "header": {
             "fill": {
              "color": "#C8D4E3"
             },
             "line": {
              "color": "white"
             }
            },
            "type": "table"
           }
          ]
         },
         "layout": {
          "annotationdefaults": {
           "arrowcolor": "#2a3f5f",
           "arrowhead": 0,
           "arrowwidth": 1
          },
          "autotypenumbers": "strict",
          "coloraxis": {
           "colorbar": {
            "outlinewidth": 0,
            "ticks": ""
           }
          },
          "colorscale": {
           "diverging": [
            [
             0,
             "#8e0152"
            ],
            [
             0.1,
             "#c51b7d"
            ],
            [
             0.2,
             "#de77ae"
            ],
            [
             0.3,
             "#f1b6da"
            ],
            [
             0.4,
             "#fde0ef"
            ],
            [
             0.5,
             "#f7f7f7"
            ],
            [
             0.6,
             "#e6f5d0"
            ],
            [
             0.7,
             "#b8e186"
            ],
            [
             0.8,
             "#7fbc41"
            ],
            [
             0.9,
             "#4d9221"
            ],
            [
             1,
             "#276419"
            ]
           ],
           "sequential": [
            [
             0,
             "#0d0887"
            ],
            [
             0.1111111111111111,
             "#46039f"
            ],
            [
             0.2222222222222222,
             "#7201a8"
            ],
            [
             0.3333333333333333,
             "#9c179e"
            ],
            [
             0.4444444444444444,
             "#bd3786"
            ],
            [
             0.5555555555555556,
             "#d8576b"
            ],
            [
             0.6666666666666666,
             "#ed7953"
            ],
            [
             0.7777777777777778,
             "#fb9f3a"
            ],
            [
             0.8888888888888888,
             "#fdca26"
            ],
            [
             1,
             "#f0f921"
            ]
           ],
           "sequentialminus": [
            [
             0,
             "#0d0887"
            ],
            [
             0.1111111111111111,
             "#46039f"
            ],
            [
             0.2222222222222222,
             "#7201a8"
            ],
            [
             0.3333333333333333,
             "#9c179e"
            ],
            [
             0.4444444444444444,
             "#bd3786"
            ],
            [
             0.5555555555555556,
             "#d8576b"
            ],
            [
             0.6666666666666666,
             "#ed7953"
            ],
            [
             0.7777777777777778,
             "#fb9f3a"
            ],
            [
             0.8888888888888888,
             "#fdca26"
            ],
            [
             1,
             "#f0f921"
            ]
           ]
          },
          "colorway": [
           "#636efa",
           "#EF553B",
           "#00cc96",
           "#ab63fa",
           "#FFA15A",
           "#19d3f3",
           "#FF6692",
           "#B6E880",
           "#FF97FF",
           "#FECB52"
          ],
          "font": {
           "color": "#2a3f5f"
          },
          "geo": {
           "bgcolor": "white",
           "lakecolor": "white",
           "landcolor": "#E5ECF6",
           "showlakes": true,
           "showland": true,
           "subunitcolor": "white"
          },
          "hoverlabel": {
           "align": "left"
          },
          "hovermode": "closest",
          "mapbox": {
           "style": "light"
          },
          "paper_bgcolor": "white",
          "plot_bgcolor": "#E5ECF6",
          "polar": {
           "angularaxis": {
            "gridcolor": "white",
            "linecolor": "white",
            "ticks": ""
           },
           "bgcolor": "#E5ECF6",
           "radialaxis": {
            "gridcolor": "white",
            "linecolor": "white",
            "ticks": ""
           }
          },
          "scene": {
           "xaxis": {
            "backgroundcolor": "#E5ECF6",
            "gridcolor": "white",
            "gridwidth": 2,
            "linecolor": "white",
            "showbackground": true,
            "ticks": "",
            "zerolinecolor": "white"
           },
           "yaxis": {
            "backgroundcolor": "#E5ECF6",
            "gridcolor": "white",
            "gridwidth": 2,
            "linecolor": "white",
            "showbackground": true,
            "ticks": "",
            "zerolinecolor": "white"
           },
           "zaxis": {
            "backgroundcolor": "#E5ECF6",
            "gridcolor": "white",
            "gridwidth": 2,
            "linecolor": "white",
            "showbackground": true,
            "ticks": "",
            "zerolinecolor": "white"
           }
          },
          "shapedefaults": {
           "line": {
            "color": "#2a3f5f"
           }
          },
          "ternary": {
           "aaxis": {
            "gridcolor": "white",
            "linecolor": "white",
            "ticks": ""
           },
           "baxis": {
            "gridcolor": "white",
            "linecolor": "white",
            "ticks": ""
           },
           "bgcolor": "#E5ECF6",
           "caxis": {
            "gridcolor": "white",
            "linecolor": "white",
            "ticks": ""
           }
          },
          "title": {
           "x": 0.05
          },
          "xaxis": {
           "automargin": true,
           "gridcolor": "white",
           "linecolor": "white",
           "ticks": "",
           "title": {
            "standoff": 15
           },
           "zerolinecolor": "white",
           "zerolinewidth": 2
          },
          "yaxis": {
           "automargin": true,
           "gridcolor": "white",
           "linecolor": "white",
           "ticks": "",
           "title": {
            "standoff": 15
           },
           "zerolinecolor": "white",
           "zerolinewidth": 2
          }
         }
        },
        "title": {
         "text": "Accesos 100 Hog y MBPS por Provincia en el periodo  (Ene - Mar 2024)"
        },
        "xaxis": {
         "anchor": "y",
         "domain": [
          0,
          1
         ],
         "linecolor": "black",
         "showgrid": false,
         "tickangle": -90,
         "title": {
          "text": ""
         },
         "zeroline": true
        },
        "yaxis": {
         "anchor": "x",
         "domain": [
          0,
          1
         ],
         "linecolor": "black",
         "showgrid": false,
         "title": {
          "text": "Accesos"
         },
         "zeroline": true
        }
       }
      }
     },
     "metadata": {},
     "output_type": "display_data"
    }
   ],
   "source": [
    "periodo = 'Ene - Mar 2024'\n",
    "mask = data['Periodo'] == periodo\n",
    "df = data.filter(mask)\n",
    "\n",
    "fig = retorna_barras_eda_05(df=df, periodo=periodo)\n",
    "\n",
    "fig.show(config=config)"
   ]
  },
  {
   "cell_type": "markdown",
   "metadata": {},
   "source": [
    "### **Conclusiones:**\n",
    "- Los accesos de Internet no han dejado de Crecer en la última decada en Argentina.\n",
    "- Existen Provincias con una penetración de servicios de Internet MUY ALTA, tal es el caso de la Ciudad Autonóma de Buenos Aires, y otras como San Juan o Chaco donde es menor\n",
    "- Aunque la Media de la Velocidad de Bajada en la actualidad es alta, hay que considerar que es una `MEDIA` y por lo rápido de su crecimiento, pudiera sugerir que es todavía un porcentaje muy bajo de la población los que disponen de accesos a Internet de alta velocidad.\n",
    "\n",
    "### **Recomendaciones:**\n",
    "- Profundizar en le estudio de las localidades, ya que las poblaciones muestran Medias, donde las realidades de las Ciudades con alta densidad de Población (pudieran ser las capitales y ciudades importantes de cada provincia) tienen una realidad a otras localidades mas pequeñas y/o alejadas de GRANDES centros urbanos.  \n",
    "- En sintonia con el punto anterior estudiar/utilizar la herramienta de visualización en el apartado `Mapa de Oportunidades` para ubicar localidades con baja penetracion de Internet y/o donde todavia predominen tecnologías como `Adsl` o `Wireles`, cuyos usuarios presumimos estén dispuestos a migrar a servicios de mas alta velocidad de conexión.\n",
    "- Estudiar la Posibilidad de Ofrecer servicio de Internet Inalambrico de Alta Velocidad, como el Satelital, donde no se requiere una alta inversión en tendido de cablería y por ende no se estará limitado a centros con alta densidad poblacional.\n",
    "\n",
    "\n"
   ]
  },
  {
   "cell_type": "markdown",
   "metadata": {},
   "source": []
  }
 ],
 "metadata": {
  "kernelspec": {
   "display_name": "labs_2",
   "language": "python",
   "name": "python3"
  },
  "language_info": {
   "codemirror_mode": {
    "name": "ipython",
    "version": 3
   },
   "file_extension": ".py",
   "mimetype": "text/x-python",
   "name": "python",
   "nbconvert_exporter": "python",
   "pygments_lexer": "ipython3",
   "version": "3.10.11"
  }
 },
 "nbformat": 4,
 "nbformat_minor": 2
}
